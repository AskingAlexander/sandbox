{
 "cells": [
  {
   "cell_type": "code",
   "execution_count": 6,
   "metadata": {
    "ExecuteTime": {
     "end_time": "2019-07-27T19:56:47.645515Z",
     "start_time": "2019-07-27T19:56:47.639758Z"
    }
   },
   "outputs": [],
   "source": [
    "import pandas as pd\n",
    "import numpy as np\n",
    "import matplotlib.pyplot as plt\n",
    "from scipy.special import logit\n",
    "\n",
    "from IPython.display import display\n",
    "\n",
    "from keras.layers import (Input, Dense, Lambda, Flatten, Reshape, BatchNormalization, Layer,\n",
    "                          Activation, Dropout, Conv2D, Conv2DTranspose,\n",
    "                          Concatenate, Add, Multiply)\n",
    "from keras.engine import InputSpec\n",
    "from keras.losses import sparse_categorical_crossentropy\n",
    "from keras.optimizers import RMSprop, Adam\n",
    "from keras.models import Model\n",
    "from keras import metrics\n",
    "from keras import backend as K\n",
    "from keras_tqdm import TQDMNotebookCallback\n",
    "from keras.datasets import cifar10\n",
    "\n",
    "\n",
    "%matplotlib inline"
   ]
  },
  {
   "cell_type": "code",
   "execution_count": 112,
   "metadata": {
    "ExecuteTime": {
     "end_time": "2019-07-28T12:59:19.847693Z",
     "start_time": "2019-07-28T12:59:19.839147Z"
    }
   },
   "outputs": [],
   "source": [
    "class Mask(Layer):\n",
    "    def __init__(self, mask_type, *args, **kwargs):\n",
    "        mask_type in ['check_even', 'check_odd', 'channel_even', 'channel_odd']\n",
    "        self.mask_type = mask_type\n",
    "        super().__init__(*args, **kwargs)\n",
    "\n",
    "    def build_mask(self, input_shape):\n",
    "        def spatial_mask_value(row, col):\n",
    "            if row % 2 == 0:\n",
    "                ret = 1 if col % 2 == 0 else 0\n",
    "            else:\n",
    "                ret = 0 if col % 2 == 0 else 1\n",
    "                \n",
    "            return ret if self.mask_type == 'check_even' else 1 - ret\n",
    "        \n",
    "        def channel_mask(chn):\n",
    "            return 1 - chn % 2 if self.mask_type == 'channel_even' else chn % 2\n",
    "        \n",
    "        data = np.ones(input_shape)\n",
    "        for row in range(input_shape[0]):\n",
    "            for col in range(input_shape[1]):\n",
    "                for chn in range(input_shape[2]):\n",
    "                    if self.mask_type in ['check_even', 'check_odd']:\n",
    "                        data[row, col, chn] = spatial_mask_value(row, col)\n",
    "                    else:\n",
    "                        assert self.mask_type in ['channel_even', 'channel_odd']\n",
    "                        # channel mask\n",
    "                        data[row, col, chn] = channel_mask(chn)\n",
    "        \n",
    "        return K.constant(np.ravel(data), dtype='float32', shape=input_shape)\n",
    "\n",
    "    def build(self, input_shape):\n",
    "        assert len(input_shape) == 4, \\\n",
    "        'Layer assumes a (batch, row, col, chn) dimensions got {}'.format(input_shape)\n",
    "        \n",
    "        # Assume channel_last (tensorflow)\n",
    "        channel_axis = -1\n",
    "        if input_shape[channel_axis] is None:\n",
    "            raise ValueError('The channel dimension of the inputs '\n",
    "                             'should be defined. Found `None`.')\n",
    "        input_dim = input_shape[channel_axis]\n",
    "        \n",
    "        self.mask = self.build_mask(input_shape[1:])\n",
    "\n",
    "        # Set input spec.\n",
    "        self.input_spec = InputSpec(ndim=len(input_shape), \n",
    "                                    axes={channel_axis: input_dim})\n",
    "        self.built = True\n",
    "\n",
    "    def call(self, inputs):\n",
    "        return self.mask * inputs "
   ]
  },
  {
   "cell_type": "code",
   "execution_count": 128,
   "metadata": {
    "ExecuteTime": {
     "end_time": "2019-07-28T13:03:38.218094Z",
     "start_time": "2019-07-28T13:03:38.214657Z"
    }
   },
   "outputs": [],
   "source": [
    "shape = (4, 4, 3)\n",
    "test_tensor = np.ceil(np.random.rand(*((1,) + shape)))\n",
    "\n",
    "def build_network(mask_type):\n",
    "    x = Input(shape=shape)\n",
    "    out = Mask(mask_type)(x)\n",
    "    model = Model(inputs=x, outputs=out)\n",
    "    model.compile(optimizer='rmsprop', loss='mse')\n",
    "    \n",
    "    return model"
   ]
  },
  {
   "cell_type": "code",
   "execution_count": 133,
   "metadata": {
    "ExecuteTime": {
     "end_time": "2019-07-28T13:04:35.046030Z",
     "start_time": "2019-07-28T13:04:34.895749Z"
    }
   },
   "outputs": [
    {
     "data": {
      "text/plain": [
       "array([[1., 0., 1., 0.],\n",
       "       [0., 1., 0., 1.],\n",
       "       [1., 0., 1., 0.],\n",
       "       [0., 1., 0., 1.]], dtype=float32)"
      ]
     },
     "execution_count": 133,
     "metadata": {},
     "output_type": "execute_result"
    }
   ],
   "source": [
    "model = build_network('check_even')\n",
    "out = model.predict(test_tensor)\n",
    "assert (out[0, :, :, 0] == out[0, :, :, 1]).all()\n",
    "assert (out[0, :, :, 0] == out[0, :, :, 2]).all()\n",
    "out[0, :, :, 0]"
   ]
  },
  {
   "cell_type": "code",
   "execution_count": 134,
   "metadata": {
    "ExecuteTime": {
     "end_time": "2019-07-28T13:04:43.805243Z",
     "start_time": "2019-07-28T13:04:43.655923Z"
    }
   },
   "outputs": [
    {
     "data": {
      "text/plain": [
       "array([[0., 1., 0., 1.],\n",
       "       [1., 0., 1., 0.],\n",
       "       [0., 1., 0., 1.],\n",
       "       [1., 0., 1., 0.]], dtype=float32)"
      ]
     },
     "execution_count": 134,
     "metadata": {},
     "output_type": "execute_result"
    }
   ],
   "source": [
    "model = build_network('check_odd')\n",
    "out = model.predict(test_tensor)\n",
    "assert (out[0, :, :, 0] == out[0, :, :, 1]).all()\n",
    "assert (out[0, :, :, 0] == out[0, :, :, 2]).all()\n",
    "out[0, :, :, 0]"
   ]
  },
  {
   "cell_type": "code",
   "execution_count": 137,
   "metadata": {
    "ExecuteTime": {
     "end_time": "2019-07-28T13:06:53.434848Z",
     "start_time": "2019-07-28T13:06:53.268591Z"
    }
   },
   "outputs": [
    {
     "name": "stdout",
     "output_type": "stream",
     "text": [
      "[[1. 1. 1. 1.]\n",
      " [1. 1. 1. 1.]\n",
      " [1. 1. 1. 1.]\n",
      " [1. 1. 1. 1.]]\n",
      "[[0. 0. 0. 0.]\n",
      " [0. 0. 0. 0.]\n",
      " [0. 0. 0. 0.]\n",
      " [0. 0. 0. 0.]]\n"
     ]
    }
   ],
   "source": [
    "model = build_network('channel_even')\n",
    "out = model.predict(test_tensor)\n",
    "assert (out[0, :, :, 0] == out[0, :, :, 2]).all()\n",
    "assert (out[0, :, :, 1] == 0).all()\n",
    "print(out[0, :, :, 0])\n",
    "print(out[0, :, :, 1])"
   ]
  },
  {
   "cell_type": "code",
   "execution_count": 140,
   "metadata": {
    "ExecuteTime": {
     "end_time": "2019-07-28T13:06:53.434848Z",
     "start_time": "2019-07-28T13:06:53.268591Z"
    }
   },
   "outputs": [
    {
     "name": "stdout",
     "output_type": "stream",
     "text": [
      "[[0. 0. 0. 0.]\n",
      " [0. 0. 0. 0.]\n",
      " [0. 0. 0. 0.]\n",
      " [0. 0. 0. 0.]]\n",
      "[[1. 1. 1. 1.]\n",
      " [1. 1. 1. 1.]\n",
      " [1. 1. 1. 1.]\n",
      " [1. 1. 1. 1.]]\n"
     ]
    }
   ],
   "source": [
    "model = build_network('channel_odd')\n",
    "out = model.predict(test_tensor)\n",
    "assert (out[0, :, :, 0] == 0).all()\n",
    "assert (out[0, :, :, 1] == 1).all()\n",
    "assert (out[0, :, :, 0] == 0).all()\n",
    "print(out[0, :, :, 0])\n",
    "print(out[0, :, :, 1])"
   ]
  },
  {
   "cell_type": "markdown",
   "metadata": {},
   "source": [
    "# 2019-07-28\n",
    "\n",
    "* Create a simple masking layer that I can use as a building block in the network"
   ]
  },
  {
   "cell_type": "code",
   "execution_count": null,
   "metadata": {},
   "outputs": [],
   "source": []
  }
 ],
 "metadata": {
  "kernelspec": {
   "display_name": "Python 3",
   "language": "python",
   "name": "python3"
  },
  "language_info": {
   "codemirror_mode": {
    "name": "ipython",
    "version": 3
   },
   "file_extension": ".py",
   "mimetype": "text/x-python",
   "name": "python",
   "nbconvert_exporter": "python",
   "pygments_lexer": "ipython3",
   "version": "3.6.5"
  }
 },
 "nbformat": 4,
 "nbformat_minor": 2
}
