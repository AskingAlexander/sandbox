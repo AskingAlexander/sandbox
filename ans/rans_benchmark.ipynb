{
 "cells": [
  {
   "cell_type": "code",
   "execution_count": 2,
   "metadata": {},
   "outputs": [],
   "source": [
    "import pandas as pd\n",
    "import numpy as np\n",
    "from decimal import Decimal\n",
    "from ans import generate_string#, code_rabs, decode_rabs\n",
    "\n",
    "np.random.seed(1)"
   ]
  },
  {
   "cell_type": "code",
   "execution_count": 398,
   "metadata": {},
   "outputs": [],
   "source": [
    "from math import floor\n",
    "\n",
    "def code_rans(msg, alphabet, freqs, quant_bits=12, renorm_bits=16):\n",
    "    '''\n",
    "         msg - list of strings where each character should be in alphabet\n",
    "         alphabet - list of strings representing symbols in alphabet\n",
    "         freqs - List of integers f[s] s.t. p_s ~= f[s] / 2^quant_bits\n",
    "         quant_bits - exponent of 2^N (quantizing factor)\n",
    "         renorm_bits - n-bit renormalization\n",
    "    '''\n",
    "    assert len(freqs) == len(alphabet)\n",
    "    assert all([type(f) == int for f in freqs])\n",
    "    assert sum(freqs) == 1 << quant_bits\n",
    "    assert quant_bits <= renorm_bits\n",
    "    \n",
    "    cdf = []\n",
    "    for i in range(len(freqs) + 1):\n",
    "        cdf.append(sum(freqs[:i]))\n",
    "        \n",
    "    assert len(cdf) == len(freqs) + 1\n",
    "\n",
    "    codes = []\n",
    "    code = 1 << renorm_bits\n",
    "    for x in msg:\n",
    "        pcode = code\n",
    "        index = alphabet.index(x)\n",
    "        \n",
    "        # Renormalization - if we would push past 2**renorm_bits, then renorm\n",
    "        new_code = ((floor(code / freqs[index]) << quant_bits)\n",
    "                    + (code % freqs[index])\n",
    "                    + cdf[index])\n",
    "        if new_code > ((1 << (2 * renorm_bits)) - 1):\n",
    "            codes.append(code & ((1 << renorm_bits) - 1))\n",
    "            code = code >> renorm_bits\n",
    "            \n",
    "        # rANS\n",
    "        code = ((floor(code / freqs[index]) << quant_bits)\n",
    "                + (code % freqs[index])\n",
    "                + cdf[index]) \n",
    "        \n",
    "            \n",
    "    codes.append(code) \n",
    "    return codes"
   ]
  },
  {
   "cell_type": "code",
   "execution_count": 377,
   "metadata": {
    "scrolled": false
   },
   "outputs": [
    {
     "name": "stdout",
     "output_type": "stream",
     "text": [
      "[8729, 16261, 27134, 61231, 38415, 21410, 42929, 22032, 27861, 3985, 42371, 65072, 47707, 62830, 13851, 51761, 24795, 52513, 34869, 26945, 40986, 1321, 5244, 4154, 65443, 886, 41987, 24555, 3348, 13814, 8788, 3964903429]\n",
      "Orig bits:  2.0\n",
      "Actual bits: 1.6243\n",
      "Ideal bits: 1.5919\n",
      "Compression ratio: 1.2313\n",
      "527.8846385814037\n"
     ]
    }
   ],
   "source": [
    "def decode_rans(codes, alphabet, freqs, quant_bits=8, renorm_bits=16):\n",
    "    '''\n",
    "         codes - coded message\n",
    "         alphabet - list of strings representing symbols in alphabet\n",
    "         freqs - List of integers f[s] s.t. p_s ~= f[s] / 2^quant_bits\n",
    "         quant_bits - exponent of 2^N (quantizing factor)\n",
    "         renorm_bits - n-bit renormalization\n",
    "    '''\n",
    "    assert len(freqs) == len(alphabet)\n",
    "    assert all([type(f) == int for f in freqs])\n",
    "    assert sum(freqs) == (1 << quant_bits)\n",
    "    assert len(codes) >= 1\n",
    "    assert all(c < (1 << renorm_bits) for c in codes[:-1])\n",
    "    assert codes[-1] < (1 << (2*renorm_bits))\n",
    "    \n",
    "    codes = codes.copy()\n",
    "    \n",
    "    cdf = []\n",
    "    for i in range(len(freqs) + 1):\n",
    "        cdf.append(sum(freqs[:i]))\n",
    "    assert len(cdf) == len(freqs) + 1\n",
    "\n",
    "    msg = []\n",
    "    mask = (1 << quant_bits) - 1\n",
    "    code = codes.pop()\n",
    "    while code > (1 << renorm_bits):\n",
    "\n",
    "        pcode = code\n",
    "        s = code & mask\n",
    "        index = np.argmax(np.array(cdf) > s) - 1\n",
    "        pcode = code\n",
    "        code = (freqs[index] * (code >> quant_bits)\n",
    "                + (code & mask)\n",
    "                - cdf[index])\n",
    "        msg = [alphabet[index]] + msg\n",
    "        \n",
    "        if (code < (1 << renorm_bits)) and codes:\n",
    "            assert codes[-1] < (1 << renorm_bits)\n",
    "            code = (code << renorm_bits) + codes.pop()\n",
    "            \n",
    "       \n",
    "    assert not codes\n",
    "    return msg\n",
    "\n",
    "\n",
    "ALPHABET = ['a', 'b', 'c', 'd']\n",
    "freqs = [4, 1, 2, 9]\n",
    "quant_bits = 4\n",
    "s = generate_string(325, alphabet=ALPHABET, prob=np.array(freqs) / (1 << quant_bits))\n",
    "#s = ['a', 'd', 'c', 'd', 'a', 'a', 'd', 'd', 'b', 'a', 'a', 'a', 'a', 'd', 'd', 'd', 'd', 'd', 'd', 'c', 'b', 'd', 'c', 'd', 'b', 'd', 'c', 'b', 'd', 'a']\n",
    "#s = ['a', 'b', 'c']\n",
    "#s = ['c', 'a']\n",
    "#s = ['d', 'b', 'c', 'c', 'b', 'a', 'd', 'd', 'b', 'a', 'a', 'b', 'a', 'a', 'd']\n",
    "#s = ['b', 'd', 'c', 'd', 'd', 'd', 'a', 'a', 'd', 'a', 'd', 'c', 'c', 'a', 'a']\n",
    "codes = code_rans(s, ALPHABET, freqs=freqs, quant_bits=quant_bits)\n",
    "decode_msg = decode_rans(codes, ALPHABET, freqs=freqs, quant_bits=quant_bits)\n",
    "\n",
    "#print(s)\n",
    "print(codes)\n",
    "orig = (len(s) * np.log2(len(ALPHABET))) / len(s)\n",
    "print('Orig bits: ', orig)\n",
    "actual = (16 * (len(codes) - 1) + np.log2(codes[-1])) / len(s)\n",
    "print('Actual bits: %.4f' % actual)\n",
    "print('Ideal bits: %.4f' % sum([-f / (1 << quant_bits) * np.log2(f / (1 << quant_bits)) for f in freqs]))\n",
    "print('Compression ratio: %.4f' % (orig / actual))\n",
    "print(16 * (len(codes) - 1) + np.log2(codes[-1]))\n",
    "#print(decode_msg)\n",
    "assert s == decode_msg"
   ]
  },
  {
   "cell_type": "code",
   "execution_count": 323,
   "metadata": {},
   "outputs": [
    {
     "data": {
      "text/plain": [
       "92059"
      ]
     },
     "execution_count": 323,
     "metadata": {},
     "output_type": "execute_result"
    }
   ],
   "source": [
    "#1 << 16\n",
    "#3393540112 / 1508299780\n",
    "#1508299780 > (1 << 32)\n",
    "#6033199120 > (1 << 32)\n",
    "#((92059 << 16) + 20496) / 2\n",
    "#1508299780 & ((1 << 16) - 1)\n",
    "#6033199120 & ((1 << 16) - 1)\n",
    "6033199120 >> 16 #& ((1 << 16) - 1)"
   ]
  },
  {
   "cell_type": "code",
   "execution_count": 162,
   "metadata": {},
   "outputs": [],
   "source": [
    "#def benchmark_uabs(p, msg_len, N, ALPHABET=('a', 'b')):\n",
    "#    print(\"p: \", p)\n",
    "#    print(\"Message Length: \", msg_len)\n",
    "#    print(\"No. of trials: \", N)\n",
    "#    entropy = []\n",
    "#    for i in range(N):\n",
    "#        msg = generate_binary_string(msg_len, alphabet=ALPHABET, prob=p)\n",
    "#        code = code_uabs(msg, alphabet=ALPHABET, prob=p)\n",
    "#        entropy.append(np.log2(float(code)))\n",
    "#        \n",
    "#        decoded_msg = decode_uabs(code, alphabet=ALPHABET, prob=p)\n",
    "#        \n",
    "#        if decoded_msg != msg:\n",
    "#            print(\"Message: \", msg)\n",
    "#            print(\"Code: \", code)\n",
    "#            print(\"Entropy: %.2f bits (Orig: %.2f)\" % (np.log2(float(code)), len(msg)))\n",
    "#            print(\"Decoded: \", decoded_msg)\n",
    "#            print(\"Matching: \", decoded_msg == msg)\n",
    "#            break\n",
    "#            \n",
    "#    print(\"Actual Entropy Stats: \")\n",
    "#    display(pd.DataFrame(entropy).describe())\n",
    "#    print(\"Actual Bits: %.2f\" % pd.Series(entropy).mean())\n",
    "#    \n",
    "#    prob = [float(x) for x in p]\n",
    "#    print(\"Ideal Bits: %.2f\" % (-np.array(prob) * np.log2(np.array(prob)) * msg_len).sum())\n",
    "#    print(\"Actual Compression Rate: %.2f\" % (msg_len / pd.Series(entropy).mean()))\n",
    "#    print(\"Ideal Compression Rate: %.2f\" % (msg_len / (-np.array(prob) * np.log2(np.array(prob)) * msg_len).sum()))"
   ]
  },
  {
   "cell_type": "code",
   "execution_count": 378,
   "metadata": {},
   "outputs": [
    {
     "data": {
      "text/plain": [
       "1.3787834934861753"
      ]
     },
     "execution_count": 378,
     "metadata": {},
     "output_type": "execute_result"
    }
   ],
   "source": [
    "-4/7*np.log2(4/7) -2/7*np.log2(2/7) -1/7*np.log2(1/7)"
   ]
  },
  {
   "cell_type": "code",
   "execution_count": 380,
   "metadata": {},
   "outputs": [
    {
     "data": {
      "text/plain": [
       "1.585"
      ]
     },
     "execution_count": 380,
     "metadata": {},
     "output_type": "execute_result"
    }
   ],
   "source": [
    "round(-np.log2(1/3), 4)"
   ]
  },
  {
   "cell_type": "code",
   "execution_count": 383,
   "metadata": {},
   "outputs": [
    {
     "data": {
      "text/plain": [
       "5.672425341971495"
      ]
     },
     "execution_count": 383,
     "metadata": {},
     "output_type": "execute_result"
    }
   ],
   "source": [
    "np.log2(51)"
   ]
  },
  {
   "cell_type": "code",
   "execution_count": 412,
   "metadata": {},
   "outputs": [
    {
     "data": {
      "text/plain": [
       "425"
      ]
     },
     "execution_count": 412,
     "metadata": {},
     "output_type": "execute_result"
    }
   ],
   "source": [
    "#ALPHABET = ['a', 'b', 'c']\n",
    "#freqs = [3, 3, 2]\n",
    "#quant_bits = 3\n",
    "#s = ['a']\n",
    "#code_rans(s, ALPHABET, freqs=freqs, quant_bits=quant_bits, renorm_bits=8)[0]"
   ]
  },
  {
   "cell_type": "code",
   "execution_count": 601,
   "metadata": {},
   "outputs": [
    {
     "name": "stdout",
     "output_type": "stream",
     "text": [
      "[5, 2, 1]\n",
      "159\n",
      "40  ===>  327\n",
      "41  ===>  335\n",
      "42  ===>  343\n",
      "43  ===>  351\n",
      "44  ===>  359\n",
      "45  ===>  367\n",
      "46  ===>  375\n",
      "47  ===>  383\n",
      "48  ===>  391\n",
      "49  ===>  399\n"
     ]
    }
   ],
   "source": [
    "freqs = [5, 2, 1]\n",
    "CDF = [sum(freqs[:0]), sum(freqs[:1]), sum(freqs[:2]), sum(freqs)]\n",
    "n = 3\n",
    "\n",
    "# C(x, s)\n",
    "print(freqs)\n",
    "print(x)\n",
    "s=2\n",
    "for x in range(40, 50):\n",
    "    #print(floor(x / freqs[s]), (floor(x / freqs[s]) << n), (x % freqs[s]), CDF[s])\n",
    "    prex = x\n",
    "    x = (floor(x / freqs[s]) << n) + (x % freqs[s]) + CDF[s]\n",
    "    print(prex, \" ===> \", x)"
   ]
  },
  {
   "cell_type": "code",
   "execution_count": null,
   "metadata": {},
   "outputs": [],
   "source": []
  }
 ],
 "metadata": {
  "kernelspec": {
   "display_name": "Python 3",
   "language": "python",
   "name": "python3"
  },
  "language_info": {
   "codemirror_mode": {
    "name": "ipython",
    "version": 3
   },
   "file_extension": ".py",
   "mimetype": "text/x-python",
   "name": "python",
   "nbconvert_exporter": "python",
   "pygments_lexer": "ipython3",
   "version": "3.7.3"
  }
 },
 "nbformat": 4,
 "nbformat_minor": 4
}
