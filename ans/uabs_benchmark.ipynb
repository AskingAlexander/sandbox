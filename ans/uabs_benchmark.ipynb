{
 "cells": [
  {
   "cell_type": "code",
   "execution_count": 1,
   "metadata": {},
   "outputs": [],
   "source": [
    "import pandas as pd\n",
    "import numpy as np\n",
    "from decimal import Decimal\n",
    "from ans import generate_string, code_uabs, decode_uabs\n",
    "\n",
    "np.random.seed(1)"
   ]
  },
  {
   "cell_type": "code",
   "execution_count": 2,
   "metadata": {},
   "outputs": [],
   "source": [
    "def benchmark_uabs(p, msg_len, N, ALPHABET=('a', 'b')):\n",
    "    print(\"p: \", p)\n",
    "    print(\"Message Length: \", msg_len)\n",
    "    print(\"No. of trials: \", N)\n",
    "    entropy = []\n",
    "    for i in range(N):\n",
    "        msg = generate_string(msg_len, alphabet=ALPHABET, prob=p)\n",
    "        code = code_uabs(msg, alphabet=ALPHABET, prob=p)\n",
    "        entropy.append(np.log2(float(code)))\n",
    "        \n",
    "        decoded_msg = decode_uabs(code, alphabet=ALPHABET, prob=p)\n",
    "        \n",
    "        if decoded_msg != msg:\n",
    "            print(\"Message: \", msg)\n",
    "            print(\"Code: \", code)\n",
    "            print(\"Entropy: %.2f bits (Orig: %.2f)\" % (np.log2(float(code)), len(msg)))\n",
    "            print(\"Decoded: \", decoded_msg)\n",
    "            print(\"Matching: \", decoded_msg == msg)\n",
    "            break\n",
    "            \n",
    "    print(\"Actual Entropy Stats: \")\n",
    "    display(pd.DataFrame(entropy).describe())\n",
    "    print(\"Actual Bits: %.2f\" % pd.Series(entropy).mean())\n",
    "    \n",
    "    prob = [float(x) for x in p]\n",
    "    print(\"Ideal Bits: %.2f\" % (-np.array(prob) * np.log2(np.array(prob)) * msg_len).sum())\n",
    "    print(\"Actual Compression Rate: %.2f\" % (msg_len / pd.Series(entropy).mean()))\n",
    "    print(\"Ideal Compression Rate: %.2f\" % (msg_len / (-np.array(prob) * np.log2(np.array(prob)) * msg_len).sum()))"
   ]
  },
  {
   "cell_type": "code",
   "execution_count": 3,
   "metadata": {},
   "outputs": [
    {
     "name": "stdout",
     "output_type": "stream",
     "text": [
      "p:  [Decimal('0.4000'), Decimal('0.6000')]\n",
      "Message Length:  50\n",
      "No. of trials:  100\n",
      "Actual Entropy Stats: \n"
     ]
    },
    {
     "data": {
      "text/html": [
       "<div>\n",
       "<style scoped>\n",
       "    .dataframe tbody tr th:only-of-type {\n",
       "        vertical-align: middle;\n",
       "    }\n",
       "\n",
       "    .dataframe tbody tr th {\n",
       "        vertical-align: top;\n",
       "    }\n",
       "\n",
       "    .dataframe thead th {\n",
       "        text-align: right;\n",
       "    }\n",
       "</style>\n",
       "<table border=\"1\" class=\"dataframe\">\n",
       "  <thead>\n",
       "    <tr style=\"text-align: right;\">\n",
       "      <th></th>\n",
       "      <th>0</th>\n",
       "    </tr>\n",
       "  </thead>\n",
       "  <tbody>\n",
       "    <tr>\n",
       "      <th>count</th>\n",
       "      <td>100.000000</td>\n",
       "    </tr>\n",
       "    <tr>\n",
       "      <th>mean</th>\n",
       "      <td>49.197792</td>\n",
       "    </tr>\n",
       "    <tr>\n",
       "      <th>std</th>\n",
       "      <td>2.132814</td>\n",
       "    </tr>\n",
       "    <tr>\n",
       "      <th>min</th>\n",
       "      <td>45.147257</td>\n",
       "    </tr>\n",
       "    <tr>\n",
       "      <th>25%</th>\n",
       "      <td>47.685561</td>\n",
       "    </tr>\n",
       "    <tr>\n",
       "      <th>50%</th>\n",
       "      <td>49.125931</td>\n",
       "    </tr>\n",
       "    <tr>\n",
       "      <th>75%</th>\n",
       "      <td>50.531960</td>\n",
       "    </tr>\n",
       "    <tr>\n",
       "      <th>max</th>\n",
       "      <td>54.435329</td>\n",
       "    </tr>\n",
       "  </tbody>\n",
       "</table>\n",
       "</div>"
      ],
      "text/plain": [
       "                0\n",
       "count  100.000000\n",
       "mean    49.197792\n",
       "std      2.132814\n",
       "min     45.147257\n",
       "25%     47.685561\n",
       "50%     49.125931\n",
       "75%     50.531960\n",
       "max     54.435329"
      ]
     },
     "metadata": {},
     "output_type": "display_data"
    },
    {
     "name": "stdout",
     "output_type": "stream",
     "text": [
      "Actual Bits: 49.20\n",
      "Ideal Bits: 48.55\n",
      "Actual Compression Rate: 1.02\n",
      "Ideal Compression Rate: 1.03\n"
     ]
    }
   ],
   "source": [
    "benchmark_uabs(p=[round(Decimal(x), 4) for x in [0.4, 0.6]], msg_len=50,  N=100)"
   ]
  },
  {
   "cell_type": "code",
   "execution_count": 4,
   "metadata": {},
   "outputs": [
    {
     "name": "stdout",
     "output_type": "stream",
     "text": [
      "p:  [Decimal('0.2500'), Decimal('0.7500')]\n",
      "Message Length:  50\n",
      "No. of trials:  100\n",
      "Actual Entropy Stats: \n"
     ]
    },
    {
     "data": {
      "text/html": [
       "<div>\n",
       "<style scoped>\n",
       "    .dataframe tbody tr th:only-of-type {\n",
       "        vertical-align: middle;\n",
       "    }\n",
       "\n",
       "    .dataframe tbody tr th {\n",
       "        vertical-align: top;\n",
       "    }\n",
       "\n",
       "    .dataframe thead th {\n",
       "        text-align: right;\n",
       "    }\n",
       "</style>\n",
       "<table border=\"1\" class=\"dataframe\">\n",
       "  <thead>\n",
       "    <tr style=\"text-align: right;\">\n",
       "      <th></th>\n",
       "      <th>0</th>\n",
       "    </tr>\n",
       "  </thead>\n",
       "  <tbody>\n",
       "    <tr>\n",
       "      <th>count</th>\n",
       "      <td>100.000000</td>\n",
       "    </tr>\n",
       "    <tr>\n",
       "      <th>mean</th>\n",
       "      <td>42.135496</td>\n",
       "    </tr>\n",
       "    <tr>\n",
       "      <th>std</th>\n",
       "      <td>5.032793</td>\n",
       "    </tr>\n",
       "    <tr>\n",
       "      <th>min</th>\n",
       "      <td>31.461826</td>\n",
       "    </tr>\n",
       "    <tr>\n",
       "      <th>25%</th>\n",
       "      <td>38.692452</td>\n",
       "    </tr>\n",
       "    <tr>\n",
       "      <th>50%</th>\n",
       "      <td>41.594652</td>\n",
       "    </tr>\n",
       "    <tr>\n",
       "      <th>75%</th>\n",
       "      <td>45.108379</td>\n",
       "    </tr>\n",
       "    <tr>\n",
       "      <th>max</th>\n",
       "      <td>53.837298</td>\n",
       "    </tr>\n",
       "  </tbody>\n",
       "</table>\n",
       "</div>"
      ],
      "text/plain": [
       "                0\n",
       "count  100.000000\n",
       "mean    42.135496\n",
       "std      5.032793\n",
       "min     31.461826\n",
       "25%     38.692452\n",
       "50%     41.594652\n",
       "75%     45.108379\n",
       "max     53.837298"
      ]
     },
     "metadata": {},
     "output_type": "display_data"
    },
    {
     "name": "stdout",
     "output_type": "stream",
     "text": [
      "Actual Bits: 42.14\n",
      "Ideal Bits: 40.56\n",
      "Actual Compression Rate: 1.19\n",
      "Ideal Compression Rate: 1.23\n"
     ]
    }
   ],
   "source": [
    "benchmark_uabs(p=[round(Decimal(x), 4) for x in [0.25, 0.75]], msg_len=50,  N=100)"
   ]
  },
  {
   "cell_type": "code",
   "execution_count": 5,
   "metadata": {},
   "outputs": [
    {
     "name": "stdout",
     "output_type": "stream",
     "text": [
      "p:  [Decimal('0.1000'), Decimal('0.9000')]\n",
      "Message Length:  50\n",
      "No. of trials:  100\n",
      "Actual Entropy Stats: \n"
     ]
    },
    {
     "data": {
      "text/html": [
       "<div>\n",
       "<style scoped>\n",
       "    .dataframe tbody tr th:only-of-type {\n",
       "        vertical-align: middle;\n",
       "    }\n",
       "\n",
       "    .dataframe tbody tr th {\n",
       "        vertical-align: top;\n",
       "    }\n",
       "\n",
       "    .dataframe thead th {\n",
       "        text-align: right;\n",
       "    }\n",
       "</style>\n",
       "<table border=\"1\" class=\"dataframe\">\n",
       "  <thead>\n",
       "    <tr style=\"text-align: right;\">\n",
       "      <th></th>\n",
       "      <th>0</th>\n",
       "    </tr>\n",
       "  </thead>\n",
       "  <tbody>\n",
       "    <tr>\n",
       "      <th>count</th>\n",
       "      <td>100.000000</td>\n",
       "    </tr>\n",
       "    <tr>\n",
       "      <th>mean</th>\n",
       "      <td>25.783796</td>\n",
       "    </tr>\n",
       "    <tr>\n",
       "      <th>std</th>\n",
       "      <td>7.030318</td>\n",
       "    </tr>\n",
       "    <tr>\n",
       "      <th>min</th>\n",
       "      <td>13.172271</td>\n",
       "    </tr>\n",
       "    <tr>\n",
       "      <th>25%</th>\n",
       "      <td>21.855716</td>\n",
       "    </tr>\n",
       "    <tr>\n",
       "      <th>50%</th>\n",
       "      <td>25.183074</td>\n",
       "    </tr>\n",
       "    <tr>\n",
       "      <th>75%</th>\n",
       "      <td>29.071039</td>\n",
       "    </tr>\n",
       "    <tr>\n",
       "      <th>max</th>\n",
       "      <td>44.742271</td>\n",
       "    </tr>\n",
       "  </tbody>\n",
       "</table>\n",
       "</div>"
      ],
      "text/plain": [
       "                0\n",
       "count  100.000000\n",
       "mean    25.783796\n",
       "std      7.030318\n",
       "min     13.172271\n",
       "25%     21.855716\n",
       "50%     25.183074\n",
       "75%     29.071039\n",
       "max     44.742271"
      ]
     },
     "metadata": {},
     "output_type": "display_data"
    },
    {
     "name": "stdout",
     "output_type": "stream",
     "text": [
      "Actual Bits: 25.78\n",
      "Ideal Bits: 23.45\n",
      "Actual Compression Rate: 1.94\n",
      "Ideal Compression Rate: 2.13\n"
     ]
    }
   ],
   "source": [
    "benchmark_uabs(p=[round(Decimal(x), 4) for x in [0.10, 0.90]], msg_len=50,  N=100)"
   ]
  },
  {
   "cell_type": "code",
   "execution_count": null,
   "metadata": {},
   "outputs": [],
   "source": []
  }
 ],
 "metadata": {
  "kernelspec": {
   "display_name": "Python 3",
   "language": "python",
   "name": "python3"
  },
  "language_info": {
   "codemirror_mode": {
    "name": "ipython",
    "version": 3
   },
   "file_extension": ".py",
   "mimetype": "text/x-python",
   "name": "python",
   "nbconvert_exporter": "python",
   "pygments_lexer": "ipython3",
   "version": "3.7.3"
  }
 },
 "nbformat": 4,
 "nbformat_minor": 4
}
