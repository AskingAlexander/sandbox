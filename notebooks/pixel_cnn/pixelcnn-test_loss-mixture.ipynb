{
 "cells": [
  {
   "cell_type": "code",
   "execution_count": 1,
   "metadata": {
    "ExecuteTime": {
     "end_time": "2019-05-03T12:43:55.302230Z",
     "start_time": "2019-05-03T12:43:53.665416Z"
    },
    "slideshow": {
     "slide_type": "slide"
    }
   },
   "outputs": [
    {
     "name": "stderr",
     "output_type": "stream",
     "text": [
      "/home/brian/anaconda3/lib/python3.6/site-packages/h5py/__init__.py:36: FutureWarning: Conversion of the second argument of issubdtype from `float` to `np.floating` is deprecated. In future, it will be treated as `np.float64 == np.dtype(float).type`.\n",
      "  from ._conv import register_converters as _register_converters\n",
      "Using TensorFlow backend.\n"
     ]
    }
   ],
   "source": [
    "%matplotlib inline\n",
    "import numpy as np\n",
    "import os\n",
    "import time\n",
    "import h5py\n",
    "import keras\n",
    "import pandas as pd\n",
    "import math\n",
    "import joblib\n",
    "import json\n",
    "import scipy\n",
    "import matplotlib.pyplot as plt\n",
    "from scipy.stats import logistic\n",
    "from scipy.special import softmax\n",
    "\n",
    "from IPython.display import display\n",
    "\n",
    "from sklearn.metrics import accuracy_score\n",
    "from sklearn.model_selection import StratifiedShuffleSplit\n",
    "\n",
    "from keras.layers import (Input, Dense, Lambda, Flatten, Reshape, BatchNormalization, \n",
    "                          Activation, Dropout, Conv2D, Conv2DTranspose, LocallyConnected2D,\n",
    "                          Concatenate, Add, Multiply)\n",
    "from keras.engine import InputSpec\n",
    "from keras.losses import sparse_categorical_crossentropy\n",
    "from keras.optimizers import RMSprop, Adam, SGD\n",
    "from keras.models import Model\n",
    "from keras.utils import to_categorical\n",
    "from keras.regularizers import l2\n",
    "from keras import metrics\n",
    "from keras import backend as K\n",
    "from keras_tqdm import TQDMNotebookCallback\n",
    "from keras.datasets import cifar10\n",
    "\n",
    "import tensorflow as tf\n",
    "\n",
    "from pixelcnn_helpers import pixelcnn_loss, sigmoid, compute_pvals, compute_mixture\n"
   ]
  },
  {
   "cell_type": "markdown",
   "metadata": {
    "slideshow": {
     "slide_type": "slide"
    }
   },
   "source": [
    "# Parameters"
   ]
  },
  {
   "cell_type": "code",
   "execution_count": 2,
   "metadata": {
    "ExecuteTime": {
     "end_time": "2019-05-03T12:43:55.308099Z",
     "start_time": "2019-05-03T12:43:55.304135Z"
    }
   },
   "outputs": [],
   "source": [
    "img_rows, img_cols, img_chns = 2, 2, 3\n",
    "original_img_size = (img_rows, img_cols, img_chns)\n",
    "num_samples = 1000\n",
    "\n",
    "batch_size = int(os.environ.get('BATCH_SIZE', 1))\n",
    "epochs = int(os.environ.get('EPOCHS', 1000))\n",
    "activation = os.environ.get('ACTIVATION', 'relu')\n",
    "learning_rate = float(os.environ.get('LEARNING_RATE', 0.001))\n",
    "resnet_depth = int(os.environ.get('RESNET_DEPTH', 1))\n",
    "n_components = int(os.environ.get('MIXTURE_COMPONENTS', 10))"
   ]
  },
  {
   "cell_type": "markdown",
   "metadata": {},
   "source": [
    "# Generate a dataset based on mixtures of logistic"
   ]
  },
  {
   "cell_type": "markdown",
   "metadata": {},
   "source": [
    "Scaling and shifting a logistic: http://www.math.wm.edu/~leemis/chart/UDR/PDFs/LogisticS.pdf\n",
    "\n",
    "\n",
    "X ~ Logistic(m, s)\n",
    "\n",
    "Y = cX\n",
    "\n",
    "then:\n",
    "\n",
    "Y ~ Logistic(m, s*c)"
   ]
  },
  {
   "cell_type": "code",
   "execution_count": 3,
   "metadata": {
    "ExecuteTime": {
     "end_time": "2019-05-03T12:43:55.626276Z",
     "start_time": "2019-05-03T12:43:55.309626Z"
    },
    "scrolled": false,
    "slideshow": {
     "slide_type": "subslide"
    }
   },
   "outputs": [
    {
     "name": "stdout",
     "output_type": "stream",
     "text": [
      "Logistic m:\n",
      "[[[[-0.92156863  0.96078431]\n",
      "   [-0.92156863  0.96078431]\n",
      "   [-0.92156863  0.96078431]]\n",
      "\n",
      "  [[-0.92156863  0.96078431]\n",
      "   [-0.92156863 -0.92156863]\n",
      "   [-0.92156863 -0.92156863]]]\n",
      "\n",
      "\n",
      " [[[-0.92156863 -0.21568627]\n",
      "   [-0.92156863  0.96078431]\n",
      "   [-0.92156863 -0.92156863]]\n",
      "\n",
      "  [[-0.92156863 -0.92156863]\n",
      "   [-0.92156863 -0.92156863]\n",
      "   [-0.92156863  0.96078431]]]]\n",
      "Logistic s\n",
      "[[[[3.14095501 3.14095501]\n",
      "   [3.14095501 3.14095501]\n",
      "   [3.14095501 3.14095501]]\n",
      "\n",
      "  [[3.14095501 3.14095501]\n",
      "   [3.14095501 3.14095501]\n",
      "   [3.14095501 3.14095501]]]\n",
      "\n",
      "\n",
      " [[[3.14095501 3.14095501]\n",
      "   [3.14095501 3.14095501]\n",
      "   [3.14095501 3.14095501]]\n",
      "\n",
      "  [[3.14095501 3.14095501]\n",
      "   [3.14095501 3.14095501]\n",
      "   [3.14095501 3.14095501]]]]\n",
      "Mixture w\n",
      "[[[[0.5 0.5]\n",
      "   [0.5 0.5]\n",
      "   [0.5 0.5]]\n",
      "\n",
      "  [[0.5 0.5]\n",
      "   [0.5 0.5]\n",
      "   [0.5 0.5]]]\n",
      "\n",
      "\n",
      " [[[0.5 0.5]\n",
      "   [0.5 0.5]\n",
      "   [0.5 0.5]]\n",
      "\n",
      "  [[0.5 0.5]\n",
      "   [0.5 0.5]\n",
      "   [0.5 0.5]]]]\n",
      "(1000, 2, 2, 3)\n"
     ]
    }
   ],
   "source": [
    "np.random.seed(127)\n",
    "\n",
    "# logistic std deviation of 1 pixel level\n",
    "unit_s = 1 / math.pi * math.sqrt(3)\n",
    "\n",
    "def train_data_simple(num_samples):\n",
    "    # Generate pixels using exactly 2 mixture components\n",
    "    n_comp = 2\n",
    "    \n",
    "    # Each pixel is a independent single logstic\n",
    "    X_train = np.zeros((num_samples, img_rows, img_cols, img_chns))\n",
    "    \n",
    "    # Set the distribution values to fixed values so we can tell the difference\n",
    "    m = np.array([\n",
    "        [\n",
    "            [[10.,  250.],  [10, 250.],  [10, 250.]],\n",
    "            [[10.,  250.],  [10., 10. ], [10., 10.]]\n",
    "        ], \n",
    "        [\n",
    "            [[10.,  100.],  [10., 250. ], [10., 10.]], \n",
    "            [[10.,  10.],  [10., 10. ], [10., 250.]]\n",
    "        ], \n",
    "    ])\n",
    "    s = 10 * unit_s * np.ones((img_rows, img_cols, img_chns, n_comp))\n",
    "    w = np.ones((img_rows, img_cols, img_chns, n_comp))\n",
    "    w = w / w.sum(axis=3)[:, :, :, np.newaxis]\n",
    "    \n",
    "    #m = np.random.normal(127.5, 40, (img_rows, img_cols, img_chns, n_comp))\n",
    "    #s = np.random.uniform(1 * unit_s, 40 * unit_s, (img_rows, img_cols, img_chns, n_comp))\n",
    "    #\n",
    "    ## Each row has same mxiture weight\n",
    "    #w = np.random.randint(1, 10, (img_rows, img_cols, img_chns, n_comp))\n",
    "    #w = w / w.sum(axis=3)[:, :, :, np.newaxis]\n",
    "    \n",
    "    for n in range(num_samples):\n",
    "        for i in range(img_rows):\n",
    "            for j in range(img_cols):\n",
    "                for k in range(img_chns):\n",
    "                    pixels = []\n",
    "                    for c in range(n_comp):\n",
    "                        pixels.append(np.random.logistic(m[i, j, k, c], s[i, j, k, c], 1))\n",
    "                    index = np.argmax(np.random.multinomial(1, w[i, j, k])) \n",
    "                    X_train[n, i, j, k] = max(min(int(pixels[index]), 255), 0)\n",
    "                \n",
    "    print('Logistic m:')\n",
    "    print((m - 127.5) / 127.5)\n",
    "    print('Logistic s')\n",
    "    print(np.log(127.5 / s))\n",
    "    print('Mixture w')\n",
    "    print(w)\n",
    "    return X_train, (m, s, w)\n",
    "\n",
    "X_train, params = train_data_simple(num_samples)\n",
    "X_train = (X_train - 127.5) / 127.5\n",
    "print(X_train.shape)\n",
    "#print(params)"
   ]
  },
  {
   "cell_type": "code",
   "execution_count": 4,
   "metadata": {
    "ExecuteTime": {
     "end_time": "2019-05-03T12:43:56.736639Z",
     "start_time": "2019-05-03T12:43:55.627801Z"
    },
    "slideshow": {
     "slide_type": "slide"
    }
   },
   "outputs": [
    {
     "data": {
      "image/png": "[encoded data removed]",
      "text/plain": [
       "<Figure size 1440x360 with 1 Axes>"
      ]
     },
     "metadata": {},
     "output_type": "display_data"
    }
   ],
   "source": [
    "n = min(num_samples, 5)\n",
    "figure = np.zeros((img_rows * n, img_cols * 2, img_chns)).astype(int)\n",
    "for i in range(n):\n",
    "    orig_img = (X_train[i] * 127.5 + 127.5).astype(int)\n",
    "    dy = img_rows * i\n",
    "    figure[dy:dy + img_rows, :img_cols] = orig_img\n",
    "    \n",
    "    # Digitize\n",
    "    #img = orig_img #.astype(float) / 255\n",
    "    #figure[dy:dy + img_rows, img_cols:2 * img_cols] = img\n",
    "\n",
    "plt.figure(figsize=(n * 4, 5))\n",
    "plt.imshow(figure)\n",
    "plt.show()"
   ]
  },
  {
   "cell_type": "code",
   "execution_count": 5,
   "metadata": {
    "ExecuteTime": {
     "end_time": "2019-05-03T12:43:56.850030Z",
     "start_time": "2019-05-03T12:43:56.739527Z"
    }
   },
   "outputs": [
    {
     "data": {
      "text/plain": [
       "array([[[-1.        , -0.8745098 ,  0.94509804],\n",
       "        [ 1.        , -0.85098039, -0.95294118]],\n",
       "\n",
       "       [[-0.9372549 ,  0.99215686, -0.94509804],\n",
       "        [-0.96078431, -0.96078431,  0.85882353]]])"
      ]
     },
     "execution_count": 5,
     "metadata": {},
     "output_type": "execute_result"
    }
   ],
   "source": [
    "X_train[15,:]"
   ]
  },
  {
   "cell_type": "markdown",
   "metadata": {
    "slideshow": {
     "slide_type": "slide"
    }
   },
   "source": [
    "# Pixel CNN Helpers"
   ]
  },
  {
   "cell_type": "markdown",
   "metadata": {},
   "source": [
    "# Model"
   ]
  },
  {
   "cell_type": "code",
   "execution_count": 6,
   "metadata": {
    "ExecuteTime": {
     "end_time": "2019-05-03T12:43:57.074161Z",
     "start_time": "2019-05-03T12:43:56.852527Z"
    }
   },
   "outputs": [],
   "source": [
    "if K.image_data_format() == 'channels_last':\n",
    "    bn_axis = 3\n",
    "else:\n",
    "    bn_axis = 1"
   ]
  },
  {
   "cell_type": "code",
   "execution_count": 7,
   "metadata": {
    "ExecuteTime": {
     "end_time": "2019-05-03T12:43:57.603619Z",
     "start_time": "2019-05-03T12:43:57.077001Z"
    },
    "slideshow": {
     "slide_type": "slide"
    }
   },
   "outputs": [],
   "source": [
    "# Work around Keras/tensorboard bug: https://github.com/keras-team/keras/issues/10074\n",
    "K.clear_session()\n",
    "\n",
    "main_input = Input(shape=original_img_size, name='main_input')\n",
    "\n",
    "ms = []\n",
    "invss = []\n",
    "weights = []\n",
    "for channel in range(img_chns):\n",
    "    x = Lambda(lambda x: x * 0.)(main_input)\n",
    "    x = Flatten()(x)\n",
    "    decoder_out_m_ = Dense(img_rows * img_cols * n_components, name='x_m' + str(channel),\n",
    "                           bias_initializer='glorot_uniform')(x)\n",
    "    decoder_out_m_ = Lambda(lambda x: x)(decoder_out_m_)\n",
    "    decoder_out_m = Reshape((img_rows, img_cols, n_components))(decoder_out_m_)\n",
    "    ms.append(decoder_out_m)\n",
    "    \n",
    "    decoder_out_invs_ = Dense(img_rows * img_cols * n_components, name='x_s' + str(channel),\n",
    "                              activation='sigmoid', bias_initializer='glorot_uniform')(x)\n",
    "    decoder_out_invs = Lambda(lambda x: 5. * x + 2)(decoder_out_invs_)\n",
    "    decoder_out_invs = Reshape((img_rows, img_cols, n_components))(decoder_out_invs)\n",
    "    \n",
    "    invss.append(decoder_out_invs)\n",
    "   \n",
    "    x_reshape = Reshape((img_rows, img_cols, img_chns))(x)\n",
    "    mixture_weights = LocallyConnected2D(name='weights' + str(channel),\n",
    "                                         filters=n_components, kernel_size=1, strides=1,\n",
    "                                         bias_initializer='ones')(x_reshape)\n",
    "    weights.append(mixture_weights)\n",
    "\n",
    "out_m = Concatenate()(ms)\n",
    "out_invs = Concatenate()(invss)\n",
    "out_weights = Concatenate()(weights)\n",
    "main_output = Concatenate()([out_m, out_invs, out_weights])"
   ]
  },
  {
   "cell_type": "code",
   "execution_count": 8,
   "metadata": {
    "ExecuteTime": {
     "end_time": "2019-05-03T12:43:57.709853Z",
     "start_time": "2019-05-03T12:43:57.605563Z"
    },
    "scrolled": true
   },
   "outputs": [
    {
     "name": "stdout",
     "output_type": "stream",
     "text": [
      "Building model...\n",
      "__________________________________________________________________________________________________\n",
      "Layer (type)                    Output Shape         Param #     Connected to                     \n",
      "==================================================================================================\n",
      "main_input (InputLayer)         (None, 2, 2, 3)      0                                            \n",
      "__________________________________________________________________________________________________\n",
      "lambda_1 (Lambda)               (None, 2, 2, 3)      0           main_input[0][0]                 \n",
      "__________________________________________________________________________________________________\n",
      "lambda_4 (Lambda)               (None, 2, 2, 3)      0           main_input[0][0]                 \n",
      "__________________________________________________________________________________________________\n",
      "lambda_7 (Lambda)               (None, 2, 2, 3)      0           main_input[0][0]                 \n",
      "__________________________________________________________________________________________________\n",
      "flatten_1 (Flatten)             (None, 12)           0           lambda_1[0][0]                   \n",
      "__________________________________________________________________________________________________\n",
      "flatten_2 (Flatten)             (None, 12)           0           lambda_4[0][0]                   \n",
      "__________________________________________________________________________________________________\n",
      "flatten_3 (Flatten)             (None, 12)           0           lambda_7[0][0]                   \n",
      "__________________________________________________________________________________________________\n",
      "x_m0 (Dense)                    (None, 40)           520         flatten_1[0][0]                  \n",
      "__________________________________________________________________________________________________\n",
      "x_m1 (Dense)                    (None, 40)           520         flatten_2[0][0]                  \n",
      "__________________________________________________________________________________________________\n",
      "x_m2 (Dense)                    (None, 40)           520         flatten_3[0][0]                  \n",
      "__________________________________________________________________________________________________\n",
      "x_s0 (Dense)                    (None, 40)           520         flatten_1[0][0]                  \n",
      "__________________________________________________________________________________________________\n",
      "x_s1 (Dense)                    (None, 40)           520         flatten_2[0][0]                  \n",
      "__________________________________________________________________________________________________\n",
      "x_s2 (Dense)                    (None, 40)           520         flatten_3[0][0]                  \n",
      "__________________________________________________________________________________________________\n",
      "lambda_2 (Lambda)               (None, 40)           0           x_m0[0][0]                       \n",
      "__________________________________________________________________________________________________\n",
      "lambda_5 (Lambda)               (None, 40)           0           x_m1[0][0]                       \n",
      "__________________________________________________________________________________________________\n",
      "lambda_8 (Lambda)               (None, 40)           0           x_m2[0][0]                       \n",
      "__________________________________________________________________________________________________\n",
      "lambda_3 (Lambda)               (None, 40)           0           x_s0[0][0]                       \n",
      "__________________________________________________________________________________________________\n",
      "lambda_6 (Lambda)               (None, 40)           0           x_s1[0][0]                       \n",
      "__________________________________________________________________________________________________\n",
      "lambda_9 (Lambda)               (None, 40)           0           x_s2[0][0]                       \n",
      "__________________________________________________________________________________________________\n",
      "reshape_3 (Reshape)             (None, 2, 2, 3)      0           flatten_1[0][0]                  \n",
      "__________________________________________________________________________________________________\n",
      "reshape_6 (Reshape)             (None, 2, 2, 3)      0           flatten_2[0][0]                  \n",
      "__________________________________________________________________________________________________\n",
      "reshape_9 (Reshape)             (None, 2, 2, 3)      0           flatten_3[0][0]                  \n",
      "__________________________________________________________________________________________________\n",
      "reshape_1 (Reshape)             (None, 2, 2, 10)     0           lambda_2[0][0]                   \n",
      "__________________________________________________________________________________________________\n",
      "reshape_4 (Reshape)             (None, 2, 2, 10)     0           lambda_5[0][0]                   \n",
      "__________________________________________________________________________________________________\n",
      "reshape_7 (Reshape)             (None, 2, 2, 10)     0           lambda_8[0][0]                   \n",
      "__________________________________________________________________________________________________\n",
      "reshape_2 (Reshape)             (None, 2, 2, 10)     0           lambda_3[0][0]                   \n",
      "__________________________________________________________________________________________________\n",
      "reshape_5 (Reshape)             (None, 2, 2, 10)     0           lambda_6[0][0]                   \n",
      "__________________________________________________________________________________________________\n",
      "reshape_8 (Reshape)             (None, 2, 2, 10)     0           lambda_9[0][0]                   \n",
      "__________________________________________________________________________________________________\n",
      "weights0 (LocallyConnected2D)   (None, 2, 2, 10)     160         reshape_3[0][0]                  \n",
      "__________________________________________________________________________________________________\n",
      "weights1 (LocallyConnected2D)   (None, 2, 2, 10)     160         reshape_6[0][0]                  \n",
      "__________________________________________________________________________________________________\n",
      "weights2 (LocallyConnected2D)   (None, 2, 2, 10)     160         reshape_9[0][0]                  \n",
      "__________________________________________________________________________________________________\n",
      "concatenate_1 (Concatenate)     (None, 2, 2, 30)     0           reshape_1[0][0]                  \n",
      "                                                                 reshape_4[0][0]                  \n",
      "                                                                 reshape_7[0][0]                  \n",
      "__________________________________________________________________________________________________\n",
      "concatenate_2 (Concatenate)     (None, 2, 2, 30)     0           reshape_2[0][0]                  \n",
      "                                                                 reshape_5[0][0]                  \n",
      "                                                                 reshape_8[0][0]                  \n",
      "__________________________________________________________________________________________________\n",
      "concatenate_3 (Concatenate)     (None, 2, 2, 30)     0           weights0[0][0]                   \n",
      "                                                                 weights1[0][0]                   \n",
      "                                                                 weights2[0][0]                   \n",
      "__________________________________________________________________________________________________\n",
      "concatenate_4 (Concatenate)     (None, 2, 2, 90)     0           concatenate_1[0][0]              \n",
      "                                                                 concatenate_2[0][0]              \n",
      "                                                                 concatenate_3[0][0]              \n",
      "==================================================================================================\n",
      "Total params: 3,600\n",
      "Trainable params: 3,600\n",
      "Non-trainable params: 0\n",
      "__________________________________________________________________________________________________\n"
     ]
    }
   ],
   "source": [
    "print(\"Building model...\")\n",
    "optimizer = RMSprop(lr=0.001)\n",
    "\n",
    "model = Model(inputs=main_input, outputs=main_output)\n",
    "model.compile(optimizer=optimizer, loss=lambda x, y: pixelcnn_loss(x, y, img_rows, img_cols, img_chns, n_components))\n",
    "model.summary()"
   ]
  },
  {
   "cell_type": "code",
   "execution_count": 9,
   "metadata": {
    "ExecuteTime": {
     "end_time": "2019-05-03T12:45:08.039305Z",
     "start_time": "2019-05-03T12:43:57.712574Z"
    },
    "scrolled": true,
    "slideshow": {
     "slide_type": "-"
    }
   },
   "outputs": [
    {
     "data": {
      "application/vnd.jupyter.widget-view+json": {
       "model_id": "9f5b08c22a134d749cca0d121828f086",
       "version_major": 2,
       "version_minor": 0
      },
      "text/plain": [
       "HBox(children=(IntProgress(value=0, description='Training', max=40), HTML(value='')))"
      ]
     },
     "metadata": {},
     "output_type": "display_data"
    },
    {
     "data": {
      "application/vnd.jupyter.widget-view+json": {
       "model_id": "",
       "version_major": 2,
       "version_minor": 0
      },
      "text/plain": [
       "HBox(children=(IntProgress(value=0, description='Epoch 0', max=1000), HTML(value='')))"
      ]
     },
     "metadata": {},
     "output_type": "display_data"
    },
    {
     "data": {
      "application/vnd.jupyter.widget-view+json": {
       "model_id": "",
       "version_major": 2,
       "version_minor": 0
      },
      "text/plain": [
       "HBox(children=(IntProgress(value=0, description='Epoch 1', max=1000), HTML(value='')))"
      ]
     },
     "metadata": {},
     "output_type": "display_data"
    },
    {
     "data": {
      "application/vnd.jupyter.widget-view+json": {
       "model_id": "",
       "version_major": 2,
       "version_minor": 0
      },
      "text/plain": [
       "HBox(children=(IntProgress(value=0, description='Epoch 2', max=1000), HTML(value='')))"
      ]
     },
     "metadata": {},
     "output_type": "display_data"
    },
    {
     "data": {
      "application/vnd.jupyter.widget-view+json": {
       "model_id": "",
       "version_major": 2,
       "version_minor": 0
      },
      "text/plain": [
       "HBox(children=(IntProgress(value=0, description='Epoch 3', max=1000), HTML(value='')))"
      ]
     },
     "metadata": {},
     "output_type": "display_data"
    },
    {
     "data": {
      "application/vnd.jupyter.widget-view+json": {
       "model_id": "",
       "version_major": 2,
       "version_minor": 0
      },
      "text/plain": [
       "HBox(children=(IntProgress(value=0, description='Epoch 4', max=1000), HTML(value='')))"
      ]
     },
     "metadata": {},
     "output_type": "display_data"
    },
    {
     "data": {
      "application/vnd.jupyter.widget-view+json": {
       "model_id": "",
       "version_major": 2,
       "version_minor": 0
      },
      "text/plain": [
       "HBox(children=(IntProgress(value=0, description='Epoch 5', max=1000), HTML(value='')))"
      ]
     },
     "metadata": {},
     "output_type": "display_data"
    },
    {
     "data": {
      "application/vnd.jupyter.widget-view+json": {
       "model_id": "",
       "version_major": 2,
       "version_minor": 0
      },
      "text/plain": [
       "HBox(children=(IntProgress(value=0, description='Epoch 6', max=1000), HTML(value='')))"
      ]
     },
     "metadata": {},
     "output_type": "display_data"
    },
    {
     "data": {
      "application/vnd.jupyter.widget-view+json": {
       "model_id": "",
       "version_major": 2,
       "version_minor": 0
      },
      "text/plain": [
       "HBox(children=(IntProgress(value=0, description='Epoch 7', max=1000), HTML(value='')))"
      ]
     },
     "metadata": {},
     "output_type": "display_data"
    },
    {
     "data": {
      "application/vnd.jupyter.widget-view+json": {
       "model_id": "",
       "version_major": 2,
       "version_minor": 0
      },
      "text/plain": [
       "HBox(children=(IntProgress(value=0, description='Epoch 8', max=1000), HTML(value='')))"
      ]
     },
     "metadata": {},
     "output_type": "display_data"
    },
    {
     "name": "stdout",
     "output_type": "stream",
     "text": [
      "\n",
      "Elapsed:  70.30866622924805\n"
     ]
    }
   ],
   "source": [
    "start = time.time()\n",
    "\n",
    "\n",
    "early_stopping = keras.callbacks.EarlyStopping('loss', min_delta=1.0, patience=5)\n",
    "reduce_lr = keras.callbacks.ReduceLROnPlateau(monitor='loss', factor=0.5, patience=3, min_lr=0.0001)\n",
    "tensorboard = keras.callbacks.TensorBoard(log_dir='./logs_test_loss_mixture/base', histogram_freq=1, batch_size=1, write_graph=True, \n",
    "                                          write_grads=True, write_images=True, update_freq='batch')\n",
    "\n",
    "history = model.fit(\n",
    "    X_train, X_train,\n",
    "    batch_size=batch_size,\n",
    "    #epochs=epochs,\n",
    "    epochs=40,\n",
    "    callbacks=[TQDMNotebookCallback(), early_stopping, reduce_lr],\n",
    "    #validation_data=(X_train, X_train),\n",
    "    verbose=0\n",
    ")\n",
    "\n",
    "done = time.time()\n",
    "elapsed = done - start\n",
    "print(\"Elapsed: \", elapsed)"
   ]
  },
  {
   "cell_type": "code",
   "execution_count": 10,
   "metadata": {
    "ExecuteTime": {
     "end_time": "2019-05-03T12:45:08.190219Z",
     "start_time": "2019-05-03T12:45:08.041376Z"
    },
    "scrolled": true,
    "slideshow": {
     "slide_type": "-"
    }
   },
   "outputs": [
    {
     "data": {
      "text/html": [
       "<div>\n",
       "<style scoped>\n",
       "    .dataframe tbody tr th:only-of-type {\n",
       "        vertical-align: middle;\n",
       "    }\n",
       "\n",
       "    .dataframe tbody tr th {\n",
       "        vertical-align: top;\n",
       "    }\n",
       "\n",
       "    .dataframe thead th {\n",
       "        text-align: right;\n",
       "    }\n",
       "</style>\n",
       "<table border=\"1\" class=\"dataframe\">\n",
       "  <thead>\n",
       "    <tr style=\"text-align: right;\">\n",
       "      <th></th>\n",
       "      <th>loss</th>\n",
       "      <th>lr</th>\n",
       "    </tr>\n",
       "  </thead>\n",
       "  <tbody>\n",
       "    <tr>\n",
       "      <th>count</th>\n",
       "      <td>9.000000</td>\n",
       "      <td>9.000</td>\n",
       "    </tr>\n",
       "    <tr>\n",
       "      <th>mean</th>\n",
       "      <td>68.055068</td>\n",
       "      <td>0.001</td>\n",
       "    </tr>\n",
       "    <tr>\n",
       "      <th>std</th>\n",
       "      <td>32.022447</td>\n",
       "      <td>0.000</td>\n",
       "    </tr>\n",
       "    <tr>\n",
       "      <th>min</th>\n",
       "      <td>56.181812</td>\n",
       "      <td>0.001</td>\n",
       "    </tr>\n",
       "    <tr>\n",
       "      <th>0%</th>\n",
       "      <td>56.181812</td>\n",
       "      <td>0.001</td>\n",
       "    </tr>\n",
       "    <tr>\n",
       "      <th>25%</th>\n",
       "      <td>56.217786</td>\n",
       "      <td>0.001</td>\n",
       "    </tr>\n",
       "    <tr>\n",
       "      <th>50%</th>\n",
       "      <td>56.388620</td>\n",
       "      <td>0.001</td>\n",
       "    </tr>\n",
       "    <tr>\n",
       "      <th>75%</th>\n",
       "      <td>57.744103</td>\n",
       "      <td>0.001</td>\n",
       "    </tr>\n",
       "    <tr>\n",
       "      <th>95%</th>\n",
       "      <td>117.344875</td>\n",
       "      <td>0.001</td>\n",
       "    </tr>\n",
       "    <tr>\n",
       "      <th>99%</th>\n",
       "      <td>146.040442</td>\n",
       "      <td>0.001</td>\n",
       "    </tr>\n",
       "    <tr>\n",
       "      <th>max</th>\n",
       "      <td>153.214334</td>\n",
       "      <td>0.001</td>\n",
       "    </tr>\n",
       "  </tbody>\n",
       "</table>\n",
       "</div>"
      ],
      "text/plain": [
       "             loss     lr\n",
       "count    9.000000  9.000\n",
       "mean    68.055068  0.001\n",
       "std     32.022447  0.000\n",
       "min     56.181812  0.001\n",
       "0%      56.181812  0.001\n",
       "25%     56.217786  0.001\n",
       "50%     56.388620  0.001\n",
       "75%     57.744103  0.001\n",
       "95%    117.344875  0.001\n",
       "99%    146.040442  0.001\n",
       "max    153.214334  0.001"
      ]
     },
     "metadata": {},
     "output_type": "display_data"
    },
    {
     "data": {
      "text/plain": [
       "<matplotlib.axes._subplots.AxesSubplot at 0x7ff12c3370f0>"
      ]
     },
     "execution_count": 10,
     "metadata": {},
     "output_type": "execute_result"
    },
    {
     "data": {
      "image/png": "[encoded data removed]",
      "text/plain": [
       "<Figure size 576x432 with 1 Axes>"
      ]
     },
     "metadata": {},
     "output_type": "display_data"
    }
   ],
   "source": [
    "df = pd.DataFrame(history.history)\n",
    "display(df.describe(percentiles=[0.25 * i for i in range(4)] + [0.95, 0.99]))\n",
    "df['loss'].plot(figsize=(8, 6))"
   ]
  },
  {
   "cell_type": "code",
   "execution_count": 11,
   "metadata": {
    "ExecuteTime": {
     "end_time": "2019-05-03T12:45:08.429403Z",
     "start_time": "2019-05-03T12:45:08.191663Z"
    },
    "scrolled": true,
    "slideshow": {
     "slide_type": "-"
    }
   },
   "outputs": [
    {
     "name": "stdout",
     "output_type": "stream",
     "text": [
      "1000/1000 [==============================] - 0s 233us/step\n",
      "1785.8868330078126\n"
     ]
    }
   ],
   "source": [
    "lossvals = model.evaluate(X_train, X_train)\n",
    "print(lossvals)"
   ]
  },
  {
   "cell_type": "markdown",
   "metadata": {},
   "source": [
    "# Generate Some Images"
   ]
  },
  {
   "cell_type": "code",
   "execution_count": 15,
   "metadata": {
    "ExecuteTime": {
     "end_time": "2019-05-03T12:46:12.601220Z",
     "start_time": "2019-05-03T12:46:06.168923Z"
    },
    "scrolled": true
   },
   "outputs": [
    {
     "name": "stdout",
     "output_type": "stream",
     "text": [
      "(2, 2, 3)\n",
      "==== 0 0 0\n",
      " m:  [-0.02698147  0.01462236 -0.92625135 -0.92608273  0.95865643  0.95864004\n",
      " -0.92726487 -0.2762249  -0.29383242 -0.85962117]\n",
      " param_m:  [-0.92156863  0.96078431]\n",
      " E[m]:  0.07353799\n",
      " invs:  [4.6700015 3.9699352 3.263553  3.7628102 3.2500765 3.2486928 3.1998398\n",
      " 4.2043867 4.9353404 4.550929 ]\n",
      " param_invs:  [3.14095501 3.14095501]\n",
      " weights:  [2.3930288e-05 2.3930288e-05 4.3166429e-01 3.5018637e-03 3.4083211e-01\n",
      " 1.8954945e-01 3.3888154e-02 2.3930288e-05 2.3930288e-05 4.6846978e-04]\n",
      " param_weight:  [0.5 0.5]\n",
      " pvals:  0      0.065359\n",
      "1      0.012360\n",
      "2      0.014171\n",
      "3      0.016050\n",
      "4      0.017929\n",
      "5      0.019719\n",
      "6      0.021319\n",
      "7      0.022626\n",
      "8      0.023541\n",
      "9      0.023991\n",
      "10     0.023939\n",
      "11     0.023388\n",
      "12     0.022387\n",
      "13     0.021015\n",
      "14     0.019374\n",
      "15     0.017572\n",
      "16     0.015708\n",
      "17     0.013860\n",
      "18     0.012077\n",
      "19     0.010399\n",
      "240    0.011552\n",
      "241    0.013392\n",
      "242    0.015366\n",
      "243    0.017426\n",
      "244    0.019502\n",
      "245    0.021502\n",
      "246    0.023323\n",
      "247    0.024853\n",
      "248    0.025988\n",
      "249    0.026643\n",
      "250    0.026767\n",
      "251    0.026350\n",
      "252    0.025425\n",
      "253    0.024063\n",
      "254    0.022361\n",
      "255    0.146333\n",
      "dtype: float64\n",
      " pixel_val:  20\n",
      "==== 0 0 1\n",
      " m:  [-0.9364088  -0.04315373 -0.09889376 -0.04124939  0.05244303 -0.02865618\n",
      " -0.28646803 -0.9301526   0.46761993  0.96537507]\n",
      " param_m:  [-0.92156863  0.96078431]\n",
      " E[m]:  0.025276095\n",
      " invs:  [3.1351786 3.7044966 4.8577785 4.7931647 4.604888  4.3268704 4.3221283\n",
      " 3.2689004 4.756758  3.234819 ]\n",
      " param_invs:  [3.14095501 3.14095501]\n",
      " weights:  [1.2146860e-02 2.3938917e-05 2.3938917e-05 2.3938917e-05 2.3938917e-05\n",
      " 2.3938917e-05 2.3938917e-05 4.8368439e-01 2.3938872e-05 5.0400132e-01]\n",
      " param_weight:  [0.5 0.5]\n",
      " pvals:  0      0.075127\n",
      "1      0.014039\n",
      "2      0.016009\n",
      "3      0.018016\n",
      "4      0.019974\n",
      "5      0.021782\n",
      "6      0.023331\n",
      "7      0.024512\n",
      "8      0.025236\n",
      "9      0.025445\n",
      "10     0.025122\n",
      "11     0.024293\n",
      "12     0.023024\n",
      "13     0.021409\n",
      "14     0.019557\n",
      "15     0.017579\n",
      "16     0.015571\n",
      "17     0.013616\n",
      "18     0.011773\n",
      "19     0.010080\n",
      "241    0.011289\n",
      "242    0.013024\n",
      "243    0.014872\n",
      "244    0.016783\n",
      "245    0.018690\n",
      "246    0.020509\n",
      "247    0.022143\n",
      "248    0.023493\n",
      "249    0.024468\n",
      "250    0.024997\n",
      "251    0.025039\n",
      "252    0.024592\n",
      "253    0.023688\n",
      "254    0.022396\n",
      "255    0.158425\n",
      "dtype: float64\n",
      " pixel_val:  0\n",
      "==== 0 0 2\n",
      " m:  [-0.4405068   0.28436294 -0.55061924  0.38292846  0.95572335 -0.9314361\n",
      " -0.09415306  0.95603126 -0.08958471 -0.9312763 ]\n",
      " param_m:  [-0.92156863  0.96078431]\n",
      " E[m]:  -0.003587775\n",
      " invs:  [4.9972553 4.554033  5.0110354 4.924446  3.1980147 3.217384  4.274863\n",
      " 3.1852708 5.224844  3.2281094]\n",
      " param_invs:  [3.14095501 3.14095501]\n",
      " weights:  [2.39293749e-05 2.39293749e-05 2.39293749e-05 2.39293749e-05\n",
      " 4.26882356e-01 3.96010637e-01 2.39293749e-05 6.46971986e-02\n",
      " 2.39293749e-05 1.12266354e-01]\n",
      " param_weight:  [0.5 0.5]\n",
      " pvals:  0      0.084084\n",
      "1      0.014689\n",
      "2      0.016557\n",
      "3      0.018426\n",
      "4      0.020217\n",
      "5      0.021838\n",
      "6      0.023196\n",
      "7      0.024201\n",
      "8      0.024784\n",
      "9      0.024902\n",
      "10     0.024545\n",
      "11     0.023740\n",
      "12     0.022546\n",
      "13     0.021043\n",
      "14     0.019324\n",
      "15     0.017483\n",
      "16     0.015605\n",
      "17     0.013762\n",
      "18     0.012009\n",
      "19     0.010381\n",
      "239    0.010005\n",
      "240    0.011523\n",
      "241    0.013151\n",
      "242    0.014857\n",
      "243    0.016590\n",
      "244    0.018287\n",
      "245    0.019873\n",
      "246    0.021264\n",
      "247    0.022380\n",
      "248    0.023147\n",
      "249    0.023514\n",
      "250    0.023454\n",
      "251    0.022971\n",
      "252    0.022099\n",
      "253    0.020898\n",
      "254    0.019444\n",
      "255    0.133619\n",
      "dtype: float64\n",
      " pixel_val:  255\n",
      "==== 0 1 0\n",
      " m:  [ 0.29754204  0.95759386  0.45636222 -0.32642362 -0.9173671  -0.9125401\n",
      " -0.9168327   0.08592224 -0.30005413 -0.0450021 ]\n",
      " param_m:  [-0.92156863  0.96078431]\n",
      " E[m]:  0.041973025\n",
      " invs:  [4.4698086 3.1636496 4.857425  5.0548    3.108099  3.5345447 3.1491494\n",
      " 5.296756  5.290128  4.3730907]\n",
      " param_invs:  [3.14095501 3.14095501]\n",
      " weights:  [1.8657076e-05 5.1146680e-01 1.8657076e-05 1.8657076e-05 6.6556148e-02\n",
      " 6.6343262e-03 4.1523069e-01 1.8657076e-05 1.8657076e-05 1.8657076e-05]\n",
      " param_weight:  [0.5 0.5]\n",
      " pvals:  0      0.066646\n",
      "1      0.011195\n",
      "2      0.012677\n",
      "3      0.014221\n",
      "4      0.015787\n",
      "5      0.017321\n",
      "6      0.018762\n",
      "7      0.020041\n",
      "8      0.021089\n",
      "9      0.021845\n",
      "10     0.022259\n",
      "11     0.022304\n",
      "12     0.021975\n",
      "13     0.021295\n",
      "14     0.020307\n",
      "15     0.019070\n",
      "16     0.017655\n",
      "17     0.016130\n",
      "18     0.014561\n",
      "19     0.013004\n",
      "20     0.011501\n",
      "21     0.010086\n",
      "239    0.010233\n",
      "240    0.011723\n",
      "241    0.013316\n",
      "242    0.014979\n",
      "243    0.016669\n",
      "244    0.018326\n",
      "245    0.019882\n",
      "246    0.021261\n",
      "247    0.022389\n",
      "248    0.023198\n",
      "249    0.023636\n",
      "250    0.023674\n",
      "251    0.023309\n",
      "252    0.022566\n",
      "253    0.021493\n",
      "254    0.020155\n",
      "255    0.146745\n",
      "dtype: float64\n",
      " pixel_val:  17\n",
      "==== 0 1 1\n",
      " m:  [ 0.62501216 -0.19978249 -0.742155    0.44537807  0.42240572  0.29529792\n",
      "  0.5777601   0.6125189  -0.0027445  -0.92660236]\n",
      " param_m:  [-0.92156863 -0.92156863]\n",
      " E[m]:  -0.9264027\n",
      " invs:  [4.462838  3.9175549 4.4889092 5.1843643 4.1335773 4.693748  4.391614\n",
      " 5.326177  4.335984  3.227073 ]\n",
      " param_invs:  [3.14095501 3.14095501]\n",
      " weights:  [1.8641265e-05 1.8641265e-05 5.2566389e-05 1.8641265e-05 1.8641265e-05\n",
      " 1.8641265e-05 1.8641265e-05 1.8641265e-05 1.8641265e-05 9.9979830e-01]\n",
      " param_weight:  [0.5 0.5]\n",
      " pvals:  0     0.147865\n",
      "1     0.026679\n",
      "2     0.030335\n",
      "3     0.034080\n",
      "4     0.037776\n",
      "5     0.041251\n",
      "6     0.044319\n",
      "7     0.046790\n",
      "8     0.048495\n",
      "9     0.049311\n",
      "10    0.049175\n",
      "11    0.048098\n",
      "12    0.046160\n",
      "13    0.043502\n",
      "14    0.040299\n",
      "15    0.036742\n",
      "16    0.033016\n",
      "17    0.029284\n",
      "18    0.025674\n",
      "19    0.022281\n",
      "20    0.019167\n",
      "21    0.016363\n",
      "22    0.013879\n",
      "23    0.011707\n",
      "dtype: float64\n",
      " pixel_val:  1\n",
      "==== 0 1 2\n",
      " m:  [ 0.5366026   0.4060887  -0.9246567  -0.92147774 -0.49254623 -0.06785268\n",
      " -0.070732    0.6031426  -0.91908115  0.07640231]\n",
      " param_m:  [-0.92156863 -0.92156863]\n",
      " E[m]:  -0.92448574\n",
      " invs:  [5.2505927 4.4814215 3.1946974 3.3485603 4.784731  4.4981766 4.406864\n",
      " 4.286633  3.4634404 4.99849  ]\n",
      " param_invs:  [3.14095501 3.14095501]\n",
      " weights:  [1.8661596e-05 1.8661596e-05 9.9247485e-01 4.0230630e-03 1.8661613e-05\n",
      " 1.8661596e-05 1.8661596e-05 1.8661596e-05 3.3713279e-03 1.8661596e-05]\n",
      " param_weight:  [0.5 0.5]\n",
      " pvals:  0     0.148520\n",
      "1     0.025890\n",
      "2     0.029326\n",
      "3     0.032846\n",
      "4     0.036330\n",
      "5     0.039628\n",
      "6     0.042576\n",
      "7     0.045003\n",
      "8     0.046758\n",
      "9     0.047719\n",
      "10    0.047819\n",
      "11    0.047050\n",
      "12    0.045467\n",
      "13    0.043178\n",
      "14    0.040332\n",
      "15    0.037096\n",
      "16    0.033638\n",
      "17    0.030111\n",
      "18    0.026645\n",
      "19    0.023338\n",
      "20    0.020260\n",
      "21    0.017451\n",
      "22    0.014932\n",
      "23    0.012703\n",
      "24    0.010755\n",
      "dtype: float64\n",
      " pixel_val:  0\n",
      "row 0\n",
      "==== 1 0 0\n",
      " m:  [ 0.572942   -0.22543852 -0.24093542 -0.16577853 -0.18763357 -0.92392653\n",
      " -0.9212014   0.20626245  0.6564379   0.2937414 ]\n",
      " param_m:  [-0.92156863 -0.21568627]\n",
      " E[m]:  -0.56462437\n",
      " invs:  [5.09713   3.2168436 3.8791006 4.363665  3.6453102 3.7825246 3.2676864\n",
      " 4.9298677 4.6442823 5.03559  ]\n",
      " param_invs:  [3.14095501 3.14095501]\n",
      " weights:  [2.3362794e-05 4.3253818e-01 1.4146765e-02 5.2659772e-03 5.7211913e-02\n",
      " 2.3449831e-02 4.6729389e-01 2.3362794e-05 2.3362794e-05 2.3362794e-05]\n",
      " param_weight:  [0.5 0.5]\n",
      " pvals:  0      0.058360\n",
      "1      0.011566\n",
      "2      0.013446\n",
      "3      0.015467\n",
      "4      0.017573\n",
      "5      0.019682\n",
      "6      0.021687\n",
      "7      0.023456\n",
      "8      0.024850\n",
      "9      0.025741\n",
      "10     0.026040\n",
      "11     0.025719\n",
      "12     0.024818\n",
      "13     0.023430\n",
      "14     0.021680\n",
      "15     0.019703\n",
      "16     0.017621\n",
      "17     0.015538\n",
      "18     0.013533\n",
      "19     0.011661\n",
      "90     0.011593\n",
      "91     0.013346\n",
      "92     0.015214\n",
      "93     0.017143\n",
      "94     0.019058\n",
      "95     0.020863\n",
      "96     0.022449\n",
      "97     0.023718\n",
      "98     0.024601\n",
      "99     0.025062\n",
      "100    0.025099\n",
      "101    0.024729\n",
      "102    0.023979\n",
      "103    0.022891\n",
      "104    0.021511\n",
      "105    0.019877\n",
      "106    0.018009\n",
      "107    0.015945\n",
      "108    0.013796\n",
      "109    0.011718\n",
      "dtype: float64\n",
      " pixel_val:  14\n",
      "==== 1 0 1\n",
      " m:  [-0.1511789   0.00524569  0.9586646   0.9590532   0.4958288  -0.07450169\n",
      " -0.91732854 -0.17578626  0.12906183 -0.1835268 ]\n",
      " param_m:  [-0.92156863  0.96078431]\n",
      " E[m]:  0.0680018\n",
      " invs:  [4.967372  4.902478  3.193351  3.174179  4.942125  5.2871294 3.2301297\n",
      " 4.903962  4.5603514 4.4231563]\n",
      " param_invs:  [3.14095501 3.14095501]\n",
      " weights:  [2.3147075e-05 2.3147075e-05 1.5471904e-01 3.7033615e-01 4.9246955e-05\n",
      " 2.3147075e-05 4.7475672e-01 2.3147075e-05 2.3147075e-05 2.3147075e-05]\n",
      " param_weight:  [0.5 0.5]\n",
      " pvals:  0      0.057041\n",
      "1      0.010725\n",
      "2      0.012354\n",
      "3      0.014085\n",
      "4      0.015871\n",
      "5      0.017647\n",
      "6      0.019336\n",
      "7      0.020847\n",
      "8      0.022088\n",
      "9      0.022977\n",
      "10     0.023449\n",
      "11     0.023468\n",
      "12     0.023032\n",
      "13     0.022175\n",
      "14     0.020959\n",
      "15     0.019466\n",
      "16     0.017789\n",
      "17     0.016017\n",
      "18     0.014229\n",
      "19     0.012492\n",
      "20     0.010852\n",
      "239    0.010166\n",
      "240    0.011703\n",
      "241    0.013360\n",
      "242    0.015105\n",
      "243    0.016895\n",
      "244    0.018668\n",
      "245    0.020353\n",
      "246    0.021868\n",
      "247    0.023131\n",
      "248    0.024064\n",
      "249    0.024607\n",
      "250    0.024722\n",
      "251    0.024402\n",
      "252    0.023669\n",
      "253    0.022572\n",
      "254    0.021180\n",
      "255    0.152525\n",
      "dtype: float64\n",
      " pixel_val:  0\n"
     ]
    },
    {
     "name": "stdout",
     "output_type": "stream",
     "text": [
      "==== 1 0 2\n",
      " m:  [ 0.268583    0.428555    0.03064537  0.2275523  -0.2516753  -0.9328428\n",
      " -0.22948551  0.25807273  0.28130144  0.5757891 ]\n",
      " param_m:  [-0.92156863 -0.92156863]\n",
      " E[m]:  -0.9326105\n",
      " invs:  [4.917855  3.9352956 4.6672616 4.651613  5.0634604 3.2011693 5.197523\n",
      " 4.3363533 4.9981375 4.775869 ]\n",
      " param_invs:  [3.14095501 3.14095501]\n",
      " weights:  [2.3256514e-05 2.3256514e-05 2.3256514e-05 2.3256514e-05 2.3256514e-05\n",
      " 9.9979067e-01 2.3256514e-05 2.3256514e-05 2.3256514e-05 2.3256514e-05]\n",
      " param_weight:  [0.5 0.5]\n",
      " pvals:  0     0.174594\n",
      "1     0.029519\n",
      "2     0.033075\n",
      "3     0.036590\n",
      "4     0.039913\n",
      "5     0.042874\n",
      "6     0.045302\n",
      "7     0.047040\n",
      "8     0.047971\n",
      "9     0.048026\n",
      "10    0.047203\n",
      "11    0.045560\n",
      "12    0.043210\n",
      "13    0.040307\n",
      "14    0.037020\n",
      "15    0.033520\n",
      "16    0.029961\n",
      "17    0.026473\n",
      "18    0.023153\n",
      "19    0.020069\n",
      "20    0.017262\n",
      "21    0.014749\n",
      "22    0.012530\n",
      "23    0.010593\n",
      "dtype: float64\n",
      " pixel_val:  6\n",
      "==== 1 1 0\n",
      " m:  [-0.48981115  0.09500539  0.63069487 -0.8535477  -0.03636081 -0.9227151\n",
      "  0.44959128  0.09279224 -0.18718505  0.26468986]\n",
      " param_m:  [-0.92156863 -0.92156863]\n",
      " E[m]:  -0.92254144\n",
      " invs:  [5.222886  5.0480967 4.9152775 4.1156607 4.2007565 3.2012296 4.4465723\n",
      " 4.0238333 4.91111   5.1093144]\n",
      " param_invs:  [3.14095501 3.14095501]\n",
      " weights:  [1.9218573e-05 1.9218591e-05 1.9218591e-05 2.3117878e-04 1.9218591e-05\n",
      " 9.9961501e-01 1.9218591e-05 1.9218591e-05 1.9218591e-05 1.9218591e-05]\n",
      " param_weight:  [0.5 0.5]\n",
      " pvals:  0     0.141552\n",
      "1     0.025061\n",
      "2     0.028489\n",
      "3     0.032032\n",
      "4     0.035574\n",
      "5     0.038970\n",
      "6     0.042054\n",
      "7     0.044654\n",
      "8     0.046608\n",
      "9     0.047784\n",
      "10    0.048098\n",
      "11    0.047528\n",
      "12    0.046116\n",
      "13    0.043960\n",
      "14    0.041204\n",
      "15    0.038015\n",
      "16    0.034565\n",
      "17    0.031014\n",
      "18    0.027497\n",
      "19    0.024121\n",
      "20    0.020961\n",
      "21    0.018067\n",
      "22    0.015462\n",
      "23    0.013154\n",
      "24    0.011134\n",
      "dtype: float64\n",
      " pixel_val:  2\n",
      "==== 1 1 1\n",
      " m:  [ 0.18637308 -0.9273337  -0.01997566  0.5885093   0.5527158  -0.8270082\n",
      " -0.00701985  0.4993508   0.3568629   0.30938274]\n",
      " param_m:  [-0.92156863 -0.92156863]\n",
      " E[m]:  -0.92708266\n",
      " invs:  [4.042329  3.1926098 4.8217216 4.4453278 4.115145  4.2037697 4.1611423\n",
      " 4.8725543 4.4663715 4.7338142]\n",
      " param_invs:  [3.14095501 3.14095501]\n",
      " weights:  [1.9226034e-05 9.9923736e-01 1.9226656e-05 1.9226656e-05 1.9226656e-05\n",
      " 6.0887169e-04 1.9227133e-05 1.9226656e-05 1.9226656e-05 1.9226656e-05]\n",
      " param_weight:  [0.5 0.5]\n",
      " pvals:  0     0.157761\n",
      "1     0.027060\n",
      "2     0.030514\n",
      "3     0.034010\n",
      "4     0.037416\n",
      "5     0.040580\n",
      "6     0.043335\n",
      "7     0.045518\n",
      "8     0.046988\n",
      "9     0.047646\n",
      "10    0.047443\n",
      "11    0.046394\n",
      "12    0.044574\n",
      "13    0.042104\n",
      "14    0.039138\n",
      "15    0.035843\n",
      "16    0.032381\n",
      "17    0.028898\n",
      "18    0.025512\n",
      "19    0.022310\n",
      "20    0.019351\n",
      "21    0.016664\n",
      "22    0.014256\n",
      "23    0.012124\n",
      "24    0.010256\n",
      "dtype: float64\n",
      " pixel_val:  13\n",
      "==== 1 1 2\n",
      " m:  [ 0.19747478 -0.03060128  0.09690398  0.941401   -0.09278369  0.94392896\n",
      "  0.9837307  -0.92687446  0.34570193  0.39409384]\n",
      " param_m:  [-0.92156863  0.96078431]\n",
      " E[m]:  0.022038434\n",
      " invs:  [5.138647  4.1872473 5.247687  4.111856  4.325484  3.945681  3.2012482\n",
      " 3.1820307 4.4945307 4.6665034]\n",
      " param_invs:  [3.14095501 3.14095501]\n",
      " weights:  [1.92264724e-05 1.93162887e-05 1.92264724e-05 9.22515709e-03\n",
      " 1.92318639e-05 1.44046275e-02 4.73465085e-01 5.02789497e-01\n",
      " 1.92264724e-05 1.92264724e-05]\n",
      " param_weight:  [0.5 0.5]\n",
      " pvals:  0      0.079820\n",
      "1      0.013522\n",
      "2      0.015225\n",
      "3      0.016946\n",
      "4      0.018625\n",
      "5      0.020184\n",
      "6      0.021546\n",
      "7      0.022631\n",
      "8      0.023370\n",
      "9      0.023715\n",
      "10     0.023641\n",
      "11     0.023152\n",
      "12     0.022284\n",
      "13     0.021093\n",
      "14     0.019652\n",
      "15     0.018042\n",
      "16     0.016340\n",
      "17     0.014618\n",
      "18     0.012935\n",
      "19     0.011335\n",
      "243    0.011274\n",
      "244    0.013177\n",
      "245    0.015219\n",
      "246    0.017287\n",
      "247    0.019226\n",
      "248    0.020886\n",
      "249    0.022176\n",
      "250    0.023076\n",
      "251    0.023610\n",
      "252    0.023797\n",
      "253    0.023640\n",
      "254    0.023141\n",
      "255    0.202329\n",
      "dtype: float64\n",
      " pixel_val:  15\n",
      "row 1\n",
      "Generated:  6.3982439041137695\n"
     ]
    },
    {
     "data": {
      "image/png": "[encoded data removed]",
      "text/plain": [
       "<Figure size 360x360 with 1 Axes>"
      ]
     },
     "metadata": {},
     "output_type": "display_data"
    },
    {
     "name": "stdout",
     "output_type": "stream",
     "text": [
      "Orig: \n"
     ]
    },
    {
     "data": {
      "image/png": "[encoded data removed]",
      "text/plain": [
       "<Figure size 216x216 with 1 Axes>"
      ]
     },
     "metadata": {},
     "output_type": "display_data"
    },
    {
     "name": "stdout",
     "output_type": "stream",
     "text": [
      "Elapsed:  6.422557592391968\n"
     ]
    }
   ],
   "source": [
    "debug = True\n",
    "\n",
    "def gen_image(model, num_samples=batch_size):\n",
    "    x_sample = np.zeros((num_samples, img_rows, img_cols, img_chns))\n",
    "    \n",
    "    # Iteratively generate each conditional pixel P(x_i | x_{1,..,i-1})\n",
    "    for i in range(img_rows):\n",
    "        for j in range(img_cols):\n",
    "            for k in range(img_chns):\n",
    "                x_out = model.predict(x_sample, num_samples)\n",
    "                for n in range(num_samples):\n",
    "                    offset = k * n_components\n",
    "                    x_ms = x_out[n, i, j, offset:offset + n_components]\n",
    "                    offset = n_components * img_chns + k * n_components\n",
    "                    x_invs = x_out[n, i, j, offset:offset + n_components]\n",
    "                    offset = 2 * n_components * img_chns + k * n_components\n",
    "                    weights = softmax(x_out[n, i, j, offset:offset + n_components])\n",
    "                    pvals = compute_mixture(x_ms, x_invs, weights, n_components)\n",
    "                    pvals /= (np.sum(pvals) + 1e-5)\n",
    "                    pixel_val = np.argmax(np.random.multinomial(1, pvals))\n",
    "                    x_sample[n, i, j, k] = pixel_val / 255.\n",
    "                    if 0 <= i <= 1 and 0 <= j <= 1 and debug:\n",
    "                        print(\"====\", i, j, k)\n",
    "                        print(\" m: \", x_ms)\n",
    "                        print(\" param_m: \", (params[0][i, j, k] - 127.5) / 127.5)\n",
    "                        print(\" E[m]: \", (x_ms * weights).sum())\n",
    "                        print(\" invs: \", x_invs)\n",
    "                        print(\" param_invs: \", np.log(127.5 / params[1][i, j, k]))\n",
    "                        print(\" weights: \", weights)\n",
    "                        print(\" param_weight: \", params[2][i, j, k])\n",
    "                        s = pd.Series(pvals)\n",
    "                        print(\" pvals: \", s[s>1e-2])\n",
    "                        print(\" pixel_val: \", pixel_val)\n",
    "                        #print(\" x_out[n, i, j, :]: \", x_out[n, i, j, :])\n",
    "                        #print(\" x_out: \", x_out)\n",
    "                        #print(\" sample_val: \", x_sample[n, i, j, k])\n",
    "                        #assert False\n",
    "        if debug:\n",
    "            print(\"row\", i)\n",
    "                \n",
    "    return x_sample\n",
    "\n",
    "\n",
    "start = time.time()\n",
    "\n",
    "n = 1 if debug else 10\n",
    "figure = np.zeros((img_rows * ((n - 1) // 10 + 1), img_cols * n, img_chns))\n",
    "print(figure.shape)\n",
    "for i in range(n):\n",
    "    samples = gen_image(model)\n",
    "    for j in range(batch_size):\n",
    "        img = samples[j] \n",
    "        d_x = ((i * batch_size + j) // 10) * img_rows\n",
    "        d_y = ((i * batch_size + j) % 10) * img_cols\n",
    "        figure[d_x:d_x + img_rows, d_y:d_y + img_cols, :] = img\n",
    "        \n",
    "print(\"Generated: \", elapsed)\n",
    "plt.figure(figsize=(5, 5))\n",
    "plt.imshow(figure)\n",
    "plt.show()\n",
    "\n",
    "print(\"Orig: \")\n",
    "plt.figure(figsize=(3, 3))\n",
    "plt.imshow(orig_img)\n",
    "plt.show()\n",
    "\n",
    "done = time.time()\n",
    "elapsed = done - start\n",
    "print(\"Elapsed: \", elapsed)"
   ]
  },
  {
   "cell_type": "markdown",
   "metadata": {},
   "source": [
    "# Validatation\n",
    "\n",
    "Check that we were able to approximately recover the original distributions"
   ]
  },
  {
   "cell_type": "code",
   "execution_count": 18,
   "metadata": {
    "ExecuteTime": {
     "end_time": "2019-05-03T12:46:57.569786Z",
     "start_time": "2019-05-03T12:46:42.807020Z"
    },
    "scrolled": false
   },
   "outputs": [
    {
     "name": "stdout",
     "output_type": "stream",
     "text": [
      "[-0.92156863  0.96078431] [3.14095501 3.14095501] [0.5 0.5]\n",
      "[-0.02698147  0.01462236 -0.92625135 -0.92608273  0.95865643  0.95864004\n",
      " -0.92726487 -0.2762249  -0.29383242 -0.85962117] [4.6700015 3.9699352 3.263553  3.7628102 3.2500765 3.2486928 3.1998398\n",
      " 4.2043867 4.9353404 4.550929 ] [2.3930288e-05 2.3930288e-05 4.3166429e-01 3.5018637e-03 3.4083211e-01\n",
      " 1.8954945e-01 3.3888154e-02 2.3930288e-05 2.3930288e-05 4.6846978e-04]\n",
      "KL Divergence(orig, gen) for (0,0,0): 0.01\n",
      "[-0.92156863  0.96078431] [3.14095501 3.14095501] [0.5 0.5]\n",
      "[-0.9364088  -0.04315373 -0.09889376 -0.04124939  0.05244303 -0.02865618\n",
      " -0.28646803 -0.9301526   0.46761993  0.96537507] [3.1351786 3.7044966 4.8577785 4.7931647 4.604888  4.3268704 4.3221283\n",
      " 3.2689004 4.756758  3.234819 ] [1.2146860e-02 2.3938917e-05 2.3938917e-05 2.3938917e-05 2.3938917e-05\n",
      " 2.3938917e-05 2.3938917e-05 4.8368439e-01 2.3938872e-05 5.0400132e-01]\n",
      "KL Divergence(orig, gen) for (0,0,1): 0.01\n",
      "[-0.92156863  0.96078431] [3.14095501 3.14095501] [0.5 0.5]\n",
      "[-0.4405068   0.28436294 -0.55061924  0.38292846  0.95572335 -0.9314361\n",
      " -0.09415306  0.95603126 -0.08958471 -0.9312763 ] [4.9972553 4.554033  5.0110354 4.924446  3.1980147 3.217384  4.274863\n",
      " 3.1852708 5.224844  3.2281094] [2.39293749e-05 2.39293749e-05 2.39293749e-05 2.39293749e-05\n",
      " 4.26882356e-01 3.96010637e-01 2.39293749e-05 6.46971986e-02\n",
      " 2.39293749e-05 1.12266354e-01]\n",
      "KL Divergence(orig, gen) for (0,0,2): 0.01\n",
      "[-0.92156863  0.96078431] [3.14095501 3.14095501] [0.5 0.5]\n",
      "[ 0.29754204  0.95759386  0.45636222 -0.32642362 -0.9173671  -0.9125401\n",
      " -0.9168327   0.08592224 -0.30005413 -0.0450021 ] [4.4698086 3.1636496 4.857425  5.0548    3.108099  3.5345447 3.1491494\n",
      " 5.296756  5.290128  4.3730907] [1.8657076e-05 5.1146680e-01 1.8657076e-05 1.8657076e-05 6.6556148e-02\n",
      " 6.6343262e-03 4.1523069e-01 1.8657076e-05 1.8657076e-05 1.8657076e-05]\n",
      "KL Divergence(orig, gen) for (0,1,0): 0.00\n",
      "[-0.92156863 -0.92156863] [3.14095501 3.14095501] [0.5 0.5]\n",
      "[ 0.62501216 -0.19978249 -0.742155    0.44537807  0.42240572  0.29529792\n",
      "  0.5777601   0.6125189  -0.0027445  -0.92660236] [4.462838  3.9175549 4.4889092 5.1843643 4.1335773 4.693748  4.391614\n",
      " 5.326177  4.335984  3.227073 ] [1.8641265e-05 1.8641265e-05 5.2566389e-05 1.8641265e-05 1.8641265e-05\n",
      " 1.8641265e-05 1.8641265e-05 1.8641265e-05 1.8641265e-05 9.9979830e-01]\n",
      "KL Divergence(orig, gen) for (0,1,1): 0.01\n",
      "[-0.92156863 -0.92156863] [3.14095501 3.14095501] [0.5 0.5]\n",
      "[ 0.5366026   0.4060887  -0.9246567  -0.92147774 -0.49254623 -0.06785268\n",
      " -0.070732    0.6031426  -0.91908115  0.07640231] [5.2505927 4.4814215 3.1946974 3.3485603 4.784731  4.4981766 4.406864\n",
      " 4.286633  3.4634404 4.99849  ] [1.8661596e-05 1.8661596e-05 9.9247485e-01 4.0230630e-03 1.8661613e-05\n",
      " 1.8661596e-05 1.8661596e-05 1.8661596e-05 3.3713279e-03 1.8661596e-05]\n",
      "KL Divergence(orig, gen) for (0,1,2): 0.00\n",
      "[-0.92156863 -0.21568627] [3.14095501 3.14095501] [0.5 0.5]\n",
      "[ 0.572942   -0.22543852 -0.24093542 -0.16577853 -0.18763357 -0.92392653\n",
      " -0.9212014   0.20626245  0.6564379   0.2937414 ] [5.09713   3.2168436 3.8791006 4.363665  3.6453102 3.7825246 3.2676864\n",
      " 4.9298677 4.6442823 5.03559  ] [2.3362794e-05 4.3253818e-01 1.4146765e-02 5.2659772e-03 5.7211913e-02\n",
      " 2.3449831e-02 4.6729389e-01 2.3362794e-05 2.3362794e-05 2.3362794e-05]\n",
      "KL Divergence(orig, gen) for (1,0,0): 0.01\n",
      "[-0.92156863  0.96078431] [3.14095501 3.14095501] [0.5 0.5]\n",
      "[-0.1511789   0.00524569  0.9586646   0.9590532   0.4958288  -0.07450169\n",
      " -0.91732854 -0.17578626  0.12906183 -0.1835268 ] [4.967372  4.902478  3.193351  3.174179  4.942125  5.2871294 3.2301297\n",
      " 4.903962  4.5603514 4.4231563] [2.3147075e-05 2.3147075e-05 1.5471904e-01 3.7033615e-01 4.9246955e-05\n",
      " 2.3147075e-05 4.7475672e-01 2.3147075e-05 2.3147075e-05 2.3147075e-05]\n",
      "KL Divergence(orig, gen) for (1,0,1): 0.01\n",
      "[-0.92156863 -0.92156863] [3.14095501 3.14095501] [0.5 0.5]\n",
      "[ 0.268583    0.428555    0.03064537  0.2275523  -0.2516753  -0.9328428\n",
      " -0.22948551  0.25807273  0.28130144  0.5757891 ] [4.917855  3.9352956 4.6672616 4.651613  5.0634604 3.2011693 5.197523\n",
      " 4.3363533 4.9981375 4.775869 ] [2.3256514e-05 2.3256514e-05 2.3256514e-05 2.3256514e-05 2.3256514e-05\n",
      " 9.9979067e-01 2.3256514e-05 2.3256514e-05 2.3256514e-05 2.3256514e-05]\n",
      "KL Divergence(orig, gen) for (1,0,2): 0.02\n",
      "[-0.92156863 -0.92156863] [3.14095501 3.14095501] [0.5 0.5]\n",
      "[-0.48981115  0.09500539  0.63069487 -0.8535477  -0.03636081 -0.9227151\n",
      "  0.44959128  0.09279224 -0.18718505  0.26468986] [5.222886  5.0480967 4.9152775 4.1156607 4.2007565 3.2012296 4.4465723\n",
      " 4.0238333 4.91111   5.1093144] [1.9218573e-05 1.9218591e-05 1.9218591e-05 2.3117878e-04 1.9218591e-05\n",
      " 9.9961501e-01 1.9218591e-05 1.9218591e-05 1.9218591e-05 1.9218591e-05]\n",
      "KL Divergence(orig, gen) for (1,1,0): 0.00\n",
      "[-0.92156863 -0.92156863] [3.14095501 3.14095501] [0.5 0.5]\n",
      "[ 0.18637308 -0.9273337  -0.01997566  0.5885093   0.5527158  -0.8270082\n",
      " -0.00701985  0.4993508   0.3568629   0.30938274] [4.042329  3.1926098 4.8217216 4.4453278 4.115145  4.2037697 4.1611423\n",
      " 4.8725543 4.4663715 4.7338142] [1.9226034e-05 9.9923736e-01 1.9226656e-05 1.9226656e-05 1.9226656e-05\n",
      " 6.0887169e-04 1.9227133e-05 1.9226656e-05 1.9226656e-05 1.9226656e-05]\n",
      "KL Divergence(orig, gen) for (1,1,1): 0.00\n",
      "[-0.92156863  0.96078431] [3.14095501 3.14095501] [0.5 0.5]\n",
      "[ 0.19747478 -0.03060128  0.09690398  0.941401   -0.09278369  0.94392896\n",
      "  0.9837307  -0.92687446  0.34570193  0.39409384] [5.138647  4.1872473 5.247687  4.111856  4.325484  3.945681  3.2012482\n",
      " 3.1820307 4.4945307 4.6665034] [1.92264724e-05 1.93162887e-05 1.92264724e-05 9.22515709e-03\n",
      " 1.92318639e-05 1.44046275e-02 4.73465085e-01 5.02789497e-01\n",
      " 1.92264724e-05 1.92264724e-05]\n",
      "KL Divergence(orig, gen) for (1,1,2): 0.03\n"
     ]
    },
    {
     "data": {
      "image/png": "[encoded data removed]",
      "text/plain": [
       "<Figure size 720x576 with 3 Axes>"
      ]
     },
     "metadata": {},
     "output_type": "display_data"
    },
    {
     "data": {
      "image/png": "[encoded data removed]",
      "text/plain": [
       "<Figure size 720x576 with 3 Axes>"
      ]
     },
     "metadata": {},
     "output_type": "display_data"
    },
    {
     "data": {
      "image/png": "[encoded data removed]",
      "text/plain": [
       "<Figure size 720x576 with 3 Axes>"
      ]
     },
     "metadata": {},
     "output_type": "display_data"
    },
    {
     "data": {
      "image/png": "[encoded data removed]",
      "text/plain": [
       "<Figure size 720x576 with 3 Axes>"
      ]
     },
     "metadata": {},
     "output_type": "display_data"
    }
   ],
   "source": [
    "N = 1000\n",
    "\n",
    "# Generated params \n",
    "x_sample = np.zeros((num_samples, img_rows, img_cols, img_chns))\n",
    "x_out = model.predict(x_sample, num_samples)\n",
    "\n",
    "for i in range(img_cols):\n",
    "    for j in range(img_rows):\n",
    "        fig = plt.figure(figsize=(10,8), )\n",
    "        fig.suptitle(\"pixel (%d, %d)\" % (i, j), fontsize=16)\n",
    "        for k in range(img_chns):\n",
    "            ax = plt.subplot(img_chns, 1, k + 1)\n",
    "            \n",
    "            # Orig params\n",
    "            ms = (params[0][i, j, k, :] - 127.5)  / 127.5\n",
    "            invss = np.log(127.5 / params[1][i, j, k, :])\n",
    "            weights = params[2][i, j, k, :]\n",
    "            \n",
    "            pvals_orig = compute_mixture(ms, invss, weights, n_comps=2)\n",
    "            print(ms, invss, weights)\n",
    "            pvals_orig /= pvals_orig.sum()\n",
    "            samples = pd.Series(np.random.choice(len(pvals_orig), N, p=pvals_orig))\n",
    "            samples.hist(bins=128, ax=ax, alpha=0.5, label='orig')\n",
    "            \n",
    "            # Generated params\n",
    "            offset = k * n_components\n",
    "            ms = x_out[n, i, j, offset:offset + n_components]\n",
    "            offset = n_components * img_chns + k * n_components\n",
    "            invss = x_out[n, i, j, offset:offset + n_components]\n",
    "            offset = 2 * n_components * img_chns + k * n_components\n",
    "            weights = softmax(x_out[n, i, j, offset:offset + n_components])\n",
    "            \n",
    "            pvals_gen = compute_mixture(ms, invss, weights, n_components)\n",
    "            print(ms, invss, weights)\n",
    "            pvals_gen /= pvals_gen.sum()\n",
    "            samples = pd.Series(np.random.choice(len(pvals_gen), N, p=pvals_gen))\n",
    "            samples.hist(bins=128, ax=ax, alpha=0.5, label='generated')\n",
    "            \n",
    "            ax.legend()\n",
    "            print('KL Divergence(orig, gen) for (%d,%d,%d): %.2f' % (i, j, k, scipy.stats.entropy(pvals_orig, pvals_gen)))"
   ]
  },
  {
   "cell_type": "code",
   "execution_count": null,
   "metadata": {},
   "outputs": [],
   "source": []
  },
  {
   "cell_type": "code",
   "execution_count": null,
   "metadata": {},
   "outputs": [],
   "source": []
  },
  {
   "cell_type": "code",
   "execution_count": null,
   "metadata": {},
   "outputs": [],
   "source": []
  },
  {
   "cell_type": "markdown",
   "metadata": {
    "slideshow": {
     "slide_type": "slide"
    }
   },
   "source": [
    "# Notes\n",
    "\n"
   ]
  },
  {
   "cell_type": "markdown",
   "metadata": {},
   "source": [
    "### 2019-03-03\n",
    "\n",
    "Issues:\n",
    "    \n",
    "* Wrong order of RGB slices when repeating image\n",
    "* Used old 255. value vs. 127.5\n",
    "* Added non-zero init to param values\n",
    "    \n",
    "Next TODO:\n",
    "\n",
    "* Plot histograms of 0 to 255 pixel values, somehow see that the mass is the same?\n",
    "* Maybe KL divergence?"
   ]
  },
  {
   "cell_type": "markdown",
   "metadata": {},
   "source": [
    "### 2019-03-07\n",
    "\n",
    " * It looks like my generated distributions are spreading too much mass over the range, which might be because I'm allowing the \"invs\" param to be small (< 1), which will naturally spread it very wide.  The model probably gets confused in these situations and finds a local minima that spreads it wide instead of using the power of the mixtures.  Maybe try to constrain it a bit more?\n",
    " \n",
    "<img src=\"images/2019-03-07-spread.png\">\n",
    "\n",
    " * Tried to make \"invs\" to be in range (2, 7), but it looks like it made the spreading worse.  It looks like these bimodal distributions aren't using the weights properly.  Maybe I need to debug my loss function?  The mixture maybe aren't being taken into account properly?\n"
   ]
  },
  {
   "cell_type": "markdown",
   "metadata": {},
   "source": [
    "### 2019-03-25\n",
    "\n",
    "Issues:\n",
    "\n",
    "* Made minimum invss = 2.0 (by using `+2` in Lambda) so that we don't get distributions that are too diffuse\n",
    "* Made weights initialized all at (1's) to get a more even spread\n",
    "\n",
    "\n",
    "Comments:\n",
    "\n",
    "<img src=\"images/2019-03-25-spread.png\">\n",
    "\n",
    "* I have a feeling that we can't recover the weights easily sometimes because the initalized weights (glorat_uniform) converges to a weird local minumum.  Makes sense b/c mixutre models in general won't converge to a global minimum through gradient descent.\n",
    "    * Take a look at diagram: For the \"G\", \"B\" pixels, one of the mixtures looks pretty close, while the other isn't too bad (the \"m\" is too far to the left, so all the mass gets to the \"0\" pixel).  \n",
    "    * However, for the \"R\" histogram, it converged to some bad local minima. You can see the mass is spread out so far.  The weight distribution is (0.95, 0.05) and the m is around (0.41,0.47) (in the middle).  This probably means that we found a local minima but it doesn't at all match the true distribution.\n",
    "* Interesting, loss goes down to (27-ish) but KL diverge is relatively big for the distributions.  Makes sense since I'm not optimizing for KL divergence (in real life I have no idea what the distributions are.\n",
    "\n",
    "Next TODO:\n",
    "\n",
    "* Assuming that I can't converge to a global minimum (b/c of SGD doesn't allow it), maybe what I need is to have *over-capacity* (i.e. more mixture components) so I can find a good local minima that better approximates what I want."
   ]
  },
  {
   "cell_type": "markdown",
   "metadata": {},
   "source": [
    "# 2019-04-28\n",
    "\n",
    "Finally found some time to work on it...\n",
    "\n",
    "* Found a bug!  In the loss function, I was still using protection limits of [0.001, 0.999] but I rescaled things so it really should have been [-0.999, 0.999]\n",
    "* I played around with different number of mixture components (while the source dataset still has 2 components) and I was right!  With only 2 components it's hard to model 2 components, but at 4/5, it gets pretty close (5 components):\n",
    "\n",
    "<img src=\"images/2019-04-28-spread1.png\">\n",
    "\n",
    "However, the one pixel that has values that are closer together doesn't quite match:\n",
    "\n",
    "\n",
    "<img src=\"images/2019-04-28-spread2.png\">\n",
    "\n",
    "Increasing the components to 10 seems to solve it:\n",
    "\n",
    "<img src=\"images/2019-04-28-spread3-10comps.png\">"
   ]
  },
  {
   "cell_type": "code",
   "execution_count": null,
   "metadata": {},
   "outputs": [],
   "source": []
  }
 ],
 "metadata": {
  "celltoolbar": "Slideshow",
  "kernelspec": {
   "display_name": "Python 3",
   "language": "python",
   "name": "python3"
  },
  "language_info": {
   "codemirror_mode": {
    "name": "ipython",
    "version": 3
   },
   "file_extension": ".py",
   "mimetype": "text/x-python",
   "name": "python",
   "nbconvert_exporter": "python",
   "pygments_lexer": "ipython3",
   "version": "3.6.5"
  },
  "widgets": {
   "state": {
    "042d9353a5294a1cae93f8eb9e9a3c84": {
     "views": [
      {
       "cell_index": 12
      }
     ]
    },
    "05e25527c52843438585a66b7e9f443c": {
     "views": [
      {
       "cell_index": 12
      }
     ]
    },
    "06fdc638a3dc45a0a1e82f2b3c90c18d": {
     "views": [
      {
       "cell_index": 12
      }
     ]
    },
    "07f49ab2133c40a4a245e0a348843084": {
     "views": [
      {
       "cell_index": 12
      }
     ]
    },
    "12369f27c46c46f58c925a3d9749e65d": {
     "views": [
      {
       "cell_index": 12
      }
     ]
    },
    "16bcb109a6814007801cf814c76aa6d3": {
     "views": [
      {
       "cell_index": 12
      }
     ]
    },
    "1930a5477ce44850aaa99c20f3f7e542": {
     "views": [
      {
       "cell_index": 12
      }
     ]
    },
    "194b186d11d94c28afd8a01d9fd8ae1e": {
     "views": [
      {
       "cell_index": 12
      }
     ]
    },
    "1ccc61b6a278489eacb5735a740e79bf": {
     "views": [
      {
       "cell_index": 12
      }
     ]
    },
    "1d67ae6836244a81bff253e0426488ff": {
     "views": [
      {
       "cell_index": 12
      }
     ]
    },
    "213bd5ec7a124467b85e240c7bdcc819": {
     "views": [
      {
       "cell_index": 12
      }
     ]
    },
    "23c591bc3a7e4df5b0e21677e2869f27": {
     "views": [
      {
       "cell_index": 12
      }
     ]
    },
    "24382361c62a4bbc9741c2129be71810": {
     "views": [
      {
       "cell_index": 12
      }
     ]
    },
    "24419d69ef3347819fcc70448978bf05": {
     "views": [
      {
       "cell_index": 12
      }
     ]
    },
    "25ecd0ca842e43fcabc04a82fff2dac1": {
     "views": [
      {
       "cell_index": 12
      }
     ]
    },
    "26bab0144edd46609ddcdd6bfd65115f": {
     "views": [
      {
       "cell_index": 12
      }
     ]
    },
    "28707906c2344d00b07ee40c479121db": {
     "views": [
      {
       "cell_index": 12
      }
     ]
    },
    "287646592b8e41f2920e73c7e92d2ec0": {
     "views": [
      {
       "cell_index": 12
      }
     ]
    },
    "28a8916064514ce7912c103e7370ad47": {
     "views": [
      {
       "cell_index": 12
      }
     ]
    },
    "2a100dade8384007bf4abf580068cdc3": {
     "views": [
      {
       "cell_index": 12
      }
     ]
    },
    "2b28c9ea3e5b4950bdfcd897162bd56d": {
     "views": [
      {
       "cell_index": 12
      }
     ]
    },
    "2b5b08661aee4f9296e0878cb4ce041b": {
     "views": [
      {
       "cell_index": 12
      }
     ]
    },
    "2bd96fa1931842749cd9ba68345a4132": {
     "views": [
      {
       "cell_index": 12
      }
     ]
    },
    "32a97da73a594458a7080928d0aa12a4": {
     "views": [
      {
       "cell_index": 12
      }
     ]
    },
    "33a124f13a124b64bbca8a0a4a96999c": {
     "views": [
      {
       "cell_index": 12
      }
     ]
    },
    "3477d40608834aca90d0f57b44f7b3e7": {
     "views": [
      {
       "cell_index": 12
      }
     ]
    },
    "357ae9996a19410e98f131fc86e2c937": {
     "views": [
      {
       "cell_index": 12
      }
     ]
    },
    "3a1b2c52257843549c64aedde0be827c": {
     "views": [
      {
       "cell_index": 12
      }
     ]
    },
    "3a685442e38243f5a601d54d59c37fdd": {
     "views": [
      {
       "cell_index": 12
      }
     ]
    },
    "3ac750287e394cc281f1dc3487e94df6": {
     "views": [
      {
       "cell_index": 12
      }
     ]
    },
    "3afef162a0304210973a3797acf40cab": {
     "views": [
      {
       "cell_index": 12
      }
     ]
    },
    "3c47ecdd65c049cfa66eb21ad8fd933b": {
     "views": [
      {
       "cell_index": 12
      }
     ]
    },
    "40b3e13fb5ae4ceda47aa8542106d365": {
     "views": [
      {
       "cell_index": 12
      }
     ]
    },
    "439afcda2d4e4ce9af1ea7024a9bd0b5": {
     "views": [
      {
       "cell_index": 12
      }
     ]
    },
    "440c8e7f865840019dd96476fe5fe1bc": {
     "views": [
      {
       "cell_index": 12
      }
     ]
    },
    "4480a3d377a748c5bbd202d71b80b323": {
     "views": [
      {
       "cell_index": 12
      }
     ]
    },
    "4692e78886d942c982ddd2a97a55f649": {
     "views": [
      {
       "cell_index": 12
      }
     ]
    },
    "47282faa187746bb8339a4fb4ac58068": {
     "views": [
      {
       "cell_index": 12
      }
     ]
    },
    "4a1af9ac778a45d8baac52255b6aaac0": {
     "views": [
      {
       "cell_index": 12
      }
     ]
    },
    "4a7ca0764c1d4f4e8c818452e0faad22": {
     "views": [
      {
       "cell_index": 12
      }
     ]
    },
    "4f9ead92babf43a6a7c2dbe03bc199e1": {
     "views": [
      {
       "cell_index": 12
      }
     ]
    },
    "4fe4e6c7a7c04da0b82eedfee59f123c": {
     "views": [
      {
       "cell_index": 12
      }
     ]
    },
    "509696b56ebd4c078824720adfb9c882": {
     "views": [
      {
       "cell_index": 12
      }
     ]
    },
    "5288b8c03d57497384001bd545f9473a": {
     "views": [
      {
       "cell_index": 12
      }
     ]
    },
    "54c0486d9d194fd89a425f8bfe8abffd": {
     "views": [
      {
       "cell_index": 12
      }
     ]
    },
    "5591146f394445e9a7562bfbeba3b210": {
     "views": [
      {
       "cell_index": 12
      }
     ]
    },
    "569e07a8c03b417a8bec640521c1e8d8": {
     "views": [
      {
       "cell_index": 12
      }
     ]
    },
    "56d382118cbe49f09c5518839d1309ee": {
     "views": [
      {
       "cell_index": 12
      }
     ]
    },
    "58879c6ef3904577a0d0ca261361d888": {
     "views": [
      {
       "cell_index": 12
      }
     ]
    },
    "59de165a886a4dcd855ec33e4682bd2d": {
     "views": [
      {
       "cell_index": 12
      }
     ]
    },
    "5d835fe3d36c41d9b140f25c874e02e7": {
     "views": [
      {
       "cell_index": 12
      }
     ]
    },
    "5dcb1825f8f945509c1521456ec8802f": {
     "views": [
      {
       "cell_index": 12
      }
     ]
    },
    "5fc113b88db343038e6190f2e2e1df1e": {
     "views": [
      {
       "cell_index": 12
      }
     ]
    },
    "601e0344661243299a2a6d382458f93a": {
     "views": [
      {
       "cell_index": 12
      }
     ]
    },
    "6060d310a5e34896a7156115cc6c3b43": {
     "views": [
      {
       "cell_index": 12
      }
     ]
    },
    "607439f270cb405cad0280cd5bf035bf": {
     "views": [
      {
       "cell_index": 12
      }
     ]
    },
    "695d75c78b7148a4a7c84d57bed02c35": {
     "views": [
      {
       "cell_index": 12
      }
     ]
    },
    "6b76037650064c71afc1ef43cea3b884": {
     "views": [
      {
       "cell_index": 12
      }
     ]
    },
    "6ec89ae257604fa0a672b9c0042d1c53": {
     "views": [
      {
       "cell_index": 12
      }
     ]
    },
    "70dfa87054284e3d84cd08df8bfbf705": {
     "views": [
      {
       "cell_index": 12
      }
     ]
    },
    "70fefa448a124b56bec948f54c0fe1fc": {
     "views": [
      {
       "cell_index": 12
      }
     ]
    },
    "73deeee41eb04b1c9b5d12164159f500": {
     "views": [
      {
       "cell_index": 12
      }
     ]
    },
    "74df7b1ee69449e6a6733da633e4c583": {
     "views": [
      {
       "cell_index": 12
      }
     ]
    },
    "75c980fe55484a15b5fadf86960e6984": {
     "views": [
      {
       "cell_index": 12
      }
     ]
    },
    "770dfa1b77ed46258fd936b4a5b002f7": {
     "views": [
      {
       "cell_index": 12
      }
     ]
    },
    "79b014c35bb64afd98775e32a56c8469": {
     "views": [
      {
       "cell_index": 12
      }
     ]
    },
    "7b97837f50464a0194b38acd2ee83d07": {
     "views": [
      {
       "cell_index": 12
      }
     ]
    },
    "7df60277eba44da5acc4ae70299cd1db": {
     "views": [
      {
       "cell_index": 12
      }
     ]
    },
    "7e9f3f789dd9472189a557183640b7c9": {
     "views": [
      {
       "cell_index": 12
      }
     ]
    },
    "7eb10ea82e954391a3733334c4276916": {
     "views": [
      {
       "cell_index": 12
      }
     ]
    },
    "7fe51828fd9745e9bad8a4632d35a137": {
     "views": [
      {
       "cell_index": 12
      }
     ]
    },
    "807fe4bc5122427a8d991815a0afdefe": {
     "views": [
      {
       "cell_index": 12
      }
     ]
    },
    "82b2dfaaeca94ac7871eb714ebf0bd24": {
     "views": [
      {
       "cell_index": 12
      }
     ]
    },
    "83eb650f527a42e9a904a1dc3489226e": {
     "views": [
      {
       "cell_index": 12
      }
     ]
    },
    "84c3b92deb524251aae620eb42b81d57": {
     "views": [
      {
       "cell_index": 12
      }
     ]
    },
    "85ca8ba9ed1c4fc1bd9f636d4efb13a2": {
     "views": [
      {
       "cell_index": 12
      }
     ]
    },
    "8a803cf98b4a4ad38b46389cd0cbc624": {
     "views": [
      {
       "cell_index": 12
      }
     ]
    },
    "8f271df026484a06be2f6509462c42ed": {
     "views": [
      {
       "cell_index": 12
      }
     ]
    },
    "8f2d4f8192c4455a922e9f4f4388b10a": {
     "views": [
      {
       "cell_index": 12
      }
     ]
    },
    "99722895709c48d7baca4359ce30f165": {
     "views": [
      {
       "cell_index": 12
      }
     ]
    },
    "9994b42dd71f4dcb8412076e04f74af1": {
     "views": [
      {
       "cell_index": 12
      }
     ]
    },
    "9c65331cb7044f07bea6f1dcd02be34e": {
     "views": [
      {
       "cell_index": 12
      }
     ]
    },
    "9d93b50dddb843ffb3192fa7463d1eb3": {
     "views": [
      {
       "cell_index": 12
      }
     ]
    },
    "9ddcff6b73e84b71bb72cbaf509b6d7d": {
     "views": [
      {
       "cell_index": 12
      }
     ]
    },
    "9ff602ebdfe446f8a7973c18b0b9c448": {
     "views": [
      {
       "cell_index": 12
      }
     ]
    },
    "a13b7297bcfd48aeb1f6adeb79c6907e": {
     "views": [
      {
       "cell_index": 12
      }
     ]
    },
    "a2d8253207ff47c196ec18d0c3e292fc": {
     "views": [
      {
       "cell_index": 12
      }
     ]
    },
    "a447bd0d14cf402b844ccef55b5e2d6e": {
     "views": [
      {
       "cell_index": 12
      }
     ]
    },
    "a8fd29c4d7474543bfb283fe1bc22752": {
     "views": [
      {
       "cell_index": 12
      }
     ]
    },
    "a938e8c6d6f54d119dc4e0fc6591ceb2": {
     "views": [
      {
       "cell_index": 12
      }
     ]
    },
    "abb7603ed5cc4ea7a3e9133abc83daab": {
     "views": [
      {
       "cell_index": 12
      }
     ]
    },
    "abd62c0bee8d4a1d93a95b31b9aaf486": {
     "views": [
      {
       "cell_index": 12
      }
     ]
    },
    "ac5eaac0d0bc4bdc899be9b7c7609004": {
     "views": [
      {
       "cell_index": 12
      }
     ]
    },
    "ac8d814446504f1fb7359e84efc877df": {
     "views": [
      {
       "cell_index": 12
      }
     ]
    },
    "aecfd70ffbbb491296ddfead5c3e676c": {
     "views": [
      {
       "cell_index": 12
      }
     ]
    },
    "b012c12df7ec4de5bee68e9f10c67227": {
     "views": [
      {
       "cell_index": 12
      }
     ]
    },
    "b0413da85a834535bf0910a1a2049cf4": {
     "views": [
      {
       "cell_index": 12
      }
     ]
    },
    "b3e05cfa4dfb44e8aec6501b481e740a": {
     "views": [
      {
       "cell_index": 12
      }
     ]
    },
    "b8e7a6d97abc49eb8b24af81997c814b": {
     "views": [
      {
       "cell_index": 12
      }
     ]
    },
    "b958fd557b674353b4513a1223d1a451": {
     "views": [
      {
       "cell_index": 12
      }
     ]
    },
    "bc39a43c23b9496fb53533370e7f076b": {
     "views": [
      {
       "cell_index": 12
      }
     ]
    },
    "bcb5c68f5f9640ffbc0d14af2a8d2609": {
     "views": [
      {
       "cell_index": 12
      }
     ]
    },
    "c1a529e546e84cfe858abc405448a31c": {
     "views": [
      {
       "cell_index": 12
      }
     ]
    },
    "c51f1c60f93c4707808116607aceb523": {
     "views": [
      {
       "cell_index": 12
      }
     ]
    },
    "c6cefa23028c47d1a9b8e34f2173662b": {
     "views": [
      {
       "cell_index": 12
      }
     ]
    },
    "c867ce48830d48ff838c535f911cde38": {
     "views": [
      {
       "cell_index": 12
      }
     ]
    },
    "cc1c3c0a394049c7817525d4c0dbc660": {
     "views": [
      {
       "cell_index": 12
      }
     ]
    },
    "ce61c3f1b09d4b7aaaa04b999968853b": {
     "views": [
      {
       "cell_index": 12
      }
     ]
    },
    "ced5cb09460b44f2b3cb07cd26ba2d80": {
     "views": [
      {
       "cell_index": 12
      }
     ]
    },
    "d0a64a823a4649898b5ef2ae2f1bbe27": {
     "views": [
      {
       "cell_index": 12
      }
     ]
    },
    "d2307dd3ea50414580c68a01944b6609": {
     "views": [
      {
       "cell_index": 12
      }
     ]
    },
    "d73036ff5b9a463aa2d560cc98e09a99": {
     "views": [
      {
       "cell_index": 12
      }
     ]
    },
    "d8bff5fe3809457696452bd7d37b0163": {
     "views": [
      {
       "cell_index": 12
      }
     ]
    },
    "da29d43a5fbd4d0db082c70348e5783e": {
     "views": [
      {
       "cell_index": 12
      }
     ]
    },
    "dcbbfefe63b849b29b2c6f2c445f9d44": {
     "views": [
      {
       "cell_index": 12
      }
     ]
    },
    "de65778ccbf74269a7aecafe0f4a84e9": {
     "views": [
      {
       "cell_index": 12
      }
     ]
    },
    "e2f426df16ea437cb3eb19a6e29718d3": {
     "views": [
      {
       "cell_index": 12
      }
     ]
    },
    "e331ecdfb1034be78954606b29282291": {
     "views": [
      {
       "cell_index": 12
      }
     ]
    },
    "e57c668870b044aab6fb89a073374887": {
     "views": [
      {
       "cell_index": 12
      }
     ]
    },
    "e7d90b37142d4468a9a3f88fe5e7ebe5": {
     "views": [
      {
       "cell_index": 12
      }
     ]
    },
    "e7dfb79db2074d32b546b0f5b35d037a": {
     "views": [
      {
       "cell_index": 12
      }
     ]
    },
    "ea7dc8f6b6904a098cc8bcd3cccb0f09": {
     "views": [
      {
       "cell_index": 12
      }
     ]
    },
    "ead95701b3c948fe810264c9f916c701": {
     "views": [
      {
       "cell_index": 12
      }
     ]
    },
    "ec1f20b0a9a848a785617463aed63555": {
     "views": [
      {
       "cell_index": 12
      }
     ]
    },
    "ef7271ab301c4d52b331707746f9638e": {
     "views": [
      {
       "cell_index": 12
      }
     ]
    },
    "f057baa922394139936146319110c770": {
     "views": [
      {
       "cell_index": 12
      }
     ]
    },
    "f07a509b915040e08e37ababd37b7cf1": {
     "views": [
      {
       "cell_index": 12
      }
     ]
    },
    "f259740c24a24bb3a309aec954f66fe3": {
     "views": [
      {
       "cell_index": 12
      }
     ]
    },
    "f612f1c9698d4be4bb42c2f0e2c69108": {
     "views": [
      {
       "cell_index": 12
      }
     ]
    },
    "f6efb652598c41549a9f19b2f9ceff2b": {
     "views": [
      {
       "cell_index": 12
      }
     ]
    },
    "f97ed4db90d24d88a228ac1e52375a0c": {
     "views": [
      {
       "cell_index": 12
      }
     ]
    },
    "fd43e083f58d43a68688581cdf48acab": {
     "views": [
      {
       "cell_index": 12
      }
     ]
    },
    "fda46d318b0941c19dfe61eb3e02cb23": {
     "views": [
      {
       "cell_index": 12
      }
     ]
    },
    "fe6b5b3475984be890e4e11f3e5d3ef1": {
     "views": [
      {
       "cell_index": 12
      }
     ]
    }
   },
   "version": "1.2.0"
  }
 },
 "nbformat": 4,
 "nbformat_minor": 2
}
