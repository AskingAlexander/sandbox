{
 "cells": [
  {
   "cell_type": "code",
   "execution_count": 1,
   "metadata": {
    "ExecuteTime": {
     "end_time": "2019-04-28T14:12:11.160883Z",
     "start_time": "2019-04-28T14:12:09.495186Z"
    },
    "slideshow": {
     "slide_type": "slide"
    }
   },
   "outputs": [
    {
     "name": "stderr",
     "output_type": "stream",
     "text": [
      "/home/brian/anaconda3/lib/python3.6/site-packages/h5py/__init__.py:36: FutureWarning: Conversion of the second argument of issubdtype from `float` to `np.floating` is deprecated. In future, it will be treated as `np.float64 == np.dtype(float).type`.\n",
      "  from ._conv import register_converters as _register_converters\n",
      "Using TensorFlow backend.\n"
     ]
    }
   ],
   "source": [
    "%matplotlib inline\n",
    "import numpy as np\n",
    "import os\n",
    "import time\n",
    "import h5py\n",
    "import keras\n",
    "import pandas as pd\n",
    "import math\n",
    "import joblib\n",
    "import json\n",
    "import scipy\n",
    "import matplotlib.pyplot as plt\n",
    "from scipy.stats import logistic\n",
    "\n",
    "from IPython.display import display\n",
    "\n",
    "from sklearn.metrics import accuracy_score\n",
    "from sklearn.model_selection import StratifiedShuffleSplit\n",
    "\n",
    "from keras.layers import (Input, Dense, Lambda, Flatten, Reshape, BatchNormalization, \n",
    "                          Activation, Dropout, Conv2D, Conv2DTranspose, LocallyConnected2D,\n",
    "                          Concatenate, Add, Multiply)\n",
    "from keras.engine import InputSpec\n",
    "from keras.losses import sparse_categorical_crossentropy\n",
    "from keras.optimizers import RMSprop, Adam, SGD\n",
    "from keras.models import Model\n",
    "from keras.utils import to_categorical\n",
    "from keras.regularizers import l2\n",
    "from keras import metrics\n",
    "from keras import backend as K\n",
    "from keras_tqdm import TQDMNotebookCallback\n",
    "from keras.datasets import cifar10\n",
    "\n",
    "import tensorflow as tf"
   ]
  },
  {
   "cell_type": "markdown",
   "metadata": {
    "slideshow": {
     "slide_type": "slide"
    }
   },
   "source": [
    "# Parameters"
   ]
  },
  {
   "cell_type": "code",
   "execution_count": 2,
   "metadata": {
    "ExecuteTime": {
     "end_time": "2019-04-28T14:12:11.166681Z",
     "start_time": "2019-04-28T14:12:11.162630Z"
    }
   },
   "outputs": [],
   "source": [
    "img_rows, img_cols, img_chns = 2, 2, 3\n",
    "original_img_size = (img_rows, img_cols, img_chns)\n",
    "num_samples = 1000\n",
    "\n",
    "batch_size = int(os.environ.get('BATCH_SIZE', 1))\n",
    "epochs = int(os.environ.get('EPOCHS', 1000))\n",
    "activation = os.environ.get('ACTIVATION', 'relu')\n",
    "learning_rate = float(os.environ.get('LEARNING_RATE', 0.001))\n",
    "resnet_depth = int(os.environ.get('RESNET_DEPTH', 1))\n",
    "n_components = int(os.environ.get('MIXTURE_COMPONENTS', 10))"
   ]
  },
  {
   "cell_type": "markdown",
   "metadata": {},
   "source": [
    "# Generate a dataset based on mixtures of logistic"
   ]
  },
  {
   "cell_type": "markdown",
   "metadata": {},
   "source": [
    "Scaling and shifting a logistic: http://www.math.wm.edu/~leemis/chart/UDR/PDFs/LogisticS.pdf\n",
    "\n",
    "\n",
    "X ~ Logistic(m, s)\n",
    "\n",
    "Y = cX\n",
    "\n",
    "then:\n",
    "\n",
    "Y ~ Logistic(m, s*c)"
   ]
  },
  {
   "cell_type": "code",
   "execution_count": 3,
   "metadata": {
    "ExecuteTime": {
     "end_time": "2019-04-28T14:12:11.489078Z",
     "start_time": "2019-04-28T14:12:11.168330Z"
    },
    "scrolled": false,
    "slideshow": {
     "slide_type": "subslide"
    }
   },
   "outputs": [
    {
     "name": "stdout",
     "output_type": "stream",
     "text": [
      "Logistic m:\n",
      "[[[[-0.92156863  0.96078431]\n",
      "   [-0.92156863  0.96078431]\n",
      "   [-0.92156863  0.96078431]]\n",
      "\n",
      "  [[-0.92156863  0.96078431]\n",
      "   [-0.92156863 -0.92156863]\n",
      "   [-0.92156863 -0.92156863]]]\n",
      "\n",
      "\n",
      " [[[-0.92156863 -0.21568627]\n",
      "   [-0.92156863  0.96078431]\n",
      "   [-0.92156863 -0.92156863]]\n",
      "\n",
      "  [[-0.92156863 -0.92156863]\n",
      "   [-0.92156863 -0.92156863]\n",
      "   [-0.92156863  0.96078431]]]]\n",
      "Logistic s\n",
      "[[[[3.14095501 3.14095501]\n",
      "   [3.14095501 3.14095501]\n",
      "   [3.14095501 3.14095501]]\n",
      "\n",
      "  [[3.14095501 3.14095501]\n",
      "   [3.14095501 3.14095501]\n",
      "   [3.14095501 3.14095501]]]\n",
      "\n",
      "\n",
      " [[[3.14095501 3.14095501]\n",
      "   [3.14095501 3.14095501]\n",
      "   [3.14095501 3.14095501]]\n",
      "\n",
      "  [[3.14095501 3.14095501]\n",
      "   [3.14095501 3.14095501]\n",
      "   [3.14095501 3.14095501]]]]\n",
      "Mixture w\n",
      "[[[[0.5 0.5]\n",
      "   [0.5 0.5]\n",
      "   [0.5 0.5]]\n",
      "\n",
      "  [[0.5 0.5]\n",
      "   [0.5 0.5]\n",
      "   [0.5 0.5]]]\n",
      "\n",
      "\n",
      " [[[0.5 0.5]\n",
      "   [0.5 0.5]\n",
      "   [0.5 0.5]]\n",
      "\n",
      "  [[0.5 0.5]\n",
      "   [0.5 0.5]\n",
      "   [0.5 0.5]]]]\n",
      "(1000, 2, 2, 3)\n"
     ]
    }
   ],
   "source": [
    "np.random.seed(127)\n",
    "\n",
    "# logistic std deviation of 1 pixel level\n",
    "unit_s = 1 / math.pi * math.sqrt(3)\n",
    "\n",
    "def train_data_simple(num_samples):\n",
    "    # Generate pixels using exactly 2 mixture components\n",
    "    n_comp = 2\n",
    "    \n",
    "    # Each pixel is a independent single logstic\n",
    "    X_train = np.zeros((num_samples, img_rows, img_cols, img_chns))\n",
    "    \n",
    "    # Set the distribution values to fixed values so we can tell the difference\n",
    "    m = np.array([\n",
    "        [\n",
    "            [[10.,  250.],  [10, 250.],  [10, 250.]],\n",
    "            [[10.,  250.],  [10., 10. ], [10., 10.]]\n",
    "        ], \n",
    "        [\n",
    "            [[10.,  100.],  [10., 250. ], [10., 10.]], \n",
    "            [[10.,  10.],  [10., 10. ], [10., 250.]]\n",
    "        ], \n",
    "    ])\n",
    "    s = 10 * unit_s * np.ones((img_rows, img_cols, img_chns, n_comp))\n",
    "    w = np.ones((img_rows, img_cols, img_chns, n_comp))\n",
    "    w = w / w.sum(axis=3)[:, :, :, np.newaxis]\n",
    "    \n",
    "    #m = np.random.normal(127.5, 40, (img_rows, img_cols, img_chns, n_comp))\n",
    "    #s = np.random.uniform(1 * unit_s, 40 * unit_s, (img_rows, img_cols, img_chns, n_comp))\n",
    "    #\n",
    "    ## Each row has same mxiture weight\n",
    "    #w = np.random.randint(1, 10, (img_rows, img_cols, img_chns, n_comp))\n",
    "    #w = w / w.sum(axis=3)[:, :, :, np.newaxis]\n",
    "    \n",
    "    for n in range(num_samples):\n",
    "        for i in range(img_rows):\n",
    "            for j in range(img_cols):\n",
    "                for k in range(img_chns):\n",
    "                    pixels = []\n",
    "                    for c in range(n_comp):\n",
    "                        pixels.append(np.random.logistic(m[i, j, k, c], s[i, j, k, c], 1))\n",
    "                    index = np.argmax(np.random.multinomial(1, w[i, j, k])) \n",
    "                    X_train[n, i, j, k] = max(min(int(pixels[index]), 255), 0)\n",
    "                \n",
    "    print('Logistic m:')\n",
    "    print((m - 127.5) / 127.5)\n",
    "    print('Logistic s')\n",
    "    print(np.log(127.5 / s))\n",
    "    print('Mixture w')\n",
    "    print(w)\n",
    "    return X_train, (m, s, w)\n",
    "\n",
    "X_train, params = train_data_simple(num_samples)\n",
    "X_train = (X_train - 127.5) / 127.5\n",
    "print(X_train.shape)\n",
    "#print(params)"
   ]
  },
  {
   "cell_type": "code",
   "execution_count": 4,
   "metadata": {
    "ExecuteTime": {
     "end_time": "2019-04-28T14:12:11.605373Z",
     "start_time": "2019-04-28T14:12:11.490932Z"
    },
    "slideshow": {
     "slide_type": "slide"
    }
   },
   "outputs": [
    {
     "data": {
      "image/png": "[encoded data removed]",
      "text/plain": [
       "<Figure size 1440x360 with 1 Axes>"
      ]
     },
     "metadata": {},
     "output_type": "display_data"
    }
   ],
   "source": [
    "n = min(num_samples, 5)\n",
    "figure = np.zeros((img_rows * n, img_cols * 2, img_chns)).astype(int)\n",
    "for i in range(n):\n",
    "    orig_img = (X_train[i] * 127.5 + 127.5).astype(int)\n",
    "    dy = img_rows * i\n",
    "    figure[dy:dy + img_rows, :img_cols] = orig_img\n",
    "    \n",
    "    # Digitize\n",
    "    #img = orig_img #.astype(float) / 255\n",
    "    #figure[dy:dy + img_rows, img_cols:2 * img_cols] = img\n",
    "\n",
    "plt.figure(figsize=(n * 4, 5))\n",
    "plt.imshow(figure)\n",
    "plt.show()"
   ]
  },
  {
   "cell_type": "code",
   "execution_count": 5,
   "metadata": {
    "ExecuteTime": {
     "end_time": "2019-04-28T14:12:11.623903Z",
     "start_time": "2019-04-28T14:12:11.607233Z"
    }
   },
   "outputs": [
    {
     "data": {
      "text/plain": [
       "array([[[-1.        , -0.8745098 ,  0.94509804],\n",
       "        [ 1.        , -0.85098039, -0.95294118]],\n",
       "\n",
       "       [[-0.9372549 ,  0.99215686, -0.94509804],\n",
       "        [-0.96078431, -0.96078431,  0.85882353]]])"
      ]
     },
     "execution_count": 5,
     "metadata": {},
     "output_type": "execute_result"
    }
   ],
   "source": [
    "X_train[15,:]"
   ]
  },
  {
   "cell_type": "markdown",
   "metadata": {
    "slideshow": {
     "slide_type": "slide"
    }
   },
   "source": [
    "# Pixel CNN Helpers"
   ]
  },
  {
   "cell_type": "markdown",
   "metadata": {},
   "source": [
    "# Model"
   ]
  },
  {
   "cell_type": "code",
   "execution_count": 6,
   "metadata": {
    "ExecuteTime": {
     "end_time": "2019-04-28T14:12:11.707888Z",
     "start_time": "2019-04-28T14:12:11.625341Z"
    }
   },
   "outputs": [],
   "source": [
    "if K.image_data_format() == 'channels_last':\n",
    "    bn_axis = 3\n",
    "else:\n",
    "    bn_axis = 1"
   ]
  },
  {
   "cell_type": "code",
   "execution_count": 7,
   "metadata": {
    "ExecuteTime": {
     "end_time": "2019-04-28T14:12:11.809535Z",
     "start_time": "2019-04-28T14:12:11.709859Z"
    }
   },
   "outputs": [],
   "source": [
    "def pixelcnn_loss(target, output):\n",
    "    output_m = output[:, :, :, :3*n_components]\n",
    "    output_invs = output[:, :, :, 3*n_components:6*n_components]\n",
    "    output_weights = output[:, :, :, 6*(n_components):]\n",
    "    x = K.reshape(target, (-1, img_rows, img_cols, img_chns))\n",
    "    \n",
    "    # Repeat the target to match the number of mixture component shapes\n",
    "    slices = []\n",
    "    for c in range(img_chns):\n",
    "        slices += [x[:, :, :, c:c+1]] * n_components\n",
    "    x = K.concatenate(slices, axis=-1)\n",
    "    \n",
    "    x_decoded_m = output_m\n",
    "    x_decoded_invs = output_invs\n",
    "    x_weights = output_weights\n",
    "   \n",
    "    offset = 1. / 127.5 / 2.\n",
    "    centered_mean = x - x_decoded_m\n",
    "\n",
    "    cdfminus_arg = (centered_mean - offset) * K.exp(x_decoded_invs)\n",
    "    cdfplus_arg = (centered_mean + offset) * K.exp(x_decoded_invs)\n",
    "                   \n",
    "    cdfminus_safe = K.sigmoid(cdfminus_arg)\n",
    "    cdfplus_safe = K.sigmoid(cdfplus_arg)\n",
    "  \n",
    "    # ln (sigmoid(x)) = x - ln(e^x + 1) = x - softplus(x)\n",
    "    # ln (1 - sigmoid(x)) = ln(1 / (1 + e^x)) = -softplus(x)\n",
    "    log_cdfplus = cdfplus_arg - K.tf.nn.softplus(cdfplus_arg)\n",
    "    log_1minus_cdf = -K.tf.nn.softplus(cdfminus_arg)\n",
    "    log_ll = K.tf.where(x <= -0.999, log_cdfplus,\n",
    "                        K.tf.where(x >= 0.999, log_1minus_cdf,\n",
    "                                   K.log(K.maximum(cdfplus_safe - cdfminus_safe, 1e-10))))\n",
    "                                   #K.log(cdfplus_safe - cdfminus_safe + 1e-10)))\n",
    "    \n",
    "    ## x_weights * [sigma(x+0.5...) - sigma(x-0.5 ...) ]\n",
    "    ## = log x_weights + log (...)\n",
    "    pre_result = K.log(x_weights) + log_ll\n",
    "    \n",
    "    result = []\n",
    "    for chn in range(img_chns):\n",
    "        chn_result = pre_result[:, :, :, chn*n_components:(chn+1)*n_components]\n",
    "        v = K.logsumexp(chn_result, axis=-1)\n",
    "        result.append(v)\n",
    "    result = K.batch_flatten(K.stack(result, axis=-1))\n",
    "    \n",
    "    return -K.sum(result, axis=-1)   "
   ]
  },
  {
   "cell_type": "code",
   "execution_count": 8,
   "metadata": {
    "ExecuteTime": {
     "end_time": "2019-04-28T14:12:12.266865Z",
     "start_time": "2019-04-28T14:12:11.812170Z"
    },
    "slideshow": {
     "slide_type": "slide"
    }
   },
   "outputs": [],
   "source": [
    "# Work around Keras/tensorboard bug: https://github.com/keras-team/keras/issues/10074\n",
    "K.clear_session()\n",
    "\n",
    "main_input = Input(shape=original_img_size, name='main_input')\n",
    "\n",
    "ms = []\n",
    "invss = []\n",
    "weights = []\n",
    "for channel in range(img_chns):\n",
    "    x = Lambda(lambda x: x * 0.)(main_input)\n",
    "    x = Flatten()(x)\n",
    "    decoder_out_m_ = Dense(img_rows * img_cols * n_components, name='x_m' + str(channel),\n",
    "                           bias_initializer='glorot_uniform')(x)\n",
    "    decoder_out_m_ = Lambda(lambda x: x)(decoder_out_m_)\n",
    "    decoder_out_m = Reshape((img_rows, img_cols, n_components))(decoder_out_m_)\n",
    "    ms.append(decoder_out_m)\n",
    "    \n",
    "    decoder_out_invs_ = Dense(img_rows * img_cols * n_components, name='x_s' + str(channel),\n",
    "                              activation='sigmoid', bias_initializer='glorot_uniform')(x)\n",
    "    #decoder_out_invs = Lambda(lambda x: 5. * x + 2.)(decoder_out_invs_)\n",
    "    decoder_out_invs = Lambda(lambda x: 5. * x + 2)(decoder_out_invs_)\n",
    "    decoder_out_invs = Reshape((img_rows, img_cols, n_components))(decoder_out_invs)\n",
    "    \n",
    "    invss.append(decoder_out_invs)\n",
    "   \n",
    "    x_reshape = Reshape((img_rows, img_cols, img_chns))(x)\n",
    "    mixture_weights = LocallyConnected2D(name='weights' + str(channel),\n",
    "                                         filters=n_components, kernel_size=1, strides=1,\n",
    "                                         activation='softmax',\n",
    "                                         bias_initializer='ones')(x_reshape)\n",
    "    weights.append(mixture_weights)\n",
    "\n",
    "out_m = Concatenate()(ms)\n",
    "out_invs = Concatenate()(invss)\n",
    "out_weights = Concatenate()(weights)\n",
    "main_output = Concatenate()([out_m, out_invs, out_weights])"
   ]
  },
  {
   "cell_type": "code",
   "execution_count": 11,
   "metadata": {
    "ExecuteTime": {
     "end_time": "2019-04-28T14:12:35.745452Z",
     "start_time": "2019-04-28T14:12:35.652239Z"
    },
    "scrolled": true
   },
   "outputs": [
    {
     "name": "stdout",
     "output_type": "stream",
     "text": [
      "Building model...\n",
      "__________________________________________________________________________________________________\n",
      "Layer (type)                    Output Shape         Param #     Connected to                     \n",
      "==================================================================================================\n",
      "main_input (InputLayer)         (None, 2, 2, 3)      0                                            \n",
      "__________________________________________________________________________________________________\n",
      "lambda_1 (Lambda)               (None, 2, 2, 3)      0           main_input[0][0]                 \n",
      "__________________________________________________________________________________________________\n",
      "lambda_4 (Lambda)               (None, 2, 2, 3)      0           main_input[0][0]                 \n",
      "__________________________________________________________________________________________________\n",
      "lambda_7 (Lambda)               (None, 2, 2, 3)      0           main_input[0][0]                 \n",
      "__________________________________________________________________________________________________\n",
      "flatten_1 (Flatten)             (None, 12)           0           lambda_1[0][0]                   \n",
      "__________________________________________________________________________________________________\n",
      "flatten_2 (Flatten)             (None, 12)           0           lambda_4[0][0]                   \n",
      "__________________________________________________________________________________________________\n",
      "flatten_3 (Flatten)             (None, 12)           0           lambda_7[0][0]                   \n",
      "__________________________________________________________________________________________________\n",
      "x_m0 (Dense)                    (None, 40)           520         flatten_1[0][0]                  \n",
      "__________________________________________________________________________________________________\n",
      "x_m1 (Dense)                    (None, 40)           520         flatten_2[0][0]                  \n",
      "__________________________________________________________________________________________________\n",
      "x_m2 (Dense)                    (None, 40)           520         flatten_3[0][0]                  \n",
      "__________________________________________________________________________________________________\n",
      "x_s0 (Dense)                    (None, 40)           520         flatten_1[0][0]                  \n",
      "__________________________________________________________________________________________________\n",
      "x_s1 (Dense)                    (None, 40)           520         flatten_2[0][0]                  \n",
      "__________________________________________________________________________________________________\n",
      "x_s2 (Dense)                    (None, 40)           520         flatten_3[0][0]                  \n",
      "__________________________________________________________________________________________________\n",
      "lambda_2 (Lambda)               (None, 40)           0           x_m0[0][0]                       \n",
      "__________________________________________________________________________________________________\n",
      "lambda_5 (Lambda)               (None, 40)           0           x_m1[0][0]                       \n",
      "__________________________________________________________________________________________________\n",
      "lambda_8 (Lambda)               (None, 40)           0           x_m2[0][0]                       \n",
      "__________________________________________________________________________________________________\n",
      "lambda_3 (Lambda)               (None, 40)           0           x_s0[0][0]                       \n",
      "__________________________________________________________________________________________________\n",
      "lambda_6 (Lambda)               (None, 40)           0           x_s1[0][0]                       \n",
      "__________________________________________________________________________________________________\n",
      "lambda_9 (Lambda)               (None, 40)           0           x_s2[0][0]                       \n",
      "__________________________________________________________________________________________________\n",
      "reshape_3 (Reshape)             (None, 2, 2, 3)      0           flatten_1[0][0]                  \n",
      "__________________________________________________________________________________________________\n",
      "reshape_6 (Reshape)             (None, 2, 2, 3)      0           flatten_2[0][0]                  \n",
      "__________________________________________________________________________________________________\n",
      "reshape_9 (Reshape)             (None, 2, 2, 3)      0           flatten_3[0][0]                  \n",
      "__________________________________________________________________________________________________\n",
      "reshape_1 (Reshape)             (None, 2, 2, 10)     0           lambda_2[0][0]                   \n",
      "__________________________________________________________________________________________________\n",
      "reshape_4 (Reshape)             (None, 2, 2, 10)     0           lambda_5[0][0]                   \n",
      "__________________________________________________________________________________________________\n",
      "reshape_7 (Reshape)             (None, 2, 2, 10)     0           lambda_8[0][0]                   \n",
      "__________________________________________________________________________________________________\n",
      "reshape_2 (Reshape)             (None, 2, 2, 10)     0           lambda_3[0][0]                   \n",
      "__________________________________________________________________________________________________\n",
      "reshape_5 (Reshape)             (None, 2, 2, 10)     0           lambda_6[0][0]                   \n",
      "__________________________________________________________________________________________________\n",
      "reshape_8 (Reshape)             (None, 2, 2, 10)     0           lambda_9[0][0]                   \n",
      "__________________________________________________________________________________________________\n",
      "weights0 (LocallyConnected2D)   (None, 2, 2, 10)     160         reshape_3[0][0]                  \n",
      "__________________________________________________________________________________________________\n",
      "weights1 (LocallyConnected2D)   (None, 2, 2, 10)     160         reshape_6[0][0]                  \n",
      "__________________________________________________________________________________________________\n",
      "weights2 (LocallyConnected2D)   (None, 2, 2, 10)     160         reshape_9[0][0]                  \n",
      "__________________________________________________________________________________________________\n",
      "concatenate_1 (Concatenate)     (None, 2, 2, 30)     0           reshape_1[0][0]                  \n",
      "                                                                 reshape_4[0][0]                  \n",
      "                                                                 reshape_7[0][0]                  \n",
      "__________________________________________________________________________________________________\n",
      "concatenate_2 (Concatenate)     (None, 2, 2, 30)     0           reshape_2[0][0]                  \n",
      "                                                                 reshape_5[0][0]                  \n",
      "                                                                 reshape_8[0][0]                  \n",
      "__________________________________________________________________________________________________\n",
      "concatenate_3 (Concatenate)     (None, 2, 2, 30)     0           weights0[0][0]                   \n",
      "                                                                 weights1[0][0]                   \n",
      "                                                                 weights2[0][0]                   \n",
      "__________________________________________________________________________________________________\n",
      "concatenate_4 (Concatenate)     (None, 2, 2, 90)     0           concatenate_1[0][0]              \n",
      "                                                                 concatenate_2[0][0]              \n",
      "                                                                 concatenate_3[0][0]              \n",
      "==================================================================================================\n",
      "Total params: 3,600\n",
      "Trainable params: 3,600\n",
      "Non-trainable params: 0\n",
      "__________________________________________________________________________________________________\n"
     ]
    }
   ],
   "source": [
    "print(\"Building model...\")\n",
    "optimizer = RMSprop(lr=0.001)\n",
    "\n",
    "\n",
    "#optimizer = SGD(lr=0.001)\n",
    "model = Model(inputs=main_input, outputs=main_output)\n",
    "model.compile(optimizer=optimizer, loss=pixelcnn_loss)\n",
    "model.summary()"
   ]
  },
  {
   "cell_type": "code",
   "execution_count": 12,
   "metadata": {
    "ExecuteTime": {
     "end_time": "2019-04-28T14:13:51.333348Z",
     "start_time": "2019-04-28T14:12:36.416858Z"
    },
    "scrolled": true,
    "slideshow": {
     "slide_type": "-"
    }
   },
   "outputs": [
    {
     "data": {
      "application/vnd.jupyter.widget-view+json": {
       "model_id": "2eaa8c25b7c2457b8aa9126cbeb3727d",
       "version_major": 2,
       "version_minor": 0
      },
      "text/plain": [
       "HBox(children=(IntProgress(value=0, description='Training', max=40), HTML(value='')))"
      ]
     },
     "metadata": {},
     "output_type": "display_data"
    },
    {
     "data": {
      "application/vnd.jupyter.widget-view+json": {
       "model_id": "",
       "version_major": 2,
       "version_minor": 0
      },
      "text/plain": [
       "HBox(children=(IntProgress(value=0, description='Epoch 0', max=1000), HTML(value='')))"
      ]
     },
     "metadata": {},
     "output_type": "display_data"
    },
    {
     "data": {
      "application/vnd.jupyter.widget-view+json": {
       "model_id": "",
       "version_major": 2,
       "version_minor": 0
      },
      "text/plain": [
       "HBox(children=(IntProgress(value=0, description='Epoch 1', max=1000), HTML(value='')))"
      ]
     },
     "metadata": {},
     "output_type": "display_data"
    },
    {
     "data": {
      "application/vnd.jupyter.widget-view+json": {
       "model_id": "",
       "version_major": 2,
       "version_minor": 0
      },
      "text/plain": [
       "HBox(children=(IntProgress(value=0, description='Epoch 2', max=1000), HTML(value='')))"
      ]
     },
     "metadata": {},
     "output_type": "display_data"
    },
    {
     "data": {
      "application/vnd.jupyter.widget-view+json": {
       "model_id": "",
       "version_major": 2,
       "version_minor": 0
      },
      "text/plain": [
       "HBox(children=(IntProgress(value=0, description='Epoch 3', max=1000), HTML(value='')))"
      ]
     },
     "metadata": {},
     "output_type": "display_data"
    },
    {
     "data": {
      "application/vnd.jupyter.widget-view+json": {
       "model_id": "",
       "version_major": 2,
       "version_minor": 0
      },
      "text/plain": [
       "HBox(children=(IntProgress(value=0, description='Epoch 4', max=1000), HTML(value='')))"
      ]
     },
     "metadata": {},
     "output_type": "display_data"
    },
    {
     "data": {
      "application/vnd.jupyter.widget-view+json": {
       "model_id": "",
       "version_major": 2,
       "version_minor": 0
      },
      "text/plain": [
       "HBox(children=(IntProgress(value=0, description='Epoch 5', max=1000), HTML(value='')))"
      ]
     },
     "metadata": {},
     "output_type": "display_data"
    },
    {
     "data": {
      "application/vnd.jupyter.widget-view+json": {
       "model_id": "",
       "version_major": 2,
       "version_minor": 0
      },
      "text/plain": [
       "HBox(children=(IntProgress(value=0, description='Epoch 6', max=1000), HTML(value='')))"
      ]
     },
     "metadata": {},
     "output_type": "display_data"
    },
    {
     "data": {
      "application/vnd.jupyter.widget-view+json": {
       "model_id": "",
       "version_major": 2,
       "version_minor": 0
      },
      "text/plain": [
       "HBox(children=(IntProgress(value=0, description='Epoch 7', max=1000), HTML(value='')))"
      ]
     },
     "metadata": {},
     "output_type": "display_data"
    },
    {
     "data": {
      "application/vnd.jupyter.widget-view+json": {
       "model_id": "",
       "version_major": 2,
       "version_minor": 0
      },
      "text/plain": [
       "HBox(children=(IntProgress(value=0, description='Epoch 8', max=1000), HTML(value='')))"
      ]
     },
     "metadata": {},
     "output_type": "display_data"
    },
    {
     "data": {
      "application/vnd.jupyter.widget-view+json": {
       "model_id": "",
       "version_major": 2,
       "version_minor": 0
      },
      "text/plain": [
       "HBox(children=(IntProgress(value=0, description='Epoch 9', max=1000), HTML(value='')))"
      ]
     },
     "metadata": {},
     "output_type": "display_data"
    },
    {
     "name": "stdout",
     "output_type": "stream",
     "text": [
      "Elapsed:  74.91098833084106\n"
     ]
    }
   ],
   "source": [
    "start = time.time()\n",
    "\n",
    "\n",
    "early_stopping = keras.callbacks.EarlyStopping('loss', min_delta=1.0, patience=5)\n",
    "reduce_lr = keras.callbacks.ReduceLROnPlateau(monitor='loss', factor=0.5, patience=3, min_lr=0.0001)\n",
    "tensorboard = keras.callbacks.TensorBoard(log_dir='./logs_test_loss_mixture/base', histogram_freq=1, batch_size=1, write_graph=True, \n",
    "                                          write_grads=True, write_images=True, update_freq='batch')\n",
    "\n",
    "history = model.fit(\n",
    "    X_train, X_train,\n",
    "    batch_size=batch_size,\n",
    "    #epochs=epochs,\n",
    "    epochs=40,\n",
    "    #callbacks=[TQDMNotebookCallback(), tensorboard, early_stopping, reduce_lr],\n",
    "    callbacks=[TQDMNotebookCallback(), early_stopping, reduce_lr],\n",
    "    #validation_data=(X_train, X_train),\n",
    "    verbose=0\n",
    ")\n",
    "\n",
    "done = time.time()\n",
    "elapsed = done - start\n",
    "print(\"Elapsed: \", elapsed)"
   ]
  },
  {
   "cell_type": "code",
   "execution_count": 13,
   "metadata": {
    "ExecuteTime": {
     "end_time": "2019-04-28T14:14:03.872991Z",
     "start_time": "2019-04-28T14:14:03.732540Z"
    },
    "scrolled": false,
    "slideshow": {
     "slide_type": "-"
    }
   },
   "outputs": [
    {
     "data": {
      "text/html": [
       "<div>\n",
       "<style scoped>\n",
       "    .dataframe tbody tr th:only-of-type {\n",
       "        vertical-align: middle;\n",
       "    }\n",
       "\n",
       "    .dataframe tbody tr th {\n",
       "        vertical-align: top;\n",
       "    }\n",
       "\n",
       "    .dataframe thead th {\n",
       "        text-align: right;\n",
       "    }\n",
       "</style>\n",
       "<table border=\"1\" class=\"dataframe\">\n",
       "  <thead>\n",
       "    <tr style=\"text-align: right;\">\n",
       "      <th></th>\n",
       "      <th>loss</th>\n",
       "      <th>lr</th>\n",
       "    </tr>\n",
       "  </thead>\n",
       "  <tbody>\n",
       "    <tr>\n",
       "      <th>count</th>\n",
       "      <td>10.000000</td>\n",
       "      <td>10.000</td>\n",
       "    </tr>\n",
       "    <tr>\n",
       "      <th>mean</th>\n",
       "      <td>46.441404</td>\n",
       "      <td>0.001</td>\n",
       "    </tr>\n",
       "    <tr>\n",
       "      <th>std</th>\n",
       "      <td>4.761501</td>\n",
       "      <td>0.000</td>\n",
       "    </tr>\n",
       "    <tr>\n",
       "      <th>min</th>\n",
       "      <td>43.208296</td>\n",
       "      <td>0.001</td>\n",
       "    </tr>\n",
       "    <tr>\n",
       "      <th>0%</th>\n",
       "      <td>43.208296</td>\n",
       "      <td>0.001</td>\n",
       "    </tr>\n",
       "    <tr>\n",
       "      <th>25%</th>\n",
       "      <td>43.244000</td>\n",
       "      <td>0.001</td>\n",
       "    </tr>\n",
       "    <tr>\n",
       "      <th>50%</th>\n",
       "      <td>43.725799</td>\n",
       "      <td>0.001</td>\n",
       "    </tr>\n",
       "    <tr>\n",
       "      <th>75%</th>\n",
       "      <td>48.316783</td>\n",
       "      <td>0.001</td>\n",
       "    </tr>\n",
       "    <tr>\n",
       "      <th>95%</th>\n",
       "      <td>54.537672</td>\n",
       "      <td>0.001</td>\n",
       "    </tr>\n",
       "    <tr>\n",
       "      <th>99%</th>\n",
       "      <td>56.890012</td>\n",
       "      <td>0.001</td>\n",
       "    </tr>\n",
       "    <tr>\n",
       "      <th>max</th>\n",
       "      <td>57.478097</td>\n",
       "      <td>0.001</td>\n",
       "    </tr>\n",
       "  </tbody>\n",
       "</table>\n",
       "</div>"
      ],
      "text/plain": [
       "            loss      lr\n",
       "count  10.000000  10.000\n",
       "mean   46.441404   0.001\n",
       "std     4.761501   0.000\n",
       "min    43.208296   0.001\n",
       "0%     43.208296   0.001\n",
       "25%    43.244000   0.001\n",
       "50%    43.725799   0.001\n",
       "75%    48.316783   0.001\n",
       "95%    54.537672   0.001\n",
       "99%    56.890012   0.001\n",
       "max    57.478097   0.001"
      ]
     },
     "metadata": {},
     "output_type": "display_data"
    },
    {
     "data": {
      "text/plain": [
       "<matplotlib.axes._subplots.AxesSubplot at 0x7fa5e83dda58>"
      ]
     },
     "execution_count": 13,
     "metadata": {},
     "output_type": "execute_result"
    },
    {
     "data": {
      "image/png": "[encoded data removed]",
      "text/plain": [
       "<Figure size 576x432 with 1 Axes>"
      ]
     },
     "metadata": {},
     "output_type": "display_data"
    }
   ],
   "source": [
    "df = pd.DataFrame(history.history)\n",
    "display(df.describe(percentiles=[0.25 * i for i in range(4)] + [0.95, 0.99]))\n",
    "df['loss'].plot(figsize=(8, 6))"
   ]
  },
  {
   "cell_type": "code",
   "execution_count": 14,
   "metadata": {
    "ExecuteTime": {
     "end_time": "2019-04-28T14:14:04.182768Z",
     "start_time": "2019-04-28T14:14:03.908177Z"
    },
    "scrolled": true,
    "slideshow": {
     "slide_type": "-"
    }
   },
   "outputs": [
    {
     "name": "stdout",
     "output_type": "stream",
     "text": [
      "1000/1000 [==============================] - 0s 270us/step\n",
      "43.1907314453125\n"
     ]
    }
   ],
   "source": [
    "lossvals = model.evaluate(X_train, X_train)\n",
    "print(lossvals)"
   ]
  },
  {
   "cell_type": "markdown",
   "metadata": {},
   "source": [
    "# Generate Some Images"
   ]
  },
  {
   "cell_type": "code",
   "execution_count": 15,
   "metadata": {
    "ExecuteTime": {
     "end_time": "2019-04-28T14:14:06.019991Z",
     "start_time": "2019-04-28T14:14:06.012744Z"
    }
   },
   "outputs": [],
   "source": [
    "def sigmoid(x):\n",
    "    return 1 / (1 + math.exp(-x))\n",
    "\n",
    "def compute_pvals(m, invs):\n",
    "    pvals = []\n",
    "    for i in range(256):\n",
    "        if i == 0:\n",
    "            pval = logistic.cdf((0.5 - 127.5) / 127.5, loc=m, scale=1. / np.exp(invs))\n",
    "        elif i == 255:\n",
    "            pval = 1. - logistic.cdf((254.5 - 127.5) / 127.5, loc=m, scale=1. / np.exp(invs))\n",
    "        else:\n",
    "            pval = (logistic.cdf((i + 0.5 - 127.5) / 127.5, loc=m, scale=1. / np.exp(invs))\n",
    "                    - logistic.cdf((i - 0.5 - 127.5) / 127.5, loc=m, scale=1. / np.exp(invs)))\n",
    "        pvals.append(pval)\n",
    "    \n",
    "    return pvals\n",
    "\n",
    "def compute_mixture(ms, invs, weights, n_comps):\n",
    "    components = []\n",
    "    for i in range(n_comps):\n",
    "        components.append(weights[i] * np.array(compute_pvals(ms[i], invs[i])))\n",
    "    return np.sum(components, axis=0)"
   ]
  },
  {
   "cell_type": "code",
   "execution_count": 16,
   "metadata": {
    "ExecuteTime": {
     "end_time": "2019-04-28T14:14:12.476539Z",
     "start_time": "2019-04-28T14:14:06.197016Z"
    },
    "scrolled": true
   },
   "outputs": [
    {
     "name": "stdout",
     "output_type": "stream",
     "text": [
      "(2, 2, 3)\n",
      "==== 0 0 0\n",
      " m:  [-0.02698147 -0.00962746 -0.9217411  -0.9432083   0.9562557   0.31405035\n",
      " -0.9208285  -0.27598187 -0.29383242 -1.1004666 ]\n",
      " param_m:  [-0.92156863  0.96078431]\n",
      " E[m]:  0.07198477\n",
      " invs:  [4.6700015 4.000338  3.3230538 3.8977137 3.2517486 4.010358  3.2554622\n",
      " 4.2045856 4.9353404 5.0767555]\n",
      " param_invs:  [3.14095501 3.14095501]\n",
      " weights:  [6.7065107e-06 6.7065107e-06 4.4118434e-01 5.0689775e-04 5.3138727e-01\n",
      " 6.7071373e-06 3.1714214e-03 6.7065107e-06 6.7065107e-06 2.3716459e-02]\n",
      " param_weight:  [0.5 0.5]\n",
      " pvals:  0      0.073909\n",
      "1      0.010537\n",
      "2      0.012341\n",
      "3      0.014281\n",
      "4      0.016295\n",
      "5      0.018299\n",
      "6      0.020184\n",
      "7      0.021827\n",
      "8      0.023105\n",
      "9      0.023911\n",
      "10     0.024176\n",
      "11     0.023874\n",
      "12     0.023035\n",
      "13     0.021733\n",
      "14     0.020075\n",
      "15     0.018184\n",
      "16     0.016182\n",
      "17     0.014174\n",
      "18     0.012245\n",
      "19     0.010452\n",
      "239    0.010375\n",
      "240    0.012110\n",
      "241    0.014003\n",
      "242    0.016021\n",
      "243    0.018106\n",
      "244    0.020183\n",
      "245    0.022154\n",
      "246    0.023911\n",
      "247    0.025342\n",
      "248    0.026346\n",
      "249    0.026847\n",
      "250    0.026804\n",
      "251    0.026222\n",
      "252    0.025146\n",
      "253    0.023658\n",
      "254    0.021860\n",
      "255    0.139918\n",
      "dtype: float64\n",
      " pixel_val:  255\n",
      "==== 0 0 1\n",
      " m:  [-0.1197178   0.01284492 -0.09889376 -0.04124939  0.05244303 -0.02865618\n",
      " -0.28214055 -0.9244837   0.43765628  0.96069247]\n",
      " param_m:  [-0.92156863  0.96078431]\n",
      " E[m]:  0.02185285\n",
      " invs:  [3.6569123 3.7795641 4.8577785 4.7931647 4.604888  4.3268704 4.325223\n",
      " 3.2753758 4.792371  3.2306502]\n",
      " param_invs:  [3.14095501 3.14095501]\n",
      " weights:  [6.1295427e-06 6.1295427e-06 6.1295427e-06 6.1295427e-06 6.1295427e-06\n",
      " 6.1295427e-06 6.1295427e-06 4.9798641e-01 6.1295427e-06 5.0196457e-01]\n",
      " param_weight:  [0.5 0.5]\n",
      " pvals:  0      0.065136\n",
      "1      0.012672\n",
      "2      0.014611\n",
      "3      0.016642\n",
      "4      0.018695\n",
      "5      0.020676\n",
      "6      0.022478\n",
      "7      0.023984\n",
      "8      0.025086\n",
      "9      0.025698\n",
      "10     0.025768\n",
      "11     0.025292\n",
      "12     0.024309\n",
      "13     0.022897\n",
      "14     0.021160\n",
      "15     0.019214\n",
      "16     0.017170\n",
      "17     0.015126\n",
      "18     0.013157\n",
      "19     0.011320\n",
      "240    0.010609\n",
      "241    0.012274\n",
      "242    0.014062\n",
      "243    0.015934\n",
      "244    0.017827\n",
      "245    0.019668\n",
      "246    0.021363\n",
      "247    0.022817\n",
      "248    0.023936\n",
      "249    0.024640\n",
      "250    0.024877\n",
      "251    0.024629\n",
      "252    0.023914\n",
      "253    0.022787\n",
      "254    0.021326\n",
      "255    0.145595\n",
      "dtype: float64\n",
      " pixel_val:  8\n",
      "==== 0 0 2\n",
      " m:  [-0.4391349   0.2613997  -0.5113387   0.37238848  0.9483188  -0.37433216\n",
      " -0.09400755 -0.06259033 -0.08958471 -0.91978204]\n",
      " param_m:  [-0.92156863  0.96078431]\n",
      " E[m]:  0.003350556\n",
      " invs:  [4.9978256 4.5819416 5.051609  4.9350786 3.2003841 4.025294  4.275052\n",
      " 3.9849472 5.224844  3.212503 ]\n",
      " param_invs:  [3.14095501 3.14095501]\n",
      " weights:  [6.1803394e-06 6.1803394e-06 6.1803394e-06 6.1803394e-06 4.9413446e-01\n",
      " 6.1819310e-06 6.1803394e-06 6.1803394e-06 6.1803394e-06 5.0581616e-01]\n",
      " param_weight:  [0.5 0.5]\n",
      " pvals:  0      0.066080\n",
      "1      0.012020\n",
      "2      0.013749\n",
      "3      0.015562\n",
      "4      0.017404\n",
      "5      0.019204\n",
      "6      0.020880\n",
      "7      0.022340\n",
      "8      0.023496\n",
      "9      0.024270\n",
      "10     0.024606\n",
      "11     0.024479\n",
      "12     0.023900\n",
      "13     0.022910\n",
      "14     0.021578\n",
      "15     0.019988\n",
      "16     0.018234\n",
      "17     0.016401\n",
      "18     0.014568\n",
      "19     0.012795\n",
      "20     0.011127\n",
      "239    0.011488\n",
      "240    0.013130\n",
      "241    0.014853\n",
      "242    0.016610\n",
      "243    0.018335\n",
      "244    0.019952\n",
      "245    0.021378\n",
      "246    0.022528\n",
      "247    0.023328\n",
      "248    0.023723\n",
      "249    0.023684\n",
      "250    0.023214\n",
      "251    0.022346\n",
      "252    0.021141\n",
      "253    0.019675\n",
      "254    0.018032\n",
      "255    0.116848\n",
      "dtype: float64\n",
      " pixel_val:  242\n",
      "==== 0 1 0\n",
      " m:  [ 0.29753786  0.95856315  0.4560473  -0.32642362 -0.07128876 -0.91135097\n",
      " -0.92863333  0.08592224 -0.30005413 -0.0450021 ]\n",
      " param_m:  [-0.92156863  0.96078431]\n",
      " E[m]:  0.04900264\n",
      " invs:  [4.4698114 3.1554456 4.857545  5.0548    3.7413826 3.7449267 3.1449888\n",
      " 5.296756  5.290128  4.3730907]\n",
      " param_invs:  [3.14095501 3.14095501]\n",
      " weights:  [6.154706e-06 5.180102e-01 6.154706e-06 6.154706e-06 6.154952e-06\n",
      " 4.853470e-04 4.814614e-01 6.154706e-06 6.154706e-06 6.154706e-06]\n",
      " param_weight:  [0.5 0.5]\n",
      " pvals:  0      0.083200\n",
      "1      0.013292\n",
      "2      0.014823\n",
      "3      0.016346\n",
      "4      0.017805\n",
      "5      0.019136\n",
      "6      0.020272\n",
      "7      0.021150\n",
      "8      0.021717\n",
      "9      0.021938\n",
      "10     0.021797\n",
      "11     0.021303\n",
      "12     0.020487\n",
      "13     0.019400\n",
      "14     0.018102\n",
      "15     0.016662\n",
      "16     0.015144\n",
      "17     0.013607\n",
      "18     0.012102\n",
      "19     0.010665\n",
      "239    0.010227\n",
      "240    0.011707\n",
      "241    0.013290\n",
      "242    0.014945\n",
      "243    0.016628\n",
      "244    0.018283\n",
      "245    0.019845\n",
      "246    0.021238\n",
      "247    0.022389\n",
      "248    0.023232\n",
      "249    0.023712\n",
      "250    0.023799\n",
      "251    0.023487\n",
      "252    0.022796\n",
      "253    0.021771\n",
      "254    0.020474\n",
      "255    0.151842\n",
      "dtype: float64\n",
      " pixel_val:  0\n",
      "==== 0 1 1\n",
      " m:  [ 0.62501216 -0.17849058 -0.51828367  0.44537807  0.42240572  0.29529792\n",
      "  0.5777601   0.6125189  -0.0027445  -0.92986655]\n",
      " param_m:  [-0.92156863 -0.92156863]\n",
      " E[m]:  -0.92986643\n",
      " invs:  [4.462838  3.9374363 4.758807  5.1843643 4.1335773 4.693748  4.391614\n",
      " 5.326177  4.335984  3.219287 ]\n",
      " param_invs:  [3.14095501 3.14095501]\n",
      " weights:  [1.1725459e-08 1.1725459e-08 1.1725482e-08 1.1725459e-08 1.1725459e-08\n",
      " 1.1725459e-08 1.1725459e-08 1.1725459e-08 1.1725459e-08 9.9999988e-01]\n",
      " param_weight:  [0.5 0.5]\n",
      " pvals:  0     0.160301\n",
      "1     0.028192\n",
      "2     0.031849\n",
      "3     0.035534\n",
      "4     0.039096\n",
      "5     0.042362\n",
      "6     0.045145\n",
      "7     0.047268\n",
      "8     0.048585\n",
      "9     0.048998\n",
      "10    0.048477\n",
      "11    0.047061\n",
      "12    0.044853\n",
      "13    0.042004\n",
      "14    0.038695\n",
      "15    0.035110\n",
      "16    0.031421\n",
      "17    0.027775\n",
      "18    0.024286\n",
      "19    0.021034\n",
      "20    0.018067\n",
      "21    0.015409\n",
      "22    0.013062\n",
      "23    0.011016\n",
      "dtype: float64\n",
      " pixel_val:  2\n",
      "==== 0 1 2\n",
      " m:  [ 0.5366026   0.4060887  -0.9349459  -0.9340595  -0.44233558 -0.06785268\n",
      " -0.070732    0.6031426  -0.92971855  0.07640231]\n",
      " param_m:  [-0.92156863 -0.92156863]\n",
      " E[m]:  -0.9348749\n",
      " invs:  [5.2505927 4.4814215 3.1802223 3.2887807 4.8169365 4.4981766 4.406864\n",
      " 4.286633  3.5230947 4.99849  ]\n",
      " param_invs:  [3.14095501 3.14095501]\n",
      " weights:  [1.2047636e-06 1.2047636e-06 9.3124557e-01 6.8555929e-02 1.2047636e-06\n",
      " 1.2047636e-06 1.2047636e-06 1.2047636e-06 1.9002824e-04 1.2047636e-06]\n",
      " param_weight:  [0.5 0.5]\n",
      " pvals:  0     0.184981\n",
      "1     0.030359\n",
      "2     0.033825\n",
      "3     0.037207\n",
      "4     0.040353\n",
      "5     0.043101\n",
      "6     0.045288\n",
      "7     0.046774\n",
      "8     0.047458\n",
      "9     0.047291\n",
      "10    0.046286\n",
      "11    0.044511\n",
      "12    0.042086\n",
      "13    0.039162\n",
      "14    0.035903\n",
      "15    0.032469\n",
      "16    0.029004\n",
      "17    0.025626\n",
      "18    0.022422\n",
      "19    0.019452\n",
      "20    0.016752\n",
      "21    0.014335\n",
      "22    0.012201\n",
      "23    0.010336\n",
      "dtype: float64\n",
      " pixel_val:  14\n",
      "row 0\n",
      "==== 1 0 0\n",
      " m:  [ 0.572942   -0.21804659 -0.23016557 -0.05104048 -0.2174031  -0.23524795\n",
      " -0.9239389   0.22241712  0.6564379   0.29374158]\n",
      " param_m:  [-0.92156863 -0.21568627]\n",
      " E[m]:  -0.56063753\n",
      " invs:  [5.09713   3.1900787 3.5734293 4.7288456 3.385464  3.6160617 3.275105\n",
      " 4.9405446 4.6442823 5.03559  ]\n",
      " param_invs:  [3.14095501 3.14095501]\n",
      " weights:  [6.5474942e-06 4.5588446e-01 1.9221857e-02 4.1847314e-05 2.4735402e-02\n",
      " 1.5408729e-02 4.8468152e-01 6.5474942e-06 6.5474942e-06 6.5474942e-06]\n",
      " param_weight:  [0.5 0.5]\n",
      " pvals:  0      0.062634\n",
      "1      0.012208\n",
      "2      0.014086\n",
      "3      0.016058\n",
      "4      0.018056\n",
      "5      0.019991\n",
      "6      0.021759\n",
      "7      0.023248\n",
      "8      0.024350\n",
      "9      0.024980\n",
      "10     0.025086\n",
      "11     0.024659\n",
      "12     0.023735\n",
      "13     0.022388\n",
      "14     0.020717\n",
      "15     0.018834\n",
      "16     0.016849\n",
      "17     0.014858\n",
      "18     0.012936\n",
      "19     0.011139\n",
      "90     0.011568\n",
      "91     0.013345\n",
      "92     0.015245\n",
      "93     0.017213\n",
      "94     0.019178\n",
      "95     0.021043\n",
      "96     0.022701\n",
      "97     0.024041\n",
      "98     0.024967\n",
      "99     0.025413\n",
      "100    0.025350\n",
      "101    0.024795\n",
      "102    0.023800\n",
      "103    0.022442\n",
      "104    0.020816\n",
      "105    0.019019\n",
      "106    0.017140\n",
      "107    0.015258\n",
      "108    0.013435\n",
      "109    0.011716\n",
      "110    0.010131\n",
      "dtype: float64\n",
      " pixel_val:  1\n",
      "==== 1 0 1\n",
      " m:  [-0.1511789   0.00524569  0.3300997   0.951404    0.39659497 -0.07450169\n",
      " -0.9275081  -0.17578626  0.12905473 -0.17788199]\n",
      " param_m:  [-0.92156863  0.96078431]\n",
      " E[m]:  0.06318774\n",
      " invs:  [4.967372  4.902478  4.1614285 3.170517  4.9469013 5.2871294 3.214758\n",
      " 4.903962  4.560355  4.4301333]\n",
      " param_invs:  [3.14095501 3.14095501]\n",
      " weights:  [6.1813107e-06 6.1813107e-06 8.0692880e-06 5.2724409e-01 6.5552122e-06\n",
      " 6.1813107e-06 4.7270417e-01 6.1813107e-06 6.1813107e-06 6.1813107e-06]\n",
      " param_weight:  [0.5 0.5]\n",
      " pvals:  0      0.072571\n",
      "1      0.012822\n",
      "2      0.014522\n",
      "3      0.016251\n",
      "4      0.017943\n",
      "5      0.019521\n",
      "6      0.020897\n",
      "7      0.021989\n",
      "8      0.022723\n",
      "9      0.023045\n",
      "10     0.022933\n",
      "11     0.022394\n",
      "12     0.021468\n",
      "13     0.020219\n",
      "14     0.018729\n",
      "15     0.017082\n",
      "16     0.015362\n",
      "17     0.013640\n",
      "18     0.011976\n",
      "19     0.010411\n",
      "238    0.010203\n",
      "239    0.011725\n",
      "240    0.013363\n",
      "241    0.015086\n",
      "242    0.016850\n",
      "243    0.018597\n",
      "244    0.020256\n",
      "245    0.021750\n",
      "246    0.022996\n",
      "247    0.023923\n",
      "248    0.024469\n",
      "249    0.024599\n",
      "250    0.024303\n",
      "251    0.023602\n",
      "252    0.022542\n",
      "253    0.021189\n",
      "254    0.019621\n",
      "255    0.135247\n",
      "dtype: float64\n",
      " pixel_val:  239\n"
     ]
    },
    {
     "name": "stdout",
     "output_type": "stream",
     "text": [
      "==== 1 0 2\n",
      " m:  [ 0.268583    0.428555    0.03064537  0.2275523  -0.2516753  -0.9282977\n",
      " -0.22948551  0.25807273  0.28130144  0.5757891 ]\n",
      " param_m:  [-0.92156863 -0.92156863]\n",
      " E[m]:  -0.9282977\n",
      " invs:  [4.917855  3.9352956 4.6672616 4.651613  5.0634604 3.194934  5.197523\n",
      " 4.3363533 4.9981375 4.775869 ]\n",
      " param_invs:  [3.14095501 3.14095501]\n",
      " weights:  [1.17255725e-08 1.17255725e-08 1.17255725e-08 1.17255725e-08\n",
      " 1.17255725e-08 1.00000000e+00 1.17255725e-08 1.17255725e-08\n",
      " 1.17255725e-08 1.17255725e-08]\n",
      " param_weight:  [0.5 0.5]\n",
      " pvals:  0     0.160509\n",
      "1     0.027499\n",
      "2     0.030981\n",
      "3     0.034493\n",
      "4     0.037899\n",
      "5     0.041042\n",
      "6     0.043754\n",
      "7     0.045872\n",
      "8     0.047257\n",
      "9     0.047814\n",
      "10    0.047503\n",
      "11    0.046345\n",
      "12    0.044423\n",
      "13    0.041863\n",
      "14    0.038826\n",
      "15    0.035478\n",
      "16    0.031981\n",
      "17    0.028479\n",
      "18    0.025084\n",
      "19    0.021883\n",
      "20    0.018931\n",
      "21    0.016258\n",
      "22    0.013876\n",
      "23    0.011780\n",
      "dtype: float64\n",
      " pixel_val:  0\n",
      "==== 1 1 0\n",
      " m:  [-0.46969634  0.09500539  0.63069487 -0.5232636  -0.03636068 -0.929695\n",
      "  0.44959128  0.09279227 -0.18718505  0.26468986]\n",
      " param_m:  [-0.92156863 -0.92156863]\n",
      " E[m]:  -0.929695\n",
      " invs:  [5.236513  5.0480967 4.9152775 4.5155625 4.200757  3.2130208 4.4465723\n",
      " 4.0238338 4.91111   5.1093144]\n",
      " param_invs:  [3.14095501 3.14095501]\n",
      " weights:  [1.1727966e-08 1.1727966e-08 1.1727966e-08 1.1806677e-08 1.1727966e-08\n",
      " 1.0000000e+00 1.1727966e-08 1.1727966e-08 1.1727966e-08 1.1727966e-08]\n",
      " param_weight:  [0.5 0.5]\n",
      " pvals:  0     0.161121\n",
      "1     0.028116\n",
      "2     0.031730\n",
      "3     0.035368\n",
      "4     0.038883\n",
      "5     0.042106\n",
      "6     0.044855\n",
      "7     0.046957\n",
      "8     0.048268\n",
      "9     0.048694\n",
      "10    0.048202\n",
      "11    0.046830\n",
      "12    0.044676\n",
      "13    0.041887\n",
      "14    0.038637\n",
      "15    0.035107\n",
      "16    0.031466\n",
      "17    0.027859\n",
      "18    0.024399\n",
      "19    0.021165\n",
      "20    0.018209\n",
      "21    0.015555\n",
      "22    0.013207\n",
      "23    0.011156\n",
      "dtype: float64\n",
      " pixel_val:  7\n",
      "==== 1 1 1\n",
      " m:  [ 0.19728008 -0.9113005  -0.01997566  0.5885093   0.5527158  -0.9577866\n",
      " -0.00156163  0.4993508   0.3568629   0.30938274]\n",
      " param_m:  [-0.92156863 -0.92156863]\n",
      " E[m]:  -0.9113176\n",
      " invs:  [4.0553966 3.1898646 4.8217216 4.4453278 4.115145  3.8787146 4.1660213\n",
      " 4.8725543 4.4663715 4.7338142]\n",
      " param_invs:  [3.14095501 3.14095501]\n",
      " weights:  [3.1843089e-07 9.9956280e-01 3.1843030e-07 3.1843030e-07 3.1843030e-07\n",
      " 4.3464472e-04 3.1845093e-07 3.1843030e-07 3.1843030e-07 3.1843030e-07]\n",
      " param_weight:  [0.5 0.5]\n",
      " pvals:  0     0.113170\n",
      "1     0.020581\n",
      "2     0.023661\n",
      "3     0.026956\n",
      "4     0.030394\n",
      "5     0.033875\n",
      "6     0.037268\n",
      "7     0.040422\n",
      "8     0.043175\n",
      "9     0.045364\n",
      "10    0.046851\n",
      "11    0.047535\n",
      "12    0.047367\n",
      "13    0.046359\n",
      "14    0.044581\n",
      "15    0.042152\n",
      "16    0.039221\n",
      "17    0.035954\n",
      "18    0.032510\n",
      "19    0.029035\n",
      "20    0.025646\n",
      "21    0.022432\n",
      "22    0.019453\n",
      "23    0.016745\n",
      "24    0.014322\n",
      "25    0.012183\n",
      "26    0.010315\n",
      "dtype: float64\n",
      " pixel_val:  13\n",
      "==== 1 1 2\n",
      " m:  [ 0.19747478  0.02914384  0.09690398  0.7963771  -0.05294764  0.9163856\n",
      "  0.9662707  -0.9245501   0.34494376  0.39408636]\n",
      " param_m:  [-0.92156863  0.96078431]\n",
      " E[m]:  0.012883404\n",
      " invs:  [5.138647  4.262796  5.247687  4.5845127 4.3757315 4.1707983 3.226223\n",
      " 2.0965767 4.4952645 4.6665096]\n",
      " param_invs:  [3.14095501 3.14095501]\n",
      " weights:  [1.1257609e-05 1.1257631e-05 1.1257609e-05 2.1149366e-05 1.1257609e-05\n",
      " 1.0984093e-03 4.9465352e-01 5.0415933e-01 1.1257609e-05 1.1257609e-05]\n",
      " param_weight:  [0.5 0.5]\n",
      " pvals:  0      0.180712\n",
      "241    0.011008\n",
      "242    0.012704\n",
      "243    0.014507\n",
      "244    0.016362\n",
      "245    0.018202\n",
      "246    0.019947\n",
      "247    0.021515\n",
      "248    0.022820\n",
      "249    0.023777\n",
      "250    0.024319\n",
      "251    0.024403\n",
      "252    0.024020\n",
      "253    0.023198\n",
      "254    0.021996\n",
      "255    0.158626\n",
      "dtype: float64\n",
      " pixel_val:  254\n",
      "row 1\n",
      "Generated:  74.91098833084106\n"
     ]
    },
    {
     "data": {
      "image/png": "[encoded data removed]",
      "text/plain": [
       "<Figure size 360x360 with 1 Axes>"
      ]
     },
     "metadata": {},
     "output_type": "display_data"
    },
    {
     "name": "stdout",
     "output_type": "stream",
     "text": [
      "Orig: \n"
     ]
    },
    {
     "data": {
      "image/png": "[encoded data removed]",
      "text/plain": [
       "<Figure size 216x216 with 1 Axes>"
      ]
     },
     "metadata": {},
     "output_type": "display_data"
    },
    {
     "name": "stdout",
     "output_type": "stream",
     "text": [
      "Elapsed:  6.264598369598389\n"
     ]
    }
   ],
   "source": [
    "debug = True\n",
    "\n",
    "def gen_image(model, num_samples=batch_size):\n",
    "    x_sample = np.zeros((num_samples, img_rows, img_cols, img_chns))\n",
    "    \n",
    "    # Iteratively generate each conditional pixel P(x_i | x_{1,..,i-1})\n",
    "    for i in range(img_rows):\n",
    "        for j in range(img_cols):\n",
    "            for k in range(img_chns):\n",
    "                x_out = model.predict(x_sample, num_samples)\n",
    "                for n in range(num_samples):\n",
    "                    offset = k * n_components\n",
    "                    x_ms = x_out[n, i, j, offset:offset + n_components]\n",
    "                    offset = n_components * img_chns + k * n_components\n",
    "                    x_invs = x_out[n, i, j, offset:offset + n_components]\n",
    "                    offset = 2 * n_components * img_chns + k * n_components\n",
    "                    weights = x_out[n, i, j, offset:offset + n_components]\n",
    "                    pvals = compute_mixture(x_ms, x_invs, weights, n_components)\n",
    "                    pvals /= (np.sum(pvals) + 1e-5)\n",
    "                    pixel_val = np.argmax(np.random.multinomial(1, pvals))\n",
    "                    x_sample[n, i, j, k] = pixel_val / 255.\n",
    "                    if 0 <= i <= 1 and 0 <= j <= 1 and debug:\n",
    "                        print(\"====\", i, j, k)\n",
    "                        print(\" m: \", x_ms)\n",
    "                        print(\" param_m: \", (params[0][i, j, k] - 127.5) / 127.5)\n",
    "                        print(\" E[m]: \", (x_ms * weights).sum())\n",
    "                        print(\" invs: \", x_invs)\n",
    "                        print(\" param_invs: \", np.log(127.5 / params[1][i, j, k]))\n",
    "                        print(\" weights: \", weights)\n",
    "                        print(\" param_weight: \", params[2][i, j, k])\n",
    "                        s = pd.Series(pvals)\n",
    "                        print(\" pvals: \", s[s>1e-2])\n",
    "                        print(\" pixel_val: \", pixel_val)\n",
    "                        #print(\" x_out[n, i, j, :]: \", x_out[n, i, j, :])\n",
    "                        #print(\" x_out: \", x_out)\n",
    "                        #print(\" sample_val: \", x_sample[n, i, j, k])\n",
    "                        #assert False\n",
    "        if debug:\n",
    "            print(\"row\", i)\n",
    "                \n",
    "    return x_sample\n",
    "\n",
    "\n",
    "start = time.time()\n",
    "\n",
    "n = 1 if debug else 10\n",
    "figure = np.zeros((img_rows * ((n - 1) // 10 + 1), img_cols * n, img_chns))\n",
    "print(figure.shape)\n",
    "for i in range(n):\n",
    "    samples = gen_image(model)\n",
    "    for j in range(batch_size):\n",
    "        img = samples[j] \n",
    "        d_x = ((i * batch_size + j) // 10) * img_rows\n",
    "        d_y = ((i * batch_size + j) % 10) * img_cols\n",
    "        figure[d_x:d_x + img_rows, d_y:d_y + img_cols, :] = img\n",
    "        \n",
    "print(\"Generated: \", elapsed)\n",
    "plt.figure(figsize=(5, 5))\n",
    "plt.imshow(figure)\n",
    "plt.show()\n",
    "\n",
    "print(\"Orig: \")\n",
    "plt.figure(figsize=(3, 3))\n",
    "plt.imshow(orig_img)\n",
    "plt.show()\n",
    "\n",
    "done = time.time()\n",
    "elapsed = done - start\n",
    "print(\"Elapsed: \", elapsed)"
   ]
  },
  {
   "cell_type": "markdown",
   "metadata": {},
   "source": [
    "# Validatation\n",
    "\n",
    "Check that we were able to approximately recover the original distributions"
   ]
  },
  {
   "cell_type": "code",
   "execution_count": 17,
   "metadata": {
    "ExecuteTime": {
     "end_time": "2019-04-28T14:14:27.090759Z",
     "start_time": "2019-04-28T14:14:12.479021Z"
    },
    "scrolled": false
   },
   "outputs": [
    {
     "name": "stdout",
     "output_type": "stream",
     "text": [
      "[-0.92156863  0.96078431] [3.14095501 3.14095501] [0.5 0.5]\n",
      "[-0.02698147 -0.00962746 -0.9217411  -0.9432083   0.9562557   0.31405035\n",
      " -0.9208285  -0.27598187 -0.29383242 -1.1004666 ] [4.6700015 4.000338  3.3230538 3.8977137 3.2517486 4.010358  3.2554622\n",
      " 4.2045856 4.9353404 5.0767555] [6.7065107e-06 6.7065107e-06 4.4118434e-01 5.0689775e-04 5.3138727e-01\n",
      " 6.7071373e-06 3.1714214e-03 6.7065107e-06 6.7065107e-06 2.3716459e-02]\n",
      "KL Divergence(orig, gen) for (0,0,0): 0.01\n",
      "[-0.92156863  0.96078431] [3.14095501 3.14095501] [0.5 0.5]\n",
      "[-0.1197178   0.01284492 -0.09889376 -0.04124939  0.05244303 -0.02865618\n",
      " -0.28214055 -0.9244837   0.43765628  0.96069247] [3.6569123 3.7795641 4.8577785 4.7931647 4.604888  4.3268704 4.325223\n",
      " 3.2753758 4.792371  3.2306502] [6.1295427e-06 6.1295427e-06 6.1295427e-06 6.1295427e-06 6.1295427e-06\n",
      " 6.1295427e-06 6.1295427e-06 4.9798641e-01 6.1295427e-06 5.0196457e-01]\n",
      "KL Divergence(orig, gen) for (0,0,1): 0.01\n",
      "[-0.92156863  0.96078431] [3.14095501 3.14095501] [0.5 0.5]\n",
      "[-0.4391349   0.2613997  -0.5113387   0.37238848  0.9483188  -0.37433216\n",
      " -0.09400755 -0.06259033 -0.08958471 -0.91978204] [4.9978256 4.5819416 5.051609  4.9350786 3.2003841 4.025294  4.275052\n",
      " 3.9849472 5.224844  3.212503 ] [6.1803394e-06 6.1803394e-06 6.1803394e-06 6.1803394e-06 4.9413446e-01\n",
      " 6.1819310e-06 6.1803394e-06 6.1803394e-06 6.1803394e-06 5.0581616e-01]\n",
      "KL Divergence(orig, gen) for (0,0,2): 0.01\n",
      "[-0.92156863  0.96078431] [3.14095501 3.14095501] [0.5 0.5]\n",
      "[ 0.29753786  0.95856315  0.4560473  -0.32642362 -0.07128876 -0.91135097\n",
      " -0.92863333  0.08592224 -0.30005413 -0.0450021 ] [4.4698114 3.1554456 4.857545  5.0548    3.7413826 3.7449267 3.1449888\n",
      " 5.296756  5.290128  4.3730907] [6.154706e-06 5.180102e-01 6.154706e-06 6.154706e-06 6.154952e-06\n",
      " 4.853470e-04 4.814614e-01 6.154706e-06 6.154706e-06 6.154706e-06]\n",
      "KL Divergence(orig, gen) for (0,1,0): 0.00\n",
      "[-0.92156863 -0.92156863] [3.14095501 3.14095501] [0.5 0.5]\n",
      "[ 0.62501216 -0.17849058 -0.51828367  0.44537807  0.42240572  0.29529792\n",
      "  0.5777601   0.6125189  -0.0027445  -0.92986655] [4.462838  3.9374363 4.758807  5.1843643 4.1335773 4.693748  4.391614\n",
      " 5.326177  4.335984  3.219287 ] [1.1725459e-08 1.1725459e-08 1.1725482e-08 1.1725459e-08 1.1725459e-08\n",
      " 1.1725459e-08 1.1725459e-08 1.1725459e-08 1.1725459e-08 9.9999988e-01]\n",
      "KL Divergence(orig, gen) for (0,1,1): 0.01\n",
      "[-0.92156863 -0.92156863] [3.14095501 3.14095501] [0.5 0.5]\n",
      "[ 0.5366026   0.4060887  -0.9349459  -0.9340595  -0.44233558 -0.06785268\n",
      " -0.070732    0.6031426  -0.92971855  0.07640231] [5.2505927 4.4814215 3.1802223 3.2887807 4.8169365 4.4981766 4.406864\n",
      " 4.286633  3.5230947 4.99849  ] [1.2047636e-06 1.2047636e-06 9.3124557e-01 6.8555929e-02 1.2047636e-06\n",
      " 1.2047636e-06 1.2047636e-06 1.2047636e-06 1.9002824e-04 1.2047636e-06]\n",
      "KL Divergence(orig, gen) for (0,1,2): 0.02\n",
      "[-0.92156863 -0.21568627] [3.14095501 3.14095501] [0.5 0.5]\n",
      "[ 0.572942   -0.21804659 -0.23016557 -0.05104048 -0.2174031  -0.23524795\n",
      " -0.9239389   0.22241712  0.6564379   0.29374158] [5.09713   3.1900787 3.5734293 4.7288456 3.385464  3.6160617 3.275105\n",
      " 4.9405446 4.6442823 5.03559  ] [6.5474942e-06 4.5588446e-01 1.9221857e-02 4.1847314e-05 2.4735402e-02\n",
      " 1.5408729e-02 4.8468152e-01 6.5474942e-06 6.5474942e-06 6.5474942e-06]\n",
      "KL Divergence(orig, gen) for (1,0,0): 0.01\n",
      "[-0.92156863  0.96078431] [3.14095501 3.14095501] [0.5 0.5]\n",
      "[-0.1511789   0.00524569  0.3300997   0.951404    0.39659497 -0.07450169\n",
      " -0.9275081  -0.17578626  0.12905473 -0.17788199] [4.967372  4.902478  4.1614285 3.170517  4.9469013 5.2871294 3.214758\n",
      " 4.903962  4.560355  4.4301333] [6.1813107e-06 6.1813107e-06 8.0692880e-06 5.2724409e-01 6.5552122e-06\n",
      " 6.1813107e-06 4.7270417e-01 6.1813107e-06 6.1813107e-06 6.1813107e-06]\n",
      "KL Divergence(orig, gen) for (1,0,1): 0.01\n",
      "[-0.92156863 -0.92156863] [3.14095501 3.14095501] [0.5 0.5]\n",
      "[ 0.268583    0.428555    0.03064537  0.2275523  -0.2516753  -0.9282977\n",
      " -0.22948551  0.25807273  0.28130144  0.5757891 ] [4.917855  3.9352956 4.6672616 4.651613  5.0634604 3.194934  5.197523\n",
      " 4.3363533 4.9981375 4.775869 ] [1.17255725e-08 1.17255725e-08 1.17255725e-08 1.17255725e-08\n",
      " 1.17255725e-08 1.00000000e+00 1.17255725e-08 1.17255725e-08\n",
      " 1.17255725e-08 1.17255725e-08]\n",
      "KL Divergence(orig, gen) for (1,0,2): 0.01\n",
      "[-0.92156863 -0.92156863] [3.14095501 3.14095501] [0.5 0.5]\n",
      "[-0.46969634  0.09500539  0.63069487 -0.5232636  -0.03636068 -0.929695\n",
      "  0.44959128  0.09279227 -0.18718505  0.26468986] [5.236513  5.0480967 4.9152775 4.5155625 4.200757  3.2130208 4.4465723\n",
      " 4.0238338 4.91111   5.1093144] [1.1727966e-08 1.1727966e-08 1.1727966e-08 1.1806677e-08 1.1727966e-08\n",
      " 1.0000000e+00 1.1727966e-08 1.1727966e-08 1.1727966e-08 1.1727966e-08]\n",
      "KL Divergence(orig, gen) for (1,1,0): 0.01\n",
      "[-0.92156863 -0.92156863] [3.14095501 3.14095501] [0.5 0.5]\n",
      "[ 0.19728008 -0.9113005  -0.01997566  0.5885093   0.5527158  -0.9577866\n",
      " -0.00156163  0.4993508   0.3568629   0.30938274] [4.0553966 3.1898646 4.8217216 4.4453278 4.115145  3.8787146 4.1660213\n",
      " 4.8725543 4.4663715 4.7338142] [3.1843089e-07 9.9956280e-01 3.1843030e-07 3.1843030e-07 3.1843030e-07\n",
      " 4.3464472e-04 3.1845093e-07 3.1843030e-07 3.1843030e-07 3.1843030e-07]\n",
      "KL Divergence(orig, gen) for (1,1,1): 0.01\n",
      "[-0.92156863  0.96078431] [3.14095501 3.14095501] [0.5 0.5]\n",
      "[ 0.19747478  0.02914384  0.09690398  0.7963771  -0.05294764  0.9163856\n",
      "  0.9662707  -0.9245501   0.34494376  0.39408636] [5.138647  4.262796  5.247687  4.5845127 4.3757315 4.1707983 3.226223\n",
      " 2.0965767 4.4952645 4.6665096] [1.1257609e-05 1.1257631e-05 1.1257609e-05 2.1149366e-05 1.1257609e-05\n",
      " 1.0984093e-03 4.9465352e-01 5.0415933e-01 1.1257609e-05 1.1257609e-05]\n",
      "KL Divergence(orig, gen) for (1,1,2): 0.22\n"
     ]
    },
    {
     "data": {
      "image/png": "[encoded data removed]",
      "text/plain": [
       "<Figure size 720x576 with 3 Axes>"
      ]
     },
     "metadata": {},
     "output_type": "display_data"
    },
    {
     "data": {
      "image/png": "[encoded data removed]",
      "text/plain": [
       "<Figure size 720x576 with 3 Axes>"
      ]
     },
     "metadata": {},
     "output_type": "display_data"
    },
    {
     "data": {
      "image/png": "[encoded data removed]",
      "text/plain": [
       "<Figure size 720x576 with 3 Axes>"
      ]
     },
     "metadata": {},
     "output_type": "display_data"
    },
    {
     "data": {
      "image/png": "[encoded data removed]",
      "text/plain": [
       "<Figure size 720x576 with 3 Axes>"
      ]
     },
     "metadata": {},
     "output_type": "display_data"
    }
   ],
   "source": [
    "N = 1000\n",
    "\n",
    "# Generated params \n",
    "x_sample = np.zeros((num_samples, img_rows, img_cols, img_chns))\n",
    "x_out = model.predict(x_sample, num_samples)\n",
    "\n",
    "for i in range(img_cols):\n",
    "    for j in range(img_rows):\n",
    "        fig = plt.figure(figsize=(10,8), )\n",
    "        fig.suptitle(\"pixel (%d, %d)\" % (i, j), fontsize=16)\n",
    "        for k in range(img_chns):\n",
    "            ax = plt.subplot(img_chns, 1, k + 1)\n",
    "            \n",
    "            # Orig params\n",
    "            ms = (params[0][i, j, k, :] - 127.5)  / 127.5\n",
    "            invss = np.log(127.5 / params[1][i, j, k, :])\n",
    "            weights = params[2][i, j, k, :]\n",
    "            \n",
    "            pvals_orig = compute_mixture(ms, invss, weights, n_comps=2)\n",
    "            print(ms, invss, weights)\n",
    "            pvals_orig /= pvals_orig.sum()\n",
    "            samples = pd.Series(np.random.choice(len(pvals_orig), N, p=pvals_orig))\n",
    "            samples.hist(bins=128, ax=ax, alpha=0.5, label='orig')\n",
    "            \n",
    "            # Generated params\n",
    "            offset = k * n_components\n",
    "            ms = x_out[n, i, j, offset:offset + n_components]\n",
    "            offset = n_components * img_chns + k * n_components\n",
    "            invss = x_out[n, i, j, offset:offset + n_components]\n",
    "            offset = 2 * n_components * img_chns + k * n_components\n",
    "            weights = x_out[n, i, j, offset:offset + n_components]\n",
    "            \n",
    "            pvals_gen = compute_mixture(ms, invss, weights, n_components)\n",
    "            print(ms, invss, weights)\n",
    "            pvals_gen /= pvals_gen.sum()\n",
    "            samples = pd.Series(np.random.choice(len(pvals_gen), N, p=pvals_gen))\n",
    "            samples.hist(bins=128, ax=ax, alpha=0.5, label='generated')\n",
    "            \n",
    "            ax.legend()\n",
    "            print('KL Divergence(orig, gen) for (%d,%d,%d): %.2f' % (i, j, k, scipy.stats.entropy(pvals_orig, pvals_gen)))"
   ]
  },
  {
   "cell_type": "code",
   "execution_count": null,
   "metadata": {},
   "outputs": [],
   "source": []
  },
  {
   "cell_type": "code",
   "execution_count": null,
   "metadata": {},
   "outputs": [],
   "source": []
  },
  {
   "cell_type": "code",
   "execution_count": null,
   "metadata": {},
   "outputs": [],
   "source": []
  },
  {
   "cell_type": "markdown",
   "metadata": {
    "slideshow": {
     "slide_type": "slide"
    }
   },
   "source": [
    "# Notes\n",
    "\n"
   ]
  },
  {
   "cell_type": "markdown",
   "metadata": {},
   "source": [
    "### 2019-03-03\n",
    "\n",
    "Issues:\n",
    "    \n",
    "* Wrong order of RGB slices when repeating image\n",
    "* Used old 255. value vs. 127.5\n",
    "* Added non-zero init to param values\n",
    "    \n",
    "Next TODO:\n",
    "\n",
    "* Plot histograms of 0 to 255 pixel values, somehow see that the mass is the same?\n",
    "* Maybe KL divergence?"
   ]
  },
  {
   "cell_type": "markdown",
   "metadata": {},
   "source": [
    "### 2019-03-07\n",
    "\n",
    " * It looks like my generated distributions are spreading too much mass over the range, which might be because I'm allowing the \"invs\" param to be small (< 1), which will naturally spread it very wide.  The model probably gets confused in these situations and finds a local minima that spreads it wide instead of using the power of the mixtures.  Maybe try to constrain it a bit more?\n",
    " \n",
    "<img src=\"images/2019-03-07-spread.png\">\n",
    "\n",
    " * Tried to make \"invs\" to be in range (2, 7), but it looks like it made the spreading worse.  It looks like these bimodal distributions aren't using the weights properly.  Maybe I need to debug my loss function?  The mixture maybe aren't being taken into account properly?\n"
   ]
  },
  {
   "cell_type": "markdown",
   "metadata": {},
   "source": [
    "### 2019-03-25\n",
    "\n",
    "Issues:\n",
    "\n",
    "* Made minimum invss = 2.0 (by using `+2` in Lambda) so that we don't get distributions that are too diffuse\n",
    "* Made weights initialized all at (1's) to get a more even spread\n",
    "\n",
    "\n",
    "Comments:\n",
    "\n",
    "<img src=\"images/2019-03-25-spread.png\">\n",
    "\n",
    "* I have a feeling that we can't recover the weights easily sometimes because the initalized weights (glorat_uniform) converges to a weird local minumum.  Makes sense b/c mixutre models in general won't converge to a global minimum through gradient descent.\n",
    "    * Take a look at diagram: For the \"G\", \"B\" pixels, one of the mixtures looks pretty close, while the other isn't too bad (the \"m\" is too far to the left, so all the mass gets to the \"0\" pixel).  \n",
    "    * However, for the \"R\" histogram, it converged to some bad local minima. You can see the mass is spread out so far.  The weight distribution is (0.95, 0.05) and the m is around (0.41,0.47) (in the middle).  This probably means that we found a local minima but it doesn't at all match the true distribution.\n",
    "* Interesting, loss goes down to (27-ish) but KL diverge is relatively big for the distributions.  Makes sense since I'm not optimizing for KL divergence (in real life I have no idea what the distributions are.\n",
    "\n",
    "Next TODO:\n",
    "\n",
    "* Assuming that I can't converge to a global minimum (b/c of SGD doesn't allow it), maybe what I need is to have *over-capacity* (i.e. more mixture components) so I can find a good local minima that better approximates what I want."
   ]
  },
  {
   "cell_type": "markdown",
   "metadata": {},
   "source": [
    "# 2019-04-28\n",
    "\n",
    "Finally found some time to work on it...\n",
    "\n",
    "* Found a bug!  In the loss function, I was still using protection limits of [0.001, 0.999] but I rescaled things so it really should have been [-0.999, 0.999]\n",
    "* I played around with different number of mixture components (while the source dataset still has 2 components) and I was right!  With only 2 components it's hard to model 2 components, but at 4/5, it gets pretty close (5 components):\n",
    "\n",
    "<img src=\"images/2019-04-28-spread1.png\">\n",
    "\n",
    "However, the one pixel that has values that are closer together doesn't quite match:\n",
    "\n",
    "\n",
    "<img src=\"images/2019-04-28-spread2.png\">\n",
    "\n",
    "Increasing the components to 10 seems to solve it:\n",
    "\n",
    "<img src=\"images/2019-04-28-spread3-10comps.png\">"
   ]
  },
  {
   "cell_type": "code",
   "execution_count": null,
   "metadata": {},
   "outputs": [],
   "source": []
  }
 ],
 "metadata": {
  "celltoolbar": "Slideshow",
  "kernelspec": {
   "display_name": "Python 3",
   "language": "python",
   "name": "python3"
  },
  "language_info": {
   "codemirror_mode": {
    "name": "ipython",
    "version": 3
   },
   "file_extension": ".py",
   "mimetype": "text/x-python",
   "name": "python",
   "nbconvert_exporter": "python",
   "pygments_lexer": "ipython3",
   "version": "3.6.5"
  },
  "widgets": {
   "state": {
    "042d9353a5294a1cae93f8eb9e9a3c84": {
     "views": [
      {
       "cell_index": 12
      }
     ]
    },
    "05e25527c52843438585a66b7e9f443c": {
     "views": [
      {
       "cell_index": 12
      }
     ]
    },
    "06fdc638a3dc45a0a1e82f2b3c90c18d": {
     "views": [
      {
       "cell_index": 12
      }
     ]
    },
    "07f49ab2133c40a4a245e0a348843084": {
     "views": [
      {
       "cell_index": 12
      }
     ]
    },
    "12369f27c46c46f58c925a3d9749e65d": {
     "views": [
      {
       "cell_index": 12
      }
     ]
    },
    "16bcb109a6814007801cf814c76aa6d3": {
     "views": [
      {
       "cell_index": 12
      }
     ]
    },
    "1930a5477ce44850aaa99c20f3f7e542": {
     "views": [
      {
       "cell_index": 12
      }
     ]
    },
    "194b186d11d94c28afd8a01d9fd8ae1e": {
     "views": [
      {
       "cell_index": 12
      }
     ]
    },
    "1ccc61b6a278489eacb5735a740e79bf": {
     "views": [
      {
       "cell_index": 12
      }
     ]
    },
    "1d67ae6836244a81bff253e0426488ff": {
     "views": [
      {
       "cell_index": 12
      }
     ]
    },
    "213bd5ec7a124467b85e240c7bdcc819": {
     "views": [
      {
       "cell_index": 12
      }
     ]
    },
    "23c591bc3a7e4df5b0e21677e2869f27": {
     "views": [
      {
       "cell_index": 12
      }
     ]
    },
    "24382361c62a4bbc9741c2129be71810": {
     "views": [
      {
       "cell_index": 12
      }
     ]
    },
    "24419d69ef3347819fcc70448978bf05": {
     "views": [
      {
       "cell_index": 12
      }
     ]
    },
    "25ecd0ca842e43fcabc04a82fff2dac1": {
     "views": [
      {
       "cell_index": 12
      }
     ]
    },
    "26bab0144edd46609ddcdd6bfd65115f": {
     "views": [
      {
       "cell_index": 12
      }
     ]
    },
    "28707906c2344d00b07ee40c479121db": {
     "views": [
      {
       "cell_index": 12
      }
     ]
    },
    "287646592b8e41f2920e73c7e92d2ec0": {
     "views": [
      {
       "cell_index": 12
      }
     ]
    },
    "28a8916064514ce7912c103e7370ad47": {
     "views": [
      {
       "cell_index": 12
      }
     ]
    },
    "2a100dade8384007bf4abf580068cdc3": {
     "views": [
      {
       "cell_index": 12
      }
     ]
    },
    "2b28c9ea3e5b4950bdfcd897162bd56d": {
     "views": [
      {
       "cell_index": 12
      }
     ]
    },
    "2b5b08661aee4f9296e0878cb4ce041b": {
     "views": [
      {
       "cell_index": 12
      }
     ]
    },
    "2bd96fa1931842749cd9ba68345a4132": {
     "views": [
      {
       "cell_index": 12
      }
     ]
    },
    "32a97da73a594458a7080928d0aa12a4": {
     "views": [
      {
       "cell_index": 12
      }
     ]
    },
    "33a124f13a124b64bbca8a0a4a96999c": {
     "views": [
      {
       "cell_index": 12
      }
     ]
    },
    "3477d40608834aca90d0f57b44f7b3e7": {
     "views": [
      {
       "cell_index": 12
      }
     ]
    },
    "357ae9996a19410e98f131fc86e2c937": {
     "views": [
      {
       "cell_index": 12
      }
     ]
    },
    "3a1b2c52257843549c64aedde0be827c": {
     "views": [
      {
       "cell_index": 12
      }
     ]
    },
    "3a685442e38243f5a601d54d59c37fdd": {
     "views": [
      {
       "cell_index": 12
      }
     ]
    },
    "3ac750287e394cc281f1dc3487e94df6": {
     "views": [
      {
       "cell_index": 12
      }
     ]
    },
    "3afef162a0304210973a3797acf40cab": {
     "views": [
      {
       "cell_index": 12
      }
     ]
    },
    "3c47ecdd65c049cfa66eb21ad8fd933b": {
     "views": [
      {
       "cell_index": 12
      }
     ]
    },
    "40b3e13fb5ae4ceda47aa8542106d365": {
     "views": [
      {
       "cell_index": 12
      }
     ]
    },
    "439afcda2d4e4ce9af1ea7024a9bd0b5": {
     "views": [
      {
       "cell_index": 12
      }
     ]
    },
    "440c8e7f865840019dd96476fe5fe1bc": {
     "views": [
      {
       "cell_index": 12
      }
     ]
    },
    "4480a3d377a748c5bbd202d71b80b323": {
     "views": [
      {
       "cell_index": 12
      }
     ]
    },
    "4692e78886d942c982ddd2a97a55f649": {
     "views": [
      {
       "cell_index": 12
      }
     ]
    },
    "47282faa187746bb8339a4fb4ac58068": {
     "views": [
      {
       "cell_index": 12
      }
     ]
    },
    "4a1af9ac778a45d8baac52255b6aaac0": {
     "views": [
      {
       "cell_index": 12
      }
     ]
    },
    "4a7ca0764c1d4f4e8c818452e0faad22": {
     "views": [
      {
       "cell_index": 12
      }
     ]
    },
    "4f9ead92babf43a6a7c2dbe03bc199e1": {
     "views": [
      {
       "cell_index": 12
      }
     ]
    },
    "4fe4e6c7a7c04da0b82eedfee59f123c": {
     "views": [
      {
       "cell_index": 12
      }
     ]
    },
    "509696b56ebd4c078824720adfb9c882": {
     "views": [
      {
       "cell_index": 12
      }
     ]
    },
    "5288b8c03d57497384001bd545f9473a": {
     "views": [
      {
       "cell_index": 12
      }
     ]
    },
    "54c0486d9d194fd89a425f8bfe8abffd": {
     "views": [
      {
       "cell_index": 12
      }
     ]
    },
    "5591146f394445e9a7562bfbeba3b210": {
     "views": [
      {
       "cell_index": 12
      }
     ]
    },
    "569e07a8c03b417a8bec640521c1e8d8": {
     "views": [
      {
       "cell_index": 12
      }
     ]
    },
    "56d382118cbe49f09c5518839d1309ee": {
     "views": [
      {
       "cell_index": 12
      }
     ]
    },
    "58879c6ef3904577a0d0ca261361d888": {
     "views": [
      {
       "cell_index": 12
      }
     ]
    },
    "59de165a886a4dcd855ec33e4682bd2d": {
     "views": [
      {
       "cell_index": 12
      }
     ]
    },
    "5d835fe3d36c41d9b140f25c874e02e7": {
     "views": [
      {
       "cell_index": 12
      }
     ]
    },
    "5dcb1825f8f945509c1521456ec8802f": {
     "views": [
      {
       "cell_index": 12
      }
     ]
    },
    "5fc113b88db343038e6190f2e2e1df1e": {
     "views": [
      {
       "cell_index": 12
      }
     ]
    },
    "601e0344661243299a2a6d382458f93a": {
     "views": [
      {
       "cell_index": 12
      }
     ]
    },
    "6060d310a5e34896a7156115cc6c3b43": {
     "views": [
      {
       "cell_index": 12
      }
     ]
    },
    "607439f270cb405cad0280cd5bf035bf": {
     "views": [
      {
       "cell_index": 12
      }
     ]
    },
    "695d75c78b7148a4a7c84d57bed02c35": {
     "views": [
      {
       "cell_index": 12
      }
     ]
    },
    "6b76037650064c71afc1ef43cea3b884": {
     "views": [
      {
       "cell_index": 12
      }
     ]
    },
    "6ec89ae257604fa0a672b9c0042d1c53": {
     "views": [
      {
       "cell_index": 12
      }
     ]
    },
    "70dfa87054284e3d84cd08df8bfbf705": {
     "views": [
      {
       "cell_index": 12
      }
     ]
    },
    "70fefa448a124b56bec948f54c0fe1fc": {
     "views": [
      {
       "cell_index": 12
      }
     ]
    },
    "73deeee41eb04b1c9b5d12164159f500": {
     "views": [
      {
       "cell_index": 12
      }
     ]
    },
    "74df7b1ee69449e6a6733da633e4c583": {
     "views": [
      {
       "cell_index": 12
      }
     ]
    },
    "75c980fe55484a15b5fadf86960e6984": {
     "views": [
      {
       "cell_index": 12
      }
     ]
    },
    "770dfa1b77ed46258fd936b4a5b002f7": {
     "views": [
      {
       "cell_index": 12
      }
     ]
    },
    "79b014c35bb64afd98775e32a56c8469": {
     "views": [
      {
       "cell_index": 12
      }
     ]
    },
    "7b97837f50464a0194b38acd2ee83d07": {
     "views": [
      {
       "cell_index": 12
      }
     ]
    },
    "7df60277eba44da5acc4ae70299cd1db": {
     "views": [
      {
       "cell_index": 12
      }
     ]
    },
    "7e9f3f789dd9472189a557183640b7c9": {
     "views": [
      {
       "cell_index": 12
      }
     ]
    },
    "7eb10ea82e954391a3733334c4276916": {
     "views": [
      {
       "cell_index": 12
      }
     ]
    },
    "7fe51828fd9745e9bad8a4632d35a137": {
     "views": [
      {
       "cell_index": 12
      }
     ]
    },
    "807fe4bc5122427a8d991815a0afdefe": {
     "views": [
      {
       "cell_index": 12
      }
     ]
    },
    "82b2dfaaeca94ac7871eb714ebf0bd24": {
     "views": [
      {
       "cell_index": 12
      }
     ]
    },
    "83eb650f527a42e9a904a1dc3489226e": {
     "views": [
      {
       "cell_index": 12
      }
     ]
    },
    "84c3b92deb524251aae620eb42b81d57": {
     "views": [
      {
       "cell_index": 12
      }
     ]
    },
    "85ca8ba9ed1c4fc1bd9f636d4efb13a2": {
     "views": [
      {
       "cell_index": 12
      }
     ]
    },
    "8a803cf98b4a4ad38b46389cd0cbc624": {
     "views": [
      {
       "cell_index": 12
      }
     ]
    },
    "8f271df026484a06be2f6509462c42ed": {
     "views": [
      {
       "cell_index": 12
      }
     ]
    },
    "8f2d4f8192c4455a922e9f4f4388b10a": {
     "views": [
      {
       "cell_index": 12
      }
     ]
    },
    "99722895709c48d7baca4359ce30f165": {
     "views": [
      {
       "cell_index": 12
      }
     ]
    },
    "9994b42dd71f4dcb8412076e04f74af1": {
     "views": [
      {
       "cell_index": 12
      }
     ]
    },
    "9c65331cb7044f07bea6f1dcd02be34e": {
     "views": [
      {
       "cell_index": 12
      }
     ]
    },
    "9d93b50dddb843ffb3192fa7463d1eb3": {
     "views": [
      {
       "cell_index": 12
      }
     ]
    },
    "9ddcff6b73e84b71bb72cbaf509b6d7d": {
     "views": [
      {
       "cell_index": 12
      }
     ]
    },
    "9ff602ebdfe446f8a7973c18b0b9c448": {
     "views": [
      {
       "cell_index": 12
      }
     ]
    },
    "a13b7297bcfd48aeb1f6adeb79c6907e": {
     "views": [
      {
       "cell_index": 12
      }
     ]
    },
    "a2d8253207ff47c196ec18d0c3e292fc": {
     "views": [
      {
       "cell_index": 12
      }
     ]
    },
    "a447bd0d14cf402b844ccef55b5e2d6e": {
     "views": [
      {
       "cell_index": 12
      }
     ]
    },
    "a8fd29c4d7474543bfb283fe1bc22752": {
     "views": [
      {
       "cell_index": 12
      }
     ]
    },
    "a938e8c6d6f54d119dc4e0fc6591ceb2": {
     "views": [
      {
       "cell_index": 12
      }
     ]
    },
    "abb7603ed5cc4ea7a3e9133abc83daab": {
     "views": [
      {
       "cell_index": 12
      }
     ]
    },
    "abd62c0bee8d4a1d93a95b31b9aaf486": {
     "views": [
      {
       "cell_index": 12
      }
     ]
    },
    "ac5eaac0d0bc4bdc899be9b7c7609004": {
     "views": [
      {
       "cell_index": 12
      }
     ]
    },
    "ac8d814446504f1fb7359e84efc877df": {
     "views": [
      {
       "cell_index": 12
      }
     ]
    },
    "aecfd70ffbbb491296ddfead5c3e676c": {
     "views": [
      {
       "cell_index": 12
      }
     ]
    },
    "b012c12df7ec4de5bee68e9f10c67227": {
     "views": [
      {
       "cell_index": 12
      }
     ]
    },
    "b0413da85a834535bf0910a1a2049cf4": {
     "views": [
      {
       "cell_index": 12
      }
     ]
    },
    "b3e05cfa4dfb44e8aec6501b481e740a": {
     "views": [
      {
       "cell_index": 12
      }
     ]
    },
    "b8e7a6d97abc49eb8b24af81997c814b": {
     "views": [
      {
       "cell_index": 12
      }
     ]
    },
    "b958fd557b674353b4513a1223d1a451": {
     "views": [
      {
       "cell_index": 12
      }
     ]
    },
    "bc39a43c23b9496fb53533370e7f076b": {
     "views": [
      {
       "cell_index": 12
      }
     ]
    },
    "bcb5c68f5f9640ffbc0d14af2a8d2609": {
     "views": [
      {
       "cell_index": 12
      }
     ]
    },
    "c1a529e546e84cfe858abc405448a31c": {
     "views": [
      {
       "cell_index": 12
      }
     ]
    },
    "c51f1c60f93c4707808116607aceb523": {
     "views": [
      {
       "cell_index": 12
      }
     ]
    },
    "c6cefa23028c47d1a9b8e34f2173662b": {
     "views": [
      {
       "cell_index": 12
      }
     ]
    },
    "c867ce48830d48ff838c535f911cde38": {
     "views": [
      {
       "cell_index": 12
      }
     ]
    },
    "cc1c3c0a394049c7817525d4c0dbc660": {
     "views": [
      {
       "cell_index": 12
      }
     ]
    },
    "ce61c3f1b09d4b7aaaa04b999968853b": {
     "views": [
      {
       "cell_index": 12
      }
     ]
    },
    "ced5cb09460b44f2b3cb07cd26ba2d80": {
     "views": [
      {
       "cell_index": 12
      }
     ]
    },
    "d0a64a823a4649898b5ef2ae2f1bbe27": {
     "views": [
      {
       "cell_index": 12
      }
     ]
    },
    "d2307dd3ea50414580c68a01944b6609": {
     "views": [
      {
       "cell_index": 12
      }
     ]
    },
    "d73036ff5b9a463aa2d560cc98e09a99": {
     "views": [
      {
       "cell_index": 12
      }
     ]
    },
    "d8bff5fe3809457696452bd7d37b0163": {
     "views": [
      {
       "cell_index": 12
      }
     ]
    },
    "da29d43a5fbd4d0db082c70348e5783e": {
     "views": [
      {
       "cell_index": 12
      }
     ]
    },
    "dcbbfefe63b849b29b2c6f2c445f9d44": {
     "views": [
      {
       "cell_index": 12
      }
     ]
    },
    "de65778ccbf74269a7aecafe0f4a84e9": {
     "views": [
      {
       "cell_index": 12
      }
     ]
    },
    "e2f426df16ea437cb3eb19a6e29718d3": {
     "views": [
      {
       "cell_index": 12
      }
     ]
    },
    "e331ecdfb1034be78954606b29282291": {
     "views": [
      {
       "cell_index": 12
      }
     ]
    },
    "e57c668870b044aab6fb89a073374887": {
     "views": [
      {
       "cell_index": 12
      }
     ]
    },
    "e7d90b37142d4468a9a3f88fe5e7ebe5": {
     "views": [
      {
       "cell_index": 12
      }
     ]
    },
    "e7dfb79db2074d32b546b0f5b35d037a": {
     "views": [
      {
       "cell_index": 12
      }
     ]
    },
    "ea7dc8f6b6904a098cc8bcd3cccb0f09": {
     "views": [
      {
       "cell_index": 12
      }
     ]
    },
    "ead95701b3c948fe810264c9f916c701": {
     "views": [
      {
       "cell_index": 12
      }
     ]
    },
    "ec1f20b0a9a848a785617463aed63555": {
     "views": [
      {
       "cell_index": 12
      }
     ]
    },
    "ef7271ab301c4d52b331707746f9638e": {
     "views": [
      {
       "cell_index": 12
      }
     ]
    },
    "f057baa922394139936146319110c770": {
     "views": [
      {
       "cell_index": 12
      }
     ]
    },
    "f07a509b915040e08e37ababd37b7cf1": {
     "views": [
      {
       "cell_index": 12
      }
     ]
    },
    "f259740c24a24bb3a309aec954f66fe3": {
     "views": [
      {
       "cell_index": 12
      }
     ]
    },
    "f612f1c9698d4be4bb42c2f0e2c69108": {
     "views": [
      {
       "cell_index": 12
      }
     ]
    },
    "f6efb652598c41549a9f19b2f9ceff2b": {
     "views": [
      {
       "cell_index": 12
      }
     ]
    },
    "f97ed4db90d24d88a228ac1e52375a0c": {
     "views": [
      {
       "cell_index": 12
      }
     ]
    },
    "fd43e083f58d43a68688581cdf48acab": {
     "views": [
      {
       "cell_index": 12
      }
     ]
    },
    "fda46d318b0941c19dfe61eb3e02cb23": {
     "views": [
      {
       "cell_index": 12
      }
     ]
    },
    "fe6b5b3475984be890e4e11f3e5d3ef1": {
     "views": [
      {
       "cell_index": 12
      }
     ]
    }
   },
   "version": "1.2.0"
  }
 },
 "nbformat": 4,
 "nbformat_minor": 2
}
