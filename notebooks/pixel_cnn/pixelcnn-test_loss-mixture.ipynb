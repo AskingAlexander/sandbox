{
 "cells": [
  {
   "cell_type": "code",
   "execution_count": 1,
   "metadata": {
    "ExecuteTime": {
     "end_time": "2019-04-29T12:08:18.180232Z",
     "start_time": "2019-04-29T12:08:16.576898Z"
    },
    "slideshow": {
     "slide_type": "slide"
    }
   },
   "outputs": [
    {
     "name": "stderr",
     "output_type": "stream",
     "text": [
      "/home/brian/anaconda3/lib/python3.6/site-packages/h5py/__init__.py:36: FutureWarning: Conversion of the second argument of issubdtype from `float` to `np.floating` is deprecated. In future, it will be treated as `np.float64 == np.dtype(float).type`.\n",
      "  from ._conv import register_converters as _register_converters\n",
      "Using TensorFlow backend.\n"
     ]
    }
   ],
   "source": [
    "%matplotlib inline\n",
    "import numpy as np\n",
    "import os\n",
    "import time\n",
    "import h5py\n",
    "import keras\n",
    "import pandas as pd\n",
    "import math\n",
    "import joblib\n",
    "import json\n",
    "import scipy\n",
    "import matplotlib.pyplot as plt\n",
    "from scipy.stats import logistic\n",
    "\n",
    "from IPython.display import display\n",
    "\n",
    "from sklearn.metrics import accuracy_score\n",
    "from sklearn.model_selection import StratifiedShuffleSplit\n",
    "\n",
    "from keras.layers import (Input, Dense, Lambda, Flatten, Reshape, BatchNormalization, \n",
    "                          Activation, Dropout, Conv2D, Conv2DTranspose, LocallyConnected2D,\n",
    "                          Concatenate, Add, Multiply)\n",
    "from keras.engine import InputSpec\n",
    "from keras.losses import sparse_categorical_crossentropy\n",
    "from keras.optimizers import RMSprop, Adam, SGD\n",
    "from keras.models import Model\n",
    "from keras.utils import to_categorical\n",
    "from keras.regularizers import l2\n",
    "from keras import metrics\n",
    "from keras import backend as K\n",
    "from keras_tqdm import TQDMNotebookCallback\n",
    "from keras.datasets import cifar10\n",
    "\n",
    "import tensorflow as tf\n",
    "\n",
    "from pixelcnn_helpers import pixelcnn_loss, sigmoid, compute_pvals, compute_mixture\n"
   ]
  },
  {
   "cell_type": "markdown",
   "metadata": {
    "slideshow": {
     "slide_type": "slide"
    }
   },
   "source": [
    "# Parameters"
   ]
  },
  {
   "cell_type": "code",
   "execution_count": 2,
   "metadata": {
    "ExecuteTime": {
     "end_time": "2019-04-29T12:08:18.185754Z",
     "start_time": "2019-04-29T12:08:18.181868Z"
    }
   },
   "outputs": [],
   "source": [
    "img_rows, img_cols, img_chns = 2, 2, 3\n",
    "original_img_size = (img_rows, img_cols, img_chns)\n",
    "num_samples = 1000\n",
    "\n",
    "batch_size = int(os.environ.get('BATCH_SIZE', 1))\n",
    "epochs = int(os.environ.get('EPOCHS', 1000))\n",
    "activation = os.environ.get('ACTIVATION', 'relu')\n",
    "learning_rate = float(os.environ.get('LEARNING_RATE', 0.001))\n",
    "resnet_depth = int(os.environ.get('RESNET_DEPTH', 1))\n",
    "n_components = int(os.environ.get('MIXTURE_COMPONENTS', 10))"
   ]
  },
  {
   "cell_type": "markdown",
   "metadata": {},
   "source": [
    "# Generate a dataset based on mixtures of logistic"
   ]
  },
  {
   "cell_type": "markdown",
   "metadata": {},
   "source": [
    "Scaling and shifting a logistic: http://www.math.wm.edu/~leemis/chart/UDR/PDFs/LogisticS.pdf\n",
    "\n",
    "\n",
    "X ~ Logistic(m, s)\n",
    "\n",
    "Y = cX\n",
    "\n",
    "then:\n",
    "\n",
    "Y ~ Logistic(m, s*c)"
   ]
  },
  {
   "cell_type": "code",
   "execution_count": 3,
   "metadata": {
    "ExecuteTime": {
     "end_time": "2019-04-29T12:08:18.556229Z",
     "start_time": "2019-04-29T12:08:18.187316Z"
    },
    "scrolled": false,
    "slideshow": {
     "slide_type": "subslide"
    }
   },
   "outputs": [
    {
     "name": "stdout",
     "output_type": "stream",
     "text": [
      "Logistic m:\n",
      "[[[[-0.92156863  0.96078431]\n",
      "   [-0.92156863  0.96078431]\n",
      "   [-0.92156863  0.96078431]]\n",
      "\n",
      "  [[-0.92156863  0.96078431]\n",
      "   [-0.92156863 -0.92156863]\n",
      "   [-0.92156863 -0.92156863]]]\n",
      "\n",
      "\n",
      " [[[-0.92156863 -0.21568627]\n",
      "   [-0.92156863  0.96078431]\n",
      "   [-0.92156863 -0.92156863]]\n",
      "\n",
      "  [[-0.92156863 -0.92156863]\n",
      "   [-0.92156863 -0.92156863]\n",
      "   [-0.92156863  0.96078431]]]]\n",
      "Logistic s\n",
      "[[[[3.14095501 3.14095501]\n",
      "   [3.14095501 3.14095501]\n",
      "   [3.14095501 3.14095501]]\n",
      "\n",
      "  [[3.14095501 3.14095501]\n",
      "   [3.14095501 3.14095501]\n",
      "   [3.14095501 3.14095501]]]\n",
      "\n",
      "\n",
      " [[[3.14095501 3.14095501]\n",
      "   [3.14095501 3.14095501]\n",
      "   [3.14095501 3.14095501]]\n",
      "\n",
      "  [[3.14095501 3.14095501]\n",
      "   [3.14095501 3.14095501]\n",
      "   [3.14095501 3.14095501]]]]\n",
      "Mixture w\n",
      "[[[[0.5 0.5]\n",
      "   [0.5 0.5]\n",
      "   [0.5 0.5]]\n",
      "\n",
      "  [[0.5 0.5]\n",
      "   [0.5 0.5]\n",
      "   [0.5 0.5]]]\n",
      "\n",
      "\n",
      " [[[0.5 0.5]\n",
      "   [0.5 0.5]\n",
      "   [0.5 0.5]]\n",
      "\n",
      "  [[0.5 0.5]\n",
      "   [0.5 0.5]\n",
      "   [0.5 0.5]]]]\n",
      "(1000, 2, 2, 3)\n"
     ]
    }
   ],
   "source": [
    "np.random.seed(127)\n",
    "\n",
    "# logistic std deviation of 1 pixel level\n",
    "unit_s = 1 / math.pi * math.sqrt(3)\n",
    "\n",
    "def train_data_simple(num_samples):\n",
    "    # Generate pixels using exactly 2 mixture components\n",
    "    n_comp = 2\n",
    "    \n",
    "    # Each pixel is a independent single logstic\n",
    "    X_train = np.zeros((num_samples, img_rows, img_cols, img_chns))\n",
    "    \n",
    "    # Set the distribution values to fixed values so we can tell the difference\n",
    "    m = np.array([\n",
    "        [\n",
    "            [[10.,  250.],  [10, 250.],  [10, 250.]],\n",
    "            [[10.,  250.],  [10., 10. ], [10., 10.]]\n",
    "        ], \n",
    "        [\n",
    "            [[10.,  100.],  [10., 250. ], [10., 10.]], \n",
    "            [[10.,  10.],  [10., 10. ], [10., 250.]]\n",
    "        ], \n",
    "    ])\n",
    "    s = 10 * unit_s * np.ones((img_rows, img_cols, img_chns, n_comp))\n",
    "    w = np.ones((img_rows, img_cols, img_chns, n_comp))\n",
    "    w = w / w.sum(axis=3)[:, :, :, np.newaxis]\n",
    "    \n",
    "    #m = np.random.normal(127.5, 40, (img_rows, img_cols, img_chns, n_comp))\n",
    "    #s = np.random.uniform(1 * unit_s, 40 * unit_s, (img_rows, img_cols, img_chns, n_comp))\n",
    "    #\n",
    "    ## Each row has same mxiture weight\n",
    "    #w = np.random.randint(1, 10, (img_rows, img_cols, img_chns, n_comp))\n",
    "    #w = w / w.sum(axis=3)[:, :, :, np.newaxis]\n",
    "    \n",
    "    for n in range(num_samples):\n",
    "        for i in range(img_rows):\n",
    "            for j in range(img_cols):\n",
    "                for k in range(img_chns):\n",
    "                    pixels = []\n",
    "                    for c in range(n_comp):\n",
    "                        pixels.append(np.random.logistic(m[i, j, k, c], s[i, j, k, c], 1))\n",
    "                    index = np.argmax(np.random.multinomial(1, w[i, j, k])) \n",
    "                    X_train[n, i, j, k] = max(min(int(pixels[index]), 255), 0)\n",
    "                \n",
    "    print('Logistic m:')\n",
    "    print((m - 127.5) / 127.5)\n",
    "    print('Logistic s')\n",
    "    print(np.log(127.5 / s))\n",
    "    print('Mixture w')\n",
    "    print(w)\n",
    "    return X_train, (m, s, w)\n",
    "\n",
    "X_train, params = train_data_simple(num_samples)\n",
    "X_train = (X_train - 127.5) / 127.5\n",
    "print(X_train.shape)\n",
    "#print(params)"
   ]
  },
  {
   "cell_type": "code",
   "execution_count": 4,
   "metadata": {
    "ExecuteTime": {
     "end_time": "2019-04-29T12:08:18.677831Z",
     "start_time": "2019-04-29T12:08:18.557719Z"
    },
    "slideshow": {
     "slide_type": "slide"
    }
   },
   "outputs": [
    {
     "data": {
      "image/png": "[encoded data removed]",
      "text/plain": [
       "<Figure size 1440x360 with 1 Axes>"
      ]
     },
     "metadata": {},
     "output_type": "display_data"
    }
   ],
   "source": [
    "n = min(num_samples, 5)\n",
    "figure = np.zeros((img_rows * n, img_cols * 2, img_chns)).astype(int)\n",
    "for i in range(n):\n",
    "    orig_img = (X_train[i] * 127.5 + 127.5).astype(int)\n",
    "    dy = img_rows * i\n",
    "    figure[dy:dy + img_rows, :img_cols] = orig_img\n",
    "    \n",
    "    # Digitize\n",
    "    #img = orig_img #.astype(float) / 255\n",
    "    #figure[dy:dy + img_rows, img_cols:2 * img_cols] = img\n",
    "\n",
    "plt.figure(figsize=(n * 4, 5))\n",
    "plt.imshow(figure)\n",
    "plt.show()"
   ]
  },
  {
   "cell_type": "code",
   "execution_count": 5,
   "metadata": {
    "ExecuteTime": {
     "end_time": "2019-04-29T12:08:18.692234Z",
     "start_time": "2019-04-29T12:08:18.679698Z"
    }
   },
   "outputs": [
    {
     "data": {
      "text/plain": [
       "array([[[-1.        , -0.8745098 ,  0.94509804],\n",
       "        [ 1.        , -0.85098039, -0.95294118]],\n",
       "\n",
       "       [[-0.9372549 ,  0.99215686, -0.94509804],\n",
       "        [-0.96078431, -0.96078431,  0.85882353]]])"
      ]
     },
     "execution_count": 5,
     "metadata": {},
     "output_type": "execute_result"
    }
   ],
   "source": [
    "X_train[15,:]"
   ]
  },
  {
   "cell_type": "markdown",
   "metadata": {
    "slideshow": {
     "slide_type": "slide"
    }
   },
   "source": [
    "# Pixel CNN Helpers"
   ]
  },
  {
   "cell_type": "markdown",
   "metadata": {},
   "source": [
    "# Model"
   ]
  },
  {
   "cell_type": "code",
   "execution_count": 6,
   "metadata": {
    "ExecuteTime": {
     "end_time": "2019-04-29T12:08:18.785637Z",
     "start_time": "2019-04-29T12:08:18.693772Z"
    }
   },
   "outputs": [],
   "source": [
    "if K.image_data_format() == 'channels_last':\n",
    "    bn_axis = 3\n",
    "else:\n",
    "    bn_axis = 1"
   ]
  },
  {
   "cell_type": "code",
   "execution_count": 7,
   "metadata": {
    "ExecuteTime": {
     "end_time": "2019-04-29T12:08:19.221270Z",
     "start_time": "2019-04-29T12:08:18.788772Z"
    },
    "slideshow": {
     "slide_type": "slide"
    }
   },
   "outputs": [],
   "source": [
    "# Work around Keras/tensorboard bug: https://github.com/keras-team/keras/issues/10074\n",
    "K.clear_session()\n",
    "\n",
    "main_input = Input(shape=original_img_size, name='main_input')\n",
    "\n",
    "ms = []\n",
    "invss = []\n",
    "weights = []\n",
    "for channel in range(img_chns):\n",
    "    x = Lambda(lambda x: x * 0.)(main_input)\n",
    "    x = Flatten()(x)\n",
    "    decoder_out_m_ = Dense(img_rows * img_cols * n_components, name='x_m' + str(channel),\n",
    "                           bias_initializer='glorot_uniform')(x)\n",
    "    decoder_out_m_ = Lambda(lambda x: x)(decoder_out_m_)\n",
    "    decoder_out_m = Reshape((img_rows, img_cols, n_components))(decoder_out_m_)\n",
    "    ms.append(decoder_out_m)\n",
    "    \n",
    "    decoder_out_invs_ = Dense(img_rows * img_cols * n_components, name='x_s' + str(channel),\n",
    "                              activation='sigmoid', bias_initializer='glorot_uniform')(x)\n",
    "    #decoder_out_invs = Lambda(lambda x: 5. * x + 2.)(decoder_out_invs_)\n",
    "    decoder_out_invs = Lambda(lambda x: 5. * x + 2)(decoder_out_invs_)\n",
    "    decoder_out_invs = Reshape((img_rows, img_cols, n_components))(decoder_out_invs)\n",
    "    \n",
    "    invss.append(decoder_out_invs)\n",
    "   \n",
    "    x_reshape = Reshape((img_rows, img_cols, img_chns))(x)\n",
    "    mixture_weights = LocallyConnected2D(name='weights' + str(channel),\n",
    "                                         filters=n_components, kernel_size=1, strides=1,\n",
    "                                         activation='softmax',\n",
    "                                         bias_initializer='ones')(x_reshape)\n",
    "    weights.append(mixture_weights)\n",
    "\n",
    "out_m = Concatenate()(ms)\n",
    "out_invs = Concatenate()(invss)\n",
    "out_weights = Concatenate()(weights)\n",
    "main_output = Concatenate()([out_m, out_invs, out_weights])"
   ]
  },
  {
   "cell_type": "code",
   "execution_count": 8,
   "metadata": {
    "ExecuteTime": {
     "end_time": "2019-04-29T12:08:19.321649Z",
     "start_time": "2019-04-29T12:08:19.223446Z"
    },
    "scrolled": true
   },
   "outputs": [
    {
     "name": "stdout",
     "output_type": "stream",
     "text": [
      "Building model...\n",
      "__________________________________________________________________________________________________\n",
      "Layer (type)                    Output Shape         Param #     Connected to                     \n",
      "==================================================================================================\n",
      "main_input (InputLayer)         (None, 2, 2, 3)      0                                            \n",
      "__________________________________________________________________________________________________\n",
      "lambda_1 (Lambda)               (None, 2, 2, 3)      0           main_input[0][0]                 \n",
      "__________________________________________________________________________________________________\n",
      "lambda_4 (Lambda)               (None, 2, 2, 3)      0           main_input[0][0]                 \n",
      "__________________________________________________________________________________________________\n",
      "lambda_7 (Lambda)               (None, 2, 2, 3)      0           main_input[0][0]                 \n",
      "__________________________________________________________________________________________________\n",
      "flatten_1 (Flatten)             (None, 12)           0           lambda_1[0][0]                   \n",
      "__________________________________________________________________________________________________\n",
      "flatten_2 (Flatten)             (None, 12)           0           lambda_4[0][0]                   \n",
      "__________________________________________________________________________________________________\n",
      "flatten_3 (Flatten)             (None, 12)           0           lambda_7[0][0]                   \n",
      "__________________________________________________________________________________________________\n",
      "x_m0 (Dense)                    (None, 40)           520         flatten_1[0][0]                  \n",
      "__________________________________________________________________________________________________\n",
      "x_m1 (Dense)                    (None, 40)           520         flatten_2[0][0]                  \n",
      "__________________________________________________________________________________________________\n",
      "x_m2 (Dense)                    (None, 40)           520         flatten_3[0][0]                  \n",
      "__________________________________________________________________________________________________\n",
      "x_s0 (Dense)                    (None, 40)           520         flatten_1[0][0]                  \n",
      "__________________________________________________________________________________________________\n",
      "x_s1 (Dense)                    (None, 40)           520         flatten_2[0][0]                  \n",
      "__________________________________________________________________________________________________\n",
      "x_s2 (Dense)                    (None, 40)           520         flatten_3[0][0]                  \n",
      "__________________________________________________________________________________________________\n",
      "lambda_2 (Lambda)               (None, 40)           0           x_m0[0][0]                       \n",
      "__________________________________________________________________________________________________\n",
      "lambda_5 (Lambda)               (None, 40)           0           x_m1[0][0]                       \n",
      "__________________________________________________________________________________________________\n",
      "lambda_8 (Lambda)               (None, 40)           0           x_m2[0][0]                       \n",
      "__________________________________________________________________________________________________\n",
      "lambda_3 (Lambda)               (None, 40)           0           x_s0[0][0]                       \n",
      "__________________________________________________________________________________________________\n",
      "lambda_6 (Lambda)               (None, 40)           0           x_s1[0][0]                       \n",
      "__________________________________________________________________________________________________\n",
      "lambda_9 (Lambda)               (None, 40)           0           x_s2[0][0]                       \n",
      "__________________________________________________________________________________________________\n",
      "reshape_3 (Reshape)             (None, 2, 2, 3)      0           flatten_1[0][0]                  \n",
      "__________________________________________________________________________________________________\n",
      "reshape_6 (Reshape)             (None, 2, 2, 3)      0           flatten_2[0][0]                  \n",
      "__________________________________________________________________________________________________\n",
      "reshape_9 (Reshape)             (None, 2, 2, 3)      0           flatten_3[0][0]                  \n",
      "__________________________________________________________________________________________________\n",
      "reshape_1 (Reshape)             (None, 2, 2, 10)     0           lambda_2[0][0]                   \n",
      "__________________________________________________________________________________________________\n",
      "reshape_4 (Reshape)             (None, 2, 2, 10)     0           lambda_5[0][0]                   \n",
      "__________________________________________________________________________________________________\n",
      "reshape_7 (Reshape)             (None, 2, 2, 10)     0           lambda_8[0][0]                   \n",
      "__________________________________________________________________________________________________\n",
      "reshape_2 (Reshape)             (None, 2, 2, 10)     0           lambda_3[0][0]                   \n",
      "__________________________________________________________________________________________________\n",
      "reshape_5 (Reshape)             (None, 2, 2, 10)     0           lambda_6[0][0]                   \n",
      "__________________________________________________________________________________________________\n",
      "reshape_8 (Reshape)             (None, 2, 2, 10)     0           lambda_9[0][0]                   \n",
      "__________________________________________________________________________________________________\n",
      "weights0 (LocallyConnected2D)   (None, 2, 2, 10)     160         reshape_3[0][0]                  \n",
      "__________________________________________________________________________________________________\n",
      "weights1 (LocallyConnected2D)   (None, 2, 2, 10)     160         reshape_6[0][0]                  \n",
      "__________________________________________________________________________________________________\n",
      "weights2 (LocallyConnected2D)   (None, 2, 2, 10)     160         reshape_9[0][0]                  \n",
      "__________________________________________________________________________________________________\n",
      "concatenate_1 (Concatenate)     (None, 2, 2, 30)     0           reshape_1[0][0]                  \n",
      "                                                                 reshape_4[0][0]                  \n",
      "                                                                 reshape_7[0][0]                  \n",
      "__________________________________________________________________________________________________\n",
      "concatenate_2 (Concatenate)     (None, 2, 2, 30)     0           reshape_2[0][0]                  \n",
      "                                                                 reshape_5[0][0]                  \n",
      "                                                                 reshape_8[0][0]                  \n",
      "__________________________________________________________________________________________________\n",
      "concatenate_3 (Concatenate)     (None, 2, 2, 30)     0           weights0[0][0]                   \n",
      "                                                                 weights1[0][0]                   \n",
      "                                                                 weights2[0][0]                   \n",
      "__________________________________________________________________________________________________\n",
      "concatenate_4 (Concatenate)     (None, 2, 2, 90)     0           concatenate_1[0][0]              \n",
      "                                                                 concatenate_2[0][0]              \n",
      "                                                                 concatenate_3[0][0]              \n",
      "==================================================================================================\n",
      "Total params: 3,600\n",
      "Trainable params: 3,600\n",
      "Non-trainable params: 0\n",
      "__________________________________________________________________________________________________\n"
     ]
    }
   ],
   "source": [
    "print(\"Building model...\")\n",
    "optimizer = RMSprop(lr=0.001)\n",
    "\n",
    "model = Model(inputs=main_input, outputs=main_output)\n",
    "model.compile(optimizer=optimizer, loss=lambda x, y: pixelcnn_loss(x, y, img_rows, img_cols, img_chns, n_components))\n",
    "model.summary()"
   ]
  },
  {
   "cell_type": "code",
   "execution_count": 9,
   "metadata": {
    "ExecuteTime": {
     "end_time": "2019-04-29T12:09:31.822834Z",
     "start_time": "2019-04-29T12:08:19.331167Z"
    },
    "scrolled": true,
    "slideshow": {
     "slide_type": "-"
    }
   },
   "outputs": [
    {
     "data": {
      "application/vnd.jupyter.widget-view+json": {
       "model_id": "580956f6c5534c82b2462dd35bd86205",
       "version_major": 2,
       "version_minor": 0
      },
      "text/plain": [
       "HBox(children=(IntProgress(value=0, description='Training', max=40), HTML(value='')))"
      ]
     },
     "metadata": {},
     "output_type": "display_data"
    },
    {
     "data": {
      "application/vnd.jupyter.widget-view+json": {
       "model_id": "",
       "version_major": 2,
       "version_minor": 0
      },
      "text/plain": [
       "HBox(children=(IntProgress(value=0, description='Epoch 0', max=1000), HTML(value='')))"
      ]
     },
     "metadata": {},
     "output_type": "display_data"
    },
    {
     "data": {
      "application/vnd.jupyter.widget-view+json": {
       "model_id": "",
       "version_major": 2,
       "version_minor": 0
      },
      "text/plain": [
       "HBox(children=(IntProgress(value=0, description='Epoch 1', max=1000), HTML(value='')))"
      ]
     },
     "metadata": {},
     "output_type": "display_data"
    },
    {
     "data": {
      "application/vnd.jupyter.widget-view+json": {
       "model_id": "",
       "version_major": 2,
       "version_minor": 0
      },
      "text/plain": [
       "HBox(children=(IntProgress(value=0, description='Epoch 2', max=1000), HTML(value='')))"
      ]
     },
     "metadata": {},
     "output_type": "display_data"
    },
    {
     "data": {
      "application/vnd.jupyter.widget-view+json": {
       "model_id": "",
       "version_major": 2,
       "version_minor": 0
      },
      "text/plain": [
       "HBox(children=(IntProgress(value=0, description='Epoch 3', max=1000), HTML(value='')))"
      ]
     },
     "metadata": {},
     "output_type": "display_data"
    },
    {
     "data": {
      "application/vnd.jupyter.widget-view+json": {
       "model_id": "",
       "version_major": 2,
       "version_minor": 0
      },
      "text/plain": [
       "HBox(children=(IntProgress(value=0, description='Epoch 4', max=1000), HTML(value='')))"
      ]
     },
     "metadata": {},
     "output_type": "display_data"
    },
    {
     "data": {
      "application/vnd.jupyter.widget-view+json": {
       "model_id": "",
       "version_major": 2,
       "version_minor": 0
      },
      "text/plain": [
       "HBox(children=(IntProgress(value=0, description='Epoch 5', max=1000), HTML(value='')))"
      ]
     },
     "metadata": {},
     "output_type": "display_data"
    },
    {
     "data": {
      "application/vnd.jupyter.widget-view+json": {
       "model_id": "",
       "version_major": 2,
       "version_minor": 0
      },
      "text/plain": [
       "HBox(children=(IntProgress(value=0, description='Epoch 6', max=1000), HTML(value='')))"
      ]
     },
     "metadata": {},
     "output_type": "display_data"
    },
    {
     "data": {
      "application/vnd.jupyter.widget-view+json": {
       "model_id": "",
       "version_major": 2,
       "version_minor": 0
      },
      "text/plain": [
       "HBox(children=(IntProgress(value=0, description='Epoch 7', max=1000), HTML(value='')))"
      ]
     },
     "metadata": {},
     "output_type": "display_data"
    },
    {
     "data": {
      "application/vnd.jupyter.widget-view+json": {
       "model_id": "",
       "version_major": 2,
       "version_minor": 0
      },
      "text/plain": [
       "HBox(children=(IntProgress(value=0, description='Epoch 8', max=1000), HTML(value='')))"
      ]
     },
     "metadata": {},
     "output_type": "display_data"
    },
    {
     "name": "stdout",
     "output_type": "stream",
     "text": [
      "\n",
      "Elapsed:  72.48582220077515\n"
     ]
    }
   ],
   "source": [
    "start = time.time()\n",
    "\n",
    "\n",
    "early_stopping = keras.callbacks.EarlyStopping('loss', min_delta=1.0, patience=5)\n",
    "reduce_lr = keras.callbacks.ReduceLROnPlateau(monitor='loss', factor=0.5, patience=3, min_lr=0.0001)\n",
    "tensorboard = keras.callbacks.TensorBoard(log_dir='./logs_test_loss_mixture/base', histogram_freq=1, batch_size=1, write_graph=True, \n",
    "                                          write_grads=True, write_images=True, update_freq='batch')\n",
    "\n",
    "history = model.fit(\n",
    "    X_train, X_train,\n",
    "    batch_size=batch_size,\n",
    "    #epochs=epochs,\n",
    "    epochs=40,\n",
    "    #callbacks=[TQDMNotebookCallback(), tensorboard, early_stopping, reduce_lr],\n",
    "    callbacks=[TQDMNotebookCallback(), early_stopping, reduce_lr],\n",
    "    #validation_data=(X_train, X_train),\n",
    "    verbose=0\n",
    ")\n",
    "\n",
    "done = time.time()\n",
    "elapsed = done - start\n",
    "print(\"Elapsed: \", elapsed)"
   ]
  },
  {
   "cell_type": "code",
   "execution_count": 10,
   "metadata": {
    "ExecuteTime": {
     "end_time": "2019-04-29T12:09:31.981283Z",
     "start_time": "2019-04-29T12:09:31.824865Z"
    },
    "scrolled": false,
    "slideshow": {
     "slide_type": "-"
    }
   },
   "outputs": [
    {
     "data": {
      "text/html": [
       "<div>\n",
       "<style scoped>\n",
       "    .dataframe tbody tr th:only-of-type {\n",
       "        vertical-align: middle;\n",
       "    }\n",
       "\n",
       "    .dataframe tbody tr th {\n",
       "        vertical-align: top;\n",
       "    }\n",
       "\n",
       "    .dataframe thead th {\n",
       "        text-align: right;\n",
       "    }\n",
       "</style>\n",
       "<table border=\"1\" class=\"dataframe\">\n",
       "  <thead>\n",
       "    <tr style=\"text-align: right;\">\n",
       "      <th></th>\n",
       "      <th>loss</th>\n",
       "      <th>lr</th>\n",
       "    </tr>\n",
       "  </thead>\n",
       "  <tbody>\n",
       "    <tr>\n",
       "      <th>count</th>\n",
       "      <td>9.000000</td>\n",
       "      <td>9.000</td>\n",
       "    </tr>\n",
       "    <tr>\n",
       "      <th>mean</th>\n",
       "      <td>58.696453</td>\n",
       "      <td>0.001</td>\n",
       "    </tr>\n",
       "    <tr>\n",
       "      <th>std</th>\n",
       "      <td>37.724710</td>\n",
       "      <td>0.000</td>\n",
       "    </tr>\n",
       "    <tr>\n",
       "      <th>min</th>\n",
       "      <td>42.998322</td>\n",
       "      <td>0.001</td>\n",
       "    </tr>\n",
       "    <tr>\n",
       "      <th>0%</th>\n",
       "      <td>42.998322</td>\n",
       "      <td>0.001</td>\n",
       "    </tr>\n",
       "    <tr>\n",
       "      <th>25%</th>\n",
       "      <td>43.037389</td>\n",
       "      <td>0.001</td>\n",
       "    </tr>\n",
       "    <tr>\n",
       "      <th>50%</th>\n",
       "      <td>43.228125</td>\n",
       "      <td>0.001</td>\n",
       "    </tr>\n",
       "    <tr>\n",
       "      <th>75%</th>\n",
       "      <td>46.395916</td>\n",
       "      <td>0.001</td>\n",
       "    </tr>\n",
       "    <tr>\n",
       "      <th>95%</th>\n",
       "      <td>120.614164</td>\n",
       "      <td>0.001</td>\n",
       "    </tr>\n",
       "    <tr>\n",
       "      <th>99%</th>\n",
       "      <td>150.042349</td>\n",
       "      <td>0.001</td>\n",
       "    </tr>\n",
       "    <tr>\n",
       "      <th>max</th>\n",
       "      <td>157.399395</td>\n",
       "      <td>0.001</td>\n",
       "    </tr>\n",
       "  </tbody>\n",
       "</table>\n",
       "</div>"
      ],
      "text/plain": [
       "             loss     lr\n",
       "count    9.000000  9.000\n",
       "mean    58.696453  0.001\n",
       "std     37.724710  0.000\n",
       "min     42.998322  0.001\n",
       "0%      42.998322  0.001\n",
       "25%     43.037389  0.001\n",
       "50%     43.228125  0.001\n",
       "75%     46.395916  0.001\n",
       "95%    120.614164  0.001\n",
       "99%    150.042349  0.001\n",
       "max    157.399395  0.001"
      ]
     },
     "metadata": {},
     "output_type": "display_data"
    },
    {
     "data": {
      "text/plain": [
       "<matplotlib.axes._subplots.AxesSubplot at 0x7f0ab044e2b0>"
      ]
     },
     "execution_count": 10,
     "metadata": {},
     "output_type": "execute_result"
    },
    {
     "data": {
      "image/png": "[encoded data removed]",
      "text/plain": [
       "<Figure size 576x432 with 1 Axes>"
      ]
     },
     "metadata": {},
     "output_type": "display_data"
    }
   ],
   "source": [
    "df = pd.DataFrame(history.history)\n",
    "display(df.describe(percentiles=[0.25 * i for i in range(4)] + [0.95, 0.99]))\n",
    "df['loss'].plot(figsize=(8, 6))"
   ]
  },
  {
   "cell_type": "code",
   "execution_count": 11,
   "metadata": {
    "ExecuteTime": {
     "end_time": "2019-04-29T12:09:32.230286Z",
     "start_time": "2019-04-29T12:09:31.983888Z"
    },
    "scrolled": true,
    "slideshow": {
     "slide_type": "-"
    }
   },
   "outputs": [
    {
     "name": "stdout",
     "output_type": "stream",
     "text": [
      "1000/1000 [==============================] - 0s 242us/step\n",
      "42.96854833984375\n"
     ]
    }
   ],
   "source": [
    "lossvals = model.evaluate(X_train, X_train)\n",
    "print(lossvals)"
   ]
  },
  {
   "cell_type": "markdown",
   "metadata": {},
   "source": [
    "# Generate Some Images"
   ]
  },
  {
   "cell_type": "code",
   "execution_count": 13,
   "metadata": {
    "ExecuteTime": {
     "end_time": "2019-04-29T12:09:39.000844Z",
     "start_time": "2019-04-29T12:09:32.236676Z"
    },
    "scrolled": true
   },
   "outputs": [
    {
     "name": "stdout",
     "output_type": "stream",
     "text": [
      "(2, 2, 3)\n",
      "==== 0 0 0\n",
      " m:  [-0.02698147  0.00829346 -0.92633545 -0.9248296   0.95861125  0.9588021\n",
      " -0.9272075  -0.2759846  -0.29383242 -0.8922991 ]\n",
      " param_m:  [-0.92156863  0.96078431]\n",
      " E[m]:  0.07319602\n",
      " invs:  [4.6700015 3.9765925 3.264802  3.8280325 3.2482328 3.2615407 3.2072778\n",
      " 4.2045827 4.9353404 4.4336567]\n",
      " param_invs:  [3.14095501 3.14095501]\n",
      " weights:  [2.8357925e-05 2.8357925e-05 4.3935907e-01 1.9113136e-03 4.3706071e-01\n",
      " 9.3142845e-02 2.7215200e-02 2.8357925e-05 2.8357925e-05 1.1974528e-03]\n",
      " param_weight:  [0.5 0.5]\n",
      " pvals:  0      0.065237\n",
      "1      0.012363\n",
      "2      0.014177\n",
      "3      0.016057\n",
      "4      0.017936\n",
      "5      0.019725\n",
      "6      0.021325\n",
      "7      0.022631\n",
      "8      0.023550\n",
      "9      0.024012\n",
      "10     0.023982\n",
      "11     0.023468\n",
      "12     0.022511\n",
      "13     0.021175\n",
      "14     0.019533\n",
      "15     0.017686\n",
      "16     0.015751\n",
      "17     0.013835\n",
      "18     0.012012\n",
      "19     0.010326\n",
      "240    0.011544\n",
      "241    0.013385\n",
      "242    0.015362\n",
      "243    0.017425\n",
      "244    0.019504\n",
      "245    0.021508\n",
      "246    0.023333\n",
      "247    0.024867\n",
      "248    0.026004\n",
      "249    0.026660\n",
      "250    0.026784\n",
      "251    0.026366\n",
      "252    0.025438\n",
      "253    0.024073\n",
      "254    0.022367\n",
      "255    0.146167\n",
      "dtype: float64\n",
      " pixel_val:  238\n",
      "==== 0 0 1\n",
      " m:  [-0.90345585 -0.00115805 -0.09889376 -0.04124939  0.05244303 -0.02865618\n",
      " -0.2821452  -0.9303023   0.43765628  0.96537507]\n",
      " param_m:  [-0.92156863  0.96078431]\n",
      " E[m]:  0.025191605\n",
      " invs:  [3.000958  3.7630076 4.8577785 4.7931647 4.604888  4.3268704 4.3252177\n",
      " 3.2656996 4.792371  3.234819 ]\n",
      " param_invs:  [3.14095501 3.14095501]\n",
      " weights:  [7.0078982e-05 2.5514257e-05 2.5514257e-05 2.5514257e-05 2.5514257e-05\n",
      " 2.5514257e-05 2.5514257e-05 4.9580222e-01 2.5514257e-05 5.0394911e-01]\n",
      " param_weight:  [0.5 0.5]\n",
      " pvals:  0      0.075101\n",
      "1      0.014051\n",
      "2      0.016023\n",
      "3      0.018030\n",
      "4      0.019988\n",
      "5      0.021795\n",
      "6      0.023341\n",
      "7      0.024519\n",
      "8      0.025240\n",
      "9      0.025446\n",
      "10     0.025120\n",
      "11     0.024289\n",
      "12     0.023019\n",
      "13     0.021404\n",
      "14     0.019554\n",
      "15     0.017576\n",
      "16     0.015570\n",
      "17     0.013616\n",
      "18     0.011774\n",
      "19     0.010082\n",
      "241    0.011288\n",
      "242    0.013023\n",
      "243    0.014871\n",
      "244    0.016781\n",
      "245    0.018688\n",
      "246    0.020506\n",
      "247    0.022140\n",
      "248    0.023491\n",
      "249    0.024466\n",
      "250    0.024995\n",
      "251    0.025037\n",
      "252    0.024589\n",
      "253    0.023686\n",
      "254    0.022394\n",
      "255    0.158408\n",
      "dtype: float64\n",
      " pixel_val:  238\n",
      "==== 0 0 2\n",
      " m:  [-0.4391349   0.2621639  -0.5113387   0.37238848  0.955695   -0.9314098\n",
      " -0.09401278  0.9571099  -0.08958471 -0.9313634 ]\n",
      " param_m:  [-0.92156863  0.96078431]\n",
      " E[m]:  -0.003943704\n",
      " invs:  [4.9978256 4.5810633 5.051609  4.9350786 3.1987236 3.219407  4.2750425\n",
      " 3.147009  5.224844  3.221358 ]\n",
      " param_invs:  [3.14095501 3.14095501]\n",
      " weights:  [4.0329851e-05 4.0329851e-05 4.0329851e-05 4.0329851e-05 4.6513638e-01\n",
      " 4.0618888e-01 4.0329851e-05 2.6208403e-02 4.0329851e-05 1.0222442e-01]\n",
      " param_weight:  [0.5 0.5]\n",
      " pvals:  0      0.084101\n",
      "1      0.014693\n",
      "2      0.016562\n",
      "3      0.018432\n",
      "4      0.020223\n",
      "5      0.021845\n",
      "6      0.023203\n",
      "7      0.024209\n",
      "8      0.024792\n",
      "9      0.024910\n",
      "10     0.024553\n",
      "11     0.023747\n",
      "12     0.022553\n",
      "13     0.021049\n",
      "14     0.019330\n",
      "15     0.017488\n",
      "16     0.015610\n",
      "17     0.013766\n",
      "18     0.012012\n",
      "19     0.010384\n",
      "239    0.010001\n",
      "240    0.011517\n",
      "241    0.013144\n",
      "242    0.014847\n",
      "243    0.016579\n",
      "244    0.018274\n",
      "245    0.019858\n",
      "246    0.021248\n",
      "247    0.022363\n",
      "248    0.023129\n",
      "249    0.023495\n",
      "250    0.023435\n",
      "251    0.022952\n",
      "252    0.022082\n",
      "253    0.020882\n",
      "254    0.019429\n",
      "255    0.133601\n",
      "dtype: float64\n",
      " pixel_val:  234\n",
      "==== 0 1 0\n",
      " m:  [ 0.29753786  0.9575917   0.4560473  -0.32642362 -0.9177668  -0.91685516\n",
      " -0.9166157   0.08592224 -0.30005413 -0.0450021 ]\n",
      " param_m:  [-0.92156863  0.96078431]\n",
      " E[m]:  0.042788822\n",
      " invs:  [4.4698114 3.1639621 4.857545  5.0548    3.080638  3.171422  3.1412115\n",
      " 5.296756  5.290128  4.3730907]\n",
      " param_invs:  [3.14095501 3.14095501]\n",
      " weights:  [3.4833654e-05 5.1184046e-01 3.4833654e-05 3.4833654e-05 1.2274766e-02\n",
      " 3.0937290e-01 1.6630277e-01 3.4833654e-05 3.4833654e-05 3.4833654e-05]\n",
      " param_weight:  [0.5 0.5]\n",
      " pvals:  0      0.065362\n",
      "1      0.011171\n",
      "2      0.012679\n",
      "3      0.014252\n",
      "4      0.015849\n",
      "5      0.017415\n",
      "6      0.018886\n",
      "7      0.020190\n",
      "8      0.021257\n",
      "9      0.022024\n",
      "10     0.022442\n",
      "11     0.022484\n",
      "12     0.022146\n",
      "13     0.021451\n",
      "14     0.020444\n",
      "15     0.019185\n",
      "16     0.017745\n",
      "17     0.016194\n",
      "18     0.014599\n",
      "19     0.013016\n",
      "20     0.011491\n",
      "21     0.010057\n",
      "239    0.010239\n",
      "240    0.011731\n",
      "241    0.013326\n",
      "242    0.014991\n",
      "243    0.016683\n",
      "244    0.018343\n",
      "245    0.019901\n",
      "246    0.021283\n",
      "247    0.022412\n",
      "248    0.023222\n",
      "249    0.023661\n",
      "250    0.023699\n",
      "251    0.023333\n",
      "252    0.022589\n",
      "253    0.021514\n",
      "254    0.020173\n",
      "255    0.146817\n",
      "dtype: float64\n",
      " pixel_val:  12\n",
      "==== 0 1 1\n",
      " m:  [ 0.62501216 -0.17858401 -0.52463704  0.44537807  0.42240572  0.29529792\n",
      "  0.5777601   0.6125189  -0.0027445  -0.9265976 ]\n",
      " param_m:  [-0.92156863 -0.92156863]\n",
      " E[m]:  -0.9265971\n",
      " invs:  [4.462838  3.9373286 4.750602  5.1843643 4.1335773 4.693748  4.391614\n",
      " 5.326177  4.335984  3.227016 ]\n",
      " param_invs:  [3.14095501 3.14095501]\n",
      " weights:  [4.7888449e-08 4.7888449e-08 4.7888541e-08 4.7888449e-08 4.7888449e-08\n",
      " 4.7888449e-08 4.7888449e-08 4.7888449e-08 4.7888449e-08 9.9999964e-01]\n",
      " param_weight:  [0.5 0.5]\n",
      " pvals:  0     0.147892\n",
      "1     0.026682\n",
      "2     0.030338\n",
      "3     0.034084\n",
      "4     0.037780\n",
      "5     0.041256\n",
      "6     0.044325\n",
      "7     0.046796\n",
      "8     0.048502\n",
      "9     0.049318\n",
      "10    0.049182\n",
      "11    0.048106\n",
      "12    0.046169\n",
      "13    0.043511\n",
      "14    0.040307\n",
      "15    0.036751\n",
      "16    0.033025\n",
      "17    0.029292\n",
      "18    0.025681\n",
      "19    0.022288\n",
      "20    0.019173\n",
      "21    0.016368\n",
      "22    0.013884\n",
      "23    0.011712\n",
      "dtype: float64\n",
      " pixel_val:  10\n",
      "==== 0 1 2\n",
      " m:  [ 0.5366026   0.4060887  -0.9246299  -0.9202065  -0.44233558 -0.06785268\n",
      " -0.070732    0.6031426  -0.91505885  0.07640231]\n",
      " param_m:  [-0.92156863 -0.92156863]\n",
      " E[m]:  -0.92462546\n",
      " invs:  [5.2505927 4.4814215 3.19581   3.3651915 4.8169365 4.4981766 4.406864\n",
      " 4.286633  3.6161356 4.99849  ]\n",
      " param_invs:  [3.14095501 3.14095501]\n",
      " weights:  [5.0865185e-07 5.0865185e-07 9.9989200e-01 6.8595917e-05 5.0865185e-07\n",
      " 5.0865185e-07 5.0865185e-07 5.0865185e-07 3.5851910e-05 5.0865185e-07]\n",
      " param_weight:  [0.5 0.5]\n",
      " pvals:  0     0.148609\n",
      "1     0.025908\n",
      "2     0.029344\n",
      "3     0.032863\n",
      "4     0.036343\n",
      "5     0.039637\n",
      "6     0.042579\n",
      "7     0.045000\n",
      "8     0.046748\n",
      "9     0.047703\n",
      "10    0.047799\n",
      "11    0.047029\n",
      "12    0.045447\n",
      "13    0.043161\n",
      "14    0.040320\n",
      "15    0.037089\n",
      "16    0.033635\n",
      "17    0.030113\n",
      "18    0.026650\n",
      "19    0.023346\n",
      "20    0.020269\n",
      "21    0.017461\n",
      "22    0.014941\n",
      "23    0.012712\n",
      "24    0.010763\n",
      "dtype: float64\n",
      " pixel_val:  5\n",
      "row 0\n",
      "==== 1 0 0\n",
      " m:  [ 0.572942   -0.22556993 -0.24075118 -0.16580954 -0.18775009 -0.92393154\n",
      " -0.92119443  0.22241712  0.6564379   0.29374158]\n",
      " param_m:  [-0.92156863 -0.21568627]\n",
      " E[m]:  -0.56462556\n",
      " invs:  [5.09713   3.2174644 3.8664942 4.3606296 3.637207  3.7761953 3.266832\n",
      " 4.9405446 4.6442823 5.03559  ]\n",
      " param_invs:  [3.14095501 3.14095501]\n",
      " weights:  [2.7169643e-05 4.2869130e-01 1.5526038e-02 5.6146523e-03 5.9275016e-02\n",
      " 2.4667380e-02 4.6611696e-01 2.7169643e-05 2.7169643e-05 2.7169643e-05]\n",
      " param_weight:  [0.5 0.5]\n",
      " pvals:  0      0.058359\n",
      "1      0.011563\n",
      "2      0.013444\n",
      "3      0.015466\n",
      "4      0.017573\n",
      "5      0.019685\n",
      "6      0.021692\n",
      "7      0.023464\n",
      "8      0.024859\n",
      "9      0.025751\n",
      "10     0.026050\n",
      "11     0.025728\n",
      "12     0.024824\n",
      "13     0.023433\n",
      "14     0.021681\n",
      "15     0.019701\n",
      "16     0.017618\n",
      "17     0.015534\n",
      "18     0.013529\n",
      "19     0.011657\n",
      "90     0.011575\n",
      "91     0.013334\n",
      "92     0.015208\n",
      "93     0.017146\n",
      "94     0.019071\n",
      "95     0.020885\n",
      "96     0.022478\n",
      "97     0.023753\n",
      "98     0.024636\n",
      "99     0.025095\n",
      "100    0.025127\n",
      "101    0.024751\n",
      "102    0.023998\n",
      "103    0.022910\n",
      "104    0.021535\n",
      "105    0.019908\n",
      "106    0.018043\n",
      "107    0.015977\n",
      "108    0.013820\n",
      "109    0.011730\n",
      "dtype: float64\n",
      " pixel_val:  20\n",
      "==== 1 0 1\n",
      " m:  [-0.1511789   0.00524569  0.9576189   0.95909476  0.48167688 -0.07450169\n",
      " -0.9173287  -0.17578626  0.12905473 -0.25121793]\n",
      " param_m:  [-0.92156863  0.96078431]\n",
      " E[m]:  0.06782881\n",
      " invs:  [4.967372  4.902478  3.258842  3.1777816 4.9642706 5.2871294 3.2320237\n",
      " 4.903962  4.560355  4.3392453]\n",
      " param_invs:  [3.14095501 3.14095501]\n",
      " weights:  [3.6056717e-05 3.6056717e-05 5.0845839e-02 4.7406307e-01 7.2429008e-05\n",
      " 3.6056717e-05 4.7480226e-01 3.6056717e-05 3.6056717e-05 3.6056685e-05]\n",
      " param_weight:  [0.5 0.5]\n",
      " pvals:  0      0.056857\n",
      "1      0.010718\n",
      "2      0.012352\n",
      "3      0.014088\n",
      "4      0.015880\n",
      "5      0.017664\n",
      "6      0.019360\n",
      "7      0.020879\n",
      "8      0.022127\n",
      "9      0.023021\n",
      "10     0.023495\n",
      "11     0.023514\n",
      "12     0.023076\n",
      "13     0.022214\n",
      "14     0.020991\n",
      "15     0.019491\n",
      "16     0.017806\n",
      "17     0.016026\n",
      "18     0.014232\n",
      "19     0.012489\n",
      "20     0.010846\n",
      "239    0.010124\n",
      "240    0.011670\n",
      "241    0.013340\n",
      "242    0.015103\n",
      "243    0.016913\n",
      "244    0.018710\n",
      "245    0.020420\n",
      "246    0.021961\n",
      "247    0.023245\n",
      "248    0.024195\n",
      "249    0.024748\n",
      "250    0.024864\n",
      "251    0.024537\n",
      "252    0.023789\n",
      "253    0.022672\n",
      "254    0.021256\n",
      "255    0.151928\n",
      "dtype: float64\n",
      " pixel_val:  254\n"
     ]
    },
    {
     "name": "stdout",
     "output_type": "stream",
     "text": [
      "==== 1 0 2\n",
      " m:  [ 0.268583    0.428555    0.03064537  0.2275523  -0.2516753  -0.93284285\n",
      " -0.22948551  0.25807273  0.28130144  0.5757891 ]\n",
      " param_m:  [-0.92156863 -0.92156863]\n",
      " E[m]:  -0.9328424\n",
      " invs:  [4.917855  3.9352956 4.6672616 4.651613  5.0634604 3.2011693 5.197523\n",
      " 4.3363533 4.9981375 4.775869 ]\n",
      " param_invs:  [3.14095501 3.14095501]\n",
      " weights:  [4.810936e-08 4.810936e-08 4.810936e-08 4.810936e-08 4.810936e-08\n",
      " 9.999995e-01 4.810936e-08 4.810936e-08 4.810936e-08 4.810936e-08]\n",
      " param_weight:  [0.5 0.5]\n",
      " pvals:  0     0.174631\n",
      "1     0.029525\n",
      "2     0.033082\n",
      "3     0.036598\n",
      "4     0.039922\n",
      "5     0.042883\n",
      "6     0.045311\n",
      "7     0.047050\n",
      "8     0.047981\n",
      "9     0.048036\n",
      "10    0.047213\n",
      "11    0.045569\n",
      "12    0.043219\n",
      "13    0.040315\n",
      "14    0.037028\n",
      "15    0.033527\n",
      "16    0.029968\n",
      "17    0.026478\n",
      "18    0.023158\n",
      "19    0.020074\n",
      "20    0.017266\n",
      "21    0.014752\n",
      "22    0.012532\n",
      "23    0.010595\n",
      "dtype: float64\n",
      " pixel_val:  7\n",
      "==== 1 1 0\n",
      " m:  [-0.46969634  0.09500539  0.63069487 -0.52007383 -0.03636068 -0.92269814\n",
      "  0.44959128  0.09279227 -0.18718505  0.26468986]\n",
      " param_m:  [-0.92156863 -0.92156863]\n",
      " E[m]:  -0.9226977\n",
      " invs:  [5.236513  5.0480967 4.9152775 4.5163927 4.200757  3.2009993 4.4465723\n",
      " 4.0238338 4.91111   5.1093144]\n",
      " param_invs:  [3.14095501 3.14095501]\n",
      " weights:  [4.7899682e-08 4.7899682e-08 4.7899682e-08 4.8379988e-08 4.7899682e-08\n",
      " 9.9999952e-01 4.7899682e-08 4.7899682e-08 4.7899682e-08 4.7899682e-08]\n",
      " param_weight:  [0.5 0.5]\n",
      " pvals:  0     0.141606\n",
      "1     0.025064\n",
      "2     0.028492\n",
      "3     0.032035\n",
      "4     0.035576\n",
      "5     0.038972\n",
      "6     0.042057\n",
      "7     0.044657\n",
      "8     0.046612\n",
      "9     0.047789\n",
      "10    0.048104\n",
      "11    0.047535\n",
      "12    0.046124\n",
      "13    0.043968\n",
      "14    0.041210\n",
      "15    0.038018\n",
      "16    0.034565\n",
      "17    0.031009\n",
      "18    0.027489\n",
      "19    0.024111\n",
      "20    0.020953\n",
      "21    0.018062\n",
      "22    0.015461\n",
      "23    0.013156\n",
      "24    0.011138\n",
      "dtype: float64\n",
      " pixel_val:  3\n",
      "==== 1 1 1\n",
      " m:  [ 0.09270215 -0.9407725  -0.01997566  0.5885093   0.5527158  -0.9272617\n",
      " -0.10565001  0.4993508   0.3568629   0.30938274]\n",
      " param_m:  [-0.92156863 -0.92156863]\n",
      " E[m]:  -0.92724925\n",
      " invs:  [3.9302807 3.8795586 4.8217216 4.4453278 4.115145  3.1917949 4.0415626\n",
      " 4.8725543 4.4663715 4.7338142]\n",
      " param_invs:  [3.14095501 3.14095501]\n",
      " weights:  [2.6920543e-06 1.0081321e-03 2.6921643e-06 2.6921643e-06 2.6921643e-06\n",
      " 9.9897039e-01 2.6818784e-06 2.6921643e-06 2.6921643e-06 2.6921643e-06]\n",
      " param_weight:  [0.5 0.5]\n",
      " pvals:  0     0.157732\n",
      "1     0.027050\n",
      "2     0.030507\n",
      "3     0.034008\n",
      "4     0.037422\n",
      "5     0.040595\n",
      "6     0.043359\n",
      "7     0.045549\n",
      "8     0.047023\n",
      "9     0.047680\n",
      "10    0.047475\n",
      "11    0.046422\n",
      "12    0.044599\n",
      "13    0.042127\n",
      "14    0.039160\n",
      "15    0.035864\n",
      "16    0.032399\n",
      "17    0.028911\n",
      "18    0.025515\n",
      "19    0.022299\n",
      "20    0.019324\n",
      "21    0.016622\n",
      "22    0.014207\n",
      "23    0.012078\n",
      "24    0.010220\n",
      "dtype: float64\n",
      " pixel_val:  23\n",
      "==== 1 1 2\n",
      " m:  [ 0.19747478 -0.9275406   0.09690398  0.9416009  -0.9268676   0.9457572\n",
      "  0.9858518  -0.5793614   0.3454091   0.39408824]\n",
      " param_m:  [-0.92156863  0.96078431]\n",
      " E[m]:  0.02205391\n",
      " invs:  [5.138647  3.2230117 5.247687  4.1205945 3.191639  3.8833494 3.1857305\n",
      " 3.0154867 4.494789  4.6665077]\n",
      " param_invs:  [3.14095501 3.14095501]\n",
      " weights:  [6.0629154e-05 3.9971307e-02 6.0629154e-05 9.2536192e-03 4.6265164e-01\n",
      " 4.0365431e-02 4.4739410e-01 1.2145534e-04 6.0629154e-05 6.0629154e-05]\n",
      " param_weight:  [0.5 0.5]\n",
      " pvals:  0      0.078516\n",
      "1      0.013520\n",
      "2      0.015260\n",
      "3      0.017024\n",
      "4      0.018748\n",
      "5      0.020354\n",
      "6      0.021759\n",
      "7      0.022879\n",
      "8      0.023642\n",
      "9      0.023996\n",
      "10     0.023916\n",
      "11     0.023408\n",
      "12     0.022507\n",
      "13     0.021273\n",
      "14     0.019785\n",
      "15     0.018127\n",
      "16     0.016380\n",
      "17     0.014618\n",
      "18     0.012901\n",
      "19     0.011275\n",
      "243    0.011469\n",
      "244    0.013543\n",
      "245    0.015774\n",
      "246    0.018015\n",
      "247    0.020064\n",
      "248    0.021723\n",
      "249    0.022882\n",
      "250    0.023541\n",
      "251    0.023771\n",
      "252    0.023657\n",
      "253    0.023253\n",
      "254    0.022587\n",
      "255    0.199705\n",
      "dtype: float64\n",
      " pixel_val:  248\n",
      "row 1\n",
      "Generated:  72.48582220077515\n"
     ]
    },
    {
     "data": {
      "image/png": "[encoded data removed]",
      "text/plain": [
       "<Figure size 360x360 with 1 Axes>"
      ]
     },
     "metadata": {},
     "output_type": "display_data"
    },
    {
     "name": "stdout",
     "output_type": "stream",
     "text": [
      "Orig: \n"
     ]
    },
    {
     "data": {
      "image/png": "[encoded data removed]",
      "text/plain": [
       "<Figure size 216x216 with 1 Axes>"
      ]
     },
     "metadata": {},
     "output_type": "display_data"
    },
    {
     "name": "stdout",
     "output_type": "stream",
     "text": [
      "Elapsed:  6.5589659214019775\n"
     ]
    }
   ],
   "source": [
    "debug = True\n",
    "\n",
    "def gen_image(model, num_samples=batch_size):\n",
    "    x_sample = np.zeros((num_samples, img_rows, img_cols, img_chns))\n",
    "    \n",
    "    # Iteratively generate each conditional pixel P(x_i | x_{1,..,i-1})\n",
    "    for i in range(img_rows):\n",
    "        for j in range(img_cols):\n",
    "            for k in range(img_chns):\n",
    "                x_out = model.predict(x_sample, num_samples)\n",
    "                for n in range(num_samples):\n",
    "                    offset = k * n_components\n",
    "                    x_ms = x_out[n, i, j, offset:offset + n_components]\n",
    "                    offset = n_components * img_chns + k * n_components\n",
    "                    x_invs = x_out[n, i, j, offset:offset + n_components]\n",
    "                    offset = 2 * n_components * img_chns + k * n_components\n",
    "                    weights = x_out[n, i, j, offset:offset + n_components]\n",
    "                    pvals = compute_mixture(x_ms, x_invs, weights, n_components)\n",
    "                    pvals /= (np.sum(pvals) + 1e-5)\n",
    "                    pixel_val = np.argmax(np.random.multinomial(1, pvals))\n",
    "                    x_sample[n, i, j, k] = pixel_val / 255.\n",
    "                    if 0 <= i <= 1 and 0 <= j <= 1 and debug:\n",
    "                        print(\"====\", i, j, k)\n",
    "                        print(\" m: \", x_ms)\n",
    "                        print(\" param_m: \", (params[0][i, j, k] - 127.5) / 127.5)\n",
    "                        print(\" E[m]: \", (x_ms * weights).sum())\n",
    "                        print(\" invs: \", x_invs)\n",
    "                        print(\" param_invs: \", np.log(127.5 / params[1][i, j, k]))\n",
    "                        print(\" weights: \", weights)\n",
    "                        print(\" param_weight: \", params[2][i, j, k])\n",
    "                        s = pd.Series(pvals)\n",
    "                        print(\" pvals: \", s[s>1e-2])\n",
    "                        print(\" pixel_val: \", pixel_val)\n",
    "                        #print(\" x_out[n, i, j, :]: \", x_out[n, i, j, :])\n",
    "                        #print(\" x_out: \", x_out)\n",
    "                        #print(\" sample_val: \", x_sample[n, i, j, k])\n",
    "                        #assert False\n",
    "        if debug:\n",
    "            print(\"row\", i)\n",
    "                \n",
    "    return x_sample\n",
    "\n",
    "\n",
    "start = time.time()\n",
    "\n",
    "n = 1 if debug else 10\n",
    "figure = np.zeros((img_rows * ((n - 1) // 10 + 1), img_cols * n, img_chns))\n",
    "print(figure.shape)\n",
    "for i in range(n):\n",
    "    samples = gen_image(model)\n",
    "    for j in range(batch_size):\n",
    "        img = samples[j] \n",
    "        d_x = ((i * batch_size + j) // 10) * img_rows\n",
    "        d_y = ((i * batch_size + j) % 10) * img_cols\n",
    "        figure[d_x:d_x + img_rows, d_y:d_y + img_cols, :] = img\n",
    "        \n",
    "print(\"Generated: \", elapsed)\n",
    "plt.figure(figsize=(5, 5))\n",
    "plt.imshow(figure)\n",
    "plt.show()\n",
    "\n",
    "print(\"Orig: \")\n",
    "plt.figure(figsize=(3, 3))\n",
    "plt.imshow(orig_img)\n",
    "plt.show()\n",
    "\n",
    "done = time.time()\n",
    "elapsed = done - start\n",
    "print(\"Elapsed: \", elapsed)"
   ]
  },
  {
   "cell_type": "markdown",
   "metadata": {},
   "source": [
    "# Validatation\n",
    "\n",
    "Check that we were able to approximately recover the original distributions"
   ]
  },
  {
   "cell_type": "code",
   "execution_count": 14,
   "metadata": {
    "ExecuteTime": {
     "end_time": "2019-04-29T12:09:54.078418Z",
     "start_time": "2019-04-29T12:09:39.002551Z"
    },
    "scrolled": false
   },
   "outputs": [
    {
     "name": "stdout",
     "output_type": "stream",
     "text": [
      "[-0.92156863  0.96078431] [3.14095501 3.14095501] [0.5 0.5]\n",
      "[-0.02698147  0.00829346 -0.92633545 -0.9248296   0.95861125  0.9588021\n",
      " -0.9272075  -0.2759846  -0.29383242 -0.8922991 ] [4.6700015 3.9765925 3.264802  3.8280325 3.2482328 3.2615407 3.2072778\n",
      " 4.2045827 4.9353404 4.4336567] [2.8357925e-05 2.8357925e-05 4.3935907e-01 1.9113136e-03 4.3706071e-01\n",
      " 9.3142845e-02 2.7215200e-02 2.8357925e-05 2.8357925e-05 1.1974528e-03]\n",
      "KL Divergence(orig, gen) for (0,0,0): 0.01\n",
      "[-0.92156863  0.96078431] [3.14095501 3.14095501] [0.5 0.5]\n",
      "[-0.90345585 -0.00115805 -0.09889376 -0.04124939  0.05244303 -0.02865618\n",
      " -0.2821452  -0.9303023   0.43765628  0.96537507] [3.000958  3.7630076 4.8577785 4.7931647 4.604888  4.3268704 4.3252177\n",
      " 3.2656996 4.792371  3.234819 ] [7.0078982e-05 2.5514257e-05 2.5514257e-05 2.5514257e-05 2.5514257e-05\n",
      " 2.5514257e-05 2.5514257e-05 4.9580222e-01 2.5514257e-05 5.0394911e-01]\n",
      "KL Divergence(orig, gen) for (0,0,1): 0.01\n",
      "[-0.92156863  0.96078431] [3.14095501 3.14095501] [0.5 0.5]\n",
      "[-0.4391349   0.2621639  -0.5113387   0.37238848  0.955695   -0.9314098\n",
      " -0.09401278  0.9571099  -0.08958471 -0.9313634 ] [4.9978256 4.5810633 5.051609  4.9350786 3.1987236 3.219407  4.2750425\n",
      " 3.147009  5.224844  3.221358 ] [4.0329851e-05 4.0329851e-05 4.0329851e-05 4.0329851e-05 4.6513638e-01\n",
      " 4.0618888e-01 4.0329851e-05 2.6208403e-02 4.0329851e-05 1.0222442e-01]\n",
      "KL Divergence(orig, gen) for (0,0,2): 0.01\n",
      "[-0.92156863  0.96078431] [3.14095501 3.14095501] [0.5 0.5]\n",
      "[ 0.29753786  0.9575917   0.4560473  -0.32642362 -0.9177668  -0.91685516\n",
      " -0.9166157   0.08592224 -0.30005413 -0.0450021 ] [4.4698114 3.1639621 4.857545  5.0548    3.080638  3.171422  3.1412115\n",
      " 5.296756  5.290128  4.3730907] [3.4833654e-05 5.1184046e-01 3.4833654e-05 3.4833654e-05 1.2274766e-02\n",
      " 3.0937290e-01 1.6630277e-01 3.4833654e-05 3.4833654e-05 3.4833654e-05]\n",
      "KL Divergence(orig, gen) for (0,1,0): 0.00\n",
      "[-0.92156863 -0.92156863] [3.14095501 3.14095501] [0.5 0.5]\n",
      "[ 0.62501216 -0.17858401 -0.52463704  0.44537807  0.42240572  0.29529792\n",
      "  0.5777601   0.6125189  -0.0027445  -0.9265976 ] [4.462838  3.9373286 4.750602  5.1843643 4.1335773 4.693748  4.391614\n",
      " 5.326177  4.335984  3.227016 ] [4.7888449e-08 4.7888449e-08 4.7888541e-08 4.7888449e-08 4.7888449e-08\n",
      " 4.7888449e-08 4.7888449e-08 4.7888449e-08 4.7888449e-08 9.9999964e-01]\n",
      "KL Divergence(orig, gen) for (0,1,1): 0.01\n",
      "[-0.92156863 -0.92156863] [3.14095501 3.14095501] [0.5 0.5]\n",
      "[ 0.5366026   0.4060887  -0.9246299  -0.9202065  -0.44233558 -0.06785268\n",
      " -0.070732    0.6031426  -0.91505885  0.07640231] [5.2505927 4.4814215 3.19581   3.3651915 4.8169365 4.4981766 4.406864\n",
      " 4.286633  3.6161356 4.99849  ] [5.0865185e-07 5.0865185e-07 9.9989200e-01 6.8595917e-05 5.0865185e-07\n",
      " 5.0865185e-07 5.0865185e-07 5.0865185e-07 3.5851910e-05 5.0865185e-07]\n",
      "KL Divergence(orig, gen) for (0,1,2): 0.00\n",
      "[-0.92156863 -0.21568627] [3.14095501 3.14095501] [0.5 0.5]\n",
      "[ 0.572942   -0.22556993 -0.24075118 -0.16580954 -0.18775009 -0.92393154\n",
      " -0.92119443  0.22241712  0.6564379   0.29374158] [5.09713   3.2174644 3.8664942 4.3606296 3.637207  3.7761953 3.266832\n",
      " 4.9405446 4.6442823 5.03559  ] [2.7169643e-05 4.2869130e-01 1.5526038e-02 5.6146523e-03 5.9275016e-02\n",
      " 2.4667380e-02 4.6611696e-01 2.7169643e-05 2.7169643e-05 2.7169643e-05]\n",
      "KL Divergence(orig, gen) for (1,0,0): 0.01\n",
      "[-0.92156863  0.96078431] [3.14095501 3.14095501] [0.5 0.5]\n",
      "[-0.1511789   0.00524569  0.9576189   0.95909476  0.48167688 -0.07450169\n",
      " -0.9173287  -0.17578626  0.12905473 -0.25121793] [4.967372  4.902478  3.258842  3.1777816 4.9642706 5.2871294 3.2320237\n",
      " 4.903962  4.560355  4.3392453] [3.6056717e-05 3.6056717e-05 5.0845839e-02 4.7406307e-01 7.2429008e-05\n",
      " 3.6056717e-05 4.7480226e-01 3.6056717e-05 3.6056717e-05 3.6056685e-05]\n",
      "KL Divergence(orig, gen) for (1,0,1): 0.01\n",
      "[-0.92156863 -0.92156863] [3.14095501 3.14095501] [0.5 0.5]\n",
      "[ 0.268583    0.428555    0.03064537  0.2275523  -0.2516753  -0.93284285\n",
      " -0.22948551  0.25807273  0.28130144  0.5757891 ] [4.917855  3.9352956 4.6672616 4.651613  5.0634604 3.2011693 5.197523\n",
      " 4.3363533 4.9981375 4.775869 ] [4.810936e-08 4.810936e-08 4.810936e-08 4.810936e-08 4.810936e-08\n",
      " 9.999995e-01 4.810936e-08 4.810936e-08 4.810936e-08 4.810936e-08]\n",
      "KL Divergence(orig, gen) for (1,0,2): 0.01\n",
      "[-0.92156863 -0.92156863] [3.14095501 3.14095501] [0.5 0.5]\n",
      "[-0.46969634  0.09500539  0.63069487 -0.52007383 -0.03636068 -0.92269814\n",
      "  0.44959128  0.09279227 -0.18718505  0.26468986] [5.236513  5.0480967 4.9152775 4.5163927 4.200757  3.2009993 4.4465723\n",
      " 4.0238338 4.91111   5.1093144] [4.7899682e-08 4.7899682e-08 4.7899682e-08 4.8379988e-08 4.7899682e-08\n",
      " 9.9999952e-01 4.7899682e-08 4.7899682e-08 4.7899682e-08 4.7899682e-08]\n",
      "KL Divergence(orig, gen) for (1,1,0): 0.00\n",
      "[-0.92156863 -0.92156863] [3.14095501 3.14095501] [0.5 0.5]\n",
      "[ 0.09270215 -0.9407725  -0.01997566  0.5885093   0.5527158  -0.9272617\n",
      " -0.10565001  0.4993508   0.3568629   0.30938274] [3.9302807 3.8795586 4.8217216 4.4453278 4.115145  3.1917949 4.0415626\n",
      " 4.8725543 4.4663715 4.7338142] [2.6920543e-06 1.0081321e-03 2.6921643e-06 2.6921643e-06 2.6921643e-06\n",
      " 9.9897039e-01 2.6818784e-06 2.6921643e-06 2.6921643e-06 2.6921643e-06]\n",
      "KL Divergence(orig, gen) for (1,1,1): 0.00\n",
      "[-0.92156863  0.96078431] [3.14095501 3.14095501] [0.5 0.5]\n",
      "[ 0.19747478 -0.9275406   0.09690398  0.9416009  -0.9268676   0.9457572\n",
      "  0.9858518  -0.5793614   0.3454091   0.39408824] [5.138647  3.2230117 5.247687  4.1205945 3.191639  3.8833494 3.1857305\n",
      " 3.0154867 4.494789  4.6665077] [6.0629154e-05 3.9971307e-02 6.0629154e-05 9.2536192e-03 4.6265164e-01\n",
      " 4.0365431e-02 4.4739410e-01 1.2145534e-04 6.0629154e-05 6.0629154e-05]\n",
      "KL Divergence(orig, gen) for (1,1,2): 0.03\n"
     ]
    },
    {
     "data": {
      "image/png": "[encoded data removed]",
      "text/plain": [
       "<Figure size 720x576 with 3 Axes>"
      ]
     },
     "metadata": {},
     "output_type": "display_data"
    },
    {
     "data": {
      "image/png": "[encoded data removed]",
      "text/plain": [
       "<Figure size 720x576 with 3 Axes>"
      ]
     },
     "metadata": {},
     "output_type": "display_data"
    },
    {
     "data": {
      "image/png": "[encoded data removed]",
      "text/plain": [
       "<Figure size 720x576 with 3 Axes>"
      ]
     },
     "metadata": {},
     "output_type": "display_data"
    },
    {
     "data": {
      "image/png": "[encoded data removed]",
      "text/plain": [
       "<Figure size 720x576 with 3 Axes>"
      ]
     },
     "metadata": {},
     "output_type": "display_data"
    }
   ],
   "source": [
    "N = 1000\n",
    "\n",
    "# Generated params \n",
    "x_sample = np.zeros((num_samples, img_rows, img_cols, img_chns))\n",
    "x_out = model.predict(x_sample, num_samples)\n",
    "\n",
    "for i in range(img_cols):\n",
    "    for j in range(img_rows):\n",
    "        fig = plt.figure(figsize=(10,8), )\n",
    "        fig.suptitle(\"pixel (%d, %d)\" % (i, j), fontsize=16)\n",
    "        for k in range(img_chns):\n",
    "            ax = plt.subplot(img_chns, 1, k + 1)\n",
    "            \n",
    "            # Orig params\n",
    "            ms = (params[0][i, j, k, :] - 127.5)  / 127.5\n",
    "            invss = np.log(127.5 / params[1][i, j, k, :])\n",
    "            weights = params[2][i, j, k, :]\n",
    "            \n",
    "            pvals_orig = compute_mixture(ms, invss, weights, n_comps=2)\n",
    "            print(ms, invss, weights)\n",
    "            pvals_orig /= pvals_orig.sum()\n",
    "            samples = pd.Series(np.random.choice(len(pvals_orig), N, p=pvals_orig))\n",
    "            samples.hist(bins=128, ax=ax, alpha=0.5, label='orig')\n",
    "            \n",
    "            # Generated params\n",
    "            offset = k * n_components\n",
    "            ms = x_out[n, i, j, offset:offset + n_components]\n",
    "            offset = n_components * img_chns + k * n_components\n",
    "            invss = x_out[n, i, j, offset:offset + n_components]\n",
    "            offset = 2 * n_components * img_chns + k * n_components\n",
    "            weights = x_out[n, i, j, offset:offset + n_components]\n",
    "            \n",
    "            pvals_gen = compute_mixture(ms, invss, weights, n_components)\n",
    "            print(ms, invss, weights)\n",
    "            pvals_gen /= pvals_gen.sum()\n",
    "            samples = pd.Series(np.random.choice(len(pvals_gen), N, p=pvals_gen))\n",
    "            samples.hist(bins=128, ax=ax, alpha=0.5, label='generated')\n",
    "            \n",
    "            ax.legend()\n",
    "            print('KL Divergence(orig, gen) for (%d,%d,%d): %.2f' % (i, j, k, scipy.stats.entropy(pvals_orig, pvals_gen)))"
   ]
  },
  {
   "cell_type": "code",
   "execution_count": null,
   "metadata": {},
   "outputs": [],
   "source": []
  },
  {
   "cell_type": "code",
   "execution_count": null,
   "metadata": {},
   "outputs": [],
   "source": []
  },
  {
   "cell_type": "code",
   "execution_count": null,
   "metadata": {},
   "outputs": [],
   "source": []
  },
  {
   "cell_type": "markdown",
   "metadata": {
    "slideshow": {
     "slide_type": "slide"
    }
   },
   "source": [
    "# Notes\n",
    "\n"
   ]
  },
  {
   "cell_type": "markdown",
   "metadata": {},
   "source": [
    "### 2019-03-03\n",
    "\n",
    "Issues:\n",
    "    \n",
    "* Wrong order of RGB slices when repeating image\n",
    "* Used old 255. value vs. 127.5\n",
    "* Added non-zero init to param values\n",
    "    \n",
    "Next TODO:\n",
    "\n",
    "* Plot histograms of 0 to 255 pixel values, somehow see that the mass is the same?\n",
    "* Maybe KL divergence?"
   ]
  },
  {
   "cell_type": "markdown",
   "metadata": {},
   "source": [
    "### 2019-03-07\n",
    "\n",
    " * It looks like my generated distributions are spreading too much mass over the range, which might be because I'm allowing the \"invs\" param to be small (< 1), which will naturally spread it very wide.  The model probably gets confused in these situations and finds a local minima that spreads it wide instead of using the power of the mixtures.  Maybe try to constrain it a bit more?\n",
    " \n",
    "<img src=\"images/2019-03-07-spread.png\">\n",
    "\n",
    " * Tried to make \"invs\" to be in range (2, 7), but it looks like it made the spreading worse.  It looks like these bimodal distributions aren't using the weights properly.  Maybe I need to debug my loss function?  The mixture maybe aren't being taken into account properly?\n"
   ]
  },
  {
   "cell_type": "markdown",
   "metadata": {},
   "source": [
    "### 2019-03-25\n",
    "\n",
    "Issues:\n",
    "\n",
    "* Made minimum invss = 2.0 (by using `+2` in Lambda) so that we don't get distributions that are too diffuse\n",
    "* Made weights initialized all at (1's) to get a more even spread\n",
    "\n",
    "\n",
    "Comments:\n",
    "\n",
    "<img src=\"images/2019-03-25-spread.png\">\n",
    "\n",
    "* I have a feeling that we can't recover the weights easily sometimes because the initalized weights (glorat_uniform) converges to a weird local minumum.  Makes sense b/c mixutre models in general won't converge to a global minimum through gradient descent.\n",
    "    * Take a look at diagram: For the \"G\", \"B\" pixels, one of the mixtures looks pretty close, while the other isn't too bad (the \"m\" is too far to the left, so all the mass gets to the \"0\" pixel).  \n",
    "    * However, for the \"R\" histogram, it converged to some bad local minima. You can see the mass is spread out so far.  The weight distribution is (0.95, 0.05) and the m is around (0.41,0.47) (in the middle).  This probably means that we found a local minima but it doesn't at all match the true distribution.\n",
    "* Interesting, loss goes down to (27-ish) but KL diverge is relatively big for the distributions.  Makes sense since I'm not optimizing for KL divergence (in real life I have no idea what the distributions are.\n",
    "\n",
    "Next TODO:\n",
    "\n",
    "* Assuming that I can't converge to a global minimum (b/c of SGD doesn't allow it), maybe what I need is to have *over-capacity* (i.e. more mixture components) so I can find a good local minima that better approximates what I want."
   ]
  },
  {
   "cell_type": "markdown",
   "metadata": {},
   "source": [
    "# 2019-04-28\n",
    "\n",
    "Finally found some time to work on it...\n",
    "\n",
    "* Found a bug!  In the loss function, I was still using protection limits of [0.001, 0.999] but I rescaled things so it really should have been [-0.999, 0.999]\n",
    "* I played around with different number of mixture components (while the source dataset still has 2 components) and I was right!  With only 2 components it's hard to model 2 components, but at 4/5, it gets pretty close (5 components):\n",
    "\n",
    "<img src=\"images/2019-04-28-spread1.png\">\n",
    "\n",
    "However, the one pixel that has values that are closer together doesn't quite match:\n",
    "\n",
    "\n",
    "<img src=\"images/2019-04-28-spread2.png\">\n",
    "\n",
    "Increasing the components to 10 seems to solve it:\n",
    "\n",
    "<img src=\"images/2019-04-28-spread3-10comps.png\">"
   ]
  },
  {
   "cell_type": "code",
   "execution_count": null,
   "metadata": {},
   "outputs": [],
   "source": []
  }
 ],
 "metadata": {
  "celltoolbar": "Slideshow",
  "kernelspec": {
   "display_name": "Python 3",
   "language": "python",
   "name": "python3"
  },
  "language_info": {
   "codemirror_mode": {
    "name": "ipython",
    "version": 3
   },
   "file_extension": ".py",
   "mimetype": "text/x-python",
   "name": "python",
   "nbconvert_exporter": "python",
   "pygments_lexer": "ipython3",
   "version": "3.6.5"
  },
  "widgets": {
   "state": {
    "042d9353a5294a1cae93f8eb9e9a3c84": {
     "views": [
      {
       "cell_index": 12
      }
     ]
    },
    "05e25527c52843438585a66b7e9f443c": {
     "views": [
      {
       "cell_index": 12
      }
     ]
    },
    "06fdc638a3dc45a0a1e82f2b3c90c18d": {
     "views": [
      {
       "cell_index": 12
      }
     ]
    },
    "07f49ab2133c40a4a245e0a348843084": {
     "views": [
      {
       "cell_index": 12
      }
     ]
    },
    "12369f27c46c46f58c925a3d9749e65d": {
     "views": [
      {
       "cell_index": 12
      }
     ]
    },
    "16bcb109a6814007801cf814c76aa6d3": {
     "views": [
      {
       "cell_index": 12
      }
     ]
    },
    "1930a5477ce44850aaa99c20f3f7e542": {
     "views": [
      {
       "cell_index": 12
      }
     ]
    },
    "194b186d11d94c28afd8a01d9fd8ae1e": {
     "views": [
      {
       "cell_index": 12
      }
     ]
    },
    "1ccc61b6a278489eacb5735a740e79bf": {
     "views": [
      {
       "cell_index": 12
      }
     ]
    },
    "1d67ae6836244a81bff253e0426488ff": {
     "views": [
      {
       "cell_index": 12
      }
     ]
    },
    "213bd5ec7a124467b85e240c7bdcc819": {
     "views": [
      {
       "cell_index": 12
      }
     ]
    },
    "23c591bc3a7e4df5b0e21677e2869f27": {
     "views": [
      {
       "cell_index": 12
      }
     ]
    },
    "24382361c62a4bbc9741c2129be71810": {
     "views": [
      {
       "cell_index": 12
      }
     ]
    },
    "24419d69ef3347819fcc70448978bf05": {
     "views": [
      {
       "cell_index": 12
      }
     ]
    },
    "25ecd0ca842e43fcabc04a82fff2dac1": {
     "views": [
      {
       "cell_index": 12
      }
     ]
    },
    "26bab0144edd46609ddcdd6bfd65115f": {
     "views": [
      {
       "cell_index": 12
      }
     ]
    },
    "28707906c2344d00b07ee40c479121db": {
     "views": [
      {
       "cell_index": 12
      }
     ]
    },
    "287646592b8e41f2920e73c7e92d2ec0": {
     "views": [
      {
       "cell_index": 12
      }
     ]
    },
    "28a8916064514ce7912c103e7370ad47": {
     "views": [
      {
       "cell_index": 12
      }
     ]
    },
    "2a100dade8384007bf4abf580068cdc3": {
     "views": [
      {
       "cell_index": 12
      }
     ]
    },
    "2b28c9ea3e5b4950bdfcd897162bd56d": {
     "views": [
      {
       "cell_index": 12
      }
     ]
    },
    "2b5b08661aee4f9296e0878cb4ce041b": {
     "views": [
      {
       "cell_index": 12
      }
     ]
    },
    "2bd96fa1931842749cd9ba68345a4132": {
     "views": [
      {
       "cell_index": 12
      }
     ]
    },
    "32a97da73a594458a7080928d0aa12a4": {
     "views": [
      {
       "cell_index": 12
      }
     ]
    },
    "33a124f13a124b64bbca8a0a4a96999c": {
     "views": [
      {
       "cell_index": 12
      }
     ]
    },
    "3477d40608834aca90d0f57b44f7b3e7": {
     "views": [
      {
       "cell_index": 12
      }
     ]
    },
    "357ae9996a19410e98f131fc86e2c937": {
     "views": [
      {
       "cell_index": 12
      }
     ]
    },
    "3a1b2c52257843549c64aedde0be827c": {
     "views": [
      {
       "cell_index": 12
      }
     ]
    },
    "3a685442e38243f5a601d54d59c37fdd": {
     "views": [
      {
       "cell_index": 12
      }
     ]
    },
    "3ac750287e394cc281f1dc3487e94df6": {
     "views": [
      {
       "cell_index": 12
      }
     ]
    },
    "3afef162a0304210973a3797acf40cab": {
     "views": [
      {
       "cell_index": 12
      }
     ]
    },
    "3c47ecdd65c049cfa66eb21ad8fd933b": {
     "views": [
      {
       "cell_index": 12
      }
     ]
    },
    "40b3e13fb5ae4ceda47aa8542106d365": {
     "views": [
      {
       "cell_index": 12
      }
     ]
    },
    "439afcda2d4e4ce9af1ea7024a9bd0b5": {
     "views": [
      {
       "cell_index": 12
      }
     ]
    },
    "440c8e7f865840019dd96476fe5fe1bc": {
     "views": [
      {
       "cell_index": 12
      }
     ]
    },
    "4480a3d377a748c5bbd202d71b80b323": {
     "views": [
      {
       "cell_index": 12
      }
     ]
    },
    "4692e78886d942c982ddd2a97a55f649": {
     "views": [
      {
       "cell_index": 12
      }
     ]
    },
    "47282faa187746bb8339a4fb4ac58068": {
     "views": [
      {
       "cell_index": 12
      }
     ]
    },
    "4a1af9ac778a45d8baac52255b6aaac0": {
     "views": [
      {
       "cell_index": 12
      }
     ]
    },
    "4a7ca0764c1d4f4e8c818452e0faad22": {
     "views": [
      {
       "cell_index": 12
      }
     ]
    },
    "4f9ead92babf43a6a7c2dbe03bc199e1": {
     "views": [
      {
       "cell_index": 12
      }
     ]
    },
    "4fe4e6c7a7c04da0b82eedfee59f123c": {
     "views": [
      {
       "cell_index": 12
      }
     ]
    },
    "509696b56ebd4c078824720adfb9c882": {
     "views": [
      {
       "cell_index": 12
      }
     ]
    },
    "5288b8c03d57497384001bd545f9473a": {
     "views": [
      {
       "cell_index": 12
      }
     ]
    },
    "54c0486d9d194fd89a425f8bfe8abffd": {
     "views": [
      {
       "cell_index": 12
      }
     ]
    },
    "5591146f394445e9a7562bfbeba3b210": {
     "views": [
      {
       "cell_index": 12
      }
     ]
    },
    "569e07a8c03b417a8bec640521c1e8d8": {
     "views": [
      {
       "cell_index": 12
      }
     ]
    },
    "56d382118cbe49f09c5518839d1309ee": {
     "views": [
      {
       "cell_index": 12
      }
     ]
    },
    "58879c6ef3904577a0d0ca261361d888": {
     "views": [
      {
       "cell_index": 12
      }
     ]
    },
    "59de165a886a4dcd855ec33e4682bd2d": {
     "views": [
      {
       "cell_index": 12
      }
     ]
    },
    "5d835fe3d36c41d9b140f25c874e02e7": {
     "views": [
      {
       "cell_index": 12
      }
     ]
    },
    "5dcb1825f8f945509c1521456ec8802f": {
     "views": [
      {
       "cell_index": 12
      }
     ]
    },
    "5fc113b88db343038e6190f2e2e1df1e": {
     "views": [
      {
       "cell_index": 12
      }
     ]
    },
    "601e0344661243299a2a6d382458f93a": {
     "views": [
      {
       "cell_index": 12
      }
     ]
    },
    "6060d310a5e34896a7156115cc6c3b43": {
     "views": [
      {
       "cell_index": 12
      }
     ]
    },
    "607439f270cb405cad0280cd5bf035bf": {
     "views": [
      {
       "cell_index": 12
      }
     ]
    },
    "695d75c78b7148a4a7c84d57bed02c35": {
     "views": [
      {
       "cell_index": 12
      }
     ]
    },
    "6b76037650064c71afc1ef43cea3b884": {
     "views": [
      {
       "cell_index": 12
      }
     ]
    },
    "6ec89ae257604fa0a672b9c0042d1c53": {
     "views": [
      {
       "cell_index": 12
      }
     ]
    },
    "70dfa87054284e3d84cd08df8bfbf705": {
     "views": [
      {
       "cell_index": 12
      }
     ]
    },
    "70fefa448a124b56bec948f54c0fe1fc": {
     "views": [
      {
       "cell_index": 12
      }
     ]
    },
    "73deeee41eb04b1c9b5d12164159f500": {
     "views": [
      {
       "cell_index": 12
      }
     ]
    },
    "74df7b1ee69449e6a6733da633e4c583": {
     "views": [
      {
       "cell_index": 12
      }
     ]
    },
    "75c980fe55484a15b5fadf86960e6984": {
     "views": [
      {
       "cell_index": 12
      }
     ]
    },
    "770dfa1b77ed46258fd936b4a5b002f7": {
     "views": [
      {
       "cell_index": 12
      }
     ]
    },
    "79b014c35bb64afd98775e32a56c8469": {
     "views": [
      {
       "cell_index": 12
      }
     ]
    },
    "7b97837f50464a0194b38acd2ee83d07": {
     "views": [
      {
       "cell_index": 12
      }
     ]
    },
    "7df60277eba44da5acc4ae70299cd1db": {
     "views": [
      {
       "cell_index": 12
      }
     ]
    },
    "7e9f3f789dd9472189a557183640b7c9": {
     "views": [
      {
       "cell_index": 12
      }
     ]
    },
    "7eb10ea82e954391a3733334c4276916": {
     "views": [
      {
       "cell_index": 12
      }
     ]
    },
    "7fe51828fd9745e9bad8a4632d35a137": {
     "views": [
      {
       "cell_index": 12
      }
     ]
    },
    "807fe4bc5122427a8d991815a0afdefe": {
     "views": [
      {
       "cell_index": 12
      }
     ]
    },
    "82b2dfaaeca94ac7871eb714ebf0bd24": {
     "views": [
      {
       "cell_index": 12
      }
     ]
    },
    "83eb650f527a42e9a904a1dc3489226e": {
     "views": [
      {
       "cell_index": 12
      }
     ]
    },
    "84c3b92deb524251aae620eb42b81d57": {
     "views": [
      {
       "cell_index": 12
      }
     ]
    },
    "85ca8ba9ed1c4fc1bd9f636d4efb13a2": {
     "views": [
      {
       "cell_index": 12
      }
     ]
    },
    "8a803cf98b4a4ad38b46389cd0cbc624": {
     "views": [
      {
       "cell_index": 12
      }
     ]
    },
    "8f271df026484a06be2f6509462c42ed": {
     "views": [
      {
       "cell_index": 12
      }
     ]
    },
    "8f2d4f8192c4455a922e9f4f4388b10a": {
     "views": [
      {
       "cell_index": 12
      }
     ]
    },
    "99722895709c48d7baca4359ce30f165": {
     "views": [
      {
       "cell_index": 12
      }
     ]
    },
    "9994b42dd71f4dcb8412076e04f74af1": {
     "views": [
      {
       "cell_index": 12
      }
     ]
    },
    "9c65331cb7044f07bea6f1dcd02be34e": {
     "views": [
      {
       "cell_index": 12
      }
     ]
    },
    "9d93b50dddb843ffb3192fa7463d1eb3": {
     "views": [
      {
       "cell_index": 12
      }
     ]
    },
    "9ddcff6b73e84b71bb72cbaf509b6d7d": {
     "views": [
      {
       "cell_index": 12
      }
     ]
    },
    "9ff602ebdfe446f8a7973c18b0b9c448": {
     "views": [
      {
       "cell_index": 12
      }
     ]
    },
    "a13b7297bcfd48aeb1f6adeb79c6907e": {
     "views": [
      {
       "cell_index": 12
      }
     ]
    },
    "a2d8253207ff47c196ec18d0c3e292fc": {
     "views": [
      {
       "cell_index": 12
      }
     ]
    },
    "a447bd0d14cf402b844ccef55b5e2d6e": {
     "views": [
      {
       "cell_index": 12
      }
     ]
    },
    "a8fd29c4d7474543bfb283fe1bc22752": {
     "views": [
      {
       "cell_index": 12
      }
     ]
    },
    "a938e8c6d6f54d119dc4e0fc6591ceb2": {
     "views": [
      {
       "cell_index": 12
      }
     ]
    },
    "abb7603ed5cc4ea7a3e9133abc83daab": {
     "views": [
      {
       "cell_index": 12
      }
     ]
    },
    "abd62c0bee8d4a1d93a95b31b9aaf486": {
     "views": [
      {
       "cell_index": 12
      }
     ]
    },
    "ac5eaac0d0bc4bdc899be9b7c7609004": {
     "views": [
      {
       "cell_index": 12
      }
     ]
    },
    "ac8d814446504f1fb7359e84efc877df": {
     "views": [
      {
       "cell_index": 12
      }
     ]
    },
    "aecfd70ffbbb491296ddfead5c3e676c": {
     "views": [
      {
       "cell_index": 12
      }
     ]
    },
    "b012c12df7ec4de5bee68e9f10c67227": {
     "views": [
      {
       "cell_index": 12
      }
     ]
    },
    "b0413da85a834535bf0910a1a2049cf4": {
     "views": [
      {
       "cell_index": 12
      }
     ]
    },
    "b3e05cfa4dfb44e8aec6501b481e740a": {
     "views": [
      {
       "cell_index": 12
      }
     ]
    },
    "b8e7a6d97abc49eb8b24af81997c814b": {
     "views": [
      {
       "cell_index": 12
      }
     ]
    },
    "b958fd557b674353b4513a1223d1a451": {
     "views": [
      {
       "cell_index": 12
      }
     ]
    },
    "bc39a43c23b9496fb53533370e7f076b": {
     "views": [
      {
       "cell_index": 12
      }
     ]
    },
    "bcb5c68f5f9640ffbc0d14af2a8d2609": {
     "views": [
      {
       "cell_index": 12
      }
     ]
    },
    "c1a529e546e84cfe858abc405448a31c": {
     "views": [
      {
       "cell_index": 12
      }
     ]
    },
    "c51f1c60f93c4707808116607aceb523": {
     "views": [
      {
       "cell_index": 12
      }
     ]
    },
    "c6cefa23028c47d1a9b8e34f2173662b": {
     "views": [
      {
       "cell_index": 12
      }
     ]
    },
    "c867ce48830d48ff838c535f911cde38": {
     "views": [
      {
       "cell_index": 12
      }
     ]
    },
    "cc1c3c0a394049c7817525d4c0dbc660": {
     "views": [
      {
       "cell_index": 12
      }
     ]
    },
    "ce61c3f1b09d4b7aaaa04b999968853b": {
     "views": [
      {
       "cell_index": 12
      }
     ]
    },
    "ced5cb09460b44f2b3cb07cd26ba2d80": {
     "views": [
      {
       "cell_index": 12
      }
     ]
    },
    "d0a64a823a4649898b5ef2ae2f1bbe27": {
     "views": [
      {
       "cell_index": 12
      }
     ]
    },
    "d2307dd3ea50414580c68a01944b6609": {
     "views": [
      {
       "cell_index": 12
      }
     ]
    },
    "d73036ff5b9a463aa2d560cc98e09a99": {
     "views": [
      {
       "cell_index": 12
      }
     ]
    },
    "d8bff5fe3809457696452bd7d37b0163": {
     "views": [
      {
       "cell_index": 12
      }
     ]
    },
    "da29d43a5fbd4d0db082c70348e5783e": {
     "views": [
      {
       "cell_index": 12
      }
     ]
    },
    "dcbbfefe63b849b29b2c6f2c445f9d44": {
     "views": [
      {
       "cell_index": 12
      }
     ]
    },
    "de65778ccbf74269a7aecafe0f4a84e9": {
     "views": [
      {
       "cell_index": 12
      }
     ]
    },
    "e2f426df16ea437cb3eb19a6e29718d3": {
     "views": [
      {
       "cell_index": 12
      }
     ]
    },
    "e331ecdfb1034be78954606b29282291": {
     "views": [
      {
       "cell_index": 12
      }
     ]
    },
    "e57c668870b044aab6fb89a073374887": {
     "views": [
      {
       "cell_index": 12
      }
     ]
    },
    "e7d90b37142d4468a9a3f88fe5e7ebe5": {
     "views": [
      {
       "cell_index": 12
      }
     ]
    },
    "e7dfb79db2074d32b546b0f5b35d037a": {
     "views": [
      {
       "cell_index": 12
      }
     ]
    },
    "ea7dc8f6b6904a098cc8bcd3cccb0f09": {
     "views": [
      {
       "cell_index": 12
      }
     ]
    },
    "ead95701b3c948fe810264c9f916c701": {
     "views": [
      {
       "cell_index": 12
      }
     ]
    },
    "ec1f20b0a9a848a785617463aed63555": {
     "views": [
      {
       "cell_index": 12
      }
     ]
    },
    "ef7271ab301c4d52b331707746f9638e": {
     "views": [
      {
       "cell_index": 12
      }
     ]
    },
    "f057baa922394139936146319110c770": {
     "views": [
      {
       "cell_index": 12
      }
     ]
    },
    "f07a509b915040e08e37ababd37b7cf1": {
     "views": [
      {
       "cell_index": 12
      }
     ]
    },
    "f259740c24a24bb3a309aec954f66fe3": {
     "views": [
      {
       "cell_index": 12
      }
     ]
    },
    "f612f1c9698d4be4bb42c2f0e2c69108": {
     "views": [
      {
       "cell_index": 12
      }
     ]
    },
    "f6efb652598c41549a9f19b2f9ceff2b": {
     "views": [
      {
       "cell_index": 12
      }
     ]
    },
    "f97ed4db90d24d88a228ac1e52375a0c": {
     "views": [
      {
       "cell_index": 12
      }
     ]
    },
    "fd43e083f58d43a68688581cdf48acab": {
     "views": [
      {
       "cell_index": 12
      }
     ]
    },
    "fda46d318b0941c19dfe61eb3e02cb23": {
     "views": [
      {
       "cell_index": 12
      }
     ]
    },
    "fe6b5b3475984be890e4e11f3e5d3ef1": {
     "views": [
      {
       "cell_index": 12
      }
     ]
    }
   },
   "version": "1.2.0"
  }
 },
 "nbformat": 4,
 "nbformat_minor": 2
}
