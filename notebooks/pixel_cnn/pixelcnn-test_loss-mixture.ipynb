{
 "cells": [
  {
   "cell_type": "code",
   "execution_count": 1,
   "metadata": {
    "ExecuteTime": {
     "end_time": "2019-03-07T13:41:48.004908Z",
     "start_time": "2019-03-07T13:41:42.027571Z"
    },
    "slideshow": {
     "slide_type": "slide"
    }
   },
   "outputs": [
    {
     "name": "stderr",
     "output_type": "stream",
     "text": [
      "/home/brian/anaconda3/lib/python3.6/site-packages/h5py/__init__.py:36: FutureWarning: Conversion of the second argument of issubdtype from `float` to `np.floating` is deprecated. In future, it will be treated as `np.float64 == np.dtype(float).type`.\n",
      "  from ._conv import register_converters as _register_converters\n",
      "Using TensorFlow backend.\n"
     ]
    }
   ],
   "source": [
    "%matplotlib inline\n",
    "import numpy as np\n",
    "import os\n",
    "import time\n",
    "import h5py\n",
    "import keras\n",
    "import pandas as pd\n",
    "import math\n",
    "import joblib\n",
    "import json\n",
    "import scipy\n",
    "import matplotlib.pyplot as plt\n",
    "from scipy.stats import logistic\n",
    "\n",
    "from IPython.display import display\n",
    "\n",
    "from sklearn.metrics import accuracy_score\n",
    "from sklearn.model_selection import StratifiedShuffleSplit\n",
    "\n",
    "from keras.layers import (Input, Dense, Lambda, Flatten, Reshape, BatchNormalization, \n",
    "                          Activation, Dropout, Conv2D, Conv2DTranspose, LocallyConnected2D,\n",
    "                          Concatenate, Add, Multiply)\n",
    "from keras.engine import InputSpec\n",
    "from keras.losses import sparse_categorical_crossentropy\n",
    "from keras.optimizers import RMSprop, Adam, SGD\n",
    "from keras.models import Model\n",
    "from keras.utils import to_categorical\n",
    "from keras.regularizers import l2\n",
    "from keras import metrics\n",
    "from keras import backend as K\n",
    "from keras_tqdm import TQDMNotebookCallback\n",
    "from keras.datasets import cifar10\n",
    "\n",
    "import tensorflow as tf"
   ]
  },
  {
   "cell_type": "markdown",
   "metadata": {
    "slideshow": {
     "slide_type": "slide"
    }
   },
   "source": [
    "# Parameters"
   ]
  },
  {
   "cell_type": "code",
   "execution_count": 2,
   "metadata": {
    "ExecuteTime": {
     "end_time": "2019-03-07T13:41:48.013318Z",
     "start_time": "2019-03-07T13:41:48.007843Z"
    }
   },
   "outputs": [],
   "source": [
    "img_rows, img_cols, img_chns = 2, 2, 3\n",
    "original_img_size = (img_rows, img_cols, img_chns)\n",
    "num_samples = 1000\n",
    "\n",
    "batch_size = int(os.environ.get('BATCH_SIZE', 1))\n",
    "epochs = int(os.environ.get('EPOCHS', 1000))\n",
    "activation = os.environ.get('ACTIVATION', 'relu')\n",
    "learning_rate = float(os.environ.get('LEARNING_RATE', 0.001))\n",
    "resnet_depth = int(os.environ.get('RESNET_DEPTH', 1))\n",
    "n_components = int(os.environ.get('MIXTURE_COMPONENTS', 2))"
   ]
  },
  {
   "cell_type": "markdown",
   "metadata": {},
   "source": [
    "# Generate a dataset based on mixtures of logistic"
   ]
  },
  {
   "cell_type": "markdown",
   "metadata": {},
   "source": [
    "Scaling and shifting a logistic: http://www.math.wm.edu/~leemis/chart/UDR/PDFs/LogisticS.pdf\n",
    "\n",
    "\n",
    "X ~ Logistic(m, s)\n",
    "\n",
    "Y = cX\n",
    "\n",
    "then:\n",
    "\n",
    "Y ~ Logistic(m, s*c)"
   ]
  },
  {
   "cell_type": "code",
   "execution_count": 3,
   "metadata": {
    "ExecuteTime": {
     "end_time": "2019-03-07T13:41:48.377174Z",
     "start_time": "2019-03-07T13:41:48.015347Z"
    },
    "scrolled": false,
    "slideshow": {
     "slide_type": "subslide"
    }
   },
   "outputs": [
    {
     "name": "stdout",
     "output_type": "stream",
     "text": [
      "Logistic m:\n",
      "[[[[-0.92156863  0.96078431]\n",
      "   [-0.92156863  0.96078431]\n",
      "   [-0.92156863  0.96078431]]\n",
      "\n",
      "  [[-0.92156863  0.96078431]\n",
      "   [-0.92156863 -0.92156863]\n",
      "   [-0.92156863 -0.92156863]]]\n",
      "\n",
      "\n",
      " [[[-0.92156863 -0.21568627]\n",
      "   [-0.92156863  0.96078431]\n",
      "   [-0.92156863 -0.92156863]]\n",
      "\n",
      "  [[-0.92156863 -0.92156863]\n",
      "   [-0.92156863 -0.92156863]\n",
      "   [-0.92156863  0.96078431]]]]\n",
      "Logistic s\n",
      "[[[[3.14095501 3.14095501]\n",
      "   [3.14095501 3.14095501]\n",
      "   [3.14095501 3.14095501]]\n",
      "\n",
      "  [[3.14095501 3.14095501]\n",
      "   [3.14095501 3.14095501]\n",
      "   [3.14095501 3.14095501]]]\n",
      "\n",
      "\n",
      " [[[3.14095501 3.14095501]\n",
      "   [3.14095501 3.14095501]\n",
      "   [3.14095501 3.14095501]]\n",
      "\n",
      "  [[3.14095501 3.14095501]\n",
      "   [3.14095501 3.14095501]\n",
      "   [3.14095501 3.14095501]]]]\n",
      "Mixture w\n",
      "[[[[0.5 0.5]\n",
      "   [0.5 0.5]\n",
      "   [0.5 0.5]]\n",
      "\n",
      "  [[0.5 0.5]\n",
      "   [0.5 0.5]\n",
      "   [0.5 0.5]]]\n",
      "\n",
      "\n",
      " [[[0.5 0.5]\n",
      "   [0.5 0.5]\n",
      "   [0.5 0.5]]\n",
      "\n",
      "  [[0.5 0.5]\n",
      "   [0.5 0.5]\n",
      "   [0.5 0.5]]]]\n",
      "(1000, 2, 2, 3)\n"
     ]
    }
   ],
   "source": [
    "np.random.seed(127)\n",
    "\n",
    "# logistic std deviation of 1 pixel level\n",
    "unit_s = 1 / math.pi * math.sqrt(3)\n",
    "\n",
    "def train_data_simple(num_samples):\n",
    "    # Each pixel is a independent single logstic\n",
    "    X_train = np.zeros((num_samples, img_rows, img_cols, img_chns))\n",
    "    \n",
    "    # Set the distribution values to fixed values so we can tell the difference\n",
    "    m = np.array([\n",
    "        [\n",
    "            [[10.,  250.],  [10, 250.],  [10, 250.]],\n",
    "            [[10.,  250.],  [10., 10. ], [10., 10.]]\n",
    "        ], \n",
    "        [\n",
    "            [[10.,  100.],  [10., 250. ], [10., 10.]], \n",
    "            [[10.,  10.],  [10., 10. ], [10., 250.]]\n",
    "        ], \n",
    "    ])\n",
    "    s = 10 * unit_s * np.ones((img_rows, img_cols, img_chns, n_components))\n",
    "    w = np.ones((img_rows, img_cols, img_chns, n_components))\n",
    "    w = w / w.sum(axis=3)[:, :, :, np.newaxis]\n",
    "    \n",
    "    #m = np.random.normal(127.5, 40, (img_rows, img_cols, img_chns, n_components))\n",
    "    #s = np.random.uniform(1 * unit_s, 40 * unit_s, (img_rows, img_cols, img_chns, n_components))\n",
    "    #\n",
    "    ## Each row has same mxiture weight\n",
    "    #w = np.random.randint(1, 10, (img_rows, img_cols, img_chns, n_components))\n",
    "    #w = w / w.sum(axis=3)[:, :, :, np.newaxis]\n",
    "    \n",
    "    for n in range(num_samples):\n",
    "        for i in range(img_rows):\n",
    "            for j in range(img_cols):\n",
    "                for k in range(img_chns):\n",
    "                    pixels = []\n",
    "                    for c in range(n_components):\n",
    "                        pixels.append(np.random.logistic(m[i, j, k, c], s[i, j, k, c], 1))\n",
    "                    index = np.argmax(np.random.multinomial(1, w[i, j, k])) \n",
    "                    X_train[n, i, j, k] = max(min(int(pixels[index]), 255), 0)\n",
    "                \n",
    "    print('Logistic m:')\n",
    "    print((m - 127.5) / 127.5)\n",
    "    print('Logistic s')\n",
    "    print(np.log(127.5 / s))\n",
    "    print('Mixture w')\n",
    "    print(w)\n",
    "    return X_train, (m, s, w)\n",
    "\n",
    "X_train, params = train_data_simple(num_samples)\n",
    "X_train = (X_train - 127.5) / 127.5\n",
    "print(X_train.shape)\n",
    "#print(params)"
   ]
  },
  {
   "cell_type": "code",
   "execution_count": 4,
   "metadata": {
    "ExecuteTime": {
     "end_time": "2019-03-07T13:41:48.494647Z",
     "start_time": "2019-03-07T13:41:48.378955Z"
    },
    "slideshow": {
     "slide_type": "slide"
    }
   },
   "outputs": [
    {
     "data": {
      "image/png": "[encoded data removed]",
      "text/plain": [
       "<Figure size 1440x360 with 1 Axes>"
      ]
     },
     "metadata": {},
     "output_type": "display_data"
    }
   ],
   "source": [
    "n = min(num_samples, 5)\n",
    "figure = np.zeros((img_rows * n, img_cols * 2, img_chns)).astype(int)\n",
    "for i in range(n):\n",
    "    orig_img = (X_train[i] * 127.5 + 127.5).astype(int)\n",
    "    dy = img_rows * i\n",
    "    figure[dy:dy + img_rows, :img_cols] = orig_img\n",
    "    \n",
    "    # Digitize\n",
    "    #img = orig_img #.astype(float) / 255\n",
    "    #figure[dy:dy + img_rows, img_cols:2 * img_cols] = img\n",
    "\n",
    "plt.figure(figsize=(n * 4, 5))\n",
    "plt.imshow(figure)\n",
    "plt.show()"
   ]
  },
  {
   "cell_type": "markdown",
   "metadata": {
    "slideshow": {
     "slide_type": "slide"
    }
   },
   "source": [
    "# Pixel CNN Helpers"
   ]
  },
  {
   "cell_type": "markdown",
   "metadata": {},
   "source": [
    "# Model"
   ]
  },
  {
   "cell_type": "code",
   "execution_count": 5,
   "metadata": {
    "ExecuteTime": {
     "end_time": "2019-03-07T13:41:48.502881Z",
     "start_time": "2019-03-07T13:41:48.497873Z"
    }
   },
   "outputs": [],
   "source": [
    "if K.image_data_format() == 'channels_last':\n",
    "    bn_axis = 3\n",
    "else:\n",
    "    bn_axis = 1"
   ]
  },
  {
   "cell_type": "code",
   "execution_count": 16,
   "metadata": {
    "ExecuteTime": {
     "end_time": "2019-03-07T13:43:47.863279Z",
     "start_time": "2019-03-07T13:43:47.856088Z"
    }
   },
   "outputs": [],
   "source": [
    "def pixelcnn_loss(target, output):\n",
    "    output_m = output[:, :, :, :3*n_components]\n",
    "    output_invs = output[:, :, :, 3*n_components:6*n_components]\n",
    "    output_weights = output[:, :, :, 6*(n_components):]\n",
    "    x = K.reshape(target, (-1, img_rows, img_cols, img_chns))\n",
    "    \n",
    "    # Repeat the target to match the number of mixture component shapes\n",
    "    slices = []\n",
    "    for c in range(img_chns):\n",
    "        slices += [x[:, :, :, c:c+1]] * n_components\n",
    "    x = K.concatenate(slices, axis=-1)\n",
    "    \n",
    "    x_decoded_m = output_m\n",
    "    x_decoded_invs = output_invs\n",
    "    x_weights = output_weights\n",
    "   \n",
    "    offset = 1. / 127.5 / 2.\n",
    "    centered_mean = x - x_decoded_m\n",
    "\n",
    "    cdfminus_arg = (centered_mean - offset) * K.exp(x_decoded_invs)\n",
    "    cdfplus_arg = (centered_mean + offset) * K.exp(x_decoded_invs)\n",
    "                   \n",
    "    cdfminus_safe = K.sigmoid(cdfminus_arg)\n",
    "    cdfplus_safe = K.sigmoid(cdfplus_arg)\n",
    "  \n",
    "    # ln (sigmoid(x)) = x - ln(e^x + 1) = x - softplus(x)\n",
    "    log_cdfplus = cdfplus_arg - K.tf.nn.softplus(cdfplus_arg)\n",
    "    log_1minus_cdf = -K.tf.nn.softplus(cdfminus_arg)\n",
    "    log_ll = K.tf.where(x <= 0.001, log_cdfplus,\n",
    "                        K.tf.where(x >= 0.999, log_1minus_cdf,\n",
    "                                   K.log(K.maximum(cdfplus_safe - cdfminus_safe, 1e-10))))\n",
    "    \n",
    "    ## x_weights * [sigma(x+0.5...) - sigma(x-0.5 ...) ]\n",
    "    ## = log x_weights + log (...)\n",
    "    pre_result = K.log(x_weights) + log_ll\n",
    "    \n",
    "    result = []\n",
    "    for chn in range(img_chns):\n",
    "        chn_result = pre_result[:, :, :, chn*n_components:(chn+1)*n_components]\n",
    "        v = K.logsumexp(chn_result, axis=-1)\n",
    "        result.append(v)\n",
    "    result = K.batch_flatten(K.stack(result, axis=-1))\n",
    "    \n",
    "    return -K.sum(result, axis=-1)   "
   ]
  },
  {
   "cell_type": "code",
   "execution_count": 27,
   "metadata": {
    "ExecuteTime": {
     "end_time": "2019-03-07T13:51:59.505717Z",
     "start_time": "2019-03-07T13:51:59.224972Z"
    },
    "slideshow": {
     "slide_type": "slide"
    }
   },
   "outputs": [],
   "source": [
    "# Work around Keras/tensorboard bug: https://github.com/keras-team/keras/issues/10074\n",
    "K.clear_session()\n",
    "\n",
    "main_input = Input(shape=original_img_size, name='main_input')\n",
    "\n",
    "ms = []\n",
    "invss = []\n",
    "weights = []\n",
    "for channel in range(img_chns):\n",
    "    x = Lambda(lambda x: x * 0.)(main_input)\n",
    "    x = Flatten()(x)\n",
    "    decoder_out_m_ = Dense(img_rows * img_cols * n_components, name='x_m' + str(channel),\n",
    "                           bias_initializer='glorot_uniform')(x)\n",
    "    decoder_out_m_ = Lambda(lambda x: x + 0.5)(decoder_out_m_)\n",
    "    decoder_out_m = Reshape((img_rows, img_cols, n_components))(decoder_out_m_)\n",
    "    ms.append(decoder_out_m)\n",
    "    \n",
    "    decoder_out_invs_ = Dense(img_rows * img_cols * n_components, name='x_s' + str(channel),\n",
    "                              activation='sigmoid', bias_initializer='glorot_uniform')(x)\n",
    "    decoder_out_invs = Lambda(lambda x: 5. * x + 2.)(decoder_out_invs_)\n",
    "    decoder_out_invs = Reshape((img_rows, img_cols, n_components))(decoder_out_invs)\n",
    "    \n",
    "    invss.append(decoder_out_invs)\n",
    "   \n",
    "    x_reshape = Reshape((img_rows, img_cols, img_chns))(x)\n",
    "    mixture_weights = LocallyConnected2D(name='weights' + str(channel),\n",
    "                                         filters=n_components, kernel_size=1, strides=1,\n",
    "                                         activation='softmax',\n",
    "                                         bias_initializer='glorot_uniform')(x_reshape)\n",
    "    weights.append(mixture_weights)\n",
    "\n",
    "out_m = Concatenate()(ms)\n",
    "out_invs = Concatenate()(invss)\n",
    "out_weights = Concatenate()(weights)\n",
    "main_output = Concatenate()([out_m, out_invs, out_weights])"
   ]
  },
  {
   "cell_type": "code",
   "execution_count": 28,
   "metadata": {
    "ExecuteTime": {
     "end_time": "2019-03-07T13:52:00.059483Z",
     "start_time": "2019-03-07T13:51:59.959432Z"
    },
    "scrolled": true
   },
   "outputs": [
    {
     "name": "stdout",
     "output_type": "stream",
     "text": [
      "Building model...\n",
      "__________________________________________________________________________________________________\n",
      "Layer (type)                    Output Shape         Param #     Connected to                     \n",
      "==================================================================================================\n",
      "main_input (InputLayer)         (None, 2, 2, 3)      0                                            \n",
      "__________________________________________________________________________________________________\n",
      "lambda_1 (Lambda)               (None, 2, 2, 3)      0           main_input[0][0]                 \n",
      "__________________________________________________________________________________________________\n",
      "lambda_4 (Lambda)               (None, 2, 2, 3)      0           main_input[0][0]                 \n",
      "__________________________________________________________________________________________________\n",
      "lambda_7 (Lambda)               (None, 2, 2, 3)      0           main_input[0][0]                 \n",
      "__________________________________________________________________________________________________\n",
      "flatten_1 (Flatten)             (None, 12)           0           lambda_1[0][0]                   \n",
      "__________________________________________________________________________________________________\n",
      "flatten_2 (Flatten)             (None, 12)           0           lambda_4[0][0]                   \n",
      "__________________________________________________________________________________________________\n",
      "flatten_3 (Flatten)             (None, 12)           0           lambda_7[0][0]                   \n",
      "__________________________________________________________________________________________________\n",
      "x_m0 (Dense)                    (None, 8)            104         flatten_1[0][0]                  \n",
      "__________________________________________________________________________________________________\n",
      "x_m1 (Dense)                    (None, 8)            104         flatten_2[0][0]                  \n",
      "__________________________________________________________________________________________________\n",
      "x_m2 (Dense)                    (None, 8)            104         flatten_3[0][0]                  \n",
      "__________________________________________________________________________________________________\n",
      "x_s0 (Dense)                    (None, 8)            104         flatten_1[0][0]                  \n",
      "__________________________________________________________________________________________________\n",
      "x_s1 (Dense)                    (None, 8)            104         flatten_2[0][0]                  \n",
      "__________________________________________________________________________________________________\n",
      "x_s2 (Dense)                    (None, 8)            104         flatten_3[0][0]                  \n",
      "__________________________________________________________________________________________________\n",
      "lambda_2 (Lambda)               (None, 8)            0           x_m0[0][0]                       \n",
      "__________________________________________________________________________________________________\n",
      "lambda_5 (Lambda)               (None, 8)            0           x_m1[0][0]                       \n",
      "__________________________________________________________________________________________________\n",
      "lambda_8 (Lambda)               (None, 8)            0           x_m2[0][0]                       \n",
      "__________________________________________________________________________________________________\n",
      "lambda_3 (Lambda)               (None, 8)            0           x_s0[0][0]                       \n",
      "__________________________________________________________________________________________________\n",
      "lambda_6 (Lambda)               (None, 8)            0           x_s1[0][0]                       \n",
      "__________________________________________________________________________________________________\n",
      "lambda_9 (Lambda)               (None, 8)            0           x_s2[0][0]                       \n",
      "__________________________________________________________________________________________________\n",
      "reshape_3 (Reshape)             (None, 2, 2, 3)      0           flatten_1[0][0]                  \n",
      "__________________________________________________________________________________________________\n",
      "reshape_6 (Reshape)             (None, 2, 2, 3)      0           flatten_2[0][0]                  \n",
      "__________________________________________________________________________________________________\n",
      "reshape_9 (Reshape)             (None, 2, 2, 3)      0           flatten_3[0][0]                  \n",
      "__________________________________________________________________________________________________\n",
      "reshape_1 (Reshape)             (None, 2, 2, 2)      0           lambda_2[0][0]                   \n",
      "__________________________________________________________________________________________________\n",
      "reshape_4 (Reshape)             (None, 2, 2, 2)      0           lambda_5[0][0]                   \n",
      "__________________________________________________________________________________________________\n",
      "reshape_7 (Reshape)             (None, 2, 2, 2)      0           lambda_8[0][0]                   \n",
      "__________________________________________________________________________________________________\n",
      "reshape_2 (Reshape)             (None, 2, 2, 2)      0           lambda_3[0][0]                   \n",
      "__________________________________________________________________________________________________\n",
      "reshape_5 (Reshape)             (None, 2, 2, 2)      0           lambda_6[0][0]                   \n",
      "__________________________________________________________________________________________________\n",
      "reshape_8 (Reshape)             (None, 2, 2, 2)      0           lambda_9[0][0]                   \n",
      "__________________________________________________________________________________________________\n",
      "weights0 (LocallyConnected2D)   (None, 2, 2, 2)      32          reshape_3[0][0]                  \n",
      "__________________________________________________________________________________________________\n",
      "weights1 (LocallyConnected2D)   (None, 2, 2, 2)      32          reshape_6[0][0]                  \n",
      "__________________________________________________________________________________________________\n",
      "weights2 (LocallyConnected2D)   (None, 2, 2, 2)      32          reshape_9[0][0]                  \n",
      "__________________________________________________________________________________________________\n",
      "concatenate_1 (Concatenate)     (None, 2, 2, 6)      0           reshape_1[0][0]                  \n",
      "                                                                 reshape_4[0][0]                  \n",
      "                                                                 reshape_7[0][0]                  \n",
      "__________________________________________________________________________________________________\n",
      "concatenate_2 (Concatenate)     (None, 2, 2, 6)      0           reshape_2[0][0]                  \n",
      "                                                                 reshape_5[0][0]                  \n",
      "                                                                 reshape_8[0][0]                  \n",
      "__________________________________________________________________________________________________\n",
      "concatenate_3 (Concatenate)     (None, 2, 2, 6)      0           weights0[0][0]                   \n",
      "                                                                 weights1[0][0]                   \n",
      "                                                                 weights2[0][0]                   \n",
      "__________________________________________________________________________________________________\n",
      "concatenate_4 (Concatenate)     (None, 2, 2, 18)     0           concatenate_1[0][0]              \n",
      "                                                                 concatenate_2[0][0]              \n",
      "                                                                 concatenate_3[0][0]              \n",
      "==================================================================================================\n",
      "Total params: 720\n",
      "Trainable params: 720\n",
      "Non-trainable params: 0\n",
      "__________________________________________________________________________________________________\n"
     ]
    }
   ],
   "source": [
    "print(\"Building model...\")\n",
    "#optimizer = RMSprop(lr=0.001)\n",
    "\n",
    "\n",
    "optimizer = SGD(lr=0.001)\n",
    "model = Model(inputs=main_input, outputs=main_output)\n",
    "model.compile(optimizer=optimizer, loss=pixelcnn_loss)\n",
    "model.summary()"
   ]
  },
  {
   "cell_type": "code",
   "execution_count": 29,
   "metadata": {
    "ExecuteTime": {
     "end_time": "2019-03-07T13:53:27.910950Z",
     "start_time": "2019-03-07T13:52:00.812130Z"
    },
    "scrolled": true,
    "slideshow": {
     "slide_type": "-"
    }
   },
   "outputs": [
    {
     "data": {
      "application/vnd.jupyter.widget-view+json": {
       "model_id": "2b3e892bdb394a2e9d6ed04a3bc37081",
       "version_major": 2,
       "version_minor": 0
      },
      "text/plain": [
       "HBox(children=(IntProgress(value=0, description='Training', max=40), HTML(value='')))"
      ]
     },
     "metadata": {},
     "output_type": "display_data"
    },
    {
     "data": {
      "application/vnd.jupyter.widget-view+json": {
       "model_id": "",
       "version_major": 2,
       "version_minor": 0
      },
      "text/plain": [
       "HBox(children=(IntProgress(value=0, description='Epoch 0', max=1000), HTML(value='')))"
      ]
     },
     "metadata": {},
     "output_type": "display_data"
    },
    {
     "data": {
      "application/vnd.jupyter.widget-view+json": {
       "model_id": "",
       "version_major": 2,
       "version_minor": 0
      },
      "text/plain": [
       "HBox(children=(IntProgress(value=0, description='Epoch 1', max=1000), HTML(value='')))"
      ]
     },
     "metadata": {},
     "output_type": "display_data"
    },
    {
     "data": {
      "application/vnd.jupyter.widget-view+json": {
       "model_id": "",
       "version_major": 2,
       "version_minor": 0
      },
      "text/plain": [
       "HBox(children=(IntProgress(value=0, description='Epoch 2', max=1000), HTML(value='')))"
      ]
     },
     "metadata": {},
     "output_type": "display_data"
    },
    {
     "data": {
      "application/vnd.jupyter.widget-view+json": {
       "model_id": "",
       "version_major": 2,
       "version_minor": 0
      },
      "text/plain": [
       "HBox(children=(IntProgress(value=0, description='Epoch 3', max=1000), HTML(value='')))"
      ]
     },
     "metadata": {},
     "output_type": "display_data"
    },
    {
     "data": {
      "application/vnd.jupyter.widget-view+json": {
       "model_id": "",
       "version_major": 2,
       "version_minor": 0
      },
      "text/plain": [
       "HBox(children=(IntProgress(value=0, description='Epoch 4', max=1000), HTML(value='')))"
      ]
     },
     "metadata": {},
     "output_type": "display_data"
    },
    {
     "data": {
      "application/vnd.jupyter.widget-view+json": {
       "model_id": "",
       "version_major": 2,
       "version_minor": 0
      },
      "text/plain": [
       "HBox(children=(IntProgress(value=0, description='Epoch 5', max=1000), HTML(value='')))"
      ]
     },
     "metadata": {},
     "output_type": "display_data"
    },
    {
     "data": {
      "application/vnd.jupyter.widget-view+json": {
       "model_id": "",
       "version_major": 2,
       "version_minor": 0
      },
      "text/plain": [
       "HBox(children=(IntProgress(value=0, description='Epoch 6', max=1000), HTML(value='')))"
      ]
     },
     "metadata": {},
     "output_type": "display_data"
    },
    {
     "data": {
      "application/vnd.jupyter.widget-view+json": {
       "model_id": "",
       "version_major": 2,
       "version_minor": 0
      },
      "text/plain": [
       "HBox(children=(IntProgress(value=0, description='Epoch 7', max=1000), HTML(value='')))"
      ]
     },
     "metadata": {},
     "output_type": "display_data"
    },
    {
     "data": {
      "application/vnd.jupyter.widget-view+json": {
       "model_id": "",
       "version_major": 2,
       "version_minor": 0
      },
      "text/plain": [
       "HBox(children=(IntProgress(value=0, description='Epoch 8', max=1000), HTML(value='')))"
      ]
     },
     "metadata": {},
     "output_type": "display_data"
    },
    {
     "data": {
      "application/vnd.jupyter.widget-view+json": {
       "model_id": "",
       "version_major": 2,
       "version_minor": 0
      },
      "text/plain": [
       "HBox(children=(IntProgress(value=0, description='Epoch 9', max=1000), HTML(value='')))"
      ]
     },
     "metadata": {},
     "output_type": "display_data"
    },
    {
     "data": {
      "application/vnd.jupyter.widget-view+json": {
       "model_id": "",
       "version_major": 2,
       "version_minor": 0
      },
      "text/plain": [
       "HBox(children=(IntProgress(value=0, description='Epoch 10', max=1000), HTML(value='')))"
      ]
     },
     "metadata": {},
     "output_type": "display_data"
    },
    {
     "data": {
      "application/vnd.jupyter.widget-view+json": {
       "model_id": "",
       "version_major": 2,
       "version_minor": 0
      },
      "text/plain": [
       "HBox(children=(IntProgress(value=0, description='Epoch 11', max=1000), HTML(value='')))"
      ]
     },
     "metadata": {},
     "output_type": "display_data"
    },
    {
     "data": {
      "application/vnd.jupyter.widget-view+json": {
       "model_id": "",
       "version_major": 2,
       "version_minor": 0
      },
      "text/plain": [
       "HBox(children=(IntProgress(value=0, description='Epoch 12', max=1000), HTML(value='')))"
      ]
     },
     "metadata": {},
     "output_type": "display_data"
    },
    {
     "name": "stdout",
     "output_type": "stream",
     "text": [
      "Elapsed:  87.09346437454224\n"
     ]
    }
   ],
   "source": [
    "start = time.time()\n",
    "\n",
    "\n",
    "early_stopping = keras.callbacks.EarlyStopping('loss', min_delta=1.0, patience=5)\n",
    "reduce_lr = keras.callbacks.ReduceLROnPlateau(monitor='loss', factor=0.5, patience=3, min_lr=0.0001)\n",
    "tensorboard = keras.callbacks.TensorBoard(log_dir='./logs_test_loss_mixture/base', histogram_freq=1, batch_size=1, write_graph=True, \n",
    "                                          write_grads=True, write_images=True, update_freq='batch')\n",
    "\n",
    "history = model.fit(\n",
    "    X_train, X_train,\n",
    "    batch_size=batch_size,\n",
    "    #epochs=epochs,\n",
    "    epochs=40,\n",
    "    #callbacks=[TQDMNotebookCallback(), tensorboard, early_stopping, reduce_lr],\n",
    "    callbacks=[TQDMNotebookCallback(), early_stopping, reduce_lr],\n",
    "    #validation_data=(X_train, X_train),\n",
    "    verbose=0\n",
    ")\n",
    "\n",
    "done = time.time()\n",
    "elapsed = done - start\n",
    "print(\"Elapsed: \", elapsed)"
   ]
  },
  {
   "cell_type": "code",
   "execution_count": 30,
   "metadata": {
    "ExecuteTime": {
     "end_time": "2019-03-07T13:53:28.040413Z",
     "start_time": "2019-03-07T13:53:27.912948Z"
    },
    "scrolled": false,
    "slideshow": {
     "slide_type": "-"
    }
   },
   "outputs": [
    {
     "data": {
      "text/html": [
       "<div>\n",
       "<style scoped>\n",
       "    .dataframe tbody tr th:only-of-type {\n",
       "        vertical-align: middle;\n",
       "    }\n",
       "\n",
       "    .dataframe tbody tr th {\n",
       "        vertical-align: top;\n",
       "    }\n",
       "\n",
       "    .dataframe thead th {\n",
       "        text-align: right;\n",
       "    }\n",
       "</style>\n",
       "<table border=\"1\" class=\"dataframe\">\n",
       "  <thead>\n",
       "    <tr style=\"text-align: right;\">\n",
       "      <th></th>\n",
       "      <th>loss</th>\n",
       "      <th>lr</th>\n",
       "    </tr>\n",
       "  </thead>\n",
       "  <tbody>\n",
       "    <tr>\n",
       "      <th>count</th>\n",
       "      <td>13.000000</td>\n",
       "      <td>13.000</td>\n",
       "    </tr>\n",
       "    <tr>\n",
       "      <th>mean</th>\n",
       "      <td>40.662782</td>\n",
       "      <td>0.001</td>\n",
       "    </tr>\n",
       "    <tr>\n",
       "      <th>std</th>\n",
       "      <td>7.063635</td>\n",
       "      <td>0.000</td>\n",
       "    </tr>\n",
       "    <tr>\n",
       "      <th>min</th>\n",
       "      <td>36.543083</td>\n",
       "      <td>0.001</td>\n",
       "    </tr>\n",
       "    <tr>\n",
       "      <th>0%</th>\n",
       "      <td>36.543083</td>\n",
       "      <td>0.001</td>\n",
       "    </tr>\n",
       "    <tr>\n",
       "      <th>25%</th>\n",
       "      <td>36.840822</td>\n",
       "      <td>0.001</td>\n",
       "    </tr>\n",
       "    <tr>\n",
       "      <th>50%</th>\n",
       "      <td>38.666149</td>\n",
       "      <td>0.001</td>\n",
       "    </tr>\n",
       "    <tr>\n",
       "      <th>75%</th>\n",
       "      <td>40.847879</td>\n",
       "      <td>0.001</td>\n",
       "    </tr>\n",
       "    <tr>\n",
       "      <th>95%</th>\n",
       "      <td>51.410497</td>\n",
       "      <td>0.001</td>\n",
       "    </tr>\n",
       "    <tr>\n",
       "      <th>99%</th>\n",
       "      <td>60.592581</td>\n",
       "      <td>0.001</td>\n",
       "    </tr>\n",
       "    <tr>\n",
       "      <th>max</th>\n",
       "      <td>62.888102</td>\n",
       "      <td>0.001</td>\n",
       "    </tr>\n",
       "  </tbody>\n",
       "</table>\n",
       "</div>"
      ],
      "text/plain": [
       "            loss      lr\n",
       "count  13.000000  13.000\n",
       "mean   40.662782   0.001\n",
       "std     7.063635   0.000\n",
       "min    36.543083   0.001\n",
       "0%     36.543083   0.001\n",
       "25%    36.840822   0.001\n",
       "50%    38.666149   0.001\n",
       "75%    40.847879   0.001\n",
       "95%    51.410497   0.001\n",
       "99%    60.592581   0.001\n",
       "max    62.888102   0.001"
      ]
     },
     "metadata": {},
     "output_type": "display_data"
    },
    {
     "data": {
      "text/plain": [
       "<matplotlib.axes._subplots.AxesSubplot at 0x7f1994b13f60>"
      ]
     },
     "execution_count": 30,
     "metadata": {},
     "output_type": "execute_result"
    },
    {
     "data": {
      "image/png": "[encoded data removed]",
      "text/plain": [
       "<Figure size 576x432 with 1 Axes>"
      ]
     },
     "metadata": {},
     "output_type": "display_data"
    }
   ],
   "source": [
    "df = pd.DataFrame(history.history)\n",
    "display(df.describe(percentiles=[0.25 * i for i in range(4)] + [0.95, 0.99]))\n",
    "df['loss'].plot(figsize=(8, 6))"
   ]
  },
  {
   "cell_type": "code",
   "execution_count": 31,
   "metadata": {
    "ExecuteTime": {
     "end_time": "2019-03-07T13:53:28.316882Z",
     "start_time": "2019-03-07T13:53:28.044069Z"
    },
    "scrolled": true,
    "slideshow": {
     "slide_type": "-"
    }
   },
   "outputs": [
    {
     "name": "stdout",
     "output_type": "stream",
     "text": [
      "1000/1000 [==============================] - 0s 268us/step\n",
      "36.396010467529294\n"
     ]
    }
   ],
   "source": [
    "lossvals = model.evaluate(X_train, X_train)\n",
    "print(lossvals)"
   ]
  },
  {
   "cell_type": "markdown",
   "metadata": {},
   "source": [
    "# Generate Some Images"
   ]
  },
  {
   "cell_type": "code",
   "execution_count": 32,
   "metadata": {
    "ExecuteTime": {
     "end_time": "2019-03-07T13:53:28.324441Z",
     "start_time": "2019-03-07T13:53:28.318676Z"
    }
   },
   "outputs": [],
   "source": [
    "def sigmoid(x):\n",
    "    return 1 / (1 + math.exp(-x))\n",
    "\n",
    "def compute_pvals(m, invs):\n",
    "    pvals = []\n",
    "    for i in range(256):\n",
    "        if i == 0:\n",
    "            pval = logistic.cdf((0.5 - 127.5) / 127.5, loc=m, scale=1. / np.exp(invs))\n",
    "        elif i == 255:\n",
    "            pval = 1. - logistic.cdf((254.5 - 127.5) / 127.5, loc=m, scale=1. / np.exp(invs))\n",
    "        else:\n",
    "            pval = (logistic.cdf((i + 0.5 - 127.5) / 127.5, loc=m, scale=1. / np.exp(invs))\n",
    "                    - logistic.cdf((i - 0.5 - 127.5) / 127.5, loc=m, scale=1. / np.exp(invs)))\n",
    "        pvals.append(pval)\n",
    "    \n",
    "    return pvals\n",
    "\n",
    "def compute_mixture(ms, invs, weights):\n",
    "    components = []\n",
    "    for i in range(n_components):\n",
    "        components.append(weights[i] * np.array(compute_pvals(ms[i], invs[i])))\n",
    "    return np.sum(components, axis=0)"
   ]
  },
  {
   "cell_type": "code",
   "execution_count": 33,
   "metadata": {
    "ExecuteTime": {
     "end_time": "2019-03-07T13:53:30.388485Z",
     "start_time": "2019-03-07T13:53:28.326283Z"
    },
    "scrolled": true
   },
   "outputs": [
    {
     "name": "stdout",
     "output_type": "stream",
     "text": [
      "(2, 2, 3)\n",
      "==== 0 0 0\n",
      " m:  [0.5091925 0.6302173]\n",
      " param_m:  [-0.92156863  0.96078431]\n",
      " E[m]:  0.51378554\n",
      " invs:  [2.0118694 5.2962723]\n",
      " param_invs:  [3.14095501 3.14095501]\n",
      " weights:  [0.96204895 0.03795102]\n",
      " param_weight:  [0.5 0.5]\n",
      " pvals:  172    0.010049\n",
      "173    0.010364\n",
      "174    0.010675\n",
      "175    0.010981\n",
      "176    0.011280\n",
      "177    0.011572\n",
      "178    0.011855\n",
      "179    0.012127\n",
      "180    0.012387\n",
      "181    0.012633\n",
      "182    0.012865\n",
      "183    0.013080\n",
      "184    0.013278\n",
      "185    0.013456\n",
      "186    0.013615\n",
      "187    0.013753\n",
      "188    0.013869\n",
      "189    0.013963\n",
      "190    0.014033\n",
      "191    0.014079\n",
      "192    0.014102\n",
      "193    0.014100\n",
      "194    0.014074\n",
      "195    0.014024\n",
      "196    0.013950\n",
      "197    0.013853\n",
      "198    0.013733\n",
      "199    0.013592\n",
      "200    0.013430\n",
      "201    0.013249\n",
      "202    0.013054\n",
      "203    0.012863\n",
      "204    0.012752\n",
      "205    0.013080\n",
      "206    0.015230\n",
      "207    0.021601\n",
      "208    0.025504\n",
      "209    0.018665\n",
      "210    0.013017\n",
      "211    0.011094\n",
      "212    0.010414\n",
      "213    0.010021\n",
      "255    0.024596\n",
      "dtype: float64\n",
      " pixel_val:  139\n",
      "==== 0 0 1\n",
      " m:  [0.13001338 0.3695234 ]\n",
      " param_m:  [-0.92156863  0.96078431]\n",
      " E[m]:  0.14101069\n",
      " invs:  [2.0162826 5.2920575]\n",
      " param_invs:  [3.14095501 3.14095501]\n",
      " weights:  [0.9540841  0.04591588]\n",
      " param_weight:  [0.5 0.5]\n",
      " pvals:  124    0.010091\n",
      "125    0.010405\n",
      "126    0.010715\n",
      "127    0.011019\n",
      "128    0.011317\n",
      "129    0.011606\n",
      "130    0.011886\n",
      "131    0.012155\n",
      "132    0.012412\n",
      "133    0.012654\n",
      "134    0.012881\n",
      "135    0.013091\n",
      "136    0.013283\n",
      "137    0.013456\n",
      "138    0.013608\n",
      "139    0.013739\n",
      "140    0.013848\n",
      "141    0.013934\n",
      "142    0.013996\n",
      "143    0.014035\n",
      "144    0.014049\n",
      "145    0.014038\n",
      "146    0.014004\n",
      "147    0.013945\n",
      "148    0.013863\n",
      "149    0.013758\n",
      "150    0.013630\n",
      "151    0.013481\n",
      "152    0.013311\n",
      "153    0.013122\n",
      "154    0.012914\n",
      "155    0.012690\n",
      "156    0.012450\n",
      "157    0.012195\n",
      "158    0.011928\n",
      "159    0.011650\n",
      "160    0.011362\n",
      "161    0.011065\n",
      "162    0.010762\n",
      "163    0.010452\n",
      "164    0.010139\n",
      "173    0.012555\n",
      "174    0.021071\n",
      "175    0.022509\n",
      "176    0.013371\n",
      "dtype: float64\n",
      " pixel_val:  108\n",
      "==== 0 0 2\n",
      " m:  [ 0.9483714 -1.2917612]\n",
      " param_m:  [-0.92156863  0.96078431]\n",
      " E[m]:  -0.18005449\n",
      " invs:  [3.0757048 3.188456 ]\n",
      " param_invs:  [3.14095501 3.14095501]\n",
      " weights:  [0.49626824 0.5037317 ]\n",
      " param_weight:  [0.5 0.5]\n",
      " pvals:  0      0.503340\n",
      "238    0.010489\n",
      "239    0.011786\n",
      "240    0.013138\n",
      "241    0.014513\n",
      "242    0.015873\n",
      "243    0.017174\n",
      "244    0.018364\n",
      "245    0.019391\n",
      "246    0.020206\n",
      "247    0.020767\n",
      "248    0.021043\n",
      "249    0.021017\n",
      "250    0.020693\n",
      "251    0.020088\n",
      "252    0.019234\n",
      "253    0.018177\n",
      "254    0.016965\n",
      "255    0.130215\n",
      "dtype: float64\n",
      " pixel_val:  0\n",
      "==== 0 1 0\n",
      " m:  [ 0.9774749 -1.0588413]\n",
      " param_m:  [-0.92156863  0.96078431]\n",
      " E[m]:  -0.01251924\n",
      " invs:  [3.0474467 5.111537 ]\n",
      " param_invs:  [3.14095501 3.14095501]\n",
      " weights:  [0.51383084 0.48616913]\n",
      " param_weight:  [0.5 0.5]\n",
      " pvals:  0      0.486150\n",
      "241    0.010055\n",
      "242    0.011296\n",
      "243    0.012598\n",
      "244    0.013937\n",
      "245    0.015280\n",
      "246    0.016590\n",
      "247    0.017821\n",
      "248    0.018925\n",
      "249    0.019855\n",
      "250    0.020567\n",
      "251    0.021025\n",
      "252    0.021205\n",
      "253    0.021098\n",
      "254    0.020709\n",
      "255    0.207216\n",
      "dtype: float64\n",
      " pixel_val:  0\n",
      "==== 0 1 1\n",
      " m:  [ 0.6449566 -1.3532284]\n",
      " param_m:  [-0.92156863 -0.92156863]\n",
      " E[m]:  -1.2669126\n",
      " invs:  [5.570428  3.0686827]\n",
      " param_invs:  [3.14095501 3.14095501]\n",
      " weights:  [0.04319723 0.95680285]\n",
      " param_weight:  [0.5 0.5]\n",
      " pvals:  0      0.956353\n",
      "209    0.013369\n",
      "210    0.019292\n",
      "dtype: float64\n",
      " pixel_val:  0\n",
      "==== 0 1 2\n",
      " m:  [ 0.45077616 -1.5022233 ]\n",
      " param_m:  [-0.92156863 -0.92156863]\n",
      " E[m]:  -1.4250679\n",
      " invs:  [5.1189184 2.6298063]\n",
      " param_invs:  [3.14095501 3.14095501]\n",
      " weights:  [0.03950613 0.9604939 ]\n",
      " param_weight:  [0.5 0.5]\n",
      " pvals:  0      0.959627\n",
      "185    0.012500\n",
      "dtype: float64\n",
      " pixel_val:  0\n",
      "row 0\n",
      "==== 1 0 0\n",
      " m:  [ 1.0708631 -1.0844077]\n",
      " param_m:  [-0.92156863 -0.21568627]\n",
      " E[m]:  -1.0014523\n",
      " invs:  [4.6997676 4.7345924]\n",
      " param_invs:  [3.14095501 3.14095501]\n",
      " weights:  [0.03848948 0.9615105 ]\n",
      " param_weight:  [0.5 0.5]\n",
      " pvals:  0      0.961460\n",
      "255    0.038479\n",
      "dtype: float64\n",
      " pixel_val:  0\n",
      "==== 1 0 1\n",
      " m:  [0.40844283 0.54349667]\n",
      " param_m:  [-0.92156863  0.96078431]\n",
      " E[m]:  0.53800094\n",
      " invs:  [4.8172617 2.0118365]\n",
      " param_invs:  [3.14095501 3.14095501]\n",
      " weights:  [0.04069267 0.9593073 ]\n",
      " param_weight:  [0.5 0.5]\n",
      " pvals:  175    0.010058\n",
      "176    0.011097\n",
      "177    0.013050\n",
      "178    0.016332\n",
      "179    0.019831\n",
      "180    0.020437\n",
      "181    0.017774\n",
      "182    0.014916\n",
      "183    0.013363\n",
      "184    0.012802\n",
      "185    0.012718\n",
      "186    0.012824\n",
      "187    0.012995\n",
      "188    0.013179\n",
      "189    0.013358\n",
      "190    0.013521\n",
      "191    0.013665\n",
      "192    0.013789\n",
      "193    0.013890\n",
      "194    0.013969\n",
      "195    0.014024\n",
      "196    0.014055\n",
      "197    0.014063\n",
      "198    0.014046\n",
      "199    0.014005\n",
      "200    0.013940\n",
      "201    0.013852\n",
      "202    0.013741\n",
      "203    0.013608\n",
      "204    0.013454\n",
      "205    0.013280\n",
      "206    0.013087\n",
      "207    0.012876\n",
      "208    0.012648\n",
      "209    0.012406\n",
      "210    0.012149\n",
      "211    0.011881\n",
      "212    0.011601\n",
      "213    0.011312\n",
      "214    0.011015\n",
      "215    0.010711\n",
      "216    0.010402\n",
      "217    0.010089\n",
      "255    0.031465\n",
      "dtype: float64\n",
      " pixel_val:  208\n",
      "==== 1 0 2\n",
      " m:  [ 0.4780084 -1.467597 ]\n",
      " param_m:  [-0.92156863 -0.92156863]\n",
      " E[m]:  -1.3893896\n",
      " invs:  [4.4708996 2.7249694]\n",
      " param_invs:  [3.14095501 3.14095501]\n",
      " weights:  [0.04019691 0.9598031 ]\n",
      " param_weight:  [0.5 0.5]\n",
      " pvals:  0    0.959073\n",
      "dtype: float64\n",
      " pixel_val:  0\n",
      "==== 1 1 0\n",
      " m:  [-1.4702835  1.0221472]\n",
      " param_m:  [-0.92156863 -0.92156863]\n",
      " E[m]:  -1.3670518\n",
      " invs:  [2.7183883 3.7468996]\n",
      " param_invs:  [3.14095501 3.14095501]\n",
      " weights:  [0.9585819  0.04141811]\n",
      " param_weight:  [0.5 0.5]\n",
      " pvals:  0      0.957848\n",
      "255    0.031113\n",
      "dtype: float64\n",
      " pixel_val:  0\n",
      "==== 1 1 1\n",
      " m:  [-1.3133056  1.2582852]\n",
      " param_m:  [-0.92156863 -0.92156863]\n",
      " E[m]:  -1.2152458\n",
      " invs:  [3.2162344 5.460812 ]\n",
      " param_invs:  [3.14095501 3.14095501]\n",
      " weights:  [0.96186805 0.03813195]\n",
      " param_weight:  [0.5 0.5]\n",
      " pvals:  0      0.961505\n",
      "255    0.038132\n",
      "dtype: float64\n",
      " pixel_val:  0\n",
      "==== 1 1 2\n",
      " m:  [-0.00381476  0.00050321]\n",
      " param_m:  [-0.92156863  0.96078431]\n",
      " E[m]:  0.00032831586\n",
      " invs:  [4.5977077 2.0112598]\n",
      " param_invs:  [3.14095501 3.14095501]\n",
      " weights:  [0.04050431 0.9594957 ]\n",
      " param_weight:  [0.5 0.5]\n",
      " pvals:  108    0.010289\n",
      "109    0.010600\n",
      "110    0.010905\n",
      "111    0.011205\n",
      "112    0.011497\n",
      "113    0.011780\n",
      "114    0.012053\n",
      "115    0.012315\n",
      "116    0.012566\n",
      "117    0.012806\n",
      "118    0.013038\n",
      "119    0.013271\n",
      "120    0.013525\n",
      "121    0.013844\n",
      "122    0.014316\n",
      "123    0.015105\n",
      "124    0.016453\n",
      "125    0.018497\n",
      "126    0.020752\n",
      "127    0.021839\n",
      "128    0.020830\n",
      "129    0.018612\n",
      "130    0.016578\n",
      "131    0.015238\n",
      "132    0.014461\n",
      "133    0.014007\n",
      "134    0.013709\n",
      "135    0.013475\n",
      "136    0.013262\n",
      "137    0.013049\n",
      "138    0.012827\n",
      "139    0.012593\n",
      "140    0.012346\n",
      "141    0.012086\n",
      "142    0.011815\n",
      "143    0.011533\n",
      "144    0.011242\n",
      "145    0.010944\n",
      "146    0.010639\n",
      "147    0.010329\n",
      "148    0.010016\n",
      "dtype: float64\n",
      " pixel_val:  86\n",
      "row 1\n",
      "Generated:  87.09346437454224\n"
     ]
    },
    {
     "data": {
      "image/png": "[encoded data removed]",
      "text/plain": [
       "<Figure size 360x360 with 1 Axes>"
      ]
     },
     "metadata": {},
     "output_type": "display_data"
    },
    {
     "name": "stdout",
     "output_type": "stream",
     "text": [
      "Orig: \n"
     ]
    },
    {
     "data": {
      "image/png": "[encoded data removed]",
      "text/plain": [
       "<Figure size 216x216 with 1 Axes>"
      ]
     },
     "metadata": {},
     "output_type": "display_data"
    },
    {
     "name": "stdout",
     "output_type": "stream",
     "text": [
      "Elapsed:  1.695288896560669\n"
     ]
    }
   ],
   "source": [
    "debug = True\n",
    "\n",
    "def gen_image(model, num_samples=batch_size):\n",
    "    x_sample = np.zeros((num_samples, img_rows, img_cols, img_chns))\n",
    "    \n",
    "    # Iteratively generate each conditional pixel P(x_i | x_{1,..,i-1})\n",
    "    for i in range(img_rows):\n",
    "        for j in range(img_cols):\n",
    "            for k in range(img_chns):\n",
    "                x_out = model.predict(x_sample, num_samples)\n",
    "                for n in range(num_samples):\n",
    "                    offset = k * n_components\n",
    "                    x_ms = x_out[n, i, j, offset:offset + n_components]\n",
    "                    offset = n_components * img_chns + k * n_components\n",
    "                    x_invs = x_out[n, i, j, offset:offset + n_components]\n",
    "                    offset = 2 * n_components * img_chns + k * n_components\n",
    "                    weights = x_out[n, i, j, offset:offset + n_components]\n",
    "                    pvals = compute_mixture(x_ms, x_invs, weights)\n",
    "                    pvals /= (np.sum(pvals) + 1e-5)\n",
    "                    pixel_val = np.argmax(np.random.multinomial(1, pvals))\n",
    "                    x_sample[n, i, j, k] = pixel_val / 255.\n",
    "                    if 0 <= i <= 1 and 0 <= j <= 1 and debug:\n",
    "                        print(\"====\", i, j, k)\n",
    "                        print(\" m: \", x_ms)\n",
    "                        print(\" param_m: \", (params[0][i, j, k] - 127.5) / 127.5)\n",
    "                        print(\" E[m]: \", (x_ms * weights).sum())\n",
    "                        print(\" invs: \", x_invs)\n",
    "                        print(\" param_invs: \", np.log(127.5 / params[1][i, j, k]))\n",
    "                        print(\" weights: \", weights)\n",
    "                        print(\" param_weight: \", params[2][i, j, k])\n",
    "                        s = pd.Series(pvals)\n",
    "                        print(\" pvals: \", s[s>1e-2])\n",
    "                        print(\" pixel_val: \", pixel_val)\n",
    "                        #print(\" x_out[n, i, j, :]: \", x_out[n, i, j, :])\n",
    "                        #print(\" x_out: \", x_out)\n",
    "                        #print(\" sample_val: \", x_sample[n, i, j, k])\n",
    "                        #assert False\n",
    "        if debug:\n",
    "            print(\"row\", i)\n",
    "                \n",
    "    return x_sample\n",
    "\n",
    "\n",
    "start = time.time()\n",
    "\n",
    "n = 1 if debug else 10\n",
    "figure = np.zeros((img_rows * ((n - 1) // 10 + 1), img_cols * n, img_chns))\n",
    "print(figure.shape)\n",
    "for i in range(n):\n",
    "    samples = gen_image(model)\n",
    "    for j in range(batch_size):\n",
    "        img = samples[j] \n",
    "        d_x = ((i * batch_size + j) // 10) * img_rows\n",
    "        d_y = ((i * batch_size + j) % 10) * img_cols\n",
    "        figure[d_x:d_x + img_rows, d_y:d_y + img_cols, :] = img\n",
    "        \n",
    "print(\"Generated: \", elapsed)\n",
    "plt.figure(figsize=(5, 5))\n",
    "plt.imshow(figure)\n",
    "plt.show()\n",
    "\n",
    "print(\"Orig: \")\n",
    "plt.figure(figsize=(3, 3))\n",
    "plt.imshow(orig_img)\n",
    "plt.show()\n",
    "\n",
    "done = time.time()\n",
    "elapsed = done - start\n",
    "print(\"Elapsed: \", elapsed)"
   ]
  },
  {
   "cell_type": "markdown",
   "metadata": {},
   "source": [
    "# Validatation\n",
    "\n",
    "Check that we were able to approximately recover the original distributions"
   ]
  },
  {
   "cell_type": "code",
   "execution_count": 34,
   "metadata": {
    "ExecuteTime": {
     "end_time": "2019-03-07T13:53:40.624730Z",
     "start_time": "2019-03-07T13:53:30.390413Z"
    },
    "scrolled": false
   },
   "outputs": [
    {
     "name": "stdout",
     "output_type": "stream",
     "text": [
      "KL Divergence(orig, gen) for (0,0,0): 5.47\n",
      "KL Divergence(orig, gen) for (0,0,1): 5.47\n",
      "KL Divergence(orig, gen) for (0,0,2): 3.10\n",
      "KL Divergence(orig, gen) for (0,1,0): 9.08\n",
      "KL Divergence(orig, gen) for (0,1,1): 6.54\n",
      "KL Divergence(orig, gen) for (0,1,2): 5.73\n",
      "KL Divergence(orig, gen) for (1,0,0): 79.04\n",
      "KL Divergence(orig, gen) for (1,0,1): 5.48\n",
      "KL Divergence(orig, gen) for (1,0,2): 5.91\n",
      "KL Divergence(orig, gen) for (1,1,0): 5.90\n",
      "KL Divergence(orig, gen) for (1,1,1): 6.88\n",
      "KL Divergence(orig, gen) for (1,1,2): 5.43\n"
     ]
    },
    {
     "data": {
      "image/png": "[encoded data removed]",
      "text/plain": [
       "<Figure size 720x576 with 3 Axes>"
      ]
     },
     "metadata": {},
     "output_type": "display_data"
    },
    {
     "data": {
      "image/png": "[encoded data removed]",
      "text/plain": [
       "<Figure size 720x576 with 3 Axes>"
      ]
     },
     "metadata": {},
     "output_type": "display_data"
    },
    {
     "data": {
      "image/png": "[encoded data removed]",
      "text/plain": [
       "<Figure size 720x576 with 3 Axes>"
      ]
     },
     "metadata": {},
     "output_type": "display_data"
    },
    {
     "data": {
      "image/png": "[encoded data removed]",
      "text/plain": [
       "<Figure size 720x576 with 3 Axes>"
      ]
     },
     "metadata": {},
     "output_type": "display_data"
    }
   ],
   "source": [
    "N = 1000\n",
    "\n",
    "# Generated params \n",
    "x_sample = np.zeros((num_samples, img_rows, img_cols, img_chns))\n",
    "x_out = model.predict(x_sample, num_samples)\n",
    "\n",
    "for i in range(img_cols):\n",
    "    for j in range(img_rows):\n",
    "        fig = plt.figure(figsize=(10,8), )\n",
    "        fig.suptitle(\"pixel (%d, %d)\" % (i, j), fontsize=16)\n",
    "        for k in range(img_chns):\n",
    "            ax = plt.subplot(img_chns, 1, k + 1)\n",
    "            \n",
    "            # Orig params\n",
    "            ms = (params[0][i, j, k, :] - 127.5)  / 127.5\n",
    "            invss = np.log(127.5 / params[1][i, j, k, :])\n",
    "            weights = params[2][i, j, k, :]\n",
    "            \n",
    "            pvals_orig = compute_mixture(ms, invss, weights)\n",
    "            pvals_orig /= pvals_orig.sum()\n",
    "            samples = pd.Series(np.random.choice(len(pvals_orig), N, p=pvals_orig))\n",
    "            samples.hist(bins=128, ax=ax, alpha=0.5, label='orig')\n",
    "            \n",
    "            # Generated params\n",
    "            offset = k * n_components\n",
    "            ms = x_out[n, i, j, offset:offset + n_components]\n",
    "            offset = n_components * img_chns + k * n_components\n",
    "            invss = x_out[n, i, j, offset:offset + n_components]\n",
    "            offset = 2 * n_components * img_chns + k * n_components\n",
    "            weights = x_out[n, i, j, offset:offset + n_components]\n",
    "            \n",
    "            pvals_gen = compute_mixture(ms, invss, weights)\n",
    "            pvals_gen /= pvals_gen.sum()\n",
    "            samples = pd.Series(np.random.choice(len(pvals_gen), N, p=pvals_gen))\n",
    "            samples.hist(bins=128, ax=ax, alpha=0.5, label='generated')\n",
    "            \n",
    "            ax.legend()\n",
    "            print('KL Divergence(orig, gen) for (%d,%d,%d): %.2f' % (i, j, k, scipy.stats.entropy(pvals_orig, pvals_gen)))"
   ]
  },
  {
   "cell_type": "code",
   "execution_count": null,
   "metadata": {},
   "outputs": [],
   "source": []
  },
  {
   "cell_type": "code",
   "execution_count": null,
   "metadata": {},
   "outputs": [],
   "source": []
  },
  {
   "cell_type": "code",
   "execution_count": null,
   "metadata": {},
   "outputs": [],
   "source": []
  },
  {
   "cell_type": "markdown",
   "metadata": {
    "slideshow": {
     "slide_type": "slide"
    }
   },
   "source": [
    "# Notes\n",
    "\n"
   ]
  },
  {
   "cell_type": "markdown",
   "metadata": {},
   "source": [
    "### 2019-03-07\n",
    "\n",
    " * It looks like my generated distributions are spreading too much mass over the range, which might be because I'm allowing the \"invs\" param to be small (< 1), which will naturally spread it very wide.  The model probably gets confused in these situations and finds a local minima that spreads it wide instead of using the power of the mixtures.  Maybe try to constrain it a bit more?\n",
    " \n",
    "<img src=\"images/2019-03-07-spread.png\">\n",
    "\n",
    " * Tried to make \"invs\" to be in range (2, 7), but it looks like it made the spreading worse.  It looks like these bimodal distributions aren't using the weights properly.  Maybe I need to debug my loss function?  The mixture maybe aren't being taken into account properly?\n",
    "\n",
    "### 2019-03-03\n",
    "\n",
    "Issues:\n",
    "    \n",
    "    * Wrong order of RGB slices when repeating image\n",
    "    * Used old 255. value vs. 127.5\n",
    "    * Added non-zero init to param values\n",
    "    \n",
    "Next TODO:\n",
    "\n",
    "    * Plot histograms of 0 to 255 pixel values, somehow see that the mass is the same?\n",
    "    * Maybe KL divergence?"
   ]
  },
  {
   "cell_type": "code",
   "execution_count": null,
   "metadata": {},
   "outputs": [],
   "source": []
  }
 ],
 "metadata": {
  "celltoolbar": "Slideshow",
  "kernelspec": {
   "display_name": "Python 3",
   "language": "python",
   "name": "python3"
  },
  "language_info": {
   "codemirror_mode": {
    "name": "ipython",
    "version": 3
   },
   "file_extension": ".py",
   "mimetype": "text/x-python",
   "name": "python",
   "nbconvert_exporter": "python",
   "pygments_lexer": "ipython3",
   "version": "3.6.5"
  },
  "widgets": {
   "state": {
    "042d9353a5294a1cae93f8eb9e9a3c84": {
     "views": [
      {
       "cell_index": 12
      }
     ]
    },
    "05e25527c52843438585a66b7e9f443c": {
     "views": [
      {
       "cell_index": 12
      }
     ]
    },
    "06fdc638a3dc45a0a1e82f2b3c90c18d": {
     "views": [
      {
       "cell_index": 12
      }
     ]
    },
    "07f49ab2133c40a4a245e0a348843084": {
     "views": [
      {
       "cell_index": 12
      }
     ]
    },
    "12369f27c46c46f58c925a3d9749e65d": {
     "views": [
      {
       "cell_index": 12
      }
     ]
    },
    "16bcb109a6814007801cf814c76aa6d3": {
     "views": [
      {
       "cell_index": 12
      }
     ]
    },
    "1930a5477ce44850aaa99c20f3f7e542": {
     "views": [
      {
       "cell_index": 12
      }
     ]
    },
    "194b186d11d94c28afd8a01d9fd8ae1e": {
     "views": [
      {
       "cell_index": 12
      }
     ]
    },
    "1ccc61b6a278489eacb5735a740e79bf": {
     "views": [
      {
       "cell_index": 12
      }
     ]
    },
    "1d67ae6836244a81bff253e0426488ff": {
     "views": [
      {
       "cell_index": 12
      }
     ]
    },
    "213bd5ec7a124467b85e240c7bdcc819": {
     "views": [
      {
       "cell_index": 12
      }
     ]
    },
    "23c591bc3a7e4df5b0e21677e2869f27": {
     "views": [
      {
       "cell_index": 12
      }
     ]
    },
    "24382361c62a4bbc9741c2129be71810": {
     "views": [
      {
       "cell_index": 12
      }
     ]
    },
    "24419d69ef3347819fcc70448978bf05": {
     "views": [
      {
       "cell_index": 12
      }
     ]
    },
    "25ecd0ca842e43fcabc04a82fff2dac1": {
     "views": [
      {
       "cell_index": 12
      }
     ]
    },
    "26bab0144edd46609ddcdd6bfd65115f": {
     "views": [
      {
       "cell_index": 12
      }
     ]
    },
    "28707906c2344d00b07ee40c479121db": {
     "views": [
      {
       "cell_index": 12
      }
     ]
    },
    "287646592b8e41f2920e73c7e92d2ec0": {
     "views": [
      {
       "cell_index": 12
      }
     ]
    },
    "28a8916064514ce7912c103e7370ad47": {
     "views": [
      {
       "cell_index": 12
      }
     ]
    },
    "2a100dade8384007bf4abf580068cdc3": {
     "views": [
      {
       "cell_index": 12
      }
     ]
    },
    "2b28c9ea3e5b4950bdfcd897162bd56d": {
     "views": [
      {
       "cell_index": 12
      }
     ]
    },
    "2b5b08661aee4f9296e0878cb4ce041b": {
     "views": [
      {
       "cell_index": 12
      }
     ]
    },
    "2bd96fa1931842749cd9ba68345a4132": {
     "views": [
      {
       "cell_index": 12
      }
     ]
    },
    "32a97da73a594458a7080928d0aa12a4": {
     "views": [
      {
       "cell_index": 12
      }
     ]
    },
    "33a124f13a124b64bbca8a0a4a96999c": {
     "views": [
      {
       "cell_index": 12
      }
     ]
    },
    "3477d40608834aca90d0f57b44f7b3e7": {
     "views": [
      {
       "cell_index": 12
      }
     ]
    },
    "357ae9996a19410e98f131fc86e2c937": {
     "views": [
      {
       "cell_index": 12
      }
     ]
    },
    "3a1b2c52257843549c64aedde0be827c": {
     "views": [
      {
       "cell_index": 12
      }
     ]
    },
    "3a685442e38243f5a601d54d59c37fdd": {
     "views": [
      {
       "cell_index": 12
      }
     ]
    },
    "3ac750287e394cc281f1dc3487e94df6": {
     "views": [
      {
       "cell_index": 12
      }
     ]
    },
    "3afef162a0304210973a3797acf40cab": {
     "views": [
      {
       "cell_index": 12
      }
     ]
    },
    "3c47ecdd65c049cfa66eb21ad8fd933b": {
     "views": [
      {
       "cell_index": 12
      }
     ]
    },
    "40b3e13fb5ae4ceda47aa8542106d365": {
     "views": [
      {
       "cell_index": 12
      }
     ]
    },
    "439afcda2d4e4ce9af1ea7024a9bd0b5": {
     "views": [
      {
       "cell_index": 12
      }
     ]
    },
    "440c8e7f865840019dd96476fe5fe1bc": {
     "views": [
      {
       "cell_index": 12
      }
     ]
    },
    "4480a3d377a748c5bbd202d71b80b323": {
     "views": [
      {
       "cell_index": 12
      }
     ]
    },
    "4692e78886d942c982ddd2a97a55f649": {
     "views": [
      {
       "cell_index": 12
      }
     ]
    },
    "47282faa187746bb8339a4fb4ac58068": {
     "views": [
      {
       "cell_index": 12
      }
     ]
    },
    "4a1af9ac778a45d8baac52255b6aaac0": {
     "views": [
      {
       "cell_index": 12
      }
     ]
    },
    "4a7ca0764c1d4f4e8c818452e0faad22": {
     "views": [
      {
       "cell_index": 12
      }
     ]
    },
    "4f9ead92babf43a6a7c2dbe03bc199e1": {
     "views": [
      {
       "cell_index": 12
      }
     ]
    },
    "4fe4e6c7a7c04da0b82eedfee59f123c": {
     "views": [
      {
       "cell_index": 12
      }
     ]
    },
    "509696b56ebd4c078824720adfb9c882": {
     "views": [
      {
       "cell_index": 12
      }
     ]
    },
    "5288b8c03d57497384001bd545f9473a": {
     "views": [
      {
       "cell_index": 12
      }
     ]
    },
    "54c0486d9d194fd89a425f8bfe8abffd": {
     "views": [
      {
       "cell_index": 12
      }
     ]
    },
    "5591146f394445e9a7562bfbeba3b210": {
     "views": [
      {
       "cell_index": 12
      }
     ]
    },
    "569e07a8c03b417a8bec640521c1e8d8": {
     "views": [
      {
       "cell_index": 12
      }
     ]
    },
    "56d382118cbe49f09c5518839d1309ee": {
     "views": [
      {
       "cell_index": 12
      }
     ]
    },
    "58879c6ef3904577a0d0ca261361d888": {
     "views": [
      {
       "cell_index": 12
      }
     ]
    },
    "59de165a886a4dcd855ec33e4682bd2d": {
     "views": [
      {
       "cell_index": 12
      }
     ]
    },
    "5d835fe3d36c41d9b140f25c874e02e7": {
     "views": [
      {
       "cell_index": 12
      }
     ]
    },
    "5dcb1825f8f945509c1521456ec8802f": {
     "views": [
      {
       "cell_index": 12
      }
     ]
    },
    "5fc113b88db343038e6190f2e2e1df1e": {
     "views": [
      {
       "cell_index": 12
      }
     ]
    },
    "601e0344661243299a2a6d382458f93a": {
     "views": [
      {
       "cell_index": 12
      }
     ]
    },
    "6060d310a5e34896a7156115cc6c3b43": {
     "views": [
      {
       "cell_index": 12
      }
     ]
    },
    "607439f270cb405cad0280cd5bf035bf": {
     "views": [
      {
       "cell_index": 12
      }
     ]
    },
    "695d75c78b7148a4a7c84d57bed02c35": {
     "views": [
      {
       "cell_index": 12
      }
     ]
    },
    "6b76037650064c71afc1ef43cea3b884": {
     "views": [
      {
       "cell_index": 12
      }
     ]
    },
    "6ec89ae257604fa0a672b9c0042d1c53": {
     "views": [
      {
       "cell_index": 12
      }
     ]
    },
    "70dfa87054284e3d84cd08df8bfbf705": {
     "views": [
      {
       "cell_index": 12
      }
     ]
    },
    "70fefa448a124b56bec948f54c0fe1fc": {
     "views": [
      {
       "cell_index": 12
      }
     ]
    },
    "73deeee41eb04b1c9b5d12164159f500": {
     "views": [
      {
       "cell_index": 12
      }
     ]
    },
    "74df7b1ee69449e6a6733da633e4c583": {
     "views": [
      {
       "cell_index": 12
      }
     ]
    },
    "75c980fe55484a15b5fadf86960e6984": {
     "views": [
      {
       "cell_index": 12
      }
     ]
    },
    "770dfa1b77ed46258fd936b4a5b002f7": {
     "views": [
      {
       "cell_index": 12
      }
     ]
    },
    "79b014c35bb64afd98775e32a56c8469": {
     "views": [
      {
       "cell_index": 12
      }
     ]
    },
    "7b97837f50464a0194b38acd2ee83d07": {
     "views": [
      {
       "cell_index": 12
      }
     ]
    },
    "7df60277eba44da5acc4ae70299cd1db": {
     "views": [
      {
       "cell_index": 12
      }
     ]
    },
    "7e9f3f789dd9472189a557183640b7c9": {
     "views": [
      {
       "cell_index": 12
      }
     ]
    },
    "7eb10ea82e954391a3733334c4276916": {
     "views": [
      {
       "cell_index": 12
      }
     ]
    },
    "7fe51828fd9745e9bad8a4632d35a137": {
     "views": [
      {
       "cell_index": 12
      }
     ]
    },
    "807fe4bc5122427a8d991815a0afdefe": {
     "views": [
      {
       "cell_index": 12
      }
     ]
    },
    "82b2dfaaeca94ac7871eb714ebf0bd24": {
     "views": [
      {
       "cell_index": 12
      }
     ]
    },
    "83eb650f527a42e9a904a1dc3489226e": {
     "views": [
      {
       "cell_index": 12
      }
     ]
    },
    "84c3b92deb524251aae620eb42b81d57": {
     "views": [
      {
       "cell_index": 12
      }
     ]
    },
    "85ca8ba9ed1c4fc1bd9f636d4efb13a2": {
     "views": [
      {
       "cell_index": 12
      }
     ]
    },
    "8a803cf98b4a4ad38b46389cd0cbc624": {
     "views": [
      {
       "cell_index": 12
      }
     ]
    },
    "8f271df026484a06be2f6509462c42ed": {
     "views": [
      {
       "cell_index": 12
      }
     ]
    },
    "8f2d4f8192c4455a922e9f4f4388b10a": {
     "views": [
      {
       "cell_index": 12
      }
     ]
    },
    "99722895709c48d7baca4359ce30f165": {
     "views": [
      {
       "cell_index": 12
      }
     ]
    },
    "9994b42dd71f4dcb8412076e04f74af1": {
     "views": [
      {
       "cell_index": 12
      }
     ]
    },
    "9c65331cb7044f07bea6f1dcd02be34e": {
     "views": [
      {
       "cell_index": 12
      }
     ]
    },
    "9d93b50dddb843ffb3192fa7463d1eb3": {
     "views": [
      {
       "cell_index": 12
      }
     ]
    },
    "9ddcff6b73e84b71bb72cbaf509b6d7d": {
     "views": [
      {
       "cell_index": 12
      }
     ]
    },
    "9ff602ebdfe446f8a7973c18b0b9c448": {
     "views": [
      {
       "cell_index": 12
      }
     ]
    },
    "a13b7297bcfd48aeb1f6adeb79c6907e": {
     "views": [
      {
       "cell_index": 12
      }
     ]
    },
    "a2d8253207ff47c196ec18d0c3e292fc": {
     "views": [
      {
       "cell_index": 12
      }
     ]
    },
    "a447bd0d14cf402b844ccef55b5e2d6e": {
     "views": [
      {
       "cell_index": 12
      }
     ]
    },
    "a8fd29c4d7474543bfb283fe1bc22752": {
     "views": [
      {
       "cell_index": 12
      }
     ]
    },
    "a938e8c6d6f54d119dc4e0fc6591ceb2": {
     "views": [
      {
       "cell_index": 12
      }
     ]
    },
    "abb7603ed5cc4ea7a3e9133abc83daab": {
     "views": [
      {
       "cell_index": 12
      }
     ]
    },
    "abd62c0bee8d4a1d93a95b31b9aaf486": {
     "views": [
      {
       "cell_index": 12
      }
     ]
    },
    "ac5eaac0d0bc4bdc899be9b7c7609004": {
     "views": [
      {
       "cell_index": 12
      }
     ]
    },
    "ac8d814446504f1fb7359e84efc877df": {
     "views": [
      {
       "cell_index": 12
      }
     ]
    },
    "aecfd70ffbbb491296ddfead5c3e676c": {
     "views": [
      {
       "cell_index": 12
      }
     ]
    },
    "b012c12df7ec4de5bee68e9f10c67227": {
     "views": [
      {
       "cell_index": 12
      }
     ]
    },
    "b0413da85a834535bf0910a1a2049cf4": {
     "views": [
      {
       "cell_index": 12
      }
     ]
    },
    "b3e05cfa4dfb44e8aec6501b481e740a": {
     "views": [
      {
       "cell_index": 12
      }
     ]
    },
    "b8e7a6d97abc49eb8b24af81997c814b": {
     "views": [
      {
       "cell_index": 12
      }
     ]
    },
    "b958fd557b674353b4513a1223d1a451": {
     "views": [
      {
       "cell_index": 12
      }
     ]
    },
    "bc39a43c23b9496fb53533370e7f076b": {
     "views": [
      {
       "cell_index": 12
      }
     ]
    },
    "bcb5c68f5f9640ffbc0d14af2a8d2609": {
     "views": [
      {
       "cell_index": 12
      }
     ]
    },
    "c1a529e546e84cfe858abc405448a31c": {
     "views": [
      {
       "cell_index": 12
      }
     ]
    },
    "c51f1c60f93c4707808116607aceb523": {
     "views": [
      {
       "cell_index": 12
      }
     ]
    },
    "c6cefa23028c47d1a9b8e34f2173662b": {
     "views": [
      {
       "cell_index": 12
      }
     ]
    },
    "c867ce48830d48ff838c535f911cde38": {
     "views": [
      {
       "cell_index": 12
      }
     ]
    },
    "cc1c3c0a394049c7817525d4c0dbc660": {
     "views": [
      {
       "cell_index": 12
      }
     ]
    },
    "ce61c3f1b09d4b7aaaa04b999968853b": {
     "views": [
      {
       "cell_index": 12
      }
     ]
    },
    "ced5cb09460b44f2b3cb07cd26ba2d80": {
     "views": [
      {
       "cell_index": 12
      }
     ]
    },
    "d0a64a823a4649898b5ef2ae2f1bbe27": {
     "views": [
      {
       "cell_index": 12
      }
     ]
    },
    "d2307dd3ea50414580c68a01944b6609": {
     "views": [
      {
       "cell_index": 12
      }
     ]
    },
    "d73036ff5b9a463aa2d560cc98e09a99": {
     "views": [
      {
       "cell_index": 12
      }
     ]
    },
    "d8bff5fe3809457696452bd7d37b0163": {
     "views": [
      {
       "cell_index": 12
      }
     ]
    },
    "da29d43a5fbd4d0db082c70348e5783e": {
     "views": [
      {
       "cell_index": 12
      }
     ]
    },
    "dcbbfefe63b849b29b2c6f2c445f9d44": {
     "views": [
      {
       "cell_index": 12
      }
     ]
    },
    "de65778ccbf74269a7aecafe0f4a84e9": {
     "views": [
      {
       "cell_index": 12
      }
     ]
    },
    "e2f426df16ea437cb3eb19a6e29718d3": {
     "views": [
      {
       "cell_index": 12
      }
     ]
    },
    "e331ecdfb1034be78954606b29282291": {
     "views": [
      {
       "cell_index": 12
      }
     ]
    },
    "e57c668870b044aab6fb89a073374887": {
     "views": [
      {
       "cell_index": 12
      }
     ]
    },
    "e7d90b37142d4468a9a3f88fe5e7ebe5": {
     "views": [
      {
       "cell_index": 12
      }
     ]
    },
    "e7dfb79db2074d32b546b0f5b35d037a": {
     "views": [
      {
       "cell_index": 12
      }
     ]
    },
    "ea7dc8f6b6904a098cc8bcd3cccb0f09": {
     "views": [
      {
       "cell_index": 12
      }
     ]
    },
    "ead95701b3c948fe810264c9f916c701": {
     "views": [
      {
       "cell_index": 12
      }
     ]
    },
    "ec1f20b0a9a848a785617463aed63555": {
     "views": [
      {
       "cell_index": 12
      }
     ]
    },
    "ef7271ab301c4d52b331707746f9638e": {
     "views": [
      {
       "cell_index": 12
      }
     ]
    },
    "f057baa922394139936146319110c770": {
     "views": [
      {
       "cell_index": 12
      }
     ]
    },
    "f07a509b915040e08e37ababd37b7cf1": {
     "views": [
      {
       "cell_index": 12
      }
     ]
    },
    "f259740c24a24bb3a309aec954f66fe3": {
     "views": [
      {
       "cell_index": 12
      }
     ]
    },
    "f612f1c9698d4be4bb42c2f0e2c69108": {
     "views": [
      {
       "cell_index": 12
      }
     ]
    },
    "f6efb652598c41549a9f19b2f9ceff2b": {
     "views": [
      {
       "cell_index": 12
      }
     ]
    },
    "f97ed4db90d24d88a228ac1e52375a0c": {
     "views": [
      {
       "cell_index": 12
      }
     ]
    },
    "fd43e083f58d43a68688581cdf48acab": {
     "views": [
      {
       "cell_index": 12
      }
     ]
    },
    "fda46d318b0941c19dfe61eb3e02cb23": {
     "views": [
      {
       "cell_index": 12
      }
     ]
    },
    "fe6b5b3475984be890e4e11f3e5d3ef1": {
     "views": [
      {
       "cell_index": 12
      }
     ]
    }
   },
   "version": "1.2.0"
  }
 },
 "nbformat": 4,
 "nbformat_minor": 2
}
