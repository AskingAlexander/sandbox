{
 "cells": [
  {
   "cell_type": "code",
   "execution_count": 1,
   "metadata": {
    "ExecuteTime": {
     "end_time": "2019-07-06T15:10:30.909440Z",
     "start_time": "2019-07-06T15:10:29.260976Z"
    },
    "slideshow": {
     "slide_type": "slide"
    }
   },
   "outputs": [
    {
     "name": "stderr",
     "output_type": "stream",
     "text": [
      "/home/brian/anaconda3/lib/python3.6/site-packages/h5py/__init__.py:36: FutureWarning: Conversion of the second argument of issubdtype from `float` to `np.floating` is deprecated. In future, it will be treated as `np.float64 == np.dtype(float).type`.\n",
      "  from ._conv import register_converters as _register_converters\n",
      "Using TensorFlow backend.\n"
     ]
    }
   ],
   "source": [
    "%matplotlib inline\n",
    "%load_ext line_profiler\n",
    "import numpy as np\n",
    "import os\n",
    "import time\n",
    "import h5py\n",
    "import keras\n",
    "import pandas as pd\n",
    "import math\n",
    "import joblib\n",
    "import json\n",
    "import matplotlib.pyplot as plt\n",
    "from scipy.stats import logistic\n",
    "from scipy.special import softmax\n",
    "\n",
    "from IPython.display import display\n",
    "\n",
    "from sklearn.metrics import accuracy_score\n",
    "from sklearn.model_selection import StratifiedShuffleSplit\n",
    "\n",
    "from keras.layers import (Input, Dense, Lambda, Flatten, Reshape, BatchNormalization, \n",
    "                          Activation, Dropout, Conv2D, Conv2DTranspose,\n",
    "                          Concatenate, Add, Multiply)\n",
    "from keras.engine import InputSpec\n",
    "from keras.optimizers import RMSprop, Adam, SGD\n",
    "from keras.models import Model\n",
    "from keras.utils import to_categorical\n",
    "from keras import metrics\n",
    "from keras import backend as K\n",
    "from keras_tqdm import TQDMNotebookCallback\n",
    "from keras.datasets import cifar10\n",
    "from keras.preprocessing.image import ImageDataGenerator\n",
    "\n",
    "import tensorflow as tf\n",
    "\n",
    "from pixelcnn_helpers import pixelcnn_loss, sigmoid, compute_pvals, compute_mixture, PixelConv2D"
   ]
  },
  {
   "cell_type": "markdown",
   "metadata": {
    "slideshow": {
     "slide_type": "slide"
    }
   },
   "source": [
    "# Parameters"
   ]
  },
  {
   "cell_type": "code",
   "execution_count": 2,
   "metadata": {
    "ExecuteTime": {
     "end_time": "2019-07-06T15:10:30.918018Z",
     "start_time": "2019-07-06T15:10:30.911284Z"
    }
   },
   "outputs": [],
   "source": [
    "#img_rows, img_cols, img_chns = 8, 8, 3\n",
    "img_rows, img_cols, img_chns = 32, 32, 3\n",
    "original_img_size = (img_rows, img_cols, img_chns)\n",
    "\n",
    "# Debug params\n",
    "num_sample = 60000\n",
    "\n",
    "# Hyper params\n",
    "batch_size = int(os.environ.get('BATCH_SIZE', 16))\n",
    "epochs = int(os.environ.get('EPOCHS', 1000))\n",
    "learning_rate = float(os.environ.get('LEARNING_RATE', 0.001))\n",
    "mixture_components = int(os.environ.get('MIXTURE_COMPONENTS', 5))"
   ]
  },
  {
   "cell_type": "markdown",
   "metadata": {},
   "source": [
    "# Extract Test Image"
   ]
  },
  {
   "cell_type": "code",
   "execution_count": 3,
   "metadata": {
    "ExecuteTime": {
     "end_time": "2019-07-06T15:10:31.653761Z",
     "start_time": "2019-07-06T15:10:30.919826Z"
    }
   },
   "outputs": [
    {
     "name": "stdout",
     "output_type": "stream",
     "text": [
      "(50000, 32, 32, 3)\n",
      "(10000, 32, 32, 3)\n"
     ]
    }
   ],
   "source": [
    "(X_train, y_train), (X_test, y_test) = cifar10.load_data()\n",
    "X_train = X_train[:num_sample, :img_rows, :img_cols, :img_chns].astype(float)\n",
    "X_train_orig = X_train\n",
    "y_train = y_train[:num_sample]\n",
    "\n",
    "# add some random noise\n",
    "#np.random.seed(0)\n",
    "#X_train_processed = []\n",
    "#for i in range(10):\n",
    "#    for num, x in enumerate(X_train):\n",
    "#        x = x.copy()\n",
    "#        x += np.random.normal(0, 7)\n",
    "#        X_train_processed.append(x.clip(0., 255.))\n",
    "#        \n",
    "#X_test = X_train\n",
    "#X_train = np.array(X_train_processed)\n",
    "\n",
    "print(X_train.shape)\n",
    "print(X_test.shape)"
   ]
  },
  {
   "cell_type": "code",
   "execution_count": 4,
   "metadata": {
    "ExecuteTime": {
     "end_time": "2019-07-06T15:10:31.657805Z",
     "start_time": "2019-07-06T15:10:31.655465Z"
    }
   },
   "outputs": [],
   "source": [
    "#display(X_train_orig[0])\n",
    "#display(X_train[0])\n",
    "pass"
   ]
  },
  {
   "cell_type": "code",
   "execution_count": 5,
   "metadata": {
    "ExecuteTime": {
     "end_time": "2019-07-06T15:10:31.755801Z",
     "start_time": "2019-07-06T15:10:31.659280Z"
    }
   },
   "outputs": [],
   "source": [
    "#for i in range(min(num_sample * 10, len(X_train))):\n",
    "#    plt.figure(figsize=(2, 2))\n",
    "#    plt.imshow(X_train_orig[i % len(X_train_orig)] / 255.)\n",
    "#    plt.show()\n",
    "#    plt.figure(figsize=(2, 2))\n",
    "#    plt.imshow(X_train[i] / 255.)\n",
    "#    plt.show()"
   ]
  },
  {
   "cell_type": "code",
   "execution_count": 6,
   "metadata": {
    "ExecuteTime": {
     "end_time": "2019-07-06T15:10:32.816200Z",
     "start_time": "2019-07-06T15:10:31.757371Z"
    },
    "slideshow": {
     "slide_type": "subslide"
    }
   },
   "outputs": [
    {
     "name": "stdout",
     "output_type": "stream",
     "text": [
      "(50000, 32, 32, 3) (50000, 10)\n",
      "(10000, 32, 32, 3) (10000, 10)\n"
     ]
    }
   ],
   "source": [
    "# Shift/scale to [-1, 1] interval\n",
    "X_train = (X_train - 127.5) / 127.5\n",
    "X_test = (X_test - 127.5) / 127.5\n",
    "\n",
    "y_train = to_categorical(y_train, num_classes=10)\n",
    "y_test = to_categorical(y_test, num_classes=10)\n",
    "\n",
    "print(X_train.shape, y_train.shape)\n",
    "print(X_test.shape, y_test.shape)"
   ]
  },
  {
   "cell_type": "markdown",
   "metadata": {},
   "source": [
    "# Model"
   ]
  },
  {
   "cell_type": "code",
   "execution_count": 7,
   "metadata": {
    "ExecuteTime": {
     "end_time": "2019-07-06T15:10:32.830591Z",
     "start_time": "2019-07-06T15:10:32.817826Z"
    }
   },
   "outputs": [],
   "source": [
    "if K.image_data_format() == 'channels_last':\n",
    "    bn_axis = 3\n",
    "else:\n",
    "    bn_axis = 1\n",
    "    \n",
    "    \n",
    "def conv_block(input_tensor, filters, kernel_size, name, is_first=False):\n",
    "    outs = []\n",
    "    for t in ['rb', 'gb', 'bb']:\n",
    "        if is_first:\n",
    "            t = t[0] + 'a'\n",
    "        x = PixelConv2D(t, filters, kernel_size, name='res' + name + t, padding='same')(input_tensor)\n",
    "        x = Activation('relu')(x)\n",
    "        outs.append(x)\n",
    "        \n",
    "    return Concatenate()(outs)\n",
    "\n",
    "\n",
    "def resnet_block(input_tensor, filters, stage, block, kernel=3):\n",
    "    name_base = str(stage) + block + '_branch'\n",
    "    filters1, filters2, filters3 = filters\n",
    "    x = input_tensor\n",
    "    x = conv_block(x, filters1, (1, 1), name=name_base + '_a-1x1')\n",
    "    x = conv_block(x, filters2, (kernel, kernel), name=name_base + '_b-{}x{}'.format(kernel, kernel))\n",
    "    x = conv_block(x, filters3, (1, 1), name=name_base + '_c-1x1')\n",
    "    x = Add()([x, input_tensor])\n",
    "    \n",
    "    return x\n",
    "\n",
    "\n",
    "def final_block(input_tensor, filters, in_filters, name, kernel_size=(1, 1)):\n",
    "    outs = []\n",
    "    channel_name = 'rgb'\n",
    "    for t in ['rb', 'gb', 'bb']:\n",
    "        x = PixelConv2D(t, filters, kernel_size, \n",
    "                        name='final' + name + '_' + t,\n",
    "                        padding='same')(input_tensor)\n",
    "        x = Activation('relu')(x)\n",
    "        outs.append(x)\n",
    "        \n",
    "    return Concatenate()(outs)\n",
    "\n",
    "\n",
    "def build_outputs(input_tensor, final_filters):\n",
    "    m_outs = []\n",
    "    invs_outs = []\n",
    "    weights = []\n",
    "    x = input_tensor\n",
    "    for t in ['rb', 'gb', 'bb']:\n",
    "        # Only allow things behind it...\n",
    "        decoder_out_m = PixelConv2D(t, name='x_m' + str(t),\n",
    "                                    filters=mixture_components,\n",
    "                                    kernel_size=1,\n",
    "                                    strides=1)(x)\n",
    "        decoder_out_invs = PixelConv2D(t, name='x_s' + str(t),\n",
    "                                        filters=mixture_components,\n",
    "                                        kernel_size=1,\n",
    "                                        strides=1,\n",
    "                                        activation='softplus')(x)\n",
    "        #decoder_out_invs = Lambda(lambda x: 4.0 * x)(decoder_out_invs_)\n",
    "        mixture_weights = PixelConv2D(t, name='weights' + str(t),\n",
    "                                      filters=mixture_components,\n",
    "                                      kernel_size=1,\n",
    "                                      strides=1)(x)\n",
    "        m_outs.append(decoder_out_m)\n",
    "        invs_outs.append(decoder_out_invs)\n",
    "        weights.append(mixture_weights)\n",
    "    \n",
    "    out_m = Concatenate()(m_outs)       \n",
    "    out_invs = Concatenate()(invs_outs)       \n",
    "    out_mixture = Concatenate()(weights)       \n",
    "    return Concatenate()([out_m, out_invs, out_mixture])"
   ]
  },
  {
   "cell_type": "code",
   "execution_count": 8,
   "metadata": {
    "ExecuteTime": {
     "end_time": "2019-07-06T15:10:35.597235Z",
     "start_time": "2019-07-06T15:10:32.832329Z"
    },
    "scrolled": true,
    "slideshow": {
     "slide_type": "slide"
    }
   },
   "outputs": [
    {
     "name": "stdout",
     "output_type": "stream",
     "text": [
      "Building conv layers...\n",
      "Building output layers...\n",
      "Building model...\n",
      "__________________________________________________________________________________________________\n",
      "Layer (type)                    Output Shape         Param #     Connected to                     \n",
      "==================================================================================================\n",
      "main_input (InputLayer)         (None, 32, 32, 3)    0                                            \n",
      "__________________________________________________________________________________________________\n",
      "resconv1ra (PixelConv2D)        (None, 32, 32, 256)  19456       main_input[0][0]                 \n",
      "__________________________________________________________________________________________________\n",
      "resconv1ga (PixelConv2D)        (None, 32, 32, 256)  19456       main_input[0][0]                 \n",
      "__________________________________________________________________________________________________\n",
      "resconv1ba (PixelConv2D)        (None, 32, 32, 256)  19456       main_input[0][0]                 \n",
      "__________________________________________________________________________________________________\n",
      "activation_1 (Activation)       (None, 32, 32, 256)  0           resconv1ra[0][0]                 \n",
      "__________________________________________________________________________________________________\n",
      "activation_2 (Activation)       (None, 32, 32, 256)  0           resconv1ga[0][0]                 \n",
      "__________________________________________________________________________________________________\n",
      "activation_3 (Activation)       (None, 32, 32, 256)  0           resconv1ba[0][0]                 \n",
      "__________________________________________________________________________________________________\n",
      "concatenate_1 (Concatenate)     (None, 32, 32, 768)  0           activation_1[0][0]               \n",
      "                                                                 activation_2[0][0]               \n",
      "                                                                 activation_3[0][0]               \n",
      "__________________________________________________________________________________________________\n",
      "res0a_branch_a-1x1rb (PixelConv (None, 32, 32, 128)  98432       concatenate_1[0][0]              \n",
      "__________________________________________________________________________________________________\n",
      "res0a_branch_a-1x1gb (PixelConv (None, 32, 32, 128)  98432       concatenate_1[0][0]              \n",
      "__________________________________________________________________________________________________\n",
      "res0a_branch_a-1x1bb (PixelConv (None, 32, 32, 128)  98432       concatenate_1[0][0]              \n",
      "__________________________________________________________________________________________________\n",
      "activation_4 (Activation)       (None, 32, 32, 128)  0           res0a_branch_a-1x1rb[0][0]       \n",
      "__________________________________________________________________________________________________\n",
      "activation_5 (Activation)       (None, 32, 32, 128)  0           res0a_branch_a-1x1gb[0][0]       \n",
      "__________________________________________________________________________________________________\n",
      "activation_6 (Activation)       (None, 32, 32, 128)  0           res0a_branch_a-1x1bb[0][0]       \n",
      "__________________________________________________________________________________________________\n",
      "concatenate_2 (Concatenate)     (None, 32, 32, 384)  0           activation_4[0][0]               \n",
      "                                                                 activation_5[0][0]               \n",
      "                                                                 activation_6[0][0]               \n",
      "__________________________________________________________________________________________________\n",
      "res0a_branch_b-3x3rb (PixelConv (None, 32, 32, 128)  442496      concatenate_2[0][0]              \n",
      "__________________________________________________________________________________________________\n",
      "res0a_branch_b-3x3gb (PixelConv (None, 32, 32, 128)  442496      concatenate_2[0][0]              \n",
      "__________________________________________________________________________________________________\n",
      "res0a_branch_b-3x3bb (PixelConv (None, 32, 32, 128)  442496      concatenate_2[0][0]              \n",
      "__________________________________________________________________________________________________\n",
      "activation_7 (Activation)       (None, 32, 32, 128)  0           res0a_branch_b-3x3rb[0][0]       \n",
      "__________________________________________________________________________________________________\n",
      "activation_8 (Activation)       (None, 32, 32, 128)  0           res0a_branch_b-3x3gb[0][0]       \n",
      "__________________________________________________________________________________________________\n",
      "activation_9 (Activation)       (None, 32, 32, 128)  0           res0a_branch_b-3x3bb[0][0]       \n",
      "__________________________________________________________________________________________________\n",
      "concatenate_3 (Concatenate)     (None, 32, 32, 384)  0           activation_7[0][0]               \n",
      "                                                                 activation_8[0][0]               \n",
      "                                                                 activation_9[0][0]               \n",
      "__________________________________________________________________________________________________\n",
      "res0a_branch_c-1x1rb (PixelConv (None, 32, 32, 256)  98560       concatenate_3[0][0]              \n",
      "__________________________________________________________________________________________________\n",
      "res0a_branch_c-1x1gb (PixelConv (None, 32, 32, 256)  98560       concatenate_3[0][0]              \n",
      "__________________________________________________________________________________________________\n",
      "res0a_branch_c-1x1bb (PixelConv (None, 32, 32, 256)  98560       concatenate_3[0][0]              \n",
      "__________________________________________________________________________________________________\n",
      "activation_10 (Activation)      (None, 32, 32, 256)  0           res0a_branch_c-1x1rb[0][0]       \n",
      "__________________________________________________________________________________________________\n",
      "activation_11 (Activation)      (None, 32, 32, 256)  0           res0a_branch_c-1x1gb[0][0]       \n",
      "__________________________________________________________________________________________________\n",
      "activation_12 (Activation)      (None, 32, 32, 256)  0           res0a_branch_c-1x1bb[0][0]       \n",
      "__________________________________________________________________________________________________\n",
      "concatenate_4 (Concatenate)     (None, 32, 32, 768)  0           activation_10[0][0]              \n",
      "                                                                 activation_11[0][0]              \n",
      "                                                                 activation_12[0][0]              \n",
      "__________________________________________________________________________________________________\n",
      "add_1 (Add)                     (None, 32, 32, 768)  0           concatenate_4[0][0]              \n",
      "                                                                 concatenate_1[0][0]              \n",
      "__________________________________________________________________________________________________\n",
      "res1a_branch_a-1x1rb (PixelConv (None, 32, 32, 128)  98432       add_1[0][0]                      \n",
      "__________________________________________________________________________________________________\n",
      "res1a_branch_a-1x1gb (PixelConv (None, 32, 32, 128)  98432       add_1[0][0]                      \n",
      "__________________________________________________________________________________________________\n",
      "res1a_branch_a-1x1bb (PixelConv (None, 32, 32, 128)  98432       add_1[0][0]                      \n",
      "__________________________________________________________________________________________________\n",
      "activation_13 (Activation)      (None, 32, 32, 128)  0           res1a_branch_a-1x1rb[0][0]       \n",
      "__________________________________________________________________________________________________\n",
      "activation_14 (Activation)      (None, 32, 32, 128)  0           res1a_branch_a-1x1gb[0][0]       \n",
      "__________________________________________________________________________________________________\n",
      "activation_15 (Activation)      (None, 32, 32, 128)  0           res1a_branch_a-1x1bb[0][0]       \n",
      "__________________________________________________________________________________________________\n",
      "concatenate_5 (Concatenate)     (None, 32, 32, 384)  0           activation_13[0][0]              \n",
      "                                                                 activation_14[0][0]              \n",
      "                                                                 activation_15[0][0]              \n",
      "__________________________________________________________________________________________________\n",
      "res1a_branch_b-3x3rb (PixelConv (None, 32, 32, 128)  442496      concatenate_5[0][0]              \n",
      "__________________________________________________________________________________________________\n",
      "res1a_branch_b-3x3gb (PixelConv (None, 32, 32, 128)  442496      concatenate_5[0][0]              \n",
      "__________________________________________________________________________________________________\n",
      "res1a_branch_b-3x3bb (PixelConv (None, 32, 32, 128)  442496      concatenate_5[0][0]              \n",
      "__________________________________________________________________________________________________\n",
      "activation_16 (Activation)      (None, 32, 32, 128)  0           res1a_branch_b-3x3rb[0][0]       \n",
      "__________________________________________________________________________________________________\n",
      "activation_17 (Activation)      (None, 32, 32, 128)  0           res1a_branch_b-3x3gb[0][0]       \n",
      "__________________________________________________________________________________________________\n",
      "activation_18 (Activation)      (None, 32, 32, 128)  0           res1a_branch_b-3x3bb[0][0]       \n",
      "__________________________________________________________________________________________________\n",
      "concatenate_6 (Concatenate)     (None, 32, 32, 384)  0           activation_16[0][0]              \n",
      "                                                                 activation_17[0][0]              \n",
      "                                                                 activation_18[0][0]              \n",
      "__________________________________________________________________________________________________\n",
      "res1a_branch_c-1x1rb (PixelConv (None, 32, 32, 256)  98560       concatenate_6[0][0]              \n",
      "__________________________________________________________________________________________________\n",
      "res1a_branch_c-1x1gb (PixelConv (None, 32, 32, 256)  98560       concatenate_6[0][0]              \n",
      "__________________________________________________________________________________________________\n",
      "res1a_branch_c-1x1bb (PixelConv (None, 32, 32, 256)  98560       concatenate_6[0][0]              \n",
      "__________________________________________________________________________________________________\n",
      "activation_19 (Activation)      (None, 32, 32, 256)  0           res1a_branch_c-1x1rb[0][0]       \n",
      "__________________________________________________________________________________________________\n",
      "activation_20 (Activation)      (None, 32, 32, 256)  0           res1a_branch_c-1x1gb[0][0]       \n",
      "__________________________________________________________________________________________________\n",
      "activation_21 (Activation)      (None, 32, 32, 256)  0           res1a_branch_c-1x1bb[0][0]       \n",
      "__________________________________________________________________________________________________\n",
      "concatenate_7 (Concatenate)     (None, 32, 32, 768)  0           activation_19[0][0]              \n",
      "                                                                 activation_20[0][0]              \n",
      "                                                                 activation_21[0][0]              \n",
      "__________________________________________________________________________________________________\n",
      "add_2 (Add)                     (None, 32, 32, 768)  0           concatenate_7[0][0]              \n",
      "                                                                 add_1[0][0]                      \n",
      "__________________________________________________________________________________________________\n",
      "res2a_branch_a-1x1rb (PixelConv (None, 32, 32, 128)  98432       add_2[0][0]                      \n",
      "__________________________________________________________________________________________________\n",
      "res2a_branch_a-1x1gb (PixelConv (None, 32, 32, 128)  98432       add_2[0][0]                      \n",
      "__________________________________________________________________________________________________\n",
      "res2a_branch_a-1x1bb (PixelConv (None, 32, 32, 128)  98432       add_2[0][0]                      \n",
      "__________________________________________________________________________________________________\n",
      "activation_22 (Activation)      (None, 32, 32, 128)  0           res2a_branch_a-1x1rb[0][0]       \n",
      "__________________________________________________________________________________________________\n",
      "activation_23 (Activation)      (None, 32, 32, 128)  0           res2a_branch_a-1x1gb[0][0]       \n",
      "__________________________________________________________________________________________________\n",
      "activation_24 (Activation)      (None, 32, 32, 128)  0           res2a_branch_a-1x1bb[0][0]       \n",
      "__________________________________________________________________________________________________\n",
      "concatenate_8 (Concatenate)     (None, 32, 32, 384)  0           activation_22[0][0]              \n",
      "                                                                 activation_23[0][0]              \n",
      "                                                                 activation_24[0][0]              \n",
      "__________________________________________________________________________________________________\n",
      "res2a_branch_b-3x3rb (PixelConv (None, 32, 32, 128)  442496      concatenate_8[0][0]              \n",
      "__________________________________________________________________________________________________\n",
      "res2a_branch_b-3x3gb (PixelConv (None, 32, 32, 128)  442496      concatenate_8[0][0]              \n",
      "__________________________________________________________________________________________________\n",
      "res2a_branch_b-3x3bb (PixelConv (None, 32, 32, 128)  442496      concatenate_8[0][0]              \n",
      "__________________________________________________________________________________________________\n",
      "activation_25 (Activation)      (None, 32, 32, 128)  0           res2a_branch_b-3x3rb[0][0]       \n",
      "__________________________________________________________________________________________________\n",
      "activation_26 (Activation)      (None, 32, 32, 128)  0           res2a_branch_b-3x3gb[0][0]       \n",
      "__________________________________________________________________________________________________\n",
      "activation_27 (Activation)      (None, 32, 32, 128)  0           res2a_branch_b-3x3bb[0][0]       \n",
      "__________________________________________________________________________________________________\n",
      "concatenate_9 (Concatenate)     (None, 32, 32, 384)  0           activation_25[0][0]              \n",
      "                                                                 activation_26[0][0]              \n",
      "                                                                 activation_27[0][0]              \n",
      "__________________________________________________________________________________________________\n",
      "res2a_branch_c-1x1rb (PixelConv (None, 32, 32, 256)  98560       concatenate_9[0][0]              \n",
      "__________________________________________________________________________________________________\n",
      "res2a_branch_c-1x1gb (PixelConv (None, 32, 32, 256)  98560       concatenate_9[0][0]              \n",
      "__________________________________________________________________________________________________\n",
      "res2a_branch_c-1x1bb (PixelConv (None, 32, 32, 256)  98560       concatenate_9[0][0]              \n",
      "__________________________________________________________________________________________________\n",
      "activation_28 (Activation)      (None, 32, 32, 256)  0           res2a_branch_c-1x1rb[0][0]       \n",
      "__________________________________________________________________________________________________\n",
      "activation_29 (Activation)      (None, 32, 32, 256)  0           res2a_branch_c-1x1gb[0][0]       \n",
      "__________________________________________________________________________________________________\n",
      "activation_30 (Activation)      (None, 32, 32, 256)  0           res2a_branch_c-1x1bb[0][0]       \n",
      "__________________________________________________________________________________________________\n",
      "concatenate_10 (Concatenate)    (None, 32, 32, 768)  0           activation_28[0][0]              \n",
      "                                                                 activation_29[0][0]              \n",
      "                                                                 activation_30[0][0]              \n",
      "__________________________________________________________________________________________________\n",
      "add_3 (Add)                     (None, 32, 32, 768)  0           concatenate_10[0][0]             \n",
      "                                                                 add_2[0][0]                      \n",
      "__________________________________________________________________________________________________\n",
      "res3a_branch_a-1x1rb (PixelConv (None, 32, 32, 128)  98432       add_3[0][0]                      \n",
      "__________________________________________________________________________________________________\n",
      "res3a_branch_a-1x1gb (PixelConv (None, 32, 32, 128)  98432       add_3[0][0]                      \n",
      "__________________________________________________________________________________________________\n",
      "res3a_branch_a-1x1bb (PixelConv (None, 32, 32, 128)  98432       add_3[0][0]                      \n",
      "__________________________________________________________________________________________________\n",
      "activation_31 (Activation)      (None, 32, 32, 128)  0           res3a_branch_a-1x1rb[0][0]       \n",
      "__________________________________________________________________________________________________\n",
      "activation_32 (Activation)      (None, 32, 32, 128)  0           res3a_branch_a-1x1gb[0][0]       \n",
      "__________________________________________________________________________________________________\n",
      "activation_33 (Activation)      (None, 32, 32, 128)  0           res3a_branch_a-1x1bb[0][0]       \n",
      "__________________________________________________________________________________________________\n",
      "concatenate_11 (Concatenate)    (None, 32, 32, 384)  0           activation_31[0][0]              \n",
      "                                                                 activation_32[0][0]              \n",
      "                                                                 activation_33[0][0]              \n",
      "__________________________________________________________________________________________________\n",
      "res3a_branch_b-3x3rb (PixelConv (None, 32, 32, 128)  442496      concatenate_11[0][0]             \n",
      "__________________________________________________________________________________________________\n",
      "res3a_branch_b-3x3gb (PixelConv (None, 32, 32, 128)  442496      concatenate_11[0][0]             \n",
      "__________________________________________________________________________________________________\n",
      "res3a_branch_b-3x3bb (PixelConv (None, 32, 32, 128)  442496      concatenate_11[0][0]             \n",
      "__________________________________________________________________________________________________\n",
      "activation_34 (Activation)      (None, 32, 32, 128)  0           res3a_branch_b-3x3rb[0][0]       \n",
      "__________________________________________________________________________________________________\n",
      "activation_35 (Activation)      (None, 32, 32, 128)  0           res3a_branch_b-3x3gb[0][0]       \n",
      "__________________________________________________________________________________________________\n",
      "activation_36 (Activation)      (None, 32, 32, 128)  0           res3a_branch_b-3x3bb[0][0]       \n",
      "__________________________________________________________________________________________________\n",
      "concatenate_12 (Concatenate)    (None, 32, 32, 384)  0           activation_34[0][0]              \n",
      "                                                                 activation_35[0][0]              \n",
      "                                                                 activation_36[0][0]              \n",
      "__________________________________________________________________________________________________\n",
      "res3a_branch_c-1x1rb (PixelConv (None, 32, 32, 256)  98560       concatenate_12[0][0]             \n",
      "__________________________________________________________________________________________________\n",
      "res3a_branch_c-1x1gb (PixelConv (None, 32, 32, 256)  98560       concatenate_12[0][0]             \n",
      "__________________________________________________________________________________________________\n",
      "res3a_branch_c-1x1bb (PixelConv (None, 32, 32, 256)  98560       concatenate_12[0][0]             \n",
      "__________________________________________________________________________________________________\n",
      "activation_37 (Activation)      (None, 32, 32, 256)  0           res3a_branch_c-1x1rb[0][0]       \n",
      "__________________________________________________________________________________________________\n",
      "activation_38 (Activation)      (None, 32, 32, 256)  0           res3a_branch_c-1x1gb[0][0]       \n",
      "__________________________________________________________________________________________________\n",
      "activation_39 (Activation)      (None, 32, 32, 256)  0           res3a_branch_c-1x1bb[0][0]       \n",
      "__________________________________________________________________________________________________\n",
      "concatenate_13 (Concatenate)    (None, 32, 32, 768)  0           activation_37[0][0]              \n",
      "                                                                 activation_38[0][0]              \n",
      "                                                                 activation_39[0][0]              \n",
      "__________________________________________________________________________________________________\n",
      "add_4 (Add)                     (None, 32, 32, 768)  0           concatenate_13[0][0]             \n",
      "                                                                 add_3[0][0]                      \n",
      "__________________________________________________________________________________________________\n",
      "res4a_branch_a-1x1rb (PixelConv (None, 32, 32, 128)  98432       add_4[0][0]                      \n",
      "__________________________________________________________________________________________________\n",
      "res4a_branch_a-1x1gb (PixelConv (None, 32, 32, 128)  98432       add_4[0][0]                      \n",
      "__________________________________________________________________________________________________\n",
      "res4a_branch_a-1x1bb (PixelConv (None, 32, 32, 128)  98432       add_4[0][0]                      \n",
      "__________________________________________________________________________________________________\n",
      "activation_40 (Activation)      (None, 32, 32, 128)  0           res4a_branch_a-1x1rb[0][0]       \n",
      "__________________________________________________________________________________________________\n",
      "activation_41 (Activation)      (None, 32, 32, 128)  0           res4a_branch_a-1x1gb[0][0]       \n",
      "__________________________________________________________________________________________________\n",
      "activation_42 (Activation)      (None, 32, 32, 128)  0           res4a_branch_a-1x1bb[0][0]       \n",
      "__________________________________________________________________________________________________\n",
      "concatenate_14 (Concatenate)    (None, 32, 32, 384)  0           activation_40[0][0]              \n",
      "                                                                 activation_41[0][0]              \n",
      "                                                                 activation_42[0][0]              \n",
      "__________________________________________________________________________________________________\n",
      "res4a_branch_b-3x3rb (PixelConv (None, 32, 32, 128)  442496      concatenate_14[0][0]             \n",
      "__________________________________________________________________________________________________\n",
      "res4a_branch_b-3x3gb (PixelConv (None, 32, 32, 128)  442496      concatenate_14[0][0]             \n",
      "__________________________________________________________________________________________________\n",
      "res4a_branch_b-3x3bb (PixelConv (None, 32, 32, 128)  442496      concatenate_14[0][0]             \n",
      "__________________________________________________________________________________________________\n",
      "activation_43 (Activation)      (None, 32, 32, 128)  0           res4a_branch_b-3x3rb[0][0]       \n",
      "__________________________________________________________________________________________________\n",
      "activation_44 (Activation)      (None, 32, 32, 128)  0           res4a_branch_b-3x3gb[0][0]       \n",
      "__________________________________________________________________________________________________\n",
      "activation_45 (Activation)      (None, 32, 32, 128)  0           res4a_branch_b-3x3bb[0][0]       \n",
      "__________________________________________________________________________________________________\n",
      "concatenate_15 (Concatenate)    (None, 32, 32, 384)  0           activation_43[0][0]              \n",
      "                                                                 activation_44[0][0]              \n",
      "                                                                 activation_45[0][0]              \n",
      "__________________________________________________________________________________________________\n",
      "res4a_branch_c-1x1rb (PixelConv (None, 32, 32, 256)  98560       concatenate_15[0][0]             \n",
      "__________________________________________________________________________________________________\n",
      "res4a_branch_c-1x1gb (PixelConv (None, 32, 32, 256)  98560       concatenate_15[0][0]             \n",
      "__________________________________________________________________________________________________\n",
      "res4a_branch_c-1x1bb (PixelConv (None, 32, 32, 256)  98560       concatenate_15[0][0]             \n",
      "__________________________________________________________________________________________________\n",
      "activation_46 (Activation)      (None, 32, 32, 256)  0           res4a_branch_c-1x1rb[0][0]       \n",
      "__________________________________________________________________________________________________\n",
      "activation_47 (Activation)      (None, 32, 32, 256)  0           res4a_branch_c-1x1gb[0][0]       \n",
      "__________________________________________________________________________________________________\n",
      "activation_48 (Activation)      (None, 32, 32, 256)  0           res4a_branch_c-1x1bb[0][0]       \n",
      "__________________________________________________________________________________________________\n",
      "concatenate_16 (Concatenate)    (None, 32, 32, 768)  0           activation_46[0][0]              \n",
      "                                                                 activation_47[0][0]              \n",
      "                                                                 activation_48[0][0]              \n",
      "__________________________________________________________________________________________________\n",
      "add_5 (Add)                     (None, 32, 32, 768)  0           concatenate_16[0][0]             \n",
      "                                                                 add_4[0][0]                      \n",
      "__________________________________________________________________________________________________\n",
      "res5a_branch_a-1x1rb (PixelConv (None, 32, 32, 128)  98432       add_5[0][0]                      \n",
      "__________________________________________________________________________________________________\n",
      "res5a_branch_a-1x1gb (PixelConv (None, 32, 32, 128)  98432       add_5[0][0]                      \n",
      "__________________________________________________________________________________________________\n",
      "res5a_branch_a-1x1bb (PixelConv (None, 32, 32, 128)  98432       add_5[0][0]                      \n",
      "__________________________________________________________________________________________________\n",
      "activation_49 (Activation)      (None, 32, 32, 128)  0           res5a_branch_a-1x1rb[0][0]       \n",
      "__________________________________________________________________________________________________\n",
      "activation_50 (Activation)      (None, 32, 32, 128)  0           res5a_branch_a-1x1gb[0][0]       \n",
      "__________________________________________________________________________________________________\n",
      "activation_51 (Activation)      (None, 32, 32, 128)  0           res5a_branch_a-1x1bb[0][0]       \n",
      "__________________________________________________________________________________________________\n",
      "concatenate_17 (Concatenate)    (None, 32, 32, 384)  0           activation_49[0][0]              \n",
      "                                                                 activation_50[0][0]              \n",
      "                                                                 activation_51[0][0]              \n",
      "__________________________________________________________________________________________________\n",
      "res5a_branch_b-3x3rb (PixelConv (None, 32, 32, 128)  442496      concatenate_17[0][0]             \n",
      "__________________________________________________________________________________________________\n",
      "res5a_branch_b-3x3gb (PixelConv (None, 32, 32, 128)  442496      concatenate_17[0][0]             \n",
      "__________________________________________________________________________________________________\n",
      "res5a_branch_b-3x3bb (PixelConv (None, 32, 32, 128)  442496      concatenate_17[0][0]             \n",
      "__________________________________________________________________________________________________\n",
      "activation_52 (Activation)      (None, 32, 32, 128)  0           res5a_branch_b-3x3rb[0][0]       \n",
      "__________________________________________________________________________________________________\n",
      "activation_53 (Activation)      (None, 32, 32, 128)  0           res5a_branch_b-3x3gb[0][0]       \n",
      "__________________________________________________________________________________________________\n",
      "activation_54 (Activation)      (None, 32, 32, 128)  0           res5a_branch_b-3x3bb[0][0]       \n",
      "__________________________________________________________________________________________________\n",
      "concatenate_18 (Concatenate)    (None, 32, 32, 384)  0           activation_52[0][0]              \n",
      "                                                                 activation_53[0][0]              \n",
      "                                                                 activation_54[0][0]              \n",
      "__________________________________________________________________________________________________\n",
      "res5a_branch_c-1x1rb (PixelConv (None, 32, 32, 256)  98560       concatenate_18[0][0]             \n",
      "__________________________________________________________________________________________________\n",
      "res5a_branch_c-1x1gb (PixelConv (None, 32, 32, 256)  98560       concatenate_18[0][0]             \n",
      "__________________________________________________________________________________________________\n",
      "res5a_branch_c-1x1bb (PixelConv (None, 32, 32, 256)  98560       concatenate_18[0][0]             \n",
      "__________________________________________________________________________________________________\n",
      "activation_55 (Activation)      (None, 32, 32, 256)  0           res5a_branch_c-1x1rb[0][0]       \n",
      "__________________________________________________________________________________________________\n",
      "activation_56 (Activation)      (None, 32, 32, 256)  0           res5a_branch_c-1x1gb[0][0]       \n",
      "__________________________________________________________________________________________________\n",
      "activation_57 (Activation)      (None, 32, 32, 256)  0           res5a_branch_c-1x1bb[0][0]       \n",
      "__________________________________________________________________________________________________\n",
      "concatenate_19 (Concatenate)    (None, 32, 32, 768)  0           activation_55[0][0]              \n",
      "                                                                 activation_56[0][0]              \n",
      "                                                                 activation_57[0][0]              \n",
      "__________________________________________________________________________________________________\n",
      "add_6 (Add)                     (None, 32, 32, 768)  0           concatenate_19[0][0]             \n",
      "                                                                 add_5[0][0]                      \n",
      "__________________________________________________________________________________________________\n",
      "res6a_branch_a-1x1rb (PixelConv (None, 32, 32, 128)  98432       add_6[0][0]                      \n",
      "__________________________________________________________________________________________________\n",
      "res6a_branch_a-1x1gb (PixelConv (None, 32, 32, 128)  98432       add_6[0][0]                      \n",
      "__________________________________________________________________________________________________\n",
      "res6a_branch_a-1x1bb (PixelConv (None, 32, 32, 128)  98432       add_6[0][0]                      \n",
      "__________________________________________________________________________________________________\n",
      "activation_58 (Activation)      (None, 32, 32, 128)  0           res6a_branch_a-1x1rb[0][0]       \n",
      "__________________________________________________________________________________________________\n",
      "activation_59 (Activation)      (None, 32, 32, 128)  0           res6a_branch_a-1x1gb[0][0]       \n",
      "__________________________________________________________________________________________________\n",
      "activation_60 (Activation)      (None, 32, 32, 128)  0           res6a_branch_a-1x1bb[0][0]       \n",
      "__________________________________________________________________________________________________\n",
      "concatenate_20 (Concatenate)    (None, 32, 32, 384)  0           activation_58[0][0]              \n",
      "                                                                 activation_59[0][0]              \n",
      "                                                                 activation_60[0][0]              \n",
      "__________________________________________________________________________________________________\n",
      "res6a_branch_b-3x3rb (PixelConv (None, 32, 32, 128)  442496      concatenate_20[0][0]             \n",
      "__________________________________________________________________________________________________\n",
      "res6a_branch_b-3x3gb (PixelConv (None, 32, 32, 128)  442496      concatenate_20[0][0]             \n",
      "__________________________________________________________________________________________________\n",
      "res6a_branch_b-3x3bb (PixelConv (None, 32, 32, 128)  442496      concatenate_20[0][0]             \n",
      "__________________________________________________________________________________________________\n",
      "activation_61 (Activation)      (None, 32, 32, 128)  0           res6a_branch_b-3x3rb[0][0]       \n",
      "__________________________________________________________________________________________________\n",
      "activation_62 (Activation)      (None, 32, 32, 128)  0           res6a_branch_b-3x3gb[0][0]       \n",
      "__________________________________________________________________________________________________\n",
      "activation_63 (Activation)      (None, 32, 32, 128)  0           res6a_branch_b-3x3bb[0][0]       \n",
      "__________________________________________________________________________________________________\n",
      "concatenate_21 (Concatenate)    (None, 32, 32, 384)  0           activation_61[0][0]              \n",
      "                                                                 activation_62[0][0]              \n",
      "                                                                 activation_63[0][0]              \n",
      "__________________________________________________________________________________________________\n",
      "res6a_branch_c-1x1rb (PixelConv (None, 32, 32, 256)  98560       concatenate_21[0][0]             \n",
      "__________________________________________________________________________________________________\n",
      "res6a_branch_c-1x1gb (PixelConv (None, 32, 32, 256)  98560       concatenate_21[0][0]             \n",
      "__________________________________________________________________________________________________\n",
      "res6a_branch_c-1x1bb (PixelConv (None, 32, 32, 256)  98560       concatenate_21[0][0]             \n",
      "__________________________________________________________________________________________________\n",
      "activation_64 (Activation)      (None, 32, 32, 256)  0           res6a_branch_c-1x1rb[0][0]       \n",
      "__________________________________________________________________________________________________\n",
      "activation_65 (Activation)      (None, 32, 32, 256)  0           res6a_branch_c-1x1gb[0][0]       \n",
      "__________________________________________________________________________________________________\n",
      "activation_66 (Activation)      (None, 32, 32, 256)  0           res6a_branch_c-1x1bb[0][0]       \n",
      "__________________________________________________________________________________________________\n",
      "concatenate_22 (Concatenate)    (None, 32, 32, 768)  0           activation_64[0][0]              \n",
      "                                                                 activation_65[0][0]              \n",
      "                                                                 activation_66[0][0]              \n",
      "__________________________________________________________________________________________________\n",
      "add_7 (Add)                     (None, 32, 32, 768)  0           concatenate_22[0][0]             \n",
      "                                                                 add_6[0][0]                      \n",
      "__________________________________________________________________________________________________\n",
      "res7a_branch_a-1x1rb (PixelConv (None, 32, 32, 128)  98432       add_7[0][0]                      \n",
      "__________________________________________________________________________________________________\n",
      "res7a_branch_a-1x1gb (PixelConv (None, 32, 32, 128)  98432       add_7[0][0]                      \n",
      "__________________________________________________________________________________________________\n",
      "res7a_branch_a-1x1bb (PixelConv (None, 32, 32, 128)  98432       add_7[0][0]                      \n",
      "__________________________________________________________________________________________________\n",
      "activation_67 (Activation)      (None, 32, 32, 128)  0           res7a_branch_a-1x1rb[0][0]       \n",
      "__________________________________________________________________________________________________\n",
      "activation_68 (Activation)      (None, 32, 32, 128)  0           res7a_branch_a-1x1gb[0][0]       \n",
      "__________________________________________________________________________________________________\n",
      "activation_69 (Activation)      (None, 32, 32, 128)  0           res7a_branch_a-1x1bb[0][0]       \n",
      "__________________________________________________________________________________________________\n",
      "concatenate_23 (Concatenate)    (None, 32, 32, 384)  0           activation_67[0][0]              \n",
      "                                                                 activation_68[0][0]              \n",
      "                                                                 activation_69[0][0]              \n",
      "__________________________________________________________________________________________________\n",
      "res7a_branch_b-3x3rb (PixelConv (None, 32, 32, 128)  442496      concatenate_23[0][0]             \n",
      "__________________________________________________________________________________________________\n",
      "res7a_branch_b-3x3gb (PixelConv (None, 32, 32, 128)  442496      concatenate_23[0][0]             \n",
      "__________________________________________________________________________________________________\n",
      "res7a_branch_b-3x3bb (PixelConv (None, 32, 32, 128)  442496      concatenate_23[0][0]             \n",
      "__________________________________________________________________________________________________\n",
      "activation_70 (Activation)      (None, 32, 32, 128)  0           res7a_branch_b-3x3rb[0][0]       \n",
      "__________________________________________________________________________________________________\n",
      "activation_71 (Activation)      (None, 32, 32, 128)  0           res7a_branch_b-3x3gb[0][0]       \n",
      "__________________________________________________________________________________________________\n",
      "activation_72 (Activation)      (None, 32, 32, 128)  0           res7a_branch_b-3x3bb[0][0]       \n",
      "__________________________________________________________________________________________________\n",
      "concatenate_24 (Concatenate)    (None, 32, 32, 384)  0           activation_70[0][0]              \n",
      "                                                                 activation_71[0][0]              \n",
      "                                                                 activation_72[0][0]              \n",
      "__________________________________________________________________________________________________\n",
      "res7a_branch_c-1x1rb (PixelConv (None, 32, 32, 256)  98560       concatenate_24[0][0]             \n",
      "__________________________________________________________________________________________________\n",
      "res7a_branch_c-1x1gb (PixelConv (None, 32, 32, 256)  98560       concatenate_24[0][0]             \n",
      "__________________________________________________________________________________________________\n",
      "res7a_branch_c-1x1bb (PixelConv (None, 32, 32, 256)  98560       concatenate_24[0][0]             \n",
      "__________________________________________________________________________________________________\n",
      "activation_73 (Activation)      (None, 32, 32, 256)  0           res7a_branch_c-1x1rb[0][0]       \n",
      "__________________________________________________________________________________________________\n",
      "activation_74 (Activation)      (None, 32, 32, 256)  0           res7a_branch_c-1x1gb[0][0]       \n",
      "__________________________________________________________________________________________________\n",
      "activation_75 (Activation)      (None, 32, 32, 256)  0           res7a_branch_c-1x1bb[0][0]       \n",
      "__________________________________________________________________________________________________\n",
      "concatenate_25 (Concatenate)    (None, 32, 32, 768)  0           activation_73[0][0]              \n",
      "                                                                 activation_74[0][0]              \n",
      "                                                                 activation_75[0][0]              \n",
      "__________________________________________________________________________________________________\n",
      "add_8 (Add)                     (None, 32, 32, 768)  0           concatenate_25[0][0]             \n",
      "                                                                 add_7[0][0]                      \n",
      "__________________________________________________________________________________________________\n",
      "res8a_branch_a-1x1rb (PixelConv (None, 32, 32, 128)  98432       add_8[0][0]                      \n",
      "__________________________________________________________________________________________________\n",
      "res8a_branch_a-1x1gb (PixelConv (None, 32, 32, 128)  98432       add_8[0][0]                      \n",
      "__________________________________________________________________________________________________\n",
      "res8a_branch_a-1x1bb (PixelConv (None, 32, 32, 128)  98432       add_8[0][0]                      \n",
      "__________________________________________________________________________________________________\n",
      "activation_76 (Activation)      (None, 32, 32, 128)  0           res8a_branch_a-1x1rb[0][0]       \n",
      "__________________________________________________________________________________________________\n",
      "activation_77 (Activation)      (None, 32, 32, 128)  0           res8a_branch_a-1x1gb[0][0]       \n",
      "__________________________________________________________________________________________________\n",
      "activation_78 (Activation)      (None, 32, 32, 128)  0           res8a_branch_a-1x1bb[0][0]       \n",
      "__________________________________________________________________________________________________\n",
      "concatenate_26 (Concatenate)    (None, 32, 32, 384)  0           activation_76[0][0]              \n",
      "                                                                 activation_77[0][0]              \n",
      "                                                                 activation_78[0][0]              \n",
      "__________________________________________________________________________________________________\n",
      "res8a_branch_b-3x3rb (PixelConv (None, 32, 32, 128)  442496      concatenate_26[0][0]             \n",
      "__________________________________________________________________________________________________\n",
      "res8a_branch_b-3x3gb (PixelConv (None, 32, 32, 128)  442496      concatenate_26[0][0]             \n",
      "__________________________________________________________________________________________________\n",
      "res8a_branch_b-3x3bb (PixelConv (None, 32, 32, 128)  442496      concatenate_26[0][0]             \n",
      "__________________________________________________________________________________________________\n",
      "activation_79 (Activation)      (None, 32, 32, 128)  0           res8a_branch_b-3x3rb[0][0]       \n",
      "__________________________________________________________________________________________________\n",
      "activation_80 (Activation)      (None, 32, 32, 128)  0           res8a_branch_b-3x3gb[0][0]       \n",
      "__________________________________________________________________________________________________\n",
      "activation_81 (Activation)      (None, 32, 32, 128)  0           res8a_branch_b-3x3bb[0][0]       \n",
      "__________________________________________________________________________________________________\n",
      "concatenate_27 (Concatenate)    (None, 32, 32, 384)  0           activation_79[0][0]              \n",
      "                                                                 activation_80[0][0]              \n",
      "                                                                 activation_81[0][0]              \n",
      "__________________________________________________________________________________________________\n",
      "res8a_branch_c-1x1rb (PixelConv (None, 32, 32, 256)  98560       concatenate_27[0][0]             \n",
      "__________________________________________________________________________________________________\n",
      "res8a_branch_c-1x1gb (PixelConv (None, 32, 32, 256)  98560       concatenate_27[0][0]             \n",
      "__________________________________________________________________________________________________\n",
      "res8a_branch_c-1x1bb (PixelConv (None, 32, 32, 256)  98560       concatenate_27[0][0]             \n",
      "__________________________________________________________________________________________________\n",
      "activation_82 (Activation)      (None, 32, 32, 256)  0           res8a_branch_c-1x1rb[0][0]       \n",
      "__________________________________________________________________________________________________\n",
      "activation_83 (Activation)      (None, 32, 32, 256)  0           res8a_branch_c-1x1gb[0][0]       \n",
      "__________________________________________________________________________________________________\n",
      "activation_84 (Activation)      (None, 32, 32, 256)  0           res8a_branch_c-1x1bb[0][0]       \n",
      "__________________________________________________________________________________________________\n",
      "concatenate_28 (Concatenate)    (None, 32, 32, 768)  0           activation_82[0][0]              \n",
      "                                                                 activation_83[0][0]              \n",
      "                                                                 activation_84[0][0]              \n",
      "__________________________________________________________________________________________________\n",
      "add_9 (Add)                     (None, 32, 32, 768)  0           concatenate_28[0][0]             \n",
      "                                                                 add_8[0][0]                      \n",
      "__________________________________________________________________________________________________\n",
      "res9a_branch_a-1x1rb (PixelConv (None, 32, 32, 128)  98432       add_9[0][0]                      \n",
      "__________________________________________________________________________________________________\n",
      "res9a_branch_a-1x1gb (PixelConv (None, 32, 32, 128)  98432       add_9[0][0]                      \n",
      "__________________________________________________________________________________________________\n",
      "res9a_branch_a-1x1bb (PixelConv (None, 32, 32, 128)  98432       add_9[0][0]                      \n",
      "__________________________________________________________________________________________________\n",
      "activation_85 (Activation)      (None, 32, 32, 128)  0           res9a_branch_a-1x1rb[0][0]       \n",
      "__________________________________________________________________________________________________\n",
      "activation_86 (Activation)      (None, 32, 32, 128)  0           res9a_branch_a-1x1gb[0][0]       \n",
      "__________________________________________________________________________________________________\n",
      "activation_87 (Activation)      (None, 32, 32, 128)  0           res9a_branch_a-1x1bb[0][0]       \n",
      "__________________________________________________________________________________________________\n",
      "concatenate_29 (Concatenate)    (None, 32, 32, 384)  0           activation_85[0][0]              \n",
      "                                                                 activation_86[0][0]              \n",
      "                                                                 activation_87[0][0]              \n",
      "__________________________________________________________________________________________________\n",
      "res9a_branch_b-3x3rb (PixelConv (None, 32, 32, 128)  442496      concatenate_29[0][0]             \n",
      "__________________________________________________________________________________________________\n",
      "res9a_branch_b-3x3gb (PixelConv (None, 32, 32, 128)  442496      concatenate_29[0][0]             \n",
      "__________________________________________________________________________________________________\n",
      "res9a_branch_b-3x3bb (PixelConv (None, 32, 32, 128)  442496      concatenate_29[0][0]             \n",
      "__________________________________________________________________________________________________\n",
      "activation_88 (Activation)      (None, 32, 32, 128)  0           res9a_branch_b-3x3rb[0][0]       \n",
      "__________________________________________________________________________________________________\n",
      "activation_89 (Activation)      (None, 32, 32, 128)  0           res9a_branch_b-3x3gb[0][0]       \n",
      "__________________________________________________________________________________________________\n",
      "activation_90 (Activation)      (None, 32, 32, 128)  0           res9a_branch_b-3x3bb[0][0]       \n",
      "__________________________________________________________________________________________________\n",
      "concatenate_30 (Concatenate)    (None, 32, 32, 384)  0           activation_88[0][0]              \n",
      "                                                                 activation_89[0][0]              \n",
      "                                                                 activation_90[0][0]              \n",
      "__________________________________________________________________________________________________\n",
      "res9a_branch_c-1x1rb (PixelConv (None, 32, 32, 256)  98560       concatenate_30[0][0]             \n",
      "__________________________________________________________________________________________________\n",
      "res9a_branch_c-1x1gb (PixelConv (None, 32, 32, 256)  98560       concatenate_30[0][0]             \n",
      "__________________________________________________________________________________________________\n",
      "res9a_branch_c-1x1bb (PixelConv (None, 32, 32, 256)  98560       concatenate_30[0][0]             \n",
      "__________________________________________________________________________________________________\n",
      "activation_91 (Activation)      (None, 32, 32, 256)  0           res9a_branch_c-1x1rb[0][0]       \n",
      "__________________________________________________________________________________________________\n",
      "activation_92 (Activation)      (None, 32, 32, 256)  0           res9a_branch_c-1x1gb[0][0]       \n",
      "__________________________________________________________________________________________________\n",
      "activation_93 (Activation)      (None, 32, 32, 256)  0           res9a_branch_c-1x1bb[0][0]       \n",
      "__________________________________________________________________________________________________\n",
      "concatenate_31 (Concatenate)    (None, 32, 32, 768)  0           activation_91[0][0]              \n",
      "                                                                 activation_92[0][0]              \n",
      "                                                                 activation_93[0][0]              \n",
      "__________________________________________________________________________________________________\n",
      "add_10 (Add)                    (None, 32, 32, 768)  0           concatenate_31[0][0]             \n",
      "                                                                 add_9[0][0]                      \n",
      "__________________________________________________________________________________________________\n",
      "res10a_branch_a-1x1rb (PixelCon (None, 32, 32, 128)  98432       add_10[0][0]                     \n",
      "__________________________________________________________________________________________________\n",
      "res10a_branch_a-1x1gb (PixelCon (None, 32, 32, 128)  98432       add_10[0][0]                     \n",
      "__________________________________________________________________________________________________\n",
      "res10a_branch_a-1x1bb (PixelCon (None, 32, 32, 128)  98432       add_10[0][0]                     \n",
      "__________________________________________________________________________________________________\n",
      "activation_94 (Activation)      (None, 32, 32, 128)  0           res10a_branch_a-1x1rb[0][0]      \n",
      "__________________________________________________________________________________________________\n",
      "activation_95 (Activation)      (None, 32, 32, 128)  0           res10a_branch_a-1x1gb[0][0]      \n",
      "__________________________________________________________________________________________________\n",
      "activation_96 (Activation)      (None, 32, 32, 128)  0           res10a_branch_a-1x1bb[0][0]      \n",
      "__________________________________________________________________________________________________\n",
      "concatenate_32 (Concatenate)    (None, 32, 32, 384)  0           activation_94[0][0]              \n",
      "                                                                 activation_95[0][0]              \n",
      "                                                                 activation_96[0][0]              \n",
      "__________________________________________________________________________________________________\n",
      "res10a_branch_b-3x3rb (PixelCon (None, 32, 32, 128)  442496      concatenate_32[0][0]             \n",
      "__________________________________________________________________________________________________\n",
      "res10a_branch_b-3x3gb (PixelCon (None, 32, 32, 128)  442496      concatenate_32[0][0]             \n",
      "__________________________________________________________________________________________________\n",
      "res10a_branch_b-3x3bb (PixelCon (None, 32, 32, 128)  442496      concatenate_32[0][0]             \n",
      "__________________________________________________________________________________________________\n",
      "activation_97 (Activation)      (None, 32, 32, 128)  0           res10a_branch_b-3x3rb[0][0]      \n",
      "__________________________________________________________________________________________________\n",
      "activation_98 (Activation)      (None, 32, 32, 128)  0           res10a_branch_b-3x3gb[0][0]      \n",
      "__________________________________________________________________________________________________\n",
      "activation_99 (Activation)      (None, 32, 32, 128)  0           res10a_branch_b-3x3bb[0][0]      \n",
      "__________________________________________________________________________________________________\n",
      "concatenate_33 (Concatenate)    (None, 32, 32, 384)  0           activation_97[0][0]              \n",
      "                                                                 activation_98[0][0]              \n",
      "                                                                 activation_99[0][0]              \n",
      "__________________________________________________________________________________________________\n",
      "res10a_branch_c-1x1rb (PixelCon (None, 32, 32, 256)  98560       concatenate_33[0][0]             \n",
      "__________________________________________________________________________________________________\n",
      "res10a_branch_c-1x1gb (PixelCon (None, 32, 32, 256)  98560       concatenate_33[0][0]             \n",
      "__________________________________________________________________________________________________\n",
      "res10a_branch_c-1x1bb (PixelCon (None, 32, 32, 256)  98560       concatenate_33[0][0]             \n",
      "__________________________________________________________________________________________________\n",
      "activation_100 (Activation)     (None, 32, 32, 256)  0           res10a_branch_c-1x1rb[0][0]      \n",
      "__________________________________________________________________________________________________\n",
      "activation_101 (Activation)     (None, 32, 32, 256)  0           res10a_branch_c-1x1gb[0][0]      \n",
      "__________________________________________________________________________________________________\n",
      "activation_102 (Activation)     (None, 32, 32, 256)  0           res10a_branch_c-1x1bb[0][0]      \n",
      "__________________________________________________________________________________________________\n",
      "concatenate_34 (Concatenate)    (None, 32, 32, 768)  0           activation_100[0][0]             \n",
      "                                                                 activation_101[0][0]             \n",
      "                                                                 activation_102[0][0]             \n",
      "__________________________________________________________________________________________________\n",
      "add_11 (Add)                    (None, 32, 32, 768)  0           concatenate_34[0][0]             \n",
      "                                                                 add_10[0][0]                     \n",
      "__________________________________________________________________________________________________\n",
      "res11a_branch_a-1x1rb (PixelCon (None, 32, 32, 128)  98432       add_11[0][0]                     \n",
      "__________________________________________________________________________________________________\n",
      "res11a_branch_a-1x1gb (PixelCon (None, 32, 32, 128)  98432       add_11[0][0]                     \n",
      "__________________________________________________________________________________________________\n",
      "res11a_branch_a-1x1bb (PixelCon (None, 32, 32, 128)  98432       add_11[0][0]                     \n",
      "__________________________________________________________________________________________________\n",
      "activation_103 (Activation)     (None, 32, 32, 128)  0           res11a_branch_a-1x1rb[0][0]      \n",
      "__________________________________________________________________________________________________\n",
      "activation_104 (Activation)     (None, 32, 32, 128)  0           res11a_branch_a-1x1gb[0][0]      \n",
      "__________________________________________________________________________________________________\n",
      "activation_105 (Activation)     (None, 32, 32, 128)  0           res11a_branch_a-1x1bb[0][0]      \n",
      "__________________________________________________________________________________________________\n",
      "concatenate_35 (Concatenate)    (None, 32, 32, 384)  0           activation_103[0][0]             \n",
      "                                                                 activation_104[0][0]             \n",
      "                                                                 activation_105[0][0]             \n",
      "__________________________________________________________________________________________________\n",
      "res11a_branch_b-3x3rb (PixelCon (None, 32, 32, 128)  442496      concatenate_35[0][0]             \n",
      "__________________________________________________________________________________________________\n",
      "res11a_branch_b-3x3gb (PixelCon (None, 32, 32, 128)  442496      concatenate_35[0][0]             \n",
      "__________________________________________________________________________________________________\n",
      "res11a_branch_b-3x3bb (PixelCon (None, 32, 32, 128)  442496      concatenate_35[0][0]             \n",
      "__________________________________________________________________________________________________\n",
      "activation_106 (Activation)     (None, 32, 32, 128)  0           res11a_branch_b-3x3rb[0][0]      \n",
      "__________________________________________________________________________________________________\n",
      "activation_107 (Activation)     (None, 32, 32, 128)  0           res11a_branch_b-3x3gb[0][0]      \n",
      "__________________________________________________________________________________________________\n",
      "activation_108 (Activation)     (None, 32, 32, 128)  0           res11a_branch_b-3x3bb[0][0]      \n",
      "__________________________________________________________________________________________________\n",
      "concatenate_36 (Concatenate)    (None, 32, 32, 384)  0           activation_106[0][0]             \n",
      "                                                                 activation_107[0][0]             \n",
      "                                                                 activation_108[0][0]             \n",
      "__________________________________________________________________________________________________\n",
      "res11a_branch_c-1x1rb (PixelCon (None, 32, 32, 256)  98560       concatenate_36[0][0]             \n",
      "__________________________________________________________________________________________________\n",
      "res11a_branch_c-1x1gb (PixelCon (None, 32, 32, 256)  98560       concatenate_36[0][0]             \n",
      "__________________________________________________________________________________________________\n",
      "res11a_branch_c-1x1bb (PixelCon (None, 32, 32, 256)  98560       concatenate_36[0][0]             \n",
      "__________________________________________________________________________________________________\n",
      "activation_109 (Activation)     (None, 32, 32, 256)  0           res11a_branch_c-1x1rb[0][0]      \n",
      "__________________________________________________________________________________________________\n",
      "activation_110 (Activation)     (None, 32, 32, 256)  0           res11a_branch_c-1x1gb[0][0]      \n",
      "__________________________________________________________________________________________________\n",
      "activation_111 (Activation)     (None, 32, 32, 256)  0           res11a_branch_c-1x1bb[0][0]      \n",
      "__________________________________________________________________________________________________\n",
      "concatenate_37 (Concatenate)    (None, 32, 32, 768)  0           activation_109[0][0]             \n",
      "                                                                 activation_110[0][0]             \n",
      "                                                                 activation_111[0][0]             \n",
      "__________________________________________________________________________________________________\n",
      "add_12 (Add)                    (None, 32, 32, 768)  0           concatenate_37[0][0]             \n",
      "                                                                 add_11[0][0]                     \n",
      "__________________________________________________________________________________________________\n",
      "res12a_branch_a-1x1rb (PixelCon (None, 32, 32, 128)  98432       add_12[0][0]                     \n",
      "__________________________________________________________________________________________________\n",
      "res12a_branch_a-1x1gb (PixelCon (None, 32, 32, 128)  98432       add_12[0][0]                     \n",
      "__________________________________________________________________________________________________\n",
      "res12a_branch_a-1x1bb (PixelCon (None, 32, 32, 128)  98432       add_12[0][0]                     \n",
      "__________________________________________________________________________________________________\n",
      "activation_112 (Activation)     (None, 32, 32, 128)  0           res12a_branch_a-1x1rb[0][0]      \n",
      "__________________________________________________________________________________________________\n",
      "activation_113 (Activation)     (None, 32, 32, 128)  0           res12a_branch_a-1x1gb[0][0]      \n",
      "__________________________________________________________________________________________________\n",
      "activation_114 (Activation)     (None, 32, 32, 128)  0           res12a_branch_a-1x1bb[0][0]      \n",
      "__________________________________________________________________________________________________\n",
      "concatenate_38 (Concatenate)    (None, 32, 32, 384)  0           activation_112[0][0]             \n",
      "                                                                 activation_113[0][0]             \n",
      "                                                                 activation_114[0][0]             \n",
      "__________________________________________________________________________________________________\n",
      "res12a_branch_b-3x3rb (PixelCon (None, 32, 32, 128)  442496      concatenate_38[0][0]             \n",
      "__________________________________________________________________________________________________\n",
      "res12a_branch_b-3x3gb (PixelCon (None, 32, 32, 128)  442496      concatenate_38[0][0]             \n",
      "__________________________________________________________________________________________________\n",
      "res12a_branch_b-3x3bb (PixelCon (None, 32, 32, 128)  442496      concatenate_38[0][0]             \n",
      "__________________________________________________________________________________________________\n",
      "activation_115 (Activation)     (None, 32, 32, 128)  0           res12a_branch_b-3x3rb[0][0]      \n",
      "__________________________________________________________________________________________________\n",
      "activation_116 (Activation)     (None, 32, 32, 128)  0           res12a_branch_b-3x3gb[0][0]      \n",
      "__________________________________________________________________________________________________\n",
      "activation_117 (Activation)     (None, 32, 32, 128)  0           res12a_branch_b-3x3bb[0][0]      \n",
      "__________________________________________________________________________________________________\n",
      "concatenate_39 (Concatenate)    (None, 32, 32, 384)  0           activation_115[0][0]             \n",
      "                                                                 activation_116[0][0]             \n",
      "                                                                 activation_117[0][0]             \n",
      "__________________________________________________________________________________________________\n",
      "res12a_branch_c-1x1rb (PixelCon (None, 32, 32, 256)  98560       concatenate_39[0][0]             \n",
      "__________________________________________________________________________________________________\n",
      "res12a_branch_c-1x1gb (PixelCon (None, 32, 32, 256)  98560       concatenate_39[0][0]             \n",
      "__________________________________________________________________________________________________\n",
      "res12a_branch_c-1x1bb (PixelCon (None, 32, 32, 256)  98560       concatenate_39[0][0]             \n",
      "__________________________________________________________________________________________________\n",
      "activation_118 (Activation)     (None, 32, 32, 256)  0           res12a_branch_c-1x1rb[0][0]      \n",
      "__________________________________________________________________________________________________\n",
      "activation_119 (Activation)     (None, 32, 32, 256)  0           res12a_branch_c-1x1gb[0][0]      \n",
      "__________________________________________________________________________________________________\n",
      "activation_120 (Activation)     (None, 32, 32, 256)  0           res12a_branch_c-1x1bb[0][0]      \n",
      "__________________________________________________________________________________________________\n",
      "concatenate_40 (Concatenate)    (None, 32, 32, 768)  0           activation_118[0][0]             \n",
      "                                                                 activation_119[0][0]             \n",
      "                                                                 activation_120[0][0]             \n",
      "__________________________________________________________________________________________________\n",
      "add_13 (Add)                    (None, 32, 32, 768)  0           concatenate_40[0][0]             \n",
      "                                                                 add_12[0][0]                     \n",
      "__________________________________________________________________________________________________\n",
      "res13a_branch_a-1x1rb (PixelCon (None, 32, 32, 128)  98432       add_13[0][0]                     \n",
      "__________________________________________________________________________________________________\n",
      "res13a_branch_a-1x1gb (PixelCon (None, 32, 32, 128)  98432       add_13[0][0]                     \n",
      "__________________________________________________________________________________________________\n",
      "res13a_branch_a-1x1bb (PixelCon (None, 32, 32, 128)  98432       add_13[0][0]                     \n",
      "__________________________________________________________________________________________________\n",
      "activation_121 (Activation)     (None, 32, 32, 128)  0           res13a_branch_a-1x1rb[0][0]      \n",
      "__________________________________________________________________________________________________\n",
      "activation_122 (Activation)     (None, 32, 32, 128)  0           res13a_branch_a-1x1gb[0][0]      \n",
      "__________________________________________________________________________________________________\n",
      "activation_123 (Activation)     (None, 32, 32, 128)  0           res13a_branch_a-1x1bb[0][0]      \n",
      "__________________________________________________________________________________________________\n",
      "concatenate_41 (Concatenate)    (None, 32, 32, 384)  0           activation_121[0][0]             \n",
      "                                                                 activation_122[0][0]             \n",
      "                                                                 activation_123[0][0]             \n",
      "__________________________________________________________________________________________________\n",
      "res13a_branch_b-3x3rb (PixelCon (None, 32, 32, 128)  442496      concatenate_41[0][0]             \n",
      "__________________________________________________________________________________________________\n",
      "res13a_branch_b-3x3gb (PixelCon (None, 32, 32, 128)  442496      concatenate_41[0][0]             \n",
      "__________________________________________________________________________________________________\n",
      "res13a_branch_b-3x3bb (PixelCon (None, 32, 32, 128)  442496      concatenate_41[0][0]             \n",
      "__________________________________________________________________________________________________\n",
      "activation_124 (Activation)     (None, 32, 32, 128)  0           res13a_branch_b-3x3rb[0][0]      \n",
      "__________________________________________________________________________________________________\n",
      "activation_125 (Activation)     (None, 32, 32, 128)  0           res13a_branch_b-3x3gb[0][0]      \n",
      "__________________________________________________________________________________________________\n",
      "activation_126 (Activation)     (None, 32, 32, 128)  0           res13a_branch_b-3x3bb[0][0]      \n",
      "__________________________________________________________________________________________________\n",
      "concatenate_42 (Concatenate)    (None, 32, 32, 384)  0           activation_124[0][0]             \n",
      "                                                                 activation_125[0][0]             \n",
      "                                                                 activation_126[0][0]             \n",
      "__________________________________________________________________________________________________\n",
      "res13a_branch_c-1x1rb (PixelCon (None, 32, 32, 256)  98560       concatenate_42[0][0]             \n",
      "__________________________________________________________________________________________________\n",
      "res13a_branch_c-1x1gb (PixelCon (None, 32, 32, 256)  98560       concatenate_42[0][0]             \n",
      "__________________________________________________________________________________________________\n",
      "res13a_branch_c-1x1bb (PixelCon (None, 32, 32, 256)  98560       concatenate_42[0][0]             \n",
      "__________________________________________________________________________________________________\n",
      "activation_127 (Activation)     (None, 32, 32, 256)  0           res13a_branch_c-1x1rb[0][0]      \n",
      "__________________________________________________________________________________________________\n",
      "activation_128 (Activation)     (None, 32, 32, 256)  0           res13a_branch_c-1x1gb[0][0]      \n",
      "__________________________________________________________________________________________________\n",
      "activation_129 (Activation)     (None, 32, 32, 256)  0           res13a_branch_c-1x1bb[0][0]      \n",
      "__________________________________________________________________________________________________\n",
      "concatenate_43 (Concatenate)    (None, 32, 32, 768)  0           activation_127[0][0]             \n",
      "                                                                 activation_128[0][0]             \n",
      "                                                                 activation_129[0][0]             \n",
      "__________________________________________________________________________________________________\n",
      "add_14 (Add)                    (None, 32, 32, 768)  0           concatenate_43[0][0]             \n",
      "                                                                 add_13[0][0]                     \n",
      "__________________________________________________________________________________________________\n",
      "res14a_branch_a-1x1rb (PixelCon (None, 32, 32, 128)  98432       add_14[0][0]                     \n",
      "__________________________________________________________________________________________________\n",
      "res14a_branch_a-1x1gb (PixelCon (None, 32, 32, 128)  98432       add_14[0][0]                     \n",
      "__________________________________________________________________________________________________\n",
      "res14a_branch_a-1x1bb (PixelCon (None, 32, 32, 128)  98432       add_14[0][0]                     \n",
      "__________________________________________________________________________________________________\n",
      "activation_130 (Activation)     (None, 32, 32, 128)  0           res14a_branch_a-1x1rb[0][0]      \n",
      "__________________________________________________________________________________________________\n",
      "activation_131 (Activation)     (None, 32, 32, 128)  0           res14a_branch_a-1x1gb[0][0]      \n",
      "__________________________________________________________________________________________________\n",
      "activation_132 (Activation)     (None, 32, 32, 128)  0           res14a_branch_a-1x1bb[0][0]      \n",
      "__________________________________________________________________________________________________\n",
      "concatenate_44 (Concatenate)    (None, 32, 32, 384)  0           activation_130[0][0]             \n",
      "                                                                 activation_131[0][0]             \n",
      "                                                                 activation_132[0][0]             \n",
      "__________________________________________________________________________________________________\n",
      "res14a_branch_b-3x3rb (PixelCon (None, 32, 32, 128)  442496      concatenate_44[0][0]             \n",
      "__________________________________________________________________________________________________\n",
      "res14a_branch_b-3x3gb (PixelCon (None, 32, 32, 128)  442496      concatenate_44[0][0]             \n",
      "__________________________________________________________________________________________________\n",
      "res14a_branch_b-3x3bb (PixelCon (None, 32, 32, 128)  442496      concatenate_44[0][0]             \n",
      "__________________________________________________________________________________________________\n",
      "activation_133 (Activation)     (None, 32, 32, 128)  0           res14a_branch_b-3x3rb[0][0]      \n",
      "__________________________________________________________________________________________________\n",
      "activation_134 (Activation)     (None, 32, 32, 128)  0           res14a_branch_b-3x3gb[0][0]      \n",
      "__________________________________________________________________________________________________\n",
      "activation_135 (Activation)     (None, 32, 32, 128)  0           res14a_branch_b-3x3bb[0][0]      \n",
      "__________________________________________________________________________________________________\n",
      "concatenate_45 (Concatenate)    (None, 32, 32, 384)  0           activation_133[0][0]             \n",
      "                                                                 activation_134[0][0]             \n",
      "                                                                 activation_135[0][0]             \n",
      "__________________________________________________________________________________________________\n",
      "res14a_branch_c-1x1rb (PixelCon (None, 32, 32, 256)  98560       concatenate_45[0][0]             \n",
      "__________________________________________________________________________________________________\n",
      "res14a_branch_c-1x1gb (PixelCon (None, 32, 32, 256)  98560       concatenate_45[0][0]             \n",
      "__________________________________________________________________________________________________\n",
      "res14a_branch_c-1x1bb (PixelCon (None, 32, 32, 256)  98560       concatenate_45[0][0]             \n",
      "__________________________________________________________________________________________________\n",
      "activation_136 (Activation)     (None, 32, 32, 256)  0           res14a_branch_c-1x1rb[0][0]      \n",
      "__________________________________________________________________________________________________\n",
      "activation_137 (Activation)     (None, 32, 32, 256)  0           res14a_branch_c-1x1gb[0][0]      \n",
      "__________________________________________________________________________________________________\n",
      "activation_138 (Activation)     (None, 32, 32, 256)  0           res14a_branch_c-1x1bb[0][0]      \n",
      "__________________________________________________________________________________________________\n",
      "concatenate_46 (Concatenate)    (None, 32, 32, 768)  0           activation_136[0][0]             \n",
      "                                                                 activation_137[0][0]             \n",
      "                                                                 activation_138[0][0]             \n",
      "__________________________________________________________________________________________________\n",
      "add_15 (Add)                    (None, 32, 32, 768)  0           concatenate_46[0][0]             \n",
      "                                                                 add_14[0][0]                     \n",
      "__________________________________________________________________________________________________\n",
      "final1x1_1000_1_rb (PixelConv2D (None, 32, 32, 1024) 787456      add_15[0][0]                     \n",
      "__________________________________________________________________________________________________\n",
      "final1x1_1000_1_gb (PixelConv2D (None, 32, 32, 1024) 787456      add_15[0][0]                     \n",
      "__________________________________________________________________________________________________\n",
      "final1x1_1000_1_bb (PixelConv2D (None, 32, 32, 1024) 787456      add_15[0][0]                     \n",
      "__________________________________________________________________________________________________\n",
      "activation_139 (Activation)     (None, 32, 32, 1024) 0           final1x1_1000_1_rb[0][0]         \n",
      "__________________________________________________________________________________________________\n",
      "activation_140 (Activation)     (None, 32, 32, 1024) 0           final1x1_1000_1_gb[0][0]         \n",
      "__________________________________________________________________________________________________\n",
      "activation_141 (Activation)     (None, 32, 32, 1024) 0           final1x1_1000_1_bb[0][0]         \n",
      "__________________________________________________________________________________________________\n",
      "concatenate_47 (Concatenate)    (None, 32, 32, 3072) 0           activation_139[0][0]             \n",
      "                                                                 activation_140[0][0]             \n",
      "                                                                 activation_141[0][0]             \n",
      "__________________________________________________________________________________________________\n",
      "final1x1_1000_2_rb (PixelConv2D (None, 32, 32, 1024) 3146752     concatenate_47[0][0]             \n",
      "__________________________________________________________________________________________________\n",
      "final1x1_1000_2_gb (PixelConv2D (None, 32, 32, 1024) 3146752     concatenate_47[0][0]             \n",
      "__________________________________________________________________________________________________\n",
      "final1x1_1000_2_bb (PixelConv2D (None, 32, 32, 1024) 3146752     concatenate_47[0][0]             \n",
      "__________________________________________________________________________________________________\n",
      "activation_142 (Activation)     (None, 32, 32, 1024) 0           final1x1_1000_2_rb[0][0]         \n",
      "__________________________________________________________________________________________________\n",
      "activation_143 (Activation)     (None, 32, 32, 1024) 0           final1x1_1000_2_gb[0][0]         \n",
      "__________________________________________________________________________________________________\n",
      "activation_144 (Activation)     (None, 32, 32, 1024) 0           final1x1_1000_2_bb[0][0]         \n",
      "__________________________________________________________________________________________________\n",
      "concatenate_48 (Concatenate)    (None, 32, 32, 3072) 0           activation_142[0][0]             \n",
      "                                                                 activation_143[0][0]             \n",
      "                                                                 activation_144[0][0]             \n",
      "__________________________________________________________________________________________________\n",
      "x_mrb (PixelConv2D)             (None, 32, 32, 5)    15365       concatenate_48[0][0]             \n",
      "__________________________________________________________________________________________________\n",
      "x_mgb (PixelConv2D)             (None, 32, 32, 5)    15365       concatenate_48[0][0]             \n",
      "__________________________________________________________________________________________________\n",
      "x_mbb (PixelConv2D)             (None, 32, 32, 5)    15365       concatenate_48[0][0]             \n",
      "__________________________________________________________________________________________________\n",
      "x_srb (PixelConv2D)             (None, 32, 32, 5)    15365       concatenate_48[0][0]             \n",
      "__________________________________________________________________________________________________\n",
      "x_sgb (PixelConv2D)             (None, 32, 32, 5)    15365       concatenate_48[0][0]             \n",
      "__________________________________________________________________________________________________\n",
      "x_sbb (PixelConv2D)             (None, 32, 32, 5)    15365       concatenate_48[0][0]             \n",
      "__________________________________________________________________________________________________\n",
      "weightsrb (PixelConv2D)         (None, 32, 32, 5)    15365       concatenate_48[0][0]             \n",
      "__________________________________________________________________________________________________\n",
      "weightsgb (PixelConv2D)         (None, 32, 32, 5)    15365       concatenate_48[0][0]             \n",
      "__________________________________________________________________________________________________\n",
      "weightsbb (PixelConv2D)         (None, 32, 32, 5)    15365       concatenate_48[0][0]             \n",
      "__________________________________________________________________________________________________\n",
      "concatenate_49 (Concatenate)    (None, 32, 32, 15)   0           x_mrb[0][0]                      \n",
      "                                                                 x_mgb[0][0]                      \n",
      "                                                                 x_mbb[0][0]                      \n",
      "__________________________________________________________________________________________________\n",
      "concatenate_50 (Concatenate)    (None, 32, 32, 15)   0           x_srb[0][0]                      \n",
      "                                                                 x_sgb[0][0]                      \n",
      "                                                                 x_sbb[0][0]                      \n",
      "__________________________________________________________________________________________________\n",
      "concatenate_51 (Concatenate)    (None, 32, 32, 15)   0           weightsrb[0][0]                  \n",
      "                                                                 weightsgb[0][0]                  \n",
      "                                                                 weightsbb[0][0]                  \n",
      "__________________________________________________________________________________________________\n",
      "concatenate_52 (Concatenate)    (None, 32, 32, 45)   0           concatenate_49[0][0]             \n",
      "                                                                 concatenate_50[0][0]             \n",
      "                                                                 concatenate_51[0][0]             \n",
      "==================================================================================================\n",
      "Total params: 40,776,237\n",
      "Trainable params: 40,776,237\n",
      "Non-trainable params: 0\n",
      "__________________________________________________________________________________________________\n"
     ]
    }
   ],
   "source": [
    "# Work around Keras/tensorboard bug: https://github.com/keras-team/keras/issues/10074\n",
    "K.clear_session()\n",
    "\n",
    "print(\"Building conv layers...\")\n",
    "main_input = Input(shape=original_img_size, name='main_input')\n",
    "\n",
    "x = conv_block(main_input, 256, (5, 5), name='conv1', is_first=True)\n",
    "\n",
    "resnet_depth = 5\n",
    "for stage in range(resnet_depth):\n",
    "    x = resnet_block(x, [128, 128, 256], stage, 'a', kernel=3)\n",
    "    \n",
    "resnet_depth = 5\n",
    "for stage in range(resnet_depth):\n",
    "    x = resnet_block(x, [128, 128, 256], stage + 5, 'a', kernel=3)\n",
    "    \n",
    "resnet_depth = 5\n",
    "for stage in range(resnet_depth):\n",
    "    x = resnet_block(x, [128, 128, 256], stage + 10, 'a', kernel=3)\n",
    "\n",
    "final_width = 1024\n",
    "x = final_block(x, final_width, 256, '1x1_1000_1')\n",
    "x = final_block(x, final_width, final_width, '1x1_1000_2')\n",
    "\n",
    "print(\"Building output layers...\")\n",
    "outputs = build_outputs(x, final_width)\n",
    "main_output = outputs\n",
    "\n",
    "print(\"Building model...\")\n",
    "model = Model(inputs=main_input, outputs=main_output)\n",
    "optimizer = Adam(lr=0.002)\n",
    "#optimizer = RMSprop(lr=0.001)\n",
    "model.compile(optimizer=optimizer, \n",
    "              loss=lambda x, y: pixelcnn_loss(x, y, img_rows, img_cols, img_chns, mixture_components))\n",
    "\n",
    "model.summary()"
   ]
  },
  {
   "cell_type": "code",
   "execution_count": 9,
   "metadata": {
    "ExecuteTime": {
     "end_time": "2019-07-07T12:01:19.348345Z",
     "start_time": "2019-07-06T15:10:35.602112Z"
    },
    "slideshow": {
     "slide_type": "-"
    }
   },
   "outputs": [
    {
     "data": {
      "application/vnd.jupyter.widget-view+json": {
       "model_id": "84e5c676dd0941cd9501ddfdd570008e",
       "version_major": 2,
       "version_minor": 0
      },
      "text/plain": [
       "HBox(children=(IntProgress(value=0, description='Training', max=1000), HTML(value='')))"
      ]
     },
     "metadata": {},
     "output_type": "display_data"
    },
    {
     "data": {
      "application/vnd.jupyter.widget-view+json": {
       "model_id": "",
       "version_major": 2,
       "version_minor": 0
      },
      "text/plain": [
       "HBox(children=(IntProgress(value=0, description='Epoch 0', max=50000), HTML(value='')))"
      ]
     },
     "metadata": {},
     "output_type": "display_data"
    },
    {
     "data": {
      "application/vnd.jupyter.widget-view+json": {
       "model_id": "",
       "version_major": 2,
       "version_minor": 0
      },
      "text/plain": [
       "HBox(children=(IntProgress(value=0, description='Epoch 1', max=50000), HTML(value='')))"
      ]
     },
     "metadata": {},
     "output_type": "display_data"
    },
    {
     "data": {
      "application/vnd.jupyter.widget-view+json": {
       "model_id": "",
       "version_major": 2,
       "version_minor": 0
      },
      "text/plain": [
       "HBox(children=(IntProgress(value=0, description='Epoch 2', max=50000), HTML(value='')))"
      ]
     },
     "metadata": {},
     "output_type": "display_data"
    },
    {
     "data": {
      "application/vnd.jupyter.widget-view+json": {
       "model_id": "",
       "version_major": 2,
       "version_minor": 0
      },
      "text/plain": [
       "HBox(children=(IntProgress(value=0, description='Epoch 3', max=50000), HTML(value='')))"
      ]
     },
     "metadata": {},
     "output_type": "display_data"
    },
    {
     "data": {
      "application/vnd.jupyter.widget-view+json": {
       "model_id": "",
       "version_major": 2,
       "version_minor": 0
      },
      "text/plain": [
       "HBox(children=(IntProgress(value=0, description='Epoch 4', max=50000), HTML(value='')))"
      ]
     },
     "metadata": {},
     "output_type": "display_data"
    },
    {
     "data": {
      "application/vnd.jupyter.widget-view+json": {
       "model_id": "",
       "version_major": 2,
       "version_minor": 0
      },
      "text/plain": [
       "HBox(children=(IntProgress(value=0, description='Epoch 5', max=50000), HTML(value='')))"
      ]
     },
     "metadata": {},
     "output_type": "display_data"
    },
    {
     "data": {
      "application/vnd.jupyter.widget-view+json": {
       "model_id": "",
       "version_major": 2,
       "version_minor": 0
      },
      "text/plain": [
       "HBox(children=(IntProgress(value=0, description='Epoch 6', max=50000), HTML(value='')))"
      ]
     },
     "metadata": {},
     "output_type": "display_data"
    },
    {
     "data": {
      "application/vnd.jupyter.widget-view+json": {
       "model_id": "",
       "version_major": 2,
       "version_minor": 0
      },
      "text/plain": [
       "HBox(children=(IntProgress(value=0, description='Epoch 7', max=50000), HTML(value='')))"
      ]
     },
     "metadata": {},
     "output_type": "display_data"
    },
    {
     "data": {
      "application/vnd.jupyter.widget-view+json": {
       "model_id": "",
       "version_major": 2,
       "version_minor": 0
      },
      "text/plain": [
       "HBox(children=(IntProgress(value=0, description='Epoch 8', max=50000), HTML(value='')))"
      ]
     },
     "metadata": {},
     "output_type": "display_data"
    },
    {
     "data": {
      "application/vnd.jupyter.widget-view+json": {
       "model_id": "",
       "version_major": 2,
       "version_minor": 0
      },
      "text/plain": [
       "HBox(children=(IntProgress(value=0, description='Epoch 9', max=50000), HTML(value='')))"
      ]
     },
     "metadata": {},
     "output_type": "display_data"
    },
    {
     "data": {
      "application/vnd.jupyter.widget-view+json": {
       "model_id": "",
       "version_major": 2,
       "version_minor": 0
      },
      "text/plain": [
       "HBox(children=(IntProgress(value=0, description='Epoch 10', max=50000), HTML(value='')))"
      ]
     },
     "metadata": {},
     "output_type": "display_data"
    },
    {
     "data": {
      "application/vnd.jupyter.widget-view+json": {
       "model_id": "",
       "version_major": 2,
       "version_minor": 0
      },
      "text/plain": [
       "HBox(children=(IntProgress(value=0, description='Epoch 11', max=50000), HTML(value='')))"
      ]
     },
     "metadata": {},
     "output_type": "display_data"
    },
    {
     "data": {
      "application/vnd.jupyter.widget-view+json": {
       "model_id": "",
       "version_major": 2,
       "version_minor": 0
      },
      "text/plain": [
       "HBox(children=(IntProgress(value=0, description='Epoch 12', max=50000), HTML(value='')))"
      ]
     },
     "metadata": {},
     "output_type": "display_data"
    },
    {
     "data": {
      "application/vnd.jupyter.widget-view+json": {
       "model_id": "",
       "version_major": 2,
       "version_minor": 0
      },
      "text/plain": [
       "HBox(children=(IntProgress(value=0, description='Epoch 13', max=50000), HTML(value='')))"
      ]
     },
     "metadata": {},
     "output_type": "display_data"
    },
    {
     "data": {
      "application/vnd.jupyter.widget-view+json": {
       "model_id": "",
       "version_major": 2,
       "version_minor": 0
      },
      "text/plain": [
       "HBox(children=(IntProgress(value=0, description='Epoch 14', max=50000), HTML(value='')))"
      ]
     },
     "metadata": {},
     "output_type": "display_data"
    },
    {
     "data": {
      "application/vnd.jupyter.widget-view+json": {
       "model_id": "",
       "version_major": 2,
       "version_minor": 0
      },
      "text/plain": [
       "HBox(children=(IntProgress(value=0, description='Epoch 15', max=50000), HTML(value='')))"
      ]
     },
     "metadata": {},
     "output_type": "display_data"
    },
    {
     "data": {
      "application/vnd.jupyter.widget-view+json": {
       "model_id": "",
       "version_major": 2,
       "version_minor": 0
      },
      "text/plain": [
       "HBox(children=(IntProgress(value=0, description='Epoch 16', max=50000), HTML(value='')))"
      ]
     },
     "metadata": {},
     "output_type": "display_data"
    },
    {
     "data": {
      "application/vnd.jupyter.widget-view+json": {
       "model_id": "",
       "version_major": 2,
       "version_minor": 0
      },
      "text/plain": [
       "HBox(children=(IntProgress(value=0, description='Epoch 17', max=50000), HTML(value='')))"
      ]
     },
     "metadata": {},
     "output_type": "display_data"
    },
    {
     "data": {
      "application/vnd.jupyter.widget-view+json": {
       "model_id": "",
       "version_major": 2,
       "version_minor": 0
      },
      "text/plain": [
       "HBox(children=(IntProgress(value=0, description='Epoch 18', max=50000), HTML(value='')))"
      ]
     },
     "metadata": {},
     "output_type": "display_data"
    },
    {
     "data": {
      "application/vnd.jupyter.widget-view+json": {
       "model_id": "",
       "version_major": 2,
       "version_minor": 0
      },
      "text/plain": [
       "HBox(children=(IntProgress(value=0, description='Epoch 19', max=50000), HTML(value='')))"
      ]
     },
     "metadata": {},
     "output_type": "display_data"
    },
    {
     "data": {
      "application/vnd.jupyter.widget-view+json": {
       "model_id": "",
       "version_major": 2,
       "version_minor": 0
      },
      "text/plain": [
       "HBox(children=(IntProgress(value=0, description='Epoch 20', max=50000), HTML(value='')))"
      ]
     },
     "metadata": {},
     "output_type": "display_data"
    },
    {
     "data": {
      "application/vnd.jupyter.widget-view+json": {
       "model_id": "",
       "version_major": 2,
       "version_minor": 0
      },
      "text/plain": [
       "HBox(children=(IntProgress(value=0, description='Epoch 21', max=50000), HTML(value='')))"
      ]
     },
     "metadata": {},
     "output_type": "display_data"
    },
    {
     "data": {
      "application/vnd.jupyter.widget-view+json": {
       "model_id": "",
       "version_major": 2,
       "version_minor": 0
      },
      "text/plain": [
       "HBox(children=(IntProgress(value=0, description='Epoch 22', max=50000), HTML(value='')))"
      ]
     },
     "metadata": {},
     "output_type": "display_data"
    },
    {
     "data": {
      "application/vnd.jupyter.widget-view+json": {
       "model_id": "",
       "version_major": 2,
       "version_minor": 0
      },
      "text/plain": [
       "HBox(children=(IntProgress(value=0, description='Epoch 23', max=50000), HTML(value='')))"
      ]
     },
     "metadata": {},
     "output_type": "display_data"
    },
    {
     "data": {
      "application/vnd.jupyter.widget-view+json": {
       "model_id": "",
       "version_major": 2,
       "version_minor": 0
      },
      "text/plain": [
       "HBox(children=(IntProgress(value=0, description='Epoch 24', max=50000), HTML(value='')))"
      ]
     },
     "metadata": {},
     "output_type": "display_data"
    },
    {
     "data": {
      "application/vnd.jupyter.widget-view+json": {
       "model_id": "",
       "version_major": 2,
       "version_minor": 0
      },
      "text/plain": [
       "HBox(children=(IntProgress(value=0, description='Epoch 25', max=50000), HTML(value='')))"
      ]
     },
     "metadata": {},
     "output_type": "display_data"
    },
    {
     "data": {
      "application/vnd.jupyter.widget-view+json": {
       "model_id": "",
       "version_major": 2,
       "version_minor": 0
      },
      "text/plain": [
       "HBox(children=(IntProgress(value=0, description='Epoch 26', max=50000), HTML(value='')))"
      ]
     },
     "metadata": {},
     "output_type": "display_data"
    },
    {
     "data": {
      "application/vnd.jupyter.widget-view+json": {
       "model_id": "675b08c4a80444e1bdee63ab7a7a964d",
       "version_major": 2,
       "version_minor": 0
      },
      "text/plain": [
       "HBox(children=(IntProgress(value=0, description='Epoch 27', max=50000), HTML(value='')))"
      ]
     },
     "metadata": {},
     "output_type": "display_data"
    },
    {
     "ename": "KeyboardInterrupt",
     "evalue": "",
     "output_type": "error",
     "traceback": [
      "\u001b[0;31m---------------------------------------------------------------------------\u001b[0m",
      "\u001b[0;31mKeyboardInterrupt\u001b[0m                         Traceback (most recent call last)",
      "\u001b[0;32m<ipython-input-9-d45dec6dab7a>\u001b[0m in \u001b[0;36m<module>\u001b[0;34m()\u001b[0m\n\u001b[1;32m     15\u001b[0m     \u001b[0mcallbacks\u001b[0m\u001b[0;34m=\u001b[0m\u001b[0;34m[\u001b[0m\u001b[0mTQDMNotebookCallback\u001b[0m\u001b[0;34m(\u001b[0m\u001b[0;34m)\u001b[0m\u001b[0;34m,\u001b[0m \u001b[0mearly_stopping\u001b[0m\u001b[0;34m,\u001b[0m \u001b[0mreduce_lr\u001b[0m\u001b[0;34m]\u001b[0m\u001b[0;34m,\u001b[0m\u001b[0;31m#, checkpoint],#, tensorboard],\u001b[0m\u001b[0;34m\u001b[0m\u001b[0m\n\u001b[1;32m     16\u001b[0m     \u001b[0mvalidation_data\u001b[0m\u001b[0;34m=\u001b[0m\u001b[0;34m(\u001b[0m\u001b[0mX_test\u001b[0m\u001b[0;34m,\u001b[0m \u001b[0mX_test\u001b[0m\u001b[0;34m)\u001b[0m\u001b[0;34m,\u001b[0m\u001b[0;34m\u001b[0m\u001b[0m\n\u001b[0;32m---> 17\u001b[0;31m     \u001b[0mverbose\u001b[0m\u001b[0;34m=\u001b[0m\u001b[0;36m0\u001b[0m\u001b[0;34m\u001b[0m\u001b[0m\n\u001b[0m\u001b[1;32m     18\u001b[0m )\n",
      "\u001b[0;32m~/anaconda3/lib/python3.6/site-packages/keras/engine/training.py\u001b[0m in \u001b[0;36mfit\u001b[0;34m(self, x, y, batch_size, epochs, verbose, callbacks, validation_split, validation_data, shuffle, class_weight, sample_weight, initial_epoch, steps_per_epoch, validation_steps, **kwargs)\u001b[0m\n\u001b[1;32m   1037\u001b[0m                                         \u001b[0minitial_epoch\u001b[0m\u001b[0;34m=\u001b[0m\u001b[0minitial_epoch\u001b[0m\u001b[0;34m,\u001b[0m\u001b[0;34m\u001b[0m\u001b[0m\n\u001b[1;32m   1038\u001b[0m                                         \u001b[0msteps_per_epoch\u001b[0m\u001b[0;34m=\u001b[0m\u001b[0msteps_per_epoch\u001b[0m\u001b[0;34m,\u001b[0m\u001b[0;34m\u001b[0m\u001b[0m\n\u001b[0;32m-> 1039\u001b[0;31m                                         validation_steps=validation_steps)\n\u001b[0m\u001b[1;32m   1040\u001b[0m \u001b[0;34m\u001b[0m\u001b[0m\n\u001b[1;32m   1041\u001b[0m     def evaluate(self, x=None, y=None,\n",
      "\u001b[0;32m~/anaconda3/lib/python3.6/site-packages/keras/engine/training_arrays.py\u001b[0m in \u001b[0;36mfit_loop\u001b[0;34m(model, f, ins, out_labels, batch_size, epochs, verbose, callbacks, val_f, val_ins, shuffle, callback_metrics, initial_epoch, steps_per_epoch, validation_steps)\u001b[0m\n\u001b[1;32m    197\u001b[0m                     \u001b[0mins_batch\u001b[0m\u001b[0;34m[\u001b[0m\u001b[0mi\u001b[0m\u001b[0;34m]\u001b[0m \u001b[0;34m=\u001b[0m \u001b[0mins_batch\u001b[0m\u001b[0;34m[\u001b[0m\u001b[0mi\u001b[0m\u001b[0;34m]\u001b[0m\u001b[0;34m.\u001b[0m\u001b[0mtoarray\u001b[0m\u001b[0;34m(\u001b[0m\u001b[0;34m)\u001b[0m\u001b[0;34m\u001b[0m\u001b[0m\n\u001b[1;32m    198\u001b[0m \u001b[0;34m\u001b[0m\u001b[0m\n\u001b[0;32m--> 199\u001b[0;31m                 \u001b[0mouts\u001b[0m \u001b[0;34m=\u001b[0m \u001b[0mf\u001b[0m\u001b[0;34m(\u001b[0m\u001b[0mins_batch\u001b[0m\u001b[0;34m)\u001b[0m\u001b[0;34m\u001b[0m\u001b[0m\n\u001b[0m\u001b[1;32m    200\u001b[0m                 \u001b[0mouts\u001b[0m \u001b[0;34m=\u001b[0m \u001b[0mto_list\u001b[0m\u001b[0;34m(\u001b[0m\u001b[0mouts\u001b[0m\u001b[0;34m)\u001b[0m\u001b[0;34m\u001b[0m\u001b[0m\n\u001b[1;32m    201\u001b[0m                 \u001b[0;32mfor\u001b[0m \u001b[0ml\u001b[0m\u001b[0;34m,\u001b[0m \u001b[0mo\u001b[0m \u001b[0;32min\u001b[0m \u001b[0mzip\u001b[0m\u001b[0;34m(\u001b[0m\u001b[0mout_labels\u001b[0m\u001b[0;34m,\u001b[0m \u001b[0mouts\u001b[0m\u001b[0;34m)\u001b[0m\u001b[0;34m:\u001b[0m\u001b[0;34m\u001b[0m\u001b[0m\n",
      "\u001b[0;32m~/anaconda3/lib/python3.6/site-packages/keras/backend/tensorflow_backend.py\u001b[0m in \u001b[0;36m__call__\u001b[0;34m(self, inputs)\u001b[0m\n\u001b[1;32m   2713\u001b[0m                 \u001b[0;32mreturn\u001b[0m \u001b[0mself\u001b[0m\u001b[0;34m.\u001b[0m\u001b[0m_legacy_call\u001b[0m\u001b[0;34m(\u001b[0m\u001b[0minputs\u001b[0m\u001b[0;34m)\u001b[0m\u001b[0;34m\u001b[0m\u001b[0m\n\u001b[1;32m   2714\u001b[0m \u001b[0;34m\u001b[0m\u001b[0m\n\u001b[0;32m-> 2715\u001b[0;31m             \u001b[0;32mreturn\u001b[0m \u001b[0mself\u001b[0m\u001b[0;34m.\u001b[0m\u001b[0m_call\u001b[0m\u001b[0;34m(\u001b[0m\u001b[0minputs\u001b[0m\u001b[0;34m)\u001b[0m\u001b[0;34m\u001b[0m\u001b[0m\n\u001b[0m\u001b[1;32m   2716\u001b[0m         \u001b[0;32melse\u001b[0m\u001b[0;34m:\u001b[0m\u001b[0;34m\u001b[0m\u001b[0m\n\u001b[1;32m   2717\u001b[0m             \u001b[0;32mif\u001b[0m \u001b[0mpy_any\u001b[0m\u001b[0;34m(\u001b[0m\u001b[0mis_tensor\u001b[0m\u001b[0;34m(\u001b[0m\u001b[0mx\u001b[0m\u001b[0;34m)\u001b[0m \u001b[0;32mfor\u001b[0m \u001b[0mx\u001b[0m \u001b[0;32min\u001b[0m \u001b[0minputs\u001b[0m\u001b[0;34m)\u001b[0m\u001b[0;34m:\u001b[0m\u001b[0;34m\u001b[0m\u001b[0m\n",
      "\u001b[0;32m~/anaconda3/lib/python3.6/site-packages/keras/backend/tensorflow_backend.py\u001b[0m in \u001b[0;36m_call\u001b[0;34m(self, inputs)\u001b[0m\n\u001b[1;32m   2673\u001b[0m             \u001b[0mfetched\u001b[0m \u001b[0;34m=\u001b[0m \u001b[0mself\u001b[0m\u001b[0;34m.\u001b[0m\u001b[0m_callable_fn\u001b[0m\u001b[0;34m(\u001b[0m\u001b[0;34m*\u001b[0m\u001b[0marray_vals\u001b[0m\u001b[0;34m,\u001b[0m \u001b[0mrun_metadata\u001b[0m\u001b[0;34m=\u001b[0m\u001b[0mself\u001b[0m\u001b[0;34m.\u001b[0m\u001b[0mrun_metadata\u001b[0m\u001b[0;34m)\u001b[0m\u001b[0;34m\u001b[0m\u001b[0m\n\u001b[1;32m   2674\u001b[0m         \u001b[0;32melse\u001b[0m\u001b[0;34m:\u001b[0m\u001b[0;34m\u001b[0m\u001b[0m\n\u001b[0;32m-> 2675\u001b[0;31m             \u001b[0mfetched\u001b[0m \u001b[0;34m=\u001b[0m \u001b[0mself\u001b[0m\u001b[0;34m.\u001b[0m\u001b[0m_callable_fn\u001b[0m\u001b[0;34m(\u001b[0m\u001b[0;34m*\u001b[0m\u001b[0marray_vals\u001b[0m\u001b[0;34m)\u001b[0m\u001b[0;34m\u001b[0m\u001b[0m\n\u001b[0m\u001b[1;32m   2676\u001b[0m         \u001b[0;32mreturn\u001b[0m \u001b[0mfetched\u001b[0m\u001b[0;34m[\u001b[0m\u001b[0;34m:\u001b[0m\u001b[0mlen\u001b[0m\u001b[0;34m(\u001b[0m\u001b[0mself\u001b[0m\u001b[0;34m.\u001b[0m\u001b[0moutputs\u001b[0m\u001b[0;34m)\u001b[0m\u001b[0;34m]\u001b[0m\u001b[0;34m\u001b[0m\u001b[0m\n\u001b[1;32m   2677\u001b[0m \u001b[0;34m\u001b[0m\u001b[0m\n",
      "\u001b[0;32m~/anaconda3/lib/python3.6/site-packages/tensorflow/python/client/session.py\u001b[0m in \u001b[0;36m__call__\u001b[0;34m(self, *args, **kwargs)\u001b[0m\n\u001b[1;32m   1437\u001b[0m           ret = tf_session.TF_SessionRunCallable(\n\u001b[1;32m   1438\u001b[0m               \u001b[0mself\u001b[0m\u001b[0;34m.\u001b[0m\u001b[0m_session\u001b[0m\u001b[0;34m.\u001b[0m\u001b[0m_session\u001b[0m\u001b[0;34m,\u001b[0m \u001b[0mself\u001b[0m\u001b[0;34m.\u001b[0m\u001b[0m_handle\u001b[0m\u001b[0;34m,\u001b[0m \u001b[0margs\u001b[0m\u001b[0;34m,\u001b[0m \u001b[0mstatus\u001b[0m\u001b[0;34m,\u001b[0m\u001b[0;34m\u001b[0m\u001b[0m\n\u001b[0;32m-> 1439\u001b[0;31m               run_metadata_ptr)\n\u001b[0m\u001b[1;32m   1440\u001b[0m         \u001b[0;32mif\u001b[0m \u001b[0mrun_metadata\u001b[0m\u001b[0;34m:\u001b[0m\u001b[0;34m\u001b[0m\u001b[0m\n\u001b[1;32m   1441\u001b[0m           \u001b[0mproto_data\u001b[0m \u001b[0;34m=\u001b[0m \u001b[0mtf_session\u001b[0m\u001b[0;34m.\u001b[0m\u001b[0mTF_GetBuffer\u001b[0m\u001b[0;34m(\u001b[0m\u001b[0mrun_metadata_ptr\u001b[0m\u001b[0;34m)\u001b[0m\u001b[0;34m\u001b[0m\u001b[0m\n",
      "\u001b[0;31mKeyboardInterrupt\u001b[0m: "
     ]
    }
   ],
   "source": [
    "early_stopping = keras.callbacks.EarlyStopping('val_loss', min_delta=50.0, patience=5)\n",
    "reduce_lr = keras.callbacks.ReduceLROnPlateau(monitor='val_loss', factor=0.5, patience=2, min_lr=0.0001)\n",
    "filepath='./checkpoints/model-weights-2019-05-30.hdf5'\n",
    "checkpoint = keras.callbacks.ModelCheckpoint(filepath, monitor='val_loss', verbose=1, save_best_only=True, \n",
    "                                             mode='auto', period=10)\n",
    "\n",
    "#tensorboard = keras.callbacks.TensorBoard(log_dir='./logs_2019-05-13/' + str(int(time.time() % 10000)),\n",
    "#                                          histogram_freq=1, batch_size=1,\n",
    "#                                          write_grads=True, write_images=True, update_freq='batch')\n",
    "\n",
    "history = model.fit(\n",
    "    X_train, X_train,\n",
    "    batch_size=batch_size,\n",
    "    epochs=1000,\n",
    "    callbacks=[TQDMNotebookCallback(), early_stopping, reduce_lr],#, checkpoint],#, tensorboard],\n",
    "    validation_data=(X_test, X_test),\n",
    "    verbose=0\n",
    ")"
   ]
  },
  {
   "cell_type": "code",
   "execution_count": 15,
   "metadata": {
    "ExecuteTime": {
     "end_time": "2019-07-07T12:01:49.445935Z",
     "start_time": "2019-07-07T12:01:49.442397Z"
    }
   },
   "outputs": [],
   "source": [
    "#history = model.history\n",
    "#history"
   ]
  },
  {
   "cell_type": "code",
   "execution_count": 17,
   "metadata": {
    "ExecuteTime": {
     "end_time": "2019-07-07T12:02:14.378028Z",
     "start_time": "2019-07-07T12:02:14.253164Z"
    },
    "scrolled": false,
    "slideshow": {
     "slide_type": "-"
    }
   },
   "outputs": [
    {
     "data": {
      "text/html": [
       "<div>\n",
       "<style scoped>\n",
       "    .dataframe tbody tr th:only-of-type {\n",
       "        vertical-align: middle;\n",
       "    }\n",
       "\n",
       "    .dataframe tbody tr th {\n",
       "        vertical-align: top;\n",
       "    }\n",
       "\n",
       "    .dataframe thead th {\n",
       "        text-align: right;\n",
       "    }\n",
       "</style>\n",
       "<table border=\"1\" class=\"dataframe\">\n",
       "  <thead>\n",
       "    <tr style=\"text-align: right;\">\n",
       "      <th></th>\n",
       "      <th>val_loss</th>\n",
       "      <th>loss</th>\n",
       "      <th>lr</th>\n",
       "    </tr>\n",
       "  </thead>\n",
       "  <tbody>\n",
       "    <tr>\n",
       "      <th>count</th>\n",
       "      <td>27.000000</td>\n",
       "      <td>27.000000</td>\n",
       "      <td>27.000000</td>\n",
       "    </tr>\n",
       "    <tr>\n",
       "      <th>mean</th>\n",
       "      <td>10765.845021</td>\n",
       "      <td>10841.652838</td>\n",
       "      <td>0.000898</td>\n",
       "    </tr>\n",
       "    <tr>\n",
       "      <th>std</th>\n",
       "      <td>434.439146</td>\n",
       "      <td>565.252318</td>\n",
       "      <td>0.000764</td>\n",
       "    </tr>\n",
       "    <tr>\n",
       "      <th>min</th>\n",
       "      <td>10425.242539</td>\n",
       "      <td>10435.324504</td>\n",
       "      <td>0.000250</td>\n",
       "    </tr>\n",
       "    <tr>\n",
       "      <th>0%</th>\n",
       "      <td>10425.242539</td>\n",
       "      <td>10435.324504</td>\n",
       "      <td>0.000250</td>\n",
       "    </tr>\n",
       "    <tr>\n",
       "      <th>25%</th>\n",
       "      <td>10460.958449</td>\n",
       "      <td>10470.320857</td>\n",
       "      <td>0.000250</td>\n",
       "    </tr>\n",
       "    <tr>\n",
       "      <th>50%</th>\n",
       "      <td>10542.767880</td>\n",
       "      <td>10594.843465</td>\n",
       "      <td>0.000500</td>\n",
       "    </tr>\n",
       "    <tr>\n",
       "      <th>75%</th>\n",
       "      <td>10982.036230</td>\n",
       "      <td>11112.249804</td>\n",
       "      <td>0.002000</td>\n",
       "    </tr>\n",
       "    <tr>\n",
       "      <th>95%</th>\n",
       "      <td>11715.278128</td>\n",
       "      <td>11676.719832</td>\n",
       "      <td>0.002000</td>\n",
       "    </tr>\n",
       "    <tr>\n",
       "      <th>99%</th>\n",
       "      <td>11912.164643</td>\n",
       "      <td>12637.773490</td>\n",
       "      <td>0.002000</td>\n",
       "    </tr>\n",
       "    <tr>\n",
       "      <th>max</th>\n",
       "      <td>11928.246056</td>\n",
       "      <td>12947.716178</td>\n",
       "      <td>0.002000</td>\n",
       "    </tr>\n",
       "  </tbody>\n",
       "</table>\n",
       "</div>"
      ],
      "text/plain": [
       "           val_loss          loss         lr\n",
       "count     27.000000     27.000000  27.000000\n",
       "mean   10765.845021  10841.652838   0.000898\n",
       "std      434.439146    565.252318   0.000764\n",
       "min    10425.242539  10435.324504   0.000250\n",
       "0%     10425.242539  10435.324504   0.000250\n",
       "25%    10460.958449  10470.320857   0.000250\n",
       "50%    10542.767880  10594.843465   0.000500\n",
       "75%    10982.036230  11112.249804   0.002000\n",
       "95%    11715.278128  11676.719832   0.002000\n",
       "99%    11912.164643  12637.773490   0.002000\n",
       "max    11928.246056  12947.716178   0.002000"
      ]
     },
     "metadata": {},
     "output_type": "display_data"
    },
    {
     "data": {
      "text/plain": [
       "<matplotlib.axes._subplots.AxesSubplot at 0x7f3ed86387b8>"
      ]
     },
     "execution_count": 17,
     "metadata": {},
     "output_type": "execute_result"
    },
    {
     "data": {
      "image/png": "[encoded data removed]",
      "text/plain": [
       "<Figure size 576x432 with 1 Axes>"
      ]
     },
     "metadata": {},
     "output_type": "display_data"
    }
   ],
   "source": [
    "df = pd.DataFrame(history.history)\n",
    "display(df.describe(percentiles=[0.25 * i for i in range(4)] + [0.95, 0.99]))\n",
    "col = 'val_loss' if 'val_loss' in df else 'loss'\n",
    "df['loss'][-25:].plot(figsize=(8, 6))"
   ]
  },
  {
   "cell_type": "code",
   "execution_count": null,
   "metadata": {
    "ExecuteTime": {
     "end_time": "2019-07-07T12:01:19.350132Z",
     "start_time": "2019-07-06T15:10:29.292Z"
    }
   },
   "outputs": [],
   "source": [
    "#model.load_weights(filepath)\n",
    "#model.compile(optimizer=optimizer, \n",
    "#              loss=lambda x, y: pixelcnn_loss(x, y, img_rows, img_cols, img_chns, mixture_components))"
   ]
  },
  {
   "cell_type": "code",
   "execution_count": 21,
   "metadata": {
    "ExecuteTime": {
     "end_time": "2019-07-07T12:10:27.938546Z",
     "start_time": "2019-07-07T12:10:27.930071Z"
    },
    "scrolled": false
   },
   "outputs": [],
   "source": [
    "debug = False\n",
    "\n",
    "def gen_image(model, num_samples=batch_size):\n",
    "    x_sample = np.zeros((num_samples, img_rows, img_cols, img_chns))\n",
    "    \n",
    "    # Iteratively generate each conditional pixel P(x_i | x_{1,..,i-1})\n",
    "    for i in range(img_rows):\n",
    "        for j in range(img_cols):\n",
    "            for k in range(img_chns):\n",
    "                # =======================================================\n",
    "                #x_out = model.predict(X_train, num_samples)\n",
    "                x_out = model.predict(x_sample, num_samples)\n",
    "                for n in range(num_samples):\n",
    "                    offset = k * mixture_components\n",
    "                    x_ms = x_out[n, i, j, offset:offset + mixture_components]\n",
    "                    \n",
    "                    offset = mixture_components * img_chns + k * mixture_components\n",
    "                    x_invs = x_out[n, i, j, offset:offset + mixture_components]\n",
    "                    \n",
    "                    offset = 2 * mixture_components * img_chns + k * mixture_components\n",
    "                    weights = softmax(x_out[n, i, j, offset:offset + mixture_components])\n",
    "                    \n",
    "                    pvals = compute_mixture(x_ms, x_invs, weights, mixture_components)\n",
    "                    pvals /= (np.sum(pvals) + 1e-5)\n",
    "                    pixel_val = np.argmax(np.random.multinomial(1, pvals))\n",
    "                    x_sample[n, i, j, k] = (pixel_val - 127.5) / 127.5\n",
    "                    if 0 <= i <= 3 and 0 <= j <= 3 and n == 0 and debug:\n",
    "                        print(\"====\", i, j, k)\n",
    "                        print(\"X_train[0/1\", i, j, k, \"] = \", X_train[0, i, j, k], ', ', X_train[1, i, j, k], \n",
    "                              \" (%s, %s)\" % (X_train[0, i, j, k] * 127.5 + 127.5, X_train[1, i, j, k] * 127.5 + 127.5))\n",
    "                        print(\" m: \", x_ms, \"(%s)\" % (x_ms * 127.5 + 127.5))\n",
    "                        print(\" E[m]: \", (x_ms * weights).sum(), \"(%s)\" % (x_ms * 127.5 + 127.5))\n",
    "                        print(\" invs: \", x_invs)\n",
    "                        print(\" weights: \", weights, \" (\", x_out[n, i, j, offset:offset + mixture_components] ,\")\")\n",
    "                        s = pd.Series(pvals)\n",
    "                        print(\" pvals: \", s[s>1e-2])\n",
    "                        print(\" pixel_val: \", pixel_val)\n",
    "                        samples = pd.Series(np.random.choice(len(pvals), 1000, p=pvals / pvals.sum()))\n",
    "                        samples.hist(bins=128, alpha=0.5, label='generated')\n",
    "                        #print(\"====\", i, j, k)\n",
    "                        #print(\" m: \", x_ms)\n",
    "                        #print(\" invs: \", x_invs)\n",
    "                        #print(\" weights: \", weights)\n",
    "                        #print(\" pixel_val: \", pixel_val)\n",
    "                        #print(\" x_out[n, i, j, :]: \", x_out[n, i, j, :])\n",
    "                        #print(\" x_out: \", x_out)\n",
    "                        #print(\" sample_val: \", x_sample[n, i, j, k])\n",
    "                        #print(\" pvals: \", pvals)\n",
    "        #if debug:\n",
    "        print(\"row\", i)\n",
    "        \n",
    "                \n",
    "    return (x_sample * 127.5 + 127.5)\n"
   ]
  },
  {
   "cell_type": "code",
   "execution_count": 22,
   "metadata": {
    "ExecuteTime": {
     "end_time": "2019-07-07T12:10:29.124166Z",
     "start_time": "2019-07-07T12:10:29.121244Z"
    }
   },
   "outputs": [],
   "source": [
    "#%lprun -f compute_mixture gen_image(model, 2)"
   ]
  },
  {
   "cell_type": "code",
   "execution_count": 36,
   "metadata": {
    "ExecuteTime": {
     "end_time": "2019-07-07T13:45:21.454748Z",
     "start_time": "2019-07-07T13:09:04.942299Z"
    }
   },
   "outputs": [
    {
     "name": "stdout",
     "output_type": "stream",
     "text": [
      "(128, 128, 3)\n",
      "row 0\n",
      "row 1\n",
      "row 2\n",
      "row 3\n",
      "row 4\n",
      "row 5\n",
      "row 6\n",
      "row 7\n",
      "row 8\n",
      "row 9\n",
      "row 10\n",
      "row 11\n",
      "row 12\n",
      "row 13\n",
      "row 14\n",
      "row 15\n",
      "row 16\n",
      "row 17\n",
      "row 18\n",
      "row 19\n",
      "row 20\n",
      "row 21\n",
      "row 22\n",
      "row 23\n",
      "row 24\n",
      "row 25\n",
      "row 26\n",
      "row 27\n",
      "row 28\n",
      "row 29\n",
      "row 30\n",
      "row 31\n"
     ]
    },
    {
     "data": {
      "image/png": "[encoded data removed]",
      "text/plain": [
       "<Figure size 864x864 with 1 Axes>"
      ]
     },
     "metadata": {},
     "output_type": "display_data"
    },
    {
     "name": "stdout",
     "output_type": "stream",
     "text": [
      "Elapsed:  2176.507438659668\n"
     ]
    }
   ],
   "source": [
    "start = time.time()\n",
    "\n",
    "n = 1 if debug else batch_size\n",
    "num_samples = min(n, batch_size)\n",
    "rows = int(n // np.ceil(np.sqrt(num_samples)))\n",
    "cols = int(n // np.ceil(np.sqrt(num_samples)))\n",
    "\n",
    "figure = np.zeros((img_rows * rows, img_cols * cols, img_chns))\n",
    "print(figure.shape)\n",
    "samples = gen_image(model, num_samples=num_samples)\n",
    "for i in range(rows):\n",
    "    for j in range(cols):\n",
    "        img = samples[i * rows + j] / 255.\n",
    "        d_x = (i * img_rows)\n",
    "        d_y = (j * img_cols)\n",
    "        figure[d_x:d_x + img_rows, d_y:d_y + img_cols, :] = img\n",
    "        \n",
    "plt.figure(figsize=(12, 12))\n",
    "plt.imshow(figure)\n",
    "plt.show()\n",
    "\n",
    "done = time.time()\n",
    "elapsed = done - start\n",
    "print(\"Elapsed: \", elapsed)"
   ]
  },
  {
   "cell_type": "code",
   "execution_count": null,
   "metadata": {
    "ExecuteTime": {
     "end_time": "2019-07-07T12:03:04.959490Z",
     "start_time": "2019-07-07T12:02:30.674Z"
    }
   },
   "outputs": [],
   "source": [
    "for i in range(num_sample):\n",
    "    plt.figure(figsize=(2, 2))\n",
    "    plt.imshow((X_train[i] * 127.5 + 127.5) / 255.)\n",
    "    plt.show()\n",
    "\n",
    "plt.figure(figsize=(6, 4))\n",
    "plt.imshow(figure[:32,:64])\n",
    "plt.show()"
   ]
  },
  {
   "cell_type": "code",
   "execution_count": null,
   "metadata": {},
   "outputs": [],
   "source": []
  },
  {
   "cell_type": "markdown",
   "metadata": {},
   "source": [
    "# 2019-06-03\n",
    "\n",
    "* I *think* I fixed the loss function in two ways:\n",
    "  * I updated the offset for the exception and normal case, should be correct now\n",
    "  * I think I was doing an extra `K.sum()` at the end of the loss function, essentially summing up the entire batch's loss vs. just summing each item's loss.  Keras probably takes a `mean` at the end over the batch dimension, so probably no need to do a `sum`.  After this change, the reported loss looks more normal with los bits/pixel.\n",
    "* Right now, I'm trying smaller examples 4x4 with 2 images using 5 mixture components, I get some funky results, still need to experiment a bit more.  Although, before the `sum` change above, I did get something that looked kind of reasonable.  So it's probably just a bad run, too many mixture components, or maybe the `sum` change is weird.\n",
    "\n",
    "TODO: Play around a bit more, change mixture components, see if I can get an image that looks reasonable."
   ]
  },
  {
   "cell_type": "markdown",
   "metadata": {},
   "source": [
    "# 2019-06-08\n",
    "\n",
    "* Sped up the image generation, don't use `scipy.logistic.cdf`, it's too slow.  Instead just use `sigmoid` directly.\n",
    "  * Had to add an exception case to `sigmoid` prevent overflow.\n",
    "* It looks like the network is not properly distinguishing between the two images, it looks like it learns certain local parts but doesn't separate them when generating a new image. Wonder why that's happening?\n",
    "* Tried 9x9 convolution at beginning but still no dice.  Some ideas:\n",
    "  * Might be overfiting?  Althought seems unlikely... bits/pixel is low-ish but even when it was higher it didn't have the same problems\n",
    "  * Could be the adjustment I made on the loss function (to fix the exception case)?\n",
    "  * Some other reason???\n"
   ]
  },
  {
   "cell_type": "markdown",
   "metadata": {},
   "source": [
    "# 2019-06-27\n",
    "\n",
    "* Tried using image augementation to prevent overfitting and using the original images as the test set\n",
    "    * Validation loss definitely plateaus earlier than when I was using just training loss directly\n",
    "    * Image looks crazy, I get some mishmash of all the images together.  For some reason, it's not learning long range dependencies.  Maybe I need to make the filter size bigger?  Not quite sure.\n",
    "* Tried a bigger filter size and at least it looks like it's not mixing the two images (at 9x9 and 5x5), going to try (11x11 and 7x7)"
   ]
  },
  {
   "cell_type": "markdown",
   "metadata": {},
   "source": [
    "# 2019-07-02\n",
    "\n",
    "* Tried differing resolutions of kernel size (7x7, 5x5, 3x3) as you move through the ResNet filters, kind of looks a bit better?\n",
    "* Also tried reducing number of components\n",
    "* **PROBLEM**: One concerning point is that I never see a bi-modal distribution.  Shouldn't I see one?  These two samples have very different starting pixels (one is dark (40-60s), the other is light (150s)), should I see at least a bi-modal distribution?  Need to investigate - maybe shrink image first to speed up training."
   ]
  },
  {
   "cell_type": "markdown",
   "metadata": {},
   "source": [
    "# 2019-07-03\n",
    "\n",
    "* Removed the `5 * x + 3` lambda, doesn't look like it was needed\n",
    "* Took a closer look at the images genenerated by PixelCNN and they are crazy! No coherence, just a mishmash of stuff, no global structure!  So so long as I can get a small loss, I think I'm on the right track!\n",
    "* I will say that the first pixel doesn't get estimated correctly.  It's almost always unimodal, when it's clear that it should be bi-modal.  This might indicate that the network doesn't have enough capacity (or just can't figure out how to model this properly).\n",
    "    * However, when you do a small image (e.g. 2x2), it can correctly get a bimodel distribution for it.\n",
    "    * So there is something there about getting it right but when you have a big image, the conv layer probably can't capture every single pixel properly, it likely just prioritizes the \"important\" ones which are probably not on the edge."
   ]
  },
  {
   "cell_type": "markdown",
   "metadata": {},
   "source": [
    "# 2019-07-06\n",
    "\n",
    "* Trying some variations to run on the entire 50k CIFAR-10 dataset\n",
    "* Training is slow ~ 40min/epoch \n",
    "* Trying to increase learning rate but at 0.05+ I get into NaN territory\n",
    "* Started modifying `invs' = 0.1 * invs` to make the gradient on that variable smaller (we use `exp(invs)` in the loss function which explodes the loss if our learning rate is too high).\n",
    "  * Using this, I can set learning rate at `0.4`\n",
    "  * So far, the loss starts at a higher level (20k) and is decreasing at a decent clip.  Let's see if it keeps on going lower.\n",
    "  * I think this may in fact be better.  We want the `invs` to change slowly, while we want more freedome to move the `\\mu`.  \n",
    "  * If you look at the derivatives of `(x-\\mu)e^invs` vs `(x-\\mu)e^(0.1*invs)`, we see that the gradient of `\\mu` is similar (with respect to the `invs'`) but the gradient on `invs` is `0.1` smaller.\n",
    "  * Let's see what happens.\n",
    "* Actually, now I'm *multiplying* `invs' = b * invs` to make it train faster!  At least in the first few minutes, we have faster decline... let's see.  (This is kind of what I saw when I was doing single images.)\n",
    "  * Nevermind, it looks like it slowed down a bit.\n",
    "  * Just going to go back to no multiplication."
   ]
  },
  {
   "cell_type": "code",
   "execution_count": null,
   "metadata": {},
   "outputs": [],
   "source": []
  }
 ],
 "metadata": {
  "celltoolbar": "Slideshow",
  "kernelspec": {
   "display_name": "Python 3",
   "language": "python",
   "name": "python3"
  },
  "language_info": {
   "codemirror_mode": {
    "name": "ipython",
    "version": 3
   },
   "file_extension": ".py",
   "mimetype": "text/x-python",
   "name": "python",
   "nbconvert_exporter": "python",
   "pygments_lexer": "ipython3",
   "version": "3.6.5"
  },
  "widgets": {
   "state": {
    "042d9353a5294a1cae93f8eb9e9a3c84": {
     "views": [
      {
       "cell_index": 12
      }
     ]
    },
    "05e25527c52843438585a66b7e9f443c": {
     "views": [
      {
       "cell_index": 12
      }
     ]
    },
    "06fdc638a3dc45a0a1e82f2b3c90c18d": {
     "views": [
      {
       "cell_index": 12
      }
     ]
    },
    "07f49ab2133c40a4a245e0a348843084": {
     "views": [
      {
       "cell_index": 12
      }
     ]
    },
    "12369f27c46c46f58c925a3d9749e65d": {
     "views": [
      {
       "cell_index": 12
      }
     ]
    },
    "16bcb109a6814007801cf814c76aa6d3": {
     "views": [
      {
       "cell_index": 12
      }
     ]
    },
    "1930a5477ce44850aaa99c20f3f7e542": {
     "views": [
      {
       "cell_index": 12
      }
     ]
    },
    "194b186d11d94c28afd8a01d9fd8ae1e": {
     "views": [
      {
       "cell_index": 12
      }
     ]
    },
    "1ccc61b6a278489eacb5735a740e79bf": {
     "views": [
      {
       "cell_index": 12
      }
     ]
    },
    "1d67ae6836244a81bff253e0426488ff": {
     "views": [
      {
       "cell_index": 12
      }
     ]
    },
    "213bd5ec7a124467b85e240c7bdcc819": {
     "views": [
      {
       "cell_index": 12
      }
     ]
    },
    "23c591bc3a7e4df5b0e21677e2869f27": {
     "views": [
      {
       "cell_index": 12
      }
     ]
    },
    "24382361c62a4bbc9741c2129be71810": {
     "views": [
      {
       "cell_index": 12
      }
     ]
    },
    "24419d69ef3347819fcc70448978bf05": {
     "views": [
      {
       "cell_index": 12
      }
     ]
    },
    "25ecd0ca842e43fcabc04a82fff2dac1": {
     "views": [
      {
       "cell_index": 12
      }
     ]
    },
    "26bab0144edd46609ddcdd6bfd65115f": {
     "views": [
      {
       "cell_index": 12
      }
     ]
    },
    "28707906c2344d00b07ee40c479121db": {
     "views": [
      {
       "cell_index": 12
      }
     ]
    },
    "287646592b8e41f2920e73c7e92d2ec0": {
     "views": [
      {
       "cell_index": 12
      }
     ]
    },
    "28a8916064514ce7912c103e7370ad47": {
     "views": [
      {
       "cell_index": 12
      }
     ]
    },
    "2a100dade8384007bf4abf580068cdc3": {
     "views": [
      {
       "cell_index": 12
      }
     ]
    },
    "2b28c9ea3e5b4950bdfcd897162bd56d": {
     "views": [
      {
       "cell_index": 12
      }
     ]
    },
    "2b5b08661aee4f9296e0878cb4ce041b": {
     "views": [
      {
       "cell_index": 12
      }
     ]
    },
    "2bd96fa1931842749cd9ba68345a4132": {
     "views": [
      {
       "cell_index": 12
      }
     ]
    },
    "32a97da73a594458a7080928d0aa12a4": {
     "views": [
      {
       "cell_index": 12
      }
     ]
    },
    "33a124f13a124b64bbca8a0a4a96999c": {
     "views": [
      {
       "cell_index": 12
      }
     ]
    },
    "3477d40608834aca90d0f57b44f7b3e7": {
     "views": [
      {
       "cell_index": 12
      }
     ]
    },
    "357ae9996a19410e98f131fc86e2c937": {
     "views": [
      {
       "cell_index": 12
      }
     ]
    },
    "3a1b2c52257843549c64aedde0be827c": {
     "views": [
      {
       "cell_index": 12
      }
     ]
    },
    "3a685442e38243f5a601d54d59c37fdd": {
     "views": [
      {
       "cell_index": 12
      }
     ]
    },
    "3ac750287e394cc281f1dc3487e94df6": {
     "views": [
      {
       "cell_index": 12
      }
     ]
    },
    "3afef162a0304210973a3797acf40cab": {
     "views": [
      {
       "cell_index": 12
      }
     ]
    },
    "3c47ecdd65c049cfa66eb21ad8fd933b": {
     "views": [
      {
       "cell_index": 12
      }
     ]
    },
    "40b3e13fb5ae4ceda47aa8542106d365": {
     "views": [
      {
       "cell_index": 12
      }
     ]
    },
    "439afcda2d4e4ce9af1ea7024a9bd0b5": {
     "views": [
      {
       "cell_index": 12
      }
     ]
    },
    "440c8e7f865840019dd96476fe5fe1bc": {
     "views": [
      {
       "cell_index": 12
      }
     ]
    },
    "4480a3d377a748c5bbd202d71b80b323": {
     "views": [
      {
       "cell_index": 12
      }
     ]
    },
    "4692e78886d942c982ddd2a97a55f649": {
     "views": [
      {
       "cell_index": 12
      }
     ]
    },
    "47282faa187746bb8339a4fb4ac58068": {
     "views": [
      {
       "cell_index": 12
      }
     ]
    },
    "4a1af9ac778a45d8baac52255b6aaac0": {
     "views": [
      {
       "cell_index": 12
      }
     ]
    },
    "4a7ca0764c1d4f4e8c818452e0faad22": {
     "views": [
      {
       "cell_index": 12
      }
     ]
    },
    "4f9ead92babf43a6a7c2dbe03bc199e1": {
     "views": [
      {
       "cell_index": 12
      }
     ]
    },
    "4fe4e6c7a7c04da0b82eedfee59f123c": {
     "views": [
      {
       "cell_index": 12
      }
     ]
    },
    "509696b56ebd4c078824720adfb9c882": {
     "views": [
      {
       "cell_index": 12
      }
     ]
    },
    "5288b8c03d57497384001bd545f9473a": {
     "views": [
      {
       "cell_index": 12
      }
     ]
    },
    "54c0486d9d194fd89a425f8bfe8abffd": {
     "views": [
      {
       "cell_index": 12
      }
     ]
    },
    "5591146f394445e9a7562bfbeba3b210": {
     "views": [
      {
       "cell_index": 12
      }
     ]
    },
    "569e07a8c03b417a8bec640521c1e8d8": {
     "views": [
      {
       "cell_index": 12
      }
     ]
    },
    "56d382118cbe49f09c5518839d1309ee": {
     "views": [
      {
       "cell_index": 12
      }
     ]
    },
    "58879c6ef3904577a0d0ca261361d888": {
     "views": [
      {
       "cell_index": 12
      }
     ]
    },
    "59de165a886a4dcd855ec33e4682bd2d": {
     "views": [
      {
       "cell_index": 12
      }
     ]
    },
    "5d835fe3d36c41d9b140f25c874e02e7": {
     "views": [
      {
       "cell_index": 12
      }
     ]
    },
    "5dcb1825f8f945509c1521456ec8802f": {
     "views": [
      {
       "cell_index": 12
      }
     ]
    },
    "5fc113b88db343038e6190f2e2e1df1e": {
     "views": [
      {
       "cell_index": 12
      }
     ]
    },
    "601e0344661243299a2a6d382458f93a": {
     "views": [
      {
       "cell_index": 12
      }
     ]
    },
    "6060d310a5e34896a7156115cc6c3b43": {
     "views": [
      {
       "cell_index": 12
      }
     ]
    },
    "607439f270cb405cad0280cd5bf035bf": {
     "views": [
      {
       "cell_index": 12
      }
     ]
    },
    "695d75c78b7148a4a7c84d57bed02c35": {
     "views": [
      {
       "cell_index": 12
      }
     ]
    },
    "6b76037650064c71afc1ef43cea3b884": {
     "views": [
      {
       "cell_index": 12
      }
     ]
    },
    "6ec89ae257604fa0a672b9c0042d1c53": {
     "views": [
      {
       "cell_index": 12
      }
     ]
    },
    "70dfa87054284e3d84cd08df8bfbf705": {
     "views": [
      {
       "cell_index": 12
      }
     ]
    },
    "70fefa448a124b56bec948f54c0fe1fc": {
     "views": [
      {
       "cell_index": 12
      }
     ]
    },
    "73deeee41eb04b1c9b5d12164159f500": {
     "views": [
      {
       "cell_index": 12
      }
     ]
    },
    "74df7b1ee69449e6a6733da633e4c583": {
     "views": [
      {
       "cell_index": 12
      }
     ]
    },
    "75c980fe55484a15b5fadf86960e6984": {
     "views": [
      {
       "cell_index": 12
      }
     ]
    },
    "770dfa1b77ed46258fd936b4a5b002f7": {
     "views": [
      {
       "cell_index": 12
      }
     ]
    },
    "79b014c35bb64afd98775e32a56c8469": {
     "views": [
      {
       "cell_index": 12
      }
     ]
    },
    "7b97837f50464a0194b38acd2ee83d07": {
     "views": [
      {
       "cell_index": 12
      }
     ]
    },
    "7df60277eba44da5acc4ae70299cd1db": {
     "views": [
      {
       "cell_index": 12
      }
     ]
    },
    "7e9f3f789dd9472189a557183640b7c9": {
     "views": [
      {
       "cell_index": 12
      }
     ]
    },
    "7eb10ea82e954391a3733334c4276916": {
     "views": [
      {
       "cell_index": 12
      }
     ]
    },
    "7fe51828fd9745e9bad8a4632d35a137": {
     "views": [
      {
       "cell_index": 12
      }
     ]
    },
    "807fe4bc5122427a8d991815a0afdefe": {
     "views": [
      {
       "cell_index": 12
      }
     ]
    },
    "82b2dfaaeca94ac7871eb714ebf0bd24": {
     "views": [
      {
       "cell_index": 12
      }
     ]
    },
    "83eb650f527a42e9a904a1dc3489226e": {
     "views": [
      {
       "cell_index": 12
      }
     ]
    },
    "84c3b92deb524251aae620eb42b81d57": {
     "views": [
      {
       "cell_index": 12
      }
     ]
    },
    "85ca8ba9ed1c4fc1bd9f636d4efb13a2": {
     "views": [
      {
       "cell_index": 12
      }
     ]
    },
    "8a803cf98b4a4ad38b46389cd0cbc624": {
     "views": [
      {
       "cell_index": 12
      }
     ]
    },
    "8f271df026484a06be2f6509462c42ed": {
     "views": [
      {
       "cell_index": 12
      }
     ]
    },
    "8f2d4f8192c4455a922e9f4f4388b10a": {
     "views": [
      {
       "cell_index": 12
      }
     ]
    },
    "99722895709c48d7baca4359ce30f165": {
     "views": [
      {
       "cell_index": 12
      }
     ]
    },
    "9994b42dd71f4dcb8412076e04f74af1": {
     "views": [
      {
       "cell_index": 12
      }
     ]
    },
    "9c65331cb7044f07bea6f1dcd02be34e": {
     "views": [
      {
       "cell_index": 12
      }
     ]
    },
    "9d93b50dddb843ffb3192fa7463d1eb3": {
     "views": [
      {
       "cell_index": 12
      }
     ]
    },
    "9ddcff6b73e84b71bb72cbaf509b6d7d": {
     "views": [
      {
       "cell_index": 12
      }
     ]
    },
    "9ff602ebdfe446f8a7973c18b0b9c448": {
     "views": [
      {
       "cell_index": 12
      }
     ]
    },
    "a13b7297bcfd48aeb1f6adeb79c6907e": {
     "views": [
      {
       "cell_index": 12
      }
     ]
    },
    "a2d8253207ff47c196ec18d0c3e292fc": {
     "views": [
      {
       "cell_index": 12
      }
     ]
    },
    "a447bd0d14cf402b844ccef55b5e2d6e": {
     "views": [
      {
       "cell_index": 12
      }
     ]
    },
    "a8fd29c4d7474543bfb283fe1bc22752": {
     "views": [
      {
       "cell_index": 12
      }
     ]
    },
    "a938e8c6d6f54d119dc4e0fc6591ceb2": {
     "views": [
      {
       "cell_index": 12
      }
     ]
    },
    "abb7603ed5cc4ea7a3e9133abc83daab": {
     "views": [
      {
       "cell_index": 12
      }
     ]
    },
    "abd62c0bee8d4a1d93a95b31b9aaf486": {
     "views": [
      {
       "cell_index": 12
      }
     ]
    },
    "ac5eaac0d0bc4bdc899be9b7c7609004": {
     "views": [
      {
       "cell_index": 12
      }
     ]
    },
    "ac8d814446504f1fb7359e84efc877df": {
     "views": [
      {
       "cell_index": 12
      }
     ]
    },
    "aecfd70ffbbb491296ddfead5c3e676c": {
     "views": [
      {
       "cell_index": 12
      }
     ]
    },
    "b012c12df7ec4de5bee68e9f10c67227": {
     "views": [
      {
       "cell_index": 12
      }
     ]
    },
    "b0413da85a834535bf0910a1a2049cf4": {
     "views": [
      {
       "cell_index": 12
      }
     ]
    },
    "b3e05cfa4dfb44e8aec6501b481e740a": {
     "views": [
      {
       "cell_index": 12
      }
     ]
    },
    "b8e7a6d97abc49eb8b24af81997c814b": {
     "views": [
      {
       "cell_index": 12
      }
     ]
    },
    "b958fd557b674353b4513a1223d1a451": {
     "views": [
      {
       "cell_index": 12
      }
     ]
    },
    "bc39a43c23b9496fb53533370e7f076b": {
     "views": [
      {
       "cell_index": 12
      }
     ]
    },
    "bcb5c68f5f9640ffbc0d14af2a8d2609": {
     "views": [
      {
       "cell_index": 12
      }
     ]
    },
    "c1a529e546e84cfe858abc405448a31c": {
     "views": [
      {
       "cell_index": 12
      }
     ]
    },
    "c51f1c60f93c4707808116607aceb523": {
     "views": [
      {
       "cell_index": 12
      }
     ]
    },
    "c6cefa23028c47d1a9b8e34f2173662b": {
     "views": [
      {
       "cell_index": 12
      }
     ]
    },
    "c867ce48830d48ff838c535f911cde38": {
     "views": [
      {
       "cell_index": 12
      }
     ]
    },
    "cc1c3c0a394049c7817525d4c0dbc660": {
     "views": [
      {
       "cell_index": 12
      }
     ]
    },
    "ce61c3f1b09d4b7aaaa04b999968853b": {
     "views": [
      {
       "cell_index": 12
      }
     ]
    },
    "ced5cb09460b44f2b3cb07cd26ba2d80": {
     "views": [
      {
       "cell_index": 12
      }
     ]
    },
    "d0a64a823a4649898b5ef2ae2f1bbe27": {
     "views": [
      {
       "cell_index": 12
      }
     ]
    },
    "d2307dd3ea50414580c68a01944b6609": {
     "views": [
      {
       "cell_index": 12
      }
     ]
    },
    "d73036ff5b9a463aa2d560cc98e09a99": {
     "views": [
      {
       "cell_index": 12
      }
     ]
    },
    "d8bff5fe3809457696452bd7d37b0163": {
     "views": [
      {
       "cell_index": 12
      }
     ]
    },
    "da29d43a5fbd4d0db082c70348e5783e": {
     "views": [
      {
       "cell_index": 12
      }
     ]
    },
    "dcbbfefe63b849b29b2c6f2c445f9d44": {
     "views": [
      {
       "cell_index": 12
      }
     ]
    },
    "de65778ccbf74269a7aecafe0f4a84e9": {
     "views": [
      {
       "cell_index": 12
      }
     ]
    },
    "e2f426df16ea437cb3eb19a6e29718d3": {
     "views": [
      {
       "cell_index": 12
      }
     ]
    },
    "e331ecdfb1034be78954606b29282291": {
     "views": [
      {
       "cell_index": 12
      }
     ]
    },
    "e57c668870b044aab6fb89a073374887": {
     "views": [
      {
       "cell_index": 12
      }
     ]
    },
    "e7d90b37142d4468a9a3f88fe5e7ebe5": {
     "views": [
      {
       "cell_index": 12
      }
     ]
    },
    "e7dfb79db2074d32b546b0f5b35d037a": {
     "views": [
      {
       "cell_index": 12
      }
     ]
    },
    "ea7dc8f6b6904a098cc8bcd3cccb0f09": {
     "views": [
      {
       "cell_index": 12
      }
     ]
    },
    "ead95701b3c948fe810264c9f916c701": {
     "views": [
      {
       "cell_index": 12
      }
     ]
    },
    "ec1f20b0a9a848a785617463aed63555": {
     "views": [
      {
       "cell_index": 12
      }
     ]
    },
    "ef7271ab301c4d52b331707746f9638e": {
     "views": [
      {
       "cell_index": 12
      }
     ]
    },
    "f057baa922394139936146319110c770": {
     "views": [
      {
       "cell_index": 12
      }
     ]
    },
    "f07a509b915040e08e37ababd37b7cf1": {
     "views": [
      {
       "cell_index": 12
      }
     ]
    },
    "f259740c24a24bb3a309aec954f66fe3": {
     "views": [
      {
       "cell_index": 12
      }
     ]
    },
    "f612f1c9698d4be4bb42c2f0e2c69108": {
     "views": [
      {
       "cell_index": 12
      }
     ]
    },
    "f6efb652598c41549a9f19b2f9ceff2b": {
     "views": [
      {
       "cell_index": 12
      }
     ]
    },
    "f97ed4db90d24d88a228ac1e52375a0c": {
     "views": [
      {
       "cell_index": 12
      }
     ]
    },
    "fd43e083f58d43a68688581cdf48acab": {
     "views": [
      {
       "cell_index": 12
      }
     ]
    },
    "fda46d318b0941c19dfe61eb3e02cb23": {
     "views": [
      {
       "cell_index": 12
      }
     ]
    },
    "fe6b5b3475984be890e4e11f3e5d3ef1": {
     "views": [
      {
       "cell_index": 12
      }
     ]
    }
   },
   "version": "1.2.0"
  }
 },
 "nbformat": 4,
 "nbformat_minor": 2
}
