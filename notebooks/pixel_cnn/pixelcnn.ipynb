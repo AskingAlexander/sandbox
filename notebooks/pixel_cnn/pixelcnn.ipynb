{
 "cells": [
  {
   "cell_type": "code",
   "execution_count": 1,
   "metadata": {
    "ExecuteTime": {
     "end_time": "2019-05-04T13:50:41.916656Z",
     "start_time": "2019-05-04T13:50:40.300510Z"
    },
    "slideshow": {
     "slide_type": "slide"
    }
   },
   "outputs": [
    {
     "name": "stderr",
     "output_type": "stream",
     "text": [
      "/home/brian/anaconda3/lib/python3.6/site-packages/h5py/__init__.py:36: FutureWarning: Conversion of the second argument of issubdtype from `float` to `np.floating` is deprecated. In future, it will be treated as `np.float64 == np.dtype(float).type`.\n",
      "  from ._conv import register_converters as _register_converters\n",
      "Using TensorFlow backend.\n"
     ]
    }
   ],
   "source": [
    "%matplotlib inline\n",
    "import numpy as np\n",
    "import os\n",
    "import time\n",
    "import h5py\n",
    "import keras\n",
    "import pandas as pd\n",
    "import math\n",
    "import joblib\n",
    "import json\n",
    "import matplotlib.pyplot as plt\n",
    "from scipy.stats import logistic\n",
    "from scipy.special import softmax\n",
    "\n",
    "from IPython.display import display\n",
    "\n",
    "from sklearn.metrics import accuracy_score\n",
    "from sklearn.model_selection import StratifiedShuffleSplit\n",
    "\n",
    "from keras.layers import (Input, Dense, Lambda, Flatten, Reshape, BatchNormalization, \n",
    "                          Activation, Dropout, Conv2D, Conv2DTranspose,\n",
    "                          Concatenate, Add, Multiply)\n",
    "from keras.engine import InputSpec\n",
    "from keras.optimizers import RMSprop, Adam\n",
    "from keras.models import Model\n",
    "from keras.utils import to_categorical\n",
    "from keras import metrics\n",
    "from keras import backend as K\n",
    "from keras_tqdm import TQDMNotebookCallback\n",
    "from keras.datasets import cifar10\n",
    "\n",
    "import tensorflow as tf\n",
    "\n",
    "from pixelcnn_helpers import pixelcnn_loss, sigmoid, compute_pvals, compute_mixture, PixelConv2D"
   ]
  },
  {
   "cell_type": "markdown",
   "metadata": {
    "slideshow": {
     "slide_type": "slide"
    }
   },
   "source": [
    "# Parameters"
   ]
  },
  {
   "cell_type": "code",
   "execution_count": 71,
   "metadata": {
    "ExecuteTime": {
     "end_time": "2019-05-04T14:01:35.313799Z",
     "start_time": "2019-05-04T14:01:35.309823Z"
    }
   },
   "outputs": [],
   "source": [
    "#img_rows, img_cols, img_chns = 32, 32, 3\n",
    "img_rows, img_cols, img_chns = 2, 2, 3\n",
    "original_img_size = (img_rows, img_cols, img_chns)\n",
    "\n",
    "# Debug params\n",
    "sample = 1\n",
    "\n",
    "# Hyper params\n",
    "batch_size = int(os.environ.get('BATCH_SIZE', 2))\n",
    "epochs = int(os.environ.get('EPOCHS', 1000))\n",
    "activation = os.environ.get('ACTIVATION', 'relu')\n",
    "learning_rate = float(os.environ.get('LEARNING_RATE', 0.001))\n",
    "resnet_depth = int(os.environ.get('RESNET_DEPTH', 2))\n",
    "mixture_components = int(os.environ.get('MIXTURE_COMPONENTS', 2))"
   ]
  },
  {
   "cell_type": "markdown",
   "metadata": {},
   "source": [
    "# Load CIFAR10 dataset"
   ]
  },
  {
   "cell_type": "code",
   "execution_count": 72,
   "metadata": {
    "ExecuteTime": {
     "end_time": "2019-05-04T14:01:36.284310Z",
     "start_time": "2019-05-04T14:01:35.855189Z"
    },
    "slideshow": {
     "slide_type": "subslide"
    }
   },
   "outputs": [
    {
     "name": "stdout",
     "output_type": "stream",
     "text": [
      "(1, 2, 2, 3) (50000, 10)\n",
      "(10000, 32, 32, 3) (10000, 10)\n"
     ]
    }
   ],
   "source": [
    "(X_train, y_train), (X_test, y_test) = cifar10.load_data()\n",
    "\n",
    "# Shift/scale to [-1, 1] interval\n",
    "X_train = X_train[:sample, :img_rows, :img_cols, :img_chns]\n",
    "X_train = (X_train - 127.5) / 127.5\n",
    "\n",
    "#X_train_out = X_train.reshape((X_train.shape[0], -1))\n",
    "\n",
    "X_test = (X_test - 127.5) / 127.5\n",
    "#X_test_out = X_test.reshape((X_test.shape[0], -1))\n",
    "\n",
    "y_train = to_categorical(y_train, num_classes=10)\n",
    "y_test = to_categorical(y_test, num_classes=10)\n",
    "\n",
    "#print(X_train.shape, X_train_out.shape, y_train.shape)\n",
    "#print(X_test.shape, X_test_out.shape, y_test.shape)\n",
    "print(X_train.shape, y_train.shape)\n",
    "print(X_test.shape, y_test.shape)"
   ]
  },
  {
   "cell_type": "code",
   "execution_count": 73,
   "metadata": {
    "ExecuteTime": {
     "end_time": "2019-05-04T14:01:36.682859Z",
     "start_time": "2019-05-04T14:01:36.590576Z"
    },
    "slideshow": {
     "slide_type": "slide"
    }
   },
   "outputs": [
    {
     "data": {
      "image/png": "[encoded data removed]",
      "text/plain": [
       "<Figure size 288x720 with 1 Axes>"
      ]
     },
     "metadata": {},
     "output_type": "display_data"
    }
   ],
   "source": [
    "n = min(sample, 10)\n",
    "figure = np.zeros((img_rows * n, img_cols, img_chns))\n",
    "for i in range(n):\n",
    "    orig_img = X_train[i] \n",
    "    dy = img_rows * i\n",
    "    figure[dy:dy + img_rows, :img_cols] = (orig_img * 127.5 + 127.5) / 255.\n",
    "    \n",
    "plt.figure(figsize=(n * 4, 10))\n",
    "plt.imshow(figure)\n",
    "plt.show()"
   ]
  },
  {
   "cell_type": "markdown",
   "metadata": {},
   "source": [
    "# Model"
   ]
  },
  {
   "cell_type": "code",
   "execution_count": 74,
   "metadata": {
    "ExecuteTime": {
     "end_time": "2019-05-04T14:01:37.114787Z",
     "start_time": "2019-05-04T14:01:37.103845Z"
    }
   },
   "outputs": [],
   "source": [
    "if K.image_data_format() == 'channels_last':\n",
    "    bn_axis = 3\n",
    "else:\n",
    "    bn_axis = 1\n",
    "    \n",
    "def conv_block(input_tensor, filters, kernel_size, name, is_first=False):\n",
    "    outs = []\n",
    "    for t in ['rb', 'gb', 'bb']:\n",
    "        if is_first:\n",
    "            t = t[0] + 'a'\n",
    "        x = PixelConv2D(t, filters, kernel_size, name='res' + name + t, padding='same')(input_tensor)\n",
    "        #x = Conv2D(filters, kernel_size, name='res' + name + t, padding='same')(input_tensor)\n",
    "        # x = BatchNormalization(axis=bn_axis, name='bn' + name + t)(x)\n",
    "        x = Activation('tanh')(x)\n",
    "        outs.append(x)\n",
    "        \n",
    "    return Concatenate()(outs)\n",
    "\n",
    "def resnet_block(input_tensor, filters, stage, block):\n",
    "    name_base = str(stage) + block + '_branch'\n",
    "    filters1, filters2, filters3 = filters\n",
    "    x = input_tensor\n",
    "    x = conv_block(x, filters1, (1, 1), name=name_base + '_a-1x1')\n",
    "    x = conv_block(x, filters2, (3, 3), name=name_base + '_b-3x3')\n",
    "    x = conv_block(x, filters3, (1, 1), name=name_base + '_c-1x1')\n",
    "    x = Add()([x, input_tensor])\n",
    "    \n",
    "    return x\n",
    "\n",
    "def final_block(input_tensor, filters, in_filters, name, kernel_size=(1, 1)):\n",
    "    outs = []\n",
    "    channel_name = 'rgb'\n",
    "    for channel in range(img_chns):\n",
    "        # Only allow things behind it...\n",
    "        x = Lambda(lambda x: x[:, :, :, :(channel + 1) * in_filters])(input_tensor)\n",
    "        x = Conv2D(filters, kernel_size, name='final' + name + channel_name[channel], padding='same')(x)\n",
    "        # x = BatchNormalization(axis=bn_axis, name='bn' + name + t)(x)\n",
    "        x = Activation('relu')(x)\n",
    "        outs.append(x)\n",
    "        \n",
    "    return Concatenate()(outs)\n",
    "\n",
    "def build_outputs(input_tensor, final_filters):\n",
    "    m_outs = []\n",
    "    invs_outs = []\n",
    "    weights = []\n",
    "    for channel in range(img_chns):\n",
    "        # Only allow things behind it...\n",
    "        x = Lambda(lambda x: x[:, :, :, :(channel + 1) * final_filters])(input_tensor)\n",
    "        decoder_out_m = Conv2D(name='x_m' + str(channel), \n",
    "                               filters=mixture_components, \n",
    "                               kernel_size=1, \n",
    "                               strides=1)(x)\n",
    "        #decoder_out_invs = Conv2D(name='x_s' + str(channel),\n",
    "        #                           filters=mixture_components,\n",
    "        #                           kernel_size=1,\n",
    "        #                           strides=1,\n",
    "        #                           activation = 'relu')(x)\n",
    "        decoder_out_invs_ = Conv2D(name='x_s' + str(channel),\n",
    "                                   filters=mixture_components,\n",
    "                                   kernel_size=1,\n",
    "                                   strides=1,\n",
    "                                   activation='sigmoid')(x)\n",
    "        decoder_out_invs = Lambda(lambda x: 5. * x + 2.0)(decoder_out_invs_)\n",
    "        mixture_weights = Conv2D(name='weights' + str(channel),\n",
    "                                 filters=mixture_components,\n",
    "                                 kernel_size=1,\n",
    "                                 strides=1)(x)\n",
    "        m_outs.append(decoder_out_m)\n",
    "        invs_outs.append(decoder_out_invs)\n",
    "        weights.append(mixture_weights)\n",
    "    \n",
    "    out_m = Concatenate()(m_outs)       \n",
    "    out_invs = Concatenate()(invs_outs)       \n",
    "    out_mixture = Concatenate()(weights)       \n",
    "    return Concatenate()([out_m, out_invs, out_mixture])"
   ]
  },
  {
   "cell_type": "code",
   "execution_count": 75,
   "metadata": {
    "ExecuteTime": {
     "end_time": "2019-05-04T14:01:37.598097Z",
     "start_time": "2019-05-04T14:01:37.293070Z"
    },
    "slideshow": {
     "slide_type": "slide"
    }
   },
   "outputs": [
    {
     "name": "stdout",
     "output_type": "stream",
     "text": [
      "Building conv layers...\n",
      "Building output layers...\n",
      "Building model...\n",
      "__________________________________________________________________________________________________\n",
      "Layer (type)                    Output Shape         Param #     Connected to                     \n",
      "==================================================================================================\n",
      "main_input (InputLayer)         (None, 2, 2, 3)      0                                            \n",
      "__________________________________________________________________________________________________\n",
      "resconv1ra (PixelConv2D)        (None, 2, 2, 1024)   151552      main_input[0][0]                 \n",
      "__________________________________________________________________________________________________\n",
      "resconv1ga (PixelConv2D)        (None, 2, 2, 1024)   151552      main_input[0][0]                 \n",
      "__________________________________________________________________________________________________\n",
      "resconv1ba (PixelConv2D)        (None, 2, 2, 1024)   151552      main_input[0][0]                 \n",
      "__________________________________________________________________________________________________\n",
      "activation_31 (Activation)      (None, 2, 2, 1024)   0           resconv1ra[0][0]                 \n",
      "__________________________________________________________________________________________________\n",
      "activation_32 (Activation)      (None, 2, 2, 1024)   0           resconv1ga[0][0]                 \n",
      "__________________________________________________________________________________________________\n",
      "activation_33 (Activation)      (None, 2, 2, 1024)   0           resconv1ba[0][0]                 \n",
      "__________________________________________________________________________________________________\n",
      "concatenate_43 (Concatenate)    (None, 2, 2, 3072)   0           activation_31[0][0]              \n",
      "                                                                 activation_32[0][0]              \n",
      "                                                                 activation_33[0][0]              \n",
      "__________________________________________________________________________________________________\n",
      "lambda_44 (Lambda)              (None, 2, 2, 1024)   0           concatenate_43[0][0]             \n",
      "__________________________________________________________________________________________________\n",
      "lambda_46 (Lambda)              (None, 2, 2, 2048)   0           concatenate_43[0][0]             \n",
      "__________________________________________________________________________________________________\n",
      "lambda_48 (Lambda)              (None, 2, 2, 3072)   0           concatenate_43[0][0]             \n",
      "__________________________________________________________________________________________________\n",
      "x_s0 (Conv2D)                   (None, 2, 2, 2)      2050        lambda_44[0][0]                  \n",
      "__________________________________________________________________________________________________\n",
      "x_s1 (Conv2D)                   (None, 2, 2, 2)      4098        lambda_46[0][0]                  \n",
      "__________________________________________________________________________________________________\n",
      "x_s2 (Conv2D)                   (None, 2, 2, 2)      6146        lambda_48[0][0]                  \n",
      "__________________________________________________________________________________________________\n",
      "x_m0 (Conv2D)                   (None, 2, 2, 2)      2050        lambda_44[0][0]                  \n",
      "__________________________________________________________________________________________________\n",
      "x_m1 (Conv2D)                   (None, 2, 2, 2)      4098        lambda_46[0][0]                  \n",
      "__________________________________________________________________________________________________\n",
      "x_m2 (Conv2D)                   (None, 2, 2, 2)      6146        lambda_48[0][0]                  \n",
      "__________________________________________________________________________________________________\n",
      "lambda_45 (Lambda)              (None, 2, 2, 2)      0           x_s0[0][0]                       \n",
      "__________________________________________________________________________________________________\n",
      "lambda_47 (Lambda)              (None, 2, 2, 2)      0           x_s1[0][0]                       \n",
      "__________________________________________________________________________________________________\n",
      "lambda_49 (Lambda)              (None, 2, 2, 2)      0           x_s2[0][0]                       \n",
      "__________________________________________________________________________________________________\n",
      "weights0 (Conv2D)               (None, 2, 2, 2)      2050        lambda_44[0][0]                  \n",
      "__________________________________________________________________________________________________\n",
      "weights1 (Conv2D)               (None, 2, 2, 2)      4098        lambda_46[0][0]                  \n",
      "__________________________________________________________________________________________________\n",
      "weights2 (Conv2D)               (None, 2, 2, 2)      6146        lambda_48[0][0]                  \n",
      "__________________________________________________________________________________________________\n",
      "concatenate_44 (Concatenate)    (None, 2, 2, 6)      0           x_m0[0][0]                       \n",
      "                                                                 x_m1[0][0]                       \n",
      "                                                                 x_m2[0][0]                       \n",
      "__________________________________________________________________________________________________\n",
      "concatenate_45 (Concatenate)    (None, 2, 2, 6)      0           lambda_45[0][0]                  \n",
      "                                                                 lambda_47[0][0]                  \n",
      "                                                                 lambda_49[0][0]                  \n",
      "__________________________________________________________________________________________________\n",
      "concatenate_46 (Concatenate)    (None, 2, 2, 6)      0           weights0[0][0]                   \n",
      "                                                                 weights1[0][0]                   \n",
      "                                                                 weights2[0][0]                   \n",
      "__________________________________________________________________________________________________\n",
      "concatenate_47 (Concatenate)    (None, 2, 2, 18)     0           concatenate_44[0][0]             \n",
      "                                                                 concatenate_45[0][0]             \n",
      "                                                                 concatenate_46[0][0]             \n",
      "==================================================================================================\n",
      "Total params: 491,538\n",
      "Trainable params: 491,538\n",
      "Non-trainable params: 0\n",
      "__________________________________________________________________________________________________\n"
     ]
    }
   ],
   "source": [
    "print(\"Building conv layers...\")\n",
    "main_input = Input(shape=original_img_size, name='main_input')\n",
    "\n",
    "x = conv_block(main_input, 1024, (7, 7), name='conv1', is_first=True)\n",
    "\n",
    "#for stage in range(resnet_depth):\n",
    "#    x = resnet_block(x, [128, 128, 256], stage, 'a')\n",
    "\n",
    "final_width = 1024\n",
    "#x = final_block(x, final_width, 256, '1x1_1000_1')\n",
    "#x = final_block(x, final_width, final_width, '1x1_1000_2')\n",
    "\n",
    "print(\"Building output layers...\")\n",
    "outputs = build_outputs(x, final_width)\n",
    "main_output = outputs\n",
    "\n",
    "print(\"Building model...\")\n",
    "model = Model(inputs=main_input, outputs=main_output)\n",
    "optimizer = Adam(lr=0.001)\n",
    "model.compile(optimizer=optimizer, \n",
    "              loss=lambda x, y: pixelcnn_loss(x, y, img_rows, img_cols, img_chns, mixture_components))\n",
    "model.summary()"
   ]
  },
  {
   "cell_type": "code",
   "execution_count": 76,
   "metadata": {
    "ExecuteTime": {
     "end_time": "2019-05-04T14:01:43.266361Z",
     "start_time": "2019-05-04T14:01:37.599674Z"
    },
    "scrolled": true,
    "slideshow": {
     "slide_type": "-"
    }
   },
   "outputs": [
    {
     "data": {
      "application/vnd.jupyter.widget-view+json": {
       "model_id": "96be15ae250d435a9bb354ce34b35b8a",
       "version_major": 2,
       "version_minor": 0
      },
      "text/plain": [
       "HBox(children=(IntProgress(value=0, description='Training', max=50), HTML(value='')))"
      ]
     },
     "metadata": {},
     "output_type": "display_data"
    },
    {
     "data": {
      "application/vnd.jupyter.widget-view+json": {
       "model_id": "",
       "version_major": 2,
       "version_minor": 0
      },
      "text/plain": [
       "HBox(children=(IntProgress(value=0, description='Epoch 0', max=1), HTML(value='')))"
      ]
     },
     "metadata": {},
     "output_type": "display_data"
    },
    {
     "data": {
      "application/vnd.jupyter.widget-view+json": {
       "model_id": "",
       "version_major": 2,
       "version_minor": 0
      },
      "text/plain": [
       "HBox(children=(IntProgress(value=0, description='Epoch 1', max=1), HTML(value='')))"
      ]
     },
     "metadata": {},
     "output_type": "display_data"
    },
    {
     "data": {
      "application/vnd.jupyter.widget-view+json": {
       "model_id": "",
       "version_major": 2,
       "version_minor": 0
      },
      "text/plain": [
       "HBox(children=(IntProgress(value=0, description='Epoch 2', max=1), HTML(value='')))"
      ]
     },
     "metadata": {},
     "output_type": "display_data"
    },
    {
     "data": {
      "application/vnd.jupyter.widget-view+json": {
       "model_id": "",
       "version_major": 2,
       "version_minor": 0
      },
      "text/plain": [
       "HBox(children=(IntProgress(value=0, description='Epoch 3', max=1), HTML(value='')))"
      ]
     },
     "metadata": {},
     "output_type": "display_data"
    },
    {
     "data": {
      "application/vnd.jupyter.widget-view+json": {
       "model_id": "",
       "version_major": 2,
       "version_minor": 0
      },
      "text/plain": [
       "HBox(children=(IntProgress(value=0, description='Epoch 4', max=1), HTML(value='')))"
      ]
     },
     "metadata": {},
     "output_type": "display_data"
    },
    {
     "data": {
      "application/vnd.jupyter.widget-view+json": {
       "model_id": "",
       "version_major": 2,
       "version_minor": 0
      },
      "text/plain": [
       "HBox(children=(IntProgress(value=0, description='Epoch 5', max=1), HTML(value='')))"
      ]
     },
     "metadata": {},
     "output_type": "display_data"
    },
    {
     "data": {
      "application/vnd.jupyter.widget-view+json": {
       "model_id": "",
       "version_major": 2,
       "version_minor": 0
      },
      "text/plain": [
       "HBox(children=(IntProgress(value=0, description='Epoch 6', max=1), HTML(value='')))"
      ]
     },
     "metadata": {},
     "output_type": "display_data"
    },
    {
     "data": {
      "application/vnd.jupyter.widget-view+json": {
       "model_id": "",
       "version_major": 2,
       "version_minor": 0
      },
      "text/plain": [
       "HBox(children=(IntProgress(value=0, description='Epoch 7', max=1), HTML(value='')))"
      ]
     },
     "metadata": {},
     "output_type": "display_data"
    },
    {
     "data": {
      "application/vnd.jupyter.widget-view+json": {
       "model_id": "",
       "version_major": 2,
       "version_minor": 0
      },
      "text/plain": [
       "HBox(children=(IntProgress(value=0, description='Epoch 8', max=1), HTML(value='')))"
      ]
     },
     "metadata": {},
     "output_type": "display_data"
    },
    {
     "data": {
      "application/vnd.jupyter.widget-view+json": {
       "model_id": "",
       "version_major": 2,
       "version_minor": 0
      },
      "text/plain": [
       "HBox(children=(IntProgress(value=0, description='Epoch 9', max=1), HTML(value='')))"
      ]
     },
     "metadata": {},
     "output_type": "display_data"
    },
    {
     "data": {
      "application/vnd.jupyter.widget-view+json": {
       "model_id": "",
       "version_major": 2,
       "version_minor": 0
      },
      "text/plain": [
       "HBox(children=(IntProgress(value=0, description='Epoch 10', max=1), HTML(value='')))"
      ]
     },
     "metadata": {},
     "output_type": "display_data"
    },
    {
     "data": {
      "application/vnd.jupyter.widget-view+json": {
       "model_id": "",
       "version_major": 2,
       "version_minor": 0
      },
      "text/plain": [
       "HBox(children=(IntProgress(value=0, description='Epoch 11', max=1), HTML(value='')))"
      ]
     },
     "metadata": {},
     "output_type": "display_data"
    },
    {
     "data": {
      "application/vnd.jupyter.widget-view+json": {
       "model_id": "",
       "version_major": 2,
       "version_minor": 0
      },
      "text/plain": [
       "HBox(children=(IntProgress(value=0, description='Epoch 12', max=1), HTML(value='')))"
      ]
     },
     "metadata": {},
     "output_type": "display_data"
    },
    {
     "data": {
      "application/vnd.jupyter.widget-view+json": {
       "model_id": "",
       "version_major": 2,
       "version_minor": 0
      },
      "text/plain": [
       "HBox(children=(IntProgress(value=0, description='Epoch 13', max=1), HTML(value='')))"
      ]
     },
     "metadata": {},
     "output_type": "display_data"
    },
    {
     "data": {
      "application/vnd.jupyter.widget-view+json": {
       "model_id": "",
       "version_major": 2,
       "version_minor": 0
      },
      "text/plain": [
       "HBox(children=(IntProgress(value=0, description='Epoch 14', max=1), HTML(value='')))"
      ]
     },
     "metadata": {},
     "output_type": "display_data"
    },
    {
     "data": {
      "application/vnd.jupyter.widget-view+json": {
       "model_id": "",
       "version_major": 2,
       "version_minor": 0
      },
      "text/plain": [
       "HBox(children=(IntProgress(value=0, description='Epoch 15', max=1), HTML(value='')))"
      ]
     },
     "metadata": {},
     "output_type": "display_data"
    },
    {
     "data": {
      "application/vnd.jupyter.widget-view+json": {
       "model_id": "",
       "version_major": 2,
       "version_minor": 0
      },
      "text/plain": [
       "HBox(children=(IntProgress(value=0, description='Epoch 16', max=1), HTML(value='')))"
      ]
     },
     "metadata": {},
     "output_type": "display_data"
    },
    {
     "data": {
      "application/vnd.jupyter.widget-view+json": {
       "model_id": "",
       "version_major": 2,
       "version_minor": 0
      },
      "text/plain": [
       "HBox(children=(IntProgress(value=0, description='Epoch 17', max=1), HTML(value='')))"
      ]
     },
     "metadata": {},
     "output_type": "display_data"
    },
    {
     "data": {
      "application/vnd.jupyter.widget-view+json": {
       "model_id": "",
       "version_major": 2,
       "version_minor": 0
      },
      "text/plain": [
       "HBox(children=(IntProgress(value=0, description='Epoch 18', max=1), HTML(value='')))"
      ]
     },
     "metadata": {},
     "output_type": "display_data"
    },
    {
     "data": {
      "application/vnd.jupyter.widget-view+json": {
       "model_id": "",
       "version_major": 2,
       "version_minor": 0
      },
      "text/plain": [
       "HBox(children=(IntProgress(value=0, description='Epoch 19', max=1), HTML(value='')))"
      ]
     },
     "metadata": {},
     "output_type": "display_data"
    },
    {
     "data": {
      "application/vnd.jupyter.widget-view+json": {
       "model_id": "",
       "version_major": 2,
       "version_minor": 0
      },
      "text/plain": [
       "HBox(children=(IntProgress(value=0, description='Epoch 20', max=1), HTML(value='')))"
      ]
     },
     "metadata": {},
     "output_type": "display_data"
    },
    {
     "data": {
      "application/vnd.jupyter.widget-view+json": {
       "model_id": "",
       "version_major": 2,
       "version_minor": 0
      },
      "text/plain": [
       "HBox(children=(IntProgress(value=0, description='Epoch 21', max=1), HTML(value='')))"
      ]
     },
     "metadata": {},
     "output_type": "display_data"
    },
    {
     "data": {
      "application/vnd.jupyter.widget-view+json": {
       "model_id": "",
       "version_major": 2,
       "version_minor": 0
      },
      "text/plain": [
       "HBox(children=(IntProgress(value=0, description='Epoch 22', max=1), HTML(value='')))"
      ]
     },
     "metadata": {},
     "output_type": "display_data"
    },
    {
     "data": {
      "application/vnd.jupyter.widget-view+json": {
       "model_id": "",
       "version_major": 2,
       "version_minor": 0
      },
      "text/plain": [
       "HBox(children=(IntProgress(value=0, description='Epoch 23', max=1), HTML(value='')))"
      ]
     },
     "metadata": {},
     "output_type": "display_data"
    },
    {
     "data": {
      "application/vnd.jupyter.widget-view+json": {
       "model_id": "",
       "version_major": 2,
       "version_minor": 0
      },
      "text/plain": [
       "HBox(children=(IntProgress(value=0, description='Epoch 24', max=1), HTML(value='')))"
      ]
     },
     "metadata": {},
     "output_type": "display_data"
    },
    {
     "data": {
      "application/vnd.jupyter.widget-view+json": {
       "model_id": "",
       "version_major": 2,
       "version_minor": 0
      },
      "text/plain": [
       "HBox(children=(IntProgress(value=0, description='Epoch 25', max=1), HTML(value='')))"
      ]
     },
     "metadata": {},
     "output_type": "display_data"
    },
    {
     "data": {
      "application/vnd.jupyter.widget-view+json": {
       "model_id": "",
       "version_major": 2,
       "version_minor": 0
      },
      "text/plain": [
       "HBox(children=(IntProgress(value=0, description='Epoch 26', max=1), HTML(value='')))"
      ]
     },
     "metadata": {},
     "output_type": "display_data"
    },
    {
     "data": {
      "application/vnd.jupyter.widget-view+json": {
       "model_id": "",
       "version_major": 2,
       "version_minor": 0
      },
      "text/plain": [
       "HBox(children=(IntProgress(value=0, description='Epoch 27', max=1), HTML(value='')))"
      ]
     },
     "metadata": {},
     "output_type": "display_data"
    },
    {
     "data": {
      "application/vnd.jupyter.widget-view+json": {
       "model_id": "",
       "version_major": 2,
       "version_minor": 0
      },
      "text/plain": [
       "HBox(children=(IntProgress(value=0, description='Epoch 28', max=1), HTML(value='')))"
      ]
     },
     "metadata": {},
     "output_type": "display_data"
    },
    {
     "data": {
      "application/vnd.jupyter.widget-view+json": {
       "model_id": "",
       "version_major": 2,
       "version_minor": 0
      },
      "text/plain": [
       "HBox(children=(IntProgress(value=0, description='Epoch 29', max=1), HTML(value='')))"
      ]
     },
     "metadata": {},
     "output_type": "display_data"
    },
    {
     "data": {
      "application/vnd.jupyter.widget-view+json": {
       "model_id": "",
       "version_major": 2,
       "version_minor": 0
      },
      "text/plain": [
       "HBox(children=(IntProgress(value=0, description='Epoch 30', max=1), HTML(value='')))"
      ]
     },
     "metadata": {},
     "output_type": "display_data"
    },
    {
     "data": {
      "application/vnd.jupyter.widget-view+json": {
       "model_id": "",
       "version_major": 2,
       "version_minor": 0
      },
      "text/plain": [
       "HBox(children=(IntProgress(value=0, description='Epoch 31', max=1), HTML(value='')))"
      ]
     },
     "metadata": {},
     "output_type": "display_data"
    },
    {
     "data": {
      "application/vnd.jupyter.widget-view+json": {
       "model_id": "",
       "version_major": 2,
       "version_minor": 0
      },
      "text/plain": [
       "HBox(children=(IntProgress(value=0, description='Epoch 32', max=1), HTML(value='')))"
      ]
     },
     "metadata": {},
     "output_type": "display_data"
    },
    {
     "data": {
      "application/vnd.jupyter.widget-view+json": {
       "model_id": "",
       "version_major": 2,
       "version_minor": 0
      },
      "text/plain": [
       "HBox(children=(IntProgress(value=0, description='Epoch 33', max=1), HTML(value='')))"
      ]
     },
     "metadata": {},
     "output_type": "display_data"
    },
    {
     "data": {
      "application/vnd.jupyter.widget-view+json": {
       "model_id": "",
       "version_major": 2,
       "version_minor": 0
      },
      "text/plain": [
       "HBox(children=(IntProgress(value=0, description='Epoch 34', max=1), HTML(value='')))"
      ]
     },
     "metadata": {},
     "output_type": "display_data"
    },
    {
     "data": {
      "application/vnd.jupyter.widget-view+json": {
       "model_id": "",
       "version_major": 2,
       "version_minor": 0
      },
      "text/plain": [
       "HBox(children=(IntProgress(value=0, description='Epoch 35', max=1), HTML(value='')))"
      ]
     },
     "metadata": {},
     "output_type": "display_data"
    },
    {
     "data": {
      "application/vnd.jupyter.widget-view+json": {
       "model_id": "",
       "version_major": 2,
       "version_minor": 0
      },
      "text/plain": [
       "HBox(children=(IntProgress(value=0, description='Epoch 36', max=1), HTML(value='')))"
      ]
     },
     "metadata": {},
     "output_type": "display_data"
    },
    {
     "data": {
      "application/vnd.jupyter.widget-view+json": {
       "model_id": "",
       "version_major": 2,
       "version_minor": 0
      },
      "text/plain": [
       "HBox(children=(IntProgress(value=0, description='Epoch 37', max=1), HTML(value='')))"
      ]
     },
     "metadata": {},
     "output_type": "display_data"
    },
    {
     "data": {
      "application/vnd.jupyter.widget-view+json": {
       "model_id": "",
       "version_major": 2,
       "version_minor": 0
      },
      "text/plain": [
       "HBox(children=(IntProgress(value=0, description='Epoch 38', max=1), HTML(value='')))"
      ]
     },
     "metadata": {},
     "output_type": "display_data"
    },
    {
     "data": {
      "application/vnd.jupyter.widget-view+json": {
       "model_id": "",
       "version_major": 2,
       "version_minor": 0
      },
      "text/plain": [
       "HBox(children=(IntProgress(value=0, description='Epoch 39', max=1), HTML(value='')))"
      ]
     },
     "metadata": {},
     "output_type": "display_data"
    },
    {
     "data": {
      "application/vnd.jupyter.widget-view+json": {
       "model_id": "",
       "version_major": 2,
       "version_minor": 0
      },
      "text/plain": [
       "HBox(children=(IntProgress(value=0, description='Epoch 40', max=1), HTML(value='')))"
      ]
     },
     "metadata": {},
     "output_type": "display_data"
    },
    {
     "data": {
      "application/vnd.jupyter.widget-view+json": {
       "model_id": "",
       "version_major": 2,
       "version_minor": 0
      },
      "text/plain": [
       "HBox(children=(IntProgress(value=0, description='Epoch 41', max=1), HTML(value='')))"
      ]
     },
     "metadata": {},
     "output_type": "display_data"
    },
    {
     "data": {
      "application/vnd.jupyter.widget-view+json": {
       "model_id": "",
       "version_major": 2,
       "version_minor": 0
      },
      "text/plain": [
       "HBox(children=(IntProgress(value=0, description='Epoch 42', max=1), HTML(value='')))"
      ]
     },
     "metadata": {},
     "output_type": "display_data"
    },
    {
     "data": {
      "application/vnd.jupyter.widget-view+json": {
       "model_id": "",
       "version_major": 2,
       "version_minor": 0
      },
      "text/plain": [
       "HBox(children=(IntProgress(value=0, description='Epoch 43', max=1), HTML(value='')))"
      ]
     },
     "metadata": {},
     "output_type": "display_data"
    },
    {
     "data": {
      "application/vnd.jupyter.widget-view+json": {
       "model_id": "",
       "version_major": 2,
       "version_minor": 0
      },
      "text/plain": [
       "HBox(children=(IntProgress(value=0, description='Epoch 44', max=1), HTML(value='')))"
      ]
     },
     "metadata": {},
     "output_type": "display_data"
    },
    {
     "data": {
      "application/vnd.jupyter.widget-view+json": {
       "model_id": "",
       "version_major": 2,
       "version_minor": 0
      },
      "text/plain": [
       "HBox(children=(IntProgress(value=0, description='Epoch 45', max=1), HTML(value='')))"
      ]
     },
     "metadata": {},
     "output_type": "display_data"
    },
    {
     "data": {
      "application/vnd.jupyter.widget-view+json": {
       "model_id": "",
       "version_major": 2,
       "version_minor": 0
      },
      "text/plain": [
       "HBox(children=(IntProgress(value=0, description='Epoch 46', max=1), HTML(value='')))"
      ]
     },
     "metadata": {},
     "output_type": "display_data"
    },
    {
     "data": {
      "application/vnd.jupyter.widget-view+json": {
       "model_id": "",
       "version_major": 2,
       "version_minor": 0
      },
      "text/plain": [
       "HBox(children=(IntProgress(value=0, description='Epoch 47', max=1), HTML(value='')))"
      ]
     },
     "metadata": {},
     "output_type": "display_data"
    },
    {
     "data": {
      "application/vnd.jupyter.widget-view+json": {
       "model_id": "",
       "version_major": 2,
       "version_minor": 0
      },
      "text/plain": [
       "HBox(children=(IntProgress(value=0, description='Epoch 48', max=1), HTML(value='')))"
      ]
     },
     "metadata": {},
     "output_type": "display_data"
    },
    {
     "data": {
      "application/vnd.jupyter.widget-view+json": {
       "model_id": "",
       "version_major": 2,
       "version_minor": 0
      },
      "text/plain": [
       "HBox(children=(IntProgress(value=0, description='Epoch 49', max=1), HTML(value='')))"
      ]
     },
     "metadata": {},
     "output_type": "display_data"
    },
    {
     "name": "stdout",
     "output_type": "stream",
     "text": [
      "\n",
      "Elapsed:  5.661479473114014\n"
     ]
    }
   ],
   "source": [
    "start = time.time()\n",
    "\n",
    "early_stopping = keras.callbacks.EarlyStopping('loss', min_delta=1.0, patience=20)\n",
    "reduce_lr = keras.callbacks.ReduceLROnPlateau(monitor='loss', factor=0.5, patience=10, min_lr=0.01 * learning_rate)\n",
    "tensorboard = keras.callbacks.TensorBoard(log_dir='./logs_2019-04-04/', histogram_freq=1, batch_size=1,\n",
    "                                          write_grads=True, write_images=True, update_freq='batch')\n",
    "\n",
    "history = model.fit(\n",
    "    #X_train, X_train_out,\n",
    "    X_train, X_train,\n",
    "    batch_size=batch_size,\n",
    "    #epochs=epochs,\n",
    "    epochs=50,\n",
    "    callbacks=[TQDMNotebookCallback()], #, tensorboard],#, early_stopping, reduce_lr],\n",
    "    #validation_data=(X_test, X_test_out),\n",
    "    validation_data=(X_train, X_train),\n",
    "    verbose=0\n",
    ")\n",
    "\n",
    "done = time.time()\n",
    "elapsed = done - start\n",
    "print(\"Elapsed: \", elapsed)"
   ]
  },
  {
   "cell_type": "code",
   "execution_count": 77,
   "metadata": {
    "ExecuteTime": {
     "end_time": "2019-05-04T14:01:43.390451Z",
     "start_time": "2019-05-04T14:01:43.268013Z"
    },
    "scrolled": false,
    "slideshow": {
     "slide_type": "-"
    }
   },
   "outputs": [
    {
     "data": {
      "text/html": [
       "<div>\n",
       "<style scoped>\n",
       "    .dataframe tbody tr th:only-of-type {\n",
       "        vertical-align: middle;\n",
       "    }\n",
       "\n",
       "    .dataframe tbody tr th {\n",
       "        vertical-align: top;\n",
       "    }\n",
       "\n",
       "    .dataframe thead th {\n",
       "        text-align: right;\n",
       "    }\n",
       "</style>\n",
       "<table border=\"1\" class=\"dataframe\">\n",
       "  <thead>\n",
       "    <tr style=\"text-align: right;\">\n",
       "      <th></th>\n",
       "      <th>val_loss</th>\n",
       "      <th>loss</th>\n",
       "    </tr>\n",
       "  </thead>\n",
       "  <tbody>\n",
       "    <tr>\n",
       "      <th>count</th>\n",
       "      <td>50.000000</td>\n",
       "      <td>50.000000</td>\n",
       "    </tr>\n",
       "    <tr>\n",
       "      <th>mean</th>\n",
       "      <td>126.013246</td>\n",
       "      <td>142.425798</td>\n",
       "    </tr>\n",
       "    <tr>\n",
       "      <th>std</th>\n",
       "      <td>151.991086</td>\n",
       "      <td>184.486416</td>\n",
       "    </tr>\n",
       "    <tr>\n",
       "      <th>min</th>\n",
       "      <td>50.340874</td>\n",
       "      <td>51.109390</td>\n",
       "    </tr>\n",
       "    <tr>\n",
       "      <th>0%</th>\n",
       "      <td>50.340874</td>\n",
       "      <td>51.109390</td>\n",
       "    </tr>\n",
       "    <tr>\n",
       "      <th>25%</th>\n",
       "      <td>56.707595</td>\n",
       "      <td>56.773077</td>\n",
       "    </tr>\n",
       "    <tr>\n",
       "      <th>50%</th>\n",
       "      <td>69.527290</td>\n",
       "      <td>70.529720</td>\n",
       "    </tr>\n",
       "    <tr>\n",
       "      <th>75%</th>\n",
       "      <td>79.724962</td>\n",
       "      <td>88.443901</td>\n",
       "    </tr>\n",
       "    <tr>\n",
       "      <th>95%</th>\n",
       "      <td>480.147334</td>\n",
       "      <td>585.553140</td>\n",
       "    </tr>\n",
       "    <tr>\n",
       "      <th>99%</th>\n",
       "      <td>694.681852</td>\n",
       "      <td>813.015598</td>\n",
       "    </tr>\n",
       "    <tr>\n",
       "      <th>max</th>\n",
       "      <td>752.697266</td>\n",
       "      <td>870.968506</td>\n",
       "    </tr>\n",
       "  </tbody>\n",
       "</table>\n",
       "</div>"
      ],
      "text/plain": [
       "         val_loss        loss\n",
       "count   50.000000   50.000000\n",
       "mean   126.013246  142.425798\n",
       "std    151.991086  184.486416\n",
       "min     50.340874   51.109390\n",
       "0%      50.340874   51.109390\n",
       "25%     56.707595   56.773077\n",
       "50%     69.527290   70.529720\n",
       "75%     79.724962   88.443901\n",
       "95%    480.147334  585.553140\n",
       "99%    694.681852  813.015598\n",
       "max    752.697266  870.968506"
      ]
     },
     "metadata": {},
     "output_type": "display_data"
    },
    {
     "data": {
      "text/plain": [
       "<matplotlib.axes._subplots.AxesSubplot at 0x7f0b0e106da0>"
      ]
     },
     "execution_count": 77,
     "metadata": {},
     "output_type": "execute_result"
    },
    {
     "data": {
      "image/png": "[encoded data removed]",
      "text/plain": [
       "<Figure size 576x432 with 1 Axes>"
      ]
     },
     "metadata": {},
     "output_type": "display_data"
    }
   ],
   "source": [
    "df = pd.DataFrame(history.history)\n",
    "display(df.describe(percentiles=[0.25 * i for i in range(4)] + [0.95, 0.99]))\n",
    "df['loss'].plot(figsize=(8, 6))"
   ]
  },
  {
   "cell_type": "code",
   "execution_count": 78,
   "metadata": {
    "ExecuteTime": {
     "end_time": "2019-05-04T14:01:43.400630Z",
     "start_time": "2019-05-04T14:01:43.392364Z"
    },
    "scrolled": true
   },
   "outputs": [
    {
     "name": "stdout",
     "output_type": "stream",
     "text": [
      "      val_loss        loss\n",
      "0   752.697266  870.968506\n",
      "1   634.298462  752.697266\n",
      "2   525.975525  634.298462\n",
      "3   424.135101  525.975525\n",
      "4   339.236511  424.135101\n",
      "5   279.240295  339.236511\n",
      "6   220.435455  279.240295\n",
      "7   184.676544  220.435455\n",
      "8   153.565796  184.676544\n",
      "9   140.020401  153.565796\n",
      "10  119.125351  140.020401\n",
      "11   91.331467  119.125351\n",
      "12   79.556236   91.331467\n",
      "13   67.058670   79.556236\n",
      "14   64.227089   67.058670\n",
      "15   65.882751   64.227089\n",
      "16   67.984268   65.882751\n",
      "17   70.244797   67.984268\n",
      "18   72.125916   70.244797\n",
      "19   72.321404   72.125916\n",
      "20   70.814644   72.321404\n",
      "21   75.923203   70.814644\n",
      "22   73.449448   75.923203\n",
      "23   71.098289   73.449448\n",
      "24   68.690689   71.098289\n",
      "25   72.952240   68.690689\n",
      "26   76.476585   72.952240\n",
      "27   79.781204   76.476585\n",
      "28   75.821732   79.781204\n",
      "29   72.112938   75.821732\n",
      "30   68.809784   72.112938\n",
      "31   65.827202   68.809784\n",
      "32   63.060097   65.827202\n",
      "33   60.511009   63.060097\n",
      "34   58.306629   60.511009\n",
      "35   56.660927   58.306629\n",
      "36   55.744450   56.660927\n",
      "37   55.542557   55.744450\n",
      "38   55.838120   55.542557\n",
      "39   56.325638   55.838120\n",
      "40   56.734909   56.325638\n",
      "41   56.887581   56.734909\n",
      "42   56.698490   56.887581\n",
      "43   56.160072   56.698490\n",
      "44   55.324291   56.160072\n",
      "45   54.286041   55.324291\n",
      "46   53.162643   54.286041\n",
      "47   52.071297   53.162643\n",
      "48   51.109390   52.071297\n",
      "49   50.340874   51.109390\n"
     ]
    }
   ],
   "source": [
    "print(df)"
   ]
  },
  {
   "cell_type": "code",
   "execution_count": 79,
   "metadata": {
    "ExecuteTime": {
     "end_time": "2019-05-04T14:01:44.240138Z",
     "start_time": "2019-05-04T14:01:43.402247Z"
    },
    "scrolled": true,
    "slideshow": {
     "slide_type": "-"
    }
   },
   "outputs": [
    {
     "name": "stdout",
     "output_type": "stream",
     "text": [
      "1/1 [==============================] - 0s 5ms/step\n",
      "50.34087371826172\n"
     ]
    }
   ],
   "source": [
    "lossvals = model.evaluate(X_train, X_train)\n",
    "print(lossvals)\n",
    "\n",
    "vals = model.predict(X_train)"
   ]
  },
  {
   "cell_type": "code",
   "execution_count": 80,
   "metadata": {
    "ExecuteTime": {
     "end_time": "2019-05-04T14:01:47.905133Z",
     "start_time": "2019-05-04T14:01:44.242392Z"
    },
    "scrolled": false
   },
   "outputs": [
    {
     "name": "stdout",
     "output_type": "stream",
     "text": [
      "(2, 20, 3)\n",
      "==== 0 0 0\n",
      "X_train[0, i, j, k] =  -0.5372549019607843  (59.0)\n",
      " m:  [-0.4418291  -0.10670283]\n",
      " E[m]:  -0.36888298\n",
      " invs:  [3.6220822 4.386565 ]\n",
      " weights:  [0.78233254 0.21766743]\n",
      " pvals:  61     0.010555\n",
      "62     0.013697\n",
      "63     0.017590\n",
      "64     0.022292\n",
      "65     0.027780\n",
      "66     0.033902\n",
      "67     0.040333\n",
      "68     0.046554\n",
      "69     0.051896\n",
      "70     0.055653\n",
      "71     0.057257\n",
      "72     0.056448\n",
      "73     0.053358\n",
      "74     0.048469\n",
      "75     0.042462\n",
      "76     0.036035\n",
      "77     0.029764\n",
      "78     0.024040\n",
      "79     0.019068\n",
      "80     0.014908\n",
      "81     0.011525\n",
      "110    0.010084\n",
      "111    0.016481\n",
      "112    0.024448\n",
      "113    0.031506\n",
      "114    0.033983\n",
      "115    0.030290\n",
      "116    0.022741\n",
      "117    0.014968\n",
      "dtype: float64\n",
      " pixel_val:  64\n",
      "==== 0 0 1\n",
      "X_train[0, i, j, k] =  -0.5137254901960784  (62.0)\n",
      " m:  [-0.19672635 -0.04862855]\n",
      " E[m]:  -0.16470397\n",
      " invs:  [3.648991 4.455485]\n",
      " weights:  [0.7837754 0.2162246]\n",
      " pvals:  93     0.012366\n",
      "94     0.016080\n",
      "95     0.020649\n",
      "96     0.026096\n",
      "97     0.032321\n",
      "98     0.039046\n",
      "99     0.045774\n",
      "100    0.051809\n",
      "101    0.056360\n",
      "102    0.058726\n",
      "103    0.058507\n",
      "104    0.055744\n",
      "105    0.050895\n",
      "106    0.044694\n",
      "107    0.037928\n",
      "108    0.031267\n",
      "109    0.025174\n",
      "110    0.019905\n",
      "111    0.015550\n",
      "112    0.012107\n",
      "117    0.010143\n",
      "118    0.015054\n",
      "119    0.022677\n",
      "120    0.031315\n",
      "121    0.036671\n",
      "122    0.034908\n",
      "123    0.027123\n",
      "124    0.017923\n",
      "125    0.010622\n",
      "dtype: float64\n",
      " pixel_val:  104\n",
      "==== 0 0 2\n",
      "X_train[0, i, j, k] =  -0.5058823529411764  (63.0)\n",
      " m:  [-0.08430319 -0.05333319]\n",
      " E[m]:  -0.07676396\n",
      " invs:  [3.7635202 4.4566603]\n",
      " weights:  [0.7565635  0.24343656]\n",
      " pvals:  108    0.012070\n",
      "109    0.016283\n",
      "110    0.021662\n",
      "111    0.028291\n",
      "112    0.036091\n",
      "113    0.044729\n",
      "114    0.053598\n",
      "115    0.061943\n",
      "116    0.069189\n",
      "117    0.075322\n",
      "118    0.080820\n",
      "119    0.085457\n",
      "120    0.086550\n",
      "121    0.080062\n",
      "122    0.065709\n",
      "123    0.048422\n",
      "124    0.033292\n",
      "125    0.022200\n",
      "126    0.014734\n",
      "dtype: float64\n",
      " pixel_val:  124\n",
      "==== 0 1 0\n",
      "X_train[0, i, j, k] =  -0.6627450980392157  (43.0)\n",
      " m:  [-0.34220567 -0.07381581]\n",
      " E[m]:  -0.2692927\n",
      " invs:  [3.8218899 4.423176 ]\n",
      " weights:  [0.7283319  0.27166814]\n",
      " pvals:  75     0.010062\n",
      "76     0.013909\n",
      "77     0.018960\n",
      "78     0.025363\n",
      "79     0.033084\n",
      "80     0.041766\n",
      "81     0.050602\n",
      "82     0.058341\n",
      "83     0.063536\n",
      "84     0.065040\n",
      "85     0.062494\n",
      "86     0.056498\n",
      "87     0.048332\n",
      "88     0.039431\n",
      "89     0.030942\n",
      "90     0.023549\n",
      "91     0.017507\n",
      "92     0.012791\n",
      "114    0.010857\n",
      "115    0.018503\n",
      "116    0.028789\n",
      "117    0.039000\n",
      "118    0.043978\n",
      "119    0.040415\n",
      "120    0.030728\n",
      "121    0.020164\n",
      "122    0.011984\n",
      "dtype: float64\n",
      " pixel_val:  83\n",
      "==== 0 1 1\n",
      "X_train[0, i, j, k] =  -0.6392156862745098  (46.0)\n",
      " m:  [-0.0041121  -0.00911941]\n",
      " E[m]:  -0.0058470825\n",
      " invs:  [4.101232 4.482656]\n",
      " weights:  [0.65350926 0.34649074]\n",
      " pvals:  120    0.013591\n",
      "121    0.022116\n",
      "122    0.035503\n",
      "123    0.055427\n",
      "124    0.082093\n",
      "125    0.111134\n",
      "126    0.131856\n",
      "127    0.133607\n",
      "128    0.116489\n",
      "129    0.090345\n",
      "130    0.064650\n",
      "131    0.043868\n",
      "132    0.028742\n",
      "133    0.018404\n",
      "134    0.011615\n",
      "dtype: float64\n",
      " pixel_val:  133\n",
      "==== 0 1 2\n",
      "X_train[0, i, j, k] =  -0.6470588235294118  (45.0)\n",
      " m:  [ 0.14951378 -0.00835661]\n",
      " E[m]:  0.07528606\n",
      " invs:  [4.5539083 4.5100446]\n",
      " weights:  [0.5298186  0.47018144]\n",
      " pvals:  122    0.013274\n",
      "123    0.024824\n",
      "124    0.042913\n",
      "125    0.064987\n",
      "126    0.081049\n",
      "127    0.079764\n",
      "128    0.062154\n",
      "129    0.040195\n",
      "130    0.022953\n",
      "131    0.012187\n",
      "142    0.012575\n",
      "143    0.024584\n",
      "144    0.044689\n",
      "145    0.071409\n",
      "146    0.093534\n",
      "147    0.095111\n",
      "148    0.074800\n",
      "149    0.047810\n",
      "150    0.026636\n",
      "151    0.013715\n",
      "dtype: float64\n",
      " pixel_val:  128\n",
      "row 0\n",
      "==== 1 0 0\n",
      "X_train[0, i, j, k] =  -0.8745098039215686  (16.0)\n",
      " m:  [-0.23295811 -0.06610484]\n",
      " E[m]:  -0.17439896\n",
      " invs:  [4.129722 4.423533]\n",
      " weights:  [0.649038   0.35096204]\n",
      " pvals:  91     0.010798\n",
      "92     0.016813\n",
      "93     0.025508\n",
      "94     0.037217\n",
      "95     0.051317\n",
      "96     0.065506\n",
      "97     0.075854\n",
      "98     0.078529\n",
      "99     0.072413\n",
      "100    0.059986\n",
      "101    0.045434\n",
      "102    0.032132\n",
      "103    0.021641\n",
      "104    0.014104\n",
      "115    0.014219\n",
      "116    0.024139\n",
      "117    0.037458\n",
      "118    0.050596\n",
      "119    0.056859\n",
      "120    0.052068\n",
      "121    0.039466\n",
      "122    0.025838\n",
      "123    0.015332\n",
      "dtype: float64\n",
      " pixel_val:  100\n",
      "==== 1 0 1\n",
      "X_train[0, i, j, k] =  -0.8431372549019608  (20.0)\n",
      " m:  [0.13386142 0.03127136]\n",
      " E[m]:  0.08059627\n",
      " invs:  [4.7257795 4.4958706]\n",
      " weights:  [0.4807962  0.51920384]\n",
      " pvals:  127    0.014545\n",
      "128    0.026962\n",
      "129    0.046312\n",
      "130    0.070023\n",
      "131    0.087816\n",
      "132    0.087551\n",
      "133    0.069441\n",
      "134    0.045769\n",
      "135    0.026649\n",
      "136    0.014530\n",
      "141    0.017541\n",
      "142    0.036856\n",
      "143    0.068233\n",
      "144    0.098668\n",
      "145    0.101112\n",
      "146    0.072853\n",
      "147    0.040242\n",
      "148    0.019029\n",
      "dtype: float64\n",
      " pixel_val:  131\n",
      "==== 1 0 2\n",
      "X_train[0, i, j, k] =  -0.8431372549019608  (20.0)\n",
      " m:  [ 0.19969743 -0.00222343]\n",
      " E[m]:  0.05767499\n",
      " invs:  [5.3764935 4.5233536]\n",
      " weights:  [0.29664305 0.7033569 ]\n",
      " pvals:  122    0.011408\n",
      "123    0.022354\n",
      "124    0.041715\n",
      "125    0.071197\n",
      "126    0.104811\n",
      "127    0.124971\n",
      "128    0.116434\n",
      "129    0.086051\n",
      "130    0.053324\n",
      "131    0.029520\n",
      "132    0.015329\n",
      "151    0.018455\n",
      "152    0.070123\n",
      "153    0.118648\n",
      "154    0.064597\n",
      "155    0.016377\n",
      "dtype: float64\n",
      " pixel_val:  130\n",
      "==== 1 1 0\n",
      "X_train[0, i, j, k] =  -1.0  (0.0)\n",
      " m:  [-0.00881163 -0.00237121]\n",
      " E[m]:  -0.00574598\n",
      " invs:  [4.4442883 4.5149326]\n",
      " weights:  [0.52399844 0.4760016 ]\n",
      " pvals:  121    0.013290\n",
      "122    0.025164\n",
      "123    0.045871\n",
      "124    0.078213\n",
      "125    0.119643\n",
      "126    0.156283\n",
      "127    0.167087\n",
      "128    0.143879\n",
      "129    0.101933\n",
      "130    0.062386\n",
      "131    0.034773\n",
      "132    0.018377\n",
      "dtype: float64\n",
      " pixel_val:  133\n",
      "==== 1 1 1\n",
      "X_train[0, i, j, k] =  -1.0  (0.0)\n",
      " m:  [0.50284505 0.10388638]\n",
      " E[m]:  0.20070674\n",
      " invs:  [5.3800344 4.572612 ]\n",
      " weights:  [0.24268267 0.75731736]\n",
      " pvals:  136    0.015148\n",
      "137    0.030383\n",
      "138    0.057116\n",
      "139    0.095369\n",
      "140    0.131592\n",
      "141    0.140763\n",
      "142    0.114930\n",
      "143    0.074878\n",
      "144    0.041875\n",
      "145    0.021441\n",
      "146    0.010483\n",
      "190    0.025259\n",
      "191    0.077995\n",
      "192    0.089048\n",
      "193    0.034509\n",
      "dtype: float64\n",
      " pixel_val:  142\n",
      "==== 1 1 2\n",
      "X_train[0, i, j, k] =  -1.0  (0.0)\n",
      " m:  [0.7201409 0.0567629]\n",
      " E[m]:  0.11156124\n",
      " invs:  [6.146732 4.578245]\n",
      " weights:  [0.082605 0.917395]\n",
      " pvals:  130    0.018215\n",
      "131    0.036702\n",
      "132    0.069295\n",
      "133    0.116101\n",
      "134    0.160423\n",
      "135    0.171337\n",
      "136    0.139296\n",
      "137    0.090233\n",
      "138    0.050164\n",
      "139    0.025542\n",
      "140    0.012424\n",
      "219    0.050660\n",
      "220    0.026944\n",
      "dtype: float64\n",
      " pixel_val:  136\n",
      "row 1\n"
     ]
    },
    {
     "data": {
      "image/png": "[encoded data removed]",
      "text/plain": [
       "<Figure size 432x288 with 1 Axes>"
      ]
     },
     "metadata": {},
     "output_type": "display_data"
    },
    {
     "data": {
      "image/png": "[encoded data removed]",
      "text/plain": [
       "<Figure size 864x864 with 1 Axes>"
      ]
     },
     "metadata": {},
     "output_type": "display_data"
    },
    {
     "name": "stdout",
     "output_type": "stream",
     "text": [
      "Elapsed:  3.650634527206421\n"
     ]
    }
   ],
   "source": [
    "debug = True\n",
    "\n",
    "def gen_image(model, num_samples=batch_size):\n",
    "    x_sample = np.zeros((num_samples, img_rows, img_cols, img_chns))\n",
    "    \n",
    "    # Iteratively generate each conditional pixel P(x_i | x_{1,..,i-1})\n",
    "    for i in range(img_rows):\n",
    "        for j in range(img_cols):\n",
    "            for k in range(img_chns):\n",
    "                x_out = model.predict(x_sample, num_samples)\n",
    "                for n in range(num_samples):\n",
    "                    offset = k * mixture_components\n",
    "                    x_ms = x_out[n, i, j, offset:offset + mixture_components]\n",
    "                    offset = mixture_components * img_chns + k * mixture_components\n",
    "                    x_invs = x_out[n, i, j, offset:offset + mixture_components]\n",
    "                    offset = 2 * mixture_components * img_chns + k * mixture_components\n",
    "                    weights = softmax(x_out[n, i, j, offset:offset + mixture_components])\n",
    "                    pvals = compute_mixture(x_ms, x_invs, weights, mixture_components)\n",
    "                    pvals /= (np.sum(pvals) + 1e-5)\n",
    "                    pixel_val = np.argmax(np.random.multinomial(1, pvals))\n",
    "                    x_sample[n, i, j, k] = pixel_val / 255.\n",
    "                    if 0 <= i <= 16 and 0 <= j <= 16 and debug:\n",
    "                        print(\"====\", i, j, k)\n",
    "                        print(\"X_train[0, i, j, k] = \", X_train[0, i, j, k], \n",
    "                              \" (%s)\" % (X_train[0, i, j, k] * 127.5 + 127.5))\n",
    "                        print(\" m: \", x_ms)\n",
    "                        print(\" E[m]: \", (x_ms * weights).sum())\n",
    "                        print(\" invs: \", x_invs)\n",
    "                        print(\" weights: \", weights)\n",
    "                        s = pd.Series(pvals)\n",
    "                        print(\" pvals: \", s[s>1e-2])\n",
    "                        print(\" pixel_val: \", pixel_val)\n",
    "                        samples = pd.Series(np.random.choice(len(pvals), 1000, p=pvals / pvals.sum()))\n",
    "                        samples.hist(bins=128, alpha=0.5, label='generated')\n",
    "                        #print(\"====\", i, j, k)\n",
    "                        #print(\" m: \", x_ms)\n",
    "                        #print(\" invs: \", x_invs)\n",
    "                        #print(\" weights: \", weights)\n",
    "                        #print(\" pixel_val: \", pixel_val)\n",
    "                        #print(\" x_out[n, i, j, :]: \", x_out[n, i, j, :])\n",
    "                        #print(\" x_out: \", x_out)\n",
    "                        #print(\" sample_val: \", x_sample[n, i, j, k])\n",
    "                        #print(\" pvals: \", pvals)\n",
    "        if debug:\n",
    "            print(\"row\", i)\n",
    "        \n",
    "                \n",
    "    return x_sample\n",
    "\n",
    "\n",
    "start = time.time()\n",
    "\n",
    "n = 1 if debug else 10\n",
    "figure = np.zeros((img_rows * ((n - 1) // 10 + 1), img_cols * 10, img_chns))\n",
    "print(figure.shape)\n",
    "# num_samples = batch_size\n",
    "num_samples = 1\n",
    "for i in range(1):\n",
    "    samples = gen_image(model, num_samples=num_samples)\n",
    "    for j in range(num_samples):\n",
    "        img = samples[j] \n",
    "        d_x = ((i * batch_size + j) // 10) * img_rows\n",
    "        d_y = ((i * batch_size + j) % 10) * img_cols\n",
    "        figure[d_x:d_x + img_rows, d_y:d_y + img_cols, :] = img\n",
    "        \n",
    "plt.figure(figsize=(12, 12))\n",
    "plt.imshow(figure)\n",
    "plt.show()\n",
    "\n",
    "done = time.time()\n",
    "elapsed = done - start\n",
    "print(\"Elapsed: \", elapsed)"
   ]
  },
  {
   "cell_type": "code",
   "execution_count": 70,
   "metadata": {
    "ExecuteTime": {
     "end_time": "2019-05-04T14:01:00.406845Z",
     "start_time": "2019-05-04T14:01:00.300764Z"
    }
   },
   "outputs": [
    {
     "data": {
      "image/png": "[encoded data removed]",
      "text/plain": [
       "<Figure size 864x864 with 1 Axes>"
      ]
     },
     "metadata": {},
     "output_type": "display_data"
    }
   ],
   "source": [
    "plt.figure(figsize=(12, 12))\n",
    "plt.imshow(figure)\n",
    "plt.show()\n"
   ]
  },
  {
   "cell_type": "markdown",
   "metadata": {
    "slideshow": {
     "slide_type": "slide"
    }
   },
   "source": [
    "# Notes\n",
    "\n",
    "* Did the last conv layer wrong (did a masking layer, when I should have done a 1x1 on each channel) -- actually might want to actually do a type B mask on last layer...\n",
    "* Debug using single image, then grow it\n",
    "* GPU small, so cut down problem to 20x20x3; discretize outputs to 16 levels for each channel (vs. 256)\n",
    "* Found the tensorflow loss function the best, didn't have to duplicate softmax, then call keras, which then converts back to a probability\n",
    "* Don't need an explicit dense layer on output because loss function takes care of it for me.  Just use output of 1x1 conv directly.\n"
   ]
  },
  {
   "cell_type": "markdown",
   "metadata": {},
   "source": [
    "# 2019-04-02\n",
    "\n",
    "* Put together a small network, testing on 2 images\n",
    "* Loss decreases but goes to NaN very quickly:\n",
    "\n",
    "                     loss\n",
    "        0   355135.187500\n",
    "        1   303480.437500\n",
    "        2   232975.671875\n",
    "        3   160819.125000\n",
    "        4   108442.257812\n",
    "        5    73411.578125\n",
    "        6    50420.945312\n",
    "        7    40021.398438\n",
    "        8    37298.570312\n",
    "        9             NaN\n",
    "        10            NaN\n",
    "        \n",
    "* I suspect it's something to do with the loss function.  I tried using the extra dummy \"where\" clause that the PixelCNN++ implementation has, but it didn't really solve my problem\n",
    "* Ideas:\n",
    "    * Maybe it's due to the `logsumexp`?  Weird b/c I'm using the tf version, which should be more stable\n",
    "    * Also check the inv_stddev -- maybe I should be doing something different here?\n",
    "    * The PixelCNN++ implementation also has a numerically stable `log_prob_from_logits` function (which is used on the mixture weights), maybe I need that?  Oh that implementation directly calculates log(softmax(.)), whereas I just go to softmax.  I guess log(small number) could overflow pretty easily?"
   ]
  },
  {
   "cell_type": "markdown",
   "metadata": {},
   "source": [
    "# 2019-04-03\n",
    "\n",
    "* The NaNs from before were due to problems with the softmax.  Instead of using `activation='softmax'` on the last `Dense` layer from the network, I just use no activation (to generate 'logits') and then do the `log(softmax(x))` inside the loss function using a numerically stable `log(softmax(.))`.  See https://stackoverflow.com/questions/44081007/logsoftmax-stability\n",
    "* It appears the loss is still high (43k ~= 14 bits/pixel) for some reason.  Still need to figure out if I just need more training or something like that.  Might be a bug in the network?\n",
    "* Also my image generation is super slow (GPU is not bottlenecked, it's CPU), most likely because when I'm sampling pixels, I use heavy loops instead of numpy functionality, maybe fix it.\n"
   ]
  },
  {
   "cell_type": "markdown",
   "metadata": {},
   "source": [
    "# 2019-04-04\n",
    "\n",
    "* Found a bug, `x_m` output was using sigmoid instead of no activation, thus we could only make light coloured pixels\n",
    "* Still have problems fitting, debugging the first pixel (0, 0, 0) and it's way off in terms of where the logistic distribution lands.\n",
    "* Tried shrinking image down to 1x1x3 and 2x2x3 and reducing network to just first Pixel2D layer + output layer, still have trouble fitting.\n",
    "    * When I just have 1x1x3 with a `relu` it doens't fit, but when I switch to `tanh` it fits?\n",
    "    * However, when I grow to 2x2x3, it doesn't work anymore.\n",
    "    * Very mysterious!\n",
    "    * Looks like there is a bit of bias upwards, here is 2x3x3 with `tanh` on Pixel2D layer, you can see that we're biasing high for some reason...  Not exactly sure why\n",
    "   \n",
    "            ==== 0 0 0\n",
    "            X_train[0, i, j, k] =  -0.5372549019607843  (59.0)\n",
    "             m:  [-0.4418291  -0.10670283]\n",
    "             E[m]:  -0.36888298\n",
    "             invs:  [3.6220822 4.386565 ]\n",
    "             weights:  [0.78233254 0.21766743]\n",
    "             pvals:  61     0.010555\n",
    "            62     0.013697\n",
    "            63     0.017590\n",
    "            64     0.022292\n",
    "            65     0.027780\n",
    "            66     0.033902\n",
    "            67     0.040333\n",
    "            68     0.046554\n",
    "            69     0.051896\n",
    "            70     0.055653\n",
    "            71     0.057257\n",
    "            72     0.056448\n",
    "            73     0.053358\n",
    "            74     0.048469\n",
    "            75     0.042462\n",
    "            76     0.036035\n",
    "            77     0.029764\n",
    "            78     0.024040\n",
    "            79     0.019068\n",
    "            80     0.014908\n",
    "            81     0.011525\n",
    "            110    0.010084\n",
    "            111    0.016481\n",
    "            112    0.024448\n",
    "            113    0.031506\n",
    "            114    0.033983\n",
    "            115    0.030290\n",
    "            116    0.022741\n",
    "            117    0.014968\n",
    "            dtype: float64\n",
    "             pixel_val:  64\n",
    "            ==== 0 0 1\n",
    "            X_train[0, i, j, k] =  -0.5137254901960784  (62.0)\n",
    "             m:  [-0.19672635 -0.04862855]\n",
    "             E[m]:  -0.16470397\n",
    "             invs:  [3.648991 4.455485]\n",
    "             weights:  [0.7837754 0.2162246]\n",
    "             pvals:  93     0.012366\n",
    "            94     0.016080\n",
    "            95     0.020649\n",
    "            96     0.026096\n",
    "            97     0.032321\n",
    "            98     0.039046\n",
    "            99     0.045774\n",
    "            100    0.051809\n",
    "            101    0.056360\n",
    "            102    0.058726\n",
    "            103    0.058507\n",
    "            104    0.055744\n",
    "            105    0.050895\n",
    "            106    0.044694\n",
    "            107    0.037928\n",
    "            108    0.031267\n",
    "            109    0.025174\n",
    "            110    0.019905\n",
    "            111    0.015550\n",
    "            112    0.012107\n",
    "            117    0.010143\n",
    "            118    0.015054\n",
    "            119    0.022677\n",
    "            120    0.031315\n",
    "            121    0.036671\n",
    "            122    0.034908\n",
    "            123    0.027123\n",
    "            124    0.017923\n",
    "            125    0.010622\n",
    "            dtype: float64\n",
    "             pixel_val:  104\n",
    "            ==== 0 0 2\n",
    "            X_train[0, i, j, k] =  -0.5058823529411764  (63.0)\n",
    "             m:  [-0.08430319 -0.05333319]\n",
    "             E[m]:  -0.07676396\n",
    "             invs:  [3.7635202 4.4566603]\n",
    "             weights:  [0.7565635  0.24343656]\n",
    "             pvals:  108    0.012070\n",
    "            109    0.016283\n",
    "            110    0.021662\n",
    "            111    0.028291\n",
    "            112    0.036091\n",
    "            113    0.044729\n",
    "            114    0.053598\n",
    "            115    0.061943\n",
    "            116    0.069189\n",
    "            117    0.075322\n",
    "            118    0.080820\n",
    "            119    0.085457\n",
    "            120    0.086550\n",
    "            121    0.080062\n",
    "            122    0.065709\n",
    "            123    0.048422\n",
    "            124    0.033292\n",
    "            125    0.022200\n",
    "            126    0.014734\n",
    "            dtype: float64\n",
    "             pixel_val:  124\n",
    "    \n",
    "* Likely something wrong with `final_block` because when I add it, it moves everything to '0' pixels?"
   ]
  },
  {
   "cell_type": "code",
   "execution_count": null,
   "metadata": {},
   "outputs": [],
   "source": []
  }
 ],
 "metadata": {
  "celltoolbar": "Slideshow",
  "kernelspec": {
   "display_name": "Python 3",
   "language": "python",
   "name": "python3"
  },
  "language_info": {
   "codemirror_mode": {
    "name": "ipython",
    "version": 3
   },
   "file_extension": ".py",
   "mimetype": "text/x-python",
   "name": "python",
   "nbconvert_exporter": "python",
   "pygments_lexer": "ipython3",
   "version": "3.6.5"
  },
  "widgets": {
   "state": {
    "042d9353a5294a1cae93f8eb9e9a3c84": {
     "views": [
      {
       "cell_index": 12
      }
     ]
    },
    "05e25527c52843438585a66b7e9f443c": {
     "views": [
      {
       "cell_index": 12
      }
     ]
    },
    "06fdc638a3dc45a0a1e82f2b3c90c18d": {
     "views": [
      {
       "cell_index": 12
      }
     ]
    },
    "07f49ab2133c40a4a245e0a348843084": {
     "views": [
      {
       "cell_index": 12
      }
     ]
    },
    "12369f27c46c46f58c925a3d9749e65d": {
     "views": [
      {
       "cell_index": 12
      }
     ]
    },
    "16bcb109a6814007801cf814c76aa6d3": {
     "views": [
      {
       "cell_index": 12
      }
     ]
    },
    "1930a5477ce44850aaa99c20f3f7e542": {
     "views": [
      {
       "cell_index": 12
      }
     ]
    },
    "194b186d11d94c28afd8a01d9fd8ae1e": {
     "views": [
      {
       "cell_index": 12
      }
     ]
    },
    "1ccc61b6a278489eacb5735a740e79bf": {
     "views": [
      {
       "cell_index": 12
      }
     ]
    },
    "1d67ae6836244a81bff253e0426488ff": {
     "views": [
      {
       "cell_index": 12
      }
     ]
    },
    "213bd5ec7a124467b85e240c7bdcc819": {
     "views": [
      {
       "cell_index": 12
      }
     ]
    },
    "23c591bc3a7e4df5b0e21677e2869f27": {
     "views": [
      {
       "cell_index": 12
      }
     ]
    },
    "24382361c62a4bbc9741c2129be71810": {
     "views": [
      {
       "cell_index": 12
      }
     ]
    },
    "24419d69ef3347819fcc70448978bf05": {
     "views": [
      {
       "cell_index": 12
      }
     ]
    },
    "25ecd0ca842e43fcabc04a82fff2dac1": {
     "views": [
      {
       "cell_index": 12
      }
     ]
    },
    "26bab0144edd46609ddcdd6bfd65115f": {
     "views": [
      {
       "cell_index": 12
      }
     ]
    },
    "28707906c2344d00b07ee40c479121db": {
     "views": [
      {
       "cell_index": 12
      }
     ]
    },
    "287646592b8e41f2920e73c7e92d2ec0": {
     "views": [
      {
       "cell_index": 12
      }
     ]
    },
    "28a8916064514ce7912c103e7370ad47": {
     "views": [
      {
       "cell_index": 12
      }
     ]
    },
    "2a100dade8384007bf4abf580068cdc3": {
     "views": [
      {
       "cell_index": 12
      }
     ]
    },
    "2b28c9ea3e5b4950bdfcd897162bd56d": {
     "views": [
      {
       "cell_index": 12
      }
     ]
    },
    "2b5b08661aee4f9296e0878cb4ce041b": {
     "views": [
      {
       "cell_index": 12
      }
     ]
    },
    "2bd96fa1931842749cd9ba68345a4132": {
     "views": [
      {
       "cell_index": 12
      }
     ]
    },
    "32a97da73a594458a7080928d0aa12a4": {
     "views": [
      {
       "cell_index": 12
      }
     ]
    },
    "33a124f13a124b64bbca8a0a4a96999c": {
     "views": [
      {
       "cell_index": 12
      }
     ]
    },
    "3477d40608834aca90d0f57b44f7b3e7": {
     "views": [
      {
       "cell_index": 12
      }
     ]
    },
    "357ae9996a19410e98f131fc86e2c937": {
     "views": [
      {
       "cell_index": 12
      }
     ]
    },
    "3a1b2c52257843549c64aedde0be827c": {
     "views": [
      {
       "cell_index": 12
      }
     ]
    },
    "3a685442e38243f5a601d54d59c37fdd": {
     "views": [
      {
       "cell_index": 12
      }
     ]
    },
    "3ac750287e394cc281f1dc3487e94df6": {
     "views": [
      {
       "cell_index": 12
      }
     ]
    },
    "3afef162a0304210973a3797acf40cab": {
     "views": [
      {
       "cell_index": 12
      }
     ]
    },
    "3c47ecdd65c049cfa66eb21ad8fd933b": {
     "views": [
      {
       "cell_index": 12
      }
     ]
    },
    "40b3e13fb5ae4ceda47aa8542106d365": {
     "views": [
      {
       "cell_index": 12
      }
     ]
    },
    "439afcda2d4e4ce9af1ea7024a9bd0b5": {
     "views": [
      {
       "cell_index": 12
      }
     ]
    },
    "440c8e7f865840019dd96476fe5fe1bc": {
     "views": [
      {
       "cell_index": 12
      }
     ]
    },
    "4480a3d377a748c5bbd202d71b80b323": {
     "views": [
      {
       "cell_index": 12
      }
     ]
    },
    "4692e78886d942c982ddd2a97a55f649": {
     "views": [
      {
       "cell_index": 12
      }
     ]
    },
    "47282faa187746bb8339a4fb4ac58068": {
     "views": [
      {
       "cell_index": 12
      }
     ]
    },
    "4a1af9ac778a45d8baac52255b6aaac0": {
     "views": [
      {
       "cell_index": 12
      }
     ]
    },
    "4a7ca0764c1d4f4e8c818452e0faad22": {
     "views": [
      {
       "cell_index": 12
      }
     ]
    },
    "4f9ead92babf43a6a7c2dbe03bc199e1": {
     "views": [
      {
       "cell_index": 12
      }
     ]
    },
    "4fe4e6c7a7c04da0b82eedfee59f123c": {
     "views": [
      {
       "cell_index": 12
      }
     ]
    },
    "509696b56ebd4c078824720adfb9c882": {
     "views": [
      {
       "cell_index": 12
      }
     ]
    },
    "5288b8c03d57497384001bd545f9473a": {
     "views": [
      {
       "cell_index": 12
      }
     ]
    },
    "54c0486d9d194fd89a425f8bfe8abffd": {
     "views": [
      {
       "cell_index": 12
      }
     ]
    },
    "5591146f394445e9a7562bfbeba3b210": {
     "views": [
      {
       "cell_index": 12
      }
     ]
    },
    "569e07a8c03b417a8bec640521c1e8d8": {
     "views": [
      {
       "cell_index": 12
      }
     ]
    },
    "56d382118cbe49f09c5518839d1309ee": {
     "views": [
      {
       "cell_index": 12
      }
     ]
    },
    "58879c6ef3904577a0d0ca261361d888": {
     "views": [
      {
       "cell_index": 12
      }
     ]
    },
    "59de165a886a4dcd855ec33e4682bd2d": {
     "views": [
      {
       "cell_index": 12
      }
     ]
    },
    "5d835fe3d36c41d9b140f25c874e02e7": {
     "views": [
      {
       "cell_index": 12
      }
     ]
    },
    "5dcb1825f8f945509c1521456ec8802f": {
     "views": [
      {
       "cell_index": 12
      }
     ]
    },
    "5fc113b88db343038e6190f2e2e1df1e": {
     "views": [
      {
       "cell_index": 12
      }
     ]
    },
    "601e0344661243299a2a6d382458f93a": {
     "views": [
      {
       "cell_index": 12
      }
     ]
    },
    "6060d310a5e34896a7156115cc6c3b43": {
     "views": [
      {
       "cell_index": 12
      }
     ]
    },
    "607439f270cb405cad0280cd5bf035bf": {
     "views": [
      {
       "cell_index": 12
      }
     ]
    },
    "695d75c78b7148a4a7c84d57bed02c35": {
     "views": [
      {
       "cell_index": 12
      }
     ]
    },
    "6b76037650064c71afc1ef43cea3b884": {
     "views": [
      {
       "cell_index": 12
      }
     ]
    },
    "6ec89ae257604fa0a672b9c0042d1c53": {
     "views": [
      {
       "cell_index": 12
      }
     ]
    },
    "70dfa87054284e3d84cd08df8bfbf705": {
     "views": [
      {
       "cell_index": 12
      }
     ]
    },
    "70fefa448a124b56bec948f54c0fe1fc": {
     "views": [
      {
       "cell_index": 12
      }
     ]
    },
    "73deeee41eb04b1c9b5d12164159f500": {
     "views": [
      {
       "cell_index": 12
      }
     ]
    },
    "74df7b1ee69449e6a6733da633e4c583": {
     "views": [
      {
       "cell_index": 12
      }
     ]
    },
    "75c980fe55484a15b5fadf86960e6984": {
     "views": [
      {
       "cell_index": 12
      }
     ]
    },
    "770dfa1b77ed46258fd936b4a5b002f7": {
     "views": [
      {
       "cell_index": 12
      }
     ]
    },
    "79b014c35bb64afd98775e32a56c8469": {
     "views": [
      {
       "cell_index": 12
      }
     ]
    },
    "7b97837f50464a0194b38acd2ee83d07": {
     "views": [
      {
       "cell_index": 12
      }
     ]
    },
    "7df60277eba44da5acc4ae70299cd1db": {
     "views": [
      {
       "cell_index": 12
      }
     ]
    },
    "7e9f3f789dd9472189a557183640b7c9": {
     "views": [
      {
       "cell_index": 12
      }
     ]
    },
    "7eb10ea82e954391a3733334c4276916": {
     "views": [
      {
       "cell_index": 12
      }
     ]
    },
    "7fe51828fd9745e9bad8a4632d35a137": {
     "views": [
      {
       "cell_index": 12
      }
     ]
    },
    "807fe4bc5122427a8d991815a0afdefe": {
     "views": [
      {
       "cell_index": 12
      }
     ]
    },
    "82b2dfaaeca94ac7871eb714ebf0bd24": {
     "views": [
      {
       "cell_index": 12
      }
     ]
    },
    "83eb650f527a42e9a904a1dc3489226e": {
     "views": [
      {
       "cell_index": 12
      }
     ]
    },
    "84c3b92deb524251aae620eb42b81d57": {
     "views": [
      {
       "cell_index": 12
      }
     ]
    },
    "85ca8ba9ed1c4fc1bd9f636d4efb13a2": {
     "views": [
      {
       "cell_index": 12
      }
     ]
    },
    "8a803cf98b4a4ad38b46389cd0cbc624": {
     "views": [
      {
       "cell_index": 12
      }
     ]
    },
    "8f271df026484a06be2f6509462c42ed": {
     "views": [
      {
       "cell_index": 12
      }
     ]
    },
    "8f2d4f8192c4455a922e9f4f4388b10a": {
     "views": [
      {
       "cell_index": 12
      }
     ]
    },
    "99722895709c48d7baca4359ce30f165": {
     "views": [
      {
       "cell_index": 12
      }
     ]
    },
    "9994b42dd71f4dcb8412076e04f74af1": {
     "views": [
      {
       "cell_index": 12
      }
     ]
    },
    "9c65331cb7044f07bea6f1dcd02be34e": {
     "views": [
      {
       "cell_index": 12
      }
     ]
    },
    "9d93b50dddb843ffb3192fa7463d1eb3": {
     "views": [
      {
       "cell_index": 12
      }
     ]
    },
    "9ddcff6b73e84b71bb72cbaf509b6d7d": {
     "views": [
      {
       "cell_index": 12
      }
     ]
    },
    "9ff602ebdfe446f8a7973c18b0b9c448": {
     "views": [
      {
       "cell_index": 12
      }
     ]
    },
    "a13b7297bcfd48aeb1f6adeb79c6907e": {
     "views": [
      {
       "cell_index": 12
      }
     ]
    },
    "a2d8253207ff47c196ec18d0c3e292fc": {
     "views": [
      {
       "cell_index": 12
      }
     ]
    },
    "a447bd0d14cf402b844ccef55b5e2d6e": {
     "views": [
      {
       "cell_index": 12
      }
     ]
    },
    "a8fd29c4d7474543bfb283fe1bc22752": {
     "views": [
      {
       "cell_index": 12
      }
     ]
    },
    "a938e8c6d6f54d119dc4e0fc6591ceb2": {
     "views": [
      {
       "cell_index": 12
      }
     ]
    },
    "abb7603ed5cc4ea7a3e9133abc83daab": {
     "views": [
      {
       "cell_index": 12
      }
     ]
    },
    "abd62c0bee8d4a1d93a95b31b9aaf486": {
     "views": [
      {
       "cell_index": 12
      }
     ]
    },
    "ac5eaac0d0bc4bdc899be9b7c7609004": {
     "views": [
      {
       "cell_index": 12
      }
     ]
    },
    "ac8d814446504f1fb7359e84efc877df": {
     "views": [
      {
       "cell_index": 12
      }
     ]
    },
    "aecfd70ffbbb491296ddfead5c3e676c": {
     "views": [
      {
       "cell_index": 12
      }
     ]
    },
    "b012c12df7ec4de5bee68e9f10c67227": {
     "views": [
      {
       "cell_index": 12
      }
     ]
    },
    "b0413da85a834535bf0910a1a2049cf4": {
     "views": [
      {
       "cell_index": 12
      }
     ]
    },
    "b3e05cfa4dfb44e8aec6501b481e740a": {
     "views": [
      {
       "cell_index": 12
      }
     ]
    },
    "b8e7a6d97abc49eb8b24af81997c814b": {
     "views": [
      {
       "cell_index": 12
      }
     ]
    },
    "b958fd557b674353b4513a1223d1a451": {
     "views": [
      {
       "cell_index": 12
      }
     ]
    },
    "bc39a43c23b9496fb53533370e7f076b": {
     "views": [
      {
       "cell_index": 12
      }
     ]
    },
    "bcb5c68f5f9640ffbc0d14af2a8d2609": {
     "views": [
      {
       "cell_index": 12
      }
     ]
    },
    "c1a529e546e84cfe858abc405448a31c": {
     "views": [
      {
       "cell_index": 12
      }
     ]
    },
    "c51f1c60f93c4707808116607aceb523": {
     "views": [
      {
       "cell_index": 12
      }
     ]
    },
    "c6cefa23028c47d1a9b8e34f2173662b": {
     "views": [
      {
       "cell_index": 12
      }
     ]
    },
    "c867ce48830d48ff838c535f911cde38": {
     "views": [
      {
       "cell_index": 12
      }
     ]
    },
    "cc1c3c0a394049c7817525d4c0dbc660": {
     "views": [
      {
       "cell_index": 12
      }
     ]
    },
    "ce61c3f1b09d4b7aaaa04b999968853b": {
     "views": [
      {
       "cell_index": 12
      }
     ]
    },
    "ced5cb09460b44f2b3cb07cd26ba2d80": {
     "views": [
      {
       "cell_index": 12
      }
     ]
    },
    "d0a64a823a4649898b5ef2ae2f1bbe27": {
     "views": [
      {
       "cell_index": 12
      }
     ]
    },
    "d2307dd3ea50414580c68a01944b6609": {
     "views": [
      {
       "cell_index": 12
      }
     ]
    },
    "d73036ff5b9a463aa2d560cc98e09a99": {
     "views": [
      {
       "cell_index": 12
      }
     ]
    },
    "d8bff5fe3809457696452bd7d37b0163": {
     "views": [
      {
       "cell_index": 12
      }
     ]
    },
    "da29d43a5fbd4d0db082c70348e5783e": {
     "views": [
      {
       "cell_index": 12
      }
     ]
    },
    "dcbbfefe63b849b29b2c6f2c445f9d44": {
     "views": [
      {
       "cell_index": 12
      }
     ]
    },
    "de65778ccbf74269a7aecafe0f4a84e9": {
     "views": [
      {
       "cell_index": 12
      }
     ]
    },
    "e2f426df16ea437cb3eb19a6e29718d3": {
     "views": [
      {
       "cell_index": 12
      }
     ]
    },
    "e331ecdfb1034be78954606b29282291": {
     "views": [
      {
       "cell_index": 12
      }
     ]
    },
    "e57c668870b044aab6fb89a073374887": {
     "views": [
      {
       "cell_index": 12
      }
     ]
    },
    "e7d90b37142d4468a9a3f88fe5e7ebe5": {
     "views": [
      {
       "cell_index": 12
      }
     ]
    },
    "e7dfb79db2074d32b546b0f5b35d037a": {
     "views": [
      {
       "cell_index": 12
      }
     ]
    },
    "ea7dc8f6b6904a098cc8bcd3cccb0f09": {
     "views": [
      {
       "cell_index": 12
      }
     ]
    },
    "ead95701b3c948fe810264c9f916c701": {
     "views": [
      {
       "cell_index": 12
      }
     ]
    },
    "ec1f20b0a9a848a785617463aed63555": {
     "views": [
      {
       "cell_index": 12
      }
     ]
    },
    "ef7271ab301c4d52b331707746f9638e": {
     "views": [
      {
       "cell_index": 12
      }
     ]
    },
    "f057baa922394139936146319110c770": {
     "views": [
      {
       "cell_index": 12
      }
     ]
    },
    "f07a509b915040e08e37ababd37b7cf1": {
     "views": [
      {
       "cell_index": 12
      }
     ]
    },
    "f259740c24a24bb3a309aec954f66fe3": {
     "views": [
      {
       "cell_index": 12
      }
     ]
    },
    "f612f1c9698d4be4bb42c2f0e2c69108": {
     "views": [
      {
       "cell_index": 12
      }
     ]
    },
    "f6efb652598c41549a9f19b2f9ceff2b": {
     "views": [
      {
       "cell_index": 12
      }
     ]
    },
    "f97ed4db90d24d88a228ac1e52375a0c": {
     "views": [
      {
       "cell_index": 12
      }
     ]
    },
    "fd43e083f58d43a68688581cdf48acab": {
     "views": [
      {
       "cell_index": 12
      }
     ]
    },
    "fda46d318b0941c19dfe61eb3e02cb23": {
     "views": [
      {
       "cell_index": 12
      }
     ]
    },
    "fe6b5b3475984be890e4e11f3e5d3ef1": {
     "views": [
      {
       "cell_index": 12
      }
     ]
    }
   },
   "version": "1.2.0"
  }
 },
 "nbformat": 4,
 "nbformat_minor": 2
}
