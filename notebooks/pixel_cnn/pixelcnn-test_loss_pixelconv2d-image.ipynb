{
 "cells": [
  {
   "cell_type": "code",
   "execution_count": 1,
   "metadata": {
    "ExecuteTime": {
     "end_time": "2019-05-28T12:23:53.488271Z",
     "start_time": "2019-05-28T12:23:51.845007Z"
    },
    "slideshow": {
     "slide_type": "slide"
    }
   },
   "outputs": [
    {
     "name": "stderr",
     "output_type": "stream",
     "text": [
      "/home/brian/anaconda3/lib/python3.6/site-packages/h5py/__init__.py:36: FutureWarning: Conversion of the second argument of issubdtype from `float` to `np.floating` is deprecated. In future, it will be treated as `np.float64 == np.dtype(float).type`.\n",
      "  from ._conv import register_converters as _register_converters\n",
      "Using TensorFlow backend.\n"
     ]
    }
   ],
   "source": [
    "%matplotlib inline\n",
    "import numpy as np\n",
    "import os\n",
    "import time\n",
    "import h5py\n",
    "import keras\n",
    "import pandas as pd\n",
    "import math\n",
    "import joblib\n",
    "import json\n",
    "import matplotlib.pyplot as plt\n",
    "from scipy.stats import logistic\n",
    "from scipy.special import softmax\n",
    "\n",
    "from IPython.display import display\n",
    "\n",
    "from sklearn.metrics import accuracy_score\n",
    "from sklearn.model_selection import StratifiedShuffleSplit\n",
    "\n",
    "from keras.layers import (Input, Dense, Lambda, Flatten, Reshape, BatchNormalization, \n",
    "                          Activation, Dropout, Conv2D, Conv2DTranspose,\n",
    "                          Concatenate, Add, Multiply)\n",
    "from keras.engine import InputSpec\n",
    "from keras.optimizers import RMSprop, Adam, SGD\n",
    "from keras.models import Model\n",
    "from keras.utils import to_categorical\n",
    "from keras import metrics\n",
    "from keras import backend as K\n",
    "from keras_tqdm import TQDMNotebookCallback\n",
    "from keras.datasets import cifar10\n",
    "\n",
    "import tensorflow as tf\n",
    "\n",
    "from pixelcnn_helpers import pixelcnn_loss, sigmoid, compute_pvals, compute_mixture, PixelConv2D"
   ]
  },
  {
   "cell_type": "markdown",
   "metadata": {
    "slideshow": {
     "slide_type": "slide"
    }
   },
   "source": [
    "# Parameters"
   ]
  },
  {
   "cell_type": "code",
   "execution_count": 96,
   "metadata": {
    "ExecuteTime": {
     "end_time": "2019-05-28T12:52:10.073163Z",
     "start_time": "2019-05-28T12:52:10.069236Z"
    }
   },
   "outputs": [],
   "source": [
    "img_rows, img_cols, img_chns = 4, 4, 3\n",
    "original_img_size = (img_rows, img_cols, img_chns)\n",
    "\n",
    "# Debug params\n",
    "sample = 1\n",
    "\n",
    "# Hyper params\n",
    "batch_size = int(os.environ.get('BATCH_SIZE', 1))\n",
    "epochs = int(os.environ.get('EPOCHS', 1000))\n",
    "activation = os.environ.get('ACTIVATION', 'relu')\n",
    "learning_rate = float(os.environ.get('LEARNING_RATE', 0.001))\n",
    "mixture_components = int(os.environ.get('MIXTURE_COMPONENTS', 1))"
   ]
  },
  {
   "cell_type": "markdown",
   "metadata": {},
   "source": [
    "# Extract Test Image"
   ]
  },
  {
   "cell_type": "code",
   "execution_count": 97,
   "metadata": {
    "ExecuteTime": {
     "end_time": "2019-05-28T12:52:15.570304Z",
     "start_time": "2019-05-28T12:52:15.158766Z"
    },
    "slideshow": {
     "slide_type": "subslide"
    }
   },
   "outputs": [
    {
     "name": "stdout",
     "output_type": "stream",
     "text": [
      "(1, 4, 4, 3) (50000, 10)\n",
      "(10000, 32, 32, 3) (10000, 10)\n"
     ]
    }
   ],
   "source": [
    "(X_train, y_train), (X_test, y_test) = cifar10.load_data()\n",
    "\n",
    "# Shift/scale to [-1, 1] interval\n",
    "X_train = X_train[:sample, :img_rows, :img_cols, :img_chns]\n",
    "X_train = (X_train - 127.5) / 127.5\n",
    "\n",
    "X_test = (X_test - 127.5) / 127.5\n",
    "\n",
    "y_train = to_categorical(y_train, num_classes=10)\n",
    "y_test = to_categorical(y_test, num_classes=10)\n",
    "\n",
    "print(X_train.shape, y_train.shape)\n",
    "print(X_test.shape, y_test.shape)"
   ]
  },
  {
   "cell_type": "markdown",
   "metadata": {},
   "source": [
    "# Model"
   ]
  },
  {
   "cell_type": "code",
   "execution_count": 98,
   "metadata": {
    "ExecuteTime": {
     "end_time": "2019-05-28T12:52:15.810677Z",
     "start_time": "2019-05-28T12:52:15.797641Z"
    }
   },
   "outputs": [],
   "source": [
    "if K.image_data_format() == 'channels_last':\n",
    "    bn_axis = 3\n",
    "else:\n",
    "    bn_axis = 1\n",
    "    \n",
    "    \n",
    "def conv_block(input_tensor, filters, kernel_size, name, is_first=False):\n",
    "    outs = []\n",
    "    for t in ['rb', 'gb', 'bb']:\n",
    "        if is_first:\n",
    "            t = t[0] + 'a'\n",
    "        x = PixelConv2D(t, filters, kernel_size, name='res' + name + t, padding='same')(input_tensor)\n",
    "        x = Activation('relu')(x)\n",
    "        outs.append(x)\n",
    "        \n",
    "    return Concatenate()(outs)\n",
    "\n",
    "\n",
    "def resnet_block(input_tensor, filters, stage, block):\n",
    "    name_base = str(stage) + block + '_branch'\n",
    "    filters1, filters2, filters3 = filters\n",
    "    x = input_tensor\n",
    "    x = conv_block(x, filters1, (1, 1), name=name_base + '_a-1x1')\n",
    "    x = conv_block(x, filters2, (3, 3), name=name_base + '_b-3x3')\n",
    "    x = conv_block(x, filters3, (1, 1), name=name_base + '_c-1x1')\n",
    "    x = Add()([x, input_tensor])\n",
    "    \n",
    "    return x\n",
    "\n",
    "\n",
    "def final_block(input_tensor, filters, in_filters, name, kernel_size=(1, 1)):\n",
    "    outs = []\n",
    "    channel_name = 'rgb'\n",
    "    for t in ['rb', 'gb', 'bb']:\n",
    "        x = PixelConv2D(t, filters, kernel_size, \n",
    "                        name='final' + name + '_' + t,\n",
    "                        padding='same')(input_tensor)\n",
    "        x = Activation('relu')(x)\n",
    "        outs.append(x)\n",
    "        \n",
    "    return Concatenate()(outs)\n",
    "\n",
    "\n",
    "def build_outputs(input_tensor, final_filters):\n",
    "    m_outs = []\n",
    "    invs_outs = []\n",
    "    weights = []\n",
    "    for t in ['rb', 'gb', 'bb']:\n",
    "        # Only allow things behind it...\n",
    "        x = input_tensor\n",
    "        decoder_out_m = PixelConv2D(t, name='x_m' + str(t),\n",
    "                                    filters=mixture_components,\n",
    "                                    kernel_size=1,\n",
    "                                    strides=1)(x)\n",
    "        decoder_out_invs_ = PixelConv2D(t, name='x_s' + str(t),\n",
    "                                        filters=mixture_components,\n",
    "                                        kernel_size=1,\n",
    "                                        strides=1,\n",
    "                                        activation='softplus')(x)\n",
    "        decoder_out_invs = Lambda(lambda x: 5. * x + 3.0)(decoder_out_invs_)\n",
    "        mixture_weights = PixelConv2D(t, name='weights' + str(t),\n",
    "                                      filters=mixture_components,\n",
    "                                      kernel_size=1,\n",
    "                                      strides=1)(x)\n",
    "        m_outs.append(decoder_out_m)\n",
    "        invs_outs.append(decoder_out_invs)\n",
    "        weights.append(mixture_weights)\n",
    "    \n",
    "    out_m = Concatenate()(m_outs)       \n",
    "    out_invs = Concatenate()(invs_outs)       \n",
    "    out_mixture = Concatenate()(weights)       \n",
    "    return Concatenate()([out_m, out_invs, out_mixture])"
   ]
  },
  {
   "cell_type": "code",
   "execution_count": 144,
   "metadata": {
    "ExecuteTime": {
     "end_time": "2019-05-28T12:59:03.810556Z",
     "start_time": "2019-05-28T12:59:02.823891Z"
    },
    "scrolled": true,
    "slideshow": {
     "slide_type": "slide"
    }
   },
   "outputs": [
    {
     "name": "stdout",
     "output_type": "stream",
     "text": [
      "Building conv layers...\n",
      "Building output layers...\n",
      "Building model...\n",
      "__________________________________________________________________________________________________\n",
      "Layer (type)                    Output Shape         Param #     Connected to                     \n",
      "==================================================================================================\n",
      "main_input (InputLayer)         (None, 4, 4, 3)      0                                            \n",
      "__________________________________________________________________________________________________\n",
      "resconv1ra (PixelConv2D)        (None, 4, 4, 256)    37888       main_input[0][0]                 \n",
      "__________________________________________________________________________________________________\n",
      "resconv1ga (PixelConv2D)        (None, 4, 4, 256)    37888       main_input[0][0]                 \n",
      "__________________________________________________________________________________________________\n",
      "resconv1ba (PixelConv2D)        (None, 4, 4, 256)    37888       main_input[0][0]                 \n",
      "__________________________________________________________________________________________________\n",
      "activation_1 (Activation)       (None, 4, 4, 256)    0           resconv1ra[0][0]                 \n",
      "__________________________________________________________________________________________________\n",
      "activation_2 (Activation)       (None, 4, 4, 256)    0           resconv1ga[0][0]                 \n",
      "__________________________________________________________________________________________________\n",
      "activation_3 (Activation)       (None, 4, 4, 256)    0           resconv1ba[0][0]                 \n",
      "__________________________________________________________________________________________________\n",
      "concatenate_1 (Concatenate)     (None, 4, 4, 768)    0           activation_1[0][0]               \n",
      "                                                                 activation_2[0][0]               \n",
      "                                                                 activation_3[0][0]               \n",
      "__________________________________________________________________________________________________\n",
      "res0a_branch_a-1x1rb (PixelConv (None, 4, 4, 128)    98432       concatenate_1[0][0]              \n",
      "__________________________________________________________________________________________________\n",
      "res0a_branch_a-1x1gb (PixelConv (None, 4, 4, 128)    98432       concatenate_1[0][0]              \n",
      "__________________________________________________________________________________________________\n",
      "res0a_branch_a-1x1bb (PixelConv (None, 4, 4, 128)    98432       concatenate_1[0][0]              \n",
      "__________________________________________________________________________________________________\n",
      "activation_4 (Activation)       (None, 4, 4, 128)    0           res0a_branch_a-1x1rb[0][0]       \n",
      "__________________________________________________________________________________________________\n",
      "activation_5 (Activation)       (None, 4, 4, 128)    0           res0a_branch_a-1x1gb[0][0]       \n",
      "__________________________________________________________________________________________________\n",
      "activation_6 (Activation)       (None, 4, 4, 128)    0           res0a_branch_a-1x1bb[0][0]       \n",
      "__________________________________________________________________________________________________\n",
      "concatenate_2 (Concatenate)     (None, 4, 4, 384)    0           activation_4[0][0]               \n",
      "                                                                 activation_5[0][0]               \n",
      "                                                                 activation_6[0][0]               \n",
      "__________________________________________________________________________________________________\n",
      "res0a_branch_b-3x3rb (PixelConv (None, 4, 4, 128)    442496      concatenate_2[0][0]              \n",
      "__________________________________________________________________________________________________\n",
      "res0a_branch_b-3x3gb (PixelConv (None, 4, 4, 128)    442496      concatenate_2[0][0]              \n",
      "__________________________________________________________________________________________________\n",
      "res0a_branch_b-3x3bb (PixelConv (None, 4, 4, 128)    442496      concatenate_2[0][0]              \n",
      "__________________________________________________________________________________________________\n",
      "activation_7 (Activation)       (None, 4, 4, 128)    0           res0a_branch_b-3x3rb[0][0]       \n",
      "__________________________________________________________________________________________________\n",
      "activation_8 (Activation)       (None, 4, 4, 128)    0           res0a_branch_b-3x3gb[0][0]       \n",
      "__________________________________________________________________________________________________\n",
      "activation_9 (Activation)       (None, 4, 4, 128)    0           res0a_branch_b-3x3bb[0][0]       \n",
      "__________________________________________________________________________________________________\n",
      "concatenate_3 (Concatenate)     (None, 4, 4, 384)    0           activation_7[0][0]               \n",
      "                                                                 activation_8[0][0]               \n",
      "                                                                 activation_9[0][0]               \n",
      "__________________________________________________________________________________________________\n",
      "res0a_branch_c-1x1rb (PixelConv (None, 4, 4, 256)    98560       concatenate_3[0][0]              \n",
      "__________________________________________________________________________________________________\n",
      "res0a_branch_c-1x1gb (PixelConv (None, 4, 4, 256)    98560       concatenate_3[0][0]              \n",
      "__________________________________________________________________________________________________\n",
      "res0a_branch_c-1x1bb (PixelConv (None, 4, 4, 256)    98560       concatenate_3[0][0]              \n",
      "__________________________________________________________________________________________________\n",
      "activation_10 (Activation)      (None, 4, 4, 256)    0           res0a_branch_c-1x1rb[0][0]       \n",
      "__________________________________________________________________________________________________\n",
      "activation_11 (Activation)      (None, 4, 4, 256)    0           res0a_branch_c-1x1gb[0][0]       \n",
      "__________________________________________________________________________________________________\n",
      "activation_12 (Activation)      (None, 4, 4, 256)    0           res0a_branch_c-1x1bb[0][0]       \n",
      "__________________________________________________________________________________________________\n",
      "concatenate_4 (Concatenate)     (None, 4, 4, 768)    0           activation_10[0][0]              \n",
      "                                                                 activation_11[0][0]              \n",
      "                                                                 activation_12[0][0]              \n",
      "__________________________________________________________________________________________________\n",
      "add_1 (Add)                     (None, 4, 4, 768)    0           concatenate_4[0][0]              \n",
      "                                                                 concatenate_1[0][0]              \n",
      "__________________________________________________________________________________________________\n",
      "res1a_branch_a-1x1rb (PixelConv (None, 4, 4, 128)    98432       add_1[0][0]                      \n",
      "__________________________________________________________________________________________________\n",
      "res1a_branch_a-1x1gb (PixelConv (None, 4, 4, 128)    98432       add_1[0][0]                      \n",
      "__________________________________________________________________________________________________\n",
      "res1a_branch_a-1x1bb (PixelConv (None, 4, 4, 128)    98432       add_1[0][0]                      \n",
      "__________________________________________________________________________________________________\n",
      "activation_13 (Activation)      (None, 4, 4, 128)    0           res1a_branch_a-1x1rb[0][0]       \n",
      "__________________________________________________________________________________________________\n",
      "activation_14 (Activation)      (None, 4, 4, 128)    0           res1a_branch_a-1x1gb[0][0]       \n",
      "__________________________________________________________________________________________________\n",
      "activation_15 (Activation)      (None, 4, 4, 128)    0           res1a_branch_a-1x1bb[0][0]       \n",
      "__________________________________________________________________________________________________\n",
      "concatenate_5 (Concatenate)     (None, 4, 4, 384)    0           activation_13[0][0]              \n",
      "                                                                 activation_14[0][0]              \n",
      "                                                                 activation_15[0][0]              \n",
      "__________________________________________________________________________________________________\n",
      "res1a_branch_b-3x3rb (PixelConv (None, 4, 4, 128)    442496      concatenate_5[0][0]              \n",
      "__________________________________________________________________________________________________\n",
      "res1a_branch_b-3x3gb (PixelConv (None, 4, 4, 128)    442496      concatenate_5[0][0]              \n",
      "__________________________________________________________________________________________________\n",
      "res1a_branch_b-3x3bb (PixelConv (None, 4, 4, 128)    442496      concatenate_5[0][0]              \n",
      "__________________________________________________________________________________________________\n",
      "activation_16 (Activation)      (None, 4, 4, 128)    0           res1a_branch_b-3x3rb[0][0]       \n",
      "__________________________________________________________________________________________________\n",
      "activation_17 (Activation)      (None, 4, 4, 128)    0           res1a_branch_b-3x3gb[0][0]       \n",
      "__________________________________________________________________________________________________\n",
      "activation_18 (Activation)      (None, 4, 4, 128)    0           res1a_branch_b-3x3bb[0][0]       \n",
      "__________________________________________________________________________________________________\n",
      "concatenate_6 (Concatenate)     (None, 4, 4, 384)    0           activation_16[0][0]              \n",
      "                                                                 activation_17[0][0]              \n",
      "                                                                 activation_18[0][0]              \n",
      "__________________________________________________________________________________________________\n",
      "res1a_branch_c-1x1rb (PixelConv (None, 4, 4, 256)    98560       concatenate_6[0][0]              \n",
      "__________________________________________________________________________________________________\n",
      "res1a_branch_c-1x1gb (PixelConv (None, 4, 4, 256)    98560       concatenate_6[0][0]              \n",
      "__________________________________________________________________________________________________\n",
      "res1a_branch_c-1x1bb (PixelConv (None, 4, 4, 256)    98560       concatenate_6[0][0]              \n",
      "__________________________________________________________________________________________________\n",
      "activation_19 (Activation)      (None, 4, 4, 256)    0           res1a_branch_c-1x1rb[0][0]       \n",
      "__________________________________________________________________________________________________\n",
      "activation_20 (Activation)      (None, 4, 4, 256)    0           res1a_branch_c-1x1gb[0][0]       \n",
      "__________________________________________________________________________________________________\n",
      "activation_21 (Activation)      (None, 4, 4, 256)    0           res1a_branch_c-1x1bb[0][0]       \n",
      "__________________________________________________________________________________________________\n",
      "concatenate_7 (Concatenate)     (None, 4, 4, 768)    0           activation_19[0][0]              \n",
      "                                                                 activation_20[0][0]              \n",
      "                                                                 activation_21[0][0]              \n",
      "__________________________________________________________________________________________________\n",
      "add_2 (Add)                     (None, 4, 4, 768)    0           concatenate_7[0][0]              \n",
      "                                                                 add_1[0][0]                      \n",
      "__________________________________________________________________________________________________\n",
      "res2a_branch_a-1x1rb (PixelConv (None, 4, 4, 128)    98432       add_2[0][0]                      \n",
      "__________________________________________________________________________________________________\n",
      "res2a_branch_a-1x1gb (PixelConv (None, 4, 4, 128)    98432       add_2[0][0]                      \n",
      "__________________________________________________________________________________________________\n",
      "res2a_branch_a-1x1bb (PixelConv (None, 4, 4, 128)    98432       add_2[0][0]                      \n",
      "__________________________________________________________________________________________________\n",
      "activation_22 (Activation)      (None, 4, 4, 128)    0           res2a_branch_a-1x1rb[0][0]       \n",
      "__________________________________________________________________________________________________\n",
      "activation_23 (Activation)      (None, 4, 4, 128)    0           res2a_branch_a-1x1gb[0][0]       \n",
      "__________________________________________________________________________________________________\n",
      "activation_24 (Activation)      (None, 4, 4, 128)    0           res2a_branch_a-1x1bb[0][0]       \n",
      "__________________________________________________________________________________________________\n",
      "concatenate_8 (Concatenate)     (None, 4, 4, 384)    0           activation_22[0][0]              \n",
      "                                                                 activation_23[0][0]              \n",
      "                                                                 activation_24[0][0]              \n",
      "__________________________________________________________________________________________________\n",
      "res2a_branch_b-3x3rb (PixelConv (None, 4, 4, 128)    442496      concatenate_8[0][0]              \n",
      "__________________________________________________________________________________________________\n",
      "res2a_branch_b-3x3gb (PixelConv (None, 4, 4, 128)    442496      concatenate_8[0][0]              \n",
      "__________________________________________________________________________________________________\n",
      "res2a_branch_b-3x3bb (PixelConv (None, 4, 4, 128)    442496      concatenate_8[0][0]              \n",
      "__________________________________________________________________________________________________\n",
      "activation_25 (Activation)      (None, 4, 4, 128)    0           res2a_branch_b-3x3rb[0][0]       \n",
      "__________________________________________________________________________________________________\n",
      "activation_26 (Activation)      (None, 4, 4, 128)    0           res2a_branch_b-3x3gb[0][0]       \n",
      "__________________________________________________________________________________________________\n",
      "activation_27 (Activation)      (None, 4, 4, 128)    0           res2a_branch_b-3x3bb[0][0]       \n",
      "__________________________________________________________________________________________________\n",
      "concatenate_9 (Concatenate)     (None, 4, 4, 384)    0           activation_25[0][0]              \n",
      "                                                                 activation_26[0][0]              \n",
      "                                                                 activation_27[0][0]              \n",
      "__________________________________________________________________________________________________\n",
      "res2a_branch_c-1x1rb (PixelConv (None, 4, 4, 256)    98560       concatenate_9[0][0]              \n",
      "__________________________________________________________________________________________________\n",
      "res2a_branch_c-1x1gb (PixelConv (None, 4, 4, 256)    98560       concatenate_9[0][0]              \n",
      "__________________________________________________________________________________________________\n",
      "res2a_branch_c-1x1bb (PixelConv (None, 4, 4, 256)    98560       concatenate_9[0][0]              \n",
      "__________________________________________________________________________________________________\n",
      "activation_28 (Activation)      (None, 4, 4, 256)    0           res2a_branch_c-1x1rb[0][0]       \n",
      "__________________________________________________________________________________________________\n",
      "activation_29 (Activation)      (None, 4, 4, 256)    0           res2a_branch_c-1x1gb[0][0]       \n",
      "__________________________________________________________________________________________________\n",
      "activation_30 (Activation)      (None, 4, 4, 256)    0           res2a_branch_c-1x1bb[0][0]       \n",
      "__________________________________________________________________________________________________\n",
      "concatenate_10 (Concatenate)    (None, 4, 4, 768)    0           activation_28[0][0]              \n",
      "                                                                 activation_29[0][0]              \n",
      "                                                                 activation_30[0][0]              \n",
      "__________________________________________________________________________________________________\n",
      "add_3 (Add)                     (None, 4, 4, 768)    0           concatenate_10[0][0]             \n",
      "                                                                 add_2[0][0]                      \n",
      "__________________________________________________________________________________________________\n",
      "res3a_branch_a-1x1rb (PixelConv (None, 4, 4, 128)    98432       add_3[0][0]                      \n",
      "__________________________________________________________________________________________________\n",
      "res3a_branch_a-1x1gb (PixelConv (None, 4, 4, 128)    98432       add_3[0][0]                      \n",
      "__________________________________________________________________________________________________\n",
      "res3a_branch_a-1x1bb (PixelConv (None, 4, 4, 128)    98432       add_3[0][0]                      \n",
      "__________________________________________________________________________________________________\n",
      "activation_31 (Activation)      (None, 4, 4, 128)    0           res3a_branch_a-1x1rb[0][0]       \n",
      "__________________________________________________________________________________________________\n",
      "activation_32 (Activation)      (None, 4, 4, 128)    0           res3a_branch_a-1x1gb[0][0]       \n",
      "__________________________________________________________________________________________________\n",
      "activation_33 (Activation)      (None, 4, 4, 128)    0           res3a_branch_a-1x1bb[0][0]       \n",
      "__________________________________________________________________________________________________\n",
      "concatenate_11 (Concatenate)    (None, 4, 4, 384)    0           activation_31[0][0]              \n",
      "                                                                 activation_32[0][0]              \n",
      "                                                                 activation_33[0][0]              \n",
      "__________________________________________________________________________________________________\n",
      "res3a_branch_b-3x3rb (PixelConv (None, 4, 4, 128)    442496      concatenate_11[0][0]             \n",
      "__________________________________________________________________________________________________\n",
      "res3a_branch_b-3x3gb (PixelConv (None, 4, 4, 128)    442496      concatenate_11[0][0]             \n",
      "__________________________________________________________________________________________________\n",
      "res3a_branch_b-3x3bb (PixelConv (None, 4, 4, 128)    442496      concatenate_11[0][0]             \n",
      "__________________________________________________________________________________________________\n",
      "activation_34 (Activation)      (None, 4, 4, 128)    0           res3a_branch_b-3x3rb[0][0]       \n",
      "__________________________________________________________________________________________________\n",
      "activation_35 (Activation)      (None, 4, 4, 128)    0           res3a_branch_b-3x3gb[0][0]       \n",
      "__________________________________________________________________________________________________\n",
      "activation_36 (Activation)      (None, 4, 4, 128)    0           res3a_branch_b-3x3bb[0][0]       \n",
      "__________________________________________________________________________________________________\n",
      "concatenate_12 (Concatenate)    (None, 4, 4, 384)    0           activation_34[0][0]              \n",
      "                                                                 activation_35[0][0]              \n",
      "                                                                 activation_36[0][0]              \n",
      "__________________________________________________________________________________________________\n",
      "res3a_branch_c-1x1rb (PixelConv (None, 4, 4, 256)    98560       concatenate_12[0][0]             \n",
      "__________________________________________________________________________________________________\n",
      "res3a_branch_c-1x1gb (PixelConv (None, 4, 4, 256)    98560       concatenate_12[0][0]             \n",
      "__________________________________________________________________________________________________\n",
      "res3a_branch_c-1x1bb (PixelConv (None, 4, 4, 256)    98560       concatenate_12[0][0]             \n",
      "__________________________________________________________________________________________________\n",
      "activation_37 (Activation)      (None, 4, 4, 256)    0           res3a_branch_c-1x1rb[0][0]       \n",
      "__________________________________________________________________________________________________\n",
      "activation_38 (Activation)      (None, 4, 4, 256)    0           res3a_branch_c-1x1gb[0][0]       \n",
      "__________________________________________________________________________________________________\n",
      "activation_39 (Activation)      (None, 4, 4, 256)    0           res3a_branch_c-1x1bb[0][0]       \n",
      "__________________________________________________________________________________________________\n",
      "concatenate_13 (Concatenate)    (None, 4, 4, 768)    0           activation_37[0][0]              \n",
      "                                                                 activation_38[0][0]              \n",
      "                                                                 activation_39[0][0]              \n",
      "__________________________________________________________________________________________________\n",
      "add_4 (Add)                     (None, 4, 4, 768)    0           concatenate_13[0][0]             \n",
      "                                                                 add_3[0][0]                      \n",
      "__________________________________________________________________________________________________\n",
      "final1x1_1000_1_rb (PixelConv2D (None, 4, 4, 1024)   787456      add_4[0][0]                      \n",
      "__________________________________________________________________________________________________\n",
      "final1x1_1000_1_gb (PixelConv2D (None, 4, 4, 1024)   787456      add_4[0][0]                      \n",
      "__________________________________________________________________________________________________\n",
      "final1x1_1000_1_bb (PixelConv2D (None, 4, 4, 1024)   787456      add_4[0][0]                      \n",
      "__________________________________________________________________________________________________\n",
      "activation_40 (Activation)      (None, 4, 4, 1024)   0           final1x1_1000_1_rb[0][0]         \n",
      "__________________________________________________________________________________________________\n",
      "activation_41 (Activation)      (None, 4, 4, 1024)   0           final1x1_1000_1_gb[0][0]         \n",
      "__________________________________________________________________________________________________\n",
      "activation_42 (Activation)      (None, 4, 4, 1024)   0           final1x1_1000_1_bb[0][0]         \n",
      "__________________________________________________________________________________________________\n",
      "concatenate_14 (Concatenate)    (None, 4, 4, 3072)   0           activation_40[0][0]              \n",
      "                                                                 activation_41[0][0]              \n",
      "                                                                 activation_42[0][0]              \n",
      "__________________________________________________________________________________________________\n",
      "final1x1_1000_2_rb (PixelConv2D (None, 4, 4, 1024)   3146752     concatenate_14[0][0]             \n",
      "__________________________________________________________________________________________________\n",
      "final1x1_1000_2_gb (PixelConv2D (None, 4, 4, 1024)   3146752     concatenate_14[0][0]             \n",
      "__________________________________________________________________________________________________\n",
      "final1x1_1000_2_bb (PixelConv2D (None, 4, 4, 1024)   3146752     concatenate_14[0][0]             \n",
      "__________________________________________________________________________________________________\n",
      "activation_43 (Activation)      (None, 4, 4, 1024)   0           final1x1_1000_2_rb[0][0]         \n",
      "__________________________________________________________________________________________________\n",
      "activation_44 (Activation)      (None, 4, 4, 1024)   0           final1x1_1000_2_gb[0][0]         \n",
      "__________________________________________________________________________________________________\n",
      "activation_45 (Activation)      (None, 4, 4, 1024)   0           final1x1_1000_2_bb[0][0]         \n",
      "__________________________________________________________________________________________________\n",
      "concatenate_15 (Concatenate)    (None, 4, 4, 3072)   0           activation_43[0][0]              \n",
      "                                                                 activation_44[0][0]              \n",
      "                                                                 activation_45[0][0]              \n",
      "__________________________________________________________________________________________________\n",
      "x_srb (PixelConv2D)             (None, 4, 4, 1)      3073        concatenate_15[0][0]             \n",
      "__________________________________________________________________________________________________\n",
      "x_sgb (PixelConv2D)             (None, 4, 4, 1)      3073        concatenate_15[0][0]             \n",
      "__________________________________________________________________________________________________\n",
      "x_sbb (PixelConv2D)             (None, 4, 4, 1)      3073        concatenate_15[0][0]             \n",
      "__________________________________________________________________________________________________\n",
      "x_mrb (PixelConv2D)             (None, 4, 4, 1)      3073        concatenate_15[0][0]             \n",
      "__________________________________________________________________________________________________\n",
      "x_mgb (PixelConv2D)             (None, 4, 4, 1)      3073        concatenate_15[0][0]             \n",
      "__________________________________________________________________________________________________\n",
      "x_mbb (PixelConv2D)             (None, 4, 4, 1)      3073        concatenate_15[0][0]             \n",
      "__________________________________________________________________________________________________\n",
      "lambda_1 (Lambda)               (None, 4, 4, 1)      0           x_srb[0][0]                      \n",
      "__________________________________________________________________________________________________\n",
      "lambda_2 (Lambda)               (None, 4, 4, 1)      0           x_sgb[0][0]                      \n",
      "__________________________________________________________________________________________________\n",
      "lambda_3 (Lambda)               (None, 4, 4, 1)      0           x_sbb[0][0]                      \n",
      "__________________________________________________________________________________________________\n",
      "weightsrb (PixelConv2D)         (None, 4, 4, 1)      3073        concatenate_15[0][0]             \n",
      "__________________________________________________________________________________________________\n",
      "weightsgb (PixelConv2D)         (None, 4, 4, 1)      3073        concatenate_15[0][0]             \n",
      "__________________________________________________________________________________________________\n",
      "weightsbb (PixelConv2D)         (None, 4, 4, 1)      3073        concatenate_15[0][0]             \n",
      "__________________________________________________________________________________________________\n",
      "concatenate_16 (Concatenate)    (None, 4, 4, 3)      0           x_mrb[0][0]                      \n",
      "                                                                 x_mgb[0][0]                      \n",
      "                                                                 x_mbb[0][0]                      \n",
      "__________________________________________________________________________________________________\n",
      "concatenate_17 (Concatenate)    (None, 4, 4, 3)      0           lambda_1[0][0]                   \n",
      "                                                                 lambda_2[0][0]                   \n",
      "                                                                 lambda_3[0][0]                   \n",
      "__________________________________________________________________________________________________\n",
      "concatenate_18 (Concatenate)    (None, 4, 4, 3)      0           weightsrb[0][0]                  \n",
      "                                                                 weightsgb[0][0]                  \n",
      "                                                                 weightsbb[0][0]                  \n",
      "__________________________________________________________________________________________________\n",
      "concatenate_19 (Concatenate)    (None, 4, 4, 9)      0           concatenate_16[0][0]             \n",
      "                                                                 concatenate_17[0][0]             \n",
      "                                                                 concatenate_18[0][0]             \n",
      "==================================================================================================\n",
      "Total params: 19,617,801\n",
      "Trainable params: 19,617,801\n",
      "Non-trainable params: 0\n",
      "__________________________________________________________________________________________________\n"
     ]
    }
   ],
   "source": [
    "# Work around Keras/tensorboard bug: https://github.com/keras-team/keras/issues/10074\n",
    "K.clear_session()\n",
    "\n",
    "print(\"Building conv layers...\")\n",
    "main_input = Input(shape=original_img_size, name='main_input')\n",
    "\n",
    "x = conv_block(main_input, 256, (7, 7), name='conv1', is_first=True)\n",
    "\n",
    "resnet_depth = 4\n",
    "for stage in range(resnet_depth):\n",
    "    x = resnet_block(x, [128, 128, 256], stage, 'a')\n",
    "#final_width = 256\n",
    "\n",
    "final_width = 1024\n",
    "x = final_block(x, final_width, 256, '1x1_1000_1')\n",
    "x = final_block(x, final_width, final_width, '1x1_1000_2')\n",
    "\n",
    "print(\"Building output layers...\")\n",
    "outputs = build_outputs(x, final_width)\n",
    "main_output = outputs\n",
    "\n",
    "print(\"Building model...\")\n",
    "model = Model(inputs=main_input, outputs=main_output)\n",
    "optimizer = Adam(lr=0.0005)\n",
    "#optimizer = RMSprop(lr=0.001)\n",
    "model.compile(optimizer=optimizer, \n",
    "              loss=lambda x, y: pixelcnn_loss(x, y, img_rows, img_cols, img_chns, mixture_components))\n",
    "\n",
    "model.summary()"
   ]
  },
  {
   "cell_type": "code",
   "execution_count": 145,
   "metadata": {
    "ExecuteTime": {
     "end_time": "2019-05-28T12:59:26.872955Z",
     "start_time": "2019-05-28T12:59:03.812087Z"
    },
    "scrolled": true,
    "slideshow": {
     "slide_type": "-"
    }
   },
   "outputs": [
    {
     "data": {
      "application/vnd.jupyter.widget-view+json": {
       "model_id": "90375c9806ae4626beda9c540abbabae",
       "version_major": 2,
       "version_minor": 0
      },
      "text/plain": [
       "HBox(children=(IntProgress(value=0, description='Training', max=200), HTML(value='')))"
      ]
     },
     "metadata": {},
     "output_type": "display_data"
    },
    {
     "data": {
      "application/vnd.jupyter.widget-view+json": {
       "model_id": "",
       "version_major": 2,
       "version_minor": 0
      },
      "text/plain": [
       "HBox(children=(IntProgress(value=0, description='Epoch 0', max=1), HTML(value='')))"
      ]
     },
     "metadata": {},
     "output_type": "display_data"
    },
    {
     "data": {
      "application/vnd.jupyter.widget-view+json": {
       "model_id": "",
       "version_major": 2,
       "version_minor": 0
      },
      "text/plain": [
       "HBox(children=(IntProgress(value=0, description='Epoch 1', max=1), HTML(value='')))"
      ]
     },
     "metadata": {},
     "output_type": "display_data"
    },
    {
     "data": {
      "application/vnd.jupyter.widget-view+json": {
       "model_id": "",
       "version_major": 2,
       "version_minor": 0
      },
      "text/plain": [
       "HBox(children=(IntProgress(value=0, description='Epoch 2', max=1), HTML(value='')))"
      ]
     },
     "metadata": {},
     "output_type": "display_data"
    },
    {
     "data": {
      "application/vnd.jupyter.widget-view+json": {
       "model_id": "",
       "version_major": 2,
       "version_minor": 0
      },
      "text/plain": [
       "HBox(children=(IntProgress(value=0, description='Epoch 3', max=1), HTML(value='')))"
      ]
     },
     "metadata": {},
     "output_type": "display_data"
    },
    {
     "data": {
      "application/vnd.jupyter.widget-view+json": {
       "model_id": "",
       "version_major": 2,
       "version_minor": 0
      },
      "text/plain": [
       "HBox(children=(IntProgress(value=0, description='Epoch 4', max=1), HTML(value='')))"
      ]
     },
     "metadata": {},
     "output_type": "display_data"
    },
    {
     "data": {
      "application/vnd.jupyter.widget-view+json": {
       "model_id": "",
       "version_major": 2,
       "version_minor": 0
      },
      "text/plain": [
       "HBox(children=(IntProgress(value=0, description='Epoch 5', max=1), HTML(value='')))"
      ]
     },
     "metadata": {},
     "output_type": "display_data"
    },
    {
     "data": {
      "application/vnd.jupyter.widget-view+json": {
       "model_id": "",
       "version_major": 2,
       "version_minor": 0
      },
      "text/plain": [
       "HBox(children=(IntProgress(value=0, description='Epoch 6', max=1), HTML(value='')))"
      ]
     },
     "metadata": {},
     "output_type": "display_data"
    },
    {
     "data": {
      "application/vnd.jupyter.widget-view+json": {
       "model_id": "",
       "version_major": 2,
       "version_minor": 0
      },
      "text/plain": [
       "HBox(children=(IntProgress(value=0, description='Epoch 7', max=1), HTML(value='')))"
      ]
     },
     "metadata": {},
     "output_type": "display_data"
    },
    {
     "data": {
      "application/vnd.jupyter.widget-view+json": {
       "model_id": "",
       "version_major": 2,
       "version_minor": 0
      },
      "text/plain": [
       "HBox(children=(IntProgress(value=0, description='Epoch 8', max=1), HTML(value='')))"
      ]
     },
     "metadata": {},
     "output_type": "display_data"
    },
    {
     "data": {
      "application/vnd.jupyter.widget-view+json": {
       "model_id": "",
       "version_major": 2,
       "version_minor": 0
      },
      "text/plain": [
       "HBox(children=(IntProgress(value=0, description='Epoch 9', max=1), HTML(value='')))"
      ]
     },
     "metadata": {},
     "output_type": "display_data"
    },
    {
     "data": {
      "application/vnd.jupyter.widget-view+json": {
       "model_id": "",
       "version_major": 2,
       "version_minor": 0
      },
      "text/plain": [
       "HBox(children=(IntProgress(value=0, description='Epoch 10', max=1), HTML(value='')))"
      ]
     },
     "metadata": {},
     "output_type": "display_data"
    },
    {
     "data": {
      "application/vnd.jupyter.widget-view+json": {
       "model_id": "",
       "version_major": 2,
       "version_minor": 0
      },
      "text/plain": [
       "HBox(children=(IntProgress(value=0, description='Epoch 11', max=1), HTML(value='')))"
      ]
     },
     "metadata": {},
     "output_type": "display_data"
    },
    {
     "data": {
      "application/vnd.jupyter.widget-view+json": {
       "model_id": "",
       "version_major": 2,
       "version_minor": 0
      },
      "text/plain": [
       "HBox(children=(IntProgress(value=0, description='Epoch 12', max=1), HTML(value='')))"
      ]
     },
     "metadata": {},
     "output_type": "display_data"
    },
    {
     "data": {
      "application/vnd.jupyter.widget-view+json": {
       "model_id": "",
       "version_major": 2,
       "version_minor": 0
      },
      "text/plain": [
       "HBox(children=(IntProgress(value=0, description='Epoch 13', max=1), HTML(value='')))"
      ]
     },
     "metadata": {},
     "output_type": "display_data"
    },
    {
     "data": {
      "application/vnd.jupyter.widget-view+json": {
       "model_id": "",
       "version_major": 2,
       "version_minor": 0
      },
      "text/plain": [
       "HBox(children=(IntProgress(value=0, description='Epoch 14', max=1), HTML(value='')))"
      ]
     },
     "metadata": {},
     "output_type": "display_data"
    },
    {
     "data": {
      "application/vnd.jupyter.widget-view+json": {
       "model_id": "",
       "version_major": 2,
       "version_minor": 0
      },
      "text/plain": [
       "HBox(children=(IntProgress(value=0, description='Epoch 15', max=1), HTML(value='')))"
      ]
     },
     "metadata": {},
     "output_type": "display_data"
    },
    {
     "data": {
      "application/vnd.jupyter.widget-view+json": {
       "model_id": "",
       "version_major": 2,
       "version_minor": 0
      },
      "text/plain": [
       "HBox(children=(IntProgress(value=0, description='Epoch 16', max=1), HTML(value='')))"
      ]
     },
     "metadata": {},
     "output_type": "display_data"
    },
    {
     "data": {
      "application/vnd.jupyter.widget-view+json": {
       "model_id": "",
       "version_major": 2,
       "version_minor": 0
      },
      "text/plain": [
       "HBox(children=(IntProgress(value=0, description='Epoch 17', max=1), HTML(value='')))"
      ]
     },
     "metadata": {},
     "output_type": "display_data"
    },
    {
     "data": {
      "application/vnd.jupyter.widget-view+json": {
       "model_id": "",
       "version_major": 2,
       "version_minor": 0
      },
      "text/plain": [
       "HBox(children=(IntProgress(value=0, description='Epoch 18', max=1), HTML(value='')))"
      ]
     },
     "metadata": {},
     "output_type": "display_data"
    },
    {
     "data": {
      "application/vnd.jupyter.widget-view+json": {
       "model_id": "",
       "version_major": 2,
       "version_minor": 0
      },
      "text/plain": [
       "HBox(children=(IntProgress(value=0, description='Epoch 19', max=1), HTML(value='')))"
      ]
     },
     "metadata": {},
     "output_type": "display_data"
    },
    {
     "data": {
      "application/vnd.jupyter.widget-view+json": {
       "model_id": "",
       "version_major": 2,
       "version_minor": 0
      },
      "text/plain": [
       "HBox(children=(IntProgress(value=0, description='Epoch 20', max=1), HTML(value='')))"
      ]
     },
     "metadata": {},
     "output_type": "display_data"
    },
    {
     "data": {
      "application/vnd.jupyter.widget-view+json": {
       "model_id": "",
       "version_major": 2,
       "version_minor": 0
      },
      "text/plain": [
       "HBox(children=(IntProgress(value=0, description='Epoch 21', max=1), HTML(value='')))"
      ]
     },
     "metadata": {},
     "output_type": "display_data"
    },
    {
     "data": {
      "application/vnd.jupyter.widget-view+json": {
       "model_id": "",
       "version_major": 2,
       "version_minor": 0
      },
      "text/plain": [
       "HBox(children=(IntProgress(value=0, description='Epoch 22', max=1), HTML(value='')))"
      ]
     },
     "metadata": {},
     "output_type": "display_data"
    },
    {
     "data": {
      "application/vnd.jupyter.widget-view+json": {
       "model_id": "",
       "version_major": 2,
       "version_minor": 0
      },
      "text/plain": [
       "HBox(children=(IntProgress(value=0, description='Epoch 23', max=1), HTML(value='')))"
      ]
     },
     "metadata": {},
     "output_type": "display_data"
    },
    {
     "data": {
      "application/vnd.jupyter.widget-view+json": {
       "model_id": "",
       "version_major": 2,
       "version_minor": 0
      },
      "text/plain": [
       "HBox(children=(IntProgress(value=0, description='Epoch 24', max=1), HTML(value='')))"
      ]
     },
     "metadata": {},
     "output_type": "display_data"
    },
    {
     "data": {
      "application/vnd.jupyter.widget-view+json": {
       "model_id": "",
       "version_major": 2,
       "version_minor": 0
      },
      "text/plain": [
       "HBox(children=(IntProgress(value=0, description='Epoch 25', max=1), HTML(value='')))"
      ]
     },
     "metadata": {},
     "output_type": "display_data"
    },
    {
     "data": {
      "application/vnd.jupyter.widget-view+json": {
       "model_id": "",
       "version_major": 2,
       "version_minor": 0
      },
      "text/plain": [
       "HBox(children=(IntProgress(value=0, description='Epoch 26', max=1), HTML(value='')))"
      ]
     },
     "metadata": {},
     "output_type": "display_data"
    },
    {
     "data": {
      "application/vnd.jupyter.widget-view+json": {
       "model_id": "",
       "version_major": 2,
       "version_minor": 0
      },
      "text/plain": [
       "HBox(children=(IntProgress(value=0, description='Epoch 27', max=1), HTML(value='')))"
      ]
     },
     "metadata": {},
     "output_type": "display_data"
    },
    {
     "data": {
      "application/vnd.jupyter.widget-view+json": {
       "model_id": "",
       "version_major": 2,
       "version_minor": 0
      },
      "text/plain": [
       "HBox(children=(IntProgress(value=0, description='Epoch 28', max=1), HTML(value='')))"
      ]
     },
     "metadata": {},
     "output_type": "display_data"
    },
    {
     "data": {
      "application/vnd.jupyter.widget-view+json": {
       "model_id": "",
       "version_major": 2,
       "version_minor": 0
      },
      "text/plain": [
       "HBox(children=(IntProgress(value=0, description='Epoch 29', max=1), HTML(value='')))"
      ]
     },
     "metadata": {},
     "output_type": "display_data"
    },
    {
     "data": {
      "application/vnd.jupyter.widget-view+json": {
       "model_id": "",
       "version_major": 2,
       "version_minor": 0
      },
      "text/plain": [
       "HBox(children=(IntProgress(value=0, description='Epoch 30', max=1), HTML(value='')))"
      ]
     },
     "metadata": {},
     "output_type": "display_data"
    },
    {
     "data": {
      "application/vnd.jupyter.widget-view+json": {
       "model_id": "",
       "version_major": 2,
       "version_minor": 0
      },
      "text/plain": [
       "HBox(children=(IntProgress(value=0, description='Epoch 31', max=1), HTML(value='')))"
      ]
     },
     "metadata": {},
     "output_type": "display_data"
    },
    {
     "data": {
      "application/vnd.jupyter.widget-view+json": {
       "model_id": "",
       "version_major": 2,
       "version_minor": 0
      },
      "text/plain": [
       "HBox(children=(IntProgress(value=0, description='Epoch 32', max=1), HTML(value='')))"
      ]
     },
     "metadata": {},
     "output_type": "display_data"
    },
    {
     "data": {
      "application/vnd.jupyter.widget-view+json": {
       "model_id": "",
       "version_major": 2,
       "version_minor": 0
      },
      "text/plain": [
       "HBox(children=(IntProgress(value=0, description='Epoch 33', max=1), HTML(value='')))"
      ]
     },
     "metadata": {},
     "output_type": "display_data"
    },
    {
     "data": {
      "application/vnd.jupyter.widget-view+json": {
       "model_id": "",
       "version_major": 2,
       "version_minor": 0
      },
      "text/plain": [
       "HBox(children=(IntProgress(value=0, description='Epoch 34', max=1), HTML(value='')))"
      ]
     },
     "metadata": {},
     "output_type": "display_data"
    },
    {
     "data": {
      "application/vnd.jupyter.widget-view+json": {
       "model_id": "",
       "version_major": 2,
       "version_minor": 0
      },
      "text/plain": [
       "HBox(children=(IntProgress(value=0, description='Epoch 35', max=1), HTML(value='')))"
      ]
     },
     "metadata": {},
     "output_type": "display_data"
    },
    {
     "data": {
      "application/vnd.jupyter.widget-view+json": {
       "model_id": "",
       "version_major": 2,
       "version_minor": 0
      },
      "text/plain": [
       "HBox(children=(IntProgress(value=0, description='Epoch 36', max=1), HTML(value='')))"
      ]
     },
     "metadata": {},
     "output_type": "display_data"
    },
    {
     "data": {
      "application/vnd.jupyter.widget-view+json": {
       "model_id": "",
       "version_major": 2,
       "version_minor": 0
      },
      "text/plain": [
       "HBox(children=(IntProgress(value=0, description='Epoch 37', max=1), HTML(value='')))"
      ]
     },
     "metadata": {},
     "output_type": "display_data"
    },
    {
     "data": {
      "application/vnd.jupyter.widget-view+json": {
       "model_id": "",
       "version_major": 2,
       "version_minor": 0
      },
      "text/plain": [
       "HBox(children=(IntProgress(value=0, description='Epoch 38', max=1), HTML(value='')))"
      ]
     },
     "metadata": {},
     "output_type": "display_data"
    },
    {
     "data": {
      "application/vnd.jupyter.widget-view+json": {
       "model_id": "",
       "version_major": 2,
       "version_minor": 0
      },
      "text/plain": [
       "HBox(children=(IntProgress(value=0, description='Epoch 39', max=1), HTML(value='')))"
      ]
     },
     "metadata": {},
     "output_type": "display_data"
    },
    {
     "data": {
      "application/vnd.jupyter.widget-view+json": {
       "model_id": "",
       "version_major": 2,
       "version_minor": 0
      },
      "text/plain": [
       "HBox(children=(IntProgress(value=0, description='Epoch 40', max=1), HTML(value='')))"
      ]
     },
     "metadata": {},
     "output_type": "display_data"
    },
    {
     "data": {
      "application/vnd.jupyter.widget-view+json": {
       "model_id": "",
       "version_major": 2,
       "version_minor": 0
      },
      "text/plain": [
       "HBox(children=(IntProgress(value=0, description='Epoch 41', max=1), HTML(value='')))"
      ]
     },
     "metadata": {},
     "output_type": "display_data"
    },
    {
     "data": {
      "application/vnd.jupyter.widget-view+json": {
       "model_id": "",
       "version_major": 2,
       "version_minor": 0
      },
      "text/plain": [
       "HBox(children=(IntProgress(value=0, description='Epoch 42', max=1), HTML(value='')))"
      ]
     },
     "metadata": {},
     "output_type": "display_data"
    },
    {
     "data": {
      "application/vnd.jupyter.widget-view+json": {
       "model_id": "",
       "version_major": 2,
       "version_minor": 0
      },
      "text/plain": [
       "HBox(children=(IntProgress(value=0, description='Epoch 43', max=1), HTML(value='')))"
      ]
     },
     "metadata": {},
     "output_type": "display_data"
    },
    {
     "data": {
      "application/vnd.jupyter.widget-view+json": {
       "model_id": "",
       "version_major": 2,
       "version_minor": 0
      },
      "text/plain": [
       "HBox(children=(IntProgress(value=0, description='Epoch 44', max=1), HTML(value='')))"
      ]
     },
     "metadata": {},
     "output_type": "display_data"
    },
    {
     "data": {
      "application/vnd.jupyter.widget-view+json": {
       "model_id": "",
       "version_major": 2,
       "version_minor": 0
      },
      "text/plain": [
       "HBox(children=(IntProgress(value=0, description='Epoch 45', max=1), HTML(value='')))"
      ]
     },
     "metadata": {},
     "output_type": "display_data"
    },
    {
     "data": {
      "application/vnd.jupyter.widget-view+json": {
       "model_id": "",
       "version_major": 2,
       "version_minor": 0
      },
      "text/plain": [
       "HBox(children=(IntProgress(value=0, description='Epoch 46', max=1), HTML(value='')))"
      ]
     },
     "metadata": {},
     "output_type": "display_data"
    },
    {
     "data": {
      "application/vnd.jupyter.widget-view+json": {
       "model_id": "",
       "version_major": 2,
       "version_minor": 0
      },
      "text/plain": [
       "HBox(children=(IntProgress(value=0, description='Epoch 47', max=1), HTML(value='')))"
      ]
     },
     "metadata": {},
     "output_type": "display_data"
    },
    {
     "data": {
      "application/vnd.jupyter.widget-view+json": {
       "model_id": "",
       "version_major": 2,
       "version_minor": 0
      },
      "text/plain": [
       "HBox(children=(IntProgress(value=0, description='Epoch 48', max=1), HTML(value='')))"
      ]
     },
     "metadata": {},
     "output_type": "display_data"
    },
    {
     "data": {
      "application/vnd.jupyter.widget-view+json": {
       "model_id": "",
       "version_major": 2,
       "version_minor": 0
      },
      "text/plain": [
       "HBox(children=(IntProgress(value=0, description='Epoch 49', max=1), HTML(value='')))"
      ]
     },
     "metadata": {},
     "output_type": "display_data"
    },
    {
     "data": {
      "application/vnd.jupyter.widget-view+json": {
       "model_id": "",
       "version_major": 2,
       "version_minor": 0
      },
      "text/plain": [
       "HBox(children=(IntProgress(value=0, description='Epoch 50', max=1), HTML(value='')))"
      ]
     },
     "metadata": {},
     "output_type": "display_data"
    },
    {
     "data": {
      "application/vnd.jupyter.widget-view+json": {
       "model_id": "",
       "version_major": 2,
       "version_minor": 0
      },
      "text/plain": [
       "HBox(children=(IntProgress(value=0, description='Epoch 51', max=1), HTML(value='')))"
      ]
     },
     "metadata": {},
     "output_type": "display_data"
    },
    {
     "data": {
      "application/vnd.jupyter.widget-view+json": {
       "model_id": "",
       "version_major": 2,
       "version_minor": 0
      },
      "text/plain": [
       "HBox(children=(IntProgress(value=0, description='Epoch 52', max=1), HTML(value='')))"
      ]
     },
     "metadata": {},
     "output_type": "display_data"
    },
    {
     "data": {
      "application/vnd.jupyter.widget-view+json": {
       "model_id": "",
       "version_major": 2,
       "version_minor": 0
      },
      "text/plain": [
       "HBox(children=(IntProgress(value=0, description='Epoch 53', max=1), HTML(value='')))"
      ]
     },
     "metadata": {},
     "output_type": "display_data"
    },
    {
     "data": {
      "application/vnd.jupyter.widget-view+json": {
       "model_id": "",
       "version_major": 2,
       "version_minor": 0
      },
      "text/plain": [
       "HBox(children=(IntProgress(value=0, description='Epoch 54', max=1), HTML(value='')))"
      ]
     },
     "metadata": {},
     "output_type": "display_data"
    },
    {
     "data": {
      "application/vnd.jupyter.widget-view+json": {
       "model_id": "",
       "version_major": 2,
       "version_minor": 0
      },
      "text/plain": [
       "HBox(children=(IntProgress(value=0, description='Epoch 55', max=1), HTML(value='')))"
      ]
     },
     "metadata": {},
     "output_type": "display_data"
    },
    {
     "data": {
      "application/vnd.jupyter.widget-view+json": {
       "model_id": "",
       "version_major": 2,
       "version_minor": 0
      },
      "text/plain": [
       "HBox(children=(IntProgress(value=0, description='Epoch 56', max=1), HTML(value='')))"
      ]
     },
     "metadata": {},
     "output_type": "display_data"
    },
    {
     "data": {
      "application/vnd.jupyter.widget-view+json": {
       "model_id": "",
       "version_major": 2,
       "version_minor": 0
      },
      "text/plain": [
       "HBox(children=(IntProgress(value=0, description='Epoch 57', max=1), HTML(value='')))"
      ]
     },
     "metadata": {},
     "output_type": "display_data"
    },
    {
     "data": {
      "application/vnd.jupyter.widget-view+json": {
       "model_id": "",
       "version_major": 2,
       "version_minor": 0
      },
      "text/plain": [
       "HBox(children=(IntProgress(value=0, description='Epoch 58', max=1), HTML(value='')))"
      ]
     },
     "metadata": {},
     "output_type": "display_data"
    },
    {
     "data": {
      "application/vnd.jupyter.widget-view+json": {
       "model_id": "",
       "version_major": 2,
       "version_minor": 0
      },
      "text/plain": [
       "HBox(children=(IntProgress(value=0, description='Epoch 59', max=1), HTML(value='')))"
      ]
     },
     "metadata": {},
     "output_type": "display_data"
    },
    {
     "data": {
      "application/vnd.jupyter.widget-view+json": {
       "model_id": "",
       "version_major": 2,
       "version_minor": 0
      },
      "text/plain": [
       "HBox(children=(IntProgress(value=0, description='Epoch 60', max=1), HTML(value='')))"
      ]
     },
     "metadata": {},
     "output_type": "display_data"
    },
    {
     "data": {
      "application/vnd.jupyter.widget-view+json": {
       "model_id": "",
       "version_major": 2,
       "version_minor": 0
      },
      "text/plain": [
       "HBox(children=(IntProgress(value=0, description='Epoch 61', max=1), HTML(value='')))"
      ]
     },
     "metadata": {},
     "output_type": "display_data"
    },
    {
     "data": {
      "application/vnd.jupyter.widget-view+json": {
       "model_id": "",
       "version_major": 2,
       "version_minor": 0
      },
      "text/plain": [
       "HBox(children=(IntProgress(value=0, description='Epoch 62', max=1), HTML(value='')))"
      ]
     },
     "metadata": {},
     "output_type": "display_data"
    },
    {
     "data": {
      "application/vnd.jupyter.widget-view+json": {
       "model_id": "",
       "version_major": 2,
       "version_minor": 0
      },
      "text/plain": [
       "HBox(children=(IntProgress(value=0, description='Epoch 63', max=1), HTML(value='')))"
      ]
     },
     "metadata": {},
     "output_type": "display_data"
    },
    {
     "data": {
      "application/vnd.jupyter.widget-view+json": {
       "model_id": "",
       "version_major": 2,
       "version_minor": 0
      },
      "text/plain": [
       "HBox(children=(IntProgress(value=0, description='Epoch 64', max=1), HTML(value='')))"
      ]
     },
     "metadata": {},
     "output_type": "display_data"
    },
    {
     "data": {
      "application/vnd.jupyter.widget-view+json": {
       "model_id": "",
       "version_major": 2,
       "version_minor": 0
      },
      "text/plain": [
       "HBox(children=(IntProgress(value=0, description='Epoch 65', max=1), HTML(value='')))"
      ]
     },
     "metadata": {},
     "output_type": "display_data"
    },
    {
     "data": {
      "application/vnd.jupyter.widget-view+json": {
       "model_id": "",
       "version_major": 2,
       "version_minor": 0
      },
      "text/plain": [
       "HBox(children=(IntProgress(value=0, description='Epoch 66', max=1), HTML(value='')))"
      ]
     },
     "metadata": {},
     "output_type": "display_data"
    },
    {
     "data": {
      "application/vnd.jupyter.widget-view+json": {
       "model_id": "",
       "version_major": 2,
       "version_minor": 0
      },
      "text/plain": [
       "HBox(children=(IntProgress(value=0, description='Epoch 67', max=1), HTML(value='')))"
      ]
     },
     "metadata": {},
     "output_type": "display_data"
    },
    {
     "data": {
      "application/vnd.jupyter.widget-view+json": {
       "model_id": "",
       "version_major": 2,
       "version_minor": 0
      },
      "text/plain": [
       "HBox(children=(IntProgress(value=0, description='Epoch 68', max=1), HTML(value='')))"
      ]
     },
     "metadata": {},
     "output_type": "display_data"
    },
    {
     "data": {
      "application/vnd.jupyter.widget-view+json": {
       "model_id": "",
       "version_major": 2,
       "version_minor": 0
      },
      "text/plain": [
       "HBox(children=(IntProgress(value=0, description='Epoch 69', max=1), HTML(value='')))"
      ]
     },
     "metadata": {},
     "output_type": "display_data"
    },
    {
     "data": {
      "application/vnd.jupyter.widget-view+json": {
       "model_id": "",
       "version_major": 2,
       "version_minor": 0
      },
      "text/plain": [
       "HBox(children=(IntProgress(value=0, description='Epoch 70', max=1), HTML(value='')))"
      ]
     },
     "metadata": {},
     "output_type": "display_data"
    },
    {
     "data": {
      "application/vnd.jupyter.widget-view+json": {
       "model_id": "",
       "version_major": 2,
       "version_minor": 0
      },
      "text/plain": [
       "HBox(children=(IntProgress(value=0, description='Epoch 71', max=1), HTML(value='')))"
      ]
     },
     "metadata": {},
     "output_type": "display_data"
    },
    {
     "data": {
      "application/vnd.jupyter.widget-view+json": {
       "model_id": "",
       "version_major": 2,
       "version_minor": 0
      },
      "text/plain": [
       "HBox(children=(IntProgress(value=0, description='Epoch 72', max=1), HTML(value='')))"
      ]
     },
     "metadata": {},
     "output_type": "display_data"
    },
    {
     "data": {
      "application/vnd.jupyter.widget-view+json": {
       "model_id": "",
       "version_major": 2,
       "version_minor": 0
      },
      "text/plain": [
       "HBox(children=(IntProgress(value=0, description='Epoch 73', max=1), HTML(value='')))"
      ]
     },
     "metadata": {},
     "output_type": "display_data"
    },
    {
     "data": {
      "application/vnd.jupyter.widget-view+json": {
       "model_id": "",
       "version_major": 2,
       "version_minor": 0
      },
      "text/plain": [
       "HBox(children=(IntProgress(value=0, description='Epoch 74', max=1), HTML(value='')))"
      ]
     },
     "metadata": {},
     "output_type": "display_data"
    },
    {
     "data": {
      "application/vnd.jupyter.widget-view+json": {
       "model_id": "",
       "version_major": 2,
       "version_minor": 0
      },
      "text/plain": [
       "HBox(children=(IntProgress(value=0, description='Epoch 75', max=1), HTML(value='')))"
      ]
     },
     "metadata": {},
     "output_type": "display_data"
    },
    {
     "data": {
      "application/vnd.jupyter.widget-view+json": {
       "model_id": "",
       "version_major": 2,
       "version_minor": 0
      },
      "text/plain": [
       "HBox(children=(IntProgress(value=0, description='Epoch 76', max=1), HTML(value='')))"
      ]
     },
     "metadata": {},
     "output_type": "display_data"
    },
    {
     "data": {
      "application/vnd.jupyter.widget-view+json": {
       "model_id": "",
       "version_major": 2,
       "version_minor": 0
      },
      "text/plain": [
       "HBox(children=(IntProgress(value=0, description='Epoch 77', max=1), HTML(value='')))"
      ]
     },
     "metadata": {},
     "output_type": "display_data"
    },
    {
     "data": {
      "application/vnd.jupyter.widget-view+json": {
       "model_id": "",
       "version_major": 2,
       "version_minor": 0
      },
      "text/plain": [
       "HBox(children=(IntProgress(value=0, description='Epoch 78', max=1), HTML(value='')))"
      ]
     },
     "metadata": {},
     "output_type": "display_data"
    },
    {
     "data": {
      "application/vnd.jupyter.widget-view+json": {
       "model_id": "",
       "version_major": 2,
       "version_minor": 0
      },
      "text/plain": [
       "HBox(children=(IntProgress(value=0, description='Epoch 79', max=1), HTML(value='')))"
      ]
     },
     "metadata": {},
     "output_type": "display_data"
    },
    {
     "data": {
      "application/vnd.jupyter.widget-view+json": {
       "model_id": "",
       "version_major": 2,
       "version_minor": 0
      },
      "text/plain": [
       "HBox(children=(IntProgress(value=0, description='Epoch 80', max=1), HTML(value='')))"
      ]
     },
     "metadata": {},
     "output_type": "display_data"
    },
    {
     "data": {
      "application/vnd.jupyter.widget-view+json": {
       "model_id": "",
       "version_major": 2,
       "version_minor": 0
      },
      "text/plain": [
       "HBox(children=(IntProgress(value=0, description='Epoch 81', max=1), HTML(value='')))"
      ]
     },
     "metadata": {},
     "output_type": "display_data"
    },
    {
     "data": {
      "application/vnd.jupyter.widget-view+json": {
       "model_id": "",
       "version_major": 2,
       "version_minor": 0
      },
      "text/plain": [
       "HBox(children=(IntProgress(value=0, description='Epoch 82', max=1), HTML(value='')))"
      ]
     },
     "metadata": {},
     "output_type": "display_data"
    },
    {
     "data": {
      "application/vnd.jupyter.widget-view+json": {
       "model_id": "",
       "version_major": 2,
       "version_minor": 0
      },
      "text/plain": [
       "HBox(children=(IntProgress(value=0, description='Epoch 83', max=1), HTML(value='')))"
      ]
     },
     "metadata": {},
     "output_type": "display_data"
    },
    {
     "data": {
      "application/vnd.jupyter.widget-view+json": {
       "model_id": "",
       "version_major": 2,
       "version_minor": 0
      },
      "text/plain": [
       "HBox(children=(IntProgress(value=0, description='Epoch 84', max=1), HTML(value='')))"
      ]
     },
     "metadata": {},
     "output_type": "display_data"
    },
    {
     "data": {
      "application/vnd.jupyter.widget-view+json": {
       "model_id": "",
       "version_major": 2,
       "version_minor": 0
      },
      "text/plain": [
       "HBox(children=(IntProgress(value=0, description='Epoch 85', max=1), HTML(value='')))"
      ]
     },
     "metadata": {},
     "output_type": "display_data"
    },
    {
     "data": {
      "application/vnd.jupyter.widget-view+json": {
       "model_id": "",
       "version_major": 2,
       "version_minor": 0
      },
      "text/plain": [
       "HBox(children=(IntProgress(value=0, description='Epoch 86', max=1), HTML(value='')))"
      ]
     },
     "metadata": {},
     "output_type": "display_data"
    },
    {
     "data": {
      "application/vnd.jupyter.widget-view+json": {
       "model_id": "",
       "version_major": 2,
       "version_minor": 0
      },
      "text/plain": [
       "HBox(children=(IntProgress(value=0, description='Epoch 87', max=1), HTML(value='')))"
      ]
     },
     "metadata": {},
     "output_type": "display_data"
    },
    {
     "data": {
      "application/vnd.jupyter.widget-view+json": {
       "model_id": "",
       "version_major": 2,
       "version_minor": 0
      },
      "text/plain": [
       "HBox(children=(IntProgress(value=0, description='Epoch 88', max=1), HTML(value='')))"
      ]
     },
     "metadata": {},
     "output_type": "display_data"
    },
    {
     "data": {
      "application/vnd.jupyter.widget-view+json": {
       "model_id": "",
       "version_major": 2,
       "version_minor": 0
      },
      "text/plain": [
       "HBox(children=(IntProgress(value=0, description='Epoch 89', max=1), HTML(value='')))"
      ]
     },
     "metadata": {},
     "output_type": "display_data"
    },
    {
     "data": {
      "application/vnd.jupyter.widget-view+json": {
       "model_id": "",
       "version_major": 2,
       "version_minor": 0
      },
      "text/plain": [
       "HBox(children=(IntProgress(value=0, description='Epoch 90', max=1), HTML(value='')))"
      ]
     },
     "metadata": {},
     "output_type": "display_data"
    },
    {
     "data": {
      "application/vnd.jupyter.widget-view+json": {
       "model_id": "",
       "version_major": 2,
       "version_minor": 0
      },
      "text/plain": [
       "HBox(children=(IntProgress(value=0, description='Epoch 91', max=1), HTML(value='')))"
      ]
     },
     "metadata": {},
     "output_type": "display_data"
    },
    {
     "data": {
      "application/vnd.jupyter.widget-view+json": {
       "model_id": "",
       "version_major": 2,
       "version_minor": 0
      },
      "text/plain": [
       "HBox(children=(IntProgress(value=0, description='Epoch 92', max=1), HTML(value='')))"
      ]
     },
     "metadata": {},
     "output_type": "display_data"
    },
    {
     "data": {
      "application/vnd.jupyter.widget-view+json": {
       "model_id": "",
       "version_major": 2,
       "version_minor": 0
      },
      "text/plain": [
       "HBox(children=(IntProgress(value=0, description='Epoch 93', max=1), HTML(value='')))"
      ]
     },
     "metadata": {},
     "output_type": "display_data"
    },
    {
     "data": {
      "application/vnd.jupyter.widget-view+json": {
       "model_id": "",
       "version_major": 2,
       "version_minor": 0
      },
      "text/plain": [
       "HBox(children=(IntProgress(value=0, description='Epoch 94', max=1), HTML(value='')))"
      ]
     },
     "metadata": {},
     "output_type": "display_data"
    },
    {
     "data": {
      "application/vnd.jupyter.widget-view+json": {
       "model_id": "",
       "version_major": 2,
       "version_minor": 0
      },
      "text/plain": [
       "HBox(children=(IntProgress(value=0, description='Epoch 95', max=1), HTML(value='')))"
      ]
     },
     "metadata": {},
     "output_type": "display_data"
    },
    {
     "data": {
      "application/vnd.jupyter.widget-view+json": {
       "model_id": "",
       "version_major": 2,
       "version_minor": 0
      },
      "text/plain": [
       "HBox(children=(IntProgress(value=0, description='Epoch 96', max=1), HTML(value='')))"
      ]
     },
     "metadata": {},
     "output_type": "display_data"
    },
    {
     "data": {
      "application/vnd.jupyter.widget-view+json": {
       "model_id": "",
       "version_major": 2,
       "version_minor": 0
      },
      "text/plain": [
       "HBox(children=(IntProgress(value=0, description='Epoch 97', max=1), HTML(value='')))"
      ]
     },
     "metadata": {},
     "output_type": "display_data"
    },
    {
     "data": {
      "application/vnd.jupyter.widget-view+json": {
       "model_id": "",
       "version_major": 2,
       "version_minor": 0
      },
      "text/plain": [
       "HBox(children=(IntProgress(value=0, description='Epoch 98', max=1), HTML(value='')))"
      ]
     },
     "metadata": {},
     "output_type": "display_data"
    },
    {
     "data": {
      "application/vnd.jupyter.widget-view+json": {
       "model_id": "",
       "version_major": 2,
       "version_minor": 0
      },
      "text/plain": [
       "HBox(children=(IntProgress(value=0, description='Epoch 99', max=1), HTML(value='')))"
      ]
     },
     "metadata": {},
     "output_type": "display_data"
    },
    {
     "data": {
      "application/vnd.jupyter.widget-view+json": {
       "model_id": "",
       "version_major": 2,
       "version_minor": 0
      },
      "text/plain": [
       "HBox(children=(IntProgress(value=0, description='Epoch 100', max=1), HTML(value='')))"
      ]
     },
     "metadata": {},
     "output_type": "display_data"
    },
    {
     "data": {
      "application/vnd.jupyter.widget-view+json": {
       "model_id": "",
       "version_major": 2,
       "version_minor": 0
      },
      "text/plain": [
       "HBox(children=(IntProgress(value=0, description='Epoch 101', max=1), HTML(value='')))"
      ]
     },
     "metadata": {},
     "output_type": "display_data"
    },
    {
     "data": {
      "application/vnd.jupyter.widget-view+json": {
       "model_id": "",
       "version_major": 2,
       "version_minor": 0
      },
      "text/plain": [
       "HBox(children=(IntProgress(value=0, description='Epoch 102', max=1), HTML(value='')))"
      ]
     },
     "metadata": {},
     "output_type": "display_data"
    },
    {
     "data": {
      "application/vnd.jupyter.widget-view+json": {
       "model_id": "",
       "version_major": 2,
       "version_minor": 0
      },
      "text/plain": [
       "HBox(children=(IntProgress(value=0, description='Epoch 103', max=1), HTML(value='')))"
      ]
     },
     "metadata": {},
     "output_type": "display_data"
    },
    {
     "data": {
      "application/vnd.jupyter.widget-view+json": {
       "model_id": "",
       "version_major": 2,
       "version_minor": 0
      },
      "text/plain": [
       "HBox(children=(IntProgress(value=0, description='Epoch 104', max=1), HTML(value='')))"
      ]
     },
     "metadata": {},
     "output_type": "display_data"
    },
    {
     "data": {
      "application/vnd.jupyter.widget-view+json": {
       "model_id": "",
       "version_major": 2,
       "version_minor": 0
      },
      "text/plain": [
       "HBox(children=(IntProgress(value=0, description='Epoch 105', max=1), HTML(value='')))"
      ]
     },
     "metadata": {},
     "output_type": "display_data"
    },
    {
     "data": {
      "application/vnd.jupyter.widget-view+json": {
       "model_id": "",
       "version_major": 2,
       "version_minor": 0
      },
      "text/plain": [
       "HBox(children=(IntProgress(value=0, description='Epoch 106', max=1), HTML(value='')))"
      ]
     },
     "metadata": {},
     "output_type": "display_data"
    },
    {
     "data": {
      "application/vnd.jupyter.widget-view+json": {
       "model_id": "",
       "version_major": 2,
       "version_minor": 0
      },
      "text/plain": [
       "HBox(children=(IntProgress(value=0, description='Epoch 107', max=1), HTML(value='')))"
      ]
     },
     "metadata": {},
     "output_type": "display_data"
    },
    {
     "data": {
      "application/vnd.jupyter.widget-view+json": {
       "model_id": "",
       "version_major": 2,
       "version_minor": 0
      },
      "text/plain": [
       "HBox(children=(IntProgress(value=0, description='Epoch 108', max=1), HTML(value='')))"
      ]
     },
     "metadata": {},
     "output_type": "display_data"
    },
    {
     "data": {
      "application/vnd.jupyter.widget-view+json": {
       "model_id": "",
       "version_major": 2,
       "version_minor": 0
      },
      "text/plain": [
       "HBox(children=(IntProgress(value=0, description='Epoch 109', max=1), HTML(value='')))"
      ]
     },
     "metadata": {},
     "output_type": "display_data"
    },
    {
     "data": {
      "application/vnd.jupyter.widget-view+json": {
       "model_id": "",
       "version_major": 2,
       "version_minor": 0
      },
      "text/plain": [
       "HBox(children=(IntProgress(value=0, description='Epoch 110', max=1), HTML(value='')))"
      ]
     },
     "metadata": {},
     "output_type": "display_data"
    },
    {
     "data": {
      "application/vnd.jupyter.widget-view+json": {
       "model_id": "",
       "version_major": 2,
       "version_minor": 0
      },
      "text/plain": [
       "HBox(children=(IntProgress(value=0, description='Epoch 111', max=1), HTML(value='')))"
      ]
     },
     "metadata": {},
     "output_type": "display_data"
    },
    {
     "data": {
      "application/vnd.jupyter.widget-view+json": {
       "model_id": "",
       "version_major": 2,
       "version_minor": 0
      },
      "text/plain": [
       "HBox(children=(IntProgress(value=0, description='Epoch 112', max=1), HTML(value='')))"
      ]
     },
     "metadata": {},
     "output_type": "display_data"
    },
    {
     "data": {
      "application/vnd.jupyter.widget-view+json": {
       "model_id": "",
       "version_major": 2,
       "version_minor": 0
      },
      "text/plain": [
       "HBox(children=(IntProgress(value=0, description='Epoch 113', max=1), HTML(value='')))"
      ]
     },
     "metadata": {},
     "output_type": "display_data"
    },
    {
     "data": {
      "application/vnd.jupyter.widget-view+json": {
       "model_id": "",
       "version_major": 2,
       "version_minor": 0
      },
      "text/plain": [
       "HBox(children=(IntProgress(value=0, description='Epoch 114', max=1), HTML(value='')))"
      ]
     },
     "metadata": {},
     "output_type": "display_data"
    },
    {
     "data": {
      "application/vnd.jupyter.widget-view+json": {
       "model_id": "",
       "version_major": 2,
       "version_minor": 0
      },
      "text/plain": [
       "HBox(children=(IntProgress(value=0, description='Epoch 115', max=1), HTML(value='')))"
      ]
     },
     "metadata": {},
     "output_type": "display_data"
    },
    {
     "data": {
      "application/vnd.jupyter.widget-view+json": {
       "model_id": "",
       "version_major": 2,
       "version_minor": 0
      },
      "text/plain": [
       "HBox(children=(IntProgress(value=0, description='Epoch 116', max=1), HTML(value='')))"
      ]
     },
     "metadata": {},
     "output_type": "display_data"
    },
    {
     "data": {
      "application/vnd.jupyter.widget-view+json": {
       "model_id": "",
       "version_major": 2,
       "version_minor": 0
      },
      "text/plain": [
       "HBox(children=(IntProgress(value=0, description='Epoch 117', max=1), HTML(value='')))"
      ]
     },
     "metadata": {},
     "output_type": "display_data"
    },
    {
     "data": {
      "application/vnd.jupyter.widget-view+json": {
       "model_id": "",
       "version_major": 2,
       "version_minor": 0
      },
      "text/plain": [
       "HBox(children=(IntProgress(value=0, description='Epoch 118', max=1), HTML(value='')))"
      ]
     },
     "metadata": {},
     "output_type": "display_data"
    },
    {
     "data": {
      "application/vnd.jupyter.widget-view+json": {
       "model_id": "",
       "version_major": 2,
       "version_minor": 0
      },
      "text/plain": [
       "HBox(children=(IntProgress(value=0, description='Epoch 119', max=1), HTML(value='')))"
      ]
     },
     "metadata": {},
     "output_type": "display_data"
    },
    {
     "data": {
      "application/vnd.jupyter.widget-view+json": {
       "model_id": "",
       "version_major": 2,
       "version_minor": 0
      },
      "text/plain": [
       "HBox(children=(IntProgress(value=0, description='Epoch 120', max=1), HTML(value='')))"
      ]
     },
     "metadata": {},
     "output_type": "display_data"
    },
    {
     "data": {
      "application/vnd.jupyter.widget-view+json": {
       "model_id": "",
       "version_major": 2,
       "version_minor": 0
      },
      "text/plain": [
       "HBox(children=(IntProgress(value=0, description='Epoch 121', max=1), HTML(value='')))"
      ]
     },
     "metadata": {},
     "output_type": "display_data"
    },
    {
     "data": {
      "application/vnd.jupyter.widget-view+json": {
       "model_id": "",
       "version_major": 2,
       "version_minor": 0
      },
      "text/plain": [
       "HBox(children=(IntProgress(value=0, description='Epoch 122', max=1), HTML(value='')))"
      ]
     },
     "metadata": {},
     "output_type": "display_data"
    },
    {
     "data": {
      "application/vnd.jupyter.widget-view+json": {
       "model_id": "",
       "version_major": 2,
       "version_minor": 0
      },
      "text/plain": [
       "HBox(children=(IntProgress(value=0, description='Epoch 123', max=1), HTML(value='')))"
      ]
     },
     "metadata": {},
     "output_type": "display_data"
    },
    {
     "data": {
      "application/vnd.jupyter.widget-view+json": {
       "model_id": "",
       "version_major": 2,
       "version_minor": 0
      },
      "text/plain": [
       "HBox(children=(IntProgress(value=0, description='Epoch 124', max=1), HTML(value='')))"
      ]
     },
     "metadata": {},
     "output_type": "display_data"
    },
    {
     "data": {
      "application/vnd.jupyter.widget-view+json": {
       "model_id": "",
       "version_major": 2,
       "version_minor": 0
      },
      "text/plain": [
       "HBox(children=(IntProgress(value=0, description='Epoch 125', max=1), HTML(value='')))"
      ]
     },
     "metadata": {},
     "output_type": "display_data"
    },
    {
     "data": {
      "application/vnd.jupyter.widget-view+json": {
       "model_id": "",
       "version_major": 2,
       "version_minor": 0
      },
      "text/plain": [
       "HBox(children=(IntProgress(value=0, description='Epoch 126', max=1), HTML(value='')))"
      ]
     },
     "metadata": {},
     "output_type": "display_data"
    },
    {
     "data": {
      "application/vnd.jupyter.widget-view+json": {
       "model_id": "",
       "version_major": 2,
       "version_minor": 0
      },
      "text/plain": [
       "HBox(children=(IntProgress(value=0, description='Epoch 127', max=1), HTML(value='')))"
      ]
     },
     "metadata": {},
     "output_type": "display_data"
    },
    {
     "data": {
      "application/vnd.jupyter.widget-view+json": {
       "model_id": "",
       "version_major": 2,
       "version_minor": 0
      },
      "text/plain": [
       "HBox(children=(IntProgress(value=0, description='Epoch 128', max=1), HTML(value='')))"
      ]
     },
     "metadata": {},
     "output_type": "display_data"
    },
    {
     "data": {
      "application/vnd.jupyter.widget-view+json": {
       "model_id": "",
       "version_major": 2,
       "version_minor": 0
      },
      "text/plain": [
       "HBox(children=(IntProgress(value=0, description='Epoch 129', max=1), HTML(value='')))"
      ]
     },
     "metadata": {},
     "output_type": "display_data"
    },
    {
     "data": {
      "application/vnd.jupyter.widget-view+json": {
       "model_id": "",
       "version_major": 2,
       "version_minor": 0
      },
      "text/plain": [
       "HBox(children=(IntProgress(value=0, description='Epoch 130', max=1), HTML(value='')))"
      ]
     },
     "metadata": {},
     "output_type": "display_data"
    },
    {
     "data": {
      "application/vnd.jupyter.widget-view+json": {
       "model_id": "",
       "version_major": 2,
       "version_minor": 0
      },
      "text/plain": [
       "HBox(children=(IntProgress(value=0, description='Epoch 131', max=1), HTML(value='')))"
      ]
     },
     "metadata": {},
     "output_type": "display_data"
    },
    {
     "data": {
      "application/vnd.jupyter.widget-view+json": {
       "model_id": "",
       "version_major": 2,
       "version_minor": 0
      },
      "text/plain": [
       "HBox(children=(IntProgress(value=0, description='Epoch 132', max=1), HTML(value='')))"
      ]
     },
     "metadata": {},
     "output_type": "display_data"
    },
    {
     "data": {
      "application/vnd.jupyter.widget-view+json": {
       "model_id": "",
       "version_major": 2,
       "version_minor": 0
      },
      "text/plain": [
       "HBox(children=(IntProgress(value=0, description='Epoch 133', max=1), HTML(value='')))"
      ]
     },
     "metadata": {},
     "output_type": "display_data"
    },
    {
     "data": {
      "application/vnd.jupyter.widget-view+json": {
       "model_id": "",
       "version_major": 2,
       "version_minor": 0
      },
      "text/plain": [
       "HBox(children=(IntProgress(value=0, description='Epoch 134', max=1), HTML(value='')))"
      ]
     },
     "metadata": {},
     "output_type": "display_data"
    },
    {
     "data": {
      "application/vnd.jupyter.widget-view+json": {
       "model_id": "",
       "version_major": 2,
       "version_minor": 0
      },
      "text/plain": [
       "HBox(children=(IntProgress(value=0, description='Epoch 135', max=1), HTML(value='')))"
      ]
     },
     "metadata": {},
     "output_type": "display_data"
    },
    {
     "data": {
      "application/vnd.jupyter.widget-view+json": {
       "model_id": "",
       "version_major": 2,
       "version_minor": 0
      },
      "text/plain": [
       "HBox(children=(IntProgress(value=0, description='Epoch 136', max=1), HTML(value='')))"
      ]
     },
     "metadata": {},
     "output_type": "display_data"
    },
    {
     "data": {
      "application/vnd.jupyter.widget-view+json": {
       "model_id": "",
       "version_major": 2,
       "version_minor": 0
      },
      "text/plain": [
       "HBox(children=(IntProgress(value=0, description='Epoch 137', max=1), HTML(value='')))"
      ]
     },
     "metadata": {},
     "output_type": "display_data"
    },
    {
     "data": {
      "application/vnd.jupyter.widget-view+json": {
       "model_id": "",
       "version_major": 2,
       "version_minor": 0
      },
      "text/plain": [
       "HBox(children=(IntProgress(value=0, description='Epoch 138', max=1), HTML(value='')))"
      ]
     },
     "metadata": {},
     "output_type": "display_data"
    },
    {
     "data": {
      "application/vnd.jupyter.widget-view+json": {
       "model_id": "",
       "version_major": 2,
       "version_minor": 0
      },
      "text/plain": [
       "HBox(children=(IntProgress(value=0, description='Epoch 139', max=1), HTML(value='')))"
      ]
     },
     "metadata": {},
     "output_type": "display_data"
    },
    {
     "data": {
      "application/vnd.jupyter.widget-view+json": {
       "model_id": "",
       "version_major": 2,
       "version_minor": 0
      },
      "text/plain": [
       "HBox(children=(IntProgress(value=0, description='Epoch 140', max=1), HTML(value='')))"
      ]
     },
     "metadata": {},
     "output_type": "display_data"
    },
    {
     "data": {
      "application/vnd.jupyter.widget-view+json": {
       "model_id": "",
       "version_major": 2,
       "version_minor": 0
      },
      "text/plain": [
       "HBox(children=(IntProgress(value=0, description='Epoch 141', max=1), HTML(value='')))"
      ]
     },
     "metadata": {},
     "output_type": "display_data"
    },
    {
     "data": {
      "application/vnd.jupyter.widget-view+json": {
       "model_id": "",
       "version_major": 2,
       "version_minor": 0
      },
      "text/plain": [
       "HBox(children=(IntProgress(value=0, description='Epoch 142', max=1), HTML(value='')))"
      ]
     },
     "metadata": {},
     "output_type": "display_data"
    },
    {
     "data": {
      "application/vnd.jupyter.widget-view+json": {
       "model_id": "",
       "version_major": 2,
       "version_minor": 0
      },
      "text/plain": [
       "HBox(children=(IntProgress(value=0, description='Epoch 143', max=1), HTML(value='')))"
      ]
     },
     "metadata": {},
     "output_type": "display_data"
    },
    {
     "data": {
      "application/vnd.jupyter.widget-view+json": {
       "model_id": "",
       "version_major": 2,
       "version_minor": 0
      },
      "text/plain": [
       "HBox(children=(IntProgress(value=0, description='Epoch 144', max=1), HTML(value='')))"
      ]
     },
     "metadata": {},
     "output_type": "display_data"
    },
    {
     "data": {
      "application/vnd.jupyter.widget-view+json": {
       "model_id": "",
       "version_major": 2,
       "version_minor": 0
      },
      "text/plain": [
       "HBox(children=(IntProgress(value=0, description='Epoch 145', max=1), HTML(value='')))"
      ]
     },
     "metadata": {},
     "output_type": "display_data"
    },
    {
     "data": {
      "application/vnd.jupyter.widget-view+json": {
       "model_id": "",
       "version_major": 2,
       "version_minor": 0
      },
      "text/plain": [
       "HBox(children=(IntProgress(value=0, description='Epoch 146', max=1), HTML(value='')))"
      ]
     },
     "metadata": {},
     "output_type": "display_data"
    },
    {
     "data": {
      "application/vnd.jupyter.widget-view+json": {
       "model_id": "",
       "version_major": 2,
       "version_minor": 0
      },
      "text/plain": [
       "HBox(children=(IntProgress(value=0, description='Epoch 147', max=1), HTML(value='')))"
      ]
     },
     "metadata": {},
     "output_type": "display_data"
    },
    {
     "data": {
      "application/vnd.jupyter.widget-view+json": {
       "model_id": "",
       "version_major": 2,
       "version_minor": 0
      },
      "text/plain": [
       "HBox(children=(IntProgress(value=0, description='Epoch 148', max=1), HTML(value='')))"
      ]
     },
     "metadata": {},
     "output_type": "display_data"
    },
    {
     "data": {
      "application/vnd.jupyter.widget-view+json": {
       "model_id": "",
       "version_major": 2,
       "version_minor": 0
      },
      "text/plain": [
       "HBox(children=(IntProgress(value=0, description='Epoch 149', max=1), HTML(value='')))"
      ]
     },
     "metadata": {},
     "output_type": "display_data"
    },
    {
     "data": {
      "application/vnd.jupyter.widget-view+json": {
       "model_id": "",
       "version_major": 2,
       "version_minor": 0
      },
      "text/plain": [
       "HBox(children=(IntProgress(value=0, description='Epoch 150', max=1), HTML(value='')))"
      ]
     },
     "metadata": {},
     "output_type": "display_data"
    },
    {
     "data": {
      "application/vnd.jupyter.widget-view+json": {
       "model_id": "",
       "version_major": 2,
       "version_minor": 0
      },
      "text/plain": [
       "HBox(children=(IntProgress(value=0, description='Epoch 151', max=1), HTML(value='')))"
      ]
     },
     "metadata": {},
     "output_type": "display_data"
    },
    {
     "data": {
      "application/vnd.jupyter.widget-view+json": {
       "model_id": "",
       "version_major": 2,
       "version_minor": 0
      },
      "text/plain": [
       "HBox(children=(IntProgress(value=0, description='Epoch 152', max=1), HTML(value='')))"
      ]
     },
     "metadata": {},
     "output_type": "display_data"
    },
    {
     "data": {
      "application/vnd.jupyter.widget-view+json": {
       "model_id": "",
       "version_major": 2,
       "version_minor": 0
      },
      "text/plain": [
       "HBox(children=(IntProgress(value=0, description='Epoch 153', max=1), HTML(value='')))"
      ]
     },
     "metadata": {},
     "output_type": "display_data"
    },
    {
     "data": {
      "application/vnd.jupyter.widget-view+json": {
       "model_id": "",
       "version_major": 2,
       "version_minor": 0
      },
      "text/plain": [
       "HBox(children=(IntProgress(value=0, description='Epoch 154', max=1), HTML(value='')))"
      ]
     },
     "metadata": {},
     "output_type": "display_data"
    },
    {
     "data": {
      "application/vnd.jupyter.widget-view+json": {
       "model_id": "",
       "version_major": 2,
       "version_minor": 0
      },
      "text/plain": [
       "HBox(children=(IntProgress(value=0, description='Epoch 155', max=1), HTML(value='')))"
      ]
     },
     "metadata": {},
     "output_type": "display_data"
    },
    {
     "data": {
      "application/vnd.jupyter.widget-view+json": {
       "model_id": "",
       "version_major": 2,
       "version_minor": 0
      },
      "text/plain": [
       "HBox(children=(IntProgress(value=0, description='Epoch 156', max=1), HTML(value='')))"
      ]
     },
     "metadata": {},
     "output_type": "display_data"
    },
    {
     "data": {
      "application/vnd.jupyter.widget-view+json": {
       "model_id": "",
       "version_major": 2,
       "version_minor": 0
      },
      "text/plain": [
       "HBox(children=(IntProgress(value=0, description='Epoch 157', max=1), HTML(value='')))"
      ]
     },
     "metadata": {},
     "output_type": "display_data"
    },
    {
     "data": {
      "application/vnd.jupyter.widget-view+json": {
       "model_id": "",
       "version_major": 2,
       "version_minor": 0
      },
      "text/plain": [
       "HBox(children=(IntProgress(value=0, description='Epoch 158', max=1), HTML(value='')))"
      ]
     },
     "metadata": {},
     "output_type": "display_data"
    },
    {
     "data": {
      "application/vnd.jupyter.widget-view+json": {
       "model_id": "",
       "version_major": 2,
       "version_minor": 0
      },
      "text/plain": [
       "HBox(children=(IntProgress(value=0, description='Epoch 159', max=1), HTML(value='')))"
      ]
     },
     "metadata": {},
     "output_type": "display_data"
    },
    {
     "data": {
      "application/vnd.jupyter.widget-view+json": {
       "model_id": "",
       "version_major": 2,
       "version_minor": 0
      },
      "text/plain": [
       "HBox(children=(IntProgress(value=0, description='Epoch 160', max=1), HTML(value='')))"
      ]
     },
     "metadata": {},
     "output_type": "display_data"
    },
    {
     "data": {
      "application/vnd.jupyter.widget-view+json": {
       "model_id": "",
       "version_major": 2,
       "version_minor": 0
      },
      "text/plain": [
       "HBox(children=(IntProgress(value=0, description='Epoch 161', max=1), HTML(value='')))"
      ]
     },
     "metadata": {},
     "output_type": "display_data"
    },
    {
     "data": {
      "application/vnd.jupyter.widget-view+json": {
       "model_id": "",
       "version_major": 2,
       "version_minor": 0
      },
      "text/plain": [
       "HBox(children=(IntProgress(value=0, description='Epoch 162', max=1), HTML(value='')))"
      ]
     },
     "metadata": {},
     "output_type": "display_data"
    },
    {
     "data": {
      "application/vnd.jupyter.widget-view+json": {
       "model_id": "",
       "version_major": 2,
       "version_minor": 0
      },
      "text/plain": [
       "HBox(children=(IntProgress(value=0, description='Epoch 163', max=1), HTML(value='')))"
      ]
     },
     "metadata": {},
     "output_type": "display_data"
    },
    {
     "data": {
      "application/vnd.jupyter.widget-view+json": {
       "model_id": "",
       "version_major": 2,
       "version_minor": 0
      },
      "text/plain": [
       "HBox(children=(IntProgress(value=0, description='Epoch 164', max=1), HTML(value='')))"
      ]
     },
     "metadata": {},
     "output_type": "display_data"
    },
    {
     "data": {
      "application/vnd.jupyter.widget-view+json": {
       "model_id": "",
       "version_major": 2,
       "version_minor": 0
      },
      "text/plain": [
       "HBox(children=(IntProgress(value=0, description='Epoch 165', max=1), HTML(value='')))"
      ]
     },
     "metadata": {},
     "output_type": "display_data"
    },
    {
     "data": {
      "application/vnd.jupyter.widget-view+json": {
       "model_id": "",
       "version_major": 2,
       "version_minor": 0
      },
      "text/plain": [
       "HBox(children=(IntProgress(value=0, description='Epoch 166', max=1), HTML(value='')))"
      ]
     },
     "metadata": {},
     "output_type": "display_data"
    },
    {
     "data": {
      "application/vnd.jupyter.widget-view+json": {
       "model_id": "",
       "version_major": 2,
       "version_minor": 0
      },
      "text/plain": [
       "HBox(children=(IntProgress(value=0, description='Epoch 167', max=1), HTML(value='')))"
      ]
     },
     "metadata": {},
     "output_type": "display_data"
    },
    {
     "data": {
      "application/vnd.jupyter.widget-view+json": {
       "model_id": "",
       "version_major": 2,
       "version_minor": 0
      },
      "text/plain": [
       "HBox(children=(IntProgress(value=0, description='Epoch 168', max=1), HTML(value='')))"
      ]
     },
     "metadata": {},
     "output_type": "display_data"
    },
    {
     "data": {
      "application/vnd.jupyter.widget-view+json": {
       "model_id": "",
       "version_major": 2,
       "version_minor": 0
      },
      "text/plain": [
       "HBox(children=(IntProgress(value=0, description='Epoch 169', max=1), HTML(value='')))"
      ]
     },
     "metadata": {},
     "output_type": "display_data"
    },
    {
     "data": {
      "application/vnd.jupyter.widget-view+json": {
       "model_id": "",
       "version_major": 2,
       "version_minor": 0
      },
      "text/plain": [
       "HBox(children=(IntProgress(value=0, description='Epoch 170', max=1), HTML(value='')))"
      ]
     },
     "metadata": {},
     "output_type": "display_data"
    },
    {
     "data": {
      "application/vnd.jupyter.widget-view+json": {
       "model_id": "",
       "version_major": 2,
       "version_minor": 0
      },
      "text/plain": [
       "HBox(children=(IntProgress(value=0, description='Epoch 171', max=1), HTML(value='')))"
      ]
     },
     "metadata": {},
     "output_type": "display_data"
    },
    {
     "data": {
      "application/vnd.jupyter.widget-view+json": {
       "model_id": "",
       "version_major": 2,
       "version_minor": 0
      },
      "text/plain": [
       "HBox(children=(IntProgress(value=0, description='Epoch 172', max=1), HTML(value='')))"
      ]
     },
     "metadata": {},
     "output_type": "display_data"
    },
    {
     "data": {
      "application/vnd.jupyter.widget-view+json": {
       "model_id": "",
       "version_major": 2,
       "version_minor": 0
      },
      "text/plain": [
       "HBox(children=(IntProgress(value=0, description='Epoch 173', max=1), HTML(value='')))"
      ]
     },
     "metadata": {},
     "output_type": "display_data"
    },
    {
     "data": {
      "application/vnd.jupyter.widget-view+json": {
       "model_id": "",
       "version_major": 2,
       "version_minor": 0
      },
      "text/plain": [
       "HBox(children=(IntProgress(value=0, description='Epoch 174', max=1), HTML(value='')))"
      ]
     },
     "metadata": {},
     "output_type": "display_data"
    },
    {
     "data": {
      "application/vnd.jupyter.widget-view+json": {
       "model_id": "",
       "version_major": 2,
       "version_minor": 0
      },
      "text/plain": [
       "HBox(children=(IntProgress(value=0, description='Epoch 175', max=1), HTML(value='')))"
      ]
     },
     "metadata": {},
     "output_type": "display_data"
    },
    {
     "data": {
      "application/vnd.jupyter.widget-view+json": {
       "model_id": "",
       "version_major": 2,
       "version_minor": 0
      },
      "text/plain": [
       "HBox(children=(IntProgress(value=0, description='Epoch 176', max=1), HTML(value='')))"
      ]
     },
     "metadata": {},
     "output_type": "display_data"
    },
    {
     "data": {
      "application/vnd.jupyter.widget-view+json": {
       "model_id": "",
       "version_major": 2,
       "version_minor": 0
      },
      "text/plain": [
       "HBox(children=(IntProgress(value=0, description='Epoch 177', max=1), HTML(value='')))"
      ]
     },
     "metadata": {},
     "output_type": "display_data"
    },
    {
     "data": {
      "application/vnd.jupyter.widget-view+json": {
       "model_id": "",
       "version_major": 2,
       "version_minor": 0
      },
      "text/plain": [
       "HBox(children=(IntProgress(value=0, description='Epoch 178', max=1), HTML(value='')))"
      ]
     },
     "metadata": {},
     "output_type": "display_data"
    },
    {
     "data": {
      "application/vnd.jupyter.widget-view+json": {
       "model_id": "",
       "version_major": 2,
       "version_minor": 0
      },
      "text/plain": [
       "HBox(children=(IntProgress(value=0, description='Epoch 179', max=1), HTML(value='')))"
      ]
     },
     "metadata": {},
     "output_type": "display_data"
    },
    {
     "data": {
      "application/vnd.jupyter.widget-view+json": {
       "model_id": "",
       "version_major": 2,
       "version_minor": 0
      },
      "text/plain": [
       "HBox(children=(IntProgress(value=0, description='Epoch 180', max=1), HTML(value='')))"
      ]
     },
     "metadata": {},
     "output_type": "display_data"
    },
    {
     "data": {
      "application/vnd.jupyter.widget-view+json": {
       "model_id": "",
       "version_major": 2,
       "version_minor": 0
      },
      "text/plain": [
       "HBox(children=(IntProgress(value=0, description='Epoch 181', max=1), HTML(value='')))"
      ]
     },
     "metadata": {},
     "output_type": "display_data"
    },
    {
     "data": {
      "application/vnd.jupyter.widget-view+json": {
       "model_id": "",
       "version_major": 2,
       "version_minor": 0
      },
      "text/plain": [
       "HBox(children=(IntProgress(value=0, description='Epoch 182', max=1), HTML(value='')))"
      ]
     },
     "metadata": {},
     "output_type": "display_data"
    },
    {
     "data": {
      "application/vnd.jupyter.widget-view+json": {
       "model_id": "",
       "version_major": 2,
       "version_minor": 0
      },
      "text/plain": [
       "HBox(children=(IntProgress(value=0, description='Epoch 183', max=1), HTML(value='')))"
      ]
     },
     "metadata": {},
     "output_type": "display_data"
    },
    {
     "data": {
      "application/vnd.jupyter.widget-view+json": {
       "model_id": "",
       "version_major": 2,
       "version_minor": 0
      },
      "text/plain": [
       "HBox(children=(IntProgress(value=0, description='Epoch 184', max=1), HTML(value='')))"
      ]
     },
     "metadata": {},
     "output_type": "display_data"
    },
    {
     "data": {
      "application/vnd.jupyter.widget-view+json": {
       "model_id": "",
       "version_major": 2,
       "version_minor": 0
      },
      "text/plain": [
       "HBox(children=(IntProgress(value=0, description='Epoch 185', max=1), HTML(value='')))"
      ]
     },
     "metadata": {},
     "output_type": "display_data"
    },
    {
     "data": {
      "application/vnd.jupyter.widget-view+json": {
       "model_id": "",
       "version_major": 2,
       "version_minor": 0
      },
      "text/plain": [
       "HBox(children=(IntProgress(value=0, description='Epoch 186', max=1), HTML(value='')))"
      ]
     },
     "metadata": {},
     "output_type": "display_data"
    },
    {
     "data": {
      "application/vnd.jupyter.widget-view+json": {
       "model_id": "",
       "version_major": 2,
       "version_minor": 0
      },
      "text/plain": [
       "HBox(children=(IntProgress(value=0, description='Epoch 187', max=1), HTML(value='')))"
      ]
     },
     "metadata": {},
     "output_type": "display_data"
    },
    {
     "data": {
      "application/vnd.jupyter.widget-view+json": {
       "model_id": "",
       "version_major": 2,
       "version_minor": 0
      },
      "text/plain": [
       "HBox(children=(IntProgress(value=0, description='Epoch 188', max=1), HTML(value='')))"
      ]
     },
     "metadata": {},
     "output_type": "display_data"
    },
    {
     "data": {
      "application/vnd.jupyter.widget-view+json": {
       "model_id": "",
       "version_major": 2,
       "version_minor": 0
      },
      "text/plain": [
       "HBox(children=(IntProgress(value=0, description='Epoch 189', max=1), HTML(value='')))"
      ]
     },
     "metadata": {},
     "output_type": "display_data"
    },
    {
     "data": {
      "application/vnd.jupyter.widget-view+json": {
       "model_id": "",
       "version_major": 2,
       "version_minor": 0
      },
      "text/plain": [
       "HBox(children=(IntProgress(value=0, description='Epoch 190', max=1), HTML(value='')))"
      ]
     },
     "metadata": {},
     "output_type": "display_data"
    },
    {
     "data": {
      "application/vnd.jupyter.widget-view+json": {
       "model_id": "",
       "version_major": 2,
       "version_minor": 0
      },
      "text/plain": [
       "HBox(children=(IntProgress(value=0, description='Epoch 191', max=1), HTML(value='')))"
      ]
     },
     "metadata": {},
     "output_type": "display_data"
    },
    {
     "data": {
      "application/vnd.jupyter.widget-view+json": {
       "model_id": "",
       "version_major": 2,
       "version_minor": 0
      },
      "text/plain": [
       "HBox(children=(IntProgress(value=0, description='Epoch 192', max=1), HTML(value='')))"
      ]
     },
     "metadata": {},
     "output_type": "display_data"
    },
    {
     "data": {
      "application/vnd.jupyter.widget-view+json": {
       "model_id": "",
       "version_major": 2,
       "version_minor": 0
      },
      "text/plain": [
       "HBox(children=(IntProgress(value=0, description='Epoch 193', max=1), HTML(value='')))"
      ]
     },
     "metadata": {},
     "output_type": "display_data"
    },
    {
     "data": {
      "application/vnd.jupyter.widget-view+json": {
       "model_id": "",
       "version_major": 2,
       "version_minor": 0
      },
      "text/plain": [
       "HBox(children=(IntProgress(value=0, description='Epoch 194', max=1), HTML(value='')))"
      ]
     },
     "metadata": {},
     "output_type": "display_data"
    },
    {
     "data": {
      "application/vnd.jupyter.widget-view+json": {
       "model_id": "",
       "version_major": 2,
       "version_minor": 0
      },
      "text/plain": [
       "HBox(children=(IntProgress(value=0, description='Epoch 195', max=1), HTML(value='')))"
      ]
     },
     "metadata": {},
     "output_type": "display_data"
    },
    {
     "data": {
      "application/vnd.jupyter.widget-view+json": {
       "model_id": "",
       "version_major": 2,
       "version_minor": 0
      },
      "text/plain": [
       "HBox(children=(IntProgress(value=0, description='Epoch 196', max=1), HTML(value='')))"
      ]
     },
     "metadata": {},
     "output_type": "display_data"
    },
    {
     "data": {
      "application/vnd.jupyter.widget-view+json": {
       "model_id": "",
       "version_major": 2,
       "version_minor": 0
      },
      "text/plain": [
       "HBox(children=(IntProgress(value=0, description='Epoch 197', max=1), HTML(value='')))"
      ]
     },
     "metadata": {},
     "output_type": "display_data"
    },
    {
     "data": {
      "application/vnd.jupyter.widget-view+json": {
       "model_id": "",
       "version_major": 2,
       "version_minor": 0
      },
      "text/plain": [
       "HBox(children=(IntProgress(value=0, description='Epoch 198', max=1), HTML(value='')))"
      ]
     },
     "metadata": {},
     "output_type": "display_data"
    },
    {
     "data": {
      "application/vnd.jupyter.widget-view+json": {
       "model_id": "",
       "version_major": 2,
       "version_minor": 0
      },
      "text/plain": [
       "HBox(children=(IntProgress(value=0, description='Epoch 199', max=1), HTML(value='')))"
      ]
     },
     "metadata": {},
     "output_type": "display_data"
    },
    {
     "name": "stdout",
     "output_type": "stream",
     "text": [
      "\n",
      "Elapsed:  23.05606174468994\n"
     ]
    }
   ],
   "source": [
    "start = time.time()\n",
    "\n",
    "early_stopping = keras.callbacks.EarlyStopping('loss', min_delta=1.0, patience=20)\n",
    "#reduce_lr = keras.callbacks.ReduceLROnPlateau(monitor='loss', factor=0.5, patience=10, min_lr=0.01 * learning_rate)\n",
    "#tensorboard = keras.callbacks.TensorBoard(log_dir='./logs_2019-05-13/' + str(int(time.time() % 10000)),\n",
    "#                                          histogram_freq=1, batch_size=1,\n",
    "#                                          write_grads=True, write_images=True, update_freq='batch')\n",
    "\n",
    "history = model.fit(\n",
    "    X_train, X_train,\n",
    "    batch_size=batch_size,\n",
    "    #epochs=epochs,\n",
    "    epochs=200,\n",
    "    callbacks=[TQDMNotebookCallback(), early_stopping,],#, tensorboard], #early_stopping, reduce_lr],\n",
    "    validation_data=(X_train, X_train),\n",
    "    verbose=0\n",
    ")\n",
    "\n",
    "done = time.time()\n",
    "elapsed = done - start\n",
    "print(\"Elapsed: \", elapsed)"
   ]
  },
  {
   "cell_type": "code",
   "execution_count": null,
   "metadata": {},
   "outputs": [],
   "source": []
  },
  {
   "cell_type": "code",
   "execution_count": 146,
   "metadata": {
    "ExecuteTime": {
     "end_time": "2019-05-28T12:59:27.005357Z",
     "start_time": "2019-05-28T12:59:26.875499Z"
    },
    "scrolled": false,
    "slideshow": {
     "slide_type": "-"
    }
   },
   "outputs": [
    {
     "data": {
      "text/html": [
       "<div>\n",
       "<style scoped>\n",
       "    .dataframe tbody tr th:only-of-type {\n",
       "        vertical-align: middle;\n",
       "    }\n",
       "\n",
       "    .dataframe tbody tr th {\n",
       "        vertical-align: top;\n",
       "    }\n",
       "\n",
       "    .dataframe thead th {\n",
       "        text-align: right;\n",
       "    }\n",
       "</style>\n",
       "<table border=\"1\" class=\"dataframe\">\n",
       "  <thead>\n",
       "    <tr style=\"text-align: right;\">\n",
       "      <th></th>\n",
       "      <th>val_loss</th>\n",
       "      <th>loss</th>\n",
       "    </tr>\n",
       "  </thead>\n",
       "  <tbody>\n",
       "    <tr>\n",
       "      <th>count</th>\n",
       "      <td>200.000000</td>\n",
       "      <td>200.000000</td>\n",
       "    </tr>\n",
       "    <tr>\n",
       "      <th>mean</th>\n",
       "      <td>598.387787</td>\n",
       "      <td>714.974217</td>\n",
       "    </tr>\n",
       "    <tr>\n",
       "      <th>std</th>\n",
       "      <td>1823.812575</td>\n",
       "      <td>2437.480756</td>\n",
       "    </tr>\n",
       "    <tr>\n",
       "      <th>min</th>\n",
       "      <td>147.558640</td>\n",
       "      <td>147.558640</td>\n",
       "    </tr>\n",
       "    <tr>\n",
       "      <th>0%</th>\n",
       "      <td>147.558640</td>\n",
       "      <td>147.558640</td>\n",
       "    </tr>\n",
       "    <tr>\n",
       "      <th>25%</th>\n",
       "      <td>183.598480</td>\n",
       "      <td>183.858063</td>\n",
       "    </tr>\n",
       "    <tr>\n",
       "      <th>50%</th>\n",
       "      <td>190.964241</td>\n",
       "      <td>191.086563</td>\n",
       "    </tr>\n",
       "    <tr>\n",
       "      <th>75%</th>\n",
       "      <td>267.915100</td>\n",
       "      <td>269.689209</td>\n",
       "    </tr>\n",
       "    <tr>\n",
       "      <th>95%</th>\n",
       "      <td>2148.664160</td>\n",
       "      <td>2601.174829</td>\n",
       "    </tr>\n",
       "    <tr>\n",
       "      <th>99%</th>\n",
       "      <td>9605.189102</td>\n",
       "      <td>13672.185146</td>\n",
       "    </tr>\n",
       "    <tr>\n",
       "      <th>max</th>\n",
       "      <td>18075.615234</td>\n",
       "      <td>23474.191406</td>\n",
       "    </tr>\n",
       "  </tbody>\n",
       "</table>\n",
       "</div>"
      ],
      "text/plain": [
       "           val_loss          loss\n",
       "count    200.000000    200.000000\n",
       "mean     598.387787    714.974217\n",
       "std     1823.812575   2437.480756\n",
       "min      147.558640    147.558640\n",
       "0%       147.558640    147.558640\n",
       "25%      183.598480    183.858063\n",
       "50%      190.964241    191.086563\n",
       "75%      267.915100    269.689209\n",
       "95%     2148.664160   2601.174829\n",
       "99%     9605.189102  13672.185146\n",
       "max    18075.615234  23474.191406"
      ]
     },
     "metadata": {},
     "output_type": "display_data"
    },
    {
     "data": {
      "text/plain": [
       "<matplotlib.axes._subplots.AxesSubplot at 0x7fe0bbaced68>"
      ]
     },
     "execution_count": 146,
     "metadata": {},
     "output_type": "execute_result"
    },
    {
     "data": {
      "image/png": "[encoded data removed]",
      "text/plain": [
       "<Figure size 576x432 with 1 Axes>"
      ]
     },
     "metadata": {},
     "output_type": "display_data"
    }
   ],
   "source": [
    "df = pd.DataFrame(history.history)\n",
    "display(df.describe(percentiles=[0.25 * i for i in range(4)] + [0.95, 0.99]))\n",
    "df['loss'][-25:].plot(figsize=(8, 6))"
   ]
  },
  {
   "cell_type": "code",
   "execution_count": 147,
   "metadata": {
    "ExecuteTime": {
     "end_time": "2019-05-28T12:59:32.699684Z",
     "start_time": "2019-05-28T12:59:32.692068Z"
    },
    "scrolled": true
   },
   "outputs": [],
   "source": [
    "#print(df)"
   ]
  },
  {
   "cell_type": "code",
   "execution_count": 148,
   "metadata": {
    "ExecuteTime": {
     "end_time": "2019-05-28T12:59:49.315291Z",
     "start_time": "2019-05-28T12:59:32.877866Z"
    },
    "scrolled": true
   },
   "outputs": [
    {
     "name": "stdout",
     "output_type": "stream",
     "text": [
      "(4, 40, 3)\n",
      "==== 0 0 0\n",
      "X_train[0 0 0 0 ] =  -0.5372549019607843  (59.0)\n",
      " m:  [-0.5259871] ([60.436646])\n",
      " E[m]:  -0.5259871 ([60.436646])\n",
      " invs:  [5.061367]\n",
      " weights:  [1.]  ( [0.04086556] )\n",
      " pvals:  57    0.018117\n",
      "58    0.057689\n",
      "59    0.155393\n",
      "60    0.280793\n",
      "61    0.268938\n",
      "62    0.139294\n",
      "63    0.050107\n",
      "64    0.015562\n",
      "dtype: float64\n",
      " pixel_val:  60\n",
      "==== 0 0 1\n",
      "X_train[0 0 0 1 ] =  -0.5137254901960784  (62.0)\n",
      " m:  [-0.50435984] ([63.194122])\n",
      " E[m]:  -0.50435984 ([63.194122])\n",
      " invs:  [4.621604]\n",
      " weights:  [1.]  ( [0.03899233] )\n",
      " pvals:  58    0.012582\n",
      "59    0.026814\n",
      "60    0.054557\n",
      "61    0.101235\n",
      "62    0.159318\n",
      "63    0.195599\n",
      "64    0.178408\n",
      "65    0.123690\n",
      "66    0.070359\n",
      "67    0.035592\n",
      "68    0.016939\n",
      "dtype: float64\n",
      " pixel_val:  64\n",
      "==== 0 0 2\n",
      "X_train[0 0 0 2 ] =  -0.5058823529411764  (63.0)\n",
      " m:  [-0.49411237] ([64.50067])\n",
      " E[m]:  -0.49411237 ([64.50067])\n",
      " invs:  [3.8368258]\n",
      " weights:  [1.]  ( [0.03192425] )\n",
      " pvals:  55    0.010837\n",
      "56    0.015175\n",
      "57    0.021013\n",
      "58    0.028648\n",
      "59    0.038243\n",
      "60    0.049641\n",
      "61    0.062141\n",
      "62    0.074352\n",
      "63    0.084302\n",
      "64    0.089945\n",
      "65    0.089949\n",
      "66    0.084313\n",
      "67    0.074367\n",
      "68    0.062158\n",
      "69    0.049657\n",
      "70    0.038258\n",
      "71    0.028660\n",
      "72    0.021022\n",
      "73    0.015182\n",
      "74    0.010842\n",
      "dtype: float64\n",
      " pixel_val:  63\n",
      "==== 0 1 0\n",
      "X_train[0 0 1 0 ] =  -0.6627450980392157  (43.0)\n",
      " m:  [-0.6455063] ([45.197945])\n",
      " E[m]:  -0.6455063 ([45.197945])\n",
      " invs:  [4.824808]\n",
      " weights:  [1.]  ( [0.04896531] )\n",
      " pvals:  41    0.016215\n",
      "42    0.040601\n",
      "43    0.093048\n",
      "44    0.175924\n",
      "45    0.237396\n",
      "46    0.207849\n",
      "47    0.123470\n",
      "48    0.057234\n",
      "49    0.023468\n",
      "dtype: float64\n",
      " pixel_val:  46\n",
      "==== 0 1 1\n",
      "X_train[0 0 1 1 ] =  -0.6392156862745098  (46.0)\n",
      " m:  [-0.6224542] ([48.137085])\n",
      " E[m]:  -0.6224542 ([48.137085])\n",
      " invs:  [4.2934394]\n",
      " weights:  [1.]  ( [0.04909106] )\n",
      " pvals:  42    0.016153\n",
      "43    0.027407\n",
      "44    0.045007\n",
      "45    0.070084\n",
      "46    0.100585\n",
      "47    0.128664\n",
      "48    0.142369\n",
      "49    0.134339\n",
      "50    0.109004\n",
      "51    0.078120\n",
      "52    0.051142\n",
      "53    0.031525\n",
      "54    0.018717\n",
      "55    0.010866\n",
      "dtype: float64\n",
      " pixel_val:  53\n",
      "==== 0 1 2\n",
      "X_train[0 0 1 2 ] =  -0.6470588235294118  (45.0)\n",
      " m:  [-0.62909657] ([47.290184])\n",
      " E[m]:  -0.62909657 ([47.290184])\n",
      " invs:  [3.519009]\n",
      " weights:  [1.]  ( [0.04440349] )\n",
      " pvals:  36    0.012108\n",
      "37    0.015325\n",
      "38    0.019239\n",
      "39    0.023907\n",
      "40    0.029332\n",
      "41    0.035431\n",
      "42    0.042002\n",
      "43    0.048695\n",
      "44    0.055019\n",
      "45    0.060386\n",
      "46    0.064199\n",
      "47    0.065984\n",
      "48    0.065504\n",
      "49    0.062823\n",
      "50    0.058290\n",
      "51    0.052447\n",
      "52    0.045900\n",
      "53    0.039206\n",
      "54    0.032800\n",
      "55    0.026967\n",
      "56    0.021855\n",
      "57    0.017507\n",
      "58    0.013894\n",
      "59    0.010946\n",
      "dtype: float64\n",
      " pixel_val:  52\n",
      "==== 0 2 0\n",
      "X_train[0 0 2 0 ] =  -0.6078431372549019  (50.0)\n",
      " m:  [-0.5872013] ([52.631836])\n",
      " E[m]:  -0.5872013 ([52.631836])\n",
      " invs:  [4.8917437]\n",
      " weights:  [1.]  ( [0.04689356] )\n",
      " pvals:  49    0.023386\n",
      "50    0.060798\n",
      "51    0.137276\n",
      "52    0.230986\n",
      "53    0.246733\n",
      "54    0.163244\n",
      "55    0.076788\n",
      "56    0.030322\n",
      "57    0.011133\n",
      "dtype: float64\n",
      " pixel_val:  53\n",
      "==== 0 2 1\n",
      "X_train[0 0 2 1 ] =  -0.6235294117647059  (48.0)\n",
      " m:  [-0.60468245] ([50.402985])\n",
      " E[m]:  -0.60468245 ([50.402985])\n",
      " invs:  [4.2994547]\n",
      " weights:  [1.]  ( [0.04751598] )\n",
      " pvals:  44    0.013776\n",
      "45    0.023614\n",
      "46    0.039343\n",
      "47    0.062544\n",
      "48    0.092375\n",
      "49    0.122607\n",
      "50    0.141546\n",
      "51    0.139334\n",
      "52    0.117218\n",
      "53    0.086267\n",
      "54    0.057440\n",
      "55    0.035739\n",
      "56    0.021307\n",
      "57    0.012381\n",
      "dtype: float64\n",
      " pixel_val:  51\n",
      "==== 0 2 2\n",
      "X_train[0 0 2 2 ] =  -0.6627450980392157  (43.0)\n",
      " m:  [-0.64004135] ([45.89473])\n",
      " E[m]:  -0.64004135 ([45.89473])\n",
      " invs:  [3.4820137]\n",
      " weights:  [1.]  ( [0.03880851] )\n",
      " pvals:  34    0.011193\n",
      "35    0.014066\n",
      "36    0.017548\n",
      "37    0.021696\n",
      "38    0.026527\n",
      "39    0.031997\n",
      "40    0.037967\n",
      "41    0.044187\n",
      "42    0.050280\n",
      "43    0.055766\n",
      "44    0.060122\n",
      "45    0.062869\n",
      "46    0.063676\n",
      "47    0.062444\n",
      "48    0.059324\n",
      "49    0.054687\n",
      "50    0.049030\n",
      "51    0.042874\n",
      "52    0.036679\n",
      "53    0.030797\n",
      "54    0.025454\n",
      "55    0.020766\n",
      "56    0.016761\n",
      "57    0.013413\n",
      "58    0.010660\n",
      "dtype: float64\n",
      " pixel_val:  30\n",
      "==== 0 3 0\n",
      "X_train[0 0 3 0 ] =  -0.4666666666666667  (68.0)\n",
      " m:  [-0.45191687] ([69.8806])\n",
      " E[m]:  -0.45191687 ([69.8806])\n",
      " invs:  [5.1224113]\n",
      " weights:  [1.]  ( [0.03955861] )\n",
      " pvals:  67    0.030237\n",
      "68    0.098066\n",
      "69    0.237494\n",
      "70    0.315774\n",
      "71    0.200680\n",
      "72    0.075282\n",
      "73    0.022407\n",
      "dtype: float64\n",
      " pixel_val:  72\n",
      "==== 0 3 1\n",
      "X_train[0 0 3 1 ] =  -0.5764705882352941  (54.0)\n",
      " m:  [-0.560968] ([55.976585])\n",
      " E[m]:  -0.560968 ([55.976585])\n",
      " invs:  [4.4653873]\n",
      " weights:  [1.]  ( [0.03598208] )\n",
      " pvals:  50    0.011390\n",
      "51    0.021771\n",
      "52    0.040322\n",
      "53    0.070494\n",
      "54    0.111657\n",
      "55    0.151887\n",
      "56    0.168854\n",
      "57    0.150343\n",
      "58    0.109601\n",
      "59    0.068799\n",
      "60    0.039215\n",
      "61    0.021132\n",
      "62    0.011044\n",
      "dtype: float64\n",
      " pixel_val:  58\n",
      "==== 0 3 2\n",
      "X_train[0 0 3 2 ] =  -0.6705882352941176  (42.0)\n",
      " m:  [-0.648737] ([44.786034])\n",
      " E[m]:  -0.648737 ([44.786034])\n",
      " invs:  [3.5318718]\n",
      " weights:  [1.]  ( [0.03536526] )\n",
      " pvals:  33    0.010490\n",
      "34    0.013376\n",
      "35    0.016934\n",
      "36    0.021243\n",
      "37    0.026344\n",
      "38    0.032210\n",
      "39    0.038706\n",
      "40    0.045554\n",
      "41    0.052321\n",
      "42    0.058434\n",
      "43    0.063254\n",
      "44    0.066200\n",
      "45    0.066879\n",
      "46    0.065200\n",
      "47    0.061390\n",
      "48    0.055938\n",
      "49    0.049470\n",
      "50    0.042605\n",
      "51    0.035863\n",
      "52    0.029612\n",
      "53    0.024064\n",
      "54    0.019303\n",
      "55    0.015324\n",
      "56    0.012064\n",
      "dtype: float64\n",
      " pixel_val:  52\n",
      "row 0\n",
      "==== 1 0 0\n",
      "X_train[0 1 0 0 ] =  -0.8745098039215686  (16.0)\n",
      " m:  [-0.84382296] ([19.912575])\n",
      " E[m]:  -0.84382296 ([19.912575])\n",
      " invs:  [4.4599752]\n",
      " weights:  [1.]  ( [0.06822731] )\n",
      " pvals:  14    0.012063\n",
      "15    0.022929\n",
      "16    0.042166\n",
      "17    0.073039\n",
      "18    0.114300\n",
      "19    0.153243\n",
      "20    0.167827\n",
      "21    0.147564\n",
      "22    0.106709\n",
      "23    0.066745\n",
      "24    0.038034\n",
      "25    0.020531\n",
      "26    0.010759\n",
      "dtype: float64\n",
      " pixel_val:  20\n",
      "==== 1 0 1\n",
      "X_train[0 1 0 1 ] =  -0.8431372549019608  (20.0)\n",
      " m:  [-0.8108192] ([24.120552])\n",
      " E[m]:  -0.8108192 ([24.120552])\n",
      " invs:  [3.7964988]\n",
      " weights:  [1.]  ( [0.06838901] )\n",
      " pvals:  15    0.013365\n",
      "16    0.018332\n",
      "17    0.024820\n",
      "18    0.033022\n",
      "19    0.042922\n",
      "20    0.054134\n",
      "21    0.065737\n",
      "22    0.076253\n",
      "23    0.083890\n",
      "24    0.087082\n",
      "25    0.085111\n",
      "26    0.078426\n",
      "27    0.068438\n",
      "28    0.056943\n",
      "29    0.045530\n",
      "30    0.035260\n",
      "31    0.026637\n",
      "32    0.019748\n",
      "33    0.014437\n",
      "34    0.010447\n",
      "dtype: float64\n",
      " pixel_val:  33\n",
      "==== 1 0 2\n",
      "X_train[0 1 0 2 ] =  -0.8431372549019608  (20.0)\n",
      " m:  [-0.8119295] ([23.978989])\n",
      " E[m]:  -0.8119295 ([23.978989])\n",
      " invs:  [3.1782088]\n",
      " weights:  [1.]  ( [0.0560618] )\n",
      " pvals:  0     0.011888\n",
      "9     0.010005\n",
      "10    0.011799\n",
      "11    0.013854\n",
      "12    0.016182\n",
      "13    0.018786\n",
      "14    0.021655\n",
      "15    0.024759\n",
      "16    0.028045\n",
      "17    0.031432\n",
      "18    0.034815\n",
      "19    0.038060\n",
      "20    0.041016\n",
      "21    0.043525\n",
      "22    0.045439\n",
      "23    0.046635\n",
      "24    0.047031\n",
      "25    0.046600\n",
      "26    0.045373\n",
      "27    0.043431\n",
      "28    0.040900\n",
      "29    0.037928\n",
      "30    0.034675\n",
      "31    0.031289\n",
      "32    0.027904\n",
      "33    0.024624\n",
      "34    0.021529\n",
      "35    0.018671\n",
      "36    0.016079\n",
      "37    0.013763\n",
      "38    0.011719\n",
      "dtype: float64\n",
      " pixel_val:  17\n",
      "==== 1 1 0\n",
      "X_train[0 1 1 0 ] =  -1.0  (0.0)\n",
      " m:  [-1.1359799] ([-17.337433])\n",
      " E[m]:  -1.1359799 ([-17.337433])\n",
      " invs:  [4.057516]\n",
      " weights:  [1.]  ( [0.08958816] )\n",
      " pvals:  0    0.999684\n",
      "dtype: float64\n",
      " pixel_val:  0\n",
      "==== 1 1 1\n",
      "X_train[0 1 1 1 ] =  -1.0  (0.0)\n",
      " m:  [-1.1206125] ([-15.378098])\n",
      " E[m]:  -1.1206125 ([-15.378098])\n",
      " invs:  [3.446333]\n",
      " weights:  [1.]  ( [0.08593188] )\n",
      " pvals:  0    0.980315\n",
      "dtype: float64\n",
      " pixel_val:  0\n",
      "==== 1 1 2\n",
      "X_train[0 1 1 2 ] =  -1.0  (0.0)\n",
      " m:  [-1.2857397] ([-36.43181])\n",
      " E[m]:  -1.2857397 ([-36.43181])\n",
      " invs:  [3.0545506]\n",
      " weights:  [1.]  ( [0.09509165] )\n",
      " pvals:  0    0.997849\n",
      "dtype: float64\n",
      " pixel_val:  0\n",
      "==== 1 2 0\n",
      "X_train[0 1 2 0 ] =  -0.8588235294117647  (18.0)\n",
      " m:  [-0.82783735] ([21.950737])\n",
      " E[m]:  -0.82783735 ([21.950737])\n",
      " invs:  [4.4369392]\n",
      " weights:  [1.]  ( [0.06817137] )\n",
      " pvals:  16    0.012551\n",
      "17    0.023465\n",
      "18    0.042448\n",
      "19    0.072409\n",
      "20    0.111964\n",
      "21    0.149306\n",
      "22    0.164173\n",
      "23    0.146294\n",
      "24    0.107875\n",
      "25    0.068946\n",
      "26    0.040124\n",
      "27    0.022087\n",
      "28    0.011788\n",
      "dtype: float64\n",
      " pixel_val:  25\n",
      "==== 1 2 1\n",
      "X_train[0 1 2 1 ] =  -0.9372549019607843  (8.0)\n",
      " m:  [-0.90740895] ([11.805359])\n",
      " E[m]:  -0.90740895 ([11.805359])\n",
      " invs:  [3.6660604]\n",
      " weights:  [1.]  ( [0.06614497] )\n",
      " pvals:  0     0.030273\n",
      "1     0.010422\n",
      "2     0.013808\n",
      "3     0.018138\n",
      "4     0.023560\n",
      "5     0.030160\n",
      "6     0.037897\n",
      "7     0.046521\n",
      "8     0.055499\n",
      "9     0.063997\n",
      "10    0.070966\n",
      "11    0.075363\n",
      "12    0.076444\n",
      "13    0.074015\n",
      "14    0.068505\n",
      "15    0.060810\n",
      "16    0.052009\n",
      "17    0.043086\n",
      "18    0.034761\n",
      "19    0.027450\n",
      "20    0.021312\n",
      "21    0.016330\n",
      "22    0.012386\n",
      "dtype: float64\n",
      " pixel_val:  12\n",
      "==== 1 2 2\n",
      "X_train[0 1 2 2 ] =  -1.0  (0.0)\n",
      " m:  [-1.1227468] ([-15.650223])\n",
      " E[m]:  -1.1227468 ([-15.650223])\n",
      " invs:  [3.0929303]\n",
      " weights:  [1.]  ( [0.0758165] )\n",
      " pvals:  0    0.942231\n",
      "dtype: float64\n",
      " pixel_val:  0\n"
     ]
    },
    {
     "name": "stdout",
     "output_type": "stream",
     "text": [
      "==== 1 3 0\n",
      "X_train[0 1 3 0 ] =  -0.6  (51.0)\n",
      " m:  [-0.57135534] ([54.65219])\n",
      " E[m]:  -0.57135534 ([54.65219])\n",
      " invs:  [4.8471327]\n",
      " weights:  [1.]  ( [0.04866902] )\n",
      " pvals:  51    0.025578\n",
      "52    0.063196\n",
      "53    0.135970\n",
      "54    0.221764\n",
      "55    0.237867\n",
      "56    0.163722\n",
      "57    0.081404\n",
      "58    0.033981\n",
      "59    0.013137\n",
      "dtype: float64\n",
      " pixel_val:  56\n",
      "==== 1 3 1\n",
      "X_train[0 1 3 1 ] =  -0.788235294117647  (27.0)\n",
      " m:  [-0.75253594] ([31.551666])\n",
      " E[m]:  -0.75253594 ([31.551666])\n",
      " invs:  [3.9822516]\n",
      " weights:  [1.]  ( [0.04845607] )\n",
      " pvals:  23    0.010984\n",
      "24    0.016263\n",
      "25    0.023745\n",
      "26    0.033969\n",
      "27    0.047206\n",
      "28    0.063023\n",
      "29    0.079785\n",
      "30    0.094473\n",
      "31    0.103402\n",
      "32    0.103868\n",
      "33    0.095723\n",
      "34    0.081460\n",
      "35    0.064753\n",
      "36    0.048737\n",
      "37    0.035197\n",
      "38    0.024666\n",
      "39    0.016924\n",
      "40    0.011445\n",
      "dtype: float64\n",
      " pixel_val:  37\n",
      "==== 1 3 2\n",
      "X_train[0 1 3 2 ] =  -0.9372549019607843  (8.0)\n",
      " m:  [-0.8962574] ([13.2271805])\n",
      " E[m]:  -0.8962574 ([13.2271805])\n",
      " invs:  [3.1863227]\n",
      " weights:  [1.]  ( [0.0440815] )\n",
      " pvals:  0     0.081990\n",
      "1     0.015466\n",
      "2     0.018017\n",
      "3     0.020845\n",
      "4     0.023926\n",
      "5     0.027213\n",
      "6     0.030635\n",
      "7     0.034087\n",
      "8     0.037442\n",
      "9     0.040546\n",
      "10    0.043239\n",
      "11    0.045361\n",
      "12    0.046778\n",
      "13    0.047392\n",
      "14    0.047160\n",
      "15    0.046099\n",
      "16    0.044283\n",
      "17    0.041831\n",
      "18    0.038893\n",
      "19    0.035632\n",
      "20    0.032207\n",
      "21    0.028757\n",
      "22    0.025398\n",
      "23    0.022215\n",
      "24    0.019268\n",
      "25    0.016590\n",
      "26    0.014194\n",
      "27    0.012079\n",
      "28    0.010232\n",
      "dtype: float64\n",
      " pixel_val:  24\n",
      "row 1\n",
      "==== 2 0 0\n",
      "X_train[0 2 0 0 ] =  -0.803921568627451  (25.0)\n",
      " m:  [-0.7738732] ([28.83117])\n",
      " E[m]:  -0.7738732 ([28.83117])\n",
      " invs:  [4.498104]\n",
      " weights:  [1.]  ( [0.06635582] )\n",
      " pvals:  23    0.011412\n",
      "24    0.022301\n",
      "25    0.042144\n",
      "26    0.074822\n",
      "27    0.119200\n",
      "28    0.160625\n",
      "29    0.173771\n",
      "30    0.148530\n",
      "31    0.103461\n",
      "32    0.062224\n",
      "33    0.034172\n",
      "34    0.017835\n",
      "dtype: float64\n",
      " pixel_val:  30\n",
      "==== 2 0 1\n",
      "X_train[0 2 0 1 ] =  -0.8117647058823529  (24.0)\n",
      " m:  [-0.7864517] ([27.22741])\n",
      " E[m]:  -0.7864517 ([27.22741])\n",
      " invs:  [3.6438916]\n",
      " weights:  [1.]  ( [0.07083706] )\n",
      " pvals:  17    0.012780\n",
      "18    0.016721\n",
      "19    0.021656\n",
      "20    0.027683\n",
      "21    0.034800\n",
      "22    0.042840\n",
      "23    0.051396\n",
      "24    0.059791\n",
      "25    0.067113\n",
      "26    0.072374\n",
      "27    0.074754\n",
      "28    0.073850\n",
      "29    0.069818\n",
      "30    0.063314\n",
      "31    0.055285\n",
      "32    0.046702\n",
      "33    0.038361\n",
      "34    0.030790\n",
      "35    0.024259\n",
      "36    0.018835\n",
      "37    0.014457\n",
      "38    0.011001\n",
      "dtype: float64\n",
      " pixel_val:  26\n",
      "==== 2 0 2\n",
      "X_train[0 2 0 2 ] =  -0.8352941176470589  (21.0)\n",
      " m:  [-0.8053871] ([24.813148])\n",
      " E[m]:  -0.8053871 ([24.813148])\n",
      " invs:  [3.082739]\n",
      " weights:  [1.]  ( [0.04864192] )\n",
      " pvals:  0     0.015360\n",
      "9     0.010053\n",
      "10    0.011654\n",
      "11    0.013457\n",
      "12    0.015466\n",
      "13    0.017682\n",
      "14    0.020093\n",
      "15    0.022677\n",
      "16    0.025394\n",
      "17    0.028190\n",
      "18    0.030995\n",
      "19    0.033718\n",
      "20    0.036261\n",
      "21    0.038515\n",
      "22    0.040374\n",
      "23    0.041743\n",
      "24    0.042548\n",
      "25    0.042743\n",
      "26    0.042317\n",
      "27    0.041294\n",
      "28    0.039732\n",
      "29    0.037713\n",
      "30    0.035339\n",
      "31    0.032716\n",
      "32    0.029951\n",
      "33    0.027140\n",
      "34    0.024366\n",
      "35    0.021693\n",
      "36    0.019171\n",
      "37    0.016830\n",
      "38    0.014691\n",
      "39    0.012759\n",
      "40    0.011033\n",
      "dtype: float64\n",
      " pixel_val:  24\n",
      "==== 2 1 0\n",
      "X_train[0 2 1 0 ] =  -0.8745098039215686  (16.0)\n",
      " m:  [-0.8361908] ([20.885674])\n",
      " E[m]:  -0.8361908 ([20.885674])\n",
      " invs:  [4.418316]\n",
      " weights:  [1.]  ( [0.068712] )\n",
      " pvals:  15    0.013748\n",
      "16    0.025306\n",
      "17    0.044993\n",
      "18    0.075272\n",
      "19    0.113959\n",
      "20    0.148865\n",
      "21    0.161022\n",
      "22    0.142223\n",
      "23    0.104821\n",
      "24    0.067399\n",
      "25    0.039613\n",
      "26    0.022062\n",
      "27    0.011921\n",
      "dtype: float64\n",
      " pixel_val:  20\n",
      "==== 2 1 1\n",
      "X_train[0 2 1 1 ] =  -0.9450980392156862  (7.0)\n",
      " m:  [-0.90996486] ([11.479477])\n",
      " E[m]:  -0.90996486 ([11.479477])\n",
      " invs:  [3.5579624]\n",
      " weights:  [1.]  ( [0.06340449] )\n",
      " pvals:  0     0.046447\n",
      "1     0.013829\n",
      "2     0.017610\n",
      "3     0.022207\n",
      "4     0.027661\n",
      "5     0.033932\n",
      "6     0.040852\n",
      "7     0.048087\n",
      "8     0.055127\n",
      "9     0.061313\n",
      "10    0.065940\n",
      "11    0.068401\n",
      "12    0.068348\n",
      "13    0.065789\n",
      "14    0.061085\n",
      "15    0.054850\n",
      "16    0.047790\n",
      "17    0.040559\n",
      "18    0.033660\n",
      "19    0.027421\n",
      "20    0.022001\n",
      "21    0.017439\n",
      "22    0.013690\n",
      "23    0.010665\n",
      "dtype: float64\n",
      " pixel_val:  10\n",
      "==== 2 1 2\n",
      "X_train[0 2 1 2 ] =  -1.0  (0.0)\n",
      " m:  [-1.1245514] ([-15.88031])\n",
      " E[m]:  -1.1245514 ([-15.88031])\n",
      " invs:  [3.05355]\n",
      " weights:  [1.]  ( [0.07942032] )\n",
      " pvals:  0    0.938326\n",
      "dtype: float64\n",
      " pixel_val:  0\n",
      "==== 2 2 0\n",
      "X_train[0 2 2 0 ] =  -0.615686274509804  (49.0)\n",
      " m:  [-0.58801484] ([52.528107])\n",
      " E[m]:  -0.58801484 ([52.528107])\n",
      " invs:  [4.84708]\n",
      " weights:  [1.]  ( [0.05017414] )\n",
      " pvals:  48    0.011026\n",
      "49    0.028742\n",
      "50    0.070188\n",
      "51    0.147157\n",
      "52    0.229321\n",
      "53    0.232313\n",
      "54    0.152297\n",
      "55    0.073549\n",
      "56    0.030290\n",
      "57    0.011647\n",
      "dtype: float64\n",
      " pixel_val:  56\n",
      "==== 2 2 1\n",
      "X_train[0 2 2 1 ] =  -0.788235294117647  (27.0)\n",
      " m:  [-0.7495089] ([31.937614])\n",
      " E[m]:  -0.7495089 ([31.937614])\n",
      " invs:  [3.8814962]\n",
      " weights:  [1.]  ( [0.04610798] )\n",
      " pvals:  23    0.011950\n",
      "24    0.016962\n",
      "25    0.023761\n",
      "26    0.032680\n",
      "27    0.043832\n",
      "28    0.056846\n",
      "29    0.070599\n",
      "30    0.083106\n",
      "31    0.091879\n",
      "32    0.094792\n",
      "33    0.091070\n",
      "34    0.081697\n",
      "35    0.068903\n",
      "36    0.055151\n",
      "37    0.042325\n",
      "38    0.031444\n",
      "39    0.022802\n",
      "40    0.016247\n",
      "41    0.011431\n",
      "dtype: float64\n",
      " pixel_val:  32\n",
      "==== 2 2 2\n",
      "X_train[0 2 2 2 ] =  -0.9372549019607843  (8.0)\n",
      " m:  [-0.89910716] ([12.863838])\n",
      " E[m]:  -0.89910716 ([12.863838])\n",
      " invs:  [3.114746]\n",
      " weights:  [1.]  ( [0.04636269] )\n",
      " pvals:  0     0.101146\n",
      "1     0.017233\n",
      "2     0.019718\n",
      "3     0.022405\n",
      "4     0.025257\n",
      "5     0.028218\n",
      "6     0.031214\n",
      "7     0.034149\n",
      "8     0.036912\n",
      "9     0.039382\n",
      "10    0.041439\n",
      "11    0.042970\n",
      "12    0.043887\n",
      "13    0.044136\n",
      "14    0.043702\n",
      "15    0.042610\n",
      "16    0.040926\n",
      "17    0.038746\n",
      "18    0.036183\n",
      "19    0.033361\n",
      "20    0.030399\n",
      "21    0.027404\n",
      "22    0.024466\n",
      "23    0.021655\n",
      "24    0.019021\n",
      "25    0.016594\n",
      "26    0.014393\n",
      "27    0.012420\n",
      "28    0.010670\n",
      "dtype: float64\n",
      " pixel_val:  15\n",
      "==== 2 3 0\n",
      "X_train[0 2 3 0 ] =  -0.34901960784313724  (83.0)\n",
      " m:  [-0.32792374] ([85.68973])\n",
      " E[m]:  -0.32792374 ([85.68973])\n",
      " invs:  [5.368005]\n",
      " weights:  [1.]  ( [0.03124604] )\n",
      " pvals:  83    0.019878\n",
      "84    0.094569\n",
      "85    0.301790\n",
      "86    0.375304\n",
      "87    0.158340\n",
      "88    0.036671\n",
      "dtype: float64\n",
      " pixel_val:  84\n",
      "==== 2 3 1\n",
      "X_train[0 2 3 1 ] =  -0.6078431372549019  (50.0)\n",
      " m:  [-0.5790422] ([53.67212])\n",
      " E[m]:  -0.5790422 ([53.67212])\n",
      " invs:  [4.3788567]\n",
      " weights:  [1.]  ( [0.02834596] )\n",
      " pvals:  48    0.017246\n",
      "49    0.030658\n",
      "50    0.052359\n",
      "51    0.083582\n",
      "52    0.120039\n",
      "53    0.148600\n",
      "54    0.153522\n",
      "55    0.131644\n",
      "56    0.096020\n",
      "57    0.062083\n",
      "58    0.037070\n",
      "59    0.021092\n",
      "60    0.011672\n",
      "dtype: float64\n",
      " pixel_val:  58\n",
      "==== 2 3 2\n",
      "X_train[0 2 3 2 ] =  -0.8196078431372549  (23.0)\n",
      " m:  [-0.7736622] ([28.85807])\n",
      " E[m]:  -0.7736622 ([28.85807])\n",
      " invs:  [3.2659965]\n",
      " weights:  [1.]  ( [0.02683373] )\n",
      " pvals:  15    0.010653\n",
      "16    0.012761\n",
      "17    0.015207\n",
      "18    0.018007\n",
      "19    0.021166\n",
      "20    0.024663\n",
      "21    0.028447\n",
      "22    0.032429\n",
      "23    0.036480\n",
      "24    0.040426\n",
      "25    0.044061\n",
      "26    0.047163\n",
      "27    0.049516\n",
      "28    0.050943\n",
      "29    0.051328\n",
      "30    0.050640\n",
      "31    0.048936\n",
      "32    0.046349\n",
      "33    0.043073\n",
      "34    0.039328\n",
      "35    0.035333\n",
      "36    0.031286\n",
      "37    0.027348\n",
      "38    0.023638\n",
      "39    0.020234\n",
      "40    0.017176\n",
      "41    0.014477\n",
      "42    0.012130\n",
      "43    0.010112\n",
      "dtype: float64\n",
      " pixel_val:  31\n",
      "row 2\n",
      "==== 3 0 0\n",
      "X_train[0 3 0 0 ] =  -0.7411764705882353  (33.0)\n",
      " m:  [-0.7080672] ([37.221436])\n",
      " E[m]:  -0.7080672 ([37.221436])\n",
      " invs:  [4.573223]\n",
      " weights:  [1.]  ( [0.06113415] )\n",
      " pvals:  32    0.014156\n",
      "33    0.028937\n",
      "34    0.056428\n",
      "35    0.100561\n",
      "36    0.153445\n",
      "37    0.186386\n",
      "38    0.172663\n",
      "39    0.124157\n",
      "40    0.073948\n",
      "41    0.039203\n",
      "42    0.019506\n",
      "dtype: float64\n",
      " pixel_val:  39\n",
      "==== 3 0 1\n",
      "X_train[0 3 0 1 ] =  -0.803921568627451  (25.0)\n",
      " m:  [-0.77111083] ([29.183372])\n",
      " E[m]:  -0.77111083 ([29.183372])\n",
      " invs:  [3.6126297]\n",
      " weights:  [1.]  ( [0.06696078] )\n",
      " pvals:  18    0.010465\n",
      "19    0.013647\n",
      "20    0.017654\n",
      "21    0.022603\n",
      "22    0.028557\n",
      "23    0.035483\n",
      "24    0.043186\n",
      "25    0.051255\n",
      "26    0.059047\n",
      "27    0.065736\n",
      "28    0.070451\n",
      "29    0.072494\n",
      "30    0.071538\n",
      "31    0.067737\n",
      "32    0.061675\n",
      "33    0.054185\n",
      "34    0.046131\n",
      "35    0.038234\n",
      "36    0.030991\n",
      "37    0.024669\n",
      "38    0.019355\n",
      "39    0.015014\n",
      "40    0.011545\n",
      "dtype: float64\n",
      " pixel_val:  33\n"
     ]
    },
    {
     "name": "stdout",
     "output_type": "stream",
     "text": [
      "==== 3 0 2\n",
      "X_train[0 3 0 2 ] =  -0.8666666666666667  (17.0)\n",
      " m:  [-0.8241736] ([22.417862])\n",
      " E[m]:  -0.8241736 ([22.417862])\n",
      " invs:  [3.0564246]\n",
      " weights:  [1.]  ( [0.04682405] )\n",
      " pvals:  0     0.025253\n",
      "7     0.011017\n",
      "8     0.012685\n",
      "9     0.014543\n",
      "10    0.016594\n",
      "11    0.018828\n",
      "12    0.021230\n",
      "13    0.023769\n",
      "14    0.026401\n",
      "15    0.029068\n",
      "16    0.031696\n",
      "17    0.034199\n",
      "18    0.036481\n",
      "19    0.038446\n",
      "20    0.040002\n",
      "21    0.041070\n",
      "22    0.041595\n",
      "23    0.041547\n",
      "24    0.040930\n",
      "25    0.039778\n",
      "26    0.038149\n",
      "27    0.036125\n",
      "28    0.033800\n",
      "29    0.031271\n",
      "30    0.028631\n",
      "31    0.025965\n",
      "32    0.023344\n",
      "33    0.020825\n",
      "34    0.018449\n",
      "35    0.016244\n",
      "36    0.014225\n",
      "37    0.012398\n",
      "38    0.010761\n",
      "dtype: float64\n",
      " pixel_val:  24\n",
      "==== 3 1 0\n",
      "X_train[0 3 1 0 ] =  -0.7019607843137254  (38.0)\n",
      " m:  [-0.66185445] ([43.113556])\n",
      " E[m]:  -0.66185445 ([43.113556])\n",
      " invs:  [4.6833014]\n",
      " weights:  [1.]  ( [0.0552068] )\n",
      " pvals:  38    0.011110\n",
      "39    0.024998\n",
      "40    0.053688\n",
      "41    0.104596\n",
      "42    0.169892\n",
      "43    0.208428\n",
      "44    0.182980\n",
      "45    0.119088\n",
      "46    0.063162\n",
      "47    0.029899\n",
      "48    0.013390\n",
      "dtype: float64\n",
      " pixel_val:  45\n",
      "==== 3 1 1\n",
      "X_train[0 3 1 1 ] =  -0.8431372549019608  (20.0)\n",
      " m:  [-0.7985351] ([25.686775])\n",
      " E[m]:  -0.7985351 ([25.686775])\n",
      " invs:  [3.6970222]\n",
      " weights:  [1.]  ( [0.05444274] )\n",
      " pvals:  15    0.010104\n",
      "16    0.013526\n",
      "17    0.017951\n",
      "18    0.023551\n",
      "19    0.030437\n",
      "20    0.038581\n",
      "21    0.047720\n",
      "22    0.057267\n",
      "23    0.066282\n",
      "24    0.073580\n",
      "25    0.077990\n",
      "26    0.078715\n",
      "27    0.075619\n",
      "28    0.069276\n",
      "29    0.060757\n",
      "30    0.051282\n",
      "31    0.041902\n",
      "32    0.033340\n",
      "33    0.025970\n",
      "34    0.019897\n",
      "35    0.015052\n",
      "36    0.011277\n",
      "dtype: float64\n",
      " pixel_val:  31\n",
      "==== 3 1 2\n",
      "X_train[0 3 1 2 ] =  -0.9686274509803922  (4.0)\n",
      " m:  [-0.9142825] ([10.928978])\n",
      " E[m]:  -0.9142825 ([10.928978])\n",
      " invs:  [3.065672]\n",
      " weights:  [1.]  ( [0.04968276] )\n",
      " pvals:  0     0.147488\n",
      "1     0.022429\n",
      "2     0.025060\n",
      "3     0.027764\n",
      "4     0.030474\n",
      "5     0.033107\n",
      "6     0.035570\n",
      "7     0.037762\n",
      "8     0.039584\n",
      "9     0.040946\n",
      "10    0.041776\n",
      "11    0.042030\n",
      "12    0.041693\n",
      "13    0.040783\n",
      "14    0.039351\n",
      "15    0.037471\n",
      "16    0.035235\n",
      "17    0.032742\n",
      "18    0.030092\n",
      "19    0.027378\n",
      "20    0.024680\n",
      "21    0.022065\n",
      "22    0.019580\n",
      "23    0.017261\n",
      "24    0.015128\n",
      "25    0.013192\n",
      "26    0.011452\n",
      "dtype: float64\n",
      " pixel_val:  0\n",
      "==== 3 2 0\n",
      "X_train[0 3 2 0 ] =  -0.3176470588235294  (87.0)\n",
      " m:  [-0.29957914] ([89.30366])\n",
      " E[m]:  -0.29957914 ([89.30366])\n",
      " invs:  [5.4292383]\n",
      " weights:  [1.]  ( [0.02991629] )\n",
      " pvals:  87    0.031628\n",
      "88    0.153777\n",
      "89    0.394858\n",
      "90    0.307768\n",
      "91    0.086033\n",
      "92    0.016034\n",
      "dtype: float64\n",
      " pixel_val:  91\n",
      "==== 3 2 1\n",
      "X_train[0 3 2 1 ] =  -0.5764705882352941  (54.0)\n",
      " m:  [-0.54808766] ([57.61882])\n",
      " E[m]:  -0.54808766 ([57.61882])\n",
      " invs:  [4.348793]\n",
      " weights:  [1.]  ( [0.02503488] )\n",
      " pvals:  51    0.010689\n",
      "52    0.019021\n",
      "53    0.033039\n",
      "54    0.055042\n",
      "55    0.085620\n",
      "56    0.119940\n",
      "57    0.145506\n",
      "58    0.148628\n",
      "59    0.127395\n",
      "60    0.093785\n",
      "61    0.061592\n",
      "62    0.037473\n",
      "63    0.021747\n",
      "64    0.012277\n",
      "dtype: float64\n",
      " pixel_val:  62\n",
      "==== 3 2 2\n",
      "X_train[0 3 2 2 ] =  -0.803921568627451  (25.0)\n",
      " m:  [-0.75824296] ([30.82402])\n",
      " E[m]:  -0.75824296 ([30.82402])\n",
      " invs:  [3.198742]\n",
      " weights:  [1.]  ( [0.03201795] )\n",
      " pvals:  17    0.011788\n",
      "18    0.013896\n",
      "19    0.016292\n",
      "20    0.018982\n",
      "21    0.021956\n",
      "22    0.025181\n",
      "23    0.028601\n",
      "24    0.032131\n",
      "25    0.035653\n",
      "26    0.039024\n",
      "27    0.042078\n",
      "28    0.044644\n",
      "29    0.046563\n",
      "30    0.047706\n",
      "31    0.047991\n",
      "32    0.047399\n",
      "33    0.045971\n",
      "34    0.043807\n",
      "35    0.041050\n",
      "36    0.037865\n",
      "37    0.034423\n",
      "38    0.030883\n",
      "39    0.027380\n",
      "40    0.024020\n",
      "41    0.020878\n",
      "42    0.018002\n",
      "43    0.015415\n",
      "44    0.013122\n",
      "45    0.011113\n",
      "dtype: float64\n",
      " pixel_val:  37\n",
      "==== 3 3 0\n",
      "X_train[0 3 3 0 ] =  -0.16862745098039217  (106.0)\n",
      " m:  [-0.16220139] ([106.81932])\n",
      " E[m]:  -0.16220139 ([106.81932])\n",
      " invs:  [5.7448363]\n",
      " weights:  [1.]  ( [0.02222941] )\n",
      " pvals:  105    0.034510\n",
      "106    0.275814\n",
      "107    0.527690\n",
      "108    0.142614\n",
      "109    0.014583\n",
      "dtype: float64\n",
      " pixel_val:  107\n",
      "==== 3 3 1\n",
      "X_train[0 3 3 1 ] =  -0.5058823529411764  (63.0)\n",
      " m:  [-0.48142764] ([66.11798])\n",
      " E[m]:  -0.48142764 ([66.11798])\n",
      " invs:  [4.7530775]\n",
      " weights:  [1.]  ( [0.01640731] )\n",
      " pvals:  62    0.021133\n",
      "63    0.048745\n",
      "64    0.102084\n",
      "65    0.176348\n",
      "66    0.222885\n",
      "67    0.192476\n",
      "68    0.118697\n",
      "69    0.058706\n",
      "70    0.025875\n",
      "71    0.010823\n",
      "dtype: float64\n",
      " pixel_val:  67\n",
      "==== 3 3 2\n",
      "X_train[0 3 3 2 ] =  -0.7803921568627451  (28.0)\n",
      " m:  [-0.7350636] ([33.77939])\n",
      " E[m]:  -0.7350636 ([33.77939])\n",
      " invs:  [3.3404093]\n",
      " weights:  [1.]  ( [0.03125846] )\n",
      " pvals:  21    0.011671\n",
      "22    0.014168\n",
      "23    0.017090\n",
      "24    0.020459\n",
      "25    0.024271\n",
      "26    0.028483\n",
      "27    0.033008\n",
      "28    0.037695\n",
      "29    0.042336\n",
      "30    0.046666\n",
      "31    0.050389\n",
      "32    0.053212\n",
      "33    0.054889\n",
      "34    0.055264\n",
      "35    0.054303\n",
      "36    0.052095\n",
      "37    0.048840\n",
      "38    0.044812\n",
      "39    0.040310\n",
      "40    0.035619\n",
      "41    0.030981\n",
      "42    0.026580\n",
      "43    0.022536\n",
      "44    0.018917\n",
      "45    0.015746\n",
      "46    0.013016\n",
      "47    0.010696\n",
      "dtype: float64\n",
      " pixel_val:  29\n",
      "row 3\n"
     ]
    },
    {
     "data": {
      "image/png": "[encoded data removed]",
      "text/plain": [
       "<Figure size 432x288 with 1 Axes>"
      ]
     },
     "metadata": {},
     "output_type": "display_data"
    },
    {
     "data": {
      "image/png": "[encoded data removed]",
      "text/plain": [
       "<Figure size 864x864 with 1 Axes>"
      ]
     },
     "metadata": {},
     "output_type": "display_data"
    },
    {
     "name": "stdout",
     "output_type": "stream",
     "text": [
      "Elapsed:  16.426818132400513\n"
     ]
    }
   ],
   "source": [
    "debug = True\n",
    "\n",
    "def gen_image(model, num_samples=batch_size):\n",
    "    x_sample = np.zeros((num_samples, img_rows, img_cols, img_chns))\n",
    "    \n",
    "    # Iteratively generate each conditional pixel P(x_i | x_{1,..,i-1})\n",
    "    for i in range(img_rows):\n",
    "        for j in range(img_cols):\n",
    "            for k in range(img_chns):\n",
    "                # =======================================================\n",
    "                #x_out = model.predict(X_train, num_samples)\n",
    "                x_out = model.predict(x_sample, num_samples)\n",
    "                for n in range(num_samples):\n",
    "                    offset = k * mixture_components\n",
    "                    x_ms = x_out[n, i, j, offset:offset + mixture_components]\n",
    "                    offset = mixture_components * img_chns + k * mixture_components\n",
    "\n",
    "                    x_invs = x_out[n, i, j, offset:offset + mixture_components]\n",
    "                    offset = 2 * mixture_components * img_chns + k * mixture_components\n",
    "                    weights = softmax(x_out[n, i, j, offset:offset + mixture_components])\n",
    "                    pvals = compute_mixture(x_ms, x_invs, weights, mixture_components)\n",
    "                    pvals /= (np.sum(pvals) + 1e-5)\n",
    "                    pixel_val = np.argmax(np.random.multinomial(1, pvals))\n",
    "                    x_sample[n, i, j, k] = (pixel_val - 127.5) / 127.5\n",
    "                    if 0 <= i <= 3 and 0 <= j <= 3 and debug:\n",
    "                        print(\"====\", i, j, k)\n",
    "                        print(\"X_train[0\", i, j, k, \"] = \", X_train[0, i, j, k], \n",
    "                              \" (%s)\" % (X_train[0, i, j, k] * 127.5 + 127.5))\n",
    "                        print(\" m: \", x_ms, \"(%s)\" % (x_ms * 127.5 + 127.5))\n",
    "                        print(\" E[m]: \", (x_ms * weights).sum(), \"(%s)\" % (x_ms * 127.5 + 127.5))\n",
    "                        print(\" invs: \", x_invs)\n",
    "                        print(\" weights: \", weights, \" (\", x_out[n, i, j, offset:offset + mixture_components] ,\")\")\n",
    "                        s = pd.Series(pvals)\n",
    "                        print(\" pvals: \", s[s>1e-2])\n",
    "                        print(\" pixel_val: \", pixel_val)\n",
    "                        samples = pd.Series(np.random.choice(len(pvals), 1000, p=pvals / pvals.sum()))\n",
    "                        samples.hist(bins=128, alpha=0.5, label='generated')\n",
    "                        #print(\"====\", i, j, k)\n",
    "                        #print(\" m: \", x_ms)\n",
    "                        #print(\" invs: \", x_invs)\n",
    "                        #print(\" weights: \", weights)\n",
    "                        #print(\" pixel_val: \", pixel_val)\n",
    "                        #print(\" x_out[n, i, j, :]: \", x_out[n, i, j, :])\n",
    "                        #print(\" x_out: \", x_out)\n",
    "                        #print(\" sample_val: \", x_sample[n, i, j, k])\n",
    "                        #print(\" pvals: \", pvals)\n",
    "        if debug:\n",
    "            print(\"row\", i)\n",
    "        \n",
    "                \n",
    "    return (x_sample * 127.5 + 127.5)\n",
    "\n",
    "\n",
    "start = time.time()\n",
    "\n",
    "n = 1 if debug else 10\n",
    "figure = np.zeros((img_rows * ((n - 1) // 10 + 1), img_cols * 10, img_chns))\n",
    "print(figure.shape)\n",
    "# num_samples = batch_size\n",
    "num_samples = 1\n",
    "for i in range(1):\n",
    "    samples = gen_image(model, num_samples=num_samples)\n",
    "    for j in range(num_samples):\n",
    "        img = samples[j] / 255.\n",
    "        d_x = ((i * batch_size + j) // 10) * img_rows\n",
    "        d_y = ((i * batch_size + j) % 10) * img_cols\n",
    "        figure[d_x:d_x + img_rows, d_y:d_y + img_cols, :] = img\n",
    "        \n",
    "plt.figure(figsize=(12, 12))\n",
    "plt.imshow(figure)\n",
    "plt.show()\n",
    "\n",
    "done = time.time()\n",
    "elapsed = done - start\n",
    "print(\"Elapsed: \", elapsed)"
   ]
  },
  {
   "cell_type": "code",
   "execution_count": 149,
   "metadata": {
    "ExecuteTime": {
     "end_time": "2019-05-28T12:59:49.318748Z",
     "start_time": "2019-05-28T12:59:49.316900Z"
    }
   },
   "outputs": [],
   "source": [
    "#display(X_train[0] * 127.5 + 127.5)\n",
    "#display(samples[0])"
   ]
  },
  {
   "cell_type": "code",
   "execution_count": 150,
   "metadata": {
    "ExecuteTime": {
     "end_time": "2019-05-28T12:59:49.591922Z",
     "start_time": "2019-05-28T12:59:49.320228Z"
    }
   },
   "outputs": [
    {
     "data": {
      "image/png": "[encoded data removed]",
      "text/plain": [
       "<Figure size 144x144 with 1 Axes>"
      ]
     },
     "metadata": {},
     "output_type": "display_data"
    },
    {
     "data": {
      "image/png": "[encoded data removed]",
      "text/plain": [
       "<Figure size 864x864 with 1 Axes>"
      ]
     },
     "metadata": {},
     "output_type": "display_data"
    }
   ],
   "source": [
    "plt.figure(figsize=(2, 2))\n",
    "plt.imshow((X_train[0] * 127.5 + 127.5) / 255.)\n",
    "plt.show()\n",
    "\n",
    "plt.figure(figsize=(12, 12))\n",
    "plt.imshow(figure)\n",
    "plt.show()"
   ]
  },
  {
   "cell_type": "markdown",
   "metadata": {},
   "source": [
    "# 2019-05-28\n",
    "\n",
    "* Trying the full architecture on larger and larger sizes of a single image.\n",
    "* The results look promising!\n",
    "* Training Notes:\n",
    "  * You have to leave it training longer on a smaller learning rate `0.0005`, just use early stopping\n",
    "  * `Adam` seems to converge faster than `RMSprop`\n",
    "  * Have to use some ResNet blocks or else don't have enough expressiveness!\n",
    "  * Having under-trained it a bit, it seems to follow my previous intuition: it gets the `m` in the general vicinity first, then with some more training will move towards larger `invs` values (tighter distributions)\n",
    "* Here are some of the examples so far on 4x4 image segment:\n",
    "  \n",
    "              (4, 40, 3)\n",
    "            ==== 0 0 0\n",
    "            X_train[0 0 0 0 ] =  -0.5372549019607843  (59.0)\n",
    "             m:  [-0.5259871] ([60.436646])\n",
    "             E[m]:  -0.5259871 ([60.436646])\n",
    "             invs:  [5.061367]\n",
    "             weights:  [1.]  ( [0.04086556] )\n",
    "             pvals:  57    0.018117\n",
    "            58    0.057689\n",
    "            59    0.155393\n",
    "            60    0.280793\n",
    "            61    0.268938\n",
    "            62    0.139294\n",
    "            63    0.050107\n",
    "            64    0.015562\n",
    "            dtype: float64\n",
    "             pixel_val:  60\n",
    "            ==== 0 0 1\n",
    "            X_train[0 0 0 1 ] =  -0.5137254901960784  (62.0)\n",
    "             m:  [-0.50435984] ([63.194122])\n",
    "             E[m]:  -0.50435984 ([63.194122])\n",
    "             invs:  [4.621604]\n",
    "             weights:  [1.]  ( [0.03899233] )\n",
    "             pvals:  58    0.012582\n",
    "            59    0.026814\n",
    "            60    0.054557\n",
    "            61    0.101235\n",
    "            62    0.159318\n",
    "            63    0.195599\n",
    "            64    0.178408\n",
    "            65    0.123690\n",
    "            66    0.070359\n",
    "            67    0.035592\n",
    "            68    0.016939\n",
    "            dtype: float64\n",
    "             pixel_val:  64\n",
    "            ==== 0 0 2\n",
    "            X_train[0 0 0 2 ] =  -0.5058823529411764  (63.0)\n",
    "             m:  [-0.49411237] ([64.50067])\n",
    "             E[m]:  -0.49411237 ([64.50067])\n",
    "             invs:  [3.8368258]\n",
    "             weights:  [1.]  ( [0.03192425] )\n",
    "             pvals:  55    0.010837\n",
    "            56    0.015175\n",
    "            57    0.021013\n",
    "            58    0.028648\n",
    "            59    0.038243\n",
    "            60    0.049641\n",
    "            61    0.062141\n",
    "            62    0.074352\n",
    "            63    0.084302\n",
    "            64    0.089945\n",
    "            65    0.089949\n",
    "            66    0.084313\n",
    "            67    0.074367\n",
    "            68    0.062158\n",
    "            69    0.049657\n",
    "            70    0.038258\n",
    "            71    0.028660\n",
    "            72    0.021022\n",
    "            73    0.015182\n",
    "            74    0.010842\n",
    "            dtype: float64\n",
    "             pixel_val:  63\n",
    "            ==== 0 1 0\n",
    "            X_train[0 0 1 0 ] =  -0.6627450980392157  (43.0)\n",
    "             m:  [-0.6455063] ([45.197945])\n",
    "             E[m]:  -0.6455063 ([45.197945])\n",
    "             invs:  [4.824808]\n",
    "             weights:  [1.]  ( [0.04896531] )\n",
    "             pvals:  41    0.016215\n",
    "            42    0.040601\n",
    "            43    0.093048\n",
    "            44    0.175924\n",
    "            45    0.237396\n",
    "            46    0.207849\n",
    "            47    0.123470\n",
    "            48    0.057234\n",
    "            49    0.023468\n",
    "            dtype: float64\n",
    "             pixel_val:  46\n",
    "            ==== 0 1 1\n",
    "            X_train[0 0 1 1 ] =  -0.6392156862745098  (46.0)\n",
    "             m:  [-0.6224542] ([48.137085])\n",
    "             E[m]:  -0.6224542 ([48.137085])\n",
    "             invs:  [4.2934394]\n",
    "             weights:  [1.]  ( [0.04909106] )\n",
    "             pvals:  42    0.016153\n",
    "            43    0.027407\n",
    "            44    0.045007\n",
    "            45    0.070084\n",
    "            46    0.100585\n",
    "            47    0.128664\n",
    "            48    0.142369\n",
    "            49    0.134339\n",
    "            50    0.109004\n",
    "            51    0.078120\n",
    "            52    0.051142\n",
    "            53    0.031525\n",
    "            54    0.018717\n",
    "            55    0.010866\n",
    "            dtype: float64\n",
    "             pixel_val:  53\n",
    "            \n",
    "Original:           \n",
    "<img src=\"images/2019-05-28-image2.png\">\n",
    "\n",
    "Generated:           \n",
    "<img src=\"images/2019-05-28-image1.png\">"
   ]
  },
  {
   "cell_type": "code",
   "execution_count": null,
   "metadata": {},
   "outputs": [],
   "source": []
  }
 ],
 "metadata": {
  "celltoolbar": "Slideshow",
  "kernelspec": {
   "display_name": "Python 3",
   "language": "python",
   "name": "python3"
  },
  "language_info": {
   "codemirror_mode": {
    "name": "ipython",
    "version": 3
   },
   "file_extension": ".py",
   "mimetype": "text/x-python",
   "name": "python",
   "nbconvert_exporter": "python",
   "pygments_lexer": "ipython3",
   "version": "3.6.5"
  },
  "widgets": {
   "state": {
    "042d9353a5294a1cae93f8eb9e9a3c84": {
     "views": [
      {
       "cell_index": 12
      }
     ]
    },
    "05e25527c52843438585a66b7e9f443c": {
     "views": [
      {
       "cell_index": 12
      }
     ]
    },
    "06fdc638a3dc45a0a1e82f2b3c90c18d": {
     "views": [
      {
       "cell_index": 12
      }
     ]
    },
    "07f49ab2133c40a4a245e0a348843084": {
     "views": [
      {
       "cell_index": 12
      }
     ]
    },
    "12369f27c46c46f58c925a3d9749e65d": {
     "views": [
      {
       "cell_index": 12
      }
     ]
    },
    "16bcb109a6814007801cf814c76aa6d3": {
     "views": [
      {
       "cell_index": 12
      }
     ]
    },
    "1930a5477ce44850aaa99c20f3f7e542": {
     "views": [
      {
       "cell_index": 12
      }
     ]
    },
    "194b186d11d94c28afd8a01d9fd8ae1e": {
     "views": [
      {
       "cell_index": 12
      }
     ]
    },
    "1ccc61b6a278489eacb5735a740e79bf": {
     "views": [
      {
       "cell_index": 12
      }
     ]
    },
    "1d67ae6836244a81bff253e0426488ff": {
     "views": [
      {
       "cell_index": 12
      }
     ]
    },
    "213bd5ec7a124467b85e240c7bdcc819": {
     "views": [
      {
       "cell_index": 12
      }
     ]
    },
    "23c591bc3a7e4df5b0e21677e2869f27": {
     "views": [
      {
       "cell_index": 12
      }
     ]
    },
    "24382361c62a4bbc9741c2129be71810": {
     "views": [
      {
       "cell_index": 12
      }
     ]
    },
    "24419d69ef3347819fcc70448978bf05": {
     "views": [
      {
       "cell_index": 12
      }
     ]
    },
    "25ecd0ca842e43fcabc04a82fff2dac1": {
     "views": [
      {
       "cell_index": 12
      }
     ]
    },
    "26bab0144edd46609ddcdd6bfd65115f": {
     "views": [
      {
       "cell_index": 12
      }
     ]
    },
    "28707906c2344d00b07ee40c479121db": {
     "views": [
      {
       "cell_index": 12
      }
     ]
    },
    "287646592b8e41f2920e73c7e92d2ec0": {
     "views": [
      {
       "cell_index": 12
      }
     ]
    },
    "28a8916064514ce7912c103e7370ad47": {
     "views": [
      {
       "cell_index": 12
      }
     ]
    },
    "2a100dade8384007bf4abf580068cdc3": {
     "views": [
      {
       "cell_index": 12
      }
     ]
    },
    "2b28c9ea3e5b4950bdfcd897162bd56d": {
     "views": [
      {
       "cell_index": 12
      }
     ]
    },
    "2b5b08661aee4f9296e0878cb4ce041b": {
     "views": [
      {
       "cell_index": 12
      }
     ]
    },
    "2bd96fa1931842749cd9ba68345a4132": {
     "views": [
      {
       "cell_index": 12
      }
     ]
    },
    "32a97da73a594458a7080928d0aa12a4": {
     "views": [
      {
       "cell_index": 12
      }
     ]
    },
    "33a124f13a124b64bbca8a0a4a96999c": {
     "views": [
      {
       "cell_index": 12
      }
     ]
    },
    "3477d40608834aca90d0f57b44f7b3e7": {
     "views": [
      {
       "cell_index": 12
      }
     ]
    },
    "357ae9996a19410e98f131fc86e2c937": {
     "views": [
      {
       "cell_index": 12
      }
     ]
    },
    "3a1b2c52257843549c64aedde0be827c": {
     "views": [
      {
       "cell_index": 12
      }
     ]
    },
    "3a685442e38243f5a601d54d59c37fdd": {
     "views": [
      {
       "cell_index": 12
      }
     ]
    },
    "3ac750287e394cc281f1dc3487e94df6": {
     "views": [
      {
       "cell_index": 12
      }
     ]
    },
    "3afef162a0304210973a3797acf40cab": {
     "views": [
      {
       "cell_index": 12
      }
     ]
    },
    "3c47ecdd65c049cfa66eb21ad8fd933b": {
     "views": [
      {
       "cell_index": 12
      }
     ]
    },
    "40b3e13fb5ae4ceda47aa8542106d365": {
     "views": [
      {
       "cell_index": 12
      }
     ]
    },
    "439afcda2d4e4ce9af1ea7024a9bd0b5": {
     "views": [
      {
       "cell_index": 12
      }
     ]
    },
    "440c8e7f865840019dd96476fe5fe1bc": {
     "views": [
      {
       "cell_index": 12
      }
     ]
    },
    "4480a3d377a748c5bbd202d71b80b323": {
     "views": [
      {
       "cell_index": 12
      }
     ]
    },
    "4692e78886d942c982ddd2a97a55f649": {
     "views": [
      {
       "cell_index": 12
      }
     ]
    },
    "47282faa187746bb8339a4fb4ac58068": {
     "views": [
      {
       "cell_index": 12
      }
     ]
    },
    "4a1af9ac778a45d8baac52255b6aaac0": {
     "views": [
      {
       "cell_index": 12
      }
     ]
    },
    "4a7ca0764c1d4f4e8c818452e0faad22": {
     "views": [
      {
       "cell_index": 12
      }
     ]
    },
    "4f9ead92babf43a6a7c2dbe03bc199e1": {
     "views": [
      {
       "cell_index": 12
      }
     ]
    },
    "4fe4e6c7a7c04da0b82eedfee59f123c": {
     "views": [
      {
       "cell_index": 12
      }
     ]
    },
    "509696b56ebd4c078824720adfb9c882": {
     "views": [
      {
       "cell_index": 12
      }
     ]
    },
    "5288b8c03d57497384001bd545f9473a": {
     "views": [
      {
       "cell_index": 12
      }
     ]
    },
    "54c0486d9d194fd89a425f8bfe8abffd": {
     "views": [
      {
       "cell_index": 12
      }
     ]
    },
    "5591146f394445e9a7562bfbeba3b210": {
     "views": [
      {
       "cell_index": 12
      }
     ]
    },
    "569e07a8c03b417a8bec640521c1e8d8": {
     "views": [
      {
       "cell_index": 12
      }
     ]
    },
    "56d382118cbe49f09c5518839d1309ee": {
     "views": [
      {
       "cell_index": 12
      }
     ]
    },
    "58879c6ef3904577a0d0ca261361d888": {
     "views": [
      {
       "cell_index": 12
      }
     ]
    },
    "59de165a886a4dcd855ec33e4682bd2d": {
     "views": [
      {
       "cell_index": 12
      }
     ]
    },
    "5d835fe3d36c41d9b140f25c874e02e7": {
     "views": [
      {
       "cell_index": 12
      }
     ]
    },
    "5dcb1825f8f945509c1521456ec8802f": {
     "views": [
      {
       "cell_index": 12
      }
     ]
    },
    "5fc113b88db343038e6190f2e2e1df1e": {
     "views": [
      {
       "cell_index": 12
      }
     ]
    },
    "601e0344661243299a2a6d382458f93a": {
     "views": [
      {
       "cell_index": 12
      }
     ]
    },
    "6060d310a5e34896a7156115cc6c3b43": {
     "views": [
      {
       "cell_index": 12
      }
     ]
    },
    "607439f270cb405cad0280cd5bf035bf": {
     "views": [
      {
       "cell_index": 12
      }
     ]
    },
    "695d75c78b7148a4a7c84d57bed02c35": {
     "views": [
      {
       "cell_index": 12
      }
     ]
    },
    "6b76037650064c71afc1ef43cea3b884": {
     "views": [
      {
       "cell_index": 12
      }
     ]
    },
    "6ec89ae257604fa0a672b9c0042d1c53": {
     "views": [
      {
       "cell_index": 12
      }
     ]
    },
    "70dfa87054284e3d84cd08df8bfbf705": {
     "views": [
      {
       "cell_index": 12
      }
     ]
    },
    "70fefa448a124b56bec948f54c0fe1fc": {
     "views": [
      {
       "cell_index": 12
      }
     ]
    },
    "73deeee41eb04b1c9b5d12164159f500": {
     "views": [
      {
       "cell_index": 12
      }
     ]
    },
    "74df7b1ee69449e6a6733da633e4c583": {
     "views": [
      {
       "cell_index": 12
      }
     ]
    },
    "75c980fe55484a15b5fadf86960e6984": {
     "views": [
      {
       "cell_index": 12
      }
     ]
    },
    "770dfa1b77ed46258fd936b4a5b002f7": {
     "views": [
      {
       "cell_index": 12
      }
     ]
    },
    "79b014c35bb64afd98775e32a56c8469": {
     "views": [
      {
       "cell_index": 12
      }
     ]
    },
    "7b97837f50464a0194b38acd2ee83d07": {
     "views": [
      {
       "cell_index": 12
      }
     ]
    },
    "7df60277eba44da5acc4ae70299cd1db": {
     "views": [
      {
       "cell_index": 12
      }
     ]
    },
    "7e9f3f789dd9472189a557183640b7c9": {
     "views": [
      {
       "cell_index": 12
      }
     ]
    },
    "7eb10ea82e954391a3733334c4276916": {
     "views": [
      {
       "cell_index": 12
      }
     ]
    },
    "7fe51828fd9745e9bad8a4632d35a137": {
     "views": [
      {
       "cell_index": 12
      }
     ]
    },
    "807fe4bc5122427a8d991815a0afdefe": {
     "views": [
      {
       "cell_index": 12
      }
     ]
    },
    "82b2dfaaeca94ac7871eb714ebf0bd24": {
     "views": [
      {
       "cell_index": 12
      }
     ]
    },
    "83eb650f527a42e9a904a1dc3489226e": {
     "views": [
      {
       "cell_index": 12
      }
     ]
    },
    "84c3b92deb524251aae620eb42b81d57": {
     "views": [
      {
       "cell_index": 12
      }
     ]
    },
    "85ca8ba9ed1c4fc1bd9f636d4efb13a2": {
     "views": [
      {
       "cell_index": 12
      }
     ]
    },
    "8a803cf98b4a4ad38b46389cd0cbc624": {
     "views": [
      {
       "cell_index": 12
      }
     ]
    },
    "8f271df026484a06be2f6509462c42ed": {
     "views": [
      {
       "cell_index": 12
      }
     ]
    },
    "8f2d4f8192c4455a922e9f4f4388b10a": {
     "views": [
      {
       "cell_index": 12
      }
     ]
    },
    "99722895709c48d7baca4359ce30f165": {
     "views": [
      {
       "cell_index": 12
      }
     ]
    },
    "9994b42dd71f4dcb8412076e04f74af1": {
     "views": [
      {
       "cell_index": 12
      }
     ]
    },
    "9c65331cb7044f07bea6f1dcd02be34e": {
     "views": [
      {
       "cell_index": 12
      }
     ]
    },
    "9d93b50dddb843ffb3192fa7463d1eb3": {
     "views": [
      {
       "cell_index": 12
      }
     ]
    },
    "9ddcff6b73e84b71bb72cbaf509b6d7d": {
     "views": [
      {
       "cell_index": 12
      }
     ]
    },
    "9ff602ebdfe446f8a7973c18b0b9c448": {
     "views": [
      {
       "cell_index": 12
      }
     ]
    },
    "a13b7297bcfd48aeb1f6adeb79c6907e": {
     "views": [
      {
       "cell_index": 12
      }
     ]
    },
    "a2d8253207ff47c196ec18d0c3e292fc": {
     "views": [
      {
       "cell_index": 12
      }
     ]
    },
    "a447bd0d14cf402b844ccef55b5e2d6e": {
     "views": [
      {
       "cell_index": 12
      }
     ]
    },
    "a8fd29c4d7474543bfb283fe1bc22752": {
     "views": [
      {
       "cell_index": 12
      }
     ]
    },
    "a938e8c6d6f54d119dc4e0fc6591ceb2": {
     "views": [
      {
       "cell_index": 12
      }
     ]
    },
    "abb7603ed5cc4ea7a3e9133abc83daab": {
     "views": [
      {
       "cell_index": 12
      }
     ]
    },
    "abd62c0bee8d4a1d93a95b31b9aaf486": {
     "views": [
      {
       "cell_index": 12
      }
     ]
    },
    "ac5eaac0d0bc4bdc899be9b7c7609004": {
     "views": [
      {
       "cell_index": 12
      }
     ]
    },
    "ac8d814446504f1fb7359e84efc877df": {
     "views": [
      {
       "cell_index": 12
      }
     ]
    },
    "aecfd70ffbbb491296ddfead5c3e676c": {
     "views": [
      {
       "cell_index": 12
      }
     ]
    },
    "b012c12df7ec4de5bee68e9f10c67227": {
     "views": [
      {
       "cell_index": 12
      }
     ]
    },
    "b0413da85a834535bf0910a1a2049cf4": {
     "views": [
      {
       "cell_index": 12
      }
     ]
    },
    "b3e05cfa4dfb44e8aec6501b481e740a": {
     "views": [
      {
       "cell_index": 12
      }
     ]
    },
    "b8e7a6d97abc49eb8b24af81997c814b": {
     "views": [
      {
       "cell_index": 12
      }
     ]
    },
    "b958fd557b674353b4513a1223d1a451": {
     "views": [
      {
       "cell_index": 12
      }
     ]
    },
    "bc39a43c23b9496fb53533370e7f076b": {
     "views": [
      {
       "cell_index": 12
      }
     ]
    },
    "bcb5c68f5f9640ffbc0d14af2a8d2609": {
     "views": [
      {
       "cell_index": 12
      }
     ]
    },
    "c1a529e546e84cfe858abc405448a31c": {
     "views": [
      {
       "cell_index": 12
      }
     ]
    },
    "c51f1c60f93c4707808116607aceb523": {
     "views": [
      {
       "cell_index": 12
      }
     ]
    },
    "c6cefa23028c47d1a9b8e34f2173662b": {
     "views": [
      {
       "cell_index": 12
      }
     ]
    },
    "c867ce48830d48ff838c535f911cde38": {
     "views": [
      {
       "cell_index": 12
      }
     ]
    },
    "cc1c3c0a394049c7817525d4c0dbc660": {
     "views": [
      {
       "cell_index": 12
      }
     ]
    },
    "ce61c3f1b09d4b7aaaa04b999968853b": {
     "views": [
      {
       "cell_index": 12
      }
     ]
    },
    "ced5cb09460b44f2b3cb07cd26ba2d80": {
     "views": [
      {
       "cell_index": 12
      }
     ]
    },
    "d0a64a823a4649898b5ef2ae2f1bbe27": {
     "views": [
      {
       "cell_index": 12
      }
     ]
    },
    "d2307dd3ea50414580c68a01944b6609": {
     "views": [
      {
       "cell_index": 12
      }
     ]
    },
    "d73036ff5b9a463aa2d560cc98e09a99": {
     "views": [
      {
       "cell_index": 12
      }
     ]
    },
    "d8bff5fe3809457696452bd7d37b0163": {
     "views": [
      {
       "cell_index": 12
      }
     ]
    },
    "da29d43a5fbd4d0db082c70348e5783e": {
     "views": [
      {
       "cell_index": 12
      }
     ]
    },
    "dcbbfefe63b849b29b2c6f2c445f9d44": {
     "views": [
      {
       "cell_index": 12
      }
     ]
    },
    "de65778ccbf74269a7aecafe0f4a84e9": {
     "views": [
      {
       "cell_index": 12
      }
     ]
    },
    "e2f426df16ea437cb3eb19a6e29718d3": {
     "views": [
      {
       "cell_index": 12
      }
     ]
    },
    "e331ecdfb1034be78954606b29282291": {
     "views": [
      {
       "cell_index": 12
      }
     ]
    },
    "e57c668870b044aab6fb89a073374887": {
     "views": [
      {
       "cell_index": 12
      }
     ]
    },
    "e7d90b37142d4468a9a3f88fe5e7ebe5": {
     "views": [
      {
       "cell_index": 12
      }
     ]
    },
    "e7dfb79db2074d32b546b0f5b35d037a": {
     "views": [
      {
       "cell_index": 12
      }
     ]
    },
    "ea7dc8f6b6904a098cc8bcd3cccb0f09": {
     "views": [
      {
       "cell_index": 12
      }
     ]
    },
    "ead95701b3c948fe810264c9f916c701": {
     "views": [
      {
       "cell_index": 12
      }
     ]
    },
    "ec1f20b0a9a848a785617463aed63555": {
     "views": [
      {
       "cell_index": 12
      }
     ]
    },
    "ef7271ab301c4d52b331707746f9638e": {
     "views": [
      {
       "cell_index": 12
      }
     ]
    },
    "f057baa922394139936146319110c770": {
     "views": [
      {
       "cell_index": 12
      }
     ]
    },
    "f07a509b915040e08e37ababd37b7cf1": {
     "views": [
      {
       "cell_index": 12
      }
     ]
    },
    "f259740c24a24bb3a309aec954f66fe3": {
     "views": [
      {
       "cell_index": 12
      }
     ]
    },
    "f612f1c9698d4be4bb42c2f0e2c69108": {
     "views": [
      {
       "cell_index": 12
      }
     ]
    },
    "f6efb652598c41549a9f19b2f9ceff2b": {
     "views": [
      {
       "cell_index": 12
      }
     ]
    },
    "f97ed4db90d24d88a228ac1e52375a0c": {
     "views": [
      {
       "cell_index": 12
      }
     ]
    },
    "fd43e083f58d43a68688581cdf48acab": {
     "views": [
      {
       "cell_index": 12
      }
     ]
    },
    "fda46d318b0941c19dfe61eb3e02cb23": {
     "views": [
      {
       "cell_index": 12
      }
     ]
    },
    "fe6b5b3475984be890e4e11f3e5d3ef1": {
     "views": [
      {
       "cell_index": 12
      }
     ]
    }
   },
   "version": "1.2.0"
  }
 },
 "nbformat": 4,
 "nbformat_minor": 2
}
