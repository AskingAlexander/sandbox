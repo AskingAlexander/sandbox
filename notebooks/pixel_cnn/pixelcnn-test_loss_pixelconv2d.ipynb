{
 "cells": [
  {
   "cell_type": "code",
   "execution_count": 1,
   "metadata": {
    "ExecuteTime": {
     "end_time": "2019-05-25T21:32:40.346295Z",
     "start_time": "2019-05-25T21:32:38.746228Z"
    },
    "slideshow": {
     "slide_type": "slide"
    }
   },
   "outputs": [
    {
     "name": "stderr",
     "output_type": "stream",
     "text": [
      "/home/brian/anaconda3/lib/python3.6/site-packages/h5py/__init__.py:36: FutureWarning: Conversion of the second argument of issubdtype from `float` to `np.floating` is deprecated. In future, it will be treated as `np.float64 == np.dtype(float).type`.\n",
      "  from ._conv import register_converters as _register_converters\n",
      "Using TensorFlow backend.\n"
     ]
    }
   ],
   "source": [
    "%matplotlib inline\n",
    "import numpy as np\n",
    "import os\n",
    "import time\n",
    "import h5py\n",
    "import keras\n",
    "import pandas as pd\n",
    "import math\n",
    "import joblib\n",
    "import json\n",
    "import matplotlib.pyplot as plt\n",
    "from scipy.stats import logistic\n",
    "from scipy.special import softmax\n",
    "\n",
    "from IPython.display import display\n",
    "\n",
    "from sklearn.metrics import accuracy_score\n",
    "from sklearn.model_selection import StratifiedShuffleSplit\n",
    "\n",
    "from keras.layers import (Input, Dense, Lambda, Flatten, Reshape, BatchNormalization, \n",
    "                          Activation, Dropout, Conv2D, Conv2DTranspose,\n",
    "                          Concatenate, Add, Multiply)\n",
    "from keras.engine import InputSpec\n",
    "from keras.optimizers import RMSprop, Adam, SGD\n",
    "from keras.models import Model\n",
    "from keras.utils import to_categorical\n",
    "from keras import metrics\n",
    "from keras import backend as K\n",
    "from keras_tqdm import TQDMNotebookCallback\n",
    "from keras.datasets import cifar10\n",
    "\n",
    "import tensorflow as tf\n",
    "\n",
    "from pixelcnn_helpers import pixelcnn_loss, sigmoid, compute_pvals, compute_mixture, PixelConv2D"
   ]
  },
  {
   "cell_type": "markdown",
   "metadata": {
    "slideshow": {
     "slide_type": "slide"
    }
   },
   "source": [
    "# Parameters"
   ]
  },
  {
   "cell_type": "code",
   "execution_count": 2,
   "metadata": {
    "ExecuteTime": {
     "end_time": "2019-05-25T21:32:40.351934Z",
     "start_time": "2019-05-25T21:32:40.347886Z"
    }
   },
   "outputs": [],
   "source": [
    "#img_rows, img_cols, img_chns = 32, 32, 3\n",
    "img_rows, img_cols, img_chns = 2, 2, 3\n",
    "original_img_size = (img_rows, img_cols, img_chns)\n",
    "\n",
    "# Debug params\n",
    "sample = 1\n",
    "\n",
    "# Hyper params\n",
    "batch_size = int(os.environ.get('BATCH_SIZE', 1))\n",
    "epochs = int(os.environ.get('EPOCHS', 1000))\n",
    "activation = os.environ.get('ACTIVATION', 'relu')\n",
    "learning_rate = float(os.environ.get('LEARNING_RATE', 0.001))\n",
    "resnet_depth = int(os.environ.get('RESNET_DEPTH', 2))\n",
    "mixture_components = int(os.environ.get('MIXTURE_COMPONENTS', 1))"
   ]
  },
  {
   "cell_type": "markdown",
   "metadata": {},
   "source": [
    "# Make Dummy Image"
   ]
  },
  {
   "cell_type": "code",
   "execution_count": 3,
   "metadata": {
    "ExecuteTime": {
     "end_time": "2019-05-25T21:32:40.463150Z",
     "start_time": "2019-05-25T21:32:40.353470Z"
    },
    "slideshow": {
     "slide_type": "subslide"
    }
   },
   "outputs": [
    {
     "data": {
      "text/plain": [
       "array([[[[105., 160.,  30.],\n",
       "         [140., 150., 160.]],\n",
       "\n",
       "        [[200., 210., 220.],\n",
       "         [230., 240., 250.]]]])"
      ]
     },
     "metadata": {},
     "output_type": "display_data"
    }
   ],
   "source": [
    "X_train = np.zeros([1, 2, 2, 3])\n",
    "X_train[0, 0, 0, :] = [105, 160, 30]\n",
    "X_train[0, 0, 1, :] = [140, 150, 160]\n",
    "X_train[0, 1, 0, :] = [200, 210, 220]\n",
    "X_train[0, 1, 1, :] = [230, 240, 250]\n",
    "\n",
    "\n",
    "display(X_train)\n",
    "\n",
    "X_train = (X_train - 127.5) / 127.5"
   ]
  },
  {
   "cell_type": "markdown",
   "metadata": {},
   "source": [
    "# Model"
   ]
  },
  {
   "cell_type": "code",
   "execution_count": 4,
   "metadata": {
    "ExecuteTime": {
     "end_time": "2019-05-25T21:32:40.624052Z",
     "start_time": "2019-05-25T21:32:40.466608Z"
    }
   },
   "outputs": [],
   "source": [
    "if K.image_data_format() == 'channels_last':\n",
    "    bn_axis = 3\n",
    "else:\n",
    "    bn_axis = 1\n",
    "    \n",
    "def conv_block(input_tensor, filters, kernel_size, name, is_first=False):\n",
    "    outs = []\n",
    "    for t in ['rb', 'gb', 'bb']:\n",
    "        if is_first:\n",
    "            t = t[0] + 'a'\n",
    "        x = PixelConv2D(t, filters, kernel_size, name='res' + name + t, padding='same')(input_tensor)\n",
    "        x = Activation('relu')(x)\n",
    "        #x = Lambda(lambda x: x, name='debug_' + name + t)(x)\n",
    "        outs.append(x)\n",
    "        \n",
    "    return Concatenate()(outs)\n",
    "\n",
    "\n",
    "def build_outputs(input_tensor, final_filters):\n",
    "    m_outs = []\n",
    "    invs_outs = []\n",
    "    weights = []\n",
    "    for channel in range(img_chns):\n",
    "        # Only allow things behind it...\n",
    "        x = Lambda(lambda x: x[:, :, :, :(channel + 1) * final_filters])(input_tensor)\n",
    "       \n",
    "        decoder_out_m_ = Flatten()(x)\n",
    "        decoder_out_m_ = Dense(500, activation='relu')(decoder_out_m_)\n",
    "        decoder_out_m_ = Dense(500, activation='relu')(decoder_out_m_)\n",
    "        decoder_out_m_ = Dense(500, activation='relu')(decoder_out_m_)\n",
    "        decoder_out_m_ = Dense(img_rows * img_cols * mixture_components)(decoder_out_m_)\n",
    "        decoder_out_m = Reshape((img_rows, img_cols, mixture_components))(decoder_out_m_)\n",
    "        \n",
    "        decoder_out_invs_ = Flatten()(x)\n",
    "        decoder_out_invs_ = Dense(500, activation='relu')(decoder_out_invs_)\n",
    "        decoder_out_invs_ = Dense(500, activation='relu')(decoder_out_invs_)\n",
    "        decoder_out_invs_ = Dense(500, activation='relu')(decoder_out_invs_)\n",
    "        decoder_out_invs_ = Dense(img_rows * img_cols * mixture_components, activation='softplus')(decoder_out_invs_)\n",
    "        decoder_out_invs = Reshape((img_rows, img_cols, mixture_components))(decoder_out_invs_)\n",
    "        \n",
    "        decoder_out_weights_ = Flatten()(x)\n",
    "        decoder_out_weights_ = Dense(500, activation='relu')(decoder_out_weights_)\n",
    "        decoder_out_weights_ = Dense(500, activation='relu')(decoder_out_weights_)\n",
    "        decoder_out_weights_ = Dense(500, activation='relu')(decoder_out_weights_)\n",
    "        decoder_out_weights_ = Dense(img_rows * img_cols * mixture_components)(decoder_out_weights_)\n",
    "        mixture_weights = Reshape((img_rows, img_cols, mixture_components))(decoder_out_weights_)\n",
    "        \n",
    "        m_outs.append(decoder_out_m)\n",
    "        invs_outs.append(decoder_out_invs)\n",
    "        weights.append(mixture_weights)\n",
    "    \n",
    "    out_m = Concatenate()(m_outs)       \n",
    "    out_invs = Concatenate()(invs_outs)       \n",
    "    out_mixture = Concatenate()(weights)       \n",
    "    \n",
    "    return Concatenate()([out_m, out_invs, out_mixture])"
   ]
  },
  {
   "cell_type": "code",
   "execution_count": 5,
   "metadata": {
    "ExecuteTime": {
     "end_time": "2019-05-25T21:32:41.422274Z",
     "start_time": "2019-05-25T21:32:40.626555Z"
    },
    "scrolled": true,
    "slideshow": {
     "slide_type": "slide"
    }
   },
   "outputs": [
    {
     "name": "stdout",
     "output_type": "stream",
     "text": [
      "Building conv layers...\n",
      "Building model...\n",
      "__________________________________________________________________________________________________\n",
      "Layer (type)                    Output Shape         Param #     Connected to                     \n",
      "==================================================================================================\n",
      "main_input (InputLayer)         (None, 2, 2, 3)      0                                            \n",
      "__________________________________________________________________________________________________\n",
      "resconv1ra (PixelConv2D)        (None, 2, 2, 128)    3584        main_input[0][0]                 \n",
      "__________________________________________________________________________________________________\n",
      "resconv1ga (PixelConv2D)        (None, 2, 2, 128)    3584        main_input[0][0]                 \n",
      "__________________________________________________________________________________________________\n",
      "resconv1ba (PixelConv2D)        (None, 2, 2, 128)    3584        main_input[0][0]                 \n",
      "__________________________________________________________________________________________________\n",
      "activation_1 (Activation)       (None, 2, 2, 128)    0           resconv1ra[0][0]                 \n",
      "__________________________________________________________________________________________________\n",
      "activation_2 (Activation)       (None, 2, 2, 128)    0           resconv1ga[0][0]                 \n",
      "__________________________________________________________________________________________________\n",
      "activation_3 (Activation)       (None, 2, 2, 128)    0           resconv1ba[0][0]                 \n",
      "__________________________________________________________________________________________________\n",
      "concatenate_1 (Concatenate)     (None, 2, 2, 384)    0           activation_1[0][0]               \n",
      "                                                                 activation_2[0][0]               \n",
      "                                                                 activation_3[0][0]               \n",
      "__________________________________________________________________________________________________\n",
      "lambda_1 (Lambda)               (None, 2, 2, 1)      0           concatenate_1[0][0]              \n",
      "__________________________________________________________________________________________________\n",
      "lambda_2 (Lambda)               (None, 2, 2, 2)      0           concatenate_1[0][0]              \n",
      "__________________________________________________________________________________________________\n",
      "lambda_3 (Lambda)               (None, 2, 2, 3)      0           concatenate_1[0][0]              \n",
      "__________________________________________________________________________________________________\n",
      "flatten_1 (Flatten)             (None, 4)            0           lambda_1[0][0]                   \n",
      "__________________________________________________________________________________________________\n",
      "flatten_4 (Flatten)             (None, 8)            0           lambda_2[0][0]                   \n",
      "__________________________________________________________________________________________________\n",
      "flatten_7 (Flatten)             (None, 12)           0           lambda_3[0][0]                   \n",
      "__________________________________________________________________________________________________\n",
      "flatten_2 (Flatten)             (None, 4)            0           lambda_1[0][0]                   \n",
      "__________________________________________________________________________________________________\n",
      "flatten_5 (Flatten)             (None, 8)            0           lambda_2[0][0]                   \n",
      "__________________________________________________________________________________________________\n",
      "flatten_8 (Flatten)             (None, 12)           0           lambda_3[0][0]                   \n",
      "__________________________________________________________________________________________________\n",
      "flatten_3 (Flatten)             (None, 4)            0           lambda_1[0][0]                   \n",
      "__________________________________________________________________________________________________\n",
      "flatten_6 (Flatten)             (None, 8)            0           lambda_2[0][0]                   \n",
      "__________________________________________________________________________________________________\n",
      "flatten_9 (Flatten)             (None, 12)           0           lambda_3[0][0]                   \n",
      "__________________________________________________________________________________________________\n",
      "dense_1 (Dense)                 (None, 500)          2500        flatten_1[0][0]                  \n",
      "__________________________________________________________________________________________________\n",
      "dense_13 (Dense)                (None, 500)          4500        flatten_4[0][0]                  \n",
      "__________________________________________________________________________________________________\n",
      "dense_25 (Dense)                (None, 500)          6500        flatten_7[0][0]                  \n",
      "__________________________________________________________________________________________________\n",
      "dense_5 (Dense)                 (None, 500)          2500        flatten_2[0][0]                  \n",
      "__________________________________________________________________________________________________\n",
      "dense_17 (Dense)                (None, 500)          4500        flatten_5[0][0]                  \n",
      "__________________________________________________________________________________________________\n",
      "dense_29 (Dense)                (None, 500)          6500        flatten_8[0][0]                  \n",
      "__________________________________________________________________________________________________\n",
      "dense_9 (Dense)                 (None, 500)          2500        flatten_3[0][0]                  \n",
      "__________________________________________________________________________________________________\n",
      "dense_21 (Dense)                (None, 500)          4500        flatten_6[0][0]                  \n",
      "__________________________________________________________________________________________________\n",
      "dense_33 (Dense)                (None, 500)          6500        flatten_9[0][0]                  \n",
      "__________________________________________________________________________________________________\n",
      "dense_2 (Dense)                 (None, 500)          250500      dense_1[0][0]                    \n",
      "__________________________________________________________________________________________________\n",
      "dense_14 (Dense)                (None, 500)          250500      dense_13[0][0]                   \n",
      "__________________________________________________________________________________________________\n",
      "dense_26 (Dense)                (None, 500)          250500      dense_25[0][0]                   \n",
      "__________________________________________________________________________________________________\n",
      "dense_6 (Dense)                 (None, 500)          250500      dense_5[0][0]                    \n",
      "__________________________________________________________________________________________________\n",
      "dense_18 (Dense)                (None, 500)          250500      dense_17[0][0]                   \n",
      "__________________________________________________________________________________________________\n",
      "dense_30 (Dense)                (None, 500)          250500      dense_29[0][0]                   \n",
      "__________________________________________________________________________________________________\n",
      "dense_10 (Dense)                (None, 500)          250500      dense_9[0][0]                    \n",
      "__________________________________________________________________________________________________\n",
      "dense_22 (Dense)                (None, 500)          250500      dense_21[0][0]                   \n",
      "__________________________________________________________________________________________________\n",
      "dense_34 (Dense)                (None, 500)          250500      dense_33[0][0]                   \n",
      "__________________________________________________________________________________________________\n",
      "dense_3 (Dense)                 (None, 500)          250500      dense_2[0][0]                    \n",
      "__________________________________________________________________________________________________\n",
      "dense_15 (Dense)                (None, 500)          250500      dense_14[0][0]                   \n",
      "__________________________________________________________________________________________________\n",
      "dense_27 (Dense)                (None, 500)          250500      dense_26[0][0]                   \n",
      "__________________________________________________________________________________________________\n",
      "dense_7 (Dense)                 (None, 500)          250500      dense_6[0][0]                    \n",
      "__________________________________________________________________________________________________\n",
      "dense_19 (Dense)                (None, 500)          250500      dense_18[0][0]                   \n",
      "__________________________________________________________________________________________________\n",
      "dense_31 (Dense)                (None, 500)          250500      dense_30[0][0]                   \n",
      "__________________________________________________________________________________________________\n",
      "dense_11 (Dense)                (None, 500)          250500      dense_10[0][0]                   \n",
      "__________________________________________________________________________________________________\n",
      "dense_23 (Dense)                (None, 500)          250500      dense_22[0][0]                   \n",
      "__________________________________________________________________________________________________\n",
      "dense_35 (Dense)                (None, 500)          250500      dense_34[0][0]                   \n",
      "__________________________________________________________________________________________________\n",
      "dense_4 (Dense)                 (None, 4)            2004        dense_3[0][0]                    \n",
      "__________________________________________________________________________________________________\n",
      "dense_16 (Dense)                (None, 4)            2004        dense_15[0][0]                   \n",
      "__________________________________________________________________________________________________\n",
      "dense_28 (Dense)                (None, 4)            2004        dense_27[0][0]                   \n",
      "__________________________________________________________________________________________________\n",
      "dense_8 (Dense)                 (None, 4)            2004        dense_7[0][0]                    \n",
      "__________________________________________________________________________________________________\n",
      "dense_20 (Dense)                (None, 4)            2004        dense_19[0][0]                   \n",
      "__________________________________________________________________________________________________\n",
      "dense_32 (Dense)                (None, 4)            2004        dense_31[0][0]                   \n",
      "__________________________________________________________________________________________________\n",
      "dense_12 (Dense)                (None, 4)            2004        dense_11[0][0]                   \n",
      "__________________________________________________________________________________________________\n",
      "dense_24 (Dense)                (None, 4)            2004        dense_23[0][0]                   \n",
      "__________________________________________________________________________________________________\n",
      "dense_36 (Dense)                (None, 4)            2004        dense_35[0][0]                   \n",
      "__________________________________________________________________________________________________\n",
      "reshape_1 (Reshape)             (None, 2, 2, 1)      0           dense_4[0][0]                    \n",
      "__________________________________________________________________________________________________\n",
      "reshape_4 (Reshape)             (None, 2, 2, 1)      0           dense_16[0][0]                   \n",
      "__________________________________________________________________________________________________\n",
      "reshape_7 (Reshape)             (None, 2, 2, 1)      0           dense_28[0][0]                   \n",
      "__________________________________________________________________________________________________\n",
      "reshape_2 (Reshape)             (None, 2, 2, 1)      0           dense_8[0][0]                    \n",
      "__________________________________________________________________________________________________\n",
      "reshape_5 (Reshape)             (None, 2, 2, 1)      0           dense_20[0][0]                   \n",
      "__________________________________________________________________________________________________\n",
      "reshape_8 (Reshape)             (None, 2, 2, 1)      0           dense_32[0][0]                   \n",
      "__________________________________________________________________________________________________\n",
      "reshape_3 (Reshape)             (None, 2, 2, 1)      0           dense_12[0][0]                   \n",
      "__________________________________________________________________________________________________\n",
      "reshape_6 (Reshape)             (None, 2, 2, 1)      0           dense_24[0][0]                   \n",
      "__________________________________________________________________________________________________\n",
      "reshape_9 (Reshape)             (None, 2, 2, 1)      0           dense_36[0][0]                   \n",
      "__________________________________________________________________________________________________\n",
      "concatenate_2 (Concatenate)     (None, 2, 2, 3)      0           reshape_1[0][0]                  \n",
      "                                                                 reshape_4[0][0]                  \n",
      "                                                                 reshape_7[0][0]                  \n",
      "__________________________________________________________________________________________________\n",
      "concatenate_3 (Concatenate)     (None, 2, 2, 3)      0           reshape_2[0][0]                  \n",
      "                                                                 reshape_5[0][0]                  \n",
      "                                                                 reshape_8[0][0]                  \n",
      "__________________________________________________________________________________________________\n",
      "concatenate_4 (Concatenate)     (None, 2, 2, 3)      0           reshape_3[0][0]                  \n",
      "                                                                 reshape_6[0][0]                  \n",
      "                                                                 reshape_9[0][0]                  \n",
      "__________________________________________________________________________________________________\n",
      "concatenate_5 (Concatenate)     (None, 2, 2, 9)      0           concatenate_2[0][0]              \n",
      "                                                                 concatenate_3[0][0]              \n",
      "                                                                 concatenate_4[0][0]              \n",
      "==================================================================================================\n",
      "Total params: 4,578,288\n",
      "Trainable params: 4,578,288\n",
      "Non-trainable params: 0\n",
      "__________________________________________________________________________________________________\n"
     ]
    }
   ],
   "source": [
    "# Work around Keras/tensorboard bug: https://github.com/keras-team/keras/issues/10074\n",
    "K.clear_session()\n",
    "\n",
    "print(\"Building conv layers...\")\n",
    "main_input = Input(shape=original_img_size, name='main_input')\n",
    "\n",
    "x = conv_block(main_input, 128, (3, 3), name='conv1', is_first=True)\n",
    "x = build_outputs(x, 1)\n",
    "\n",
    "main_output = x\n",
    "\n",
    "print(\"Building model...\")\n",
    "model = Model(inputs=main_input, outputs=main_output)\n",
    "optimizer = Adam(lr=0.001)\n",
    "#optimizer = SGD(lr=0.001)\n",
    "#optimizer = RMSprop(lr=0.001)\n",
    "model.compile(optimizer=optimizer, \n",
    "              loss=lambda x, y: pixelcnn_loss(x, y, img_rows, img_cols, img_chns, mixture_components))\n",
    "model.summary()"
   ]
  },
  {
   "cell_type": "code",
   "execution_count": 6,
   "metadata": {
    "ExecuteTime": {
     "end_time": "2019-05-25T21:32:53.079547Z",
     "start_time": "2019-05-25T21:32:41.423941Z"
    },
    "scrolled": true,
    "slideshow": {
     "slide_type": "-"
    }
   },
   "outputs": [
    {
     "data": {
      "application/vnd.jupyter.widget-view+json": {
       "model_id": "0847d64a861941e3a2facd915db4d4e3",
       "version_major": 2,
       "version_minor": 0
      },
      "text/plain": [
       "HBox(children=(IntProgress(value=0, description='Training', max=50), HTML(value='')))"
      ]
     },
     "metadata": {},
     "output_type": "display_data"
    },
    {
     "data": {
      "application/vnd.jupyter.widget-view+json": {
       "model_id": "",
       "version_major": 2,
       "version_minor": 0
      },
      "text/plain": [
       "HBox(children=(IntProgress(value=0, description='Epoch 0', max=1), HTML(value='')))"
      ]
     },
     "metadata": {},
     "output_type": "display_data"
    },
    {
     "data": {
      "application/vnd.jupyter.widget-view+json": {
       "model_id": "",
       "version_major": 2,
       "version_minor": 0
      },
      "text/plain": [
       "HBox(children=(IntProgress(value=0, description='Epoch 1', max=1), HTML(value='')))"
      ]
     },
     "metadata": {},
     "output_type": "display_data"
    },
    {
     "data": {
      "application/vnd.jupyter.widget-view+json": {
       "model_id": "",
       "version_major": 2,
       "version_minor": 0
      },
      "text/plain": [
       "HBox(children=(IntProgress(value=0, description='Epoch 2', max=1), HTML(value='')))"
      ]
     },
     "metadata": {},
     "output_type": "display_data"
    },
    {
     "data": {
      "application/vnd.jupyter.widget-view+json": {
       "model_id": "",
       "version_major": 2,
       "version_minor": 0
      },
      "text/plain": [
       "HBox(children=(IntProgress(value=0, description='Epoch 3', max=1), HTML(value='')))"
      ]
     },
     "metadata": {},
     "output_type": "display_data"
    },
    {
     "data": {
      "application/vnd.jupyter.widget-view+json": {
       "model_id": "",
       "version_major": 2,
       "version_minor": 0
      },
      "text/plain": [
       "HBox(children=(IntProgress(value=0, description='Epoch 4', max=1), HTML(value='')))"
      ]
     },
     "metadata": {},
     "output_type": "display_data"
    },
    {
     "data": {
      "application/vnd.jupyter.widget-view+json": {
       "model_id": "",
       "version_major": 2,
       "version_minor": 0
      },
      "text/plain": [
       "HBox(children=(IntProgress(value=0, description='Epoch 5', max=1), HTML(value='')))"
      ]
     },
     "metadata": {},
     "output_type": "display_data"
    },
    {
     "data": {
      "application/vnd.jupyter.widget-view+json": {
       "model_id": "",
       "version_major": 2,
       "version_minor": 0
      },
      "text/plain": [
       "HBox(children=(IntProgress(value=0, description='Epoch 6', max=1), HTML(value='')))"
      ]
     },
     "metadata": {},
     "output_type": "display_data"
    },
    {
     "data": {
      "application/vnd.jupyter.widget-view+json": {
       "model_id": "",
       "version_major": 2,
       "version_minor": 0
      },
      "text/plain": [
       "HBox(children=(IntProgress(value=0, description='Epoch 7', max=1), HTML(value='')))"
      ]
     },
     "metadata": {},
     "output_type": "display_data"
    },
    {
     "data": {
      "application/vnd.jupyter.widget-view+json": {
       "model_id": "",
       "version_major": 2,
       "version_minor": 0
      },
      "text/plain": [
       "HBox(children=(IntProgress(value=0, description='Epoch 8', max=1), HTML(value='')))"
      ]
     },
     "metadata": {},
     "output_type": "display_data"
    },
    {
     "data": {
      "application/vnd.jupyter.widget-view+json": {
       "model_id": "",
       "version_major": 2,
       "version_minor": 0
      },
      "text/plain": [
       "HBox(children=(IntProgress(value=0, description='Epoch 9', max=1), HTML(value='')))"
      ]
     },
     "metadata": {},
     "output_type": "display_data"
    },
    {
     "data": {
      "application/vnd.jupyter.widget-view+json": {
       "model_id": "",
       "version_major": 2,
       "version_minor": 0
      },
      "text/plain": [
       "HBox(children=(IntProgress(value=0, description='Epoch 10', max=1), HTML(value='')))"
      ]
     },
     "metadata": {},
     "output_type": "display_data"
    },
    {
     "data": {
      "application/vnd.jupyter.widget-view+json": {
       "model_id": "",
       "version_major": 2,
       "version_minor": 0
      },
      "text/plain": [
       "HBox(children=(IntProgress(value=0, description='Epoch 11', max=1), HTML(value='')))"
      ]
     },
     "metadata": {},
     "output_type": "display_data"
    },
    {
     "data": {
      "application/vnd.jupyter.widget-view+json": {
       "model_id": "",
       "version_major": 2,
       "version_minor": 0
      },
      "text/plain": [
       "HBox(children=(IntProgress(value=0, description='Epoch 12', max=1), HTML(value='')))"
      ]
     },
     "metadata": {},
     "output_type": "display_data"
    },
    {
     "data": {
      "application/vnd.jupyter.widget-view+json": {
       "model_id": "",
       "version_major": 2,
       "version_minor": 0
      },
      "text/plain": [
       "HBox(children=(IntProgress(value=0, description='Epoch 13', max=1), HTML(value='')))"
      ]
     },
     "metadata": {},
     "output_type": "display_data"
    },
    {
     "data": {
      "application/vnd.jupyter.widget-view+json": {
       "model_id": "",
       "version_major": 2,
       "version_minor": 0
      },
      "text/plain": [
       "HBox(children=(IntProgress(value=0, description='Epoch 14', max=1), HTML(value='')))"
      ]
     },
     "metadata": {},
     "output_type": "display_data"
    },
    {
     "data": {
      "application/vnd.jupyter.widget-view+json": {
       "model_id": "",
       "version_major": 2,
       "version_minor": 0
      },
      "text/plain": [
       "HBox(children=(IntProgress(value=0, description='Epoch 15', max=1), HTML(value='')))"
      ]
     },
     "metadata": {},
     "output_type": "display_data"
    },
    {
     "data": {
      "application/vnd.jupyter.widget-view+json": {
       "model_id": "",
       "version_major": 2,
       "version_minor": 0
      },
      "text/plain": [
       "HBox(children=(IntProgress(value=0, description='Epoch 16', max=1), HTML(value='')))"
      ]
     },
     "metadata": {},
     "output_type": "display_data"
    },
    {
     "data": {
      "application/vnd.jupyter.widget-view+json": {
       "model_id": "",
       "version_major": 2,
       "version_minor": 0
      },
      "text/plain": [
       "HBox(children=(IntProgress(value=0, description='Epoch 17', max=1), HTML(value='')))"
      ]
     },
     "metadata": {},
     "output_type": "display_data"
    },
    {
     "data": {
      "application/vnd.jupyter.widget-view+json": {
       "model_id": "",
       "version_major": 2,
       "version_minor": 0
      },
      "text/plain": [
       "HBox(children=(IntProgress(value=0, description='Epoch 18', max=1), HTML(value='')))"
      ]
     },
     "metadata": {},
     "output_type": "display_data"
    },
    {
     "data": {
      "application/vnd.jupyter.widget-view+json": {
       "model_id": "",
       "version_major": 2,
       "version_minor": 0
      },
      "text/plain": [
       "HBox(children=(IntProgress(value=0, description='Epoch 19', max=1), HTML(value='')))"
      ]
     },
     "metadata": {},
     "output_type": "display_data"
    },
    {
     "data": {
      "application/vnd.jupyter.widget-view+json": {
       "model_id": "",
       "version_major": 2,
       "version_minor": 0
      },
      "text/plain": [
       "HBox(children=(IntProgress(value=0, description='Epoch 20', max=1), HTML(value='')))"
      ]
     },
     "metadata": {},
     "output_type": "display_data"
    },
    {
     "data": {
      "application/vnd.jupyter.widget-view+json": {
       "model_id": "",
       "version_major": 2,
       "version_minor": 0
      },
      "text/plain": [
       "HBox(children=(IntProgress(value=0, description='Epoch 21', max=1), HTML(value='')))"
      ]
     },
     "metadata": {},
     "output_type": "display_data"
    },
    {
     "data": {
      "application/vnd.jupyter.widget-view+json": {
       "model_id": "",
       "version_major": 2,
       "version_minor": 0
      },
      "text/plain": [
       "HBox(children=(IntProgress(value=0, description='Epoch 22', max=1), HTML(value='')))"
      ]
     },
     "metadata": {},
     "output_type": "display_data"
    },
    {
     "data": {
      "application/vnd.jupyter.widget-view+json": {
       "model_id": "",
       "version_major": 2,
       "version_minor": 0
      },
      "text/plain": [
       "HBox(children=(IntProgress(value=0, description='Epoch 23', max=1), HTML(value='')))"
      ]
     },
     "metadata": {},
     "output_type": "display_data"
    },
    {
     "data": {
      "application/vnd.jupyter.widget-view+json": {
       "model_id": "",
       "version_major": 2,
       "version_minor": 0
      },
      "text/plain": [
       "HBox(children=(IntProgress(value=0, description='Epoch 24', max=1), HTML(value='')))"
      ]
     },
     "metadata": {},
     "output_type": "display_data"
    },
    {
     "data": {
      "application/vnd.jupyter.widget-view+json": {
       "model_id": "",
       "version_major": 2,
       "version_minor": 0
      },
      "text/plain": [
       "HBox(children=(IntProgress(value=0, description='Epoch 25', max=1), HTML(value='')))"
      ]
     },
     "metadata": {},
     "output_type": "display_data"
    },
    {
     "data": {
      "application/vnd.jupyter.widget-view+json": {
       "model_id": "",
       "version_major": 2,
       "version_minor": 0
      },
      "text/plain": [
       "HBox(children=(IntProgress(value=0, description='Epoch 26', max=1), HTML(value='')))"
      ]
     },
     "metadata": {},
     "output_type": "display_data"
    },
    {
     "data": {
      "application/vnd.jupyter.widget-view+json": {
       "model_id": "",
       "version_major": 2,
       "version_minor": 0
      },
      "text/plain": [
       "HBox(children=(IntProgress(value=0, description='Epoch 27', max=1), HTML(value='')))"
      ]
     },
     "metadata": {},
     "output_type": "display_data"
    },
    {
     "data": {
      "application/vnd.jupyter.widget-view+json": {
       "model_id": "",
       "version_major": 2,
       "version_minor": 0
      },
      "text/plain": [
       "HBox(children=(IntProgress(value=0, description='Epoch 28', max=1), HTML(value='')))"
      ]
     },
     "metadata": {},
     "output_type": "display_data"
    },
    {
     "data": {
      "application/vnd.jupyter.widget-view+json": {
       "model_id": "",
       "version_major": 2,
       "version_minor": 0
      },
      "text/plain": [
       "HBox(children=(IntProgress(value=0, description='Epoch 29', max=1), HTML(value='')))"
      ]
     },
     "metadata": {},
     "output_type": "display_data"
    },
    {
     "data": {
      "application/vnd.jupyter.widget-view+json": {
       "model_id": "",
       "version_major": 2,
       "version_minor": 0
      },
      "text/plain": [
       "HBox(children=(IntProgress(value=0, description='Epoch 30', max=1), HTML(value='')))"
      ]
     },
     "metadata": {},
     "output_type": "display_data"
    },
    {
     "data": {
      "application/vnd.jupyter.widget-view+json": {
       "model_id": "",
       "version_major": 2,
       "version_minor": 0
      },
      "text/plain": [
       "HBox(children=(IntProgress(value=0, description='Epoch 31', max=1), HTML(value='')))"
      ]
     },
     "metadata": {},
     "output_type": "display_data"
    },
    {
     "data": {
      "application/vnd.jupyter.widget-view+json": {
       "model_id": "",
       "version_major": 2,
       "version_minor": 0
      },
      "text/plain": [
       "HBox(children=(IntProgress(value=0, description='Epoch 32', max=1), HTML(value='')))"
      ]
     },
     "metadata": {},
     "output_type": "display_data"
    },
    {
     "data": {
      "application/vnd.jupyter.widget-view+json": {
       "model_id": "",
       "version_major": 2,
       "version_minor": 0
      },
      "text/plain": [
       "HBox(children=(IntProgress(value=0, description='Epoch 33', max=1), HTML(value='')))"
      ]
     },
     "metadata": {},
     "output_type": "display_data"
    },
    {
     "data": {
      "application/vnd.jupyter.widget-view+json": {
       "model_id": "",
       "version_major": 2,
       "version_minor": 0
      },
      "text/plain": [
       "HBox(children=(IntProgress(value=0, description='Epoch 34', max=1), HTML(value='')))"
      ]
     },
     "metadata": {},
     "output_type": "display_data"
    },
    {
     "data": {
      "application/vnd.jupyter.widget-view+json": {
       "model_id": "",
       "version_major": 2,
       "version_minor": 0
      },
      "text/plain": [
       "HBox(children=(IntProgress(value=0, description='Epoch 35', max=1), HTML(value='')))"
      ]
     },
     "metadata": {},
     "output_type": "display_data"
    },
    {
     "data": {
      "application/vnd.jupyter.widget-view+json": {
       "model_id": "",
       "version_major": 2,
       "version_minor": 0
      },
      "text/plain": [
       "HBox(children=(IntProgress(value=0, description='Epoch 36', max=1), HTML(value='')))"
      ]
     },
     "metadata": {},
     "output_type": "display_data"
    },
    {
     "data": {
      "application/vnd.jupyter.widget-view+json": {
       "model_id": "",
       "version_major": 2,
       "version_minor": 0
      },
      "text/plain": [
       "HBox(children=(IntProgress(value=0, description='Epoch 37', max=1), HTML(value='')))"
      ]
     },
     "metadata": {},
     "output_type": "display_data"
    },
    {
     "data": {
      "application/vnd.jupyter.widget-view+json": {
       "model_id": "",
       "version_major": 2,
       "version_minor": 0
      },
      "text/plain": [
       "HBox(children=(IntProgress(value=0, description='Epoch 38', max=1), HTML(value='')))"
      ]
     },
     "metadata": {},
     "output_type": "display_data"
    },
    {
     "data": {
      "application/vnd.jupyter.widget-view+json": {
       "model_id": "",
       "version_major": 2,
       "version_minor": 0
      },
      "text/plain": [
       "HBox(children=(IntProgress(value=0, description='Epoch 39', max=1), HTML(value='')))"
      ]
     },
     "metadata": {},
     "output_type": "display_data"
    },
    {
     "data": {
      "application/vnd.jupyter.widget-view+json": {
       "model_id": "",
       "version_major": 2,
       "version_minor": 0
      },
      "text/plain": [
       "HBox(children=(IntProgress(value=0, description='Epoch 40', max=1), HTML(value='')))"
      ]
     },
     "metadata": {},
     "output_type": "display_data"
    },
    {
     "data": {
      "application/vnd.jupyter.widget-view+json": {
       "model_id": "",
       "version_major": 2,
       "version_minor": 0
      },
      "text/plain": [
       "HBox(children=(IntProgress(value=0, description='Epoch 41', max=1), HTML(value='')))"
      ]
     },
     "metadata": {},
     "output_type": "display_data"
    },
    {
     "data": {
      "application/vnd.jupyter.widget-view+json": {
       "model_id": "",
       "version_major": 2,
       "version_minor": 0
      },
      "text/plain": [
       "HBox(children=(IntProgress(value=0, description='Epoch 42', max=1), HTML(value='')))"
      ]
     },
     "metadata": {},
     "output_type": "display_data"
    },
    {
     "data": {
      "application/vnd.jupyter.widget-view+json": {
       "model_id": "",
       "version_major": 2,
       "version_minor": 0
      },
      "text/plain": [
       "HBox(children=(IntProgress(value=0, description='Epoch 43', max=1), HTML(value='')))"
      ]
     },
     "metadata": {},
     "output_type": "display_data"
    },
    {
     "data": {
      "application/vnd.jupyter.widget-view+json": {
       "model_id": "",
       "version_major": 2,
       "version_minor": 0
      },
      "text/plain": [
       "HBox(children=(IntProgress(value=0, description='Epoch 44', max=1), HTML(value='')))"
      ]
     },
     "metadata": {},
     "output_type": "display_data"
    },
    {
     "data": {
      "application/vnd.jupyter.widget-view+json": {
       "model_id": "",
       "version_major": 2,
       "version_minor": 0
      },
      "text/plain": [
       "HBox(children=(IntProgress(value=0, description='Epoch 45', max=1), HTML(value='')))"
      ]
     },
     "metadata": {},
     "output_type": "display_data"
    },
    {
     "data": {
      "application/vnd.jupyter.widget-view+json": {
       "model_id": "",
       "version_major": 2,
       "version_minor": 0
      },
      "text/plain": [
       "HBox(children=(IntProgress(value=0, description='Epoch 46', max=1), HTML(value='')))"
      ]
     },
     "metadata": {},
     "output_type": "display_data"
    },
    {
     "data": {
      "application/vnd.jupyter.widget-view+json": {
       "model_id": "",
       "version_major": 2,
       "version_minor": 0
      },
      "text/plain": [
       "HBox(children=(IntProgress(value=0, description='Epoch 47', max=1), HTML(value='')))"
      ]
     },
     "metadata": {},
     "output_type": "display_data"
    },
    {
     "data": {
      "application/vnd.jupyter.widget-view+json": {
       "model_id": "",
       "version_major": 2,
       "version_minor": 0
      },
      "text/plain": [
       "HBox(children=(IntProgress(value=0, description='Epoch 48', max=1), HTML(value='')))"
      ]
     },
     "metadata": {},
     "output_type": "display_data"
    },
    {
     "data": {
      "application/vnd.jupyter.widget-view+json": {
       "model_id": "",
       "version_major": 2,
       "version_minor": 0
      },
      "text/plain": [
       "HBox(children=(IntProgress(value=0, description='Epoch 49', max=1), HTML(value='')))"
      ]
     },
     "metadata": {},
     "output_type": "display_data"
    },
    {
     "name": "stdout",
     "output_type": "stream",
     "text": [
      "\n",
      "Elapsed:  11.64958667755127\n"
     ]
    }
   ],
   "source": [
    "start = time.time()\n",
    "\n",
    "early_stopping = keras.callbacks.EarlyStopping('loss', min_delta=1.0, patience=20)\n",
    "reduce_lr = keras.callbacks.ReduceLROnPlateau(monitor='loss', factor=0.5, patience=10, min_lr=0.01 * learning_rate)\n",
    "tensorboard = keras.callbacks.TensorBoard(log_dir='./logs_2019-05-13/' + str(int(time.time() % 10000)),\n",
    "                                          histogram_freq=1, batch_size=1,\n",
    "                                          write_grads=True, write_images=True, update_freq='batch')\n",
    "\n",
    "history = model.fit(\n",
    "    X_train, X_train,\n",
    "    batch_size=batch_size,\n",
    "    #epochs=epochs,\n",
    "    epochs=50,\n",
    "    callbacks=[TQDMNotebookCallback()],#, tensorboard], #early_stopping, reduce_lr],\n",
    "    validation_data=(X_train, X_train),\n",
    "    verbose=0\n",
    ")\n",
    "\n",
    "done = time.time()\n",
    "elapsed = done - start\n",
    "print(\"Elapsed: \", elapsed)"
   ]
  },
  {
   "cell_type": "code",
   "execution_count": null,
   "metadata": {},
   "outputs": [],
   "source": []
  },
  {
   "cell_type": "code",
   "execution_count": 7,
   "metadata": {
    "ExecuteTime": {
     "end_time": "2019-05-25T21:32:53.267716Z",
     "start_time": "2019-05-25T21:32:53.081156Z"
    },
    "scrolled": false,
    "slideshow": {
     "slide_type": "-"
    }
   },
   "outputs": [
    {
     "data": {
      "text/html": [
       "<div>\n",
       "<style scoped>\n",
       "    .dataframe tbody tr th:only-of-type {\n",
       "        vertical-align: middle;\n",
       "    }\n",
       "\n",
       "    .dataframe tbody tr th {\n",
       "        vertical-align: top;\n",
       "    }\n",
       "\n",
       "    .dataframe thead th {\n",
       "        text-align: right;\n",
       "    }\n",
       "</style>\n",
       "<table border=\"1\" class=\"dataframe\">\n",
       "  <thead>\n",
       "    <tr style=\"text-align: right;\">\n",
       "      <th></th>\n",
       "      <th>val_loss</th>\n",
       "      <th>loss</th>\n",
       "    </tr>\n",
       "  </thead>\n",
       "  <tbody>\n",
       "    <tr>\n",
       "      <th>count</th>\n",
       "      <td>50.000000</td>\n",
       "      <td>50.000000</td>\n",
       "    </tr>\n",
       "    <tr>\n",
       "      <th>mean</th>\n",
       "      <td>60.328218</td>\n",
       "      <td>61.127503</td>\n",
       "    </tr>\n",
       "    <tr>\n",
       "      <th>std</th>\n",
       "      <td>15.172787</td>\n",
       "      <td>15.332026</td>\n",
       "    </tr>\n",
       "    <tr>\n",
       "      <th>min</th>\n",
       "      <td>39.638050</td>\n",
       "      <td>39.638050</td>\n",
       "    </tr>\n",
       "    <tr>\n",
       "      <th>0%</th>\n",
       "      <td>39.638050</td>\n",
       "      <td>39.638050</td>\n",
       "    </tr>\n",
       "    <tr>\n",
       "      <th>25%</th>\n",
       "      <td>45.835833</td>\n",
       "      <td>46.350788</td>\n",
       "    </tr>\n",
       "    <tr>\n",
       "      <th>50%</th>\n",
       "      <td>56.563194</td>\n",
       "      <td>58.466259</td>\n",
       "    </tr>\n",
       "    <tr>\n",
       "      <th>75%</th>\n",
       "      <td>76.463299</td>\n",
       "      <td>77.135378</td>\n",
       "    </tr>\n",
       "    <tr>\n",
       "      <th>95%</th>\n",
       "      <td>83.049744</td>\n",
       "      <td>83.307850</td>\n",
       "    </tr>\n",
       "    <tr>\n",
       "      <th>99%</th>\n",
       "      <td>83.497265</td>\n",
       "      <td>83.635525</td>\n",
       "    </tr>\n",
       "    <tr>\n",
       "      <th>max</th>\n",
       "      <td>83.581024</td>\n",
       "      <td>83.687889</td>\n",
       "    </tr>\n",
       "  </tbody>\n",
       "</table>\n",
       "</div>"
      ],
      "text/plain": [
       "        val_loss       loss\n",
       "count  50.000000  50.000000\n",
       "mean   60.328218  61.127503\n",
       "std    15.172787  15.332026\n",
       "min    39.638050  39.638050\n",
       "0%     39.638050  39.638050\n",
       "25%    45.835833  46.350788\n",
       "50%    56.563194  58.466259\n",
       "75%    76.463299  77.135378\n",
       "95%    83.049744  83.307850\n",
       "99%    83.497265  83.635525\n",
       "max    83.581024  83.687889"
      ]
     },
     "metadata": {},
     "output_type": "display_data"
    },
    {
     "data": {
      "text/plain": [
       "<matplotlib.axes._subplots.AxesSubplot at 0x7f157c584f28>"
      ]
     },
     "execution_count": 7,
     "metadata": {},
     "output_type": "execute_result"
    },
    {
     "data": {
      "image/png": "[encoded data removed]",
      "text/plain": [
       "<Figure size 576x432 with 1 Axes>"
      ]
     },
     "metadata": {},
     "output_type": "display_data"
    }
   ],
   "source": [
    "df = pd.DataFrame(history.history)\n",
    "display(df.describe(percentiles=[0.25 * i for i in range(4)] + [0.95, 0.99]))\n",
    "df['loss'].plot(figsize=(8, 6))"
   ]
  },
  {
   "cell_type": "code",
   "execution_count": 8,
   "metadata": {
    "ExecuteTime": {
     "end_time": "2019-05-25T21:32:53.274411Z",
     "start_time": "2019-05-25T21:32:53.269407Z"
    },
    "scrolled": true
   },
   "outputs": [],
   "source": [
    "#print(df)"
   ]
  },
  {
   "cell_type": "code",
   "execution_count": 9,
   "metadata": {
    "ExecuteTime": {
     "end_time": "2019-05-25T21:32:56.577527Z",
     "start_time": "2019-05-25T21:32:53.278002Z"
    },
    "scrolled": false
   },
   "outputs": [
    {
     "name": "stdout",
     "output_type": "stream",
     "text": [
      "(2, 20, 3)\n",
      "==== 0 0 0\n",
      "X_train[0 0 0 0 ] =  -0.17647058823529413  (105.0)\n",
      " m:  [-0.17190392] ([105.58225])\n",
      " E[m]:  -0.17190392 ([105.58225])\n",
      " invs:  [4.0076156]\n",
      " weights:  [1.]  ( [-0.00131516] )\n",
      " pvals:  97     0.010196\n",
      "98     0.015290\n",
      "99     0.022619\n",
      "100    0.032803\n",
      "101    0.046222\n",
      "102    0.062557\n",
      "103    0.080199\n",
      "104    0.095966\n",
      "105    0.105797\n",
      "106    0.106598\n",
      "107    0.098098\n",
      "108    0.083026\n",
      "109    0.065435\n",
      "110    0.048733\n",
      "111    0.034785\n",
      "112    0.024084\n",
      "113    0.016324\n",
      "114    0.010907\n",
      "dtype: float64\n",
      " pixel_val:  100\n",
      "==== 0 0 1\n",
      "X_train[0 0 0 1 ] =  0.2549019607843137  (160.0)\n",
      " m:  [0.23685539] ([157.69907])\n",
      " E[m]:  0.23685539 ([157.69907])\n",
      " invs:  [4.2559366]\n",
      " weights:  [1.]  ( [-0.00102071] )\n",
      " pvals:  151    0.013099\n",
      "152    0.021961\n",
      "153    0.035902\n",
      "154    0.056339\n",
      "155    0.082971\n",
      "156    0.111434\n",
      "157    0.132485\n",
      "158    0.136474\n",
      "159    0.121320\n",
      "160    0.094507\n",
      "161    0.066327\n",
      "162    0.043215\n",
      "163    0.026808\n",
      "164    0.016127\n",
      "dtype: float64\n",
      " pixel_val:  160\n",
      "==== 0 0 2\n",
      "X_train[0 0 0 2 ] =  -0.7647058823529411  (30.0)\n",
      " m:  [-0.70006436] ([38.24179])\n",
      " E[m]:  -0.70006436 ([38.24179])\n",
      " invs:  [3.364603]\n",
      " weights:  [1.]  ( [-0.00131805] )\n",
      " pvals:  25    0.010229\n",
      "26    0.012528\n",
      "27    0.015258\n",
      "28    0.018452\n",
      "29    0.022129\n",
      "30    0.026273\n",
      "31    0.030821\n",
      "32    0.035655\n",
      "33    0.040584\n",
      "34    0.045352\n",
      "35    0.049651\n",
      "36    0.053149\n",
      "37    0.055543\n",
      "38    0.056606\n",
      "39    0.056233\n",
      "40    0.054461\n",
      "41    0.051462\n",
      "42    0.047510\n",
      "43    0.042928\n",
      "44    0.038041\n",
      "45    0.033133\n",
      "46    0.028428\n",
      "47    0.024077\n",
      "48    0.020170\n",
      "49    0.016743\n",
      "50    0.013792\n",
      "51    0.011290\n",
      "dtype: float64\n",
      " pixel_val:  24\n",
      "==== 0 1 0\n",
      "X_train[0 0 1 0 ] =  0.09803921568627451  (140.0)\n",
      " m:  [0.10299706] ([140.63213])\n",
      " E[m]:  0.10299706 ([140.63213])\n",
      " invs:  [4.408909]\n",
      " weights:  [1.]  ( [-0.00042559] )\n",
      " pvals:  135    0.016455\n",
      "136    0.029869\n",
      "137    0.052071\n",
      "138    0.084690\n",
      "139    0.123324\n",
      "140    0.153462\n",
      "141    0.157586\n",
      "142    0.132912\n",
      "143    0.094724\n",
      "144    0.059702\n",
      "145    0.034764\n",
      "146    0.019316\n",
      "147    0.010454\n",
      "dtype: float64\n",
      " pixel_val:  144\n",
      "==== 0 1 1\n",
      "X_train[0 0 1 1 ] =  0.17647058823529413  (150.0)\n",
      " m:  [0.15166031] ([146.83669])\n",
      " E[m]:  0.15166031 ([146.83669])\n",
      " invs:  [4.2896166]\n",
      " weights:  [1.]  ( [-6.667001e-05] )\n",
      " pvals:  140    0.011140\n",
      "141    0.019133\n",
      "142    0.032119\n",
      "143    0.051904\n",
      "144    0.078931\n",
      "145    0.109585\n",
      "146    0.134363\n",
      "147    0.141745\n",
      "148    0.127678\n",
      "149    0.099644\n",
      "150    0.069413\n",
      "151    0.044614\n",
      "152    0.027209\n",
      "153    0.016066\n",
      "dtype: float64\n",
      " pixel_val:  146\n",
      "==== 0 1 2\n",
      "X_train[0 0 1 2 ] =  0.2549019607843137  (160.0)\n",
      " m:  [0.23608917] ([157.60136])\n",
      " E[m]:  0.23608917 ([157.60136])\n",
      " invs:  [3.719413]\n",
      " weights:  [1.]  ( [0.0003431] )\n",
      " pvals:  148    0.013318\n",
      "149    0.017809\n",
      "150    0.023539\n",
      "151    0.030637\n",
      "152    0.039089\n",
      "153    0.048620\n",
      "154    0.058600\n",
      "155    0.068006\n",
      "156    0.075539\n",
      "157    0.079933\n",
      "158    0.080354\n",
      "159    0.076720\n",
      "160    0.069728\n",
      "161    0.060593\n",
      "162    0.050635\n",
      "163    0.040948\n",
      "164    0.032246\n",
      "165    0.024865\n",
      "166    0.018865\n",
      "167    0.014137\n",
      "168    0.010496\n",
      "dtype: float64\n",
      " pixel_val:  161\n",
      "row 0\n",
      "==== 1 0 0\n",
      "X_train[0 1 0 0 ] =  0.5686274509803921  (200.0)\n",
      " m:  [0.5863359] ([202.25783])\n",
      " E[m]:  0.5863359 ([202.25783])\n",
      " invs:  [3.8051157]\n",
      " weights:  [1.]  ( [0.00027357] )\n",
      " pvals:  193    0.012569\n",
      "194    0.017327\n",
      "195    0.023593\n",
      "196    0.031588\n",
      "197    0.041353\n",
      "198    0.052572\n",
      "199    0.064399\n",
      "200    0.075393\n",
      "201    0.083723\n",
      "202    0.087691\n",
      "203    0.086396\n",
      "204    0.080139\n",
      "205    0.070283\n",
      "206    0.058672\n",
      "207    0.046995\n",
      "208    0.036412\n",
      "209    0.027491\n",
      "210    0.020353\n",
      "211    0.014851\n",
      "212    0.010722\n",
      "dtype: float64\n",
      " pixel_val:  202\n",
      "==== 1 0 1\n",
      "X_train[0 1 0 1 ] =  0.6470588235294118  (210.0)\n",
      " m:  [0.637368] ([208.76442])\n",
      " E[m]:  0.637368 ([208.76442])\n",
      " invs:  [3.9034545]\n",
      " weights:  [1.]  ( [0.00038144] )\n",
      " pvals:  200    0.012126\n",
      "201    0.017347\n",
      "202    0.024477\n",
      "203    0.033877\n",
      "204    0.045653\n",
      "205    0.059363\n",
      "206    0.073701\n",
      "207    0.086423\n",
      "208    0.094807\n",
      "209    0.096696\n",
      "210    0.091562\n",
      "211    0.080802\n",
      "212    0.066990\n",
      "213    0.052723\n",
      "214    0.039820\n",
      "215    0.029149\n",
      "216    0.020854\n",
      "217    0.014675\n",
      "218    0.010207\n",
      "dtype: float64\n",
      " pixel_val:  211\n",
      "==== 1 0 2\n",
      "X_train[0 1 0 2 ] =  0.7254901960784313  (220.0)\n",
      " m:  [0.7530133] ([223.5092])\n",
      " E[m]:  0.7530133 ([223.5092])\n",
      " invs:  [4.0437713]\n",
      " weights:  [1.]  ( [0.00035647] )\n",
      " pvals:  216    0.014619\n",
      "217    0.022006\n",
      "218    0.032465\n",
      "219    0.046500\n",
      "220    0.063855\n",
      "221    0.082798\n",
      "222    0.099723\n",
      "223    0.109965\n",
      "224    0.110065\n",
      "225    0.099986\n",
      "226    0.083141\n",
      "227    0.064197\n",
      "228    0.046792\n",
      "229    0.032690\n",
      "230    0.022168\n",
      "231    0.014731\n",
      "dtype: float64\n",
      " pixel_val:  225\n",
      "==== 1 1 0\n",
      "X_train[0 1 1 0 ] =  0.803921568627451  (230.0)\n",
      " m:  [0.85653913] ([236.70874])\n",
      " E[m]:  0.85653913 ([236.70874])\n",
      " invs:  [3.6486688]\n",
      " weights:  [1.]  ( [-0.00040099] )\n",
      " pvals:  226    0.011092\n",
      "227    0.014595\n",
      "228    0.019034\n",
      "229    0.024537\n",
      "230    0.031164\n",
      "231    0.038839\n",
      "232    0.047282\n",
      "233    0.055941\n",
      "234    0.063995\n",
      "235    0.070450\n",
      "236    0.074351\n",
      "237    0.075053\n",
      "238    0.072436\n",
      "239    0.066943\n",
      "240    0.059432\n",
      "241    0.050912\n",
      "242    0.042296\n",
      "243    0.034251\n",
      "244    0.027168\n",
      "245    0.021197\n",
      "246    0.016326\n",
      "247    0.012450\n",
      "dtype: float64\n",
      " pixel_val:  229\n",
      "==== 1 1 1\n",
      "X_train[0 1 1 1 ] =  0.8823529411764706  (240.0)\n",
      " m:  [0.8624186] ([237.45837])\n",
      " E[m]:  0.8624186 ([237.45837])\n",
      " invs:  [4.144281]\n",
      " weights:  [1.]  ( [-0.00046352] )\n",
      " pvals:  230    0.011867\n",
      "231    0.018852\n",
      "232    0.029377\n",
      "233    0.044436\n",
      "234    0.064270\n",
      "235    0.087185\n",
      "236    0.108523\n",
      "237    0.121499\n",
      "238    0.120893\n",
      "239    0.106969\n",
      "240    0.085253\n",
      "241    0.062460\n",
      "242    0.042994\n",
      "243    0.028340\n",
      "244    0.018150\n",
      "245    0.011411\n",
      "dtype: float64\n",
      " pixel_val:  242\n",
      "==== 1 1 2\n",
      "X_train[0 1 1 2 ] =  0.9607843137254902  (250.0)\n",
      " m:  [1.00931] ([256.187])\n",
      " E[m]:  1.00931 ([256.187])\n",
      " invs:  [2.7436216]\n",
      " weights:  [1.]  ( [-0.00050708] )\n",
      " pvals:  238    0.010801\n",
      "239    0.011896\n",
      "240    0.013064\n",
      "241    0.014301\n",
      "242    0.015601\n",
      "243    0.016954\n",
      "244    0.018348\n",
      "245    0.019769\n",
      "246    0.021197\n",
      "247    0.022611\n",
      "248    0.023987\n",
      "249    0.025298\n",
      "250    0.026517\n",
      "251    0.027616\n",
      "252    0.028567\n",
      "253    0.029347\n",
      "254    0.029932\n",
      "255    0.551229\n",
      "dtype: float64\n",
      " pixel_val:  255\n",
      "row 1\n"
     ]
    },
    {
     "data": {
      "image/png": "[encoded data removed]",
      "text/plain": [
       "<Figure size 432x288 with 1 Axes>"
      ]
     },
     "metadata": {},
     "output_type": "display_data"
    },
    {
     "data": {
      "image/png": "[encoded data removed]",
      "text/plain": [
       "<Figure size 864x864 with 1 Axes>"
      ]
     },
     "metadata": {},
     "output_type": "display_data"
    },
    {
     "name": "stdout",
     "output_type": "stream",
     "text": [
      "Elapsed:  3.1770179271698\n"
     ]
    }
   ],
   "source": [
    "debug = True\n",
    "\n",
    "def gen_image(model, num_samples=batch_size):\n",
    "    x_sample = np.zeros((num_samples, img_rows, img_cols, img_chns))\n",
    "    \n",
    "    # Iteratively generate each conditional pixel P(x_i | x_{1,..,i-1})\n",
    "    for i in range(img_rows):\n",
    "        for j in range(img_cols):\n",
    "            for k in range(img_chns):\n",
    "                # =======================================================\n",
    "                #x_out = model.predict(X_train, num_samples)\n",
    "                x_out = model.predict(x_sample, num_samples)\n",
    "                for n in range(num_samples):\n",
    "                    offset = k * mixture_components\n",
    "                    x_ms = x_out[n, i, j, offset:offset + mixture_components]\n",
    "                    offset = mixture_components * img_chns + k * mixture_components\n",
    "\n",
    "                    x_invs = x_out[n, i, j, offset:offset + mixture_components]\n",
    "                    offset = 2 * mixture_components * img_chns + k * mixture_components\n",
    "                    weights = softmax(x_out[n, i, j, offset:offset + mixture_components])\n",
    "                    pvals = compute_mixture(x_ms, x_invs, weights, mixture_components)\n",
    "                    pvals /= (np.sum(pvals) + 1e-5)\n",
    "                    pixel_val = np.argmax(np.random.multinomial(1, pvals))\n",
    "                    x_sample[n, i, j, k] = (pixel_val - 127.5) / 127.5\n",
    "                    if 0 <= i <= 16 and 0 <= j <= 16 and debug:\n",
    "                        print(\"====\", i, j, k)\n",
    "                        print(\"X_train[0\", i, j, k, \"] = \", X_train[0, i, j, k], \n",
    "                              \" (%s)\" % (X_train[0, i, j, k] * 127.5 + 127.5))\n",
    "                        print(\" m: \", x_ms, \"(%s)\" % (x_ms * 127.5 + 127.5))\n",
    "                        print(\" E[m]: \", (x_ms * weights).sum(), \"(%s)\" % (x_ms * 127.5 + 127.5))\n",
    "                        print(\" invs: \", x_invs)\n",
    "                        print(\" weights: \", weights, \" (\", x_out[n, i, j, offset:offset + mixture_components] ,\")\")\n",
    "                        s = pd.Series(pvals)\n",
    "                        print(\" pvals: \", s[s>1e-2])\n",
    "                        print(\" pixel_val: \", pixel_val)\n",
    "                        samples = pd.Series(np.random.choice(len(pvals), 1000, p=pvals / pvals.sum()))\n",
    "                        samples.hist(bins=128, alpha=0.5, label='generated')\n",
    "                        #print(\"====\", i, j, k)\n",
    "                        #print(\" m: \", x_ms)\n",
    "                        #print(\" invs: \", x_invs)\n",
    "                        #print(\" weights: \", weights)\n",
    "                        #print(\" pixel_val: \", pixel_val)\n",
    "                        #print(\" x_out[n, i, j, :]: \", x_out[n, i, j, :])\n",
    "                        #print(\" x_out: \", x_out)\n",
    "                        #print(\" sample_val: \", x_sample[n, i, j, k])\n",
    "                        #print(\" pvals: \", pvals)\n",
    "        if debug:\n",
    "            print(\"row\", i)\n",
    "        \n",
    "                \n",
    "    return (x_sample * 127.5 + 127.5)\n",
    "\n",
    "\n",
    "start = time.time()\n",
    "\n",
    "n = 1 if debug else 10\n",
    "figure = np.zeros((img_rows * ((n - 1) // 10 + 1), img_cols * 10, img_chns))\n",
    "print(figure.shape)\n",
    "# num_samples = batch_size\n",
    "num_samples = 1\n",
    "for i in range(1):\n",
    "    samples = gen_image(model, num_samples=num_samples)\n",
    "    for j in range(num_samples):\n",
    "        img = samples[j] / 255.\n",
    "        d_x = ((i * batch_size + j) // 10) * img_rows\n",
    "        d_y = ((i * batch_size + j) % 10) * img_cols\n",
    "        figure[d_x:d_x + img_rows, d_y:d_y + img_cols, :] = img\n",
    "        \n",
    "plt.figure(figsize=(12, 12))\n",
    "plt.imshow(figure)\n",
    "plt.show()\n",
    "\n",
    "done = time.time()\n",
    "elapsed = done - start\n",
    "print(\"Elapsed: \", elapsed)"
   ]
  },
  {
   "cell_type": "code",
   "execution_count": 13,
   "metadata": {
    "ExecuteTime": {
     "end_time": "2019-05-25T21:33:45.882888Z",
     "start_time": "2019-05-25T21:33:45.874404Z"
    }
   },
   "outputs": [
    {
     "data": {
      "text/plain": [
       "array([[[105., 160.,  30.],\n",
       "        [140., 150., 160.]],\n",
       "\n",
       "       [[200., 210., 220.],\n",
       "        [230., 240., 250.]]])"
      ]
     },
     "metadata": {},
     "output_type": "display_data"
    },
    {
     "data": {
      "text/plain": [
       "array([[[100., 160.,  24.],\n",
       "        [144., 146., 161.]],\n",
       "\n",
       "       [[202., 211., 225.],\n",
       "        [229., 242., 255.]]])"
      ]
     },
     "metadata": {},
     "output_type": "display_data"
    }
   ],
   "source": [
    "display(X_train[0] * 127.5 + 127.5)\n",
    "display(samples[0])"
   ]
  },
  {
   "cell_type": "code",
   "execution_count": 15,
   "metadata": {
    "ExecuteTime": {
     "end_time": "2019-05-25T21:33:59.790089Z",
     "start_time": "2019-05-25T21:33:59.627094Z"
    }
   },
   "outputs": [
    {
     "data": {
      "image/png": "[encoded data removed]",
      "text/plain": [
       "<Figure size 144x144 with 1 Axes>"
      ]
     },
     "metadata": {},
     "output_type": "display_data"
    },
    {
     "data": {
      "image/png": "[encoded data removed]",
      "text/plain": [
       "<Figure size 864x864 with 1 Axes>"
      ]
     },
     "metadata": {},
     "output_type": "display_data"
    },
    {
     "data": {
      "text/plain": [
       "array([[[0.39215686, 0.62745098, 0.09411765],\n",
       "        [0.56470588, 0.57254902, 0.63137255],\n",
       "        [0.        , 0.        , 0.        ],\n",
       "        [0.        , 0.        , 0.        ],\n",
       "        [0.        , 0.        , 0.        ],\n",
       "        [0.        , 0.        , 0.        ],\n",
       "        [0.        , 0.        , 0.        ],\n",
       "        [0.        , 0.        , 0.        ],\n",
       "        [0.        , 0.        , 0.        ],\n",
       "        [0.        , 0.        , 0.        ],\n",
       "        [0.        , 0.        , 0.        ],\n",
       "        [0.        , 0.        , 0.        ],\n",
       "        [0.        , 0.        , 0.        ],\n",
       "        [0.        , 0.        , 0.        ],\n",
       "        [0.        , 0.        , 0.        ],\n",
       "        [0.        , 0.        , 0.        ],\n",
       "        [0.        , 0.        , 0.        ],\n",
       "        [0.        , 0.        , 0.        ],\n",
       "        [0.        , 0.        , 0.        ],\n",
       "        [0.        , 0.        , 0.        ]],\n",
       "\n",
       "       [[0.79215686, 0.82745098, 0.88235294],\n",
       "        [0.89803922, 0.94901961, 1.        ],\n",
       "        [0.        , 0.        , 0.        ],\n",
       "        [0.        , 0.        , 0.        ],\n",
       "        [0.        , 0.        , 0.        ],\n",
       "        [0.        , 0.        , 0.        ],\n",
       "        [0.        , 0.        , 0.        ],\n",
       "        [0.        , 0.        , 0.        ],\n",
       "        [0.        , 0.        , 0.        ],\n",
       "        [0.        , 0.        , 0.        ],\n",
       "        [0.        , 0.        , 0.        ],\n",
       "        [0.        , 0.        , 0.        ],\n",
       "        [0.        , 0.        , 0.        ],\n",
       "        [0.        , 0.        , 0.        ],\n",
       "        [0.        , 0.        , 0.        ],\n",
       "        [0.        , 0.        , 0.        ],\n",
       "        [0.        , 0.        , 0.        ],\n",
       "        [0.        , 0.        , 0.        ],\n",
       "        [0.        , 0.        , 0.        ],\n",
       "        [0.        , 0.        , 0.        ]]])"
      ]
     },
     "execution_count": 15,
     "metadata": {},
     "output_type": "execute_result"
    }
   ],
   "source": [
    "plt.figure(figsize=(2, 2))\n",
    "plt.imshow((X_train[0] * 127.5 + 127.5) / 255.)\n",
    "plt.show()\n",
    "\n",
    "plt.figure(figsize=(12, 12))\n",
    "plt.imshow(figure)\n",
    "plt.show()\n",
    "\n",
    "figure"
   ]
  },
  {
   "cell_type": "markdown",
   "metadata": {},
   "source": [
    "# 2019-05-13\n",
    "\n",
    "* I was having trouble fitting even this small image -- it seems like the 'relu' activation right after the PixelConv2D layer at the very start was causing the problem.  Getting rid of that `relu` make it fit almost exactly now (after enough epochs).\n",
    "* I suspect that's because most of the activations were negative, thus passing through `relu` caused it to be near zero output causing no learning to happen?\n",
    "* Here's an example of (1, 1, 3) image, with 10 filters on initial `PixelConv2D` layer, followed by `Dense` layers to match the right output formats for m, invs, weights.  You can see that we're almost bang on for each pixel, centered at the actual pixel, with almost all the mass within 2-3 intensity values:\n",
    "\n",
    "        ==== 0 0 0\n",
    "        X_train[0, i, j, k] =  -0.6862745098039216  (40.0)\n",
    "         m:  [-0.6863073]\n",
    "         E[m]:  -0.6863073\n",
    "         invs:  [4.973635]\n",
    "         weights:  [1.]\n",
    "         pvals:  36    0.012568\n",
    "        37    0.037100\n",
    "        38    0.099260\n",
    "        39    0.208047\n",
    "        40    0.276076\n",
    "        41    0.207095\n",
    "        42    0.098519\n",
    "        43    0.036775\n",
    "        44    0.012452\n",
    "        dtype: float64\n",
    "         pixel_val:  42\n",
    "        ==== 0 0 1\n",
    "        X_train[0, i, j, k] =  -0.37254901960784315  (80.0)\n",
    "         m:  [-0.37255913]\n",
    "         E[m]:  -0.37255913\n",
    "         invs:  [5.821288]\n",
    "         weights:  [1.]\n",
    "         pvals:  78    0.017253\n",
    "        79    0.192262\n",
    "        80    0.579408\n",
    "        81    0.191254\n",
    "        82    0.017138\n",
    "        dtype: float64\n",
    "         pixel_val:  80\n",
    "        ==== 0 0 2\n",
    "        X_train[0, i, j, k] =  -0.058823529411764705  (120.0)\n",
    "         m:  [-0.05882262]\n",
    "         E[m]:  -0.058822624\n",
    "         invs:  [6.2373266]\n",
    "         weights:  [1.]\n",
    "         pvals:  119    0.116113\n",
    "        120    0.762810\n",
    "        121    0.116207\n",
    "        dtype: float64\n",
    "         pixel_val:  120\n",
    "         \n",
    "* Tried growing to 2x2 image size, it almost looks like it tries to fit the first pixel only (40, 80, 120) and all the other pixels get distributions like that.  It's quite likely because I don't have enough depth.  For example, after getting rid of the activation on the first layer, the `m` is purely a linear function through the `PixelConv2D` and `Dense` layer.\n",
    "* TODO: Try adding depth to the `Dense` layers to give the network a bit capacity."
   ]
  },
  {
   "cell_type": "markdown",
   "metadata": {},
   "source": [
    "# 2019-05-25\n",
    "\n",
    "* Debugging network by fixing weights (single mixture so doens't matter) and `invs` to different fixes values\n",
    "* Also setting all activations to `tanh` (setting it to `sigmoid` doesn't seem to work?)\n",
    "* Setting `invs={1, 3, 5}` both pretty messy not real convergence but... setting `invs=2` gave me really tight `m`s but notice that `invs=2` is a really wide distribution... could be spread over > 100 even though the center is right.. still need to figure out what's going on:\n",
    "\n",
    "        ==== 0 0 0\n",
    "        X_train[0 0 0 0 ] =  -0.17647058823529413  (105.0)\n",
    "         m:  [-0.19976245] ([102.03029])\n",
    "         E[m]:  -0.19976245 ([102.03029])\n",
    "         invs:  [2.]\n",
    "         weights:  [1.]  ( [0.1] )\n",
    "         pixel_val:  116\n",
    "        ==== 0 0 1\n",
    "        X_train[0 0 0 1 ] =  0.2549019607843137  (160.0)\n",
    "         m:  [0.23929669] ([158.01033])\n",
    "         E[m]:  0.23929669 ([158.01033])\n",
    "         invs:  [2.]\n",
    "         weights:  [1.]  ( [0.1] )\n",
    "         pixel_val:  152\n",
    "        ==== 0 0 2\n",
    "        X_train[0 0 0 2 ] =  -0.7647058823529411  (30.0)\n",
    "         m:  [-0.7363449] ([33.616028])\n",
    "         E[m]:  -0.7363449 ([33.616028])\n",
    "         invs:  [2.]\n",
    "         weights:  [1.]  ( [0.1] )\n",
    "         pixel_val:  40\n",
    "        ==== 0 1 0\n",
    "        X_train[0 0 1 0 ] =  0.09803921568627451  (140.0)\n",
    "         m:  [0.09223882] ([139.26045])\n",
    "         E[m]:  0.09223882 ([139.26045])\n",
    "         invs:  [2.]\n",
    "         weights:  [1.]  ( [0.1] )\n",
    "         pixel_val:  151\n",
    "        ==== 0 1 1\n",
    "        X_train[0 0 1 1 ] =  0.17647058823529413  (150.0)\n",
    "         m:  [0.17732275] ([150.10864])\n",
    "         E[m]:  0.17732275 ([150.10864])\n",
    "         invs:  [2.]\n",
    "         weights:  [1.]  ( [0.1] )\n",
    "         pixel_val:  159\n",
    "        ==== 0 1 2\n",
    "        X_train[0 0 1 2 ] =  0.2549019607843137  (160.0)\n",
    "         m:  [0.25956577] ([160.59464])\n",
    "         E[m]:  0.25956577 ([160.59464])\n",
    "         invs:  [2.]\n",
    "         weights:  [1.]  ( [0.1] )\n",
    "         pixel_val:  138\n",
    "        row 0\n",
    "        ==== 1 0 0\n",
    "        X_train[0 1 0 0 ] =  0.5686274509803921  (200.0)\n",
    "         m:  [0.57632023] ([200.98083])\n",
    "         E[m]:  0.57632023 ([200.98083])\n",
    "         invs:  [2.]\n",
    "         weights:  [1.]  ( [0.1] )\n",
    "         pixel_val:  89\n",
    "        ==== 1 0 1\n",
    "        X_train[0 1 0 1 ] =  0.6470588235294118  (210.0)\n",
    "         m:  [0.6417392] ([209.32175])\n",
    "         E[m]:  0.6417392 ([209.32175])\n",
    "         invs:  [2.]\n",
    "         weights:  [1.]  ( [0.1] )\n",
    "         pixel_val:  180\n",
    "        ==== 1 0 2\n",
    "        X_train[0 1 0 2 ] =  0.7254901960784313  (220.0)\n",
    "         m:  [0.7126783] ([218.36649])\n",
    "         E[m]:  0.7126783 ([218.36649])\n",
    "         invs:  [2.]\n",
    "         weights:  [1.]  ( [0.1] )\n",
    "         pixel_val:  174\n",
    "        ==== 1 1 0\n",
    "        X_train[0 1 1 0 ] =  0.803921568627451  (230.0)\n",
    "         m:  [0.79810566] ([229.25847])\n",
    "         E[m]:  0.79810566 ([229.25847])\n",
    "         invs:  [2.]\n",
    "         weights:  [1.]  ( [0.1] )\n",
    "         pixel_val:  206\n",
    "        ==== 1 1 1\n",
    "        X_train[0 1 1 1 ] =  0.8823529411764706  (240.0)\n",
    "         m:  [0.8930376] ([241.3623])\n",
    "         E[m]:  0.8930376 ([241.3623])\n",
    "         invs:  [2.]\n",
    "         weights:  [1.]  ( [0.1] )\n",
    "         pixel_val:  234\n",
    "        \n",
    "* Playing around with the activations and number of perceptrons doesn't really change anything.  I wonder... if the `invs` is too big than maybe the loss function blows up somehow?  The `exp(invs)` could cause some problems...\n",
    "* Tried a few other combinations at (`invs=2`) with `relu` and using no activation on `m` output and still seems like it converges pretty well.  Quite likely it's an issue with the `invs`... so because I always did `lambda x: 5*x. + 3` it never quited worked properly...\n",
    "* Tried to reset everything but did `invs = lambda x: x + 2.0` and it worked!  Distributions are still sticking to `invs=2.0`, almost all of them are exactly `2` otherwise something like `2.01`.  It somehow has trouble making the likelihood tigher! Need to investigate loss probably.\n"
   ]
  },
  {
   "cell_type": "markdown",
   "metadata": {
    "ExecuteTime": {
     "end_time": "2019-05-25T14:30:02.253656Z",
     "start_time": "2019-05-25T14:30:02.249271Z"
    }
   },
   "source": [
    "* Narrowed it down in the loss function:\n",
    "\n",
    "       log_ll = K.tf.where(x <= -0.999, log_cdfplus,\n",
    "                           K.tf.where(x >= 0.999, log_1minus_cdf,\n",
    "                                      K.tf.where(cdfplus_safe - cdfminus_safe > 1e-5,\n",
    "                                                 K.log(K.maximum(cdfplus_safe - cdfminus_safe, 1e-12)),\n",
    "                                                 log_pdf_mid - np.log(127.5))))\n",
    "\n",
    "  Notice the `1e-5`, often times you will have the difference in the CDFs be less than `1-e5`, here is an example I did offline:"
   ]
  },
  {
   "cell_type": "code",
   "execution_count": 12,
   "metadata": {
    "ExecuteTime": {
     "end_time": "2019-05-25T21:32:56.987004Z",
     "start_time": "2019-05-25T21:32:56.982286Z"
    }
   },
   "outputs": [
    {
     "data": {
      "text/plain": [
       "(-9.50712273796075,\n",
       " -9.60267171020156,\n",
       " 7.431505102396395e-05,\n",
       " 6.754346401686886e-05,\n",
       " 6.771587007095093e-06)"
      ]
     },
     "execution_count": 12,
     "metadata": {},
     "output_type": "execute_result"
    }
   ],
   "source": [
    "f = lambda x: (x - 127.5) / 127.5\n",
    "\n",
    "cdfargplus = (f(150) - f(250) + 0.5 / 127.5) * np.exp(2.5)\n",
    "cdfargminus = (f(150) - f(250) - 0.5 / 127.5) * np.exp(2.5)\n",
    "\n",
    "cdfargplus, cdfargminus, sigmoid(cdfargplus), sigmoid(cdfargminus), sigmoid(cdfargplus) - sigmoid(cdfargminus)"
   ]
  },
  {
   "cell_type": "markdown",
   "metadata": {},
   "source": [
    "* See how the difference is `6.77e-06`, this will make it go into the last `log_pdf_mid - np.log(127.5)` case.  In the PixelCNN++ it has a comment that it's not used, but it looks like in my implementation is does get used!\n",
    "* I played around of changing `1e-5` to `1e-{8, 10, 12}`, and I'm able to up the min `invs=2.5` (can't quite get to `3.0`.\n",
    "* So when the CDFs are very close, the gradient is probably super small and you don't learn much -- even though the `m` or `invs` could be very far from the actual value.  This suggests that the last part `log_pdf_mid - ...` needs to be changed so that it actually learns something in this degenerate case (i.e. I'm guessing when the `m` is way off, or the `invs` is too narrow).  It's got to be something like just the parameters to the `cdf` maybe?"
   ]
  },
  {
   "cell_type": "markdown",
   "metadata": {},
   "source": [
    "(CONTINUED)\n",
    "\n",
    "* So I did implement the `log_pdf_mid` wrong.  The way it was supposed to work is that when you have a small CDF diff (cdfplus - cdf_minus < 1e-5), you were supposed to approximate it by logistic PDF * 1 pixel width = log(pdf * 1 / 127.5) = log(pdf) - log(1 / 127.5).  \n",
    "* I actually implemented this and it works!  The pixelCNN++ has some different +/- signs so I'm not exactly sure how  they used all of those.  They also say they don't need this \"edge\" case but I definitely did or else it would blow up.\n",
    "* I also used a \"softplus\" for the activation of `invs` (without any artificial lower bound), this works much better than `relu` because there's no hard `0` gradient.  Seems to have my lowest negative log loss yet: 30-40\n",
    "\n",
    "Here is a run: \n",
    "\n",
    "    ==== 0 0 0\n",
    "    X_train[0 0 0 0 ] =  -0.17647058823529413  (105.0)\n",
    "     m:  [-0.17190392] ([105.58225])\n",
    "     E[m]:  -0.17190392 ([105.58225])\n",
    "     invs:  [4.0076156]\n",
    "     weights:  [1.]  ( [-0.00131516] )\n",
    "     pvals:  97     0.010196\n",
    "    98     0.015290\n",
    "    99     0.022619\n",
    "    100    0.032803\n",
    "    101    0.046222\n",
    "    102    0.062557\n",
    "    103    0.080199\n",
    "    104    0.095966\n",
    "    105    0.105797\n",
    "    106    0.106598\n",
    "    107    0.098098\n",
    "    108    0.083026\n",
    "    109    0.065435\n",
    "    110    0.048733\n",
    "    111    0.034785\n",
    "    112    0.024084\n",
    "    113    0.016324\n",
    "    114    0.010907\n",
    "    dtype: float64\n",
    "     pixel_val:  100\n",
    "    ==== 0 0 1\n",
    "    X_train[0 0 0 1 ] =  0.2549019607843137  (160.0)\n",
    "     m:  [0.23685539] ([157.69907])\n",
    "     E[m]:  0.23685539 ([157.69907])\n",
    "     invs:  [4.2559366]\n",
    "     weights:  [1.]  ( [-0.00102071] )\n",
    "     pvals:  151    0.013099\n",
    "    152    0.021961\n",
    "    153    0.035902\n",
    "    154    0.056339\n",
    "    155    0.082971\n",
    "    156    0.111434\n",
    "    157    0.132485\n",
    "    158    0.136474\n",
    "    159    0.121320\n",
    "    160    0.094507\n",
    "    161    0.066327\n",
    "    162    0.043215\n",
    "    163    0.026808\n",
    "    164    0.016127\n",
    "    dtype: float64\n",
    "     pixel_val:  160\n",
    "    ==== 0 0 2\n",
    "    X_train[0 0 0 2 ] =  -0.7647058823529411  (30.0)\n",
    "     m:  [-0.70006436] ([38.24179])\n",
    "     E[m]:  -0.70006436 ([38.24179])\n",
    "     invs:  [3.364603]\n",
    "     weights:  [1.]  ( [-0.00131805] )\n",
    "     pvals:  25    0.010229\n",
    "    26    0.012528\n",
    "    27    0.015258\n",
    "    28    0.018452\n",
    "    29    0.022129\n",
    "    30    0.026273\n",
    "    31    0.030821\n",
    "    32    0.035655\n",
    "    33    0.040584\n",
    "    34    0.045352\n",
    "    35    0.049651\n",
    "    36    0.053149\n",
    "    37    0.055543\n",
    "    38    0.056606\n",
    "    39    0.056233\n",
    "    40    0.054461\n",
    "    41    0.051462\n",
    "    42    0.047510\n",
    "    43    0.042928\n",
    "    44    0.038041\n",
    "    45    0.033133\n",
    "    46    0.028428\n",
    "    47    0.024077\n",
    "    48    0.020170\n",
    "    49    0.016743\n",
    "    50    0.013792\n",
    "    51    0.011290\n",
    "    dtype: float64\n",
    "     pixel_val:  24\n",
    "    ==== 1 1 2\n",
    "    X_train[0 1 1 2 ] =  0.9607843137254902  (250.0)\n",
    "     m:  [1.00931] ([256.187])\n",
    "     E[m]:  1.00931 ([256.187])\n",
    "     invs:  [2.7436216]\n",
    "     weights:  [1.]  ( [-0.00050708] )\n",
    "     pvals:  238    0.010801\n",
    "    239    0.011896\n",
    "    240    0.013064\n",
    "    241    0.014301\n",
    "    242    0.015601\n",
    "    243    0.016954\n",
    "    244    0.018348\n",
    "    245    0.019769\n",
    "    246    0.021197\n",
    "    247    0.022611\n",
    "    248    0.023987\n",
    "    249    0.025298\n",
    "    250    0.026517\n",
    "    251    0.027616\n",
    "    252    0.028567\n",
    "    253    0.029347\n",
    "    254    0.029932\n",
    "    255    0.551229\n",
    "    dtype: float64\n",
    "     pixel_val:  255\n",
    "    row 1"
   ]
  },
  {
   "cell_type": "code",
   "execution_count": null,
   "metadata": {},
   "outputs": [],
   "source": []
  }
 ],
 "metadata": {
  "celltoolbar": "Slideshow",
  "kernelspec": {
   "display_name": "Python 3",
   "language": "python",
   "name": "python3"
  },
  "language_info": {
   "codemirror_mode": {
    "name": "ipython",
    "version": 3
   },
   "file_extension": ".py",
   "mimetype": "text/x-python",
   "name": "python",
   "nbconvert_exporter": "python",
   "pygments_lexer": "ipython3",
   "version": "3.6.5"
  },
  "widgets": {
   "state": {
    "042d9353a5294a1cae93f8eb9e9a3c84": {
     "views": [
      {
       "cell_index": 12
      }
     ]
    },
    "05e25527c52843438585a66b7e9f443c": {
     "views": [
      {
       "cell_index": 12
      }
     ]
    },
    "06fdc638a3dc45a0a1e82f2b3c90c18d": {
     "views": [
      {
       "cell_index": 12
      }
     ]
    },
    "07f49ab2133c40a4a245e0a348843084": {
     "views": [
      {
       "cell_index": 12
      }
     ]
    },
    "12369f27c46c46f58c925a3d9749e65d": {
     "views": [
      {
       "cell_index": 12
      }
     ]
    },
    "16bcb109a6814007801cf814c76aa6d3": {
     "views": [
      {
       "cell_index": 12
      }
     ]
    },
    "1930a5477ce44850aaa99c20f3f7e542": {
     "views": [
      {
       "cell_index": 12
      }
     ]
    },
    "194b186d11d94c28afd8a01d9fd8ae1e": {
     "views": [
      {
       "cell_index": 12
      }
     ]
    },
    "1ccc61b6a278489eacb5735a740e79bf": {
     "views": [
      {
       "cell_index": 12
      }
     ]
    },
    "1d67ae6836244a81bff253e0426488ff": {
     "views": [
      {
       "cell_index": 12
      }
     ]
    },
    "213bd5ec7a124467b85e240c7bdcc819": {
     "views": [
      {
       "cell_index": 12
      }
     ]
    },
    "23c591bc3a7e4df5b0e21677e2869f27": {
     "views": [
      {
       "cell_index": 12
      }
     ]
    },
    "24382361c62a4bbc9741c2129be71810": {
     "views": [
      {
       "cell_index": 12
      }
     ]
    },
    "24419d69ef3347819fcc70448978bf05": {
     "views": [
      {
       "cell_index": 12
      }
     ]
    },
    "25ecd0ca842e43fcabc04a82fff2dac1": {
     "views": [
      {
       "cell_index": 12
      }
     ]
    },
    "26bab0144edd46609ddcdd6bfd65115f": {
     "views": [
      {
       "cell_index": 12
      }
     ]
    },
    "28707906c2344d00b07ee40c479121db": {
     "views": [
      {
       "cell_index": 12
      }
     ]
    },
    "287646592b8e41f2920e73c7e92d2ec0": {
     "views": [
      {
       "cell_index": 12
      }
     ]
    },
    "28a8916064514ce7912c103e7370ad47": {
     "views": [
      {
       "cell_index": 12
      }
     ]
    },
    "2a100dade8384007bf4abf580068cdc3": {
     "views": [
      {
       "cell_index": 12
      }
     ]
    },
    "2b28c9ea3e5b4950bdfcd897162bd56d": {
     "views": [
      {
       "cell_index": 12
      }
     ]
    },
    "2b5b08661aee4f9296e0878cb4ce041b": {
     "views": [
      {
       "cell_index": 12
      }
     ]
    },
    "2bd96fa1931842749cd9ba68345a4132": {
     "views": [
      {
       "cell_index": 12
      }
     ]
    },
    "32a97da73a594458a7080928d0aa12a4": {
     "views": [
      {
       "cell_index": 12
      }
     ]
    },
    "33a124f13a124b64bbca8a0a4a96999c": {
     "views": [
      {
       "cell_index": 12
      }
     ]
    },
    "3477d40608834aca90d0f57b44f7b3e7": {
     "views": [
      {
       "cell_index": 12
      }
     ]
    },
    "357ae9996a19410e98f131fc86e2c937": {
     "views": [
      {
       "cell_index": 12
      }
     ]
    },
    "3a1b2c52257843549c64aedde0be827c": {
     "views": [
      {
       "cell_index": 12
      }
     ]
    },
    "3a685442e38243f5a601d54d59c37fdd": {
     "views": [
      {
       "cell_index": 12
      }
     ]
    },
    "3ac750287e394cc281f1dc3487e94df6": {
     "views": [
      {
       "cell_index": 12
      }
     ]
    },
    "3afef162a0304210973a3797acf40cab": {
     "views": [
      {
       "cell_index": 12
      }
     ]
    },
    "3c47ecdd65c049cfa66eb21ad8fd933b": {
     "views": [
      {
       "cell_index": 12
      }
     ]
    },
    "40b3e13fb5ae4ceda47aa8542106d365": {
     "views": [
      {
       "cell_index": 12
      }
     ]
    },
    "439afcda2d4e4ce9af1ea7024a9bd0b5": {
     "views": [
      {
       "cell_index": 12
      }
     ]
    },
    "440c8e7f865840019dd96476fe5fe1bc": {
     "views": [
      {
       "cell_index": 12
      }
     ]
    },
    "4480a3d377a748c5bbd202d71b80b323": {
     "views": [
      {
       "cell_index": 12
      }
     ]
    },
    "4692e78886d942c982ddd2a97a55f649": {
     "views": [
      {
       "cell_index": 12
      }
     ]
    },
    "47282faa187746bb8339a4fb4ac58068": {
     "views": [
      {
       "cell_index": 12
      }
     ]
    },
    "4a1af9ac778a45d8baac52255b6aaac0": {
     "views": [
      {
       "cell_index": 12
      }
     ]
    },
    "4a7ca0764c1d4f4e8c818452e0faad22": {
     "views": [
      {
       "cell_index": 12
      }
     ]
    },
    "4f9ead92babf43a6a7c2dbe03bc199e1": {
     "views": [
      {
       "cell_index": 12
      }
     ]
    },
    "4fe4e6c7a7c04da0b82eedfee59f123c": {
     "views": [
      {
       "cell_index": 12
      }
     ]
    },
    "509696b56ebd4c078824720adfb9c882": {
     "views": [
      {
       "cell_index": 12
      }
     ]
    },
    "5288b8c03d57497384001bd545f9473a": {
     "views": [
      {
       "cell_index": 12
      }
     ]
    },
    "54c0486d9d194fd89a425f8bfe8abffd": {
     "views": [
      {
       "cell_index": 12
      }
     ]
    },
    "5591146f394445e9a7562bfbeba3b210": {
     "views": [
      {
       "cell_index": 12
      }
     ]
    },
    "569e07a8c03b417a8bec640521c1e8d8": {
     "views": [
      {
       "cell_index": 12
      }
     ]
    },
    "56d382118cbe49f09c5518839d1309ee": {
     "views": [
      {
       "cell_index": 12
      }
     ]
    },
    "58879c6ef3904577a0d0ca261361d888": {
     "views": [
      {
       "cell_index": 12
      }
     ]
    },
    "59de165a886a4dcd855ec33e4682bd2d": {
     "views": [
      {
       "cell_index": 12
      }
     ]
    },
    "5d835fe3d36c41d9b140f25c874e02e7": {
     "views": [
      {
       "cell_index": 12
      }
     ]
    },
    "5dcb1825f8f945509c1521456ec8802f": {
     "views": [
      {
       "cell_index": 12
      }
     ]
    },
    "5fc113b88db343038e6190f2e2e1df1e": {
     "views": [
      {
       "cell_index": 12
      }
     ]
    },
    "601e0344661243299a2a6d382458f93a": {
     "views": [
      {
       "cell_index": 12
      }
     ]
    },
    "6060d310a5e34896a7156115cc6c3b43": {
     "views": [
      {
       "cell_index": 12
      }
     ]
    },
    "607439f270cb405cad0280cd5bf035bf": {
     "views": [
      {
       "cell_index": 12
      }
     ]
    },
    "695d75c78b7148a4a7c84d57bed02c35": {
     "views": [
      {
       "cell_index": 12
      }
     ]
    },
    "6b76037650064c71afc1ef43cea3b884": {
     "views": [
      {
       "cell_index": 12
      }
     ]
    },
    "6ec89ae257604fa0a672b9c0042d1c53": {
     "views": [
      {
       "cell_index": 12
      }
     ]
    },
    "70dfa87054284e3d84cd08df8bfbf705": {
     "views": [
      {
       "cell_index": 12
      }
     ]
    },
    "70fefa448a124b56bec948f54c0fe1fc": {
     "views": [
      {
       "cell_index": 12
      }
     ]
    },
    "73deeee41eb04b1c9b5d12164159f500": {
     "views": [
      {
       "cell_index": 12
      }
     ]
    },
    "74df7b1ee69449e6a6733da633e4c583": {
     "views": [
      {
       "cell_index": 12
      }
     ]
    },
    "75c980fe55484a15b5fadf86960e6984": {
     "views": [
      {
       "cell_index": 12
      }
     ]
    },
    "770dfa1b77ed46258fd936b4a5b002f7": {
     "views": [
      {
       "cell_index": 12
      }
     ]
    },
    "79b014c35bb64afd98775e32a56c8469": {
     "views": [
      {
       "cell_index": 12
      }
     ]
    },
    "7b97837f50464a0194b38acd2ee83d07": {
     "views": [
      {
       "cell_index": 12
      }
     ]
    },
    "7df60277eba44da5acc4ae70299cd1db": {
     "views": [
      {
       "cell_index": 12
      }
     ]
    },
    "7e9f3f789dd9472189a557183640b7c9": {
     "views": [
      {
       "cell_index": 12
      }
     ]
    },
    "7eb10ea82e954391a3733334c4276916": {
     "views": [
      {
       "cell_index": 12
      }
     ]
    },
    "7fe51828fd9745e9bad8a4632d35a137": {
     "views": [
      {
       "cell_index": 12
      }
     ]
    },
    "807fe4bc5122427a8d991815a0afdefe": {
     "views": [
      {
       "cell_index": 12
      }
     ]
    },
    "82b2dfaaeca94ac7871eb714ebf0bd24": {
     "views": [
      {
       "cell_index": 12
      }
     ]
    },
    "83eb650f527a42e9a904a1dc3489226e": {
     "views": [
      {
       "cell_index": 12
      }
     ]
    },
    "84c3b92deb524251aae620eb42b81d57": {
     "views": [
      {
       "cell_index": 12
      }
     ]
    },
    "85ca8ba9ed1c4fc1bd9f636d4efb13a2": {
     "views": [
      {
       "cell_index": 12
      }
     ]
    },
    "8a803cf98b4a4ad38b46389cd0cbc624": {
     "views": [
      {
       "cell_index": 12
      }
     ]
    },
    "8f271df026484a06be2f6509462c42ed": {
     "views": [
      {
       "cell_index": 12
      }
     ]
    },
    "8f2d4f8192c4455a922e9f4f4388b10a": {
     "views": [
      {
       "cell_index": 12
      }
     ]
    },
    "99722895709c48d7baca4359ce30f165": {
     "views": [
      {
       "cell_index": 12
      }
     ]
    },
    "9994b42dd71f4dcb8412076e04f74af1": {
     "views": [
      {
       "cell_index": 12
      }
     ]
    },
    "9c65331cb7044f07bea6f1dcd02be34e": {
     "views": [
      {
       "cell_index": 12
      }
     ]
    },
    "9d93b50dddb843ffb3192fa7463d1eb3": {
     "views": [
      {
       "cell_index": 12
      }
     ]
    },
    "9ddcff6b73e84b71bb72cbaf509b6d7d": {
     "views": [
      {
       "cell_index": 12
      }
     ]
    },
    "9ff602ebdfe446f8a7973c18b0b9c448": {
     "views": [
      {
       "cell_index": 12
      }
     ]
    },
    "a13b7297bcfd48aeb1f6adeb79c6907e": {
     "views": [
      {
       "cell_index": 12
      }
     ]
    },
    "a2d8253207ff47c196ec18d0c3e292fc": {
     "views": [
      {
       "cell_index": 12
      }
     ]
    },
    "a447bd0d14cf402b844ccef55b5e2d6e": {
     "views": [
      {
       "cell_index": 12
      }
     ]
    },
    "a8fd29c4d7474543bfb283fe1bc22752": {
     "views": [
      {
       "cell_index": 12
      }
     ]
    },
    "a938e8c6d6f54d119dc4e0fc6591ceb2": {
     "views": [
      {
       "cell_index": 12
      }
     ]
    },
    "abb7603ed5cc4ea7a3e9133abc83daab": {
     "views": [
      {
       "cell_index": 12
      }
     ]
    },
    "abd62c0bee8d4a1d93a95b31b9aaf486": {
     "views": [
      {
       "cell_index": 12
      }
     ]
    },
    "ac5eaac0d0bc4bdc899be9b7c7609004": {
     "views": [
      {
       "cell_index": 12
      }
     ]
    },
    "ac8d814446504f1fb7359e84efc877df": {
     "views": [
      {
       "cell_index": 12
      }
     ]
    },
    "aecfd70ffbbb491296ddfead5c3e676c": {
     "views": [
      {
       "cell_index": 12
      }
     ]
    },
    "b012c12df7ec4de5bee68e9f10c67227": {
     "views": [
      {
       "cell_index": 12
      }
     ]
    },
    "b0413da85a834535bf0910a1a2049cf4": {
     "views": [
      {
       "cell_index": 12
      }
     ]
    },
    "b3e05cfa4dfb44e8aec6501b481e740a": {
     "views": [
      {
       "cell_index": 12
      }
     ]
    },
    "b8e7a6d97abc49eb8b24af81997c814b": {
     "views": [
      {
       "cell_index": 12
      }
     ]
    },
    "b958fd557b674353b4513a1223d1a451": {
     "views": [
      {
       "cell_index": 12
      }
     ]
    },
    "bc39a43c23b9496fb53533370e7f076b": {
     "views": [
      {
       "cell_index": 12
      }
     ]
    },
    "bcb5c68f5f9640ffbc0d14af2a8d2609": {
     "views": [
      {
       "cell_index": 12
      }
     ]
    },
    "c1a529e546e84cfe858abc405448a31c": {
     "views": [
      {
       "cell_index": 12
      }
     ]
    },
    "c51f1c60f93c4707808116607aceb523": {
     "views": [
      {
       "cell_index": 12
      }
     ]
    },
    "c6cefa23028c47d1a9b8e34f2173662b": {
     "views": [
      {
       "cell_index": 12
      }
     ]
    },
    "c867ce48830d48ff838c535f911cde38": {
     "views": [
      {
       "cell_index": 12
      }
     ]
    },
    "cc1c3c0a394049c7817525d4c0dbc660": {
     "views": [
      {
       "cell_index": 12
      }
     ]
    },
    "ce61c3f1b09d4b7aaaa04b999968853b": {
     "views": [
      {
       "cell_index": 12
      }
     ]
    },
    "ced5cb09460b44f2b3cb07cd26ba2d80": {
     "views": [
      {
       "cell_index": 12
      }
     ]
    },
    "d0a64a823a4649898b5ef2ae2f1bbe27": {
     "views": [
      {
       "cell_index": 12
      }
     ]
    },
    "d2307dd3ea50414580c68a01944b6609": {
     "views": [
      {
       "cell_index": 12
      }
     ]
    },
    "d73036ff5b9a463aa2d560cc98e09a99": {
     "views": [
      {
       "cell_index": 12
      }
     ]
    },
    "d8bff5fe3809457696452bd7d37b0163": {
     "views": [
      {
       "cell_index": 12
      }
     ]
    },
    "da29d43a5fbd4d0db082c70348e5783e": {
     "views": [
      {
       "cell_index": 12
      }
     ]
    },
    "dcbbfefe63b849b29b2c6f2c445f9d44": {
     "views": [
      {
       "cell_index": 12
      }
     ]
    },
    "de65778ccbf74269a7aecafe0f4a84e9": {
     "views": [
      {
       "cell_index": 12
      }
     ]
    },
    "e2f426df16ea437cb3eb19a6e29718d3": {
     "views": [
      {
       "cell_index": 12
      }
     ]
    },
    "e331ecdfb1034be78954606b29282291": {
     "views": [
      {
       "cell_index": 12
      }
     ]
    },
    "e57c668870b044aab6fb89a073374887": {
     "views": [
      {
       "cell_index": 12
      }
     ]
    },
    "e7d90b37142d4468a9a3f88fe5e7ebe5": {
     "views": [
      {
       "cell_index": 12
      }
     ]
    },
    "e7dfb79db2074d32b546b0f5b35d037a": {
     "views": [
      {
       "cell_index": 12
      }
     ]
    },
    "ea7dc8f6b6904a098cc8bcd3cccb0f09": {
     "views": [
      {
       "cell_index": 12
      }
     ]
    },
    "ead95701b3c948fe810264c9f916c701": {
     "views": [
      {
       "cell_index": 12
      }
     ]
    },
    "ec1f20b0a9a848a785617463aed63555": {
     "views": [
      {
       "cell_index": 12
      }
     ]
    },
    "ef7271ab301c4d52b331707746f9638e": {
     "views": [
      {
       "cell_index": 12
      }
     ]
    },
    "f057baa922394139936146319110c770": {
     "views": [
      {
       "cell_index": 12
      }
     ]
    },
    "f07a509b915040e08e37ababd37b7cf1": {
     "views": [
      {
       "cell_index": 12
      }
     ]
    },
    "f259740c24a24bb3a309aec954f66fe3": {
     "views": [
      {
       "cell_index": 12
      }
     ]
    },
    "f612f1c9698d4be4bb42c2f0e2c69108": {
     "views": [
      {
       "cell_index": 12
      }
     ]
    },
    "f6efb652598c41549a9f19b2f9ceff2b": {
     "views": [
      {
       "cell_index": 12
      }
     ]
    },
    "f97ed4db90d24d88a228ac1e52375a0c": {
     "views": [
      {
       "cell_index": 12
      }
     ]
    },
    "fd43e083f58d43a68688581cdf48acab": {
     "views": [
      {
       "cell_index": 12
      }
     ]
    },
    "fda46d318b0941c19dfe61eb3e02cb23": {
     "views": [
      {
       "cell_index": 12
      }
     ]
    },
    "fe6b5b3475984be890e4e11f3e5d3ef1": {
     "views": [
      {
       "cell_index": 12
      }
     ]
    }
   },
   "version": "1.2.0"
  }
 },
 "nbformat": 4,
 "nbformat_minor": 2
}
