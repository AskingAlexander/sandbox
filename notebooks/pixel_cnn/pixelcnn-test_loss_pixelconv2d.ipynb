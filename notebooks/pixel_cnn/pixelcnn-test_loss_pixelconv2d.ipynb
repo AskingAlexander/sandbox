{
 "cells": [
  {
   "cell_type": "code",
   "execution_count": 1,
   "metadata": {
    "ExecuteTime": {
     "end_time": "2019-05-27T13:01:30.612253Z",
     "start_time": "2019-05-27T13:01:28.993861Z"
    },
    "slideshow": {
     "slide_type": "slide"
    }
   },
   "outputs": [
    {
     "name": "stderr",
     "output_type": "stream",
     "text": [
      "/home/brian/anaconda3/lib/python3.6/site-packages/h5py/__init__.py:36: FutureWarning: Conversion of the second argument of issubdtype from `float` to `np.floating` is deprecated. In future, it will be treated as `np.float64 == np.dtype(float).type`.\n",
      "  from ._conv import register_converters as _register_converters\n",
      "Using TensorFlow backend.\n"
     ]
    }
   ],
   "source": [
    "%matplotlib inline\n",
    "import numpy as np\n",
    "import os\n",
    "import time\n",
    "import h5py\n",
    "import keras\n",
    "import pandas as pd\n",
    "import math\n",
    "import joblib\n",
    "import json\n",
    "import matplotlib.pyplot as plt\n",
    "from scipy.stats import logistic\n",
    "from scipy.special import softmax\n",
    "\n",
    "from IPython.display import display\n",
    "\n",
    "from sklearn.metrics import accuracy_score\n",
    "from sklearn.model_selection import StratifiedShuffleSplit\n",
    "\n",
    "from keras.layers import (Input, Dense, Lambda, Flatten, Reshape, BatchNormalization, \n",
    "                          Activation, Dropout, Conv2D, Conv2DTranspose,\n",
    "                          Concatenate, Add, Multiply)\n",
    "from keras.engine import InputSpec\n",
    "from keras.optimizers import RMSprop, Adam, SGD\n",
    "from keras.models import Model\n",
    "from keras.utils import to_categorical\n",
    "from keras import metrics\n",
    "from keras import backend as K\n",
    "from keras_tqdm import TQDMNotebookCallback\n",
    "from keras.datasets import cifar10\n",
    "\n",
    "import tensorflow as tf\n",
    "\n",
    "from pixelcnn_helpers import pixelcnn_loss, sigmoid, compute_pvals, compute_mixture, PixelConv2D"
   ]
  },
  {
   "cell_type": "markdown",
   "metadata": {
    "slideshow": {
     "slide_type": "slide"
    }
   },
   "source": [
    "# Parameters"
   ]
  },
  {
   "cell_type": "code",
   "execution_count": 37,
   "metadata": {
    "ExecuteTime": {
     "end_time": "2019-05-27T13:04:46.186627Z",
     "start_time": "2019-05-27T13:04:46.182768Z"
    }
   },
   "outputs": [],
   "source": [
    "#img_rows, img_cols, img_chns = 32, 32, 3\n",
    "img_rows, img_cols, img_chns = 2, 2, 3\n",
    "original_img_size = (img_rows, img_cols, img_chns)\n",
    "\n",
    "# Debug params\n",
    "sample = 1\n",
    "\n",
    "# Hyper params\n",
    "batch_size = int(os.environ.get('BATCH_SIZE', 1))\n",
    "epochs = int(os.environ.get('EPOCHS', 1000))\n",
    "activation = os.environ.get('ACTIVATION', 'relu')\n",
    "learning_rate = float(os.environ.get('LEARNING_RATE', 0.001))\n",
    "resnet_depth = int(os.environ.get('RESNET_DEPTH', 2))\n",
    "mixture_components = int(os.environ.get('MIXTURE_COMPONENTS', 2))"
   ]
  },
  {
   "cell_type": "markdown",
   "metadata": {},
   "source": [
    "# Make Dummy Image"
   ]
  },
  {
   "cell_type": "code",
   "execution_count": 38,
   "metadata": {
    "ExecuteTime": {
     "end_time": "2019-05-27T13:04:46.522973Z",
     "start_time": "2019-05-27T13:04:46.517203Z"
    },
    "slideshow": {
     "slide_type": "subslide"
    }
   },
   "outputs": [
    {
     "data": {
      "text/plain": [
       "array([[[[105., 160.,  30.],\n",
       "         [140., 150., 160.]],\n",
       "\n",
       "        [[200., 210., 220.],\n",
       "         [230., 240., 250.]]]])"
      ]
     },
     "metadata": {},
     "output_type": "display_data"
    }
   ],
   "source": [
    "X_train = np.zeros([1, 2, 2, 3])\n",
    "X_train[0, 0, 0, :] = [105, 160, 30]\n",
    "X_train[0, 0, 1, :] = [140, 150, 160]\n",
    "X_train[0, 1, 0, :] = [200, 210, 220]\n",
    "X_train[0, 1, 1, :] = [230, 240, 250]\n",
    "\n",
    "\n",
    "display(X_train)\n",
    "\n",
    "X_train = (X_train - 127.5) / 127.5"
   ]
  },
  {
   "cell_type": "markdown",
   "metadata": {},
   "source": [
    "# Model"
   ]
  },
  {
   "cell_type": "code",
   "execution_count": 39,
   "metadata": {
    "ExecuteTime": {
     "end_time": "2019-05-27T13:04:46.885992Z",
     "start_time": "2019-05-27T13:04:46.876869Z"
    }
   },
   "outputs": [],
   "source": [
    "if K.image_data_format() == 'channels_last':\n",
    "    bn_axis = 3\n",
    "else:\n",
    "    bn_axis = 1\n",
    "    \n",
    "def conv_block(input_tensor, filters, kernel_size, name, is_first=False):\n",
    "    outs = []\n",
    "    for t in ['rb', 'gb', 'bb']:\n",
    "        if is_first:\n",
    "            t = t[0] + 'a'\n",
    "        x = PixelConv2D(t, filters, kernel_size, name='res' + name + t, padding='same')(input_tensor)\n",
    "        x = Activation('relu')(x)\n",
    "        #x = Lambda(lambda x: x, name='debug_' + name + t)(x)\n",
    "        outs.append(x)\n",
    "        \n",
    "    return Concatenate()(outs)\n",
    "\n",
    "\n",
    "def build_outputs(input_tensor, final_filters):\n",
    "    m_outs = []\n",
    "    invs_outs = []\n",
    "    weights = []\n",
    "    for channel in range(img_chns):\n",
    "        # Only allow things behind it...\n",
    "        x = Lambda(lambda x: x[:, :, :, :(channel + 1) * final_filters])(input_tensor)\n",
    "       \n",
    "        decoder_out_m_ = Flatten()(x)\n",
    "        decoder_out_m_ = Dense(500, activation='relu')(decoder_out_m_)\n",
    "        decoder_out_m_ = Dense(500, activation='relu')(decoder_out_m_)\n",
    "        decoder_out_m_ = Dense(500, activation='relu')(decoder_out_m_)\n",
    "        decoder_out_m_ = Dense(img_rows * img_cols * mixture_components)(decoder_out_m_)\n",
    "        decoder_out_m = Reshape((img_rows, img_cols, mixture_components))(decoder_out_m_)\n",
    "        \n",
    "        decoder_out_invs_ = Flatten()(x)\n",
    "        decoder_out_invs_ = Dense(500, activation='relu')(decoder_out_invs_)\n",
    "        decoder_out_invs_ = Dense(500, activation='relu')(decoder_out_invs_)\n",
    "        decoder_out_invs_ = Dense(500, activation='relu')(decoder_out_invs_)\n",
    "        decoder_out_invs_ = Dense(img_rows * img_cols * mixture_components, activation='softplus')(decoder_out_invs_)\n",
    "        decoder_out_invs = Reshape((img_rows, img_cols, mixture_components))(decoder_out_invs_)\n",
    "        \n",
    "        decoder_out_weights_ = Flatten()(x)\n",
    "        decoder_out_weights_ = Dense(500, activation='relu')(decoder_out_weights_)\n",
    "        decoder_out_weights_ = Dense(500, activation='relu')(decoder_out_weights_)\n",
    "        decoder_out_weights_ = Dense(500, activation='relu')(decoder_out_weights_)\n",
    "        decoder_out_weights_ = Dense(img_rows * img_cols * mixture_components)(decoder_out_weights_)\n",
    "        mixture_weights = Reshape((img_rows, img_cols, mixture_components))(decoder_out_weights_)\n",
    "        \n",
    "        m_outs.append(decoder_out_m)\n",
    "        invs_outs.append(decoder_out_invs)\n",
    "        weights.append(mixture_weights)\n",
    "    \n",
    "    out_m = Concatenate()(m_outs)       \n",
    "    out_invs = Concatenate()(invs_outs)       \n",
    "    out_mixture = Concatenate()(weights)       \n",
    "    \n",
    "    return Concatenate()([out_m, out_invs, out_mixture])"
   ]
  },
  {
   "cell_type": "code",
   "execution_count": 40,
   "metadata": {
    "ExecuteTime": {
     "end_time": "2019-05-27T13:04:48.031396Z",
     "start_time": "2019-05-27T13:04:47.077271Z"
    },
    "scrolled": true,
    "slideshow": {
     "slide_type": "slide"
    }
   },
   "outputs": [
    {
     "name": "stdout",
     "output_type": "stream",
     "text": [
      "Building conv layers...\n",
      "Building model...\n",
      "__________________________________________________________________________________________________\n",
      "Layer (type)                    Output Shape         Param #     Connected to                     \n",
      "==================================================================================================\n",
      "main_input (InputLayer)         (None, 2, 2, 3)      0                                            \n",
      "__________________________________________________________________________________________________\n",
      "resconv1ra (PixelConv2D)        (None, 2, 2, 128)    3584        main_input[0][0]                 \n",
      "__________________________________________________________________________________________________\n",
      "resconv1ga (PixelConv2D)        (None, 2, 2, 128)    3584        main_input[0][0]                 \n",
      "__________________________________________________________________________________________________\n",
      "resconv1ba (PixelConv2D)        (None, 2, 2, 128)    3584        main_input[0][0]                 \n",
      "__________________________________________________________________________________________________\n",
      "activation_1 (Activation)       (None, 2, 2, 128)    0           resconv1ra[0][0]                 \n",
      "__________________________________________________________________________________________________\n",
      "activation_2 (Activation)       (None, 2, 2, 128)    0           resconv1ga[0][0]                 \n",
      "__________________________________________________________________________________________________\n",
      "activation_3 (Activation)       (None, 2, 2, 128)    0           resconv1ba[0][0]                 \n",
      "__________________________________________________________________________________________________\n",
      "concatenate_1 (Concatenate)     (None, 2, 2, 384)    0           activation_1[0][0]               \n",
      "                                                                 activation_2[0][0]               \n",
      "                                                                 activation_3[0][0]               \n",
      "__________________________________________________________________________________________________\n",
      "lambda_1 (Lambda)               (None, 2, 2, 1)      0           concatenate_1[0][0]              \n",
      "__________________________________________________________________________________________________\n",
      "lambda_2 (Lambda)               (None, 2, 2, 2)      0           concatenate_1[0][0]              \n",
      "__________________________________________________________________________________________________\n",
      "lambda_3 (Lambda)               (None, 2, 2, 3)      0           concatenate_1[0][0]              \n",
      "__________________________________________________________________________________________________\n",
      "flatten_1 (Flatten)             (None, 4)            0           lambda_1[0][0]                   \n",
      "__________________________________________________________________________________________________\n",
      "flatten_4 (Flatten)             (None, 8)            0           lambda_2[0][0]                   \n",
      "__________________________________________________________________________________________________\n",
      "flatten_7 (Flatten)             (None, 12)           0           lambda_3[0][0]                   \n",
      "__________________________________________________________________________________________________\n",
      "flatten_2 (Flatten)             (None, 4)            0           lambda_1[0][0]                   \n",
      "__________________________________________________________________________________________________\n",
      "flatten_5 (Flatten)             (None, 8)            0           lambda_2[0][0]                   \n",
      "__________________________________________________________________________________________________\n",
      "flatten_8 (Flatten)             (None, 12)           0           lambda_3[0][0]                   \n",
      "__________________________________________________________________________________________________\n",
      "flatten_3 (Flatten)             (None, 4)            0           lambda_1[0][0]                   \n",
      "__________________________________________________________________________________________________\n",
      "flatten_6 (Flatten)             (None, 8)            0           lambda_2[0][0]                   \n",
      "__________________________________________________________________________________________________\n",
      "flatten_9 (Flatten)             (None, 12)           0           lambda_3[0][0]                   \n",
      "__________________________________________________________________________________________________\n",
      "dense_1 (Dense)                 (None, 500)          2500        flatten_1[0][0]                  \n",
      "__________________________________________________________________________________________________\n",
      "dense_13 (Dense)                (None, 500)          4500        flatten_4[0][0]                  \n",
      "__________________________________________________________________________________________________\n",
      "dense_25 (Dense)                (None, 500)          6500        flatten_7[0][0]                  \n",
      "__________________________________________________________________________________________________\n",
      "dense_5 (Dense)                 (None, 500)          2500        flatten_2[0][0]                  \n",
      "__________________________________________________________________________________________________\n",
      "dense_17 (Dense)                (None, 500)          4500        flatten_5[0][0]                  \n",
      "__________________________________________________________________________________________________\n",
      "dense_29 (Dense)                (None, 500)          6500        flatten_8[0][0]                  \n",
      "__________________________________________________________________________________________________\n",
      "dense_9 (Dense)                 (None, 500)          2500        flatten_3[0][0]                  \n",
      "__________________________________________________________________________________________________\n",
      "dense_21 (Dense)                (None, 500)          4500        flatten_6[0][0]                  \n",
      "__________________________________________________________________________________________________\n",
      "dense_33 (Dense)                (None, 500)          6500        flatten_9[0][0]                  \n",
      "__________________________________________________________________________________________________\n",
      "dense_2 (Dense)                 (None, 500)          250500      dense_1[0][0]                    \n",
      "__________________________________________________________________________________________________\n",
      "dense_14 (Dense)                (None, 500)          250500      dense_13[0][0]                   \n",
      "__________________________________________________________________________________________________\n",
      "dense_26 (Dense)                (None, 500)          250500      dense_25[0][0]                   \n",
      "__________________________________________________________________________________________________\n",
      "dense_6 (Dense)                 (None, 500)          250500      dense_5[0][0]                    \n",
      "__________________________________________________________________________________________________\n",
      "dense_18 (Dense)                (None, 500)          250500      dense_17[0][0]                   \n",
      "__________________________________________________________________________________________________\n",
      "dense_30 (Dense)                (None, 500)          250500      dense_29[0][0]                   \n",
      "__________________________________________________________________________________________________\n",
      "dense_10 (Dense)                (None, 500)          250500      dense_9[0][0]                    \n",
      "__________________________________________________________________________________________________\n",
      "dense_22 (Dense)                (None, 500)          250500      dense_21[0][0]                   \n",
      "__________________________________________________________________________________________________\n",
      "dense_34 (Dense)                (None, 500)          250500      dense_33[0][0]                   \n",
      "__________________________________________________________________________________________________\n",
      "dense_3 (Dense)                 (None, 500)          250500      dense_2[0][0]                    \n",
      "__________________________________________________________________________________________________\n",
      "dense_15 (Dense)                (None, 500)          250500      dense_14[0][0]                   \n",
      "__________________________________________________________________________________________________\n",
      "dense_27 (Dense)                (None, 500)          250500      dense_26[0][0]                   \n",
      "__________________________________________________________________________________________________\n",
      "dense_7 (Dense)                 (None, 500)          250500      dense_6[0][0]                    \n",
      "__________________________________________________________________________________________________\n",
      "dense_19 (Dense)                (None, 500)          250500      dense_18[0][0]                   \n",
      "__________________________________________________________________________________________________\n",
      "dense_31 (Dense)                (None, 500)          250500      dense_30[0][0]                   \n",
      "__________________________________________________________________________________________________\n",
      "dense_11 (Dense)                (None, 500)          250500      dense_10[0][0]                   \n",
      "__________________________________________________________________________________________________\n",
      "dense_23 (Dense)                (None, 500)          250500      dense_22[0][0]                   \n",
      "__________________________________________________________________________________________________\n",
      "dense_35 (Dense)                (None, 500)          250500      dense_34[0][0]                   \n",
      "__________________________________________________________________________________________________\n",
      "dense_4 (Dense)                 (None, 8)            4008        dense_3[0][0]                    \n",
      "__________________________________________________________________________________________________\n",
      "dense_16 (Dense)                (None, 8)            4008        dense_15[0][0]                   \n",
      "__________________________________________________________________________________________________\n",
      "dense_28 (Dense)                (None, 8)            4008        dense_27[0][0]                   \n",
      "__________________________________________________________________________________________________\n",
      "dense_8 (Dense)                 (None, 8)            4008        dense_7[0][0]                    \n",
      "__________________________________________________________________________________________________\n",
      "dense_20 (Dense)                (None, 8)            4008        dense_19[0][0]                   \n",
      "__________________________________________________________________________________________________\n",
      "dense_32 (Dense)                (None, 8)            4008        dense_31[0][0]                   \n",
      "__________________________________________________________________________________________________\n",
      "dense_12 (Dense)                (None, 8)            4008        dense_11[0][0]                   \n",
      "__________________________________________________________________________________________________\n",
      "dense_24 (Dense)                (None, 8)            4008        dense_23[0][0]                   \n",
      "__________________________________________________________________________________________________\n",
      "dense_36 (Dense)                (None, 8)            4008        dense_35[0][0]                   \n",
      "__________________________________________________________________________________________________\n",
      "reshape_1 (Reshape)             (None, 2, 2, 2)      0           dense_4[0][0]                    \n",
      "__________________________________________________________________________________________________\n",
      "reshape_4 (Reshape)             (None, 2, 2, 2)      0           dense_16[0][0]                   \n",
      "__________________________________________________________________________________________________\n",
      "reshape_7 (Reshape)             (None, 2, 2, 2)      0           dense_28[0][0]                   \n",
      "__________________________________________________________________________________________________\n",
      "reshape_2 (Reshape)             (None, 2, 2, 2)      0           dense_8[0][0]                    \n",
      "__________________________________________________________________________________________________\n",
      "reshape_5 (Reshape)             (None, 2, 2, 2)      0           dense_20[0][0]                   \n",
      "__________________________________________________________________________________________________\n",
      "reshape_8 (Reshape)             (None, 2, 2, 2)      0           dense_32[0][0]                   \n",
      "__________________________________________________________________________________________________\n",
      "reshape_3 (Reshape)             (None, 2, 2, 2)      0           dense_12[0][0]                   \n",
      "__________________________________________________________________________________________________\n",
      "reshape_6 (Reshape)             (None, 2, 2, 2)      0           dense_24[0][0]                   \n",
      "__________________________________________________________________________________________________\n",
      "reshape_9 (Reshape)             (None, 2, 2, 2)      0           dense_36[0][0]                   \n",
      "__________________________________________________________________________________________________\n",
      "concatenate_2 (Concatenate)     (None, 2, 2, 6)      0           reshape_1[0][0]                  \n",
      "                                                                 reshape_4[0][0]                  \n",
      "                                                                 reshape_7[0][0]                  \n",
      "__________________________________________________________________________________________________\n",
      "concatenate_3 (Concatenate)     (None, 2, 2, 6)      0           reshape_2[0][0]                  \n",
      "                                                                 reshape_5[0][0]                  \n",
      "                                                                 reshape_8[0][0]                  \n",
      "__________________________________________________________________________________________________\n",
      "concatenate_4 (Concatenate)     (None, 2, 2, 6)      0           reshape_3[0][0]                  \n",
      "                                                                 reshape_6[0][0]                  \n",
      "                                                                 reshape_9[0][0]                  \n",
      "__________________________________________________________________________________________________\n",
      "concatenate_5 (Concatenate)     (None, 2, 2, 18)     0           concatenate_2[0][0]              \n",
      "                                                                 concatenate_3[0][0]              \n",
      "                                                                 concatenate_4[0][0]              \n",
      "==================================================================================================\n",
      "Total params: 4,596,324\n",
      "Trainable params: 4,596,324\n",
      "Non-trainable params: 0\n",
      "__________________________________________________________________________________________________\n"
     ]
    }
   ],
   "source": [
    "# Work around Keras/tensorboard bug: https://github.com/keras-team/keras/issues/10074\n",
    "K.clear_session()\n",
    "\n",
    "print(\"Building conv layers...\")\n",
    "main_input = Input(shape=original_img_size, name='main_input')\n",
    "\n",
    "x = conv_block(main_input, 128, (3, 3), name='conv1', is_first=True)\n",
    "x = build_outputs(x, 1)\n",
    "\n",
    "main_output = x\n",
    "\n",
    "print(\"Building model...\")\n",
    "model = Model(inputs=main_input, outputs=main_output)\n",
    "optimizer = Adam(lr=0.001)\n",
    "#optimizer = SGD(lr=0.001)\n",
    "#optimizer = RMSprop(lr=0.001)\n",
    "model.compile(optimizer=optimizer, \n",
    "              loss=lambda x, y: pixelcnn_loss(x, y, img_rows, img_cols, img_chns, mixture_components))\n",
    "model.summary()"
   ]
  },
  {
   "cell_type": "code",
   "execution_count": 41,
   "metadata": {
    "ExecuteTime": {
     "end_time": "2019-05-27T13:04:55.295859Z",
     "start_time": "2019-05-27T13:04:48.033035Z"
    },
    "scrolled": true,
    "slideshow": {
     "slide_type": "-"
    }
   },
   "outputs": [
    {
     "data": {
      "application/vnd.jupyter.widget-view+json": {
       "model_id": "da8dbc1b764a4791b0284178da94cd2e",
       "version_major": 2,
       "version_minor": 0
      },
      "text/plain": [
       "HBox(children=(IntProgress(value=0, description='Training', max=50), HTML(value='')))"
      ]
     },
     "metadata": {},
     "output_type": "display_data"
    },
    {
     "data": {
      "application/vnd.jupyter.widget-view+json": {
       "model_id": "",
       "version_major": 2,
       "version_minor": 0
      },
      "text/plain": [
       "HBox(children=(IntProgress(value=0, description='Epoch 0', max=1), HTML(value='')))"
      ]
     },
     "metadata": {},
     "output_type": "display_data"
    },
    {
     "data": {
      "application/vnd.jupyter.widget-view+json": {
       "model_id": "",
       "version_major": 2,
       "version_minor": 0
      },
      "text/plain": [
       "HBox(children=(IntProgress(value=0, description='Epoch 1', max=1), HTML(value='')))"
      ]
     },
     "metadata": {},
     "output_type": "display_data"
    },
    {
     "data": {
      "application/vnd.jupyter.widget-view+json": {
       "model_id": "",
       "version_major": 2,
       "version_minor": 0
      },
      "text/plain": [
       "HBox(children=(IntProgress(value=0, description='Epoch 2', max=1), HTML(value='')))"
      ]
     },
     "metadata": {},
     "output_type": "display_data"
    },
    {
     "data": {
      "application/vnd.jupyter.widget-view+json": {
       "model_id": "",
       "version_major": 2,
       "version_minor": 0
      },
      "text/plain": [
       "HBox(children=(IntProgress(value=0, description='Epoch 3', max=1), HTML(value='')))"
      ]
     },
     "metadata": {},
     "output_type": "display_data"
    },
    {
     "data": {
      "application/vnd.jupyter.widget-view+json": {
       "model_id": "",
       "version_major": 2,
       "version_minor": 0
      },
      "text/plain": [
       "HBox(children=(IntProgress(value=0, description='Epoch 4', max=1), HTML(value='')))"
      ]
     },
     "metadata": {},
     "output_type": "display_data"
    },
    {
     "data": {
      "application/vnd.jupyter.widget-view+json": {
       "model_id": "",
       "version_major": 2,
       "version_minor": 0
      },
      "text/plain": [
       "HBox(children=(IntProgress(value=0, description='Epoch 5', max=1), HTML(value='')))"
      ]
     },
     "metadata": {},
     "output_type": "display_data"
    },
    {
     "data": {
      "application/vnd.jupyter.widget-view+json": {
       "model_id": "",
       "version_major": 2,
       "version_minor": 0
      },
      "text/plain": [
       "HBox(children=(IntProgress(value=0, description='Epoch 6', max=1), HTML(value='')))"
      ]
     },
     "metadata": {},
     "output_type": "display_data"
    },
    {
     "data": {
      "application/vnd.jupyter.widget-view+json": {
       "model_id": "",
       "version_major": 2,
       "version_minor": 0
      },
      "text/plain": [
       "HBox(children=(IntProgress(value=0, description='Epoch 7', max=1), HTML(value='')))"
      ]
     },
     "metadata": {},
     "output_type": "display_data"
    },
    {
     "data": {
      "application/vnd.jupyter.widget-view+json": {
       "model_id": "",
       "version_major": 2,
       "version_minor": 0
      },
      "text/plain": [
       "HBox(children=(IntProgress(value=0, description='Epoch 8', max=1), HTML(value='')))"
      ]
     },
     "metadata": {},
     "output_type": "display_data"
    },
    {
     "data": {
      "application/vnd.jupyter.widget-view+json": {
       "model_id": "",
       "version_major": 2,
       "version_minor": 0
      },
      "text/plain": [
       "HBox(children=(IntProgress(value=0, description='Epoch 9', max=1), HTML(value='')))"
      ]
     },
     "metadata": {},
     "output_type": "display_data"
    },
    {
     "data": {
      "application/vnd.jupyter.widget-view+json": {
       "model_id": "",
       "version_major": 2,
       "version_minor": 0
      },
      "text/plain": [
       "HBox(children=(IntProgress(value=0, description='Epoch 10', max=1), HTML(value='')))"
      ]
     },
     "metadata": {},
     "output_type": "display_data"
    },
    {
     "data": {
      "application/vnd.jupyter.widget-view+json": {
       "model_id": "",
       "version_major": 2,
       "version_minor": 0
      },
      "text/plain": [
       "HBox(children=(IntProgress(value=0, description='Epoch 11', max=1), HTML(value='')))"
      ]
     },
     "metadata": {},
     "output_type": "display_data"
    },
    {
     "data": {
      "application/vnd.jupyter.widget-view+json": {
       "model_id": "",
       "version_major": 2,
       "version_minor": 0
      },
      "text/plain": [
       "HBox(children=(IntProgress(value=0, description='Epoch 12', max=1), HTML(value='')))"
      ]
     },
     "metadata": {},
     "output_type": "display_data"
    },
    {
     "data": {
      "application/vnd.jupyter.widget-view+json": {
       "model_id": "",
       "version_major": 2,
       "version_minor": 0
      },
      "text/plain": [
       "HBox(children=(IntProgress(value=0, description='Epoch 13', max=1), HTML(value='')))"
      ]
     },
     "metadata": {},
     "output_type": "display_data"
    },
    {
     "data": {
      "application/vnd.jupyter.widget-view+json": {
       "model_id": "",
       "version_major": 2,
       "version_minor": 0
      },
      "text/plain": [
       "HBox(children=(IntProgress(value=0, description='Epoch 14', max=1), HTML(value='')))"
      ]
     },
     "metadata": {},
     "output_type": "display_data"
    },
    {
     "data": {
      "application/vnd.jupyter.widget-view+json": {
       "model_id": "",
       "version_major": 2,
       "version_minor": 0
      },
      "text/plain": [
       "HBox(children=(IntProgress(value=0, description='Epoch 15', max=1), HTML(value='')))"
      ]
     },
     "metadata": {},
     "output_type": "display_data"
    },
    {
     "data": {
      "application/vnd.jupyter.widget-view+json": {
       "model_id": "",
       "version_major": 2,
       "version_minor": 0
      },
      "text/plain": [
       "HBox(children=(IntProgress(value=0, description='Epoch 16', max=1), HTML(value='')))"
      ]
     },
     "metadata": {},
     "output_type": "display_data"
    },
    {
     "data": {
      "application/vnd.jupyter.widget-view+json": {
       "model_id": "",
       "version_major": 2,
       "version_minor": 0
      },
      "text/plain": [
       "HBox(children=(IntProgress(value=0, description='Epoch 17', max=1), HTML(value='')))"
      ]
     },
     "metadata": {},
     "output_type": "display_data"
    },
    {
     "data": {
      "application/vnd.jupyter.widget-view+json": {
       "model_id": "",
       "version_major": 2,
       "version_minor": 0
      },
      "text/plain": [
       "HBox(children=(IntProgress(value=0, description='Epoch 18', max=1), HTML(value='')))"
      ]
     },
     "metadata": {},
     "output_type": "display_data"
    },
    {
     "data": {
      "application/vnd.jupyter.widget-view+json": {
       "model_id": "",
       "version_major": 2,
       "version_minor": 0
      },
      "text/plain": [
       "HBox(children=(IntProgress(value=0, description='Epoch 19', max=1), HTML(value='')))"
      ]
     },
     "metadata": {},
     "output_type": "display_data"
    },
    {
     "data": {
      "application/vnd.jupyter.widget-view+json": {
       "model_id": "",
       "version_major": 2,
       "version_minor": 0
      },
      "text/plain": [
       "HBox(children=(IntProgress(value=0, description='Epoch 20', max=1), HTML(value='')))"
      ]
     },
     "metadata": {},
     "output_type": "display_data"
    },
    {
     "data": {
      "application/vnd.jupyter.widget-view+json": {
       "model_id": "",
       "version_major": 2,
       "version_minor": 0
      },
      "text/plain": [
       "HBox(children=(IntProgress(value=0, description='Epoch 21', max=1), HTML(value='')))"
      ]
     },
     "metadata": {},
     "output_type": "display_data"
    },
    {
     "data": {
      "application/vnd.jupyter.widget-view+json": {
       "model_id": "",
       "version_major": 2,
       "version_minor": 0
      },
      "text/plain": [
       "HBox(children=(IntProgress(value=0, description='Epoch 22', max=1), HTML(value='')))"
      ]
     },
     "metadata": {},
     "output_type": "display_data"
    },
    {
     "data": {
      "application/vnd.jupyter.widget-view+json": {
       "model_id": "",
       "version_major": 2,
       "version_minor": 0
      },
      "text/plain": [
       "HBox(children=(IntProgress(value=0, description='Epoch 23', max=1), HTML(value='')))"
      ]
     },
     "metadata": {},
     "output_type": "display_data"
    },
    {
     "data": {
      "application/vnd.jupyter.widget-view+json": {
       "model_id": "",
       "version_major": 2,
       "version_minor": 0
      },
      "text/plain": [
       "HBox(children=(IntProgress(value=0, description='Epoch 24', max=1), HTML(value='')))"
      ]
     },
     "metadata": {},
     "output_type": "display_data"
    },
    {
     "data": {
      "application/vnd.jupyter.widget-view+json": {
       "model_id": "",
       "version_major": 2,
       "version_minor": 0
      },
      "text/plain": [
       "HBox(children=(IntProgress(value=0, description='Epoch 25', max=1), HTML(value='')))"
      ]
     },
     "metadata": {},
     "output_type": "display_data"
    },
    {
     "data": {
      "application/vnd.jupyter.widget-view+json": {
       "model_id": "",
       "version_major": 2,
       "version_minor": 0
      },
      "text/plain": [
       "HBox(children=(IntProgress(value=0, description='Epoch 26', max=1), HTML(value='')))"
      ]
     },
     "metadata": {},
     "output_type": "display_data"
    },
    {
     "data": {
      "application/vnd.jupyter.widget-view+json": {
       "model_id": "",
       "version_major": 2,
       "version_minor": 0
      },
      "text/plain": [
       "HBox(children=(IntProgress(value=0, description='Epoch 27', max=1), HTML(value='')))"
      ]
     },
     "metadata": {},
     "output_type": "display_data"
    },
    {
     "data": {
      "application/vnd.jupyter.widget-view+json": {
       "model_id": "",
       "version_major": 2,
       "version_minor": 0
      },
      "text/plain": [
       "HBox(children=(IntProgress(value=0, description='Epoch 28', max=1), HTML(value='')))"
      ]
     },
     "metadata": {},
     "output_type": "display_data"
    },
    {
     "data": {
      "application/vnd.jupyter.widget-view+json": {
       "model_id": "",
       "version_major": 2,
       "version_minor": 0
      },
      "text/plain": [
       "HBox(children=(IntProgress(value=0, description='Epoch 29', max=1), HTML(value='')))"
      ]
     },
     "metadata": {},
     "output_type": "display_data"
    },
    {
     "data": {
      "application/vnd.jupyter.widget-view+json": {
       "model_id": "",
       "version_major": 2,
       "version_minor": 0
      },
      "text/plain": [
       "HBox(children=(IntProgress(value=0, description='Epoch 30', max=1), HTML(value='')))"
      ]
     },
     "metadata": {},
     "output_type": "display_data"
    },
    {
     "data": {
      "application/vnd.jupyter.widget-view+json": {
       "model_id": "",
       "version_major": 2,
       "version_minor": 0
      },
      "text/plain": [
       "HBox(children=(IntProgress(value=0, description='Epoch 31', max=1), HTML(value='')))"
      ]
     },
     "metadata": {},
     "output_type": "display_data"
    },
    {
     "data": {
      "application/vnd.jupyter.widget-view+json": {
       "model_id": "",
       "version_major": 2,
       "version_minor": 0
      },
      "text/plain": [
       "HBox(children=(IntProgress(value=0, description='Epoch 32', max=1), HTML(value='')))"
      ]
     },
     "metadata": {},
     "output_type": "display_data"
    },
    {
     "data": {
      "application/vnd.jupyter.widget-view+json": {
       "model_id": "",
       "version_major": 2,
       "version_minor": 0
      },
      "text/plain": [
       "HBox(children=(IntProgress(value=0, description='Epoch 33', max=1), HTML(value='')))"
      ]
     },
     "metadata": {},
     "output_type": "display_data"
    },
    {
     "data": {
      "application/vnd.jupyter.widget-view+json": {
       "model_id": "",
       "version_major": 2,
       "version_minor": 0
      },
      "text/plain": [
       "HBox(children=(IntProgress(value=0, description='Epoch 34', max=1), HTML(value='')))"
      ]
     },
     "metadata": {},
     "output_type": "display_data"
    },
    {
     "data": {
      "application/vnd.jupyter.widget-view+json": {
       "model_id": "",
       "version_major": 2,
       "version_minor": 0
      },
      "text/plain": [
       "HBox(children=(IntProgress(value=0, description='Epoch 35', max=1), HTML(value='')))"
      ]
     },
     "metadata": {},
     "output_type": "display_data"
    },
    {
     "data": {
      "application/vnd.jupyter.widget-view+json": {
       "model_id": "",
       "version_major": 2,
       "version_minor": 0
      },
      "text/plain": [
       "HBox(children=(IntProgress(value=0, description='Epoch 36', max=1), HTML(value='')))"
      ]
     },
     "metadata": {},
     "output_type": "display_data"
    },
    {
     "data": {
      "application/vnd.jupyter.widget-view+json": {
       "model_id": "",
       "version_major": 2,
       "version_minor": 0
      },
      "text/plain": [
       "HBox(children=(IntProgress(value=0, description='Epoch 37', max=1), HTML(value='')))"
      ]
     },
     "metadata": {},
     "output_type": "display_data"
    },
    {
     "data": {
      "application/vnd.jupyter.widget-view+json": {
       "model_id": "",
       "version_major": 2,
       "version_minor": 0
      },
      "text/plain": [
       "HBox(children=(IntProgress(value=0, description='Epoch 38', max=1), HTML(value='')))"
      ]
     },
     "metadata": {},
     "output_type": "display_data"
    },
    {
     "data": {
      "application/vnd.jupyter.widget-view+json": {
       "model_id": "",
       "version_major": 2,
       "version_minor": 0
      },
      "text/plain": [
       "HBox(children=(IntProgress(value=0, description='Epoch 39', max=1), HTML(value='')))"
      ]
     },
     "metadata": {},
     "output_type": "display_data"
    },
    {
     "data": {
      "application/vnd.jupyter.widget-view+json": {
       "model_id": "",
       "version_major": 2,
       "version_minor": 0
      },
      "text/plain": [
       "HBox(children=(IntProgress(value=0, description='Epoch 40', max=1), HTML(value='')))"
      ]
     },
     "metadata": {},
     "output_type": "display_data"
    },
    {
     "data": {
      "application/vnd.jupyter.widget-view+json": {
       "model_id": "",
       "version_major": 2,
       "version_minor": 0
      },
      "text/plain": [
       "HBox(children=(IntProgress(value=0, description='Epoch 41', max=1), HTML(value='')))"
      ]
     },
     "metadata": {},
     "output_type": "display_data"
    },
    {
     "data": {
      "application/vnd.jupyter.widget-view+json": {
       "model_id": "",
       "version_major": 2,
       "version_minor": 0
      },
      "text/plain": [
       "HBox(children=(IntProgress(value=0, description='Epoch 42', max=1), HTML(value='')))"
      ]
     },
     "metadata": {},
     "output_type": "display_data"
    },
    {
     "data": {
      "application/vnd.jupyter.widget-view+json": {
       "model_id": "",
       "version_major": 2,
       "version_minor": 0
      },
      "text/plain": [
       "HBox(children=(IntProgress(value=0, description='Epoch 43', max=1), HTML(value='')))"
      ]
     },
     "metadata": {},
     "output_type": "display_data"
    },
    {
     "data": {
      "application/vnd.jupyter.widget-view+json": {
       "model_id": "",
       "version_major": 2,
       "version_minor": 0
      },
      "text/plain": [
       "HBox(children=(IntProgress(value=0, description='Epoch 44', max=1), HTML(value='')))"
      ]
     },
     "metadata": {},
     "output_type": "display_data"
    },
    {
     "data": {
      "application/vnd.jupyter.widget-view+json": {
       "model_id": "",
       "version_major": 2,
       "version_minor": 0
      },
      "text/plain": [
       "HBox(children=(IntProgress(value=0, description='Epoch 45', max=1), HTML(value='')))"
      ]
     },
     "metadata": {},
     "output_type": "display_data"
    },
    {
     "data": {
      "application/vnd.jupyter.widget-view+json": {
       "model_id": "",
       "version_major": 2,
       "version_minor": 0
      },
      "text/plain": [
       "HBox(children=(IntProgress(value=0, description='Epoch 46', max=1), HTML(value='')))"
      ]
     },
     "metadata": {},
     "output_type": "display_data"
    },
    {
     "data": {
      "application/vnd.jupyter.widget-view+json": {
       "model_id": "",
       "version_major": 2,
       "version_minor": 0
      },
      "text/plain": [
       "HBox(children=(IntProgress(value=0, description='Epoch 47', max=1), HTML(value='')))"
      ]
     },
     "metadata": {},
     "output_type": "display_data"
    },
    {
     "data": {
      "application/vnd.jupyter.widget-view+json": {
       "model_id": "",
       "version_major": 2,
       "version_minor": 0
      },
      "text/plain": [
       "HBox(children=(IntProgress(value=0, description='Epoch 48', max=1), HTML(value='')))"
      ]
     },
     "metadata": {},
     "output_type": "display_data"
    },
    {
     "data": {
      "application/vnd.jupyter.widget-view+json": {
       "model_id": "",
       "version_major": 2,
       "version_minor": 0
      },
      "text/plain": [
       "HBox(children=(IntProgress(value=0, description='Epoch 49', max=1), HTML(value='')))"
      ]
     },
     "metadata": {},
     "output_type": "display_data"
    },
    {
     "name": "stdout",
     "output_type": "stream",
     "text": [
      "\n",
      "Elapsed:  7.25688624382019\n"
     ]
    }
   ],
   "source": [
    "start = time.time()\n",
    "\n",
    "early_stopping = keras.callbacks.EarlyStopping('loss', min_delta=1.0, patience=20)\n",
    "reduce_lr = keras.callbacks.ReduceLROnPlateau(monitor='loss', factor=0.5, patience=10, min_lr=0.01 * learning_rate)\n",
    "tensorboard = keras.callbacks.TensorBoard(log_dir='./logs_2019-05-13/' + str(int(time.time() % 10000)),\n",
    "                                          histogram_freq=1, batch_size=1,\n",
    "                                          write_grads=True, write_images=True, update_freq='batch')\n",
    "\n",
    "history = model.fit(\n",
    "    X_train, X_train,\n",
    "    batch_size=batch_size,\n",
    "    #epochs=epochs,\n",
    "    epochs=50,\n",
    "    callbacks=[TQDMNotebookCallback()],#, tensorboard], #early_stopping, reduce_lr],\n",
    "    validation_data=(X_train, X_train),\n",
    "    verbose=0\n",
    ")\n",
    "\n",
    "done = time.time()\n",
    "elapsed = done - start\n",
    "print(\"Elapsed: \", elapsed)"
   ]
  },
  {
   "cell_type": "code",
   "execution_count": null,
   "metadata": {},
   "outputs": [],
   "source": []
  },
  {
   "cell_type": "code",
   "execution_count": 42,
   "metadata": {
    "ExecuteTime": {
     "end_time": "2019-05-27T13:04:55.427546Z",
     "start_time": "2019-05-27T13:04:55.297769Z"
    },
    "scrolled": false,
    "slideshow": {
     "slide_type": "-"
    }
   },
   "outputs": [
    {
     "data": {
      "text/html": [
       "<div>\n",
       "<style scoped>\n",
       "    .dataframe tbody tr th:only-of-type {\n",
       "        vertical-align: middle;\n",
       "    }\n",
       "\n",
       "    .dataframe tbody tr th {\n",
       "        vertical-align: top;\n",
       "    }\n",
       "\n",
       "    .dataframe thead th {\n",
       "        text-align: right;\n",
       "    }\n",
       "</style>\n",
       "<table border=\"1\" class=\"dataframe\">\n",
       "  <thead>\n",
       "    <tr style=\"text-align: right;\">\n",
       "      <th></th>\n",
       "      <th>val_loss</th>\n",
       "      <th>loss</th>\n",
       "    </tr>\n",
       "  </thead>\n",
       "  <tbody>\n",
       "    <tr>\n",
       "      <th>count</th>\n",
       "      <td>50.000000</td>\n",
       "      <td>50.000000</td>\n",
       "    </tr>\n",
       "    <tr>\n",
       "      <th>mean</th>\n",
       "      <td>67.183327</td>\n",
       "      <td>67.744082</td>\n",
       "    </tr>\n",
       "    <tr>\n",
       "      <th>std</th>\n",
       "      <td>15.435759</td>\n",
       "      <td>15.517387</td>\n",
       "    </tr>\n",
       "    <tr>\n",
       "      <th>min</th>\n",
       "      <td>50.945869</td>\n",
       "      <td>50.945869</td>\n",
       "    </tr>\n",
       "    <tr>\n",
       "      <th>0%</th>\n",
       "      <td>50.945869</td>\n",
       "      <td>50.945869</td>\n",
       "    </tr>\n",
       "    <tr>\n",
       "      <th>25%</th>\n",
       "      <td>56.467880</td>\n",
       "      <td>56.700644</td>\n",
       "    </tr>\n",
       "    <tr>\n",
       "      <th>50%</th>\n",
       "      <td>61.099430</td>\n",
       "      <td>62.043522</td>\n",
       "    </tr>\n",
       "    <tr>\n",
       "      <th>75%</th>\n",
       "      <td>78.215359</td>\n",
       "      <td>79.170528</td>\n",
       "    </tr>\n",
       "    <tr>\n",
       "      <th>95%</th>\n",
       "      <td>83.436731</td>\n",
       "      <td>83.566239</td>\n",
       "    </tr>\n",
       "    <tr>\n",
       "      <th>99%</th>\n",
       "      <td>112.370164</td>\n",
       "      <td>112.406202</td>\n",
       "    </tr>\n",
       "    <tr>\n",
       "      <th>max</th>\n",
       "      <td>139.995895</td>\n",
       "      <td>139.995895</td>\n",
       "    </tr>\n",
       "  </tbody>\n",
       "</table>\n",
       "</div>"
      ],
      "text/plain": [
       "         val_loss        loss\n",
       "count   50.000000   50.000000\n",
       "mean    67.183327   67.744082\n",
       "std     15.435759   15.517387\n",
       "min     50.945869   50.945869\n",
       "0%      50.945869   50.945869\n",
       "25%     56.467880   56.700644\n",
       "50%     61.099430   62.043522\n",
       "75%     78.215359   79.170528\n",
       "95%     83.436731   83.566239\n",
       "99%    112.370164  112.406202\n",
       "max    139.995895  139.995895"
      ]
     },
     "metadata": {},
     "output_type": "display_data"
    },
    {
     "data": {
      "text/plain": [
       "<matplotlib.axes._subplots.AxesSubplot at 0x7f60ac7d07f0>"
      ]
     },
     "execution_count": 42,
     "metadata": {},
     "output_type": "execute_result"
    },
    {
     "data": {
      "image/png": "[encoded data removed]",
      "text/plain": [
       "<Figure size 576x432 with 1 Axes>"
      ]
     },
     "metadata": {},
     "output_type": "display_data"
    }
   ],
   "source": [
    "df = pd.DataFrame(history.history)\n",
    "display(df.describe(percentiles=[0.25 * i for i in range(4)] + [0.95, 0.99]))\n",
    "df['loss'].plot(figsize=(8, 6))"
   ]
  },
  {
   "cell_type": "code",
   "execution_count": 43,
   "metadata": {
    "ExecuteTime": {
     "end_time": "2019-05-27T13:04:55.431612Z",
     "start_time": "2019-05-27T13:04:55.429596Z"
    },
    "scrolled": true
   },
   "outputs": [],
   "source": [
    "#print(df)"
   ]
  },
  {
   "cell_type": "code",
   "execution_count": 44,
   "metadata": {
    "ExecuteTime": {
     "end_time": "2019-05-27T13:04:59.417525Z",
     "start_time": "2019-05-27T13:04:55.433264Z"
    },
    "scrolled": false
   },
   "outputs": [
    {
     "name": "stdout",
     "output_type": "stream",
     "text": [
      "(2, 20, 3)\n",
      "==== 0 0 0\n",
      "X_train[0 0 0 0 ] =  -0.17647058823529413  (105.0)\n",
      " m:  [-0.14834623 -0.37673792] ([108.58585  79.46591])\n",
      " E[m]:  -0.24072534 ([108.58585  79.46591])\n",
      " invs:  [3.1354184 2.4239502]\n",
      " weights:  [0.5955234  0.40447664]  ( [ 0.19130075 -0.19554593] )\n",
      " pvals:  86     0.010012\n",
      "87     0.010131\n",
      "88     0.010288\n",
      "89     0.010497\n",
      "90     0.010770\n",
      "91     0.011124\n",
      "92     0.011571\n",
      "93     0.012129\n",
      "94     0.012809\n",
      "95     0.013625\n",
      "96     0.014585\n",
      "97     0.015694\n",
      "98     0.016948\n",
      "99     0.018336\n",
      "100    0.019834\n",
      "101    0.021407\n",
      "102    0.023005\n",
      "103    0.024566\n",
      "104    0.026018\n",
      "105    0.027281\n",
      "106    0.028279\n",
      "107    0.028942\n",
      "108    0.029217\n",
      "109    0.029074\n",
      "110    0.028512\n",
      "111    0.027555\n",
      "112    0.026250\n",
      "113    0.024666\n",
      "114    0.022877\n",
      "115    0.020963\n",
      "116    0.018998\n",
      "117    0.017046\n",
      "118    0.015159\n",
      "119    0.013376\n",
      "120    0.011723\n",
      "121    0.010214\n",
      "dtype: float64\n",
      " pixel_val:  97\n",
      "==== 0 0 1\n",
      "X_train[0 0 0 1 ] =  0.2549019607843137  (160.0)\n",
      " m:  [0.18565957 0.2306457 ] ([151.1716  156.90733])\n",
      " E[m]:  0.2157812 ([151.1716  156.90733])\n",
      " invs:  [3.1270192 1.7558683]\n",
      " weights:  [0.3304242 0.6695758]  ( [-0.34776238  0.35850474] )\n",
      " pvals:  137    0.010262\n",
      "138    0.011033\n",
      "139    0.011879\n",
      "140    0.012798\n",
      "141    0.013786\n",
      "142    0.014833\n",
      "143    0.015921\n",
      "144    0.017027\n",
      "145    0.018121\n",
      "146    0.019165\n",
      "147    0.020118\n",
      "148    0.020938\n",
      "149    0.021583\n",
      "150    0.022021\n",
      "151    0.022227\n",
      "152    0.022191\n",
      "153    0.021918\n",
      "154    0.021428\n",
      "155    0.020749\n",
      "156    0.019922\n",
      "157    0.018987\n",
      "158    0.017987\n",
      "159    0.016960\n",
      "160    0.015939\n",
      "161    0.014949\n",
      "162    0.014010\n",
      "163    0.013133\n",
      "164    0.012325\n",
      "165    0.011589\n",
      "166    0.010923\n",
      "167    0.010323\n",
      "dtype: float64\n",
      " pixel_val:  162\n",
      "==== 0 0 2\n",
      "X_train[0 0 0 2 ] =  -0.7647058823529411  (30.0)\n",
      " m:  [-0.63068825 -0.72443527] ([47.08725  35.134506])\n",
      " E[m]:  -0.67872155 ([47.08725  35.134506])\n",
      " invs:  [4.244571 5.046939]\n",
      " weights:  [0.4876283  0.51237166]  ( [-0.06523082 -0.015734  ] )\n",
      " pvals:  32    0.013860\n",
      "33    0.041720\n",
      "34    0.100515\n",
      "35    0.151031\n",
      "36    0.119167\n",
      "37    0.055448\n",
      "38    0.020626\n",
      "42    0.014916\n",
      "43    0.023462\n",
      "44    0.035214\n",
      "45    0.048865\n",
      "46    0.060822\n",
      "47    0.066218\n",
      "48    0.062362\n",
      "49    0.051206\n",
      "50    0.037518\n",
      "51    0.025257\n",
      "52    0.016047\n",
      "dtype: float64\n",
      " pixel_val:  45\n",
      "==== 0 1 0\n",
      "X_train[0 0 1 0 ] =  0.09803921568627451  (140.0)\n",
      " m:  [0.12951314 0.12157054] ([144.01292 143.00024])\n",
      " E[m]:  0.12507974 ([144.01292 143.00024])\n",
      " invs:  [3.7793093 2.5165048]\n",
      " weights:  [0.44181985 0.55818015]  ( [-0.04647292  0.18730657] )\n",
      " pvals:  130    0.010538\n",
      "131    0.011530\n",
      "132    0.012703\n",
      "133    0.014117\n",
      "134    0.015853\n",
      "135    0.018006\n",
      "136    0.020683\n",
      "137    0.023984\n",
      "138    0.027969\n",
      "139    0.032598\n",
      "140    0.037669\n",
      "141    0.042752\n",
      "142    0.047203\n",
      "143    0.050277\n",
      "144    0.051359\n",
      "145    0.050206\n",
      "146    0.047050\n",
      "147    0.042504\n",
      "148    0.037313\n",
      "149    0.032129\n",
      "150    0.027389\n",
      "151    0.023303\n",
      "152    0.019912\n",
      "153    0.017160\n",
      "154    0.014948\n",
      "155    0.013169\n",
      "156    0.011724\n",
      "157    0.010535\n",
      "dtype: float64\n",
      " pixel_val:  140\n",
      "==== 0 1 1\n",
      "X_train[0 0 1 1 ] =  0.17647058823529413  (150.0)\n",
      " m:  [0.19382645 0.4236963 ] ([152.21288 181.52127])\n",
      " E[m]:  0.28168246 ([152.21288 181.52127])\n",
      " invs:  [2.6332705 2.9468577]\n",
      " weights:  [0.61780113 0.3821989 ]  ( [ 0.19763373 -0.2825917 ] )\n",
      " pvals:  139    0.010528\n",
      "140    0.011250\n",
      "141    0.011976\n",
      "142    0.012697\n",
      "143    0.013404\n",
      "144    0.014087\n",
      "145    0.014736\n",
      "146    0.015340\n",
      "147    0.015889\n",
      "148    0.016374\n",
      "149    0.016786\n",
      "150    0.017120\n",
      "151    0.017369\n",
      "152    0.017533\n",
      "153    0.017610\n",
      "154    0.017604\n",
      "155    0.017520\n",
      "156    0.017366\n",
      "157    0.017151\n",
      "158    0.016887\n",
      "159    0.016587\n",
      "160    0.016266\n",
      "161    0.015939\n",
      "162    0.015619\n",
      "163    0.015321\n",
      "164    0.015058\n",
      "165    0.014843\n",
      "166    0.014686\n",
      "167    0.014594\n",
      "168    0.014574\n",
      "169    0.014626\n",
      "170    0.014751\n",
      "171    0.014942\n",
      "172    0.015192\n",
      "173    0.015486\n",
      "174    0.015807\n",
      "175    0.016136\n",
      "176    0.016447\n",
      "177    0.016718\n",
      "178    0.016922\n",
      "179    0.017036\n",
      "180    0.017041\n",
      "181    0.016921\n",
      "182    0.016669\n",
      "183    0.016281\n",
      "184    0.015763\n",
      "185    0.015128\n",
      "186    0.014390\n",
      "187    0.013571\n",
      "188    0.012692\n",
      "189    0.011778\n",
      "190    0.010848\n",
      "dtype: float64\n",
      " pixel_val:  154\n",
      "==== 0 1 2\n",
      "X_train[0 0 1 2 ] =  0.2549019607843137  (160.0)\n",
      " m:  [-0.01354583  0.24930952] ([125.7729  159.28696])\n",
      " E[m]:  0.13719256 ([125.7729  159.28696])\n",
      " invs:  [7.2738185 4.5103626]\n",
      " weights:  [0.42653486 0.57346517]  ( [-0.14337549  0.15262757] )\n",
      " pvals:  125    0.018623\n",
      "126    0.407793\n",
      "155    0.017806\n",
      "156    0.033014\n",
      "157    0.056192\n",
      "158    0.083027\n",
      "159    0.100181\n",
      "160    0.095111\n",
      "161    0.071824\n",
      "162    0.045416\n",
      "163    0.025577\n",
      "164    0.013472\n",
      "dtype: float64\n",
      " pixel_val:  155\n",
      "row 0\n",
      "==== 1 0 0\n",
      "X_train[0 1 0 0 ] =  0.5686274509803921  (200.0)\n",
      " m:  [0.6632205  0.59636027] ([212.06061 203.53593])\n",
      " E[m]:  0.6212356 ([212.06061 203.53593])\n",
      " invs:  [2.1921794 3.6488426]\n",
      " weights:  [0.37204957 0.62795043]  ( [-0.20598435  0.3174498 ] )\n",
      " pvals:  193    0.011606\n",
      "194    0.014076\n",
      "195    0.017150\n",
      "196    0.020902\n",
      "197    0.025355\n",
      "198    0.030445\n",
      "199    0.035964\n",
      "200    0.041536\n",
      "201    0.046619\n",
      "202    0.050579\n",
      "203    0.052836\n",
      "204    0.053035\n",
      "205    0.051160\n",
      "206    0.047545\n",
      "207    0.042756\n",
      "208    0.037427\n",
      "209    0.032109\n",
      "210    0.027188\n",
      "211    0.022882\n",
      "212    0.019263\n",
      "213    0.016311\n",
      "214    0.013954\n",
      "215    0.012096\n",
      "216    0.010644\n",
      "255    0.017973\n",
      "dtype: float64\n",
      " pixel_val:  211\n",
      "==== 1 0 1\n",
      "X_train[0 1 0 1 ] =  0.6470588235294118  (210.0)\n",
      " m:  [0.6684475 0.6690423] ([212.72705 212.80289])\n",
      " E[m]:  0.6687952 ([212.72705 212.80289])\n",
      " invs:  [3.8231552 3.2035937]\n",
      " weights:  [0.41535354 0.58464646]  ( [-0.12432747  0.21754977] )\n",
      " pvals:  201    0.011681\n",
      "202    0.014158\n",
      "203    0.017149\n",
      "204    0.020749\n",
      "205    0.025049\n",
      "206    0.030120\n",
      "207    0.035965\n",
      "208    0.042461\n",
      "209    0.049273\n",
      "210    0.055799\n",
      "211    0.061199\n",
      "212    0.064572\n",
      "213    0.065262\n",
      "214    0.063130\n",
      "215    0.058616\n",
      "216    0.052547\n",
      "217    0.045818\n",
      "218    0.039150\n",
      "219    0.032997\n",
      "220    0.027570\n",
      "221    0.022917\n",
      "222    0.018992\n",
      "223    0.015713\n",
      "224    0.012988\n",
      "225    0.010730\n",
      "dtype: float64\n",
      " pixel_val:  215\n",
      "==== 1 0 2\n",
      "X_train[0 1 0 2 ] =  0.7254901960784313  (220.0)\n",
      " m:  [0.9603757 0.7221727] ([249.9479  219.57703])\n",
      " E[m]:  0.8269148 ([249.9479  219.57703])\n",
      " invs:  [6.723262  4.0473685]\n",
      " weights:  [0.4397179 0.5602821]  ( [-0.13111046  0.11119659] )\n",
      " pvals:  213    0.011928\n",
      "214    0.017660\n",
      "215    0.025404\n",
      "216    0.035066\n",
      "217    0.045744\n",
      "218    0.055470\n",
      "219    0.061601\n",
      "220    0.062073\n",
      "221    0.056715\n",
      "222    0.047367\n",
      "223    0.036681\n",
      "224    0.026778\n",
      "225    0.018718\n",
      "226    0.012690\n",
      "249    0.022443\n",
      "250    0.405548\n",
      "251    0.011670\n",
      "dtype: float64\n",
      " pixel_val:  220\n",
      "==== 1 1 0\n",
      "X_train[0 1 1 0 ] =  0.803921568627451  (230.0)\n",
      " m:  [0.82784784 0.7801651 ] ([233.0506  226.97104])\n",
      " E[m]:  0.79102707 ([233.0506  226.97104])\n",
      " invs:  [2.9295304 2.9945292]\n",
      " weights:  [0.2277972 0.7722028]  ( [-0.66204405  0.55874735] )\n",
      " pvals:  212    0.011049\n",
      "213    0.012557\n",
      "214    0.014211\n",
      "215    0.016009\n",
      "216    0.017938\n",
      "217    0.019983\n",
      "218    0.022116\n",
      "219    0.024302\n",
      "220    0.026496\n",
      "221    0.028643\n",
      "222    0.030684\n",
      "223    0.032554\n",
      "224    0.034188\n",
      "225    0.035529\n",
      "226    0.036523\n",
      "227    0.037135\n",
      "228    0.037342\n",
      "229    0.037141\n",
      "230    0.036545\n",
      "231    0.035583\n",
      "232    0.034298\n",
      "233    0.032741\n",
      "234    0.030968\n",
      "235    0.029038\n",
      "236    0.027008\n",
      "237    0.024928\n",
      "238    0.022846\n",
      "239    0.020801\n",
      "240    0.018824\n",
      "241    0.016941\n",
      "242    0.015168\n",
      "243    0.013518\n",
      "244    0.011997\n",
      "245    0.010607\n",
      "255    0.019573\n",
      "dtype: float64\n",
      " pixel_val:  204\n",
      "==== 1 1 1\n",
      "X_train[0 1 1 1 ] =  0.8823529411764706  (240.0)\n",
      " m:  [0.9237882 0.9122036] ([245.28299 243.80597])\n",
      " E[m]:  0.91527325 ([245.28299 243.80597])\n",
      " invs:  [2.823375  3.9776096]\n",
      " weights:  [0.2649712  0.73502886]  ( [-0.5397501   0.48053855] )\n",
      " pvals:  234    0.010191\n",
      "235    0.013074\n",
      "236    0.017070\n",
      "237    0.022566\n",
      "238    0.029957\n",
      "239    0.039494\n",
      "240    0.051007\n",
      "241    0.063534\n",
      "242    0.075110\n",
      "243    0.083093\n",
      "244    0.085221\n",
      "245    0.080854\n",
      "246    0.071368\n",
      "247    0.059325\n",
      "248    0.047188\n",
      "249    0.036527\n",
      "250    0.027953\n",
      "251    0.021430\n",
      "252    0.016626\n",
      "253    0.013137\n",
      "254    0.010606\n",
      "255    0.068794\n",
      "dtype: float64\n",
      " pixel_val:  254\n",
      "==== 1 1 2\n",
      "X_train[0 1 1 2 ] =  0.9607843137254902  (250.0)\n",
      " m:  [0.9311353  0.92486835] ([246.21976 245.42072])\n",
      " E[m]:  0.92840886 ([246.21976 245.42072])\n",
      " invs:  [5.347121 3.785476]\n",
      " weights:  [0.5649511  0.43504885]  ( [ 0.17551225 -0.08576867] )\n",
      " pvals:  238    0.010008\n",
      "239    0.013337\n",
      "240    0.017418\n",
      "241    0.022234\n",
      "242    0.027983\n",
      "243    0.036765\n",
      "244    0.060404\n",
      "245    0.138123\n",
      "246    0.251416\n",
      "247    0.192102\n",
      "248    0.079220\n",
      "249    0.036582\n",
      "250    0.023316\n",
      "251    0.017088\n",
      "252    0.012830\n",
      "255    0.018097\n",
      "dtype: float64\n",
      " pixel_val:  247\n",
      "row 1\n"
     ]
    },
    {
     "data": {
      "image/png": "[encoded data removed]",
      "text/plain": [
       "<Figure size 432x288 with 1 Axes>"
      ]
     },
     "metadata": {},
     "output_type": "display_data"
    },
    {
     "data": {
      "image/png": "[encoded data removed]",
      "text/plain": [
       "<Figure size 864x864 with 1 Axes>"
      ]
     },
     "metadata": {},
     "output_type": "display_data"
    },
    {
     "name": "stdout",
     "output_type": "stream",
     "text": [
      "Elapsed:  3.8359806537628174\n"
     ]
    }
   ],
   "source": [
    "debug = True\n",
    "\n",
    "def gen_image(model, num_samples=batch_size):\n",
    "    x_sample = np.zeros((num_samples, img_rows, img_cols, img_chns))\n",
    "    \n",
    "    # Iteratively generate each conditional pixel P(x_i | x_{1,..,i-1})\n",
    "    for i in range(img_rows):\n",
    "        for j in range(img_cols):\n",
    "            for k in range(img_chns):\n",
    "                # =======================================================\n",
    "                #x_out = model.predict(X_train, num_samples)\n",
    "                x_out = model.predict(x_sample, num_samples)\n",
    "                for n in range(num_samples):\n",
    "                    offset = k * mixture_components\n",
    "                    x_ms = x_out[n, i, j, offset:offset + mixture_components]\n",
    "                    offset = mixture_components * img_chns + k * mixture_components\n",
    "\n",
    "                    x_invs = x_out[n, i, j, offset:offset + mixture_components]\n",
    "                    offset = 2 * mixture_components * img_chns + k * mixture_components\n",
    "                    weights = softmax(x_out[n, i, j, offset:offset + mixture_components])\n",
    "                    pvals = compute_mixture(x_ms, x_invs, weights, mixture_components)\n",
    "                    pvals /= (np.sum(pvals) + 1e-5)\n",
    "                    pixel_val = np.argmax(np.random.multinomial(1, pvals))\n",
    "                    x_sample[n, i, j, k] = (pixel_val - 127.5) / 127.5\n",
    "                    if 0 <= i <= 16 and 0 <= j <= 16 and debug:\n",
    "                        print(\"====\", i, j, k)\n",
    "                        print(\"X_train[0\", i, j, k, \"] = \", X_train[0, i, j, k], \n",
    "                              \" (%s)\" % (X_train[0, i, j, k] * 127.5 + 127.5))\n",
    "                        print(\" m: \", x_ms, \"(%s)\" % (x_ms * 127.5 + 127.5))\n",
    "                        print(\" E[m]: \", (x_ms * weights).sum(), \"(%s)\" % (x_ms * 127.5 + 127.5))\n",
    "                        print(\" invs: \", x_invs)\n",
    "                        print(\" weights: \", weights, \" (\", x_out[n, i, j, offset:offset + mixture_components] ,\")\")\n",
    "                        s = pd.Series(pvals)\n",
    "                        print(\" pvals: \", s[s>1e-2])\n",
    "                        print(\" pixel_val: \", pixel_val)\n",
    "                        samples = pd.Series(np.random.choice(len(pvals), 1000, p=pvals / pvals.sum()))\n",
    "                        samples.hist(bins=128, alpha=0.5, label='generated')\n",
    "                        #print(\"====\", i, j, k)\n",
    "                        #print(\" m: \", x_ms)\n",
    "                        #print(\" invs: \", x_invs)\n",
    "                        #print(\" weights: \", weights)\n",
    "                        #print(\" pixel_val: \", pixel_val)\n",
    "                        #print(\" x_out[n, i, j, :]: \", x_out[n, i, j, :])\n",
    "                        #print(\" x_out: \", x_out)\n",
    "                        #print(\" sample_val: \", x_sample[n, i, j, k])\n",
    "                        #print(\" pvals: \", pvals)\n",
    "        if debug:\n",
    "            print(\"row\", i)\n",
    "        \n",
    "                \n",
    "    return (x_sample * 127.5 + 127.5)\n",
    "\n",
    "\n",
    "start = time.time()\n",
    "\n",
    "n = 1 if debug else 10\n",
    "figure = np.zeros((img_rows * ((n - 1) // 10 + 1), img_cols * 10, img_chns))\n",
    "print(figure.shape)\n",
    "# num_samples = batch_size\n",
    "num_samples = 1\n",
    "for i in range(1):\n",
    "    samples = gen_image(model, num_samples=num_samples)\n",
    "    for j in range(num_samples):\n",
    "        img = samples[j] / 255.\n",
    "        d_x = ((i * batch_size + j) // 10) * img_rows\n",
    "        d_y = ((i * batch_size + j) % 10) * img_cols\n",
    "        figure[d_x:d_x + img_rows, d_y:d_y + img_cols, :] = img\n",
    "        \n",
    "plt.figure(figsize=(12, 12))\n",
    "plt.imshow(figure)\n",
    "plt.show()\n",
    "\n",
    "done = time.time()\n",
    "elapsed = done - start\n",
    "print(\"Elapsed: \", elapsed)"
   ]
  },
  {
   "cell_type": "code",
   "execution_count": 45,
   "metadata": {
    "ExecuteTime": {
     "end_time": "2019-05-27T13:04:59.429554Z",
     "start_time": "2019-05-27T13:04:59.419154Z"
    }
   },
   "outputs": [
    {
     "data": {
      "text/plain": [
       "array([[[105., 160.,  30.],\n",
       "        [140., 150., 160.]],\n",
       "\n",
       "       [[200., 210., 220.],\n",
       "        [230., 240., 250.]]])"
      ]
     },
     "metadata": {},
     "output_type": "display_data"
    },
    {
     "data": {
      "text/plain": [
       "array([[[ 97., 162.,  45.],\n",
       "        [140., 154., 155.]],\n",
       "\n",
       "       [[211., 215., 220.],\n",
       "        [204., 254., 247.]]])"
      ]
     },
     "metadata": {},
     "output_type": "display_data"
    }
   ],
   "source": [
    "display(X_train[0] * 127.5 + 127.5)\n",
    "display(samples[0])"
   ]
  },
  {
   "cell_type": "code",
   "execution_count": 46,
   "metadata": {
    "ExecuteTime": {
     "end_time": "2019-05-27T13:04:59.688909Z",
     "start_time": "2019-05-27T13:04:59.431199Z"
    }
   },
   "outputs": [
    {
     "data": {
      "image/png": "[encoded data removed]",
      "text/plain": [
       "<Figure size 144x144 with 1 Axes>"
      ]
     },
     "metadata": {},
     "output_type": "display_data"
    },
    {
     "data": {
      "image/png": "[encoded data removed]",
      "text/plain": [
       "<Figure size 864x864 with 1 Axes>"
      ]
     },
     "metadata": {},
     "output_type": "display_data"
    },
    {
     "data": {
      "text/plain": [
       "array([[[0.38039216, 0.63529412, 0.17647059],\n",
       "        [0.54901961, 0.60392157, 0.60784314],\n",
       "        [0.        , 0.        , 0.        ],\n",
       "        [0.        , 0.        , 0.        ],\n",
       "        [0.        , 0.        , 0.        ],\n",
       "        [0.        , 0.        , 0.        ],\n",
       "        [0.        , 0.        , 0.        ],\n",
       "        [0.        , 0.        , 0.        ],\n",
       "        [0.        , 0.        , 0.        ],\n",
       "        [0.        , 0.        , 0.        ],\n",
       "        [0.        , 0.        , 0.        ],\n",
       "        [0.        , 0.        , 0.        ],\n",
       "        [0.        , 0.        , 0.        ],\n",
       "        [0.        , 0.        , 0.        ],\n",
       "        [0.        , 0.        , 0.        ],\n",
       "        [0.        , 0.        , 0.        ],\n",
       "        [0.        , 0.        , 0.        ],\n",
       "        [0.        , 0.        , 0.        ],\n",
       "        [0.        , 0.        , 0.        ],\n",
       "        [0.        , 0.        , 0.        ]],\n",
       "\n",
       "       [[0.82745098, 0.84313725, 0.8627451 ],\n",
       "        [0.8       , 0.99607843, 0.96862745],\n",
       "        [0.        , 0.        , 0.        ],\n",
       "        [0.        , 0.        , 0.        ],\n",
       "        [0.        , 0.        , 0.        ],\n",
       "        [0.        , 0.        , 0.        ],\n",
       "        [0.        , 0.        , 0.        ],\n",
       "        [0.        , 0.        , 0.        ],\n",
       "        [0.        , 0.        , 0.        ],\n",
       "        [0.        , 0.        , 0.        ],\n",
       "        [0.        , 0.        , 0.        ],\n",
       "        [0.        , 0.        , 0.        ],\n",
       "        [0.        , 0.        , 0.        ],\n",
       "        [0.        , 0.        , 0.        ],\n",
       "        [0.        , 0.        , 0.        ],\n",
       "        [0.        , 0.        , 0.        ],\n",
       "        [0.        , 0.        , 0.        ],\n",
       "        [0.        , 0.        , 0.        ],\n",
       "        [0.        , 0.        , 0.        ],\n",
       "        [0.        , 0.        , 0.        ]]])"
      ]
     },
     "execution_count": 46,
     "metadata": {},
     "output_type": "execute_result"
    }
   ],
   "source": [
    "plt.figure(figsize=(2, 2))\n",
    "plt.imshow((X_train[0] * 127.5 + 127.5) / 255.)\n",
    "plt.show()\n",
    "\n",
    "plt.figure(figsize=(12, 12))\n",
    "plt.imshow(figure)\n",
    "plt.show()\n",
    "\n",
    "figure"
   ]
  },
  {
   "cell_type": "markdown",
   "metadata": {},
   "source": [
    "# 2019-05-13\n",
    "\n",
    "* I was having trouble fitting even this small image -- it seems like the 'relu' activation right after the PixelConv2D layer at the very start was causing the problem.  Getting rid of that `relu` make it fit almost exactly now (after enough epochs).\n",
    "* I suspect that's because most of the activations were negative, thus passing through `relu` caused it to be near zero output causing no learning to happen?\n",
    "* Here's an example of (1, 1, 3) image, with 10 filters on initial `PixelConv2D` layer, followed by `Dense` layers to match the right output formats for m, invs, weights.  You can see that we're almost bang on for each pixel, centered at the actual pixel, with almost all the mass within 2-3 intensity values:\n",
    "\n",
    "        ==== 0 0 0\n",
    "        X_train[0, i, j, k] =  -0.6862745098039216  (40.0)\n",
    "         m:  [-0.6863073]\n",
    "         E[m]:  -0.6863073\n",
    "         invs:  [4.973635]\n",
    "         weights:  [1.]\n",
    "         pvals:  36    0.012568\n",
    "        37    0.037100\n",
    "        38    0.099260\n",
    "        39    0.208047\n",
    "        40    0.276076\n",
    "        41    0.207095\n",
    "        42    0.098519\n",
    "        43    0.036775\n",
    "        44    0.012452\n",
    "        dtype: float64\n",
    "         pixel_val:  42\n",
    "        ==== 0 0 1\n",
    "        X_train[0, i, j, k] =  -0.37254901960784315  (80.0)\n",
    "         m:  [-0.37255913]\n",
    "         E[m]:  -0.37255913\n",
    "         invs:  [5.821288]\n",
    "         weights:  [1.]\n",
    "         pvals:  78    0.017253\n",
    "        79    0.192262\n",
    "        80    0.579408\n",
    "        81    0.191254\n",
    "        82    0.017138\n",
    "        dtype: float64\n",
    "         pixel_val:  80\n",
    "        ==== 0 0 2\n",
    "        X_train[0, i, j, k] =  -0.058823529411764705  (120.0)\n",
    "         m:  [-0.05882262]\n",
    "         E[m]:  -0.058822624\n",
    "         invs:  [6.2373266]\n",
    "         weights:  [1.]\n",
    "         pvals:  119    0.116113\n",
    "        120    0.762810\n",
    "        121    0.116207\n",
    "        dtype: float64\n",
    "         pixel_val:  120\n",
    "         \n",
    "* Tried growing to 2x2 image size, it almost looks like it tries to fit the first pixel only (40, 80, 120) and all the other pixels get distributions like that.  It's quite likely because I don't have enough depth.  For example, after getting rid of the activation on the first layer, the `m` is purely a linear function through the `PixelConv2D` and `Dense` layer.\n",
    "* TODO: Try adding depth to the `Dense` layers to give the network a bit capacity."
   ]
  },
  {
   "cell_type": "markdown",
   "metadata": {},
   "source": [
    "# 2019-05-25\n",
    "\n",
    "* Debugging network by fixing weights (single mixture so doens't matter) and `invs` to different fixes values\n",
    "* Also setting all activations to `tanh` (setting it to `sigmoid` doesn't seem to work?)\n",
    "* Setting `invs={1, 3, 5}` both pretty messy not real convergence but... setting `invs=2` gave me really tight `m`s but notice that `invs=2` is a really wide distribution... could be spread over > 100 even though the center is right.. still need to figure out what's going on:\n",
    "\n",
    "        ==== 0 0 0\n",
    "        X_train[0 0 0 0 ] =  -0.17647058823529413  (105.0)\n",
    "         m:  [-0.19976245] ([102.03029])\n",
    "         E[m]:  -0.19976245 ([102.03029])\n",
    "         invs:  [2.]\n",
    "         weights:  [1.]  ( [0.1] )\n",
    "         pixel_val:  116\n",
    "        ==== 0 0 1\n",
    "        X_train[0 0 0 1 ] =  0.2549019607843137  (160.0)\n",
    "         m:  [0.23929669] ([158.01033])\n",
    "         E[m]:  0.23929669 ([158.01033])\n",
    "         invs:  [2.]\n",
    "         weights:  [1.]  ( [0.1] )\n",
    "         pixel_val:  152\n",
    "        ==== 0 0 2\n",
    "        X_train[0 0 0 2 ] =  -0.7647058823529411  (30.0)\n",
    "         m:  [-0.7363449] ([33.616028])\n",
    "         E[m]:  -0.7363449 ([33.616028])\n",
    "         invs:  [2.]\n",
    "         weights:  [1.]  ( [0.1] )\n",
    "         pixel_val:  40\n",
    "        ==== 0 1 0\n",
    "        X_train[0 0 1 0 ] =  0.09803921568627451  (140.0)\n",
    "         m:  [0.09223882] ([139.26045])\n",
    "         E[m]:  0.09223882 ([139.26045])\n",
    "         invs:  [2.]\n",
    "         weights:  [1.]  ( [0.1] )\n",
    "         pixel_val:  151\n",
    "        ==== 0 1 1\n",
    "        X_train[0 0 1 1 ] =  0.17647058823529413  (150.0)\n",
    "         m:  [0.17732275] ([150.10864])\n",
    "         E[m]:  0.17732275 ([150.10864])\n",
    "         invs:  [2.]\n",
    "         weights:  [1.]  ( [0.1] )\n",
    "         pixel_val:  159\n",
    "        ==== 0 1 2\n",
    "        X_train[0 0 1 2 ] =  0.2549019607843137  (160.0)\n",
    "         m:  [0.25956577] ([160.59464])\n",
    "         E[m]:  0.25956577 ([160.59464])\n",
    "         invs:  [2.]\n",
    "         weights:  [1.]  ( [0.1] )\n",
    "         pixel_val:  138\n",
    "        row 0\n",
    "        ==== 1 0 0\n",
    "        X_train[0 1 0 0 ] =  0.5686274509803921  (200.0)\n",
    "         m:  [0.57632023] ([200.98083])\n",
    "         E[m]:  0.57632023 ([200.98083])\n",
    "         invs:  [2.]\n",
    "         weights:  [1.]  ( [0.1] )\n",
    "         pixel_val:  89\n",
    "        ==== 1 0 1\n",
    "        X_train[0 1 0 1 ] =  0.6470588235294118  (210.0)\n",
    "         m:  [0.6417392] ([209.32175])\n",
    "         E[m]:  0.6417392 ([209.32175])\n",
    "         invs:  [2.]\n",
    "         weights:  [1.]  ( [0.1] )\n",
    "         pixel_val:  180\n",
    "        ==== 1 0 2\n",
    "        X_train[0 1 0 2 ] =  0.7254901960784313  (220.0)\n",
    "         m:  [0.7126783] ([218.36649])\n",
    "         E[m]:  0.7126783 ([218.36649])\n",
    "         invs:  [2.]\n",
    "         weights:  [1.]  ( [0.1] )\n",
    "         pixel_val:  174\n",
    "        ==== 1 1 0\n",
    "        X_train[0 1 1 0 ] =  0.803921568627451  (230.0)\n",
    "         m:  [0.79810566] ([229.25847])\n",
    "         E[m]:  0.79810566 ([229.25847])\n",
    "         invs:  [2.]\n",
    "         weights:  [1.]  ( [0.1] )\n",
    "         pixel_val:  206\n",
    "        ==== 1 1 1\n",
    "        X_train[0 1 1 1 ] =  0.8823529411764706  (240.0)\n",
    "         m:  [0.8930376] ([241.3623])\n",
    "         E[m]:  0.8930376 ([241.3623])\n",
    "         invs:  [2.]\n",
    "         weights:  [1.]  ( [0.1] )\n",
    "         pixel_val:  234\n",
    "        \n",
    "* Playing around with the activations and number of perceptrons doesn't really change anything.  I wonder... if the `invs` is too big than maybe the loss function blows up somehow?  The `exp(invs)` could cause some problems...\n",
    "* Tried a few other combinations at (`invs=2`) with `relu` and using no activation on `m` output and still seems like it converges pretty well.  Quite likely it's an issue with the `invs`... so because I always did `lambda x: 5*x. + 3` it never quited worked properly...\n",
    "* Tried to reset everything but did `invs = lambda x: x + 2.0` and it worked!  Distributions are still sticking to `invs=2.0`, almost all of them are exactly `2` otherwise something like `2.01`.  It somehow has trouble making the likelihood tigher! Need to investigate loss probably.\n"
   ]
  },
  {
   "cell_type": "markdown",
   "metadata": {
    "ExecuteTime": {
     "end_time": "2019-05-25T14:30:02.253656Z",
     "start_time": "2019-05-25T14:30:02.249271Z"
    }
   },
   "source": [
    "* Narrowed it down in the loss function:\n",
    "\n",
    "       log_ll = K.tf.where(x <= -0.999, log_cdfplus,\n",
    "                           K.tf.where(x >= 0.999, log_1minus_cdf,\n",
    "                                      K.tf.where(cdfplus_safe - cdfminus_safe > 1e-5,\n",
    "                                                 K.log(K.maximum(cdfplus_safe - cdfminus_safe, 1e-12)),\n",
    "                                                 log_pdf_mid - np.log(127.5))))\n",
    "\n",
    "  Notice the `1e-5`, often times you will have the difference in the CDFs be less than `1-e5`, here is an example I did offline:"
   ]
  },
  {
   "cell_type": "code",
   "execution_count": 12,
   "metadata": {
    "ExecuteTime": {
     "end_time": "2019-05-27T13:01:47.486638Z",
     "start_time": "2019-05-27T13:01:47.482105Z"
    }
   },
   "outputs": [
    {
     "data": {
      "text/plain": [
       "(-9.50712273796075,\n",
       " -9.60267171020156,\n",
       " 7.431505102396395e-05,\n",
       " 6.754346401686886e-05,\n",
       " 6.771587007095093e-06)"
      ]
     },
     "execution_count": 12,
     "metadata": {},
     "output_type": "execute_result"
    }
   ],
   "source": [
    "f = lambda x: (x - 127.5) / 127.5\n",
    "\n",
    "cdfargplus = (f(150) - f(250) + 0.5 / 127.5) * np.exp(2.5)\n",
    "cdfargminus = (f(150) - f(250) - 0.5 / 127.5) * np.exp(2.5)\n",
    "\n",
    "cdfargplus, cdfargminus, sigmoid(cdfargplus), sigmoid(cdfargminus), sigmoid(cdfargplus) - sigmoid(cdfargminus)"
   ]
  },
  {
   "cell_type": "markdown",
   "metadata": {},
   "source": [
    "* See how the difference is `6.77e-06`, this will make it go into the last `log_pdf_mid - np.log(127.5)` case.  In the PixelCNN++ it has a comment that it's not used, but it looks like in my implementation is does get used!\n",
    "* I played around of changing `1e-5` to `1e-{8, 10, 12}`, and I'm able to up the min `invs=2.5` (can't quite get to `3.0`.\n",
    "* So when the CDFs are very close, the gradient is probably super small and you don't learn much -- even though the `m` or `invs` could be very far from the actual value.  This suggests that the last part `log_pdf_mid - ...` needs to be changed so that it actually learns something in this degenerate case (i.e. I'm guessing when the `m` is way off, or the `invs` is too narrow).  It's got to be something like just the parameters to the `cdf` maybe?"
   ]
  },
  {
   "cell_type": "markdown",
   "metadata": {},
   "source": [
    "(CONTINUED)\n",
    "\n",
    "* So I did implement the `log_pdf_mid` wrong.  The way it was supposed to work is that when you have a small CDF diff (cdfplus - cdf_minus < 1e-5), you were supposed to approximate it by logistic PDF * 1 pixel width = log(pdf * 1 / 127.5) = log(pdf) - log(1 / 127.5).  \n",
    "* I actually implemented this and it works!  The pixelCNN++ has some different +/- signs so I'm not exactly sure how  they used all of those.  They also say they don't need this \"edge\" case but I definitely did or else it would blow up.\n",
    "* I also used a \"softplus\" for the activation of `invs` (without any artificial lower bound), this works much better than `relu` because there's no hard `0` gradient.  Seems to have my lowest negative log loss yet: 30-40\n",
    "\n",
    "Here is a run: \n",
    "\n",
    "    ==== 0 0 0\n",
    "    X_train[0 0 0 0 ] =  -0.17647058823529413  (105.0)\n",
    "     m:  [-0.17190392] ([105.58225])\n",
    "     E[m]:  -0.17190392 ([105.58225])\n",
    "     invs:  [4.0076156]\n",
    "     weights:  [1.]  ( [-0.00131516] )\n",
    "     pvals:  97     0.010196\n",
    "    98     0.015290\n",
    "    99     0.022619\n",
    "    100    0.032803\n",
    "    101    0.046222\n",
    "    102    0.062557\n",
    "    103    0.080199\n",
    "    104    0.095966\n",
    "    105    0.105797\n",
    "    106    0.106598\n",
    "    107    0.098098\n",
    "    108    0.083026\n",
    "    109    0.065435\n",
    "    110    0.048733\n",
    "    111    0.034785\n",
    "    112    0.024084\n",
    "    113    0.016324\n",
    "    114    0.010907\n",
    "    dtype: float64\n",
    "     pixel_val:  100\n",
    "    ==== 0 0 1\n",
    "    X_train[0 0 0 1 ] =  0.2549019607843137  (160.0)\n",
    "     m:  [0.23685539] ([157.69907])\n",
    "     E[m]:  0.23685539 ([157.69907])\n",
    "     invs:  [4.2559366]\n",
    "     weights:  [1.]  ( [-0.00102071] )\n",
    "     pvals:  151    0.013099\n",
    "    152    0.021961\n",
    "    153    0.035902\n",
    "    154    0.056339\n",
    "    155    0.082971\n",
    "    156    0.111434\n",
    "    157    0.132485\n",
    "    158    0.136474\n",
    "    159    0.121320\n",
    "    160    0.094507\n",
    "    161    0.066327\n",
    "    162    0.043215\n",
    "    163    0.026808\n",
    "    164    0.016127\n",
    "    dtype: float64\n",
    "     pixel_val:  160\n",
    "    ==== 0 0 2\n",
    "    X_train[0 0 0 2 ] =  -0.7647058823529411  (30.0)\n",
    "     m:  [-0.70006436] ([38.24179])\n",
    "     E[m]:  -0.70006436 ([38.24179])\n",
    "     invs:  [3.364603]\n",
    "     weights:  [1.]  ( [-0.00131805] )\n",
    "     pvals:  25    0.010229\n",
    "    26    0.012528\n",
    "    27    0.015258\n",
    "    28    0.018452\n",
    "    29    0.022129\n",
    "    30    0.026273\n",
    "    31    0.030821\n",
    "    32    0.035655\n",
    "    33    0.040584\n",
    "    34    0.045352\n",
    "    35    0.049651\n",
    "    36    0.053149\n",
    "    37    0.055543\n",
    "    38    0.056606\n",
    "    39    0.056233\n",
    "    40    0.054461\n",
    "    41    0.051462\n",
    "    42    0.047510\n",
    "    43    0.042928\n",
    "    44    0.038041\n",
    "    45    0.033133\n",
    "    46    0.028428\n",
    "    47    0.024077\n",
    "    48    0.020170\n",
    "    49    0.016743\n",
    "    50    0.013792\n",
    "    51    0.011290\n",
    "    dtype: float64\n",
    "     pixel_val:  24\n",
    "    ==== 1 1 2\n",
    "    X_train[0 1 1 2 ] =  0.9607843137254902  (250.0)\n",
    "     m:  [1.00931] ([256.187])\n",
    "     E[m]:  1.00931 ([256.187])\n",
    "     invs:  [2.7436216]\n",
    "     weights:  [1.]  ( [-0.00050708] )\n",
    "     pvals:  238    0.010801\n",
    "    239    0.011896\n",
    "    240    0.013064\n",
    "    241    0.014301\n",
    "    242    0.015601\n",
    "    243    0.016954\n",
    "    244    0.018348\n",
    "    245    0.019769\n",
    "    246    0.021197\n",
    "    247    0.022611\n",
    "    248    0.023987\n",
    "    249    0.025298\n",
    "    250    0.026517\n",
    "    251    0.027616\n",
    "    252    0.028567\n",
    "    253    0.029347\n",
    "    254    0.029932\n",
    "    255    0.551229\n",
    "    dtype: float64\n",
    "     pixel_val:  255\n",
    "    row 1"
   ]
  },
  {
   "cell_type": "markdown",
   "metadata": {},
   "source": [
    "# 2019-05-27\n",
    "\n",
    "Let's try to see how the loss function behaves as we move from the \"extreme case\" of `<1e-05` to the \"normal case\"."
   ]
  },
  {
   "cell_type": "code",
   "execution_count": 60,
   "metadata": {
    "ExecuteTime": {
     "end_time": "2019-05-27T13:11:39.703636Z",
     "start_time": "2019-05-27T13:11:39.345707Z"
    }
   },
   "outputs": [
    {
     "name": "stderr",
     "output_type": "stream",
     "text": [
      "/home/brian/anaconda3/lib/python3.6/site-packages/ipykernel_launcher.py:31: RuntimeWarning: divide by zero encountered in log\n"
     ]
    },
    {
     "data": {
      "image/png": "[encoded data removed]",
      "text/plain": [
       "<Figure size 864x288 with 3 Axes>"
      ]
     },
     "metadata": {},
     "output_type": "display_data"
    }
   ],
   "source": [
    "import seaborn as sns\n",
    "\n",
    "def softplus(x):\n",
    "    return np.log(1 + np.exp(x))\n",
    "\n",
    "plt.figure(figsize=(12,4))\n",
    "sns.set_style(\"whitegrid\")\n",
    "plt.subplot(221)\n",
    "vals = {}\n",
    "invss = [3, 4, 5]\n",
    "for index, invs in enumerate(invss):\n",
    "    vals[(invs, 'standard')] = []\n",
    "    vals[(invs, 'exception')] = []\n",
    "    vals[(invs, 'except_cont')] = []\n",
    "    vertline = None\n",
    "    mid_vert = 1e10\n",
    "    for i in range(1, 200):\n",
    "        centered_mean = i / 127.5\n",
    "        offset = 1. / 127.5 / 2.\n",
    "        cdfminus_arg = (centered_mean - offset) * np.exp(invs)\n",
    "        cdfplus_arg = (centered_mean + offset) * np.exp(invs)\n",
    "        mid_in = centered_mean * np.exp(invs)\n",
    "        log_pdf_mid = -mid_in - invs - 2. * softplus(-mid_in)\n",
    "        \n",
    "        loss_standard = sigmoid(cdfplus_arg) - sigmoid(cdfminus_arg)\n",
    "        loss_mid = mid_in - np.log(127.5)\n",
    "        if loss_standard < 1e-5 and vertline is None:\n",
    "            vertline = i\n",
    "            mid_vert = loss_mid\n",
    "            \n",
    "        vals[(invs, 'standard')].append(-np.log(loss_standard))\n",
    "        vals[(invs, 'exception')].append(loss_mid)\n",
    "        if vertline is None:\n",
    "            vals[(invs, 'except_cont')].append(np.nan)\n",
    "        else:\n",
    "            vals[(invs, 'except_cont')].append(loss_mid + (-np.log(1e-5) - mid_vert))\n",
    "        \n",
    "    ax = plt.subplot(1, len(invss), index + 1)\n",
    "    ax.title.set_text('invs=%d' % invs)\n",
    "    pd.Series(vals[(invs, 'standard')], name='standard').plot(ax=ax)\n",
    "    pd.Series(vals[(invs, 'exception')], name='exception').plot(ax=ax)\n",
    "    #pd.Series(vals[(invs, 'except_cont')], name='except_cont').plot(ax=ax)\n",
    "    ax.axvline(x=vertline, linestyle='--', color='black')\n",
    "    ax.legend()"
   ]
  },
  {
   "cell_type": "markdown",
   "metadata": {},
   "source": [
    "* As you can see, directionally, the \"normal\" and the \"exception\" are pretty much aligned for different values of `invs` (black dotted line is the switch over point of `1e-5`)\n",
    "* At some point the \"standard\" case blows up because you have a logarithm of a `0` (it's at some point near `1e-16` where it gets so small that it rounds down to `0`), resulting in `np.inf`.\n",
    "* When you start getting large `invs` it happens much more quickly (`invs=5`).  So basically without this edge case, it would just stick with small `invs` values or else risk blowing up the loss.\n",
    "* I feel like there is some way to make this function more continuous: for a given `invs`, find the cross over point `centered_mean` (black dotted line), then compute the difference between `standard` and `exception` and add it to the `exception` case.  I mean this would work but it's probably hard to find the cross over point analytically, and doing it on the fly seems like it would be computationally intensive.\n",
    "* However, as long as your step size is small, I supposed the gradient will bias toward small `invs`, then slowly step towards larger `invs` when the mean gets closer."
   ]
  },
  {
   "cell_type": "code",
   "execution_count": null,
   "metadata": {},
   "outputs": [],
   "source": []
  }
 ],
 "metadata": {
  "celltoolbar": "Slideshow",
  "kernelspec": {
   "display_name": "Python 3",
   "language": "python",
   "name": "python3"
  },
  "language_info": {
   "codemirror_mode": {
    "name": "ipython",
    "version": 3
   },
   "file_extension": ".py",
   "mimetype": "text/x-python",
   "name": "python",
   "nbconvert_exporter": "python",
   "pygments_lexer": "ipython3",
   "version": "3.6.5"
  },
  "widgets": {
   "state": {
    "042d9353a5294a1cae93f8eb9e9a3c84": {
     "views": [
      {
       "cell_index": 12
      }
     ]
    },
    "05e25527c52843438585a66b7e9f443c": {
     "views": [
      {
       "cell_index": 12
      }
     ]
    },
    "06fdc638a3dc45a0a1e82f2b3c90c18d": {
     "views": [
      {
       "cell_index": 12
      }
     ]
    },
    "07f49ab2133c40a4a245e0a348843084": {
     "views": [
      {
       "cell_index": 12
      }
     ]
    },
    "12369f27c46c46f58c925a3d9749e65d": {
     "views": [
      {
       "cell_index": 12
      }
     ]
    },
    "16bcb109a6814007801cf814c76aa6d3": {
     "views": [
      {
       "cell_index": 12
      }
     ]
    },
    "1930a5477ce44850aaa99c20f3f7e542": {
     "views": [
      {
       "cell_index": 12
      }
     ]
    },
    "194b186d11d94c28afd8a01d9fd8ae1e": {
     "views": [
      {
       "cell_index": 12
      }
     ]
    },
    "1ccc61b6a278489eacb5735a740e79bf": {
     "views": [
      {
       "cell_index": 12
      }
     ]
    },
    "1d67ae6836244a81bff253e0426488ff": {
     "views": [
      {
       "cell_index": 12
      }
     ]
    },
    "213bd5ec7a124467b85e240c7bdcc819": {
     "views": [
      {
       "cell_index": 12
      }
     ]
    },
    "23c591bc3a7e4df5b0e21677e2869f27": {
     "views": [
      {
       "cell_index": 12
      }
     ]
    },
    "24382361c62a4bbc9741c2129be71810": {
     "views": [
      {
       "cell_index": 12
      }
     ]
    },
    "24419d69ef3347819fcc70448978bf05": {
     "views": [
      {
       "cell_index": 12
      }
     ]
    },
    "25ecd0ca842e43fcabc04a82fff2dac1": {
     "views": [
      {
       "cell_index": 12
      }
     ]
    },
    "26bab0144edd46609ddcdd6bfd65115f": {
     "views": [
      {
       "cell_index": 12
      }
     ]
    },
    "28707906c2344d00b07ee40c479121db": {
     "views": [
      {
       "cell_index": 12
      }
     ]
    },
    "287646592b8e41f2920e73c7e92d2ec0": {
     "views": [
      {
       "cell_index": 12
      }
     ]
    },
    "28a8916064514ce7912c103e7370ad47": {
     "views": [
      {
       "cell_index": 12
      }
     ]
    },
    "2a100dade8384007bf4abf580068cdc3": {
     "views": [
      {
       "cell_index": 12
      }
     ]
    },
    "2b28c9ea3e5b4950bdfcd897162bd56d": {
     "views": [
      {
       "cell_index": 12
      }
     ]
    },
    "2b5b08661aee4f9296e0878cb4ce041b": {
     "views": [
      {
       "cell_index": 12
      }
     ]
    },
    "2bd96fa1931842749cd9ba68345a4132": {
     "views": [
      {
       "cell_index": 12
      }
     ]
    },
    "32a97da73a594458a7080928d0aa12a4": {
     "views": [
      {
       "cell_index": 12
      }
     ]
    },
    "33a124f13a124b64bbca8a0a4a96999c": {
     "views": [
      {
       "cell_index": 12
      }
     ]
    },
    "3477d40608834aca90d0f57b44f7b3e7": {
     "views": [
      {
       "cell_index": 12
      }
     ]
    },
    "357ae9996a19410e98f131fc86e2c937": {
     "views": [
      {
       "cell_index": 12
      }
     ]
    },
    "3a1b2c52257843549c64aedde0be827c": {
     "views": [
      {
       "cell_index": 12
      }
     ]
    },
    "3a685442e38243f5a601d54d59c37fdd": {
     "views": [
      {
       "cell_index": 12
      }
     ]
    },
    "3ac750287e394cc281f1dc3487e94df6": {
     "views": [
      {
       "cell_index": 12
      }
     ]
    },
    "3afef162a0304210973a3797acf40cab": {
     "views": [
      {
       "cell_index": 12
      }
     ]
    },
    "3c47ecdd65c049cfa66eb21ad8fd933b": {
     "views": [
      {
       "cell_index": 12
      }
     ]
    },
    "40b3e13fb5ae4ceda47aa8542106d365": {
     "views": [
      {
       "cell_index": 12
      }
     ]
    },
    "439afcda2d4e4ce9af1ea7024a9bd0b5": {
     "views": [
      {
       "cell_index": 12
      }
     ]
    },
    "440c8e7f865840019dd96476fe5fe1bc": {
     "views": [
      {
       "cell_index": 12
      }
     ]
    },
    "4480a3d377a748c5bbd202d71b80b323": {
     "views": [
      {
       "cell_index": 12
      }
     ]
    },
    "4692e78886d942c982ddd2a97a55f649": {
     "views": [
      {
       "cell_index": 12
      }
     ]
    },
    "47282faa187746bb8339a4fb4ac58068": {
     "views": [
      {
       "cell_index": 12
      }
     ]
    },
    "4a1af9ac778a45d8baac52255b6aaac0": {
     "views": [
      {
       "cell_index": 12
      }
     ]
    },
    "4a7ca0764c1d4f4e8c818452e0faad22": {
     "views": [
      {
       "cell_index": 12
      }
     ]
    },
    "4f9ead92babf43a6a7c2dbe03bc199e1": {
     "views": [
      {
       "cell_index": 12
      }
     ]
    },
    "4fe4e6c7a7c04da0b82eedfee59f123c": {
     "views": [
      {
       "cell_index": 12
      }
     ]
    },
    "509696b56ebd4c078824720adfb9c882": {
     "views": [
      {
       "cell_index": 12
      }
     ]
    },
    "5288b8c03d57497384001bd545f9473a": {
     "views": [
      {
       "cell_index": 12
      }
     ]
    },
    "54c0486d9d194fd89a425f8bfe8abffd": {
     "views": [
      {
       "cell_index": 12
      }
     ]
    },
    "5591146f394445e9a7562bfbeba3b210": {
     "views": [
      {
       "cell_index": 12
      }
     ]
    },
    "569e07a8c03b417a8bec640521c1e8d8": {
     "views": [
      {
       "cell_index": 12
      }
     ]
    },
    "56d382118cbe49f09c5518839d1309ee": {
     "views": [
      {
       "cell_index": 12
      }
     ]
    },
    "58879c6ef3904577a0d0ca261361d888": {
     "views": [
      {
       "cell_index": 12
      }
     ]
    },
    "59de165a886a4dcd855ec33e4682bd2d": {
     "views": [
      {
       "cell_index": 12
      }
     ]
    },
    "5d835fe3d36c41d9b140f25c874e02e7": {
     "views": [
      {
       "cell_index": 12
      }
     ]
    },
    "5dcb1825f8f945509c1521456ec8802f": {
     "views": [
      {
       "cell_index": 12
      }
     ]
    },
    "5fc113b88db343038e6190f2e2e1df1e": {
     "views": [
      {
       "cell_index": 12
      }
     ]
    },
    "601e0344661243299a2a6d382458f93a": {
     "views": [
      {
       "cell_index": 12
      }
     ]
    },
    "6060d310a5e34896a7156115cc6c3b43": {
     "views": [
      {
       "cell_index": 12
      }
     ]
    },
    "607439f270cb405cad0280cd5bf035bf": {
     "views": [
      {
       "cell_index": 12
      }
     ]
    },
    "695d75c78b7148a4a7c84d57bed02c35": {
     "views": [
      {
       "cell_index": 12
      }
     ]
    },
    "6b76037650064c71afc1ef43cea3b884": {
     "views": [
      {
       "cell_index": 12
      }
     ]
    },
    "6ec89ae257604fa0a672b9c0042d1c53": {
     "views": [
      {
       "cell_index": 12
      }
     ]
    },
    "70dfa87054284e3d84cd08df8bfbf705": {
     "views": [
      {
       "cell_index": 12
      }
     ]
    },
    "70fefa448a124b56bec948f54c0fe1fc": {
     "views": [
      {
       "cell_index": 12
      }
     ]
    },
    "73deeee41eb04b1c9b5d12164159f500": {
     "views": [
      {
       "cell_index": 12
      }
     ]
    },
    "74df7b1ee69449e6a6733da633e4c583": {
     "views": [
      {
       "cell_index": 12
      }
     ]
    },
    "75c980fe55484a15b5fadf86960e6984": {
     "views": [
      {
       "cell_index": 12
      }
     ]
    },
    "770dfa1b77ed46258fd936b4a5b002f7": {
     "views": [
      {
       "cell_index": 12
      }
     ]
    },
    "79b014c35bb64afd98775e32a56c8469": {
     "views": [
      {
       "cell_index": 12
      }
     ]
    },
    "7b97837f50464a0194b38acd2ee83d07": {
     "views": [
      {
       "cell_index": 12
      }
     ]
    },
    "7df60277eba44da5acc4ae70299cd1db": {
     "views": [
      {
       "cell_index": 12
      }
     ]
    },
    "7e9f3f789dd9472189a557183640b7c9": {
     "views": [
      {
       "cell_index": 12
      }
     ]
    },
    "7eb10ea82e954391a3733334c4276916": {
     "views": [
      {
       "cell_index": 12
      }
     ]
    },
    "7fe51828fd9745e9bad8a4632d35a137": {
     "views": [
      {
       "cell_index": 12
      }
     ]
    },
    "807fe4bc5122427a8d991815a0afdefe": {
     "views": [
      {
       "cell_index": 12
      }
     ]
    },
    "82b2dfaaeca94ac7871eb714ebf0bd24": {
     "views": [
      {
       "cell_index": 12
      }
     ]
    },
    "83eb650f527a42e9a904a1dc3489226e": {
     "views": [
      {
       "cell_index": 12
      }
     ]
    },
    "84c3b92deb524251aae620eb42b81d57": {
     "views": [
      {
       "cell_index": 12
      }
     ]
    },
    "85ca8ba9ed1c4fc1bd9f636d4efb13a2": {
     "views": [
      {
       "cell_index": 12
      }
     ]
    },
    "8a803cf98b4a4ad38b46389cd0cbc624": {
     "views": [
      {
       "cell_index": 12
      }
     ]
    },
    "8f271df026484a06be2f6509462c42ed": {
     "views": [
      {
       "cell_index": 12
      }
     ]
    },
    "8f2d4f8192c4455a922e9f4f4388b10a": {
     "views": [
      {
       "cell_index": 12
      }
     ]
    },
    "99722895709c48d7baca4359ce30f165": {
     "views": [
      {
       "cell_index": 12
      }
     ]
    },
    "9994b42dd71f4dcb8412076e04f74af1": {
     "views": [
      {
       "cell_index": 12
      }
     ]
    },
    "9c65331cb7044f07bea6f1dcd02be34e": {
     "views": [
      {
       "cell_index": 12
      }
     ]
    },
    "9d93b50dddb843ffb3192fa7463d1eb3": {
     "views": [
      {
       "cell_index": 12
      }
     ]
    },
    "9ddcff6b73e84b71bb72cbaf509b6d7d": {
     "views": [
      {
       "cell_index": 12
      }
     ]
    },
    "9ff602ebdfe446f8a7973c18b0b9c448": {
     "views": [
      {
       "cell_index": 12
      }
     ]
    },
    "a13b7297bcfd48aeb1f6adeb79c6907e": {
     "views": [
      {
       "cell_index": 12
      }
     ]
    },
    "a2d8253207ff47c196ec18d0c3e292fc": {
     "views": [
      {
       "cell_index": 12
      }
     ]
    },
    "a447bd0d14cf402b844ccef55b5e2d6e": {
     "views": [
      {
       "cell_index": 12
      }
     ]
    },
    "a8fd29c4d7474543bfb283fe1bc22752": {
     "views": [
      {
       "cell_index": 12
      }
     ]
    },
    "a938e8c6d6f54d119dc4e0fc6591ceb2": {
     "views": [
      {
       "cell_index": 12
      }
     ]
    },
    "abb7603ed5cc4ea7a3e9133abc83daab": {
     "views": [
      {
       "cell_index": 12
      }
     ]
    },
    "abd62c0bee8d4a1d93a95b31b9aaf486": {
     "views": [
      {
       "cell_index": 12
      }
     ]
    },
    "ac5eaac0d0bc4bdc899be9b7c7609004": {
     "views": [
      {
       "cell_index": 12
      }
     ]
    },
    "ac8d814446504f1fb7359e84efc877df": {
     "views": [
      {
       "cell_index": 12
      }
     ]
    },
    "aecfd70ffbbb491296ddfead5c3e676c": {
     "views": [
      {
       "cell_index": 12
      }
     ]
    },
    "b012c12df7ec4de5bee68e9f10c67227": {
     "views": [
      {
       "cell_index": 12
      }
     ]
    },
    "b0413da85a834535bf0910a1a2049cf4": {
     "views": [
      {
       "cell_index": 12
      }
     ]
    },
    "b3e05cfa4dfb44e8aec6501b481e740a": {
     "views": [
      {
       "cell_index": 12
      }
     ]
    },
    "b8e7a6d97abc49eb8b24af81997c814b": {
     "views": [
      {
       "cell_index": 12
      }
     ]
    },
    "b958fd557b674353b4513a1223d1a451": {
     "views": [
      {
       "cell_index": 12
      }
     ]
    },
    "bc39a43c23b9496fb53533370e7f076b": {
     "views": [
      {
       "cell_index": 12
      }
     ]
    },
    "bcb5c68f5f9640ffbc0d14af2a8d2609": {
     "views": [
      {
       "cell_index": 12
      }
     ]
    },
    "c1a529e546e84cfe858abc405448a31c": {
     "views": [
      {
       "cell_index": 12
      }
     ]
    },
    "c51f1c60f93c4707808116607aceb523": {
     "views": [
      {
       "cell_index": 12
      }
     ]
    },
    "c6cefa23028c47d1a9b8e34f2173662b": {
     "views": [
      {
       "cell_index": 12
      }
     ]
    },
    "c867ce48830d48ff838c535f911cde38": {
     "views": [
      {
       "cell_index": 12
      }
     ]
    },
    "cc1c3c0a394049c7817525d4c0dbc660": {
     "views": [
      {
       "cell_index": 12
      }
     ]
    },
    "ce61c3f1b09d4b7aaaa04b999968853b": {
     "views": [
      {
       "cell_index": 12
      }
     ]
    },
    "ced5cb09460b44f2b3cb07cd26ba2d80": {
     "views": [
      {
       "cell_index": 12
      }
     ]
    },
    "d0a64a823a4649898b5ef2ae2f1bbe27": {
     "views": [
      {
       "cell_index": 12
      }
     ]
    },
    "d2307dd3ea50414580c68a01944b6609": {
     "views": [
      {
       "cell_index": 12
      }
     ]
    },
    "d73036ff5b9a463aa2d560cc98e09a99": {
     "views": [
      {
       "cell_index": 12
      }
     ]
    },
    "d8bff5fe3809457696452bd7d37b0163": {
     "views": [
      {
       "cell_index": 12
      }
     ]
    },
    "da29d43a5fbd4d0db082c70348e5783e": {
     "views": [
      {
       "cell_index": 12
      }
     ]
    },
    "dcbbfefe63b849b29b2c6f2c445f9d44": {
     "views": [
      {
       "cell_index": 12
      }
     ]
    },
    "de65778ccbf74269a7aecafe0f4a84e9": {
     "views": [
      {
       "cell_index": 12
      }
     ]
    },
    "e2f426df16ea437cb3eb19a6e29718d3": {
     "views": [
      {
       "cell_index": 12
      }
     ]
    },
    "e331ecdfb1034be78954606b29282291": {
     "views": [
      {
       "cell_index": 12
      }
     ]
    },
    "e57c668870b044aab6fb89a073374887": {
     "views": [
      {
       "cell_index": 12
      }
     ]
    },
    "e7d90b37142d4468a9a3f88fe5e7ebe5": {
     "views": [
      {
       "cell_index": 12
      }
     ]
    },
    "e7dfb79db2074d32b546b0f5b35d037a": {
     "views": [
      {
       "cell_index": 12
      }
     ]
    },
    "ea7dc8f6b6904a098cc8bcd3cccb0f09": {
     "views": [
      {
       "cell_index": 12
      }
     ]
    },
    "ead95701b3c948fe810264c9f916c701": {
     "views": [
      {
       "cell_index": 12
      }
     ]
    },
    "ec1f20b0a9a848a785617463aed63555": {
     "views": [
      {
       "cell_index": 12
      }
     ]
    },
    "ef7271ab301c4d52b331707746f9638e": {
     "views": [
      {
       "cell_index": 12
      }
     ]
    },
    "f057baa922394139936146319110c770": {
     "views": [
      {
       "cell_index": 12
      }
     ]
    },
    "f07a509b915040e08e37ababd37b7cf1": {
     "views": [
      {
       "cell_index": 12
      }
     ]
    },
    "f259740c24a24bb3a309aec954f66fe3": {
     "views": [
      {
       "cell_index": 12
      }
     ]
    },
    "f612f1c9698d4be4bb42c2f0e2c69108": {
     "views": [
      {
       "cell_index": 12
      }
     ]
    },
    "f6efb652598c41549a9f19b2f9ceff2b": {
     "views": [
      {
       "cell_index": 12
      }
     ]
    },
    "f97ed4db90d24d88a228ac1e52375a0c": {
     "views": [
      {
       "cell_index": 12
      }
     ]
    },
    "fd43e083f58d43a68688581cdf48acab": {
     "views": [
      {
       "cell_index": 12
      }
     ]
    },
    "fda46d318b0941c19dfe61eb3e02cb23": {
     "views": [
      {
       "cell_index": 12
      }
     ]
    },
    "fe6b5b3475984be890e4e11f3e5d3ef1": {
     "views": [
      {
       "cell_index": 12
      }
     ]
    }
   },
   "version": "1.2.0"
  }
 },
 "nbformat": 4,
 "nbformat_minor": 2
}
