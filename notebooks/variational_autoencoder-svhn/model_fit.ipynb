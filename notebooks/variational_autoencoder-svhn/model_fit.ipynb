{
 "cells": [
  {
   "cell_type": "code",
   "execution_count": 1,
   "metadata": {
    "collapsed": false
   },
   "outputs": [
    {
     "name": "stderr",
     "output_type": "stream",
     "text": [
      "Using TensorFlow backend.\n"
     ]
    }
   ],
   "source": [
    "%matplotlib inline\n",
    "import numpy as np\n",
    "import time\n",
    "import h5py\n",
    "import keras\n",
    "import pandas as pd\n",
    "import math\n",
    "import joblib\n",
    "\n",
    "from sklearn.model_selection import train_test_split\n",
    "from IPython.display import display\n",
    "\n",
    "from keras.layers import Input, Dense, Lambda, Flatten, Reshape, BatchNormalization, Activation, Dropout\n",
    "from keras.optimizers import RMSprop, Adam, SGD\n",
    "from keras.models import Model\n",
    "from keras import backend as K\n",
    "from keras_tqdm import TQDMNotebookCallback"
   ]
  },
  {
   "cell_type": "markdown",
   "metadata": {},
   "source": [
    "# Load SVHN dataset"
   ]
  },
  {
   "cell_type": "code",
   "execution_count": 2,
   "metadata": {
    "collapsed": false
   },
   "outputs": [
    {
     "name": "stdout",
     "output_type": "stream",
     "text": [
      "Full Dataset - DType X=uint8, y=uint8\n",
      "Full Dataset - Shape X=(630000, 32, 32, 3), y=(630000, 1)\n",
      "Train - Shape X=(567000, 32, 32, 3), y=(63000, 1)\n",
      "Test - Shape X=(63000, 32, 32, 3), y=(63000, 1)\n"
     ]
    }
   ],
   "source": [
    "f = h5py.File(\"../../data/svhn/svhn_format_2.hdf5\", \"r\")\n",
    "X_dataset, y_dataset = list(f.items())\n",
    "\n",
    "# Use a nice round number divisible by our batch size\n",
    "N=630000\n",
    "\n",
    "X_dataset, y_dataset = np.moveaxis(X_dataset[1][:N], 1, 3), y_dataset[1][:N]\n",
    "print (\"Full Dataset - DType X=%s, y=%s\" % (X_dataset.dtype, y_dataset.dtype))\n",
    "print (\"Full Dataset - Shape X=%s, y=%s\" % (X_dataset.shape, y_dataset.shape))\n",
    "\n",
    "# Extract out our train/validation set\n",
    "X_train, X_test, y_train, y_test = train_test_split(X_dataset, y_dataset, test_size=0.1)\n",
    "print (\"Train - Shape X=%s, y=%s\" % (X_train.shape, y_test.shape))\n",
    "print (\"Test - Shape X=%s, y=%s\" % (X_test.shape, y_test.shape))\n",
    "\n",
    "# Save some RAM\n",
    "del X_dataset\n",
    "del y_dataset"
   ]
  },
  {
   "cell_type": "markdown",
   "metadata": {},
   "source": [
    "# Load PCA model"
   ]
  },
  {
   "cell_type": "markdown",
   "metadata": {},
   "source": [
    "(see corresponding `process_svhn.ipynb` notebook)"
   ]
  },
  {
   "cell_type": "code",
   "execution_count": 3,
   "metadata": {
    "collapsed": false
   },
   "outputs": [
    {
     "data": {
      "text/plain": [
       "PCA(copy=True, iterated_power='auto', n_components=1000, random_state=None,\n",
       "  svd_solver='auto', tol=0.0, whiten=False)"
      ]
     },
     "execution_count": 3,
     "metadata": {},
     "output_type": "execute_result"
    }
   ],
   "source": [
    "pca_model_file = 'saved_models/pca_1000.pkl'\n",
    "pca = joblib.load(pca_model_file)\n",
    "n_components = pca.n_components_\n",
    "pca"
   ]
  },
  {
   "cell_type": "markdown",
   "metadata": {},
   "source": [
    "# Data Generator"
   ]
  },
  {
   "cell_type": "markdown",
   "metadata": {},
   "source": [
    "Create a data generator so we don't have to store the entire transformed dataset in RAM.  We'll transform to PCA space on the fly to simplify things (and save RAM)."
   ]
  },
  {
   "cell_type": "code",
   "execution_count": 4,
   "metadata": {
    "collapsed": false
   },
   "outputs": [
    {
     "name": "stdout",
     "output_type": "stream",
     "text": [
      "Shape X_test=(63000, 32, 32, 3)\n",
      "Shape X_test_pca=(63000, 1000)\n"
     ]
    }
   ],
   "source": [
    "def data_generator(X_train, pca, batch_size):\n",
    "    n = 0\n",
    "    while True:\n",
    "        for i in range(batch_size):\n",
    "            batch = pca.transform(X_train[i + n: i + n + batch_size].reshape(batch_size, -1) / 255.)\n",
    "            yield batch, batch\n",
    "\n",
    "# Test the data generator out\n",
    "X_test_pca = pca.transform(X_test.reshape(len(X_test), -1) / 255.)\n",
    "print(\"Shape X_test=%s\" % str(X_test.shape))\n",
    "print(\"Shape X_test_pca=%s\" % str(X_test_pca.shape))"
   ]
  },
  {
   "cell_type": "markdown",
   "metadata": {},
   "source": [
    "# Variational Autoencoder Parameters"
   ]
  },
  {
   "cell_type": "code",
   "execution_count": 5,
   "metadata": {
    "collapsed": false
   },
   "outputs": [],
   "source": [
    "img_rows, img_cols, img_chns = 32, 32, 3\n",
    "\n",
    "if K.image_data_format() == 'channels_first':\n",
    "    original_img_size = (img_chns, img_rows, img_cols)\n",
    "else:\n",
    "    original_img_size = (img_rows, img_cols, img_chns)\n",
    "\n",
    "batch_size = 1000\n",
    "latent_dim = 512\n",
    "intermediate_dim = 2048\n",
    "epsilon_std = 1.0\n",
    "epochs = 1000\n",
    "activation = 'relu'\n",
    "dropout = 0.4\n",
    "var_epsilon = 0.025\n",
    "learning_rate = 0.0001"
   ]
  },
  {
   "cell_type": "markdown",
   "metadata": {},
   "source": [
    "# Encoder Network\n",
    "\n",
    "* Input layer - 1000 dimensions(PCA transformed space)\n",
    "* 3 fully connected dense layers (batch norm, 'relu' activiation, dropout) - 2048 neurons each\n",
    "* z_mean and z_log_var each have 2 separate fully connected dense layers (batch norm, 'relu' activation, dropout) - 2048 neurons each\n",
    "* z_mean and z_log_var each have 1 final fully connected dense layer (no activation, no norm, no dropout) to translate to parameters of the \"z\" Gaussian latent variables (512 dimensional)\n",
    "\n",
    "Note: I'm using the Keras' functional API here, but I suspect it would be much cleaner if I used the sequential API.  That or just write some functions to wrap things in a bit of a nicer way.  I was too lazy to clean up the repetition but maybe I'll try that next time."
   ]
  },
  {
   "cell_type": "code",
   "execution_count": 6,
   "metadata": {
    "collapsed": false
   },
   "outputs": [],
   "source": [
    "x = Input(batch_shape=(batch_size,) + (n_components,))\n",
    "\n",
    "batch_1 = BatchNormalization()(x)\n",
    "hidden1_dense = Dense(intermediate_dim)(batch_1)\n",
    "hidden1_batch = BatchNormalization()(hidden1_dense)\n",
    "hidden1 = Activation(activation)(hidden1_batch)\n",
    "dropout_1 = Dropout(dropout)(hidden1)\n",
    "\n",
    "hidden2_dense = Dense(intermediate_dim)(dropout_1)\n",
    "hidden2_batch = BatchNormalization()(hidden2_dense)\n",
    "hidden2 = Activation(activation)(hidden2_batch)\n",
    "dropout_2 = Dropout(dropout)(hidden2)\n",
    "\n",
    "hidden3_dense = Dense(intermediate_dim)(dropout_2)\n",
    "hidden3_batch = BatchNormalization()(hidden3_dense)\n",
    "hidden3 = Activation(activation)(hidden3_batch)\n",
    "dropout_3 = Dropout(dropout)(hidden3)\n",
    "\n",
    "z_mean_1_dense = Dense(intermediate_dim)(dropout_3)\n",
    "z_mean_1_batch = BatchNormalization()(z_mean_1_dense)\n",
    "z_mean_1 = Activation(activation)(z_mean_1_batch)\n",
    "z_mean_dropout_1 = Dropout(dropout)(z_mean_1)\n",
    "\n",
    "z_mean_2_dense = Dense(intermediate_dim)(z_mean_dropout_1)\n",
    "z_mean_2_batch = BatchNormalization()(z_mean_2_dense)\n",
    "z_mean_2 = Activation(activation)(z_mean_2_batch)\n",
    "z_mean_dropout_2 = Dropout(dropout)(z_mean_2)\n",
    "z_mean = Dense(latent_dim)(z_mean_dropout_2)\n",
    "\n",
    "z_log_var_1_dense = Dense(intermediate_dim)(dropout_3)\n",
    "z_log_var_1_batch = BatchNormalization()(z_log_var_1_dense)\n",
    "z_log_var_1 = Activation(activation)(z_log_var_1_batch)\n",
    "z_log_var_dropout_1 = Dropout(dropout)(z_log_var_1)\n",
    "\n",
    "z_log_var_2_dense = Dense(intermediate_dim)(z_log_var_dropout_1)\n",
    "z_log_var_2_batch = BatchNormalization()(z_log_var_2_dense)\n",
    "z_log_var_2 = Activation(activation)(z_log_var_2_batch)\n",
    "z_log_var_dropout_2 = Dropout(dropout)(z_log_var_2)\n",
    "z_log_var = Dense(latent_dim)(z_log_var_dropout_2)"
   ]
  },
  {
   "cell_type": "markdown",
   "metadata": {},
   "source": [
    "# Reparameterization Trick"
   ]
  },
  {
   "cell_type": "markdown",
   "metadata": {},
   "source": [
    "This layer randomly samples our isotropic Gaussian and shifts/scales it by the output of our encoder network (reparameterization trick).\n",
    "\n",
    "Note: It's important to capture the global params (batch size, latent dim, epsilon_std) in the function parameters or else we have trouble saving/loading the model aftewards."
   ]
  },
  {
   "cell_type": "code",
   "execution_count": 7,
   "metadata": {
    "collapsed": false
   },
   "outputs": [],
   "source": [
    "def sampling(args, batch_size=batch_size, latent_dim=latent_dim, epsilon_std=epsilon_std):\n",
    "    z_mean, z_log_var = args\n",
    "    \n",
    "    epsilon = K.random_normal(shape=(batch_size, latent_dim),\n",
    "                              mean=0., stddev=epsilon_std)\n",
    "    \n",
    "    return z_mean + K.exp(z_log_var) * epsilon\n",
    "\n",
    "z = Lambda(sampling, output_shape=(latent_dim,))([z_mean, z_log_var])"
   ]
  },
  {
   "cell_type": "markdown",
   "metadata": {},
   "source": [
    "# Decoder Network"
   ]
  },
  {
   "cell_type": "markdown",
   "metadata": {},
   "source": [
    "We instantiate these layers separately so as to reuse them later: one for the VAE network (training) and one for the separate generator network (prediction).\n",
    "\n",
    "* 5 fully connected dense layers (batch normalization, ReLU activation, dropout) - 2048 neurons each\n",
    "* x_mean output a simple dense layer (no norm, activation, dropout)\n",
    "* x_var additional fully connected dense layers (batch normalization, ReLU activation, dropout) - 2048 neurons each\n",
    "* x_var output a simple dense layer (no norm, activation, dropout)\n",
    "\n",
    "Notice that the `x_decoded_mean` has no activiation since in PCA transformed space it can take on any value.  Similarly, for `x_decoded_var` we want to restrict it to only positive numbers, so we use ReLU activation to squash it to our range.\n",
    "\n",
    "(Again a bit messy, next time I'll probably spend some effort to remove duplication)"
   ]
  },
  {
   "cell_type": "code",
   "execution_count": 8,
   "metadata": {
    "collapsed": false
   },
   "outputs": [],
   "source": [
    "decoder_1_dense = Dense(intermediate_dim)\n",
    "decoder_1_batch = BatchNormalization()\n",
    "decoder_1 = Activation(activation)\n",
    "decoder_dropout_1 = Dropout(dropout)\n",
    "\n",
    "decoder_2_dense = Dense(intermediate_dim)\n",
    "decoder_2_batch = BatchNormalization()\n",
    "decoder_2 = Activation(activation)\n",
    "decoder_dropout_2 = Dropout(dropout)\n",
    "\n",
    "decoder_3_dense = Dense(intermediate_dim)\n",
    "decoder_3_batch = BatchNormalization()\n",
    "decoder_3 = Activation(activation)\n",
    "decoder_dropout_3 = Dropout(dropout)\n",
    "\n",
    "decoder_4_dense = Dense(intermediate_dim)\n",
    "decoder_4_batch = BatchNormalization()\n",
    "decoder_4 = Activation(activation)\n",
    "decoder_dropout_4 = Dropout(dropout)\n",
    "\n",
    "decoder_5_dense = Dense(intermediate_dim)\n",
    "decoder_5_batch = BatchNormalization()\n",
    "decoder_5 = Activation(activation)\n",
    "decoder_dropout_5 = Dropout(dropout)\n",
    "\n",
    "x_decoded_mean = Dense(n_components)\n",
    "\n",
    "decoder_6_dense = Dense(n_components)\n",
    "decoder_6_batch = BatchNormalization()\n",
    "decoder_6 = Activation(activation)\n",
    "decoder_dropout_6 = Dropout(dropout)\n",
    "x_decoded_var = Dense(n_components, activation='relu')"
   ]
  },
  {
   "cell_type": "markdown",
   "metadata": {},
   "source": [
    "Actually instantiate the layers now for the VAE network."
   ]
  },
  {
   "cell_type": "code",
   "execution_count": 9,
   "metadata": {
    "collapsed": true
   },
   "outputs": [],
   "source": [
    "_decoder_1 = decoder_dropout_1(decoder_1(decoder_1_batch(decoder_1_dense(z))))\n",
    "_decoder_2 = decoder_dropout_2(decoder_2(decoder_2_batch(decoder_2_dense(_decoder_1))))\n",
    "_decoder_3 = decoder_dropout_3(decoder_3(decoder_3_batch(decoder_3_dense(_decoder_2))))\n",
    "_decoder_4 = decoder_dropout_4(decoder_4(decoder_4_batch(decoder_4_dense(_decoder_3))))\n",
    "_decoder_5 = decoder_dropout_5(decoder_5(decoder_5_batch(decoder_5_dense(_decoder_4))))\n",
    "\n",
    "_x_decoded_mean = x_decoded_mean(_decoder_5)\n",
    "\n",
    "_decoder_6 = decoder_dropout_6(decoder_6(decoder_6_batch(decoder_6_dense(_decoder_5))))\n",
    "_x_decoded_var = x_decoded_var(_decoder_6)\n",
    "_output = _x_decoded_mean"
   ]
  },
  {
   "cell_type": "markdown",
   "metadata": {},
   "source": [
    "# Loss Function"
   ]
  },
  {
   "cell_type": "markdown",
   "metadata": {},
   "source": [
    "Define our loss functions.  Broke it up into several parts while debugging so I could see the effect of each.  We use the `+ epsilon` trick here to ensure the division by the variance doesn't blow up.\n",
    "\n",
    "Note: Be sure to be careful with the backend `K.` operations.  The first dimension of the input tensor includes the batch size."
   ]
  },
  {
   "cell_type": "code",
   "execution_count": 10,
   "metadata": {
    "collapsed": false,
    "scrolled": true
   },
   "outputs": [],
   "source": [
    "def kl_loss(x, x_decoded_mean):\n",
    "    kl_loss = - 0.5 * K.sum(1. + z_log_var - K.square(z_mean) - K.exp(z_log_var), axis=-1)\n",
    "   \n",
    "    return K.mean(kl_loss)\n",
    "\n",
    "def logx_loss(x, x_decoded_mean):\n",
    "    loss = (  0.5 * math.log(2 * math.pi)\n",
    "            + 0.5 * K.log(_x_decoded_var + var_epsilon)\n",
    "            + 0.5 * K.square(x - x_decoded_mean) / (_x_decoded_var + var_epsilon))\n",
    "    loss = K.sum(loss, axis=-1)\n",
    "    return K.mean(loss)\n",
    "\n",
    "def vae_loss(x, x_decoded_mean):\n",
    "    return logx_loss(x, x_decoded_mean) + kl_loss(x, x_decoded_mean)"
   ]
  },
  {
   "cell_type": "markdown",
   "metadata": {},
   "source": [
    "# Compile Model"
   ]
  },
  {
   "cell_type": "code",
   "execution_count": 11,
   "metadata": {
    "collapsed": false,
    "scrolled": false
   },
   "outputs": [
    {
     "name": "stdout",
     "output_type": "stream",
     "text": [
      "____________________________________________________________________________________________________\n",
      "Layer (type)                     Output Shape          Param #     Connected to                     \n",
      "====================================================================================================\n",
      "input_1 (InputLayer)             (1000, 1000)          0                                            \n",
      "____________________________________________________________________________________________________\n",
      "batch_normalization_1 (BatchNorm (1000, 1000)          4000        input_1[0][0]                    \n",
      "____________________________________________________________________________________________________\n",
      "dense_1 (Dense)                  (1000, 2048)          2050048     batch_normalization_1[0][0]      \n",
      "____________________________________________________________________________________________________\n",
      "batch_normalization_2 (BatchNorm (1000, 2048)          8192        dense_1[0][0]                    \n",
      "____________________________________________________________________________________________________\n",
      "activation_1 (Activation)        (1000, 2048)          0           batch_normalization_2[0][0]      \n",
      "____________________________________________________________________________________________________\n",
      "dropout_1 (Dropout)              (1000, 2048)          0           activation_1[0][0]               \n",
      "____________________________________________________________________________________________________\n",
      "dense_2 (Dense)                  (1000, 2048)          4196352     dropout_1[0][0]                  \n",
      "____________________________________________________________________________________________________\n",
      "batch_normalization_3 (BatchNorm (1000, 2048)          8192        dense_2[0][0]                    \n",
      "____________________________________________________________________________________________________\n",
      "activation_2 (Activation)        (1000, 2048)          0           batch_normalization_3[0][0]      \n",
      "____________________________________________________________________________________________________\n",
      "dropout_2 (Dropout)              (1000, 2048)          0           activation_2[0][0]               \n",
      "____________________________________________________________________________________________________\n",
      "dense_3 (Dense)                  (1000, 2048)          4196352     dropout_2[0][0]                  \n",
      "____________________________________________________________________________________________________\n",
      "batch_normalization_4 (BatchNorm (1000, 2048)          8192        dense_3[0][0]                    \n",
      "____________________________________________________________________________________________________\n",
      "activation_3 (Activation)        (1000, 2048)          0           batch_normalization_4[0][0]      \n",
      "____________________________________________________________________________________________________\n",
      "dropout_3 (Dropout)              (1000, 2048)          0           activation_3[0][0]               \n",
      "____________________________________________________________________________________________________\n",
      "dense_4 (Dense)                  (1000, 2048)          4196352     dropout_3[0][0]                  \n",
      "____________________________________________________________________________________________________\n",
      "dense_7 (Dense)                  (1000, 2048)          4196352     dropout_3[0][0]                  \n",
      "____________________________________________________________________________________________________\n",
      "batch_normalization_5 (BatchNorm (1000, 2048)          8192        dense_4[0][0]                    \n",
      "____________________________________________________________________________________________________\n",
      "batch_normalization_7 (BatchNorm (1000, 2048)          8192        dense_7[0][0]                    \n",
      "____________________________________________________________________________________________________\n",
      "activation_4 (Activation)        (1000, 2048)          0           batch_normalization_5[0][0]      \n",
      "____________________________________________________________________________________________________\n",
      "activation_6 (Activation)        (1000, 2048)          0           batch_normalization_7[0][0]      \n",
      "____________________________________________________________________________________________________\n",
      "dropout_4 (Dropout)              (1000, 2048)          0           activation_4[0][0]               \n",
      "____________________________________________________________________________________________________\n",
      "dropout_6 (Dropout)              (1000, 2048)          0           activation_6[0][0]               \n",
      "____________________________________________________________________________________________________\n",
      "dense_5 (Dense)                  (1000, 2048)          4196352     dropout_4[0][0]                  \n",
      "____________________________________________________________________________________________________\n",
      "dense_8 (Dense)                  (1000, 2048)          4196352     dropout_6[0][0]                  \n",
      "____________________________________________________________________________________________________\n",
      "batch_normalization_6 (BatchNorm (1000, 2048)          8192        dense_5[0][0]                    \n",
      "____________________________________________________________________________________________________\n",
      "batch_normalization_8 (BatchNorm (1000, 2048)          8192        dense_8[0][0]                    \n",
      "____________________________________________________________________________________________________\n",
      "activation_5 (Activation)        (1000, 2048)          0           batch_normalization_6[0][0]      \n",
      "____________________________________________________________________________________________________\n",
      "activation_7 (Activation)        (1000, 2048)          0           batch_normalization_8[0][0]      \n",
      "____________________________________________________________________________________________________\n",
      "dropout_5 (Dropout)              (1000, 2048)          0           activation_5[0][0]               \n",
      "____________________________________________________________________________________________________\n",
      "dropout_7 (Dropout)              (1000, 2048)          0           activation_7[0][0]               \n",
      "____________________________________________________________________________________________________\n",
      "dense_6 (Dense)                  (1000, 512)           1049088     dropout_5[0][0]                  \n",
      "____________________________________________________________________________________________________\n",
      "dense_9 (Dense)                  (1000, 512)           1049088     dropout_7[0][0]                  \n",
      "____________________________________________________________________________________________________\n",
      "lambda_1 (Lambda)                (1000, 512)           0           dense_6[0][0]                    \n",
      "                                                                   dense_9[0][0]                    \n",
      "____________________________________________________________________________________________________\n",
      "dense_10 (Dense)                 (1000, 2048)          1050624     lambda_1[0][0]                   \n",
      "____________________________________________________________________________________________________\n",
      "batch_normalization_9 (BatchNorm (1000, 2048)          8192        dense_10[0][0]                   \n",
      "____________________________________________________________________________________________________\n",
      "activation_8 (Activation)        (1000, 2048)          0           batch_normalization_9[0][0]      \n",
      "____________________________________________________________________________________________________\n",
      "dropout_8 (Dropout)              (1000, 2048)          0           activation_8[0][0]               \n",
      "____________________________________________________________________________________________________\n",
      "dense_11 (Dense)                 (1000, 2048)          4196352     dropout_8[0][0]                  \n",
      "____________________________________________________________________________________________________\n",
      "batch_normalization_10 (BatchNor (1000, 2048)          8192        dense_11[0][0]                   \n",
      "____________________________________________________________________________________________________\n",
      "activation_9 (Activation)        (1000, 2048)          0           batch_normalization_10[0][0]     \n",
      "____________________________________________________________________________________________________\n",
      "dropout_9 (Dropout)              (1000, 2048)          0           activation_9[0][0]               \n",
      "____________________________________________________________________________________________________\n",
      "dense_12 (Dense)                 (1000, 2048)          4196352     dropout_9[0][0]                  \n",
      "____________________________________________________________________________________________________\n",
      "batch_normalization_11 (BatchNor (1000, 2048)          8192        dense_12[0][0]                   \n",
      "____________________________________________________________________________________________________\n",
      "activation_10 (Activation)       (1000, 2048)          0           batch_normalization_11[0][0]     \n",
      "____________________________________________________________________________________________________\n",
      "dropout_10 (Dropout)             (1000, 2048)          0           activation_10[0][0]              \n",
      "____________________________________________________________________________________________________\n",
      "dense_13 (Dense)                 (1000, 2048)          4196352     dropout_10[0][0]                 \n",
      "____________________________________________________________________________________________________\n",
      "batch_normalization_12 (BatchNor (1000, 2048)          8192        dense_13[0][0]                   \n",
      "____________________________________________________________________________________________________\n",
      "activation_11 (Activation)       (1000, 2048)          0           batch_normalization_12[0][0]     \n",
      "____________________________________________________________________________________________________\n",
      "dropout_11 (Dropout)             (1000, 2048)          0           activation_11[0][0]              \n",
      "____________________________________________________________________________________________________\n",
      "dense_14 (Dense)                 (1000, 2048)          4196352     dropout_11[0][0]                 \n",
      "____________________________________________________________________________________________________\n",
      "batch_normalization_13 (BatchNor (1000, 2048)          8192        dense_14[0][0]                   \n",
      "____________________________________________________________________________________________________\n",
      "activation_12 (Activation)       (1000, 2048)          0           batch_normalization_13[0][0]     \n",
      "____________________________________________________________________________________________________\n",
      "dropout_12 (Dropout)             (1000, 2048)          0           activation_12[0][0]              \n",
      "____________________________________________________________________________________________________\n",
      "dense_15 (Dense)                 (1000, 1000)          2049000     dropout_12[0][0]                 \n",
      "====================================================================================================\n",
      "Total params: 49,313,672\n",
      "Trainable params: 49,262,520\n",
      "Non-trainable params: 51,152\n",
      "____________________________________________________________________________________________________\n"
     ]
    }
   ],
   "source": [
    "vae = Model(x, _output)\n",
    "optimizer = Adam(lr=learning_rate)\n",
    "vae.compile(optimizer=optimizer, loss=vae_loss)\n",
    "vae.summary()"
   ]
  },
  {
   "cell_type": "markdown",
   "metadata": {},
   "source": [
    "# Fit Model"
   ]
  },
  {
   "cell_type": "markdown",
   "metadata": {},
   "source": [
    "Added a few things to make the process nicer:\n",
    "\n",
    "* Callback for early stopping on the *training loss*.  I think this is what we want because we want the VAE to fit the distribution of the input data as closely as possible (so we can generate nice looking images).\n",
    "* Recording loss history (returned by default).\n",
    "* TQDM callback to nicely display progress of each epoch."
   ]
  },
  {
   "cell_type": "code",
   "execution_count": 12,
   "metadata": {
    "collapsed": false,
    "scrolled": false
   },
   "outputs": [
    {
     "name": "stdout",
     "output_type": "stream",
     "text": [
      "\n",
      "Elapsed:  86380.4801056385\n"
     ]
    }
   ],
   "source": [
    "start = time.time()\n",
    "\n",
    "early_stopping = keras.callbacks.EarlyStopping('loss', min_delta=0.1, patience=25)\n",
    "\n",
    "history = vae.fit_generator(\n",
    "    data_generator(X_train, pca, batch_size),\n",
    "    steps_per_epoch=len(X_train) // batch_size,\n",
    "    epochs=epochs,\n",
    "    validation_data=(X_test_pca, X_test_pca),\n",
    "    callbacks=[TQDMNotebookCallback(), early_stopping],\n",
    "    verbose=0\n",
    ")\n",
    "\n",
    "done = time.time()\n",
    "elapsed = done - start\n",
    "print(\"Elapsed: \", elapsed)"
   ]
  },
  {
   "cell_type": "code",
   "execution_count": 13,
   "metadata": {
    "collapsed": false
   },
   "outputs": [
    {
     "data": {
      "text/html": [
       "<div>\n",
       "<table border=\"1\" class=\"dataframe\">\n",
       "  <thead>\n",
       "    <tr style=\"text-align: right;\">\n",
       "      <th></th>\n",
       "      <th>loss</th>\n",
       "      <th>val_loss</th>\n",
       "    </tr>\n",
       "  </thead>\n",
       "  <tbody>\n",
       "    <tr>\n",
       "      <th>count</th>\n",
       "      <td>978.000000</td>\n",
       "      <td>978.000000</td>\n",
       "    </tr>\n",
       "    <tr>\n",
       "      <th>mean</th>\n",
       "      <td>-587.017253</td>\n",
       "      <td>inf</td>\n",
       "    </tr>\n",
       "    <tr>\n",
       "      <th>std</th>\n",
       "      <td>734.262528</td>\n",
       "      <td>NaN</td>\n",
       "    </tr>\n",
       "    <tr>\n",
       "      <th>min</th>\n",
       "      <td>-720.904532</td>\n",
       "      <td>-167.276742</td>\n",
       "    </tr>\n",
       "    <tr>\n",
       "      <th>0%</th>\n",
       "      <td>-720.904532</td>\n",
       "      <td>-167.276742</td>\n",
       "    </tr>\n",
       "    <tr>\n",
       "      <th>25%</th>\n",
       "      <td>-703.082292</td>\n",
       "      <td>268.794853</td>\n",
       "    </tr>\n",
       "    <tr>\n",
       "      <th>50%</th>\n",
       "      <td>-682.996878</td>\n",
       "      <td>389.977283</td>\n",
       "    </tr>\n",
       "    <tr>\n",
       "      <th>75%</th>\n",
       "      <td>-624.326567</td>\n",
       "      <td>445.965950</td>\n",
       "    </tr>\n",
       "    <tr>\n",
       "      <th>95%</th>\n",
       "      <td>-291.140012</td>\n",
       "      <td>479.515455</td>\n",
       "    </tr>\n",
       "    <tr>\n",
       "      <th>99%</th>\n",
       "      <td>551.986670</td>\n",
       "      <td>1515.333009</td>\n",
       "    </tr>\n",
       "    <tr>\n",
       "      <th>max</th>\n",
       "      <td>19794.986521</td>\n",
       "      <td>inf</td>\n",
       "    </tr>\n",
       "  </tbody>\n",
       "</table>\n",
       "</div>"
      ],
      "text/plain": [
       "               loss     val_loss\n",
       "count    978.000000   978.000000\n",
       "mean    -587.017253          inf\n",
       "std      734.262528          NaN\n",
       "min     -720.904532  -167.276742\n",
       "0%      -720.904532  -167.276742\n",
       "25%     -703.082292   268.794853\n",
       "50%     -682.996878   389.977283\n",
       "75%     -624.326567   445.965950\n",
       "95%     -291.140012   479.515455\n",
       "99%      551.986670  1515.333009\n",
       "max    19794.986521          inf"
      ]
     },
     "metadata": {},
     "output_type": "display_data"
    },
    {
     "data": {
      "text/plain": [
       "<matplotlib.axes._subplots.AxesSubplot at 0x7f476eaba198>"
      ]
     },
     "execution_count": 13,
     "metadata": {},
     "output_type": "execute_result"
    },
    {
     "data": {
      "image/png": "[encoded data removed]",
      "text/plain": [
       "<matplotlib.figure.Figure at 0x7f47718f5b38>"
      ]
     },
     "metadata": {},
     "output_type": "display_data"
    }
   ],
   "source": [
    "df = pd.DataFrame(history.history)\n",
    "display(df.describe(percentiles=[0.25 * i for i in range(4)] + [0.95, 0.99]))\n",
    "df.plot(figsize=(8, 6))"
   ]
  },
  {
   "cell_type": "markdown",
   "metadata": {},
   "source": [
    "# Breakdown the Loss Function Components"
   ]
  },
  {
   "cell_type": "code",
   "execution_count": 14,
   "metadata": {
    "collapsed": false
   },
   "outputs": [
    {
     "name": "stdout",
     "output_type": "stream",
     "text": [
      "63000/63000 [==============================] - 1s      \b\b\b\b\b\b\b\b\b\b\b\b\b\b\b\b\b\b\b\b\b\b\b\b\b\b\b\b\b\b\b\b\b\b\b\b\b\b\b\b\b\b\b\b\b\b\b\b\b\b\b\b\b\b\b\b\b\b\b\b\b\b\b\b\b\b\b\b\b\b\b\b\b\b\b\b\b\b\b\b\b\b\b\b\b\b\b\b\b\b\b\b\b\b\b\b\b\b\b\b\b\b\b\b\b\b\b\b\b\b\b\b\b\b\b\b\b\b\b\b\b\b\b\b\b\b\b\b\b\b\b\b\b\b\b\b\b\b\b\b\b\b\b\b\b\b\b\b\b\b\b\b\b\b\b\b\b\b\b\b\b\b\b\b\b\b\b\b\b\b\b\b\b\b\b\b\b\b\b\b\b\b\b\b\b\b\b\b\b\b\b\b\b\b\b\b\b\b\b\b\b\b\b\b\b\b\b\b\b\b\b\b\b\b\b\b\b\b\b\b\b\b\b\b\b\b\b\b\b\b\b\b\b\b\b\b\b\b\b\b\b\b\b\b\b\b\b\b\b\b\b\b\b\b\b\b\b\b\b\b\b\b\b\b\b\b\b\b\b\b\b\b\b\b\b\b\b\b\b\b\b\b\b\b\b\b\b\b\b\b\b\b\b\b\b\b\b\b\b\b\b\b\b\b\b\b\b\b\b\b\b\b\b\b\b\b\b\b\b\b\b\b\b\b\b\b\b\b\b\b\b\b\b\b\b\b\b\b\b\b\b\b\b\b\b\b\b\b\b\b\b\b\b\b\b\b\b\b\b\b\b\b\b\b\b\b\b\b\b\b\b\b\b\b\b\b\b\b\b\b\b\b\b\b\b\b\b\b\b\b\b\b\b\b\b\b\b\b\b\b\b\b\b\b\b\b\b\b\b\b\b\b\b\b\b\b\b\b\b\b\b\b\b\b\b\b\b\b\b\b\b\b\b\b\b\b\b\b\b\b\b\b\b\b\b\b\b\b\b\b\b\b\b\b\b\b\b\b\b\b\b\b\b\b\b\b\b\b\b\b\b\b\b\b\b\b\b\b\b\b\b\b\b\b\b\b\b\b\b\b\b\b\b\b\b\b\b\b\b\b\b\b\b\b\b\b\b\b\b\b\b\b\b\b\b\b\b\b\b\b\b\b\b\b\b\b\b\b\b\b\b\b\b\b\b\b\b\b\b\b\b\b\b\b\b\b\b\b\b\b\b\b\b\b\b\b\b\b\b\b\b\b\b\b\b\b\b\b\b\b\b\b\b\b\b\b\b\b\b\b\b\b\b\b\b\b\b\b\b\b\b\b\b\b\b\b\b\b\b\b\b\b\b\b\b\b\b\b\b\b\b\b\b\b\b\b\b\b\b\b\b\b\b\b\b\b\b\b\b\b\b\b\b\b\b\b\b\b\b\b\b\b\b\b\b\b\b\b\b\b\b\b\b\b\b\b\b\b\b\b\b\b\b\b\b\b\b\b\b\b\b\b\b\b\b\b\b\b\b\b\b\b\b\b\b\b\b\b\b\b\b\b\b\b\b\b\b\b\b\b\b\b\b\b\b\b\b\b\b\b\b\b\b\b\b\b\b\b\b\b\b\b\b\b\b\b\b\b\b\b\b\b\b\b\b\b\b\b\b\b\b\b\b\b\b\b\b\b\b\b\b\b\b\b\b\b\b\b\b\b\b\b\b\b\b\b\b\b\b\b\b\b\b\b\b\b\b\b\b\b\b\b\b\b\b\b\b\b\b\b\b\b\b\b\b\b\b\b\b\b\b\b\b\b\b\b\b\b\b\b\b\b\b\b\b\b\b\b\b\b\b\b\b\b\b\b\b\b\b\b\b\b\b\b\b\b\b\b\b\b\b\b\b\b\b\b\b\b\b\b\b\b\b\b\b\b\b\b\b\b\b\b\b\b\b\b\b\b\b\b\b\b\b\b\b\b\b\b\b\b\b\b\b\b\b\b\b\b\b\b\b\b\b\b\b\b\b\b\b\b\b\b\b\b\b\b\b\b\b\b\b\b\b\b\b\b\b\b\b\b\b\b\b\b\b\b\b\b\b\b\b\b\b\b\b\b\b\b\b\b\b\b\b\b\b\b\b\b\b\b\b\b\b\b\b\b\b\b\b\b\b\b\b\b\b\b\b\b\b\b\b\b\b\b\b\b\b\b\b\b\b\b\b\b\b\b\b\b\b\b\b\b\b\b\b\b\b\b\b\b\b\b\b\b\b\b\b\b\b\b\b\b\b\b\b\b\b\b\b\b\b\b\b\b\b\b\b\b\b\b\b\b\b\b\b\b\b\b\b\b\b\b\b\b\b\b\b\b\b\b\b\b\b\b\b\b\b\b\b\b\b\b\b\b\b\b\b\b\b\b\b\b\b\b\b\b\b\b\b\b\b\b\b\b\b\b\b\b\b\b\b\b\b\b\b\b\b\b\b\b\b\b\b\b\b\b\b\b\b\b\b\b\b\b\b\b\b\b\b\b\b\b\b\b\b\b\b\b\b\b\b\b\b\b\b\b\b\b\b\b\b\b\b\b\b\b\b\b\b\b\b\b\b\b\b\b\b\b\b\b\b\b\b\b\b\b\b\b\b\b\b\b\b\b\b\b\b\b\b\b\b\b\b\b\b\b\b\b\b\b\b\b\b\b\b\b\b\b\b\b\b\b\b\b\b\b\b\b\b\b\b\b\b\b\b\b\b\b\b\b\b\b\b\b\b\b\b\b\b\b\b\b\b\b\b\b\b\b\b\b\b\b\b\b\b\b\b\b\b\b\b\b\b\b\b\b\b\b\b\b\b\b\b\b\b\b\b\b\b\b\b\b\b\b\b\b\b\b\b\b\b\b\b\b\b\b\b\b\b\b\b\b\b\b\b\b\b\b\b\b\b\b\b\b\b\b\b\b\b\b\b\b\b\b\b\b\b\b\b\b\b\b\b\b\b\b\b\b\b\b\b\b\b\b\b\b\b\b\b\b\b\b\b\b\b\b\b\b\b\b\b\b\b\b\b\b\b\b\b\b\b\b\b\b\b\b\b\b\b\b\b\b\b\b\b\b\b\b\b\b\b\b\b\b\b\b\b\b\b\b\b\b\b\b\b\b\b\b\b\b\b\b\b\b\b\b\b\b\b\b\b\b\b\b\b\b\b\b\b\b\b\b\b\b\b\b\b\b\b\b\b\b\b\b\b\b\b\b\b\b\b\b\b\b\b\b\b\b\b\b\b\b\b\b\b\b\b\b\b\b\b\b\b\b\b\b\b\b\b\b\b\b\b\b\b\b\b\b\b\b\b\b\b\b\b\b\b\b\b\b\b\b\b\b\b\b\b\b\b\b\b\b\b\b\b\b\b\b\b\b\b\b\b\b\b\b\b\b\b\b\b\b\b\b\b\b\b\b\b\b\b\b\b\b\b\b\b\b\b\b\b\b\b\b\b\b\b\b\b\b\b\b\b\b\b\b\b\b\b\b\b\b\b\b\b\b\b\b\b\b\b\b\b\b\b\b\b\b\b\b\b\b\b\b\b\b\b\b\b\b\b\b\b\b\b\b\b\b\b\b\b\b\b\b\b\b\b\b\b\b\b\b\b\b\b\b\b\b\b\b\b\b\b\b\b\b\b\b\b\b\b\b\b\b\b\b\b\b\b\b\b\b\b\b\b\b\b\b\b\b\b\b\b\b\b\b\b\b\b\b\b\b\b\b\b\b\b\b\b\b\b\b\b\b\b\n",
      "63000/63000 [==============================] - 2s      \b\b\b\b\b\b\b\b\b\b\b\b\b\b\b\b\b\b\b\b\b\b\b\b\b\b\b\b\b\b\b\b\b\b\b\b\b\b\b\b\b\b\b\b\b\b\b\b\b\b\b\b\b\b\b\b\b\b\b\b\b\b\b\b\b\b\b\b\b\b\b\b\b\b\b\b\b\b\b\b\b\b\b\b\b\b\b\b\b\b\b\b\b\b\b\b\b\b\b\b\b\b\b\b\b\b\b\b\b\b\b\b\b\b\b\b\b\b\b\b\b\b\b\b\b\b\b\b\b\b\b\b\b\b\b\b\b\b\b\b\b\b\b\b\b\b\b\b\b\b\b\b\b\b\b\b\b\b\b\b\b\b\b\b\b\b\b\b\b\b\b\b\b\b\b\b\b\b\b\b\b\b\b\b\b\b\b\b\b\b\b\b\b\b\b\b\b\b\b\b\b\b\b\b\b\b\b\b\b\b\b\b\b\b\b\b\b\b\b\b\b\b\b\b\b\b\b\b\b\b\b\b\b\b\b\b\b\b\b\b\b\b\b\b\b\b\b\b\b\b\b\b\b\b\b\b\b\b\b\b\b\b\b\b\b\b\b\b\b\b\b\b\b\b\b\b\b\b\b\b\b\b\b\b\b\b\b\b\b\b\b\b\b\b\b\b\b\b\b\b\b\b\b\b\b\b\b\b\b\b\b\b\b\b\b\b\b\b\b\b\b\b\b\b\b\b\b\b\b\b\b\b\b\b\b\b\b\b\b\b\b\b\b\b\b\b\b\b\b\b\b\b\b\b\b\b\b\b\b\b\b\b\b\b\b\b\b\b\b\b\b\b\b\b\b\b\b\b\b\b\b\b\b\b\b\b\b\b\b\b\b\b\b\b\b\b\b\b\b\b\b\b\b\b\b\b\b\b\b\b\b\b\b\b\b\b\b\b\b\b\b\b\b\b\b\b\b\b\b\b\b\b\b\b\b\b\b\b\b\b\b\b\b\b\b\b\b\b\b\b\b\b\b\b\b\b\b\b\b\b\b\b\b\b\b\b\b\b\b\b\b\b\b\b\b\b\b\b\b\b\b\b\b\b\b\b\b\b\b\b\b\b\b\b\b\b\b\b\b\b\b\b\b\b\b\b\b\b\b\b\b\b\b\b\b\b\b\b\b\b\b\b\b\b\b\b\b\b\b\b\b\b\b\b\b\b\b\b\b\b\b\b\b\b\b\b\b\b\b\b\b\b\b\b\b\b\b\b\b\b\b\b\b\b\b\b\b\b\b\b\b\b\b\b\b\b\b\b\b\b\b\b\b\b\b\b\b\b\b\b\b\b\b\b\b\b\b\b\b\b\b\b\b\b\b\b\b\b\b\b\b\b\b\b\b\b\b\b\b\b\b\b\b\b\b\b\b\b\b\b\b\b\b\b\b\b\b\b\b\b\b\b\b\b\b\b\b\b\b\b\b\b\b\b\b\b\b\b\b\b\b\b\b\b\b\b\b\b\b\b\b\b\b\b\b\b\b\b\b\b\b\b\b\b\b\b\b\b\b\b\b\b\b\b\b\b\b\b\b\b\b\b\b\b\b\b\b\b\b\b\b\b\b\b\b\b\b\b\b\b\b\b\b\b\b\b\b\b\b\b\b\b\b\b\b\b\b\b\b\b\b\b\b\b\b\b\b\b\b\b\b\b\b\b\b\b\b\b\b\b\b\b\b\b\b\b\b\b\b\b\b\b\b\b\b\b\b\b\b\b\b\b\b\b\b\b\b\b\b\b\b\b\b\b\b\b\b\b\b\b\b\b\b\b\b\b\b\b\b\b\b\b\b\b\b\b\b\b\b\b\b\b\b\b\b\b\b\b\b\b\b\b\b\b\b\b\b\b\b\b\b\b\b\b\b\b\b\b\b\b\b\b\b\b\b\b\b\b\b\b\b\b\b\b\b\b\b\b\b\b\b\b\b\b\b\b\b\b\b\b\b\b\b\b\b\b\b\b\b\b\b\b\b\b\b\b\b\b\b\b\b\b\b\b\b\b\b\b\b\b\b\b\b\b\b\b\b\b\b\b\b\b\b\b\b\b\b\b\b\b\b\b\b\b\b\b\b\b\b\b\b\b\b\b\b\b\b\b\b\b\b\b\b\b\b\b\b\b\b\b\b\b\b\b\b\b\b\b\b\b\b\b\b\b\b\b\b\b\b\b\b\b\b\b\b\b\b\b\b\b\b\b\b\b\b\b\b\b\b\b\b\b\b\b\b\b\b\b\b\b\b\b\b\b\b\b\b\b\b\b\b\b\b\b\b\b\b\b\b\b\b\b\b\b\b\b\b\b\b\b\b\b\b\b\b\b\b\b\b\b\b\b\b\b\b\b\b\b\b\b\b\b\b\b\b\b\b\b\b\b\b\b\b\b\b\b\b\b\b\b\b\b\b\b\b\b\b\b\b\b\b\b\b\b\b\b\b\b\b\b\b\b\b\b\b\b\b\b\b\b\b\b\b\b\b\b\b\b\b\b\b\b\b\b\b\b\b\b\b\b\b\b\b\b\b\b\b\b\b\b\b\b\b\b\b\b\b\b\b\b\b\b\b\b\b\b\b\b\b\b\b\b\b\b\b\b\b\b\b\b\b\b\b\b\b\b\b\b\b\b\b\b\b\b\b\b\b\b\b\b\b\b\b\b\b\b\b\b\b\b\b\b\b\b\b\b\b\b\b\b\b\b\b\b\b\b\b\b\b\b\b\b\b\b\b\b\b\b\b\b\b\b\b\b\b\b\b\b\b\b\b\b\b\b\b\b\b\b\b\b\b\b\b\b\b\b\b\b\b\b\b\b\b\b\b\b\b\b\b\b\b\b\b\b\b\b\b\b\b\b\b\b\b\b\b\b\b\b\b\b\b\b\b\b\b\b\b\b\b\b\b\b\b\b\b\b\b\b\b\b\b\b\b\b\b\b\b\b\b\b\b\b\b\b\b\b\b\b\b\b\b\b\b\b\b\b\b\b\b\b\b\b\b\b\b\b\b\b\b\b\b\b\b\b\b\b\b\b\b\b\b\b\b\b\b\b\b\b\b\b\b\b\b\b\b\b\b\b\b\b\b\b\b\b\b\b\b\b\b\b\b\b\b\b\b\b\b\b\b\b\b\b\b\b\b\b\b\b\b\b\b\b\b\b\b\b\b\b\b\b\b\b\b\b\b\b\b\b\b\b\b\b\b\b\b\b\b\b\b\b\b\b\b\b\b\b\b\b\b\b\b\b\b\b\b\b\b\b\b\b\b\b\b\b\b\b\b\b\b\b\b\b\b\b\b\b\b\b\b\b\b\b\b\b\b\b\b\b\b\b\b\b\b\b\b\b\b\b\b\b\b\b\b\b\b\b\b\b\b\b\b\b\b\b\b\b\b\b\b\b\b\b\b\b\b\b\b\b\b\b\b\b\b\b\b\b\b\b\b\b\b\b\b\b\b\b\b\b\b\b\b\b\b\b\b\b\b\b\b\b\b\b\b\b\b\b\b\b\b\b\b\b\b\b\b\b\b\b\b\b\b\b\b\b\b\b\b\b\b\b\b\b\b\b\b\b\b\b\b\b\b\b\b\b\b\b\b\b\b\b\b\b\b\b\b\b\b\b\b\b\b\b\b\b\b\b\b\b\b\b\b\b\b\b\b\b\b\b\b\b\b\b\b\b\b\b\b\b\b\b\b\b\b\b\b\b\b\b\b\b\b\b\b\b\b\b\b\b\b\b\b\b\b\b\b\n",
      "\n",
      "KL loss: 7.373704107980879\n",
      "xent loss: 470.8114502921937\n"
     ]
    }
   ],
   "source": [
    "vae_kl = Model(x, _output)\n",
    "vae_kl.compile(optimizer='rmsprop', loss=kl_loss)\n",
    "kl = vae_kl.evaluate(X_test_pca, X_test_pca, batch_size=batch_size)\n",
    "\n",
    "vae_logx = Model(x, _output)\n",
    "vae_logx.compile(optimizer='rmsprop', loss=logx_loss)\n",
    "logx = vae_logx.evaluate(X_test_pca, X_test_pca, batch_size=batch_size)\n",
    "\n",
    "print()\n",
    "print(\"KL loss: {}\".format(kl))\n",
    "print(\"xent loss: {}\".format(logx))"
   ]
  },
  {
   "cell_type": "markdown",
   "metadata": {},
   "source": [
    "# Generator Network"
   ]
  },
  {
   "cell_type": "code",
   "execution_count": 15,
   "metadata": {
    "collapsed": false,
    "scrolled": true
   },
   "outputs": [],
   "source": [
    "decoder_input = Input(shape=(latent_dim,))\n",
    "\n",
    "_decoder_1 = decoder_dropout_1(decoder_1(decoder_1_batch(decoder_1_dense(decoder_input))))\n",
    "_decoder_2 = decoder_dropout_2(decoder_2(decoder_2_batch(decoder_2_dense(_decoder_1))))\n",
    "_decoder_3 = decoder_dropout_3(decoder_3(decoder_3_batch(decoder_3_dense(_decoder_2))))\n",
    "_decoder_4 = decoder_dropout_4(decoder_4(decoder_4_batch(decoder_4_dense(_decoder_3))))\n",
    "_decoder_5 = decoder_dropout_5(decoder_5(decoder_5_batch(decoder_5_dense(_decoder_4))))\n",
    "_decoder_output = x_decoded_mean(_decoder_5)\n",
    "\n",
    "generator = Model(decoder_input, _decoder_output)"
   ]
  },
  {
   "cell_type": "markdown",
   "metadata": {},
   "source": [
    "# Save Generator Model"
   ]
  },
  {
   "cell_type": "code",
   "execution_count": 16,
   "metadata": {
    "collapsed": true
   },
   "outputs": [],
   "source": [
    "vae_path = \"saved_models/vae.hdf5\"\n",
    "vae.save(vae_path)\n",
    "\n",
    "generator_path = \"saved_models/generator.hdf5\"\n",
    "generator.save(generator_path)"
   ]
  }
 ],
 "metadata": {
  "kernelspec": {
   "display_name": "Python 3",
   "language": "python",
   "name": "python3"
  },
  "language_info": {
   "codemirror_mode": {
    "name": "ipython",
    "version": 3
   },
   "file_extension": ".py",
   "mimetype": "text/x-python",
   "name": "python",
   "nbconvert_exporter": "python",
   "pygments_lexer": "ipython3",
   "version": "3.6.0"
  },
  "widgets": {
   "state": {
    "009bef00486645ff98359e0237da69c0": {
     "views": [
      {
       "cell_index": 28
      }
     ]
    },
    "00d4f8a9751e466c954e39b85522863f": {
     "views": [
      {
       "cell_index": 28
      }
     ]
    },
    "017e8784d1a54d08b4b21eef8cb1a62e": {
     "views": [
      {
       "cell_index": 28
      }
     ]
    },
    "01cca60cb00e4dc9884e92d0e66a8323": {
     "views": [
      {
       "cell_index": 28
      }
     ]
    },
    "01e5f338011d46ac96e33ecb17bb6472": {
     "views": [
      {
       "cell_index": 28
      }
     ]
    },
    "0200d7be79cd4f9f8209d528f643524e": {
     "views": [
      {
       "cell_index": 28
      }
     ]
    },
    "0234424e04de45af95601cc8689110ce": {
     "views": [
      {
       "cell_index": 28
      }
     ]
    },
    "02414187259a48fe881bcce7d26da0d0": {
     "views": [
      {
       "cell_index": 28
      }
     ]
    },
    "026863b0dce2443285b5464ea90ebe76": {
     "views": [
      {
       "cell_index": 28
      }
     ]
    },
    "027942f990ef4bdbb0579a4644ae09cf": {
     "views": [
      {
       "cell_index": 28
      }
     ]
    },
    "028a526d371c40438c7a43045ee05cbe": {
     "views": [
      {
       "cell_index": 28
      }
     ]
    },
    "02ad4732e23943b587936a720d657871": {
     "views": [
      {
       "cell_index": 28
      }
     ]
    },
    "02b94bf0e4f4452a8d49734248d401b8": {
     "views": [
      {
       "cell_index": 28
      }
     ]
    },
    "0345f18243704d4d9199c4d54aff693a": {
     "views": [
      {
       "cell_index": 28
      }
     ]
    },
    "039c2fffccd84fbd934e399cb7d6abee": {
     "views": [
      {
       "cell_index": 28
      }
     ]
    },
    "03c3780a869d4e6ebc7ce864073a1518": {
     "views": [
      {
       "cell_index": 28
      }
     ]
    },
    "03d14cec9d444a63ab84d3a43990c863": {
     "views": [
      {
       "cell_index": 28
      }
     ]
    },
    "043c4583e6614025a61f08933f482ebd": {
     "views": [
      {
       "cell_index": 28
      }
     ]
    },
    "048e4f8ba761477ebf2659e34d86e40c": {
     "views": [
      {
       "cell_index": 28
      }
     ]
    },
    "052ec125df46455ea7a46fcc68d89c23": {
     "views": [
      {
       "cell_index": 28
      }
     ]
    },
    "053a15fdfbf14a91bb19fb5b6a83f6b7": {
     "views": [
      {
       "cell_index": 28
      }
     ]
    },
    "055f88c2a8264eb497cb1eb1a35b5129": {
     "views": [
      {
       "cell_index": 28
      }
     ]
    },
    "0574fd48daae4bb894ecbf15bac13dc3": {
     "views": [
      {
       "cell_index": 28
      }
     ]
    },
    "05ec1144aff74a238ede6de9a6a710a6": {
     "views": [
      {
       "cell_index": 28
      }
     ]
    },
    "0731c3e7625b417c85f1814441bb7eb1": {
     "views": [
      {
       "cell_index": 28
      }
     ]
    },
    "073fa013e5754f7b880b8a0811e532a8": {
     "views": [
      {
       "cell_index": 28
      }
     ]
    },
    "07babc2fc08346478daccf7d7cc29719": {
     "views": [
      {
       "cell_index": 28
      }
     ]
    },
    "07c7eec41a5a489296b39256e8d20e40": {
     "views": [
      {
       "cell_index": 28
      }
     ]
    },
    "07d04ffe74bd43e6a218e996d1b8634b": {
     "views": [
      {
       "cell_index": 28
      }
     ]
    },
    "07f2aa036397405e82b77f98e915e682": {
     "views": [
      {
       "cell_index": 28
      }
     ]
    },
    "088335b8d6dc45239edb8d365ea9192b": {
     "views": [
      {
       "cell_index": 28
      }
     ]
    },
    "09209ea7e1a244398db6405247f701e2": {
     "views": [
      {
       "cell_index": 28
      }
     ]
    },
    "092605a1f00c4b66935c131ad10dc3c7": {
     "views": [
      {
       "cell_index": 28
      }
     ]
    },
    "096041340b6a40c4a5607ef26740030d": {
     "views": [
      {
       "cell_index": 28
      }
     ]
    },
    "09812760960e42d9b9e5b59dc6ed6e95": {
     "views": [
      {
       "cell_index": 28
      }
     ]
    },
    "09ba0ed6261240dc840e2401f937ab5f": {
     "views": [
      {
       "cell_index": 28
      }
     ]
    },
    "09c50eef4b37420db19757d888596446": {
     "views": [
      {
       "cell_index": 28
      }
     ]
    },
    "0a22c97ff7134f30922c2753a4e69b88": {
     "views": [
      {
       "cell_index": 28
      }
     ]
    },
    "0a3b0c6df2cb44b79c5f3573c89096dc": {
     "views": [
      {
       "cell_index": 28
      }
     ]
    },
    "0a6790ffb8f24afcbcff0b47dc83f11c": {
     "views": [
      {
       "cell_index": 28
      }
     ]
    },
    "0b043456be9149b2be3202d94e9654ca": {
     "views": [
      {
       "cell_index": 28
      }
     ]
    },
    "0b29289bbbeb4def986c1151f4118c25": {
     "views": [
      {
       "cell_index": 28
      }
     ]
    },
    "0be6da8fbe0c4c43b83c1a16af6009e8": {
     "views": [
      {
       "cell_index": 28
      }
     ]
    },
    "0c2f6b5fc74148b88d0b50cf2fd8844d": {
     "views": [
      {
       "cell_index": 28
      }
     ]
    },
    "0c4ffb7e436244b1be9a65a7a8fd472e": {
     "views": [
      {
       "cell_index": 28
      }
     ]
    },
    "0d41bb8809ce488ca58a88ae51a4ab2d": {
     "views": [
      {
       "cell_index": 28
      }
     ]
    },
    "0d6836384f9c438885f93268b3aabadf": {
     "views": [
      {
       "cell_index": 28
      }
     ]
    },
    "0db159621b2b49d28afedd01a8906fe9": {
     "views": [
      {
       "cell_index": 28
      }
     ]
    },
    "0e2ae5c335a7472c9b597a8fabfaa79e": {
     "views": [
      {
       "cell_index": 28
      }
     ]
    },
    "0e4542c89cf84361bc854582880524cc": {
     "views": [
      {
       "cell_index": 28
      }
     ]
    },
    "0e768eaf5ee644c58e712ce63e9a00ea": {
     "views": [
      {
       "cell_index": 28
      }
     ]
    },
    "0eabb6e6b0d74a0fad01714f972c50b1": {
     "views": [
      {
       "cell_index": 28
      }
     ]
    },
    "0ec80562aee3463092417bf39fdfa76e": {
     "views": [
      {
       "cell_index": 28
      }
     ]
    },
    "0ee8f1a67ffb44d6b270e6c6580b7bd2": {
     "views": [
      {
       "cell_index": 28
      }
     ]
    },
    "0f15a24c504f4312aed502357451b3cc": {
     "views": [
      {
       "cell_index": 28
      }
     ]
    },
    "0fa2690c78a946f194235cb87bad9eba": {
     "views": [
      {
       "cell_index": 28
      }
     ]
    },
    "0fbf5f15b6e743568afa5f33d2222030": {
     "views": [
      {
       "cell_index": 28
      }
     ]
    },
    "0fc2b9aff1144dadb061c02cc760044f": {
     "views": [
      {
       "cell_index": 28
      }
     ]
    },
    "0fde6f95ec4141f290015c3ff7027928": {
     "views": [
      {
       "cell_index": 28
      }
     ]
    },
    "0fff99881e1346c780015a7047b0b6e8": {
     "views": [
      {
       "cell_index": 28
      }
     ]
    },
    "104f56634d0542c19643c325ed7dad10": {
     "views": [
      {
       "cell_index": 28
      }
     ]
    },
    "105bb8211cac43e48016fd8be800cf07": {
     "views": [
      {
       "cell_index": 28
      }
     ]
    },
    "1078edff7ed2447d922fec606fbe59de": {
     "views": [
      {
       "cell_index": 28
      }
     ]
    },
    "10b71fb4f3794f02a4b920adedb9b099": {
     "views": [
      {
       "cell_index": 28
      }
     ]
    },
    "10f53d6f914a44f68da41a93fd53a974": {
     "views": [
      {
       "cell_index": 28
      }
     ]
    },
    "112b3351c7704e49bfeeab4025493ab5": {
     "views": [
      {
       "cell_index": 28
      }
     ]
    },
    "114c6403912f48bb8000bc1f4d2bcb21": {
     "views": [
      {
       "cell_index": 28
      }
     ]
    },
    "116780e6fb8849ae8bcd03f3fe4e382d": {
     "views": [
      {
       "cell_index": 28
      }
     ]
    },
    "11827cdee9b04aa7b95aed1c99a64c66": {
     "views": [
      {
       "cell_index": 28
      }
     ]
    },
    "11d74413d44a443096401d288ff62f81": {
     "views": [
      {
       "cell_index": 28
      }
     ]
    },
    "11ea2c0857bf4e6d982db02a1a8439b0": {
     "views": [
      {
       "cell_index": 28
      }
     ]
    },
    "12a35492f3844a6cac08484e2a5d5f26": {
     "views": [
      {
       "cell_index": 28
      }
     ]
    },
    "12cd7849444e417c96cf399165241f47": {
     "views": [
      {
       "cell_index": 28
      }
     ]
    },
    "12f5f4e5cb3543b792a1194364e3cbc3": {
     "views": [
      {
       "cell_index": 28
      }
     ]
    },
    "1328310b108a40e0a6cb4f7301d5b8ca": {
     "views": [
      {
       "cell_index": 28
      }
     ]
    },
    "1389578c52104206902dac887b834322": {
     "views": [
      {
       "cell_index": 28
      }
     ]
    },
    "139795cd154c4a3198f9a287ed51c85b": {
     "views": [
      {
       "cell_index": 28
      }
     ]
    },
    "14214d2074314eaf82a26cf75c4592c5": {
     "views": [
      {
       "cell_index": 28
      }
     ]
    },
    "145a9f01e1584bb7ba7a80c76c72c5b5": {
     "views": [
      {
       "cell_index": 28
      }
     ]
    },
    "145d1747520541438c0a425a441a2cc7": {
     "views": [
      {
       "cell_index": 28
      }
     ]
    },
    "1506ed62f19446cbac550cdda8850de7": {
     "views": [
      {
       "cell_index": 28
      }
     ]
    },
    "153512bd4a3c429a87519f03748c846b": {
     "views": [
      {
       "cell_index": 28
      }
     ]
    },
    "1539dc9bff5d4d83be0ae85db780dbbd": {
     "views": [
      {
       "cell_index": 28
      }
     ]
    },
    "155d6e5dfb1b443fa3cad6544db43a9f": {
     "views": [
      {
       "cell_index": 28
      }
     ]
    },
    "1573361a1c764bd1808f0b3a007686f5": {
     "views": [
      {
       "cell_index": 28
      }
     ]
    },
    "159c6c3dc5ee4eb0a034f44527bfa0c7": {
     "views": [
      {
       "cell_index": 28
      }
     ]
    },
    "161d2022d024495cb534fc4f713156f7": {
     "views": [
      {
       "cell_index": 28
      }
     ]
    },
    "164a81ea1fbd4b2bb457bbb730278397": {
     "views": [
      {
       "cell_index": 28
      }
     ]
    },
    "1667e62f3d044ffdbcf5671a53f7cea8": {
     "views": [
      {
       "cell_index": 28
      }
     ]
    },
    "16977b6d1da34296a117f180fbf76756": {
     "views": [
      {
       "cell_index": 28
      }
     ]
    },
    "16db21a3d5424bc4982238dc86cfdb46": {
     "views": [
      {
       "cell_index": 28
      }
     ]
    },
    "16db6c6327ce4c9e86c19dd9b3d72caa": {
     "views": [
      {
       "cell_index": 28
      }
     ]
    },
    "170f97442ee74ccba9bb1dfbf3fb3323": {
     "views": [
      {
       "cell_index": 28
      }
     ]
    },
    "1725068963aa4a8e823feaebdc893644": {
     "views": [
      {
       "cell_index": 28
      }
     ]
    },
    "173528b642e441259da7debe699722cc": {
     "views": [
      {
       "cell_index": 28
      }
     ]
    },
    "17b29582cf8747ce928927fc0667cea2": {
     "views": [
      {
       "cell_index": 28
      }
     ]
    },
    "18063ce2b9e74a91a83153b999363e5d": {
     "views": [
      {
       "cell_index": 28
      }
     ]
    },
    "18639bfb852742b28db90bd32686f907": {
     "views": [
      {
       "cell_index": 28
      }
     ]
    },
    "186f7ad69dff40a389fbe374d3b8a50a": {
     "views": [
      {
       "cell_index": 28
      }
     ]
    },
    "186fb86e8f5c43909723a3459005d01c": {
     "views": [
      {
       "cell_index": 28
      }
     ]
    },
    "1876939a06fb4384b3ef2aef1ee34f9d": {
     "views": [
      {
       "cell_index": 28
      }
     ]
    },
    "1934a181efe04654a0af014d70b13106": {
     "views": [
      {
       "cell_index": 28
      }
     ]
    },
    "1936aecfe2b34efda0bb3cab7f8a5b3b": {
     "views": [
      {
       "cell_index": 28
      }
     ]
    },
    "1940a1684cc94cbeb8a4b17312f303ce": {
     "views": [
      {
       "cell_index": 28
      }
     ]
    },
    "19613a5eabf14d1c90c00c75099b4720": {
     "views": [
      {
       "cell_index": 28
      }
     ]
    },
    "19ca4af67f1d4bb1b6dab39532233f43": {
     "views": [
      {
       "cell_index": 28
      }
     ]
    },
    "1a54a0c3fd5442b8ab905bac9750f5ce": {
     "views": [
      {
       "cell_index": 28
      }
     ]
    },
    "1a5a302de8a0422db55d262920e9c4d3": {
     "views": [
      {
       "cell_index": 28
      }
     ]
    },
    "1be3964d5876445e8a16bc2024de1392": {
     "views": [
      {
       "cell_index": 28
      }
     ]
    },
    "1ca55bc423a64a4b81d0a1075a95db3f": {
     "views": [
      {
       "cell_index": 28
      }
     ]
    },
    "1ceed7d801f54be59b0e3c55952ffca1": {
     "views": [
      {
       "cell_index": 28
      }
     ]
    },
    "1d3c2eb466254f649b9de386880eb255": {
     "views": [
      {
       "cell_index": 28
      }
     ]
    },
    "1d9e296f815549f2bef68d149ebd1a23": {
     "views": [
      {
       "cell_index": 28
      }
     ]
    },
    "1da9bd6b52384853b91773ac6013b859": {
     "views": [
      {
       "cell_index": 28
      }
     ]
    },
    "1dc17da2cc194b7c85d1b2c45307299d": {
     "views": [
      {
       "cell_index": 28
      }
     ]
    },
    "1dd1a57f16bf4d80a3dc7596ccc450bd": {
     "views": [
      {
       "cell_index": 28
      }
     ]
    },
    "1e28d3d7397a4bd682f41e723b8ee528": {
     "views": [
      {
       "cell_index": 28
      }
     ]
    },
    "1e981f1cf61e46c0adc11bab8f804dc7": {
     "views": [
      {
       "cell_index": 28
      }
     ]
    },
    "1f07598a474c440594b41dabae5afabc": {
     "views": [
      {
       "cell_index": 28
      }
     ]
    },
    "1f7871f94461411cba1553d381394011": {
     "views": [
      {
       "cell_index": 28
      }
     ]
    },
    "1f884b59082348e48b730549d3a503fe": {
     "views": [
      {
       "cell_index": 28
      }
     ]
    },
    "2007943d6e804e4fac3e15eee7e4d2d5": {
     "views": [
      {
       "cell_index": 28
      }
     ]
    },
    "201caddf67ab47cbbd212f533c9ef2f8": {
     "views": [
      {
       "cell_index": 28
      }
     ]
    },
    "209653ca34c948d08ef69f99049acd3a": {
     "views": [
      {
       "cell_index": 28
      }
     ]
    },
    "209c0bbb51e54ce69f173e92538967e6": {
     "views": [
      {
       "cell_index": 28
      }
     ]
    },
    "2155a5c8afd24414bf8220d57070fcce": {
     "views": [
      {
       "cell_index": 28
      }
     ]
    },
    "216d1aad7a6e4eada1189abaaea55846": {
     "views": [
      {
       "cell_index": 28
      }
     ]
    },
    "2211b02375254e9498d2c9d99291f8f2": {
     "views": [
      {
       "cell_index": 28
      }
     ]
    },
    "222bd7f8fdcc4217a26de80f360aea53": {
     "views": [
      {
       "cell_index": 28
      }
     ]
    },
    "2294125197af480899b47487da49d8f5": {
     "views": [
      {
       "cell_index": 28
      }
     ]
    },
    "22bd70865456429aabb168d241dd4391": {
     "views": [
      {
       "cell_index": 28
      }
     ]
    },
    "2331c0aa5c4e4f0e988ba1cb8020a2ca": {
     "views": [
      {
       "cell_index": 28
      }
     ]
    },
    "235d0c48be914759984d1ee1b98b21fa": {
     "views": [
      {
       "cell_index": 28
      }
     ]
    },
    "236c001e189640f4b873381b090f5ea0": {
     "views": [
      {
       "cell_index": 28
      }
     ]
    },
    "23f143c39c014678a74f55719c11ea13": {
     "views": [
      {
       "cell_index": 28
      }
     ]
    },
    "2485c7d92f3e4047b2d62dcbdbe3ab51": {
     "views": [
      {
       "cell_index": 28
      }
     ]
    },
    "251b47ba0547468689a10f7b0c5f3013": {
     "views": [
      {
       "cell_index": 28
      }
     ]
    },
    "252cb4e32d3c49cdaa9e4d4546325415": {
     "views": [
      {
       "cell_index": 28
      }
     ]
    },
    "253ed9c28ff14a93a72521dfc452e0d7": {
     "views": [
      {
       "cell_index": 28
      }
     ]
    },
    "25a8407a82ba4eda9bacf4687089a972": {
     "views": [
      {
       "cell_index": 28
      }
     ]
    },
    "262f1297a7484bb3ac20a27d44cfd815": {
     "views": [
      {
       "cell_index": 28
      }
     ]
    },
    "266e18859aed4d55ba2d82a517620d1e": {
     "views": [
      {
       "cell_index": 28
      }
     ]
    },
    "2672dbb2b9e844cfbf9f3848bb1e6ffe": {
     "views": [
      {
       "cell_index": 28
      }
     ]
    },
    "26fa849a9e834ad799417f513f25a818": {
     "views": [
      {
       "cell_index": 28
      }
     ]
    },
    "2706703142cd484b810b5052d81c6c67": {
     "views": [
      {
       "cell_index": 28
      }
     ]
    },
    "271bcebafacd4397ac8ab28aac2993b1": {
     "views": [
      {
       "cell_index": 28
      }
     ]
    },
    "274bdaaafe1f4184a9263e326b8e8bde": {
     "views": [
      {
       "cell_index": 28
      }
     ]
    },
    "2802b2b6017140ad9a8de271bb305ec0": {
     "views": [
      {
       "cell_index": 28
      }
     ]
    },
    "285085b32c16428f83fefbdf2b06b511": {
     "views": [
      {
       "cell_index": 28
      }
     ]
    },
    "2875e338e688448e8cf43ce01d571c05": {
     "views": [
      {
       "cell_index": 28
      }
     ]
    },
    "28970340139a4f2196ce975cddbe1089": {
     "views": [
      {
       "cell_index": 28
      }
     ]
    },
    "28cd60bb3e874f199de18e414927afa7": {
     "views": [
      {
       "cell_index": 28
      }
     ]
    },
    "28cee3a289f7479ab70561a32c2e6b5c": {
     "views": [
      {
       "cell_index": 28
      }
     ]
    },
    "298674042969467882009793e3673b0a": {
     "views": [
      {
       "cell_index": 28
      }
     ]
    },
    "29ce0a91ee034f349785a5a02fc6ada1": {
     "views": [
      {
       "cell_index": 28
      }
     ]
    },
    "29e0d648776b4f74a2b5de67d2924f8f": {
     "views": [
      {
       "cell_index": 28
      }
     ]
    },
    "2a84a107154d4dd180180fd6097e5a47": {
     "views": [
      {
       "cell_index": 28
      }
     ]
    },
    "2a91065078c8424090669b265decf3a4": {
     "views": [
      {
       "cell_index": 28
      }
     ]
    },
    "2b732dca44a84386a3a67c5ed0a86cf6": {
     "views": [
      {
       "cell_index": 28
      }
     ]
    },
    "2b86a1cc91424da7bb6c8f406673690f": {
     "views": [
      {
       "cell_index": 28
      }
     ]
    },
    "2bbb76a582b04ac782a29e142c245333": {
     "views": [
      {
       "cell_index": 28
      }
     ]
    },
    "2bf6b3bf1c1e49aaa53351b0f1d34bc9": {
     "views": [
      {
       "cell_index": 28
      }
     ]
    },
    "2c00c4c21a474f9788999de37a5a330f": {
     "views": [
      {
       "cell_index": 28
      }
     ]
    },
    "2c2681f39c604d90a36ac2c0896eefed": {
     "views": [
      {
       "cell_index": 28
      }
     ]
    },
    "2c2dc611eb124363bd9c086a6e30cc66": {
     "views": [
      {
       "cell_index": 28
      }
     ]
    },
    "2c39a9db521c4d95a92cb1eb8bb577fa": {
     "views": [
      {
       "cell_index": 28
      }
     ]
    },
    "2c6913c5876d467388a3b1888fc295e4": {
     "views": [
      {
       "cell_index": 28
      }
     ]
    },
    "2c849b9f177f43f4a3a691b8597dd016": {
     "views": [
      {
       "cell_index": 28
      }
     ]
    },
    "2cec438be67f45e58fce8b910b0a81fe": {
     "views": [
      {
       "cell_index": 28
      }
     ]
    },
    "2d761494867e45418216c513bef8e9ce": {
     "views": [
      {
       "cell_index": 28
      }
     ]
    },
    "2d826c78e0264364b6fba0a50a1eddbe": {
     "views": [
      {
       "cell_index": 28
      }
     ]
    },
    "2dd8d9727eb8449e9a289e4e113a187e": {
     "views": [
      {
       "cell_index": 28
      }
     ]
    },
    "2e1fa72e06894922879a29db03ab36d2": {
     "views": [
      {
       "cell_index": 28
      }
     ]
    },
    "2e28a887397a4c6abef246e42c529373": {
     "views": [
      {
       "cell_index": 28
      }
     ]
    },
    "2e2dfff0d4e44257afd1b9d52cb225d8": {
     "views": [
      {
       "cell_index": 28
      }
     ]
    },
    "2e6de017137c4c478cc70ec4d30c2dff": {
     "views": [
      {
       "cell_index": 28
      }
     ]
    },
    "2f019451f4b34ff2b4a5ffcfc7001551": {
     "views": [
      {
       "cell_index": 28
      }
     ]
    },
    "2fa38f470ca34ab2b277745ced782c97": {
     "views": [
      {
       "cell_index": 28
      }
     ]
    },
    "2fab4f70d97b49a3abd6fa771500ce62": {
     "views": [
      {
       "cell_index": 28
      }
     ]
    },
    "2fc1624c38cd4e9fb0816b9cc304062b": {
     "views": [
      {
       "cell_index": 28
      }
     ]
    },
    "301e7f10a51e4f43996df6dd35ca0dbe": {
     "views": [
      {
       "cell_index": 28
      }
     ]
    },
    "302faa7be7b740f18fadc617a07d6ba9": {
     "views": [
      {
       "cell_index": 28
      }
     ]
    },
    "308d1151d52b498b813130ecc84536d2": {
     "views": [
      {
       "cell_index": 28
      }
     ]
    },
    "3091dff1b9f74a418ea30376bd3085e4": {
     "views": [
      {
       "cell_index": 28
      }
     ]
    },
    "3097e94da5ff410585f8b41b3194f9b0": {
     "views": [
      {
       "cell_index": 28
      }
     ]
    },
    "30c9fd2aee804537972cf70f95811592": {
     "views": [
      {
       "cell_index": 28
      }
     ]
    },
    "312f44944333457c9043834894d2a7e2": {
     "views": [
      {
       "cell_index": 28
      }
     ]
    },
    "3147a44f38bb47a29446b6e87ab6fa01": {
     "views": [
      {
       "cell_index": 28
      }
     ]
    },
    "3203a5b9b9914809bf52b2c627337fc7": {
     "views": [
      {
       "cell_index": 28
      }
     ]
    },
    "3203fd2e5ad7460ab24e6215b4437166": {
     "views": [
      {
       "cell_index": 28
      }
     ]
    },
    "3242cfd1bfe84562913a02da1105c18a": {
     "views": [
      {
       "cell_index": 28
      }
     ]
    },
    "325a4e56209e4e2b8e5b3914d5df4b89": {
     "views": [
      {
       "cell_index": 28
      }
     ]
    },
    "325ab6cac702432d861a962f17690830": {
     "views": [
      {
       "cell_index": 28
      }
     ]
    },
    "325fd0da384d4065bb28529802272a57": {
     "views": [
      {
       "cell_index": 28
      }
     ]
    },
    "3296d085faa04688b8c0f962217c074a": {
     "views": [
      {
       "cell_index": 28
      }
     ]
    },
    "32a7a7ce7e294ed49bab6aef40b37ffb": {
     "views": [
      {
       "cell_index": 28
      }
     ]
    },
    "32fc89b67fac47708eb731aeca3e7827": {
     "views": [
      {
       "cell_index": 28
      }
     ]
    },
    "3424e1351c9f460ca1fbbe2430fe31dd": {
     "views": [
      {
       "cell_index": 28
      }
     ]
    },
    "345e5844de1d4b79bf396bd176e367b4": {
     "views": [
      {
       "cell_index": 28
      }
     ]
    },
    "34bbf0a3db6247a6b9876cc357a48d4c": {
     "views": [
      {
       "cell_index": 28
      }
     ]
    },
    "34ec309c02524e32a98a3d5ef88390eb": {
     "views": [
      {
       "cell_index": 28
      }
     ]
    },
    "3587cf65ff114f4ea6b8de393eb76b2e": {
     "views": [
      {
       "cell_index": 28
      }
     ]
    },
    "3588285fc8bd4717b8912bf0a9666062": {
     "views": [
      {
       "cell_index": 28
      }
     ]
    },
    "358e34960c9941568d727fc4c622d834": {
     "views": [
      {
       "cell_index": 28
      }
     ]
    },
    "35cc6b7bb46942819f4fd236406b090f": {
     "views": [
      {
       "cell_index": 28
      }
     ]
    },
    "35d75aee54d2419d8fd7d7386cf5c7d0": {
     "views": [
      {
       "cell_index": 28
      }
     ]
    },
    "35eab795d5bd4dcaa3b248f5b306bc96": {
     "views": [
      {
       "cell_index": 28
      }
     ]
    },
    "362cdba03b4c4eb68b6bf95e07907dac": {
     "views": [
      {
       "cell_index": 28
      }
     ]
    },
    "364a2d6f0ca14c778630cc332f359903": {
     "views": [
      {
       "cell_index": 28
      }
     ]
    },
    "373459b5d06249fb919926832c7b5c5e": {
     "views": [
      {
       "cell_index": 28
      }
     ]
    },
    "37cb21c99ada4573bbfb23d896ff5f1d": {
     "views": [
      {
       "cell_index": 28
      }
     ]
    },
    "37d50ab00aec4589bc02dc953ceb4cc5": {
     "views": [
      {
       "cell_index": 28
      }
     ]
    },
    "3838810c3b124cfa8e7d9156808d1087": {
     "views": [
      {
       "cell_index": 28
      }
     ]
    },
    "3854cb45f02642519b0f3129caa721a8": {
     "views": [
      {
       "cell_index": 28
      }
     ]
    },
    "385802aaafae49e0aeb962ed4817a056": {
     "views": [
      {
       "cell_index": 28
      }
     ]
    },
    "3891abf200ba4bac85fdf041a9864707": {
     "views": [
      {
       "cell_index": 28
      }
     ]
    },
    "38aa9cc541f04c6f8f5d8c13add2f152": {
     "views": [
      {
       "cell_index": 28
      }
     ]
    },
    "38e9ea0ea0eb446fb32a348af03e236f": {
     "views": [
      {
       "cell_index": 28
      }
     ]
    },
    "3922ba9b4abc4d61abf6832c23c48c21": {
     "views": [
      {
       "cell_index": 28
      }
     ]
    },
    "395e67ff85b343efa644da99687e35e4": {
     "views": [
      {
       "cell_index": 28
      }
     ]
    },
    "39816fb50d494cb58414450e44bd8bce": {
     "views": [
      {
       "cell_index": 28
      }
     ]
    },
    "398ec629200048828e2955f9075f9df1": {
     "views": [
      {
       "cell_index": 28
      }
     ]
    },
    "3a6a652bffee4a129b5e00030dd90a5a": {
     "views": [
      {
       "cell_index": 28
      }
     ]
    },
    "3accac95696a4355b6144d3cc578a154": {
     "views": [
      {
       "cell_index": 28
      }
     ]
    },
    "3ad4a23d16d74fc398fc7a4b74afe622": {
     "views": [
      {
       "cell_index": 28
      }
     ]
    },
    "3b0353a1ee1d4271918a9fdd062d6865": {
     "views": [
      {
       "cell_index": 28
      }
     ]
    },
    "3b7ee4f85ac14f72a93abffbf002ffbb": {
     "views": [
      {
       "cell_index": 28
      }
     ]
    },
    "3b8659c433f045af89ab9c3ded476477": {
     "views": [
      {
       "cell_index": 28
      }
     ]
    },
    "3b9e3b6c88e848e29b30f6d1aa49e545": {
     "views": [
      {
       "cell_index": 28
      }
     ]
    },
    "3c1a70a9a231437ab4cb1667f45db952": {
     "views": [
      {
       "cell_index": 28
      }
     ]
    },
    "3c24878d6fe140d4a26e943470440198": {
     "views": [
      {
       "cell_index": 28
      }
     ]
    },
    "3cfae1a29e8e4b2cbd4d6ed131899b94": {
     "views": [
      {
       "cell_index": 28
      }
     ]
    },
    "3d089e9c50be4fcf8b8b3254cbc717af": {
     "views": [
      {
       "cell_index": 28
      }
     ]
    },
    "3de3af296e3b4d0fbe424620b8e11adc": {
     "views": [
      {
       "cell_index": 28
      }
     ]
    },
    "3deb99c1083f4def84e58a05647c6bcc": {
     "views": [
      {
       "cell_index": 28
      }
     ]
    },
    "3df8970284074507a6923ca447df200d": {
     "views": [
      {
       "cell_index": 28
      }
     ]
    },
    "3dfbe65289254f7fa2fa4f9931da33d1": {
     "views": [
      {
       "cell_index": 28
      }
     ]
    },
    "3e08f96b64784e2a8102dff25a9c243e": {
     "views": [
      {
       "cell_index": 28
      }
     ]
    },
    "3e2195e55a6b4f0480a44542a07b6aef": {
     "views": [
      {
       "cell_index": 28
      }
     ]
    },
    "3e2c4b8d03ab4594a9b914135a403f76": {
     "views": [
      {
       "cell_index": 28
      }
     ]
    },
    "3e54300933074bcfa083320db56efe7e": {
     "views": [
      {
       "cell_index": 28
      }
     ]
    },
    "3e90ac44ce7d432dbbc1d63c6e438b5c": {
     "views": [
      {
       "cell_index": 28
      }
     ]
    },
    "3ee3f1528cb74e34a4ad3c2b5a3e802b": {
     "views": [
      {
       "cell_index": 28
      }
     ]
    },
    "3f2d113b8091479faa116f023923c8cd": {
     "views": [
      {
       "cell_index": 28
      }
     ]
    },
    "3f2fb435b70f421fa80344b83f0609e7": {
     "views": [
      {
       "cell_index": 28
      }
     ]
    },
    "3fc302d2dc1e455192eb58e685501934": {
     "views": [
      {
       "cell_index": 28
      }
     ]
    },
    "3fdfb9fdfcbd47988932820fef9ccfce": {
     "views": [
      {
       "cell_index": 28
      }
     ]
    },
    "40091ad4643d482bb63a9538ee571478": {
     "views": [
      {
       "cell_index": 28
      }
     ]
    },
    "40454ec7f6e54347973af5636ff73446": {
     "views": [
      {
       "cell_index": 28
      }
     ]
    },
    "40d11a8c1b0c4eedb4b2bf9767cb742b": {
     "views": [
      {
       "cell_index": 28
      }
     ]
    },
    "414e0e32684845929d6dbc053098a8f4": {
     "views": [
      {
       "cell_index": 28
      }
     ]
    },
    "41587af72cfb44e4be4107c098494320": {
     "views": [
      {
       "cell_index": 28
      }
     ]
    },
    "416abe73d0ee4f2da63f2a2cb7bd81c4": {
     "views": [
      {
       "cell_index": 28
      }
     ]
    },
    "41c4d926e9e74404b1580201cd01fbcf": {
     "views": [
      {
       "cell_index": 28
      }
     ]
    },
    "41c78ecb23374621a249d2fa1d233531": {
     "views": [
      {
       "cell_index": 28
      }
     ]
    },
    "41e5ae0c2682423b87f36a456acaa11e": {
     "views": [
      {
       "cell_index": 28
      }
     ]
    },
    "420a4fc9399a412a94c3995c72898fa6": {
     "views": [
      {
       "cell_index": 28
      }
     ]
    },
    "4244edded52445ef8325c55844e3463c": {
     "views": [
      {
       "cell_index": 28
      }
     ]
    },
    "424d5b157f8047f7b4d49d98963f0b66": {
     "views": [
      {
       "cell_index": 28
      }
     ]
    },
    "425dabc488c94e92a5119ff69c672b5f": {
     "views": [
      {
       "cell_index": 28
      }
     ]
    },
    "42dcb76d90774dbf876aa20d4d03e585": {
     "views": [
      {
       "cell_index": 28
      }
     ]
    },
    "4331bd2c61ba4e3b8b1c2be75af2cf40": {
     "views": [
      {
       "cell_index": 28
      }
     ]
    },
    "43338a6bda2f48b38086e0acb62f28f8": {
     "views": [
      {
       "cell_index": 28
      }
     ]
    },
    "438b0c328066482c91488317b099d83a": {
     "views": [
      {
       "cell_index": 28
      }
     ]
    },
    "43bf6b33d77548798a79adf1081de08b": {
     "views": [
      {
       "cell_index": 28
      }
     ]
    },
    "44f5e33b8b334cecacc67b74a723a89e": {
     "views": [
      {
       "cell_index": 28
      }
     ]
    },
    "4573f26ae66d43e783e9b647b543fa10": {
     "views": [
      {
       "cell_index": 28
      }
     ]
    },
    "45b46b5e6e5145c88b097fefa441e413": {
     "views": [
      {
       "cell_index": 28
      }
     ]
    },
    "45d0289fa36848cfa8aa588bdaffc4c0": {
     "views": [
      {
       "cell_index": 28
      }
     ]
    },
    "45f91b660e6e4b86a699a1b36ecb9a75": {
     "views": [
      {
       "cell_index": 28
      }
     ]
    },
    "46055f747afa4589a4a8d786a652bb98": {
     "views": [
      {
       "cell_index": 28
      }
     ]
    },
    "464fe5e612c34ec2bf20bed84bc79109": {
     "views": [
      {
       "cell_index": 28
      }
     ]
    },
    "46a75358733642f88d8ec73a5e7a88f8": {
     "views": [
      {
       "cell_index": 28
      }
     ]
    },
    "46b09aea678142f4988873984c537b59": {
     "views": [
      {
       "cell_index": 28
      }
     ]
    },
    "46cb4715e8c244ddbf3489be1246aaab": {
     "views": [
      {
       "cell_index": 28
      }
     ]
    },
    "46fa7e46b06b48ff831241f45802807c": {
     "views": [
      {
       "cell_index": 28
      }
     ]
    },
    "46fe7351d5234d8683f8657428efaffe": {
     "views": [
      {
       "cell_index": 28
      }
     ]
    },
    "474f2c7428194c5c8998664bfcbf2418": {
     "views": [
      {
       "cell_index": 28
      }
     ]
    },
    "478fd9235a1e44cea14552db1c03f368": {
     "views": [
      {
       "cell_index": 28
      }
     ]
    },
    "479b9818487f4e40942a9a0752d3159b": {
     "views": [
      {
       "cell_index": 28
      }
     ]
    },
    "47a8a9fe03204ea886c54d944d8477a0": {
     "views": [
      {
       "cell_index": 28
      }
     ]
    },
    "47ad1bdf37da419eb42b47ed774ff6aa": {
     "views": [
      {
       "cell_index": 28
      }
     ]
    },
    "47e9676c2ca44fa49d0d2dc2e00d7bd8": {
     "views": [
      {
       "cell_index": 28
      }
     ]
    },
    "48396c131c8d4d52a77e92711c831a2c": {
     "views": [
      {
       "cell_index": 28
      }
     ]
    },
    "484e629af675435fa065c5a33642c4ca": {
     "views": [
      {
       "cell_index": 28
      }
     ]
    },
    "485e0d2c2abf4ac4b10b409b30a84a69": {
     "views": [
      {
       "cell_index": 28
      }
     ]
    },
    "48ba80c1d25b4222b386fb1fdf1e7031": {
     "views": [
      {
       "cell_index": 28
      }
     ]
    },
    "491bf084cb294460b8314685c8fbdd80": {
     "views": [
      {
       "cell_index": 28
      }
     ]
    },
    "49634e58f69f47349a7f38c20b252b75": {
     "views": [
      {
       "cell_index": 28
      }
     ]
    },
    "499694da1b7042d9ad9adf43045cef1e": {
     "views": [
      {
       "cell_index": 28
      }
     ]
    },
    "4a3ba9bba2574e51a991d57fb0e58e6b": {
     "views": [
      {
       "cell_index": 28
      }
     ]
    },
    "4a5496c6b2624a479bffb661bbe28f83": {
     "views": [
      {
       "cell_index": 28
      }
     ]
    },
    "4a58572a1121412bb807bf8bd46f9fe0": {
     "views": [
      {
       "cell_index": 28
      }
     ]
    },
    "4a630268583645bea30d52c0bf11ebe3": {
     "views": [
      {
       "cell_index": 28
      }
     ]
    },
    "4a74e3d226614934bf828a0617cd2313": {
     "views": [
      {
       "cell_index": 28
      }
     ]
    },
    "4b0befe8dcab4e10a24ffdf582b615e0": {
     "views": [
      {
       "cell_index": 28
      }
     ]
    },
    "4b248e2a24924d499875b3fe264e7368": {
     "views": [
      {
       "cell_index": 28
      }
     ]
    },
    "4b50be1ada944d58a5bfa351da72bfd8": {
     "views": [
      {
       "cell_index": 28
      }
     ]
    },
    "4b7899958f414da6bbeefca9bd3ad9a1": {
     "views": [
      {
       "cell_index": 28
      }
     ]
    },
    "4b95dcbd8a6440449acbbdbac439f22e": {
     "views": [
      {
       "cell_index": 28
      }
     ]
    },
    "4c36024fb3f2479f9475c124027eaf34": {
     "views": [
      {
       "cell_index": 28
      }
     ]
    },
    "4c76dd780b8b4789af9741ba27752bb7": {
     "views": [
      {
       "cell_index": 28
      }
     ]
    },
    "4c880ccbd4b94b7481f238ac947c7fdf": {
     "views": [
      {
       "cell_index": 28
      }
     ]
    },
    "4c8863dd19bf4ebd92476e760fc90350": {
     "views": [
      {
       "cell_index": 28
      }
     ]
    },
    "4c8a6dd166a64018a7c4c7e80a9e8760": {
     "views": [
      {
       "cell_index": 28
      }
     ]
    },
    "4ce095757b4f46af842e87023fae17fd": {
     "views": [
      {
       "cell_index": 28
      }
     ]
    },
    "4d3f5263227d44eeb926fe5c0a93716b": {
     "views": [
      {
       "cell_index": 28
      }
     ]
    },
    "4d4f799cfcd74ad1805291986058a351": {
     "views": [
      {
       "cell_index": 28
      }
     ]
    },
    "4d9e83a503b34cbf9783e731f79f3f88": {
     "views": [
      {
       "cell_index": 28
      }
     ]
    },
    "4e1050e99ab341bb930754af2f285d26": {
     "views": [
      {
       "cell_index": 28
      }
     ]
    },
    "4e285310d3c84f2f9758041027be5a13": {
     "views": [
      {
       "cell_index": 28
      }
     ]
    },
    "4e8fbd4a9b9d4f02b56420892cbbcff6": {
     "views": [
      {
       "cell_index": 28
      }
     ]
    },
    "4ebbeb8d19494dda9d7eb05776cdc6b9": {
     "views": [
      {
       "cell_index": 28
      }
     ]
    },
    "4ec13efa769f4407932a5c2565af361e": {
     "views": [
      {
       "cell_index": 28
      }
     ]
    },
    "4ec7385f797b4c689f125fd651933f4a": {
     "views": [
      {
       "cell_index": 28
      }
     ]
    },
    "4ec7920b6e8d4fc29b14e027abb5eb88": {
     "views": [
      {
       "cell_index": 28
      }
     ]
    },
    "4ee2f265a8614f978bf97faf6e1c65a4": {
     "views": [
      {
       "cell_index": 28
      }
     ]
    },
    "4f00219f820d45ddb28f366e28c6e28c": {
     "views": [
      {
       "cell_index": 28
      }
     ]
    },
    "4f2155d99f764caab5660122a5258211": {
     "views": [
      {
       "cell_index": 28
      }
     ]
    },
    "4f35bf4f64c34180a0e44c769852e94a": {
     "views": [
      {
       "cell_index": 28
      }
     ]
    },
    "4f4ba314296b4ac28d274dc46a0aacc9": {
     "views": [
      {
       "cell_index": 28
      }
     ]
    },
    "4f8fc1e9f585498283c726bdb0603a46": {
     "views": [
      {
       "cell_index": 28
      }
     ]
    },
    "4fd2267473304245a358cd52fc886c91": {
     "views": [
      {
       "cell_index": 28
      }
     ]
    },
    "4ffe7ab33ccb440facf61fe99d140afa": {
     "views": [
      {
       "cell_index": 28
      }
     ]
    },
    "50c13baf9b8d4d1e8dba2c3b66f1ab6f": {
     "views": [
      {
       "cell_index": 28
      }
     ]
    },
    "5108d440286f4da49f92edbec054ab25": {
     "views": [
      {
       "cell_index": 28
      }
     ]
    },
    "510d0fc3449e4c7ab9008b1ed154b032": {
     "views": [
      {
       "cell_index": 28
      }
     ]
    },
    "5141856c252d48ea964f28e344fb06e6": {
     "views": [
      {
       "cell_index": 28
      }
     ]
    },
    "51b381821e164633ad58bc40eb4f2ae9": {
     "views": [
      {
       "cell_index": 28
      }
     ]
    },
    "51d6d59775b1418a9cf0cb8126f61ff3": {
     "views": [
      {
       "cell_index": 28
      }
     ]
    },
    "51e25f18b4f84828a7869ce8540f4d27": {
     "views": [
      {
       "cell_index": 28
      }
     ]
    },
    "5204ccd4c8074332a8f46b30125113ee": {
     "views": [
      {
       "cell_index": 28
      }
     ]
    },
    "52fa470dbe064ca4a99d5f686f720312": {
     "views": [
      {
       "cell_index": 28
      }
     ]
    },
    "531a4b9a13514f03b0009e74d8b0d82e": {
     "views": [
      {
       "cell_index": 28
      }
     ]
    },
    "532d003554024338841ce21a86e1607f": {
     "views": [
      {
       "cell_index": 28
      }
     ]
    },
    "5331afd8626f4fe0b36183c9577d0610": {
     "views": [
      {
       "cell_index": 28
      }
     ]
    },
    "535057560c1549c49ca93f0c19705e2d": {
     "views": [
      {
       "cell_index": 28
      }
     ]
    },
    "53bc0293f9e0462e98ee26784d9891c2": {
     "views": [
      {
       "cell_index": 28
      }
     ]
    },
    "545d075c45354e12bea636bb257d73ec": {
     "views": [
      {
       "cell_index": 28
      }
     ]
    },
    "548bcff3e20249cf8f4f5fd124bccfb3": {
     "views": [
      {
       "cell_index": 28
      }
     ]
    },
    "549a6ddde8fd4b77a8011254ec56bd3a": {
     "views": [
      {
       "cell_index": 28
      }
     ]
    },
    "5536eed6502847f78af249f96cfe97fb": {
     "views": [
      {
       "cell_index": 28
      }
     ]
    },
    "554790120ea1441f8eed6b8c6fa5d332": {
     "views": [
      {
       "cell_index": 28
      }
     ]
    },
    "55488238be6040faa7d37ac70802f408": {
     "views": [
      {
       "cell_index": 28
      }
     ]
    },
    "555d0894630f4ac085f5d50c7d84297c": {
     "views": [
      {
       "cell_index": 28
      }
     ]
    },
    "55889f8e77f64eeb942933e3108fa17b": {
     "views": [
      {
       "cell_index": 28
      }
     ]
    },
    "55a782a544604acc99b9792a02278225": {
     "views": [
      {
       "cell_index": 28
      }
     ]
    },
    "56e76dfb35ba43168d9812d80050e1ff": {
     "views": [
      {
       "cell_index": 28
      }
     ]
    },
    "5728be9fc291498e90fc94d0f9ba2772": {
     "views": [
      {
       "cell_index": 28
      }
     ]
    },
    "572d1fdf99bb4e8a930dd11255ef1044": {
     "views": [
      {
       "cell_index": 28
      }
     ]
    },
    "5770e530c13e4f0499b50fee8c8fcc4f": {
     "views": [
      {
       "cell_index": 28
      }
     ]
    },
    "58771e24b905459fb7340c9e041abd8e": {
     "views": [
      {
       "cell_index": 28
      }
     ]
    },
    "587c543a272041e48c73c368d3e00f0b": {
     "views": [
      {
       "cell_index": 28
      }
     ]
    },
    "589cf817df444a46b3eace0f2dd72629": {
     "views": [
      {
       "cell_index": 28
      }
     ]
    },
    "59573f1a617243c1b44054856c411ee7": {
     "views": [
      {
       "cell_index": 28
      }
     ]
    },
    "596fb3d8846d4d329ea1bef8dfb30f5c": {
     "views": [
      {
       "cell_index": 28
      }
     ]
    },
    "598dc8654f694679a94cb33f8581fa9d": {
     "views": [
      {
       "cell_index": 28
      }
     ]
    },
    "5a4a7b459e624e2888232891d1fdb68c": {
     "views": [
      {
       "cell_index": 28
      }
     ]
    },
    "5aad45cfd7eb4a09a2bc1d91b2fbac89": {
     "views": [
      {
       "cell_index": 28
      }
     ]
    },
    "5b07afc5bdc0468d9baeea6e7dd36e11": {
     "views": [
      {
       "cell_index": 28
      }
     ]
    },
    "5c0bd96ffb404c2c9d515959f0c8e3f4": {
     "views": [
      {
       "cell_index": 28
      }
     ]
    },
    "5c5add4b54714f5a927b5f128ca8527d": {
     "views": [
      {
       "cell_index": 28
      }
     ]
    },
    "5c5fe0a15e364ae794e8ff1bb2c7e1de": {
     "views": [
      {
       "cell_index": 28
      }
     ]
    },
    "5ca604e369ab45879c091fe6e24e90b1": {
     "views": [
      {
       "cell_index": 28
      }
     ]
    },
    "5ca6efafd90a47dfa187811a7c29791c": {
     "views": [
      {
       "cell_index": 28
      }
     ]
    },
    "5d010a9a2b05400e84e6f4f8dc089000": {
     "views": [
      {
       "cell_index": 28
      }
     ]
    },
    "5d208b1697404dc3a7bde375e6b02b2e": {
     "views": [
      {
       "cell_index": 28
      }
     ]
    },
    "5d20c1db4b654ad6bd1050cd4a47082a": {
     "views": [
      {
       "cell_index": 28
      }
     ]
    },
    "5d72875642e54e1e8bfed3d509fd3a73": {
     "views": [
      {
       "cell_index": 28
      }
     ]
    },
    "5d7c96a43b49420aab54c2a6a7d37947": {
     "views": [
      {
       "cell_index": 28
      }
     ]
    },
    "5e1f6151433a4cc3bd2228ac0ea47cc2": {
     "views": [
      {
       "cell_index": 28
      }
     ]
    },
    "5e2d89b269a44a598910a5ca66b6e2ce": {
     "views": [
      {
       "cell_index": 28
      }
     ]
    },
    "5e4401e8c4b54a818ea05e6b7ac8980b": {
     "views": [
      {
       "cell_index": 28
      }
     ]
    },
    "5e571f4880fa4cf593890e6b95ad1610": {
     "views": [
      {
       "cell_index": 28
      }
     ]
    },
    "5f2a5c26505a460b8746ed1154bc6d49": {
     "views": [
      {
       "cell_index": 28
      }
     ]
    },
    "5ff4229f1b0949e8b5db9bea359311de": {
     "views": [
      {
       "cell_index": 28
      }
     ]
    },
    "601447e9c51049a6be49fefbcd28ae05": {
     "views": [
      {
       "cell_index": 28
      }
     ]
    },
    "6015eb633f32441393b794b37885b9b8": {
     "views": [
      {
       "cell_index": 28
      }
     ]
    },
    "6080de9be8854acebae3926be50941f5": {
     "views": [
      {
       "cell_index": 28
      }
     ]
    },
    "60e92653788544b482b477fbee253ef8": {
     "views": [
      {
       "cell_index": 28
      }
     ]
    },
    "60f38bd43817400fa077d912ac6cd94c": {
     "views": [
      {
       "cell_index": 28
      }
     ]
    },
    "60fd3cb0c169402ab1be1a0bb42a8d23": {
     "views": [
      {
       "cell_index": 28
      }
     ]
    },
    "615766bf38f84094ac42ffc508c29ec8": {
     "views": [
      {
       "cell_index": 28
      }
     ]
    },
    "6165c2185b36454ab2c0ed5010aa7570": {
     "views": [
      {
       "cell_index": 28
      }
     ]
    },
    "61a4b54fd0cc40d292c65eb7561b4336": {
     "views": [
      {
       "cell_index": 28
      }
     ]
    },
    "61c731bd65db429280fd0c79e1145686": {
     "views": [
      {
       "cell_index": 28
      }
     ]
    },
    "621a0c09453c432ca7c24a4ba3603a94": {
     "views": [
      {
       "cell_index": 28
      }
     ]
    },
    "624700e514b042fb8b5a37ab316b0073": {
     "views": [
      {
       "cell_index": 28
      }
     ]
    },
    "6257e4eed7cc46e1917493a0837bd6ff": {
     "views": [
      {
       "cell_index": 28
      }
     ]
    },
    "6272041bceb84dc0846e498de8cc94c1": {
     "views": [
      {
       "cell_index": 28
      }
     ]
    },
    "62c556ed6f134aff9270d23372cd4721": {
     "views": [
      {
       "cell_index": 28
      }
     ]
    },
    "62debadc3a124362946093a56af85581": {
     "views": [
      {
       "cell_index": 28
      }
     ]
    },
    "635e2b92024f41fa89a6751dd637c33f": {
     "views": [
      {
       "cell_index": 28
      }
     ]
    },
    "63ee20c05ace4f3abec46e30434c621d": {
     "views": [
      {
       "cell_index": 28
      }
     ]
    },
    "63f1e6c7afb14d629d0a99723f08dcd6": {
     "views": [
      {
       "cell_index": 28
      }
     ]
    },
    "640b2fa8cd5447b5bc071fbc396aa1e1": {
     "views": [
      {
       "cell_index": 28
      }
     ]
    },
    "646d4f8413514261806f4f1d9b0fd66b": {
     "views": [
      {
       "cell_index": 28
      }
     ]
    },
    "648df6935ec34f7aa3caad5774b25c97": {
     "views": [
      {
       "cell_index": 28
      }
     ]
    },
    "6588d0fc20d74c64829ebd9ff4a748c9": {
     "views": [
      {
       "cell_index": 28
      }
     ]
    },
    "6604f9751f814a3fb12b8f42028ac6e5": {
     "views": [
      {
       "cell_index": 28
      }
     ]
    },
    "66091db88eb846278073b58c88a0caff": {
     "views": [
      {
       "cell_index": 28
      }
     ]
    },
    "66400208eb9a49cf970e912f1defd622": {
     "views": [
      {
       "cell_index": 28
      }
     ]
    },
    "6655a55e7d264dc78cfc1d87e01cdb66": {
     "views": [
      {
       "cell_index": 28
      }
     ]
    },
    "6660c4ca21764128a75467bc8ac2ec2f": {
     "views": [
      {
       "cell_index": 28
      }
     ]
    },
    "6678d86a534c4973a4e31eb791aff3e1": {
     "views": [
      {
       "cell_index": 28
      }
     ]
    },
    "6687e17a54354b36a64719783fb2fd07": {
     "views": [
      {
       "cell_index": 28
      }
     ]
    },
    "676552c8ff9c461d9467b85f4cfafa5f": {
     "views": [
      {
       "cell_index": 28
      }
     ]
    },
    "67e9473e1dd7435d9f5c014b3b50ce85": {
     "views": [
      {
       "cell_index": 28
      }
     ]
    },
    "6822d8668741454f8f96feb623d21cf4": {
     "views": [
      {
       "cell_index": 28
      }
     ]
    },
    "682f1bd8323248148e1640bc7a8ae520": {
     "views": [
      {
       "cell_index": 28
      }
     ]
    },
    "6855eba314a249ce93cf3c822f446d55": {
     "views": [
      {
       "cell_index": 28
      }
     ]
    },
    "68628672ae6b4ed0929423e81d6a8b4c": {
     "views": [
      {
       "cell_index": 28
      }
     ]
    },
    "6869153905ed44a39d1104db47beac2f": {
     "views": [
      {
       "cell_index": 28
      }
     ]
    },
    "6894e6dedad44a3a8677e6682b664255": {
     "views": [
      {
       "cell_index": 28
      }
     ]
    },
    "68fa25bdbb4d4794ab543097e7217fbb": {
     "views": [
      {
       "cell_index": 28
      }
     ]
    },
    "692f02cf8d5b4d99afe1cbc9ed666779": {
     "views": [
      {
       "cell_index": 28
      }
     ]
    },
    "6931189bec8f4877a9f61d5bea5a5cf3": {
     "views": [
      {
       "cell_index": 28
      }
     ]
    },
    "6938e45bbe6e4cef914911a149b3f054": {
     "views": [
      {
       "cell_index": 28
      }
     ]
    },
    "6992879948194fd6b01b9f37fed4e25d": {
     "views": [
      {
       "cell_index": 28
      }
     ]
    },
    "699cd3f3a81841b6b61be22bf4f083c8": {
     "views": [
      {
       "cell_index": 28
      }
     ]
    },
    "69aa3364b6fa4b1bbd437a7ccf5290ed": {
     "views": [
      {
       "cell_index": 28
      }
     ]
    },
    "69b1fe66eee140448d875671c97c0c46": {
     "views": [
      {
       "cell_index": 28
      }
     ]
    },
    "69bb0d45d0a144bbbb365350ed7b9970": {
     "views": [
      {
       "cell_index": 28
      }
     ]
    },
    "69d71228852d46b6b2f4b989f8701ed8": {
     "views": [
      {
       "cell_index": 28
      }
     ]
    },
    "69f08bbf9a3b40af85fcff5d1176d73c": {
     "views": [
      {
       "cell_index": 28
      }
     ]
    },
    "6a1ed0bfa8924177b4512e9c670492e5": {
     "views": [
      {
       "cell_index": 28
      }
     ]
    },
    "6a4178af0131488ca64c7f2e3d99cbe4": {
     "views": [
      {
       "cell_index": 28
      }
     ]
    },
    "6a98ba8d115b45ef821702a8ed8358d0": {
     "views": [
      {
       "cell_index": 28
      }
     ]
    },
    "6b3b7652a9d14839a70f5957cd819238": {
     "views": [
      {
       "cell_index": 28
      }
     ]
    },
    "6b612d5d12494622ad8145a068ac4e12": {
     "views": [
      {
       "cell_index": 28
      }
     ]
    },
    "6b712f68b8a64b33a29034240395c59b": {
     "views": [
      {
       "cell_index": 28
      }
     ]
    },
    "6b725a94cb634caa8e8ce0e6ec20f991": {
     "views": [
      {
       "cell_index": 28
      }
     ]
    },
    "6b7555491d094dda85583f984f449ed3": {
     "views": [
      {
       "cell_index": 28
      }
     ]
    },
    "6b7d2e015d3b43298e07c71b298802b7": {
     "views": [
      {
       "cell_index": 28
      }
     ]
    },
    "6b8874cbf9204c9bb40ced467b8178dc": {
     "views": [
      {
       "cell_index": 28
      }
     ]
    },
    "6c30d04a0e114b93a0662754ee3d00ca": {
     "views": [
      {
       "cell_index": 28
      }
     ]
    },
    "6d31c0428a4f40a0a2ebb4cf8e002f6d": {
     "views": [
      {
       "cell_index": 28
      }
     ]
    },
    "6d82c502f4374bce917d452957a7d313": {
     "views": [
      {
       "cell_index": 28
      }
     ]
    },
    "6dcae51e3b3248788c4a2786a438bf89": {
     "views": [
      {
       "cell_index": 28
      }
     ]
    },
    "6dd6dca48bfa487789aebf11de1eb58b": {
     "views": [
      {
       "cell_index": 28
      }
     ]
    },
    "6df3f83e893d4427a1b7bb5eca289e07": {
     "views": [
      {
       "cell_index": 28
      }
     ]
    },
    "6e32b89c8f8c45ff95674b52e1330b30": {
     "views": [
      {
       "cell_index": 28
      }
     ]
    },
    "6e9941a840574118a9e220866be0354f": {
     "views": [
      {
       "cell_index": 28
      }
     ]
    },
    "6eadf25629804ab29d3da6038692828a": {
     "views": [
      {
       "cell_index": 28
      }
     ]
    },
    "6ed72386c4664c5ebe1b089ef54ef8ff": {
     "views": [
      {
       "cell_index": 28
      }
     ]
    },
    "6f06d0e2c7c941ff9e90b553d34f5190": {
     "views": [
      {
       "cell_index": 28
      }
     ]
    },
    "6f1c6e11945448ef8f7832205e707a2a": {
     "views": [
      {
       "cell_index": 28
      }
     ]
    },
    "6f8999c730ba4bc48aee7641ec11205e": {
     "views": [
      {
       "cell_index": 28
      }
     ]
    },
    "6f976b3212dc40e6b960fc9e2246597d": {
     "views": [
      {
       "cell_index": 28
      }
     ]
    },
    "6fcd45f3d69a4f5aa89d8a107ab18fc4": {
     "views": [
      {
       "cell_index": 28
      }
     ]
    },
    "6fdc6dd3f0234e28829fdbf0d3559b6d": {
     "views": [
      {
       "cell_index": 28
      }
     ]
    },
    "6fe32aa9e8554d8399332a284d1f7260": {
     "views": [
      {
       "cell_index": 28
      }
     ]
    },
    "702418090acf4755b5d2db20cd971574": {
     "views": [
      {
       "cell_index": 28
      }
     ]
    },
    "7055f1dae5af4106aaf958d7da4a4793": {
     "views": [
      {
       "cell_index": 28
      }
     ]
    },
    "709e3e1b6ccb4980913e1421e565d8cf": {
     "views": [
      {
       "cell_index": 28
      }
     ]
    },
    "711b2e8748a24c169dc8a2e32b1420fe": {
     "views": [
      {
       "cell_index": 28
      }
     ]
    },
    "71263bd0f1a04470abb71ee47577a368": {
     "views": [
      {
       "cell_index": 28
      }
     ]
    },
    "713209e92a744fc5826903ae1bb54d6a": {
     "views": [
      {
       "cell_index": 28
      }
     ]
    },
    "71368c02a23d4e03823e4240994fde17": {
     "views": [
      {
       "cell_index": 28
      }
     ]
    },
    "714949bbe01c4d8799aa94c249451828": {
     "views": [
      {
       "cell_index": 28
      }
     ]
    },
    "71c22341f2be43a9813f35e14234feb7": {
     "views": [
      {
       "cell_index": 28
      }
     ]
    },
    "71c233f8fc5340108d9aa7795fec2577": {
     "views": [
      {
       "cell_index": 28
      }
     ]
    },
    "71d389da4f384389957d31b95cdbf46b": {
     "views": [
      {
       "cell_index": 28
      }
     ]
    },
    "71d7b6b82d87439a89245b6d456d36de": {
     "views": [
      {
       "cell_index": 28
      }
     ]
    },
    "71d7d87ef13443ba8562e5a6730c23a0": {
     "views": [
      {
       "cell_index": 28
      }
     ]
    },
    "722eb490154c4be5bcdc45b1419688c1": {
     "views": [
      {
       "cell_index": 28
      }
     ]
    },
    "7288c3511bcc4c03829b679ec45e8977": {
     "views": [
      {
       "cell_index": 28
      }
     ]
    },
    "7294466618cd4955928d745ad752e3d1": {
     "views": [
      {
       "cell_index": 28
      }
     ]
    },
    "7296f595050844f1ac581a1afd45141a": {
     "views": [
      {
       "cell_index": 28
      }
     ]
    },
    "72c3bcfcde79414b85bb88339e2b401d": {
     "views": [
      {
       "cell_index": 28
      }
     ]
    },
    "735c940c828743778766d5049fc9cdfd": {
     "views": [
      {
       "cell_index": 28
      }
     ]
    },
    "737d69daa99f436ea72d2b7317ba72b7": {
     "views": [
      {
       "cell_index": 28
      }
     ]
    },
    "74052f0728114658b1137e9155b4803c": {
     "views": [
      {
       "cell_index": 28
      }
     ]
    },
    "744b0322f4e64e298239c9ca882d063c": {
     "views": [
      {
       "cell_index": 28
      }
     ]
    },
    "74ba151bdce7433ca62ef05b7f1fc143": {
     "views": [
      {
       "cell_index": 28
      }
     ]
    },
    "751449259c0e4d9d80bcad57a9aa635e": {
     "views": [
      {
       "cell_index": 28
      }
     ]
    },
    "751d5c724ff64080bde6d18a339ada1c": {
     "views": [
      {
       "cell_index": 28
      }
     ]
    },
    "75839c92126341c3b0d8edbd382a4ed4": {
     "views": [
      {
       "cell_index": 28
      }
     ]
    },
    "75a53d313618468baf7b68c73b151e5b": {
     "views": [
      {
       "cell_index": 28
      }
     ]
    },
    "75a84b2b6bdd4a7e8e91d43a5a641efa": {
     "views": [
      {
       "cell_index": 28
      }
     ]
    },
    "75ba3250e8624c0391552325688345f8": {
     "views": [
      {
       "cell_index": 28
      }
     ]
    },
    "75beb8efceb04d9bade8fa73d725003c": {
     "views": [
      {
       "cell_index": 28
      }
     ]
    },
    "75d5c72d9d744602ae43bbbe050b157a": {
     "views": [
      {
       "cell_index": 28
      }
     ]
    },
    "7611ed4ebeea4514bbdae4a309c03c00": {
     "views": [
      {
       "cell_index": 28
      }
     ]
    },
    "7624e186b7a84a90b040241345bdbd20": {
     "views": [
      {
       "cell_index": 28
      }
     ]
    },
    "76a9884259044226a0b37cec28ef6909": {
     "views": [
      {
       "cell_index": 28
      }
     ]
    },
    "76b1508b56734775b98240afa10727ec": {
     "views": [
      {
       "cell_index": 28
      }
     ]
    },
    "76ff4b7f78b64585a1356714a961ec84": {
     "views": [
      {
       "cell_index": 28
      }
     ]
    },
    "77362886de5142b5a6c596ebe61f733d": {
     "views": [
      {
       "cell_index": 28
      }
     ]
    },
    "776801294d734a8b8c60f2e27fd36067": {
     "views": [
      {
       "cell_index": 28
      }
     ]
    },
    "77e8154efa8c4b3b8f5e44c5cde1f638": {
     "views": [
      {
       "cell_index": 28
      }
     ]
    },
    "7801bacd826c40b7ad0379e4a7cf7212": {
     "views": [
      {
       "cell_index": 28
      }
     ]
    },
    "7832a66251194d0c8668e4833b3b2b2c": {
     "views": [
      {
       "cell_index": 28
      }
     ]
    },
    "783feffba8e1426ab6a69401e59849ae": {
     "views": [
      {
       "cell_index": 28
      }
     ]
    },
    "78ed073522b04442ad69a3cdb5ac527c": {
     "views": [
      {
       "cell_index": 28
      }
     ]
    },
    "79f07437367a458e9091ca5ba7d2a9ef": {
     "views": [
      {
       "cell_index": 28
      }
     ]
    },
    "7af614f7cfee4e57a3255269ed6e3458": {
     "views": [
      {
       "cell_index": 28
      }
     ]
    },
    "7afa5651cc2f478abdb2532d9268b6a9": {
     "views": [
      {
       "cell_index": 28
      }
     ]
    },
    "7b6c40a67b3f49fd9dbf6c8ac799cde1": {
     "views": [
      {
       "cell_index": 28
      }
     ]
    },
    "7b70d56194124078acdda9a91e017e25": {
     "views": [
      {
       "cell_index": 28
      }
     ]
    },
    "7c3e9554980242e29368dc7eb4ab5563": {
     "views": [
      {
       "cell_index": 28
      }
     ]
    },
    "7c44c25315274da0a62686c86a0b217f": {
     "views": [
      {
       "cell_index": 28
      }
     ]
    },
    "7c59e00d98d34eb384a5ec8b501c3383": {
     "views": [
      {
       "cell_index": 28
      }
     ]
    },
    "7c7756457e3440b3abd7d17418946920": {
     "views": [
      {
       "cell_index": 28
      }
     ]
    },
    "7c98690fe73848c4b4d24d0d502c2ecc": {
     "views": [
      {
       "cell_index": 28
      }
     ]
    },
    "7d19f88e02b64266a0bfd6955199c6a6": {
     "views": [
      {
       "cell_index": 28
      }
     ]
    },
    "7d3f307f43e54c258ee47eca3996f4a7": {
     "views": [
      {
       "cell_index": 28
      }
     ]
    },
    "7d3f61fa03f044cca7d3bb0dc405de22": {
     "views": [
      {
       "cell_index": 28
      }
     ]
    },
    "7d66e97312d74a769047e25c0990b35c": {
     "views": [
      {
       "cell_index": 28
      }
     ]
    },
    "7da85a4d0eb74297a19ef38be628d7d4": {
     "views": [
      {
       "cell_index": 28
      }
     ]
    },
    "7de15ac0dd1747edb62c6374f7c332d0": {
     "views": [
      {
       "cell_index": 28
      }
     ]
    },
    "7e087d304bef4d59bd754f57b9e30f06": {
     "views": [
      {
       "cell_index": 28
      }
     ]
    },
    "7e76828259894767a7f81ad40cfd1cd6": {
     "views": [
      {
       "cell_index": 28
      }
     ]
    },
    "7ea936f19f4f41d38fcbbd2e9c312e12": {
     "views": [
      {
       "cell_index": 28
      }
     ]
    },
    "7f4ad334abf34aa5b1b00e0ef35953f6": {
     "views": [
      {
       "cell_index": 28
      }
     ]
    },
    "7f4cfc68542d47ceb64808f8fbfa3661": {
     "views": [
      {
       "cell_index": 28
      }
     ]
    },
    "7fd7c1cbb6114180a62bb7995405cb69": {
     "views": [
      {
       "cell_index": 28
      }
     ]
    },
    "8003457bba9f4c75a1bcd342fc395d2c": {
     "views": [
      {
       "cell_index": 28
      }
     ]
    },
    "80111cbcb5a04f2787dff64e4f98d66d": {
     "views": [
      {
       "cell_index": 28
      }
     ]
    },
    "80277ef5108b4270a57ef28d0c74d964": {
     "views": [
      {
       "cell_index": 28
      }
     ]
    },
    "8083e9fa61224649925be51621090fcf": {
     "views": [
      {
       "cell_index": 28
      }
     ]
    },
    "80c113bb3cfa406486a93a3939832409": {
     "views": [
      {
       "cell_index": 28
      }
     ]
    },
    "818fd5ea93f24089af4512833bf64aa1": {
     "views": [
      {
       "cell_index": 28
      }
     ]
    },
    "8234417299694fad9b9c6b7661ebf09c": {
     "views": [
      {
       "cell_index": 28
      }
     ]
    },
    "82393a28aab94218bed53294bb5a57d3": {
     "views": [
      {
       "cell_index": 28
      }
     ]
    },
    "8252ddfea1f3486593994c7e9ac0d19f": {
     "views": [
      {
       "cell_index": 28
      }
     ]
    },
    "82f7bb8ded414891a9917152f958c199": {
     "views": [
      {
       "cell_index": 28
      }
     ]
    },
    "83296e7a91a14b62995289a749531b24": {
     "views": [
      {
       "cell_index": 28
      }
     ]
    },
    "83d39e326468449f953c3651220fa5c3": {
     "views": [
      {
       "cell_index": 28
      }
     ]
    },
    "83fd4eee9aec4d09adcbd2381369f70d": {
     "views": [
      {
       "cell_index": 28
      }
     ]
    },
    "8449b0c4fbb54affb96e85d47cfa2d05": {
     "views": [
      {
       "cell_index": 28
      }
     ]
    },
    "84c0312495774310b586ea07a6ca3f88": {
     "views": [
      {
       "cell_index": 28
      }
     ]
    },
    "85cf61264a9a4e60a5e89bc3a26ba551": {
     "views": [
      {
       "cell_index": 28
      }
     ]
    },
    "86b6c86ddbfa47e68cefc5298de803e8": {
     "views": [
      {
       "cell_index": 28
      }
     ]
    },
    "874b6beb96484216865873191f6175a0": {
     "views": [
      {
       "cell_index": 28
      }
     ]
    },
    "875de20b42c6471889855f9a2d8645da": {
     "views": [
      {
       "cell_index": 28
      }
     ]
    },
    "884f008a70754a0a8143379b94f2ac3b": {
     "views": [
      {
       "cell_index": 28
      }
     ]
    },
    "894410a6301b4089a3911d857899cd0d": {
     "views": [
      {
       "cell_index": 28
      }
     ]
    },
    "894dbf2ce37f485bad8da974d49153cf": {
     "views": [
      {
       "cell_index": 28
      }
     ]
    },
    "8974b22cbb09431cacd71481c0b22cc0": {
     "views": [
      {
       "cell_index": 28
      }
     ]
    },
    "89d4691d34c54101a21c4d8c1c56f7eb": {
     "views": [
      {
       "cell_index": 28
      }
     ]
    },
    "8a04e4ffab4c4e4d8e5ef28c1d49c31f": {
     "views": [
      {
       "cell_index": 28
      }
     ]
    },
    "8a5d6908eb4041d087a2cef45bff8aef": {
     "views": [
      {
       "cell_index": 28
      }
     ]
    },
    "8aa43b470da3490b8b210d9f8be7e53a": {
     "views": [
      {
       "cell_index": 28
      }
     ]
    },
    "8ac04bdf22a549838c208aedeb08ee4e": {
     "views": [
      {
       "cell_index": 28
      }
     ]
    },
    "8acfd337788d4ce794678926a4791011": {
     "views": [
      {
       "cell_index": 28
      }
     ]
    },
    "8bb2e3059cf5416cb3cc085f45c947e1": {
     "views": [
      {
       "cell_index": 28
      }
     ]
    },
    "8bb73798314945d082ffe632c588027c": {
     "views": [
      {
       "cell_index": 28
      }
     ]
    },
    "8beba08fbfa341df99ab53fb54d0ea5e": {
     "views": [
      {
       "cell_index": 28
      }
     ]
    },
    "8c195b2ad49f472ea12f4c2eb5afbf6d": {
     "views": [
      {
       "cell_index": 28
      }
     ]
    },
    "8c39ed5a176d46898346fd77a8574628": {
     "views": [
      {
       "cell_index": 28
      }
     ]
    },
    "8c41b46a958f411d82e2e84044f0c727": {
     "views": [
      {
       "cell_index": 28
      }
     ]
    },
    "8d2da8a1860c430cb7ab228cfafee1e4": {
     "views": [
      {
       "cell_index": 28
      }
     ]
    },
    "8d36e39a422840a090c8f1d3f17b549a": {
     "views": [
      {
       "cell_index": 28
      }
     ]
    },
    "8e209d9a206a4b87abc2593eb05fd5c3": {
     "views": [
      {
       "cell_index": 28
      }
     ]
    },
    "8eac81341d9d4abca891c89f0bfce829": {
     "views": [
      {
       "cell_index": 28
      }
     ]
    },
    "8efd3940b3f546ae9ef5e33ff3f8c824": {
     "views": [
      {
       "cell_index": 28
      }
     ]
    },
    "8f1652ed716040f5835cbfe2a48f75a9": {
     "views": [
      {
       "cell_index": 28
      }
     ]
    },
    "8f359ab1b6464334acd6d1865001020b": {
     "views": [
      {
       "cell_index": 28
      }
     ]
    },
    "8f68593581ba4e2d9bcee389993fada0": {
     "views": [
      {
       "cell_index": 28
      }
     ]
    },
    "9032b88899d1456e882f0aeca478798a": {
     "views": [
      {
       "cell_index": 28
      }
     ]
    },
    "905a7a3d29754993a99ab578efa6db82": {
     "views": [
      {
       "cell_index": 28
      }
     ]
    },
    "911e73fcd4f24ea0a24295d88a264bbf": {
     "views": [
      {
       "cell_index": 28
      }
     ]
    },
    "91419b8d03814ff3a54da30bd4678bd5": {
     "views": [
      {
       "cell_index": 28
      }
     ]
    },
    "9184d581a49b4b1d80e146b08e200140": {
     "views": [
      {
       "cell_index": 28
      }
     ]
    },
    "91f234121666449c92230ba2846deca9": {
     "views": [
      {
       "cell_index": 28
      }
     ]
    },
    "91f93d0032214e08bd8b8400be5b169d": {
     "views": [
      {
       "cell_index": 28
      }
     ]
    },
    "91fa9ff5f28b433290f9cb6c689deb50": {
     "views": [
      {
       "cell_index": 28
      }
     ]
    },
    "922912a5ca2e4a74b707dbf1467a0191": {
     "views": [
      {
       "cell_index": 28
      }
     ]
    },
    "928acf8f271c45ce9bff0718baa8a95e": {
     "views": [
      {
       "cell_index": 28
      }
     ]
    },
    "92b470f3f65a40e6b3a92a3311825018": {
     "views": [
      {
       "cell_index": 28
      }
     ]
    },
    "92cbd17da16c4e60af6d2258818939c0": {
     "views": [
      {
       "cell_index": 28
      }
     ]
    },
    "92cc309fc5fd4048a87322602b539ff4": {
     "views": [
      {
       "cell_index": 28
      }
     ]
    },
    "936577d754d14986ad6dcb91208426e5": {
     "views": [
      {
       "cell_index": 28
      }
     ]
    },
    "93f21f3009c44c4f86437b1257115240": {
     "views": [
      {
       "cell_index": 28
      }
     ]
    },
    "941d96ab612c4056943b2ba2bbfeb7af": {
     "views": [
      {
       "cell_index": 28
      }
     ]
    },
    "942c23a36dff43bd87df1f9ea178a222": {
     "views": [
      {
       "cell_index": 28
      }
     ]
    },
    "942dd437ab6146ba9951da09657b80b6": {
     "views": [
      {
       "cell_index": 28
      }
     ]
    },
    "94412f5e2e2740edb05f49b62d9d5ac7": {
     "views": [
      {
       "cell_index": 28
      }
     ]
    },
    "9446028465014932bfe5e47a396c8e94": {
     "views": [
      {
       "cell_index": 28
      }
     ]
    },
    "94757db717c249b79d961fbc81a0e972": {
     "views": [
      {
       "cell_index": 28
      }
     ]
    },
    "947f0eaa9ffc4a40b33f03ef043d7c85": {
     "views": [
      {
       "cell_index": 28
      }
     ]
    },
    "9480903a1dcf464dac39fe62fb69d5cf": {
     "views": [
      {
       "cell_index": 28
      }
     ]
    },
    "94d9a6f4ec9b4ff29d79795addd13806": {
     "views": [
      {
       "cell_index": 28
      }
     ]
    },
    "9537d318179a401abe066934aa1b6b69": {
     "views": [
      {
       "cell_index": 28
      }
     ]
    },
    "9546c61c58aa4f3a8a77b0f21a1be525": {
     "views": [
      {
       "cell_index": 28
      }
     ]
    },
    "9547b9cab6b8415b898829d52211e718": {
     "views": [
      {
       "cell_index": 28
      }
     ]
    },
    "95932b56e6014135b163c59db78a6e9c": {
     "views": [
      {
       "cell_index": 28
      }
     ]
    },
    "9679dc6417574a2cb28db4714a0fc47a": {
     "views": [
      {
       "cell_index": 28
      }
     ]
    },
    "969d0434e7b049ff894da2200de6c0c9": {
     "views": [
      {
       "cell_index": 28
      }
     ]
    },
    "96ae9f775a6d4e518816d55cfa251d34": {
     "views": [
      {
       "cell_index": 28
      }
     ]
    },
    "96c27d02bf2e4f4991bb23abd9e02c0a": {
     "views": [
      {
       "cell_index": 28
      }
     ]
    },
    "96dc2b1dc21e44b0bf1c38202afe5e85": {
     "views": [
      {
       "cell_index": 28
      }
     ]
    },
    "973d738db9fc4e19ad56163eb48a0714": {
     "views": [
      {
       "cell_index": 28
      }
     ]
    },
    "97694333b2074eb4931017704722c522": {
     "views": [
      {
       "cell_index": 28
      }
     ]
    },
    "976b8b742a354eafa1b7c64391b38de6": {
     "views": [
      {
       "cell_index": 28
      }
     ]
    },
    "9793bd7fdb47473c976b05367dad3a88": {
     "views": [
      {
       "cell_index": 28
      }
     ]
    },
    "97bb6c31c8a34989b039de085e86d5b5": {
     "views": [
      {
       "cell_index": 28
      }
     ]
    },
    "983f93fdeef2421caadb53bd1f0390a8": {
     "views": [
      {
       "cell_index": 28
      }
     ]
    },
    "9859f12c01884722812fa1aece1c4b30": {
     "views": [
      {
       "cell_index": 28
      }
     ]
    },
    "985a54a89d68466fae381dbe410d8386": {
     "views": [
      {
       "cell_index": 28
      }
     ]
    },
    "98778734267f494c9441a6d5030e48f6": {
     "views": [
      {
       "cell_index": 28
      }
     ]
    },
    "989136df77e64db6946a30e803b62982": {
     "views": [
      {
       "cell_index": 28
      }
     ]
    },
    "98a6d8c88e844dc9a65b55893b873c15": {
     "views": [
      {
       "cell_index": 28
      }
     ]
    },
    "98eb80d81cc2419096e8bbb015d30752": {
     "views": [
      {
       "cell_index": 28
      }
     ]
    },
    "98fd2c681fc14c30a75efa926057b0b5": {
     "views": [
      {
       "cell_index": 28
      }
     ]
    },
    "990ec9547c904d66a8552d2bc24c4d63": {
     "views": [
      {
       "cell_index": 28
      }
     ]
    },
    "990f5d242884439bb0814d0948078e39": {
     "views": [
      {
       "cell_index": 28
      }
     ]
    },
    "9920ab91b27043a7a2fdd5d9f1bee713": {
     "views": [
      {
       "cell_index": 28
      }
     ]
    },
    "99ed872acca146f18492aa263854d792": {
     "views": [
      {
       "cell_index": 28
      }
     ]
    },
    "9aabaa5dc4a4452db307bf80af489e5b": {
     "views": [
      {
       "cell_index": 28
      }
     ]
    },
    "9aadc5ebd0d24717940eb999fd97b6a3": {
     "views": [
      {
       "cell_index": 28
      }
     ]
    },
    "9ac1068f265c453da1ac0f35801a015e": {
     "views": [
      {
       "cell_index": 28
      }
     ]
    },
    "9afe32bca047405e922d01205e889694": {
     "views": [
      {
       "cell_index": 28
      }
     ]
    },
    "9b72194ddee643f1b58fa5797d6f173a": {
     "views": [
      {
       "cell_index": 28
      }
     ]
    },
    "9bc04b84cde141d09ee84a3f0739dae5": {
     "views": [
      {
       "cell_index": 28
      }
     ]
    },
    "9bd20c32ec834858addf4f0d386feaf0": {
     "views": [
      {
       "cell_index": 28
      }
     ]
    },
    "9bfe4013643b4ea68c2ab8429c9c99e8": {
     "views": [
      {
       "cell_index": 28
      }
     ]
    },
    "9c740e9e913e4b1fae8e35451e62190b": {
     "views": [
      {
       "cell_index": 28
      }
     ]
    },
    "9ca927c3d5d843d98af6e072ce430dd0": {
     "views": [
      {
       "cell_index": 28
      }
     ]
    },
    "9cb59aa9f5434d9a84086dad822cfffd": {
     "views": [
      {
       "cell_index": 28
      }
     ]
    },
    "9cf03c3e146f4f5fbd7c18efe0e4750a": {
     "views": [
      {
       "cell_index": 28
      }
     ]
    },
    "9de24d6b1f1a454fa649f319416d966c": {
     "views": [
      {
       "cell_index": 28
      }
     ]
    },
    "9e05466ecd6a403ebe230c74a69c435c": {
     "views": [
      {
       "cell_index": 28
      }
     ]
    },
    "9e15b2636af54e11983dc594542a2f3d": {
     "views": [
      {
       "cell_index": 28
      }
     ]
    },
    "9e6f03de749a409aa0501c50edf711d6": {
     "views": [
      {
       "cell_index": 28
      }
     ]
    },
    "9f1a9e21dd5a4f7b8773d2574540fc9b": {
     "views": [
      {
       "cell_index": 28
      }
     ]
    },
    "9f418f71728346ae85a90153fc58145f": {
     "views": [
      {
       "cell_index": 28
      }
     ]
    },
    "9fb657deefea4947b4ecd1e44e39fab1": {
     "views": [
      {
       "cell_index": 28
      }
     ]
    },
    "a00021b7bcb744d5b5ec68bf9cdaeb1d": {
     "views": [
      {
       "cell_index": 28
      }
     ]
    },
    "a0307c0621ed44f090e27aa3eec7f877": {
     "views": [
      {
       "cell_index": 28
      }
     ]
    },
    "a037121ac6fd4c1a8c4fac958a644f34": {
     "views": [
      {
       "cell_index": 28
      }
     ]
    },
    "a03efcaf9efa4f8ab3d7c66b9264b39c": {
     "views": [
      {
       "cell_index": 28
      }
     ]
    },
    "a056062c2166484f854b748a2f8f55cf": {
     "views": [
      {
       "cell_index": 28
      }
     ]
    },
    "a143879bab284ffe8d61cc2bcd7a4fc9": {
     "views": [
      {
       "cell_index": 28
      }
     ]
    },
    "a1a1af753f29413fb759d0231cdb7c3d": {
     "views": [
      {
       "cell_index": 28
      }
     ]
    },
    "a1d98b5ccbfc49929d505ef8191db178": {
     "views": [
      {
       "cell_index": 28
      }
     ]
    },
    "a2082f6b526d4d6bb7543c8b8afcc8d2": {
     "views": [
      {
       "cell_index": 28
      }
     ]
    },
    "a2c1dd253a64440b86e8fde0df12b24d": {
     "views": [
      {
       "cell_index": 28
      }
     ]
    },
    "a309b0226f4d4a9baa7a6a1613f9a533": {
     "views": [
      {
       "cell_index": 28
      }
     ]
    },
    "a35080cb67794ef9a927726db2c2507d": {
     "views": [
      {
       "cell_index": 28
      }
     ]
    },
    "a37974faddee4b85ba6e31a402915fc9": {
     "views": [
      {
       "cell_index": 28
      }
     ]
    },
    "a399df6675fb481687906f15ca9d0701": {
     "views": [
      {
       "cell_index": 28
      }
     ]
    },
    "a3f803c6c4e14abe93efe4786b3b9b3c": {
     "views": [
      {
       "cell_index": 28
      }
     ]
    },
    "a408b0a7cbef4e189b87532c21a3c8e1": {
     "views": [
      {
       "cell_index": 28
      }
     ]
    },
    "a4448d783e3949c78001d3efd98cfdcf": {
     "views": [
      {
       "cell_index": 28
      }
     ]
    },
    "a475ebce417046d9ae215a476cbc0666": {
     "views": [
      {
       "cell_index": 28
      }
     ]
    },
    "a47db81bbed4400cbd78d3da9418bf48": {
     "views": [
      {
       "cell_index": 28
      }
     ]
    },
    "a5905b7c28b04dde9c144e76c94ee966": {
     "views": [
      {
       "cell_index": 28
      }
     ]
    },
    "a5d0c7c8fbb144d5b337b19c3455feea": {
     "views": [
      {
       "cell_index": 28
      }
     ]
    },
    "a5e6478a9a954bed93f965b7cac28b1d": {
     "views": [
      {
       "cell_index": 28
      }
     ]
    },
    "a5f5ed29fa0748e08f3e15baa19be6fb": {
     "views": [
      {
       "cell_index": 28
      }
     ]
    },
    "a5f79321cec540b4b8cd44bf41189f32": {
     "views": [
      {
       "cell_index": 28
      }
     ]
    },
    "a6186536bb9d4a64a47e3300a2e08759": {
     "views": [
      {
       "cell_index": 28
      }
     ]
    },
    "a62642a57b064ea2a03a7cb6fd2bf1b3": {
     "views": [
      {
       "cell_index": 28
      }
     ]
    },
    "a6335ca25f264885bc1854f9ad183c9c": {
     "views": [
      {
       "cell_index": 28
      }
     ]
    },
    "a69ef916890b4956850d2c2d2d88697c": {
     "views": [
      {
       "cell_index": 28
      }
     ]
    },
    "a6d4980da9c7454abf388d1bda38adc9": {
     "views": [
      {
       "cell_index": 28
      }
     ]
    },
    "a7b4c8fbcd6b43d48b2f088131a85eef": {
     "views": [
      {
       "cell_index": 28
      }
     ]
    },
    "a8ca8889dddf446d90ff611fc97f6ee4": {
     "views": [
      {
       "cell_index": 28
      }
     ]
    },
    "a95db1a7e0734a3097ef9f849cf28196": {
     "views": [
      {
       "cell_index": 28
      }
     ]
    },
    "a970b0662acc45e78118322a35429534": {
     "views": [
      {
       "cell_index": 28
      }
     ]
    },
    "a9bc3d507ac74ad6a79b7646b9b32763": {
     "views": [
      {
       "cell_index": 28
      }
     ]
    },
    "aa7d96bfa20c4028bd06dada0fd49d2c": {
     "views": [
      {
       "cell_index": 28
      }
     ]
    },
    "aa9dd5a5e1cb4c94a68f93de96ac8165": {
     "views": [
      {
       "cell_index": 28
      }
     ]
    },
    "aacb42dfd6b549ad8993e4780c53fa0f": {
     "views": [
      {
       "cell_index": 28
      }
     ]
    },
    "aba71f9b1851435d9442963145e3f7f9": {
     "views": [
      {
       "cell_index": 28
      }
     ]
    },
    "aba80bf7ce3f4251949ca157d086e38b": {
     "views": [
      {
       "cell_index": 28
      }
     ]
    },
    "abc418a00a8b46a8bd0676a184e947cd": {
     "views": [
      {
       "cell_index": 28
      }
     ]
    },
    "abcab2ae0aa340359fd82cbbfb6faf28": {
     "views": [
      {
       "cell_index": 28
      }
     ]
    },
    "ac3baa34cd6747458ccc56e73242a36d": {
     "views": [
      {
       "cell_index": 28
      }
     ]
    },
    "ac7de423abb44ab2a85fddf14a1d1a11": {
     "views": [
      {
       "cell_index": 28
      }
     ]
    },
    "acab685b824646fe863be3d493a78adb": {
     "views": [
      {
       "cell_index": 28
      }
     ]
    },
    "ad0a5e421bdd4e6d893202a5e7a8452b": {
     "views": [
      {
       "cell_index": 28
      }
     ]
    },
    "ade548122f25489c9397ef8f8506a36c": {
     "views": [
      {
       "cell_index": 28
      }
     ]
    },
    "ae14784cddca4286bfc3135d0e6c0076": {
     "views": [
      {
       "cell_index": 28
      }
     ]
    },
    "ae3a5d976a5b436d881fb672babf0bb7": {
     "views": [
      {
       "cell_index": 28
      }
     ]
    },
    "ae3aae1e542c4088b4aed7d5e3daaf29": {
     "views": [
      {
       "cell_index": 28
      }
     ]
    },
    "ae95ab75e31f42198fd65beebf374b79": {
     "views": [
      {
       "cell_index": 28
      }
     ]
    },
    "aef1fdfcb7634caa8b67a8ad0d1c4cbf": {
     "views": [
      {
       "cell_index": 28
      }
     ]
    },
    "af6a3c48533441d0a0f590ac7656cf3b": {
     "views": [
      {
       "cell_index": 28
      }
     ]
    },
    "af791dcd57a44c05a0e3de7f4f28d4eb": {
     "views": [
      {
       "cell_index": 28
      }
     ]
    },
    "afc41fc5ecdc43faafe51338718a7c7d": {
     "views": [
      {
       "cell_index": 28
      }
     ]
    },
    "afc7a47ff5b3478dac9e7f50e9485e86": {
     "views": [
      {
       "cell_index": 28
      }
     ]
    },
    "afd3774040bc4dba99ad4f8e79cb3474": {
     "views": [
      {
       "cell_index": 28
      }
     ]
    },
    "afed34ee872b47a98b52261ff0fc8ae5": {
     "views": [
      {
       "cell_index": 28
      }
     ]
    },
    "b0094aa6ff414c5ba19c939bf1555478": {
     "views": [
      {
       "cell_index": 28
      }
     ]
    },
    "b02f0b62c9e349d8ae77ea0b1a7fe421": {
     "views": [
      {
       "cell_index": 28
      }
     ]
    },
    "b0689ca17b0740809b04e666af1afcec": {
     "views": [
      {
       "cell_index": 28
      }
     ]
    },
    "b0ac8eeccdab49738eaba08e47ee97ae": {
     "views": [
      {
       "cell_index": 28
      }
     ]
    },
    "b0aee094a682482c8aa470b9d5a47156": {
     "views": [
      {
       "cell_index": 28
      }
     ]
    },
    "b0c4e097d4524a0ab917e02bfc6c93fe": {
     "views": [
      {
       "cell_index": 28
      }
     ]
    },
    "b11cf10ef63543b6a68702c1045ed390": {
     "views": [
      {
       "cell_index": 28
      }
     ]
    },
    "b1366558e7c04f7aa866a5d0a285d9ee": {
     "views": [
      {
       "cell_index": 28
      }
     ]
    },
    "b13a05cba7ce4a7492e509536e8ad72a": {
     "views": [
      {
       "cell_index": 28
      }
     ]
    },
    "b15b1a342c4f4670b0bd6beea27f817b": {
     "views": [
      {
       "cell_index": 28
      }
     ]
    },
    "b265cfb5e53f446da6498760464c78ad": {
     "views": [
      {
       "cell_index": 28
      }
     ]
    },
    "b2b2cce577e54398b1e50fa11bba7478": {
     "views": [
      {
       "cell_index": 28
      }
     ]
    },
    "b2bb8327d2a04130abf07ccbc4847c27": {
     "views": [
      {
       "cell_index": 28
      }
     ]
    },
    "b2f381ad17294a5baae56b06a65fed3f": {
     "views": [
      {
       "cell_index": 28
      }
     ]
    },
    "b2f403bbc1d149fead2c9e638c03faa8": {
     "views": [
      {
       "cell_index": 28
      }
     ]
    },
    "b32334b731ef4102b281d6eb484c4c5e": {
     "views": [
      {
       "cell_index": 28
      }
     ]
    },
    "b34e03e9c3804f4793db52e00c00cea6": {
     "views": [
      {
       "cell_index": 28
      }
     ]
    },
    "b3812696ccf843e09ba01d4e70a28d10": {
     "views": [
      {
       "cell_index": 28
      }
     ]
    },
    "b389456d1b2c46d8a5f4d8fb475f1c23": {
     "views": [
      {
       "cell_index": 28
      }
     ]
    },
    "b3db5a2e6fd74689a6e892078760e8e2": {
     "views": [
      {
       "cell_index": 28
      }
     ]
    },
    "b400e8724e894499bfd4f655e46e0007": {
     "views": [
      {
       "cell_index": 28
      }
     ]
    },
    "b40797af0eaa4aec8f80741db33da8ad": {
     "views": [
      {
       "cell_index": 28
      }
     ]
    },
    "b4364213fde041018f357bc29814d52d": {
     "views": [
      {
       "cell_index": 28
      }
     ]
    },
    "b4372160e8e940b5937e94a66d7c9de6": {
     "views": [
      {
       "cell_index": 28
      }
     ]
    },
    "b472414526394a6d93fec603e77dcf6f": {
     "views": [
      {
       "cell_index": 28
      }
     ]
    },
    "b4df21d71d1c4a4a8a0ea55da8aaf24e": {
     "views": [
      {
       "cell_index": 28
      }
     ]
    },
    "b502a12e06c64262a81bce1f4d0a411e": {
     "views": [
      {
       "cell_index": 28
      }
     ]
    },
    "b52746abc5cb489ba67d6502b9c411d7": {
     "views": [
      {
       "cell_index": 28
      }
     ]
    },
    "b5afbee665464f9fab64a35f0106030e": {
     "views": [
      {
       "cell_index": 28
      }
     ]
    },
    "b665199406c94564821c0f1e972fb062": {
     "views": [
      {
       "cell_index": 28
      }
     ]
    },
    "b695dd733dbf428d90e56f8ea608c7d5": {
     "views": [
      {
       "cell_index": 28
      }
     ]
    },
    "b6a4e78d240048f8b977b676c3df3b2a": {
     "views": [
      {
       "cell_index": 28
      }
     ]
    },
    "b6bd07ad1c5a47a08f560b508fb22862": {
     "views": [
      {
       "cell_index": 28
      }
     ]
    },
    "b700672ea7674684b1c7928683d88dd3": {
     "views": [
      {
       "cell_index": 28
      }
     ]
    },
    "b717f681f004411687ff6d48d885fd0c": {
     "views": [
      {
       "cell_index": 28
      }
     ]
    },
    "b7633d6ecfa94417ba68dae5a1560ef4": {
     "views": [
      {
       "cell_index": 28
      }
     ]
    },
    "b76705b1d4f34725ab932b95f0d9fba9": {
     "views": [
      {
       "cell_index": 28
      }
     ]
    },
    "b7bc5530a6274ee8bb9abdff3e8e846f": {
     "views": [
      {
       "cell_index": 28
      }
     ]
    },
    "b81833cab22345d59f203b3d9c0130d8": {
     "views": [
      {
       "cell_index": 28
      }
     ]
    },
    "b81a018749c54092b98cef4fe2b71017": {
     "views": [
      {
       "cell_index": 28
      }
     ]
    },
    "b8de20d19b6e465282a93269817b8cf4": {
     "views": [
      {
       "cell_index": 28
      }
     ]
    },
    "b96cb9f73bea48339a09a128c2949c9f": {
     "views": [
      {
       "cell_index": 28
      }
     ]
    },
    "b9a5c0fb4db945eba6c7dc165044ff81": {
     "views": [
      {
       "cell_index": 28
      }
     ]
    },
    "ba28476f4e6745dc8aec324bd59da257": {
     "views": [
      {
       "cell_index": 28
      }
     ]
    },
    "ba97e324e49f40a5805b8181a70d1817": {
     "views": [
      {
       "cell_index": 28
      }
     ]
    },
    "bb0029ffb11d49f18efa490c24e0160e": {
     "views": [
      {
       "cell_index": 28
      }
     ]
    },
    "bb303a0ff5ca4f5998752cf407976f21": {
     "views": [
      {
       "cell_index": 28
      }
     ]
    },
    "bc0187963ed241a692176b40fc4342c5": {
     "views": [
      {
       "cell_index": 28
      }
     ]
    },
    "bc1fd3390d1045579d51ddbfd5d2546b": {
     "views": [
      {
       "cell_index": 28
      }
     ]
    },
    "bc6453e40269481da41b5f00e66a4867": {
     "views": [
      {
       "cell_index": 28
      }
     ]
    },
    "bca511bf898645e883ca9e1bdd9c520e": {
     "views": [
      {
       "cell_index": 28
      }
     ]
    },
    "bcdb849ddb1349c69cd77c40cd355593": {
     "views": [
      {
       "cell_index": 28
      }
     ]
    },
    "bcf2863fec7140ee9d84f00ef90998dd": {
     "views": [
      {
       "cell_index": 28
      }
     ]
    },
    "bd3aaa563d824cabb474f49e190998f6": {
     "views": [
      {
       "cell_index": 28
      }
     ]
    },
    "be3d0abcda0b4383b16ee69d033aeef6": {
     "views": [
      {
       "cell_index": 28
      }
     ]
    },
    "be6b1f506dc54cdcaba90f8bf14ab4d3": {
     "views": [
      {
       "cell_index": 28
      }
     ]
    },
    "be856acdf902459fa6a5a6822a4e729b": {
     "views": [
      {
       "cell_index": 28
      }
     ]
    },
    "beb8ebd6a64a48fba41c78cc2df1e33f": {
     "views": [
      {
       "cell_index": 28
      }
     ]
    },
    "bebb23914b3640b08ea034174e828fb8": {
     "views": [
      {
       "cell_index": 28
      }
     ]
    },
    "bec2fbe48dd140aeb5fba7bccd35e638": {
     "views": [
      {
       "cell_index": 28
      }
     ]
    },
    "bf0c54a636f040e38dc43b7fabe70acc": {
     "views": [
      {
       "cell_index": 28
      }
     ]
    },
    "bf1adf187ba644a6aa378fa02990aabd": {
     "views": [
      {
       "cell_index": 28
      }
     ]
    },
    "bf310f8f27c54b949aa0341a421686ae": {
     "views": [
      {
       "cell_index": 28
      }
     ]
    },
    "c06e317b27384af8aa5d5c15bedcbec0": {
     "views": [
      {
       "cell_index": 28
      }
     ]
    },
    "c0dce1fbae76445b877b3e517dedc86f": {
     "views": [
      {
       "cell_index": 28
      }
     ]
    },
    "c1007c806e7b4c06b562fa21fd77367c": {
     "views": [
      {
       "cell_index": 28
      }
     ]
    },
    "c1c3accd7a0d48bf9c7b0bad70ca8fc4": {
     "views": [
      {
       "cell_index": 28
      }
     ]
    },
    "c21573fea07748f6bdfd62954d7a331c": {
     "views": [
      {
       "cell_index": 28
      }
     ]
    },
    "c249597458e341289836fda4bfd73b12": {
     "views": [
      {
       "cell_index": 28
      }
     ]
    },
    "c2541ba9b2b34a6786513a3d0c8e8bbf": {
     "views": [
      {
       "cell_index": 28
      }
     ]
    },
    "c2b53a28bf064e759ea74f015e3bca18": {
     "views": [
      {
       "cell_index": 28
      }
     ]
    },
    "c2c76e096c4d479499eda265773729ac": {
     "views": [
      {
       "cell_index": 28
      }
     ]
    },
    "c37cfa2dcfca454aa58169f9a1076d76": {
     "views": [
      {
       "cell_index": 28
      }
     ]
    },
    "c4211da5b55e4195ba8ffcef61c01528": {
     "views": [
      {
       "cell_index": 28
      }
     ]
    },
    "c4596edbeca04937beebcc9117ce9614": {
     "views": [
      {
       "cell_index": 28
      }
     ]
    },
    "c45e18f8a0ef4587ba309276a57f9ab3": {
     "views": [
      {
       "cell_index": 28
      }
     ]
    },
    "c4bb039a57654da3864fe15969cfc8cb": {
     "views": [
      {
       "cell_index": 28
      }
     ]
    },
    "c52a83405b7c4d65aa89eb94af09a1d1": {
     "views": [
      {
       "cell_index": 28
      }
     ]
    },
    "c5adfab2ef3448cb9b038466ae1af50a": {
     "views": [
      {
       "cell_index": 28
      }
     ]
    },
    "c5b005bfe3744332890e1c5c1e78723d": {
     "views": [
      {
       "cell_index": 28
      }
     ]
    },
    "c5c8d35fc0db4d1893454b7d5c1b1f76": {
     "views": [
      {
       "cell_index": 28
      }
     ]
    },
    "c669152818ae4839868a7a5dd00d2dad": {
     "views": [
      {
       "cell_index": 28
      }
     ]
    },
    "c6c61bf091e946998f3e8531c2e649b6": {
     "views": [
      {
       "cell_index": 28
      }
     ]
    },
    "c6d116d9ca2644a886d7a52d20c2acc4": {
     "views": [
      {
       "cell_index": 28
      }
     ]
    },
    "c70c27e79998423f96df5a1e01802d28": {
     "views": [
      {
       "cell_index": 28
      }
     ]
    },
    "c76f92fbf1e74c1dbf21aebdea833171": {
     "views": [
      {
       "cell_index": 28
      }
     ]
    },
    "c796a674eee14cf68a7394a57201591f": {
     "views": [
      {
       "cell_index": 28
      }
     ]
    },
    "c7ea619592ca4a738fea85ecc9937dab": {
     "views": [
      {
       "cell_index": 28
      }
     ]
    },
    "c7f77e0599024852b8f944a83dc3ae8a": {
     "views": [
      {
       "cell_index": 28
      }
     ]
    },
    "c880a00a58f544bca4bb0a6bfc8bbd81": {
     "views": [
      {
       "cell_index": 28
      }
     ]
    },
    "c881622e87e041558844ff512c76c57f": {
     "views": [
      {
       "cell_index": 28
      }
     ]
    },
    "c892b7fca6e647ab9d35f76f9c81049a": {
     "views": [
      {
       "cell_index": 28
      }
     ]
    },
    "c8bca2e69c5d4517991ce86ac721c011": {
     "views": [
      {
       "cell_index": 28
      }
     ]
    },
    "c8e0c3739cb84bb7a83609ebc27ebc74": {
     "views": [
      {
       "cell_index": 28
      }
     ]
    },
    "c982fd5fa31048eebf500d803617730e": {
     "views": [
      {
       "cell_index": 28
      }
     ]
    },
    "c9ccdd32a163448fa2626a7994d50e09": {
     "views": [
      {
       "cell_index": 28
      }
     ]
    },
    "ca22a25e30424e1a9a68971ed7ec78ac": {
     "views": [
      {
       "cell_index": 28
      }
     ]
    },
    "ca7ce937f1fb40f6b695f04ebc6fc72a": {
     "views": [
      {
       "cell_index": 28
      }
     ]
    },
    "ca7d89cf289146eda35ff684caf23876": {
     "views": [
      {
       "cell_index": 28
      }
     ]
    },
    "cb31e254d9ae4caea3d44b875a8892b4": {
     "views": [
      {
       "cell_index": 28
      }
     ]
    },
    "cb3b1301aade4504af6405d211683295": {
     "views": [
      {
       "cell_index": 28
      }
     ]
    },
    "cb939f015b164390aab99758a5207042": {
     "views": [
      {
       "cell_index": 28
      }
     ]
    },
    "cba50acd3ea24bc180a70d732c6aff32": {
     "views": [
      {
       "cell_index": 28
      }
     ]
    },
    "cbc2243375e946708fd83dfef5d423a5": {
     "views": [
      {
       "cell_index": 28
      }
     ]
    },
    "cc6ba753341847ee8c14678ffa05dbdb": {
     "views": [
      {
       "cell_index": 28
      }
     ]
    },
    "ccda6c63fbeb40dc86c3fce11b310e32": {
     "views": [
      {
       "cell_index": 28
      }
     ]
    },
    "cce364b49de947bca0d87c82225e1843": {
     "views": [
      {
       "cell_index": 28
      }
     ]
    },
    "cd2be3b5df0547058ec706e648a2961e": {
     "views": [
      {
       "cell_index": 28
      }
     ]
    },
    "cd440d378ea1420eacfef4afd73eaa59": {
     "views": [
      {
       "cell_index": 28
      }
     ]
    },
    "cd4c68d8285a4a059ad55afa1e0acc19": {
     "views": [
      {
       "cell_index": 28
      }
     ]
    },
    "cdb4a1dd242b4301aea26e79362d58f7": {
     "views": [
      {
       "cell_index": 28
      }
     ]
    },
    "cde6e681dfab4181bf74789779835164": {
     "views": [
      {
       "cell_index": 28
      }
     ]
    },
    "ce0b806977c44d958c5fa1887c1a851c": {
     "views": [
      {
       "cell_index": 28
      }
     ]
    },
    "ce424b5d6dcc41efbd78267588c90a9c": {
     "views": [
      {
       "cell_index": 28
      }
     ]
    },
    "cebfc8776b594774b1e67da5c1c9ab70": {
     "views": [
      {
       "cell_index": 28
      }
     ]
    },
    "cf6bf0cfa5084a598f0f438216f399ad": {
     "views": [
      {
       "cell_index": 28
      }
     ]
    },
    "cf7d2a4de8d04d278ced84b6be34ca89": {
     "views": [
      {
       "cell_index": 28
      }
     ]
    },
    "cfb2409cb45549d9a9e2ddaa4c63af5f": {
     "views": [
      {
       "cell_index": 28
      }
     ]
    },
    "d02386c8b4ee4d1492f2ff8e44eae814": {
     "views": [
      {
       "cell_index": 28
      }
     ]
    },
    "d03f42fff5ec44b48b507b9524b22218": {
     "views": [
      {
       "cell_index": 28
      }
     ]
    },
    "d0acbdb354ae4a63aabf9bead6f14983": {
     "views": [
      {
       "cell_index": 28
      }
     ]
    },
    "d1176e4e1a6e4aa18fff88daa8130563": {
     "views": [
      {
       "cell_index": 28
      }
     ]
    },
    "d12a2a91fdf74e10922695b49addabed": {
     "views": [
      {
       "cell_index": 28
      }
     ]
    },
    "d1930df00d1b4ea7a6c886830a1c7c14": {
     "views": [
      {
       "cell_index": 28
      }
     ]
    },
    "d25ed7200ef64639a892bb6866b10d6a": {
     "views": [
      {
       "cell_index": 28
      }
     ]
    },
    "d273421d73ca45a59619edf165d5ffc6": {
     "views": [
      {
       "cell_index": 28
      }
     ]
    },
    "d2acde3d849b448b995122321b94da2d": {
     "views": [
      {
       "cell_index": 28
      }
     ]
    },
    "d338c16b43f34ccaae67c754352777bc": {
     "views": [
      {
       "cell_index": 28
      }
     ]
    },
    "d3c6aaf8f1464b52b6a16333f482891f": {
     "views": [
      {
       "cell_index": 28
      }
     ]
    },
    "d3f4b4b0c8b5400daf7019dc05248459": {
     "views": [
      {
       "cell_index": 28
      }
     ]
    },
    "d42d7a411d464b0b89d0a7d1fe2e3c3d": {
     "views": [
      {
       "cell_index": 28
      }
     ]
    },
    "d439ec1b851c42058c6789e5e8292b44": {
     "views": [
      {
       "cell_index": 28
      }
     ]
    },
    "d447fdb57447489884c944c9930b34f0": {
     "views": [
      {
       "cell_index": 28
      }
     ]
    },
    "d463eb9218d24f0c8d62dbb3f0147372": {
     "views": [
      {
       "cell_index": 28
      }
     ]
    },
    "d4f0bcaf23424c36beca2224fee91d3a": {
     "views": [
      {
       "cell_index": 28
      }
     ]
    },
    "d519eb722b474619a86cefef00a3f889": {
     "views": [
      {
       "cell_index": 28
      }
     ]
    },
    "d5245f59048843d288b8322ccd25fc9b": {
     "views": [
      {
       "cell_index": 28
      }
     ]
    },
    "d56921995dde41fab94b45bfa8bfe521": {
     "views": [
      {
       "cell_index": 28
      }
     ]
    },
    "d5a35f4795fa4913a7d20ff693d61383": {
     "views": [
      {
       "cell_index": 28
      }
     ]
    },
    "d6db26cce5e343358b023ca133c0bc90": {
     "views": [
      {
       "cell_index": 28
      }
     ]
    },
    "d6f8c2bc6453453787ee1fa777e55a7b": {
     "views": [
      {
       "cell_index": 28
      }
     ]
    },
    "d7032f81d689473481536bfe3c84d32e": {
     "views": [
      {
       "cell_index": 28
      }
     ]
    },
    "d759fdf5f21445c19a25fe2c7c46cd96": {
     "views": [
      {
       "cell_index": 28
      }
     ]
    },
    "d770afe57da64845a32c45f57a55e224": {
     "views": [
      {
       "cell_index": 28
      }
     ]
    },
    "d82928e9f9724a6999702e187925ea4d": {
     "views": [
      {
       "cell_index": 28
      }
     ]
    },
    "d8420469c427486380b63a22d294e519": {
     "views": [
      {
       "cell_index": 28
      }
     ]
    },
    "d852d9dfae064d2395f80cb71d5a27e4": {
     "views": [
      {
       "cell_index": 28
      }
     ]
    },
    "d857f252ddcb4828aee2208605d32eb2": {
     "views": [
      {
       "cell_index": 28
      }
     ]
    },
    "d89ba2b8ac074841b3fdd9fe2afba2e6": {
     "views": [
      {
       "cell_index": 28
      }
     ]
    },
    "d8dc1bd4c82e4f8b9ad247d0940d95ed": {
     "views": [
      {
       "cell_index": 28
      }
     ]
    },
    "d91d22fa8979423f9ae6da8861bdd467": {
     "views": [
      {
       "cell_index": 28
      }
     ]
    },
    "d92a42dc4a2f49a2a0f5d48982ec78c2": {
     "views": [
      {
       "cell_index": 28
      }
     ]
    },
    "d99a19f4c4ac4a1f8891ff1fdffd33c6": {
     "views": [
      {
       "cell_index": 28
      }
     ]
    },
    "d9a9947e47934e7783a6663fc65e4fbb": {
     "views": [
      {
       "cell_index": 28
      }
     ]
    },
    "da75a899f9b547498fe01bcd7030ee43": {
     "views": [
      {
       "cell_index": 28
      }
     ]
    },
    "daaf6a2debd546ef9752947e30180323": {
     "views": [
      {
       "cell_index": 28
      }
     ]
    },
    "dad17d9f2d0a4cc48fe12b76a4e0209f": {
     "views": [
      {
       "cell_index": 28
      }
     ]
    },
    "dae9cd7d17b544a39cafd4888ec057d3": {
     "views": [
      {
       "cell_index": 28
      }
     ]
    },
    "daf121cef7384596855f27190f534e9e": {
     "views": [
      {
       "cell_index": 28
      }
     ]
    },
    "db100f52f81d432dbec48f951a6125c5": {
     "views": [
      {
       "cell_index": 28
      }
     ]
    },
    "db98c8eb7b264bdeba08c97d796d451f": {
     "views": [
      {
       "cell_index": 28
      }
     ]
    },
    "dc2c705f6b5d4378bfe58450f758e967": {
     "views": [
      {
       "cell_index": 28
      }
     ]
    },
    "dc5366adbfa644cfad39f931d52b1c4d": {
     "views": [
      {
       "cell_index": 28
      }
     ]
    },
    "dd302c4384444b70a14f0e88c3a4aa58": {
     "views": [
      {
       "cell_index": 28
      }
     ]
    },
    "dd765871de9e4760924cf3c35ac40261": {
     "views": [
      {
       "cell_index": 28
      }
     ]
    },
    "dda6770b2eb14c63ae21ec3e001a24ca": {
     "views": [
      {
       "cell_index": 28
      }
     ]
    },
    "ddad7a51f9cf41d2a744a10d5e167ef5": {
     "views": [
      {
       "cell_index": 28
      }
     ]
    },
    "ddd0c27863dc45feaa7922444c14a282": {
     "views": [
      {
       "cell_index": 28
      }
     ]
    },
    "ddf94e9e1ec744a3a12225baa7a565ad": {
     "views": [
      {
       "cell_index": 28
      }
     ]
    },
    "ddfda0f3817b42bda9f35ce727768c24": {
     "views": [
      {
       "cell_index": 28
      }
     ]
    },
    "de00fbe171de4930a71ce0ebc0b5fed5": {
     "views": [
      {
       "cell_index": 28
      }
     ]
    },
    "de309729d35c4e91a139144e8ba29327": {
     "views": [
      {
       "cell_index": 28
      }
     ]
    },
    "de88cce92cfc461ea498152d5b682432": {
     "views": [
      {
       "cell_index": 28
      }
     ]
    },
    "debb09f57ce743a086b07c4a13d52b23": {
     "views": [
      {
       "cell_index": 28
      }
     ]
    },
    "dee3cddb6bb243b0a33a6c174c5d1b1b": {
     "views": [
      {
       "cell_index": 28
      }
     ]
    },
    "dee5c5719e9c4552aa124e29f3af929e": {
     "views": [
      {
       "cell_index": 28
      }
     ]
    },
    "df4217b2947f4aa984862b2598710912": {
     "views": [
      {
       "cell_index": 28
      }
     ]
    },
    "df4cc40d89804a8dbbafc20b34dca9cf": {
     "views": [
      {
       "cell_index": 28
      }
     ]
    },
    "df5d817165c14b4ab837e9014a2f281f": {
     "views": [
      {
       "cell_index": 28
      }
     ]
    },
    "df788489241a4223bf95077e34ff3539": {
     "views": [
      {
       "cell_index": 28
      }
     ]
    },
    "dfd94a363a0746cb999540da2d42bd20": {
     "views": [
      {
       "cell_index": 28
      }
     ]
    },
    "e06b25bcd3dc42c0a3903c216ce95f9e": {
     "views": [
      {
       "cell_index": 28
      }
     ]
    },
    "e06f14d026554a5b851346291c5024f2": {
     "views": [
      {
       "cell_index": 28
      }
     ]
    },
    "e0ecaa49e4224a6dbff8953ba0d2648e": {
     "views": [
      {
       "cell_index": 28
      }
     ]
    },
    "e1bd059034914f66ac1e75a3e6968a9d": {
     "views": [
      {
       "cell_index": 28
      }
     ]
    },
    "e1d3e0419a9549e586a78cf60836ba3a": {
     "views": [
      {
       "cell_index": 28
      }
     ]
    },
    "e1fc42ea7e08409f95df03e583ab19a8": {
     "views": [
      {
       "cell_index": 28
      }
     ]
    },
    "e2182c21f2b34203b7b9dcb183fb30e7": {
     "views": [
      {
       "cell_index": 28
      }
     ]
    },
    "e2594e029faa4cfc8384aa2c675979e5": {
     "views": [
      {
       "cell_index": 28
      }
     ]
    },
    "e2c88b12ad984cadbb0b017e0e977cbc": {
     "views": [
      {
       "cell_index": 28
      }
     ]
    },
    "e2d6932d8c2d46d2aa4660d6726d1965": {
     "views": [
      {
       "cell_index": 28
      }
     ]
    },
    "e2dfa52d940245429b981a3aee21af37": {
     "views": [
      {
       "cell_index": 28
      }
     ]
    },
    "e306c3dfc2884ec88a96db6795c06b22": {
     "views": [
      {
       "cell_index": 28
      }
     ]
    },
    "e38b38eb471c4386998b68dda80613ba": {
     "views": [
      {
       "cell_index": 28
      }
     ]
    },
    "e3bfe9172cb048baad82b104c0edf881": {
     "views": [
      {
       "cell_index": 28
      }
     ]
    },
    "e48d914698384ac98f5a64ead98e2d81": {
     "views": [
      {
       "cell_index": 28
      }
     ]
    },
    "e503da28407e4f02893c2bed221584ec": {
     "views": [
      {
       "cell_index": 28
      }
     ]
    },
    "e580c4ff6c134606b578a9847bf9c319": {
     "views": [
      {
       "cell_index": 28
      }
     ]
    },
    "e58904b9aa27479a8d0258bd77690eba": {
     "views": [
      {
       "cell_index": 28
      }
     ]
    },
    "e5ad8f24b8a54d6eb3901badb0b99cd3": {
     "views": [
      {
       "cell_index": 28
      }
     ]
    },
    "e600d37ef9994639a3bfeb270cd1ab48": {
     "views": [
      {
       "cell_index": 28
      }
     ]
    },
    "e6496baa6068485fa49a1f24d5680834": {
     "views": [
      {
       "cell_index": 28
      }
     ]
    },
    "e6594308658e41c1951dae1ccd31eb4d": {
     "views": [
      {
       "cell_index": 28
      }
     ]
    },
    "e6691f7e18e24e28ae1a6b2085158436": {
     "views": [
      {
       "cell_index": 28
      }
     ]
    },
    "e66dc3969ddd4b48b6156046c523ca4c": {
     "views": [
      {
       "cell_index": 28
      }
     ]
    },
    "e7039265d0a84929a2431e2b0d6e3ab9": {
     "views": [
      {
       "cell_index": 28
      }
     ]
    },
    "e727b940dbb448a097d00199590de79f": {
     "views": [
      {
       "cell_index": 28
      }
     ]
    },
    "e750d94da9f244eb98c4e6e23ef6b347": {
     "views": [
      {
       "cell_index": 28
      }
     ]
    },
    "e7a181ea47394991832c43d7fd43ffc3": {
     "views": [
      {
       "cell_index": 28
      }
     ]
    },
    "e7d7a8e5b57e43d09215e6df971079f0": {
     "views": [
      {
       "cell_index": 28
      }
     ]
    },
    "e7f82f261cb94da2bcbdd4dee1c59322": {
     "views": [
      {
       "cell_index": 28
      }
     ]
    },
    "e83a869395ac4c9e9d50dba136c293ae": {
     "views": [
      {
       "cell_index": 28
      }
     ]
    },
    "e937aac56dc44c0080faaa4e1d4f5997": {
     "views": [
      {
       "cell_index": 28
      }
     ]
    },
    "e93ecd86205b4f9c826c534ead1de703": {
     "views": [
      {
       "cell_index": 28
      }
     ]
    },
    "e94a20cb0f3a41c2a9ef08f958639333": {
     "views": [
      {
       "cell_index": 28
      }
     ]
    },
    "e9b7f2c5f7eb48a5b1f295907ed6fec1": {
     "views": [
      {
       "cell_index": 28
      }
     ]
    },
    "e9f872a23c374eb284db2df5c5caf348": {
     "views": [
      {
       "cell_index": 28
      }
     ]
    },
    "ea47c3471434474ebe273bcf7b581811": {
     "views": [
      {
       "cell_index": 28
      }
     ]
    },
    "ea6904f1bd4f4dd6be08d62fb77388c4": {
     "views": [
      {
       "cell_index": 28
      }
     ]
    },
    "ea71ee8405e3487da1137fffdd0b42b2": {
     "views": [
      {
       "cell_index": 28
      }
     ]
    },
    "ea79ec8366b44116aff9b7ac479b8fd2": {
     "views": [
      {
       "cell_index": 28
      }
     ]
    },
    "ea7d7c9f160a49d19e584d40413ab7aa": {
     "views": [
      {
       "cell_index": 28
      }
     ]
    },
    "ea95d9ac67d64cd5846e9a09a4e2cad5": {
     "views": [
      {
       "cell_index": 28
      }
     ]
    },
    "eafc8ee2f99e46f6ad37e334c7c42e7d": {
     "views": [
      {
       "cell_index": 28
      }
     ]
    },
    "eb4fafeac66a4a7dbefb095c647ff8cb": {
     "views": [
      {
       "cell_index": 28
      }
     ]
    },
    "eb8abb16aab54116ba697b9db00abd92": {
     "views": [
      {
       "cell_index": 28
      }
     ]
    },
    "ebbe74d8895b4632894c994c589a8bd5": {
     "views": [
      {
       "cell_index": 28
      }
     ]
    },
    "ebdac6d1db8543f181002f6771fea7be": {
     "views": [
      {
       "cell_index": 28
      }
     ]
    },
    "ec5297285ed147ec99a1da596407fa88": {
     "views": [
      {
       "cell_index": 28
      }
     ]
    },
    "ed4c4c9aff504ae587dc1703e04bf4a8": {
     "views": [
      {
       "cell_index": 28
      }
     ]
    },
    "ed75d42c52bb4ad08f4eaa86e70ee922": {
     "views": [
      {
       "cell_index": 28
      }
     ]
    },
    "edaddc5fedda414cb227780e2fa5d641": {
     "views": [
      {
       "cell_index": 28
      }
     ]
    },
    "ee8892b09c364cbf8e31f5f8760a9ec1": {
     "views": [
      {
       "cell_index": 28
      }
     ]
    },
    "efa8185570eb4962a32389dd6df2b448": {
     "views": [
      {
       "cell_index": 28
      }
     ]
    },
    "efbb88fb1d2846af84e4e62cc23d764b": {
     "views": [
      {
       "cell_index": 28
      }
     ]
    },
    "f063fc39861c4eb5a649a27540bb21c6": {
     "views": [
      {
       "cell_index": 28
      }
     ]
    },
    "f08e6e993bd14aa28a7aaf3fd944ce15": {
     "views": [
      {
       "cell_index": 28
      }
     ]
    },
    "f0c6a05c3db9468db45fe42b1d83ffbe": {
     "views": [
      {
       "cell_index": 28
      }
     ]
    },
    "f0c935fda6724f41bcef50fad20a63e6": {
     "views": [
      {
       "cell_index": 28
      }
     ]
    },
    "f0e8d892a5ce476788af836b01b5c3e5": {
     "views": [
      {
       "cell_index": 28
      }
     ]
    },
    "f13089ec05bf4fc4b6f3bf5ad8e156fc": {
     "views": [
      {
       "cell_index": 28
      }
     ]
    },
    "f14e6f96f112425a813f3f2c05b8344c": {
     "views": [
      {
       "cell_index": 28
      }
     ]
    },
    "f150c6c7b327475aa8505225461c23ac": {
     "views": [
      {
       "cell_index": 28
      }
     ]
    },
    "f18661636e0b4398ae2185e4ac521796": {
     "views": [
      {
       "cell_index": 28
      }
     ]
    },
    "f2630a5d89b44dfa9f69c27ed23ee9e1": {
     "views": [
      {
       "cell_index": 28
      }
     ]
    },
    "f267ae3b523c47a0876179af2e31a44f": {
     "views": [
      {
       "cell_index": 28
      }
     ]
    },
    "f30a7a440a9f4927826d47d4b78bf128": {
     "views": [
      {
       "cell_index": 28
      }
     ]
    },
    "f3334f687d624e8f92af512663380b30": {
     "views": [
      {
       "cell_index": 28
      }
     ]
    },
    "f4332cedfb3e4eabbd328dccba24e318": {
     "views": [
      {
       "cell_index": 28
      }
     ]
    },
    "f4bede4154604773bd65aaae3ae5b950": {
     "views": [
      {
       "cell_index": 28
      }
     ]
    },
    "f4cd0f3d915b4c5ab5e2372db6db325b": {
     "views": [
      {
       "cell_index": 28
      }
     ]
    },
    "f5a3aa0c95144a919d4a3c66a963b2ab": {
     "views": [
      {
       "cell_index": 28
      }
     ]
    },
    "f5d486d9d2334477a287f8319c4a0445": {
     "views": [
      {
       "cell_index": 28
      }
     ]
    },
    "f61fb08e8137499f8c03098bb0484118": {
     "views": [
      {
       "cell_index": 28
      }
     ]
    },
    "f63e1b603c7240c498aeead087e47cc9": {
     "views": [
      {
       "cell_index": 28
      }
     ]
    },
    "f667a15d21bf4b9e929ef1ba3fbd3454": {
     "views": [
      {
       "cell_index": 28
      }
     ]
    },
    "f69266b7bde740458c4dbc00be81579a": {
     "views": [
      {
       "cell_index": 28
      }
     ]
    },
    "f697de628ee44ac1b3febeb7bd28e29b": {
     "views": [
      {
       "cell_index": 28
      }
     ]
    },
    "f6d6b12510e54d8baefd91758d41140b": {
     "views": [
      {
       "cell_index": 28
      }
     ]
    },
    "f71d0284ab2e44f88b3426cb7d40ee52": {
     "views": [
      {
       "cell_index": 28
      }
     ]
    },
    "f72fc3a6ae6243fc864823a0108c2d2e": {
     "views": [
      {
       "cell_index": 28
      }
     ]
    },
    "f732a3748d704c14bbc3a284a9407d29": {
     "views": [
      {
       "cell_index": 28
      }
     ]
    },
    "f756528c3a0749b8b061344b4cc56940": {
     "views": [
      {
       "cell_index": 28
      }
     ]
    },
    "f76b0d96b7564a5eaf4abe0427aac2a0": {
     "views": [
      {
       "cell_index": 28
      }
     ]
    },
    "f7fca3024e7c4e3899e2ccebed91c7be": {
     "views": [
      {
       "cell_index": 28
      }
     ]
    },
    "f8569007a52a4606b5e734a24195607d": {
     "views": [
      {
       "cell_index": 28
      }
     ]
    },
    "f89af5bd2f8248959a45d943a321a345": {
     "views": [
      {
       "cell_index": 28
      }
     ]
    },
    "f8b07fd5cd584ecf8b5e3a1df7cb5133": {
     "views": [
      {
       "cell_index": 28
      }
     ]
    },
    "f8d618a7c38a4e0eb3d54ff965107491": {
     "views": [
      {
       "cell_index": 28
      }
     ]
    },
    "f91fa8848ff04f0c9a6c19e743b35bb8": {
     "views": [
      {
       "cell_index": 28
      }
     ]
    },
    "f9f20c4614f84308960a086903ce2c0c": {
     "views": [
      {
       "cell_index": 28
      }
     ]
    },
    "fa13bc88593347789d426e02767c0a76": {
     "views": [
      {
       "cell_index": 28
      }
     ]
    },
    "fa1906f23b864fe3af14574dd0d80e4e": {
     "views": [
      {
       "cell_index": 28
      }
     ]
    },
    "fa1ebffb012b42448457fd21652e9e67": {
     "views": [
      {
       "cell_index": 28
      }
     ]
    },
    "fa327267002547e1b04f48c3e9270199": {
     "views": [
      {
       "cell_index": 28
      }
     ]
    },
    "fa953c1fb4974810ac0039464b73cb41": {
     "views": [
      {
       "cell_index": 28
      }
     ]
    },
    "fabbf418af544c7b98e31fb2e17bbc82": {
     "views": [
      {
       "cell_index": 28
      }
     ]
    },
    "fb01d14e8a774cda8fdea3a6b40c6c74": {
     "views": [
      {
       "cell_index": 28
      }
     ]
    },
    "fb06a849fb714bea890790ec447abaa2": {
     "views": [
      {
       "cell_index": 28
      }
     ]
    },
    "fbb2f572319d4e6ea68c18f0083a8930": {
     "views": [
      {
       "cell_index": 28
      }
     ]
    },
    "fbfbaa4e54ff46b681250038d17f8fc3": {
     "views": [
      {
       "cell_index": 28
      }
     ]
    },
    "fc7e2726e11f4d91bb35bd6e67b692a7": {
     "views": [
      {
       "cell_index": 28
      }
     ]
    },
    "fd1181f4812140b0b286fe1d5ee7e0ca": {
     "views": [
      {
       "cell_index": 28
      }
     ]
    },
    "fd229abce71f4e568d7ecd84dad0ad41": {
     "views": [
      {
       "cell_index": 28
      }
     ]
    },
    "fd57f8ad5d524f8b982736a300aa614a": {
     "views": [
      {
       "cell_index": 28
      }
     ]
    },
    "fe2bc6047b1b47b090078a17e314f4a9": {
     "views": [
      {
       "cell_index": 28
      }
     ]
    },
    "fe6f0b5af45342bdbbbfda9c0eb7809a": {
     "views": [
      {
       "cell_index": 28
      }
     ]
    },
    "fea239305dfb44e1a57c515f4d4f7a0a": {
     "views": [
      {
       "cell_index": 28
      }
     ]
    },
    "febd212f012e4bb09fbbbb0f2431fb9d": {
     "views": [
      {
       "cell_index": 28
      }
     ]
    },
    "ff4f8397293b47e1997dc5498071cab0": {
     "views": [
      {
       "cell_index": 28
      }
     ]
    },
    "ff65bf2fed30484f9a7d26cae17989bf": {
     "views": [
      {
       "cell_index": 28
      }
     ]
    },
    "ff746d495de3475ea36c85fded4df3f8": {
     "views": [
      {
       "cell_index": 28
      }
     ]
    },
    "ffa7ce6aa34e44618dcafe52d1285ba9": {
     "views": [
      {
       "cell_index": 28
      }
     ]
    }
   },
   "version": "1.2.0"
  }
 },
 "nbformat": 4,
 "nbformat_minor": 2
}
