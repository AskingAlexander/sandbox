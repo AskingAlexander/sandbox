{
 "cells": [
  {
   "cell_type": "code",
   "execution_count": 1,
   "metadata": {
    "ExecuteTime": {
     "end_time": "2018-10-07T14:08:39.798131Z",
     "start_time": "2018-10-07T14:08:39.570231Z"
    }
   },
   "outputs": [],
   "source": [
    "%load_ext autoreload\n",
    "%matplotlib inline\n",
    "%autoreload 2"
   ]
  },
  {
   "cell_type": "code",
   "execution_count": 2,
   "metadata": {
    "ExecuteTime": {
     "end_time": "2018-10-07T14:08:41.350208Z",
     "start_time": "2018-10-07T14:08:39.799866Z"
    }
   },
   "outputs": [
    {
     "name": "stderr",
     "output_type": "stream",
     "text": [
      "/home/brian/anaconda3/lib/python3.6/site-packages/h5py/__init__.py:36: FutureWarning: Conversion of the second argument of issubdtype from `float` to `np.floating` is deprecated. In future, it will be treated as `np.float64 == np.dtype(float).type`.\n",
      "  from ._conv import register_converters as _register_converters\n",
      "Using TensorFlow backend.\n"
     ]
    }
   ],
   "source": [
    "import numpy as np\n",
    "import os\n",
    "import time\n",
    "import h5py\n",
    "import keras\n",
    "import pandas as pd\n",
    "import math\n",
    "import joblib\n",
    "import matplotlib.pyplot as plt\n",
    "\n",
    "from fuel.datasets.hdf5 import H5PYDataset\n",
    "\n",
    "from scipy.stats import norm\n",
    "from scipy.special import logsumexp\n",
    "from IPython.display import display\n",
    "\n",
    "from keras.layers import (Input, Dense, Lambda, Flatten, Reshape, BatchNormalization, \n",
    "                          Activation, Dropout, Conv2D, Conv2DTranspose,\n",
    "                          Concatenate, Add, Multiply)\n",
    "from keras.regularizers import l2\n",
    "from keras.initializers import RandomUniform\n",
    "from keras.optimizers import RMSprop, Adam, SGD\n",
    "from keras.models import Model\n",
    "from keras import metrics\n",
    "from keras import backend as K\n",
    "from keras_tqdm import TQDMNotebookCallback\n",
    "from keras.datasets import mnist"
   ]
  },
  {
   "cell_type": "markdown",
   "metadata": {},
   "source": [
    "## Variational Autoencoder Parameters"
   ]
  },
  {
   "cell_type": "code",
   "execution_count": 3,
   "metadata": {
    "ExecuteTime": {
     "end_time": "2018-10-07T14:08:41.376189Z",
     "start_time": "2018-10-07T14:08:41.352057Z"
    }
   },
   "outputs": [],
   "source": [
    "img_rows, img_cols, img_chns = 28, 28, 1\n",
    "\n",
    "if K.image_data_format() == 'channels_first':\n",
    "    original_img_size = (mg_chns, img_rows, imgi_cols)\n",
    "else:\n",
    "    original_img_size = (img_rows, img_cols, img_chns)\n",
    "\n",
    "batch_size = 100\n",
    "latent_dim = 32\n",
    "intermediate_dim = 128\n",
    "epsilon_std = 1.0\n",
    "epochs = 200\n",
    "activation = 'relu'\n",
    "dropout = 0.0\n",
    "learning_rate = 0.001\n",
    "decay = 0.0"
   ]
  },
  {
   "cell_type": "markdown",
   "metadata": {},
   "source": [
    "## Load MNIST dataset"
   ]
  },
  {
   "cell_type": "code",
   "execution_count": 4,
   "metadata": {
    "ExecuteTime": {
     "end_time": "2018-10-07T14:08:55.323018Z",
     "start_time": "2018-10-07T14:08:41.377991Z"
    }
   },
   "outputs": [],
   "source": [
    "# Hugo Larochelle's Binarized MNIST\n",
    "from mlio import *\n",
    "def load_binarized_mnist(dir_path,load_to_memory=False):\n",
    "    \"\"\"\n",
    "    Loads a binarized version of MNIST. \n",
    "\n",
    "    The data is given by a dictionary mapping from strings\n",
    "    ``'train'``, ``'valid'`` and ``'test'`` to the associated pair of data and metadata.\n",
    "    \n",
    "    **Defined metadata:**\n",
    "\n",
    "    * ``'input_size'``\n",
    "    * ``'length'``\n",
    "\n",
    "    \"\"\"\n",
    "    input_size=784\n",
    "    dir_path = os.path.expanduser(dir_path)\n",
    "    def load_line(line):\n",
    "        tokens = line.split()\n",
    "        return np.array([int(i) for i in tokens])\n",
    "\n",
    "    train_file,valid_file,test_file = [os.path.join(dir_path, 'binarized_mnist_' + ds + '.amat') for ds in ['train','valid','test']]\n",
    "    # Get data\n",
    "    train,valid,test = [load_from_file(f,load_line) for f in [train_file,valid_file,test_file]]\n",
    "\n",
    "    lengths = [50000,10000,10000]\n",
    "    if load_to_memory:\n",
    "        train,valid,test = [MemoryDataset(d,[(input_size,)],[np.float64],l) for d,l in zip([train,valid,test],lengths)]\n",
    "        \n",
    "    # Get metadata\n",
    "    train_meta,valid_meta,test_meta = [{'input_size':input_size,\n",
    "                              'length':l} for l in lengths]\n",
    "    \n",
    "    return {'train':(train,train_meta),'valid':(valid,valid_meta),'test':(test,test_meta)}\n",
    "\n",
    "values = load_binarized_mnist('../../data/binarized_mnist', load_to_memory=True)"
   ]
  },
  {
   "cell_type": "code",
   "execution_count": 5,
   "metadata": {
    "ExecuteTime": {
     "end_time": "2018-10-07T14:08:55.349029Z",
     "start_time": "2018-10-07T14:08:55.324559Z"
    }
   },
   "outputs": [
    {
     "name": "stdout",
     "output_type": "stream",
     "text": [
      "(50000, 28, 28, 1)\n",
      "(10000, 28, 28, 1)\n",
      "(10000, 28, 28, 1)\n"
     ]
    }
   ],
   "source": [
    "# Binarized MNIST\n",
    "# (X_train, y_train), (X_test, y_test) = mnist.load_data()\n",
    "# X_train = np.round(X_train.reshape(X_train.shape[0], img_rows, img_cols, 1) / 255.)\n",
    "# X_test = np.round(X_test.reshape(X_test.shape[0], img_rows, img_cols, 1) / 255.)\n",
    "\n",
    "def reshape_data(data):\n",
    "    return data.reshape(data.shape[0], img_rows, img_cols, 1)\n",
    "\n",
    "X_train = reshape_data(values['train'][0].mem_data[0])\n",
    "X_valid = reshape_data(values['valid'][0].mem_data[0])\n",
    "X_test = reshape_data(values['test'][0].mem_data[0])\n",
    "\n",
    "print(X_train.shape)\n",
    "print(X_valid.shape)\n",
    "print(X_test.shape)"
   ]
  },
  {
   "cell_type": "code",
   "execution_count": 6,
   "metadata": {
    "ExecuteTime": {
     "end_time": "2018-10-07T14:08:55.645866Z",
     "start_time": "2018-10-07T14:08:55.350770Z"
    }
   },
   "outputs": [
    {
     "data": {
      "image/png": "[encoded data removed]",
      "text/plain": [
       "<Figure size 720x720 with 1 Axes>"
      ]
     },
     "metadata": {},
     "output_type": "display_data"
    }
   ],
   "source": [
    "def display_digits(X, digit_size=28, n=10):\n",
    "    figure = np.zeros((digit_size * n, digit_size * n))\n",
    "    \n",
    "    for i in range(n):\n",
    "        for j in range(n):\n",
    "            index = np.random.randint(0, X.shape[0])\n",
    "            digit = X[index].reshape(digit_size, digit_size)\n",
    "            \n",
    "            x = i * digit_size\n",
    "            y = j * digit_size\n",
    "            figure[x:x + digit_size, y:y + digit_size] = digit\n",
    "    \n",
    "    plt.figure(figsize=(n, n))\n",
    "    plt.imshow(figure, cmap='Greys_r')\n",
    "    plt.show()\n",
    "    \n",
    "display_digits(X_train)"
   ]
  },
  {
   "cell_type": "markdown",
   "metadata": {},
   "source": [
    "# Helper Functions"
   ]
  },
  {
   "cell_type": "code",
   "execution_count": 7,
   "metadata": {
    "ExecuteTime": {
     "end_time": "2018-10-07T14:08:55.677033Z",
     "start_time": "2018-10-07T14:08:55.647314Z"
    }
   },
   "outputs": [],
   "source": [
    "def create_dense_layers(stage, width, activation=activation, dropout=True):\n",
    "    dense_name = '_'.join(['enc_conv', str(stage)])\n",
    "    bn_name = '_'.join(['enc_bn', str(stage)])\n",
    "    layers = [\n",
    "        Dense(width, name=dense_name),\n",
    "        Activation(activation),\n",
    "    ]\n",
    "    if dropout:\n",
    "        layers.append(Dropout(dropout))\n",
    "    return layers\n",
    "\n",
    "def inst_layers(layers, in_layer):\n",
    "    x = in_layer\n",
    "    for layer in layers:\n",
    "        if isinstance(layer, list):\n",
    "            x = inst_layers(layer, x)\n",
    "        else:\n",
    "            x = layer(x)\n",
    "        \n",
    "    return x\n",
    "\n",
    "def epsilon(args, batch_size=batch_size, latent_dim=latent_dim, epsilon_std=epsilon_std):\n",
    "    return K.random_normal(shape=(batch_size, latent_dim), mean=0., stddev=epsilon_std)\n",
    "\n",
    "def combine_z_0(args, batch_size=batch_size, latent_dim=latent_dim, epsilon_std=epsilon_std):\n",
    "    eps, z_mean, z_log_sigma = args\n",
    "    return z_mean + K.exp(z_log_sigma) * eps"
   ]
  },
  {
   "cell_type": "code",
   "execution_count": 8,
   "metadata": {
    "ExecuteTime": {
     "end_time": "2018-10-07T14:08:55.776603Z",
     "start_time": "2018-10-07T14:08:55.687047Z"
    }
   },
   "outputs": [],
   "source": [
    "def create_enc_conv_layers(stage, **kwargs):\n",
    "    conv_name = '_'.join(['enc_conv', str(stage)])\n",
    "    bn_name = '_'.join(['enc_bn', str(stage)])\n",
    "    layers = [\n",
    "        Conv2D(name=conv_name, **kwargs),\n",
    "        Activation(activation),\n",
    "    ]\n",
    "    return layers\n",
    "\n",
    "def create_dense_layers(stage, width):\n",
    "    dense_name = '_'.join(['enc_dense', str(stage)])\n",
    "    bn_name = '_'.join(['enc_bn', str(stage)])\n",
    "    layers = [\n",
    "        Dense(width, name=dense_name),\n",
    "        BatchNormalization(name=bn_name),\n",
    "        Activation(activation),\n",
    "        Dropout(dropout),\n",
    "    ]\n",
    "    return layers\n",
    "\n",
    "def inst_layers(layers, in_layer):\n",
    "    x = in_layer\n",
    "    for layer in layers:\n",
    "        if isinstance(layer, list):\n",
    "            x = inst_layers(layer, x)\n",
    "        else:\n",
    "            x = layer(x)\n",
    "        \n",
    "    return x\n",
    "\n",
    "def create_dec_trans_conv_layers(stage, **kwargs):\n",
    "    conv_name = '_'.join(['dec_trans_conv', str(stage)])\n",
    "    bn_name = '_'.join(['dec_bn', str(stage)])\n",
    "    layers = [\n",
    "        Conv2DTranspose(name=conv_name, **kwargs),\n",
    "        Activation(activation),\n",
    "    ]\n",
    "    return layers"
   ]
  },
  {
   "cell_type": "markdown",
   "metadata": {},
   "source": [
    "## Loss Function"
   ]
  },
  {
   "cell_type": "code",
   "execution_count": 9,
   "metadata": {
    "ExecuteTime": {
     "end_time": "2018-10-07T14:08:55.920474Z",
     "start_time": "2018-10-07T14:08:55.786888Z"
    },
    "scrolled": true
   },
   "outputs": [],
   "source": [
    "def logpz(x, x_decoded_mean):\n",
    "    return -K.sum(0.5 * np.log(2*math.pi) + 0.5 * z ** 2, axis=-1)\n",
    "\n",
    "def logqz_x(x, x_decoded_mean):\n",
    "    return -K.sum(0.5 * np.log(2*math.pi) + 0.5 * e_0 ** 2 + z_log_sigma, axis=-1)\n",
    "\n",
    "def logpx_z(x, x_decoded_mean):\n",
    "    x = K.flatten(x)\n",
    "    x_decoded_mean = K.flatten(x_decoded_mean)\n",
    "    xent_loss = img_rows * img_cols * img_chns * metrics.binary_crossentropy(x, x_decoded_mean)\n",
    "    return -xent_loss\n",
    "\n",
    "def vae_loss(x, x_decoded_mean):\n",
    "    # ELBO: - [logp(x|z) + logp(z) - logq(z|x)] = -logp(x|z) - logp(z) + logq(z|x)\n",
    "    return K.mean(-logpx_z(x, x_decoded_mean) - logpz(x, x_decoded_mean) + logqz_x(x, x_decoded_mean), axis=-1)"
   ]
  },
  {
   "cell_type": "markdown",
   "metadata": {},
   "source": [
    "# Basic VAE"
   ]
  },
  {
   "cell_type": "code",
   "execution_count": 10,
   "metadata": {
    "ExecuteTime": {
     "end_time": "2018-10-07T14:08:56.499578Z",
     "start_time": "2018-10-07T14:08:55.923577Z"
    }
   },
   "outputs": [],
   "source": [
    "# Encoder\n",
    "enc_filters=32\n",
    "enc_layers = [\n",
    "    create_enc_conv_layers(stage=1, filters=enc_filters, kernel_size=3, strides=1, padding='same'),\n",
    "    create_enc_conv_layers(stage=2, filters=enc_filters, kernel_size=3, strides=1, padding='same'),\n",
    "    create_enc_conv_layers(stage=3, filters=enc_filters, kernel_size=3, strides=2, padding='same'),\n",
    "    Flatten(),\n",
    "    create_dense_layers(stage=4, width=intermediate_dim),\n",
    "    create_dense_layers(stage=5, width=intermediate_dim),\n",
    "]\n",
    "x_input = Input(shape=original_img_size)\n",
    "_enc_dense = inst_layers(enc_layers, x_input)\n",
    "\n",
    "# Original z_0\n",
    "_z_mean_0 = Dense(latent_dim)(_enc_dense)\n",
    "_z_log_sigma_0 = Dense(latent_dim)(_enc_dense)\n",
    "encoder = Model(inputs=x_input, outputs=[_z_mean_0, _z_log_sigma_0])\n",
    "\n",
    "# Decoder\n",
    "dec_filters = 32\n",
    "decoder_layers = [\n",
    "    create_dense_layers(stage=10, width=intermediate_dim),\n",
    "    create_dense_layers(stage=11, width=14 * 14 * 64),\n",
    "    Reshape((14, 14, 64)),\n",
    "    create_dec_trans_conv_layers(12, filters=dec_filters, kernel_size=3, strides=1, padding='same'),\n",
    "    create_dec_trans_conv_layers(13, filters=dec_filters, kernel_size=3, strides=1, padding='same'),\n",
    "    create_dec_trans_conv_layers(14, filters=dec_filters, kernel_size=3, strides=2, padding='same'),\n",
    "    Conv2DTranspose(name='x_decoded', filters=1, kernel_size=1, strides=1, activation='sigmoid'),\n",
    "]\n",
    "z_input = Input(shape=(latent_dim,))\n",
    "_dec_dense = inst_layers(decoder_layers, z_input)\n",
    "decoder_output = _dec_dense\n",
    "decoder = Model(inputs=z_input, outputs=decoder_output)"
   ]
  },
  {
   "cell_type": "code",
   "execution_count": 11,
   "metadata": {
    "ExecuteTime": {
     "end_time": "2018-10-07T14:08:56.965188Z",
     "start_time": "2018-10-07T14:08:56.501262Z"
    },
    "scrolled": true
   },
   "outputs": [
    {
     "name": "stdout",
     "output_type": "stream",
     "text": [
      "__________________________________________________________________________________________________\n",
      "Layer (type)                    Output Shape         Param #     Connected to                     \n",
      "==================================================================================================\n",
      "input_3 (InputLayer)            (None, 28, 28, 1)    0                                            \n",
      "__________________________________________________________________________________________________\n",
      "model_1 (Model)                 [(None, 32), (None,  847552      input_3[0][0]                    \n",
      "__________________________________________________________________________________________________\n",
      "lambda_1 (Lambda)               (100, 32)            0           model_1[1][0]                    \n",
      "__________________________________________________________________________________________________\n",
      "lambda_2 (Lambda)               (100, 32)            0           lambda_1[0][0]                   \n",
      "                                                                 model_1[1][0]                    \n",
      "                                                                 model_1[1][1]                    \n",
      "__________________________________________________________________________________________________\n",
      "model_2 (Model)                 multiple             1710081     lambda_2[0][0]                   \n",
      "==================================================================================================\n",
      "Total params: 2,557,633\n",
      "Trainable params: 2,531,777\n",
      "Non-trainable params: 25,856\n",
      "__________________________________________________________________________________________________\n"
     ]
    }
   ],
   "source": [
    "g_input = Input(shape=original_img_size)\n",
    "z_mean, z_log_sigma = encoder(g_input)\n",
    "e_0 = Lambda(epsilon)(z_mean)\n",
    "z = Lambda(combine_z_0, output_shape=(latent_dim,))([e_0, z_mean, z_log_sigma])\n",
    "g_output = decoder(z)\n",
    "\n",
    "vae = Model(inputs=g_input, outputs=g_output)\n",
    "optimizer = Adam(lr=learning_rate, decay=decay)\n",
    "vae.compile(optimizer=optimizer, loss=vae_loss)\n",
    "vae.summary()"
   ]
  },
  {
   "cell_type": "code",
   "execution_count": 12,
   "metadata": {
    "ExecuteTime": {
     "end_time": "2018-10-07T14:17:12.204094Z",
     "start_time": "2018-10-07T14:08:56.968244Z"
    },
    "scrolled": true
   },
   "outputs": [
    {
     "data": {
      "application/vnd.jupyter.widget-view+json": {
       "model_id": "2a1689946ede44ec8264708f80aa9a47",
       "version_major": 2,
       "version_minor": 0
      },
      "text/plain": [
       "HBox(children=(IntProgress(value=0, description='Training', max=200), HTML(value='')))"
      ]
     },
     "metadata": {},
     "output_type": "display_data"
    },
    {
     "data": {
      "application/vnd.jupyter.widget-view+json": {
       "model_id": "",
       "version_major": 2,
       "version_minor": 0
      },
      "text/plain": [
       "HBox(children=(IntProgress(value=0, description='Epoch 0', max=50000), HTML(value='')))"
      ]
     },
     "metadata": {},
     "output_type": "display_data"
    },
    {
     "data": {
      "application/vnd.jupyter.widget-view+json": {
       "model_id": "",
       "version_major": 2,
       "version_minor": 0
      },
      "text/plain": [
       "HBox(children=(IntProgress(value=0, description='Epoch 1', max=50000), HTML(value='')))"
      ]
     },
     "metadata": {},
     "output_type": "display_data"
    },
    {
     "data": {
      "application/vnd.jupyter.widget-view+json": {
       "model_id": "",
       "version_major": 2,
       "version_minor": 0
      },
      "text/plain": [
       "HBox(children=(IntProgress(value=0, description='Epoch 2', max=50000), HTML(value='')))"
      ]
     },
     "metadata": {},
     "output_type": "display_data"
    },
    {
     "data": {
      "application/vnd.jupyter.widget-view+json": {
       "model_id": "",
       "version_major": 2,
       "version_minor": 0
      },
      "text/plain": [
       "HBox(children=(IntProgress(value=0, description='Epoch 3', max=50000), HTML(value='')))"
      ]
     },
     "metadata": {},
     "output_type": "display_data"
    },
    {
     "data": {
      "application/vnd.jupyter.widget-view+json": {
       "model_id": "",
       "version_major": 2,
       "version_minor": 0
      },
      "text/plain": [
       "HBox(children=(IntProgress(value=0, description='Epoch 4', max=50000), HTML(value='')))"
      ]
     },
     "metadata": {},
     "output_type": "display_data"
    },
    {
     "data": {
      "application/vnd.jupyter.widget-view+json": {
       "model_id": "",
       "version_major": 2,
       "version_minor": 0
      },
      "text/plain": [
       "HBox(children=(IntProgress(value=0, description='Epoch 5', max=50000), HTML(value='')))"
      ]
     },
     "metadata": {},
     "output_type": "display_data"
    },
    {
     "data": {
      "application/vnd.jupyter.widget-view+json": {
       "model_id": "",
       "version_major": 2,
       "version_minor": 0
      },
      "text/plain": [
       "HBox(children=(IntProgress(value=0, description='Epoch 6', max=50000), HTML(value='')))"
      ]
     },
     "metadata": {},
     "output_type": "display_data"
    },
    {
     "data": {
      "application/vnd.jupyter.widget-view+json": {
       "model_id": "",
       "version_major": 2,
       "version_minor": 0
      },
      "text/plain": [
       "HBox(children=(IntProgress(value=0, description='Epoch 7', max=50000), HTML(value='')))"
      ]
     },
     "metadata": {},
     "output_type": "display_data"
    },
    {
     "data": {
      "application/vnd.jupyter.widget-view+json": {
       "model_id": "",
       "version_major": 2,
       "version_minor": 0
      },
      "text/plain": [
       "HBox(children=(IntProgress(value=0, description='Epoch 8', max=50000), HTML(value='')))"
      ]
     },
     "metadata": {},
     "output_type": "display_data"
    },
    {
     "data": {
      "application/vnd.jupyter.widget-view+json": {
       "model_id": "",
       "version_major": 2,
       "version_minor": 0
      },
      "text/plain": [
       "HBox(children=(IntProgress(value=0, description='Epoch 9', max=50000), HTML(value='')))"
      ]
     },
     "metadata": {},
     "output_type": "display_data"
    },
    {
     "data": {
      "application/vnd.jupyter.widget-view+json": {
       "model_id": "",
       "version_major": 2,
       "version_minor": 0
      },
      "text/plain": [
       "HBox(children=(IntProgress(value=0, description='Epoch 10', max=50000), HTML(value='')))"
      ]
     },
     "metadata": {},
     "output_type": "display_data"
    },
    {
     "data": {
      "application/vnd.jupyter.widget-view+json": {
       "model_id": "",
       "version_major": 2,
       "version_minor": 0
      },
      "text/plain": [
       "HBox(children=(IntProgress(value=0, description='Epoch 11', max=50000), HTML(value='')))"
      ]
     },
     "metadata": {},
     "output_type": "display_data"
    },
    {
     "data": {
      "application/vnd.jupyter.widget-view+json": {
       "model_id": "",
       "version_major": 2,
       "version_minor": 0
      },
      "text/plain": [
       "HBox(children=(IntProgress(value=0, description='Epoch 12', max=50000), HTML(value='')))"
      ]
     },
     "metadata": {},
     "output_type": "display_data"
    },
    {
     "data": {
      "application/vnd.jupyter.widget-view+json": {
       "model_id": "",
       "version_major": 2,
       "version_minor": 0
      },
      "text/plain": [
       "HBox(children=(IntProgress(value=0, description='Epoch 13', max=50000), HTML(value='')))"
      ]
     },
     "metadata": {},
     "output_type": "display_data"
    },
    {
     "data": {
      "application/vnd.jupyter.widget-view+json": {
       "model_id": "",
       "version_major": 2,
       "version_minor": 0
      },
      "text/plain": [
       "HBox(children=(IntProgress(value=0, description='Epoch 14', max=50000), HTML(value='')))"
      ]
     },
     "metadata": {},
     "output_type": "display_data"
    },
    {
     "data": {
      "application/vnd.jupyter.widget-view+json": {
       "model_id": "",
       "version_major": 2,
       "version_minor": 0
      },
      "text/plain": [
       "HBox(children=(IntProgress(value=0, description='Epoch 15', max=50000), HTML(value='')))"
      ]
     },
     "metadata": {},
     "output_type": "display_data"
    },
    {
     "data": {
      "application/vnd.jupyter.widget-view+json": {
       "model_id": "",
       "version_major": 2,
       "version_minor": 0
      },
      "text/plain": [
       "HBox(children=(IntProgress(value=0, description='Epoch 16', max=50000), HTML(value='')))"
      ]
     },
     "metadata": {},
     "output_type": "display_data"
    },
    {
     "data": {
      "application/vnd.jupyter.widget-view+json": {
       "model_id": "",
       "version_major": 2,
       "version_minor": 0
      },
      "text/plain": [
       "HBox(children=(IntProgress(value=0, description='Epoch 17', max=50000), HTML(value='')))"
      ]
     },
     "metadata": {},
     "output_type": "display_data"
    },
    {
     "data": {
      "application/vnd.jupyter.widget-view+json": {
       "model_id": "",
       "version_major": 2,
       "version_minor": 0
      },
      "text/plain": [
       "HBox(children=(IntProgress(value=0, description='Epoch 18', max=50000), HTML(value='')))"
      ]
     },
     "metadata": {},
     "output_type": "display_data"
    },
    {
     "data": {
      "application/vnd.jupyter.widget-view+json": {
       "model_id": "",
       "version_major": 2,
       "version_minor": 0
      },
      "text/plain": [
       "HBox(children=(IntProgress(value=0, description='Epoch 19', max=50000), HTML(value='')))"
      ]
     },
     "metadata": {},
     "output_type": "display_data"
    },
    {
     "data": {
      "application/vnd.jupyter.widget-view+json": {
       "model_id": "",
       "version_major": 2,
       "version_minor": 0
      },
      "text/plain": [
       "HBox(children=(IntProgress(value=0, description='Epoch 20', max=50000), HTML(value='')))"
      ]
     },
     "metadata": {},
     "output_type": "display_data"
    },
    {
     "data": {
      "application/vnd.jupyter.widget-view+json": {
       "model_id": "",
       "version_major": 2,
       "version_minor": 0
      },
      "text/plain": [
       "HBox(children=(IntProgress(value=0, description='Epoch 21', max=50000), HTML(value='')))"
      ]
     },
     "metadata": {},
     "output_type": "display_data"
    },
    {
     "data": {
      "application/vnd.jupyter.widget-view+json": {
       "model_id": "",
       "version_major": 2,
       "version_minor": 0
      },
      "text/plain": [
       "HBox(children=(IntProgress(value=0, description='Epoch 22', max=50000), HTML(value='')))"
      ]
     },
     "metadata": {},
     "output_type": "display_data"
    },
    {
     "data": {
      "application/vnd.jupyter.widget-view+json": {
       "model_id": "",
       "version_major": 2,
       "version_minor": 0
      },
      "text/plain": [
       "HBox(children=(IntProgress(value=0, description='Epoch 23', max=50000), HTML(value='')))"
      ]
     },
     "metadata": {},
     "output_type": "display_data"
    },
    {
     "data": {
      "application/vnd.jupyter.widget-view+json": {
       "model_id": "",
       "version_major": 2,
       "version_minor": 0
      },
      "text/plain": [
       "HBox(children=(IntProgress(value=0, description='Epoch 24', max=50000), HTML(value='')))"
      ]
     },
     "metadata": {},
     "output_type": "display_data"
    },
    {
     "data": {
      "application/vnd.jupyter.widget-view+json": {
       "model_id": "",
       "version_major": 2,
       "version_minor": 0
      },
      "text/plain": [
       "HBox(children=(IntProgress(value=0, description='Epoch 25', max=50000), HTML(value='')))"
      ]
     },
     "metadata": {},
     "output_type": "display_data"
    },
    {
     "data": {
      "application/vnd.jupyter.widget-view+json": {
       "model_id": "",
       "version_major": 2,
       "version_minor": 0
      },
      "text/plain": [
       "HBox(children=(IntProgress(value=0, description='Epoch 26', max=50000), HTML(value='')))"
      ]
     },
     "metadata": {},
     "output_type": "display_data"
    },
    {
     "data": {
      "application/vnd.jupyter.widget-view+json": {
       "model_id": "",
       "version_major": 2,
       "version_minor": 0
      },
      "text/plain": [
       "HBox(children=(IntProgress(value=0, description='Epoch 27', max=50000), HTML(value='')))"
      ]
     },
     "metadata": {},
     "output_type": "display_data"
    },
    {
     "data": {
      "application/vnd.jupyter.widget-view+json": {
       "model_id": "",
       "version_major": 2,
       "version_minor": 0
      },
      "text/plain": [
       "HBox(children=(IntProgress(value=0, description='Epoch 28', max=50000), HTML(value='')))"
      ]
     },
     "metadata": {},
     "output_type": "display_data"
    },
    {
     "data": {
      "application/vnd.jupyter.widget-view+json": {
       "model_id": "",
       "version_major": 2,
       "version_minor": 0
      },
      "text/plain": [
       "HBox(children=(IntProgress(value=0, description='Epoch 29', max=50000), HTML(value='')))"
      ]
     },
     "metadata": {},
     "output_type": "display_data"
    },
    {
     "data": {
      "application/vnd.jupyter.widget-view+json": {
       "model_id": "",
       "version_major": 2,
       "version_minor": 0
      },
      "text/plain": [
       "HBox(children=(IntProgress(value=0, description='Epoch 30', max=50000), HTML(value='')))"
      ]
     },
     "metadata": {},
     "output_type": "display_data"
    },
    {
     "data": {
      "application/vnd.jupyter.widget-view+json": {
       "model_id": "",
       "version_major": 2,
       "version_minor": 0
      },
      "text/plain": [
       "HBox(children=(IntProgress(value=0, description='Epoch 31', max=50000), HTML(value='')))"
      ]
     },
     "metadata": {},
     "output_type": "display_data"
    },
    {
     "data": {
      "application/vnd.jupyter.widget-view+json": {
       "model_id": "",
       "version_major": 2,
       "version_minor": 0
      },
      "text/plain": [
       "HBox(children=(IntProgress(value=0, description='Epoch 32', max=50000), HTML(value='')))"
      ]
     },
     "metadata": {},
     "output_type": "display_data"
    },
    {
     "data": {
      "application/vnd.jupyter.widget-view+json": {
       "model_id": "",
       "version_major": 2,
       "version_minor": 0
      },
      "text/plain": [
       "HBox(children=(IntProgress(value=0, description='Epoch 33', max=50000), HTML(value='')))"
      ]
     },
     "metadata": {},
     "output_type": "display_data"
    },
    {
     "data": {
      "application/vnd.jupyter.widget-view+json": {
       "model_id": "",
       "version_major": 2,
       "version_minor": 0
      },
      "text/plain": [
       "HBox(children=(IntProgress(value=0, description='Epoch 34', max=50000), HTML(value='')))"
      ]
     },
     "metadata": {},
     "output_type": "display_data"
    },
    {
     "data": {
      "application/vnd.jupyter.widget-view+json": {
       "model_id": "",
       "version_major": 2,
       "version_minor": 0
      },
      "text/plain": [
       "HBox(children=(IntProgress(value=0, description='Epoch 35', max=50000), HTML(value='')))"
      ]
     },
     "metadata": {},
     "output_type": "display_data"
    },
    {
     "data": {
      "application/vnd.jupyter.widget-view+json": {
       "model_id": "",
       "version_major": 2,
       "version_minor": 0
      },
      "text/plain": [
       "HBox(children=(IntProgress(value=0, description='Epoch 36', max=50000), HTML(value='')))"
      ]
     },
     "metadata": {},
     "output_type": "display_data"
    },
    {
     "data": {
      "application/vnd.jupyter.widget-view+json": {
       "model_id": "",
       "version_major": 2,
       "version_minor": 0
      },
      "text/plain": [
       "HBox(children=(IntProgress(value=0, description='Epoch 37', max=50000), HTML(value='')))"
      ]
     },
     "metadata": {},
     "output_type": "display_data"
    },
    {
     "data": {
      "application/vnd.jupyter.widget-view+json": {
       "model_id": "",
       "version_major": 2,
       "version_minor": 0
      },
      "text/plain": [
       "HBox(children=(IntProgress(value=0, description='Epoch 38', max=50000), HTML(value='')))"
      ]
     },
     "metadata": {},
     "output_type": "display_data"
    },
    {
     "data": {
      "application/vnd.jupyter.widget-view+json": {
       "model_id": "",
       "version_major": 2,
       "version_minor": 0
      },
      "text/plain": [
       "HBox(children=(IntProgress(value=0, description='Epoch 39', max=50000), HTML(value='')))"
      ]
     },
     "metadata": {},
     "output_type": "display_data"
    },
    {
     "data": {
      "application/vnd.jupyter.widget-view+json": {
       "model_id": "",
       "version_major": 2,
       "version_minor": 0
      },
      "text/plain": [
       "HBox(children=(IntProgress(value=0, description='Epoch 40', max=50000), HTML(value='')))"
      ]
     },
     "metadata": {},
     "output_type": "display_data"
    },
    {
     "data": {
      "application/vnd.jupyter.widget-view+json": {
       "model_id": "",
       "version_major": 2,
       "version_minor": 0
      },
      "text/plain": [
       "HBox(children=(IntProgress(value=0, description='Epoch 41', max=50000), HTML(value='')))"
      ]
     },
     "metadata": {},
     "output_type": "display_data"
    },
    {
     "data": {
      "application/vnd.jupyter.widget-view+json": {
       "model_id": "",
       "version_major": 2,
       "version_minor": 0
      },
      "text/plain": [
       "HBox(children=(IntProgress(value=0, description='Epoch 42', max=50000), HTML(value='')))"
      ]
     },
     "metadata": {},
     "output_type": "display_data"
    },
    {
     "data": {
      "application/vnd.jupyter.widget-view+json": {
       "model_id": "",
       "version_major": 2,
       "version_minor": 0
      },
      "text/plain": [
       "HBox(children=(IntProgress(value=0, description='Epoch 43', max=50000), HTML(value='')))"
      ]
     },
     "metadata": {},
     "output_type": "display_data"
    },
    {
     "data": {
      "application/vnd.jupyter.widget-view+json": {
       "model_id": "",
       "version_major": 2,
       "version_minor": 0
      },
      "text/plain": [
       "HBox(children=(IntProgress(value=0, description='Epoch 44', max=50000), HTML(value='')))"
      ]
     },
     "metadata": {},
     "output_type": "display_data"
    },
    {
     "data": {
      "application/vnd.jupyter.widget-view+json": {
       "model_id": "",
       "version_major": 2,
       "version_minor": 0
      },
      "text/plain": [
       "HBox(children=(IntProgress(value=0, description='Epoch 45', max=50000), HTML(value='')))"
      ]
     },
     "metadata": {},
     "output_type": "display_data"
    },
    {
     "data": {
      "application/vnd.jupyter.widget-view+json": {
       "model_id": "",
       "version_major": 2,
       "version_minor": 0
      },
      "text/plain": [
       "HBox(children=(IntProgress(value=0, description='Epoch 46', max=50000), HTML(value='')))"
      ]
     },
     "metadata": {},
     "output_type": "display_data"
    },
    {
     "data": {
      "application/vnd.jupyter.widget-view+json": {
       "model_id": "",
       "version_major": 2,
       "version_minor": 0
      },
      "text/plain": [
       "HBox(children=(IntProgress(value=0, description='Epoch 47', max=50000), HTML(value='')))"
      ]
     },
     "metadata": {},
     "output_type": "display_data"
    },
    {
     "data": {
      "application/vnd.jupyter.widget-view+json": {
       "model_id": "",
       "version_major": 2,
       "version_minor": 0
      },
      "text/plain": [
       "HBox(children=(IntProgress(value=0, description='Epoch 48', max=50000), HTML(value='')))"
      ]
     },
     "metadata": {},
     "output_type": "display_data"
    },
    {
     "data": {
      "application/vnd.jupyter.widget-view+json": {
       "model_id": "",
       "version_major": 2,
       "version_minor": 0
      },
      "text/plain": [
       "HBox(children=(IntProgress(value=0, description='Epoch 49', max=50000), HTML(value='')))"
      ]
     },
     "metadata": {},
     "output_type": "display_data"
    },
    {
     "name": "stdout",
     "output_type": "stream",
     "text": [
      "\n",
      "Elapsed:  495.19625091552734\n"
     ]
    }
   ],
   "source": [
    "start = time.time()\n",
    "\n",
    "early_stopping = keras.callbacks.EarlyStopping('val_loss', min_delta=0.1, patience=10)\n",
    "reduce_lr = keras.callbacks.ReduceLROnPlateau(monitor='val_loss', factor=0.5, patience=5, min_lr=0.01 * learning_rate)\n",
    "tensorboard = keras.callbacks.TensorBoard(histogram_freq=10, batch_size=32, write_graph=True, write_grads=True)\n",
    "\n",
    "callbacks=[early_stopping, reduce_lr]\n",
    "if 'CMDLINE' not in os.environ:\n",
    "    callbacks += [TQDMNotebookCallback()]\n",
    "\n",
    "history = vae.fit(\n",
    "    X_train, X_train,\n",
    "    batch_size=batch_size,\n",
    "    epochs=epochs,\n",
    "    callbacks=callbacks,\n",
    "    validation_data=(X_valid, X_valid),\n",
    "    verbose=0\n",
    ")\n",
    "\n",
    "done = time.time()\n",
    "elapsed = done - start\n",
    "print(\"Elapsed: \", elapsed)"
   ]
  },
  {
   "cell_type": "code",
   "execution_count": 13,
   "metadata": {
    "ExecuteTime": {
     "end_time": "2018-10-07T14:17:12.442788Z",
     "start_time": "2018-10-07T14:17:12.205544Z"
    }
   },
   "outputs": [
    {
     "data": {
      "text/html": [
       "<div>\n",
       "<style scoped>\n",
       "    .dataframe tbody tr th:only-of-type {\n",
       "        vertical-align: middle;\n",
       "    }\n",
       "\n",
       "    .dataframe tbody tr th {\n",
       "        vertical-align: top;\n",
       "    }\n",
       "\n",
       "    .dataframe thead th {\n",
       "        text-align: right;\n",
       "    }\n",
       "</style>\n",
       "<table border=\"1\" class=\"dataframe\">\n",
       "  <thead>\n",
       "    <tr style=\"text-align: right;\">\n",
       "      <th></th>\n",
       "      <th>val_loss</th>\n",
       "      <th>loss</th>\n",
       "      <th>lr</th>\n",
       "    </tr>\n",
       "  </thead>\n",
       "  <tbody>\n",
       "    <tr>\n",
       "      <th>count</th>\n",
       "      <td>50.000000</td>\n",
       "      <td>50.000000</td>\n",
       "      <td>50.000000</td>\n",
       "    </tr>\n",
       "    <tr>\n",
       "      <th>mean</th>\n",
       "      <td>95.815798</td>\n",
       "      <td>95.286105</td>\n",
       "      <td>0.000579</td>\n",
       "    </tr>\n",
       "    <tr>\n",
       "      <th>std</th>\n",
       "      <td>5.314803</td>\n",
       "      <td>9.749079</td>\n",
       "      <td>0.000386</td>\n",
       "    </tr>\n",
       "    <tr>\n",
       "      <th>min</th>\n",
       "      <td>92.543482</td>\n",
       "      <td>89.174324</td>\n",
       "      <td>0.000063</td>\n",
       "    </tr>\n",
       "    <tr>\n",
       "      <th>0%</th>\n",
       "      <td>92.543482</td>\n",
       "      <td>89.174324</td>\n",
       "      <td>0.000063</td>\n",
       "    </tr>\n",
       "    <tr>\n",
       "      <th>25%</th>\n",
       "      <td>92.860526</td>\n",
       "      <td>90.309928</td>\n",
       "      <td>0.000250</td>\n",
       "    </tr>\n",
       "    <tr>\n",
       "      <th>50%</th>\n",
       "      <td>93.505264</td>\n",
       "      <td>92.324394</td>\n",
       "      <td>0.000500</td>\n",
       "    </tr>\n",
       "    <tr>\n",
       "      <th>75%</th>\n",
       "      <td>96.832847</td>\n",
       "      <td>96.710079</td>\n",
       "      <td>0.001000</td>\n",
       "    </tr>\n",
       "    <tr>\n",
       "      <th>95%</th>\n",
       "      <td>103.606324</td>\n",
       "      <td>106.575243</td>\n",
       "      <td>0.001000</td>\n",
       "    </tr>\n",
       "    <tr>\n",
       "      <th>99%</th>\n",
       "      <td>116.886833</td>\n",
       "      <td>133.777679</td>\n",
       "      <td>0.001000</td>\n",
       "    </tr>\n",
       "    <tr>\n",
       "      <th>max</th>\n",
       "      <td>123.070685</td>\n",
       "      <td>151.792364</td>\n",
       "      <td>0.001000</td>\n",
       "    </tr>\n",
       "  </tbody>\n",
       "</table>\n",
       "</div>"
      ],
      "text/plain": [
       "         val_loss        loss         lr\n",
       "count   50.000000   50.000000  50.000000\n",
       "mean    95.815798   95.286105   0.000579\n",
       "std      5.314803    9.749079   0.000386\n",
       "min     92.543482   89.174324   0.000063\n",
       "0%      92.543482   89.174324   0.000063\n",
       "25%     92.860526   90.309928   0.000250\n",
       "50%     93.505264   92.324394   0.000500\n",
       "75%     96.832847   96.710079   0.001000\n",
       "95%    103.606324  106.575243   0.001000\n",
       "99%    116.886833  133.777679   0.001000\n",
       "max    123.070685  151.792364   0.001000"
      ]
     },
     "metadata": {},
     "output_type": "display_data"
    },
    {
     "data": {
      "text/plain": [
       "<matplotlib.axes._subplots.AxesSubplot at 0x7f717c66dda0>"
      ]
     },
     "execution_count": 13,
     "metadata": {},
     "output_type": "execute_result"
    },
    {
     "data": {
      "image/png": "[encoded data removed]",
      "text/plain": [
       "<Figure size 576x432 with 1 Axes>"
      ]
     },
     "metadata": {},
     "output_type": "display_data"
    }
   ],
   "source": [
    "df = pd.DataFrame(history.history)\n",
    "display(df.describe(percentiles=[0.25 * i for i in range(4)] + [0.95, 0.99]))\n",
    "df.plot(figsize=(8, 6))"
   ]
  },
  {
   "cell_type": "code",
   "execution_count": 14,
   "metadata": {
    "ExecuteTime": {
     "end_time": "2018-10-07T14:17:13.109719Z",
     "start_time": "2018-10-07T14:17:12.444417Z"
    }
   },
   "outputs": [
    {
     "name": "stdout",
     "output_type": "stream",
     "text": [
      "10000/10000 [==============================] - 1s 63us/step\n",
      "VLB = 92.33\n"
     ]
    }
   ],
   "source": [
    "# Eval logpx loss\n",
    "eval_result = vae.evaluate(x=X_test, y=X_test, batch_size=batch_size)\n",
    "\n",
    "print(\"VLB = %.2f\" % -eval_result)"
   ]
  },
  {
   "cell_type": "code",
   "execution_count": 15,
   "metadata": {
    "ExecuteTime": {
     "end_time": "2018-10-07T14:17:13.153141Z",
     "start_time": "2018-10-07T14:17:13.111762Z"
    }
   },
   "outputs": [],
   "source": [
    "def compute_samples(data, num_samples, debug=False):\n",
    "    \"\"\" Sample from importance distribution z_samples ~ q(z|X) and\n",
    "        compute p(z_samples), q(z_samples) for importance sampling\n",
    "    \"\"\"\n",
    "    z_mean, z_log_sigma = encoder.predict(data)\n",
    "    z_samples = []\n",
    "    qz = []\n",
    "    \n",
    "    for m, s in zip(z_mean, z_log_sigma):\n",
    "        z_vals = [np.random.normal(m[i], np.exp(s[i]), num_samples)\n",
    "                  for i in range(len(m))]\n",
    "        qz_vals = [norm.pdf(z_vals[i], loc=m[i], scale=np.exp(s[i]))\n",
    "                  for i in range(len(m))]\n",
    "        z_samples.append(z_vals)\n",
    "        qz.append(qz_vals)\n",
    "    \n",
    "    z_samples = np.array(z_samples)\n",
    "    pz = norm.pdf(z_samples)\n",
    "    qz = np.array(qz)\n",
    "    \n",
    "    z_samples = np.swapaxes(z_samples, 1, 2)\n",
    "    pz = np.swapaxes(pz, 1, 2)\n",
    "    qz = np.swapaxes(qz, 1, 2)\n",
    "   \n",
    "    if debug:\n",
    "        print(z_mean.shape, z_log_sigma.shape)\n",
    "        print('m, s', m[0], s[0])\n",
    "        print('samples', z_samples[-1][0])\n",
    "        print('pvals', pz[-1][0])\n",
    "        print('qvals', qz[-1][0])\n",
    "        \n",
    "        print(z_samples.shape)\n",
    "        print(pz.shape)\n",
    "        print(qz.shape)\n",
    "    \n",
    "    return z_samples, pz, qz\n",
    "    \n",
    "#compute_samples(X_test[:10], 4, debug=True);"
   ]
  },
  {
   "cell_type": "code",
   "execution_count": 16,
   "metadata": {
    "ExecuteTime": {
     "end_time": "2018-10-07T14:17:13.285716Z",
     "start_time": "2018-10-07T14:17:13.156880Z"
    }
   },
   "outputs": [],
   "source": [
    "def estimate_logpx_batch(data, num_samples, debug=False):\n",
    "    z_samples, pz, qz = compute_samples(data, num_samples)\n",
    "    assert len(z_samples) == len(data)\n",
    "    assert len(z_samples) == len(pz)\n",
    "    assert len(z_samples) == len(qz)\n",
    "    \n",
    "    # Calculate importance sample\n",
    "    # \\log p(x) = E_p[p(x|z)]\n",
    "    # = \\log(\\int p(x|z) p(z) dz)\n",
    "    # = \\log(\\int p(x|z) p(z) / q(z|x) q(z|x) dz)\n",
    "    # = E_q[p(x|z) p(z) / q(z|x)]\n",
    "    # ~= \\log(1/n * \\sum_i p(x|z_i) p(z_i)/q(z_i))\n",
    "    # = \\log p(x) = \\log(1/n * \\sum_i e^{\\log p(x|z_i) + \\log p(z_i) - \\log q(z_i)})\n",
    "    # = \\log p(x) = -\\logn + \\logsumexp_i(\\log p(x|z_i) + \\log p(z_i) - \\log q(z_i))\n",
    "    # See: scipy.special.logsumexp\n",
    "    result = []\n",
    "    for i in range(len(data)):\n",
    "        datum = data[i].reshape(784)\n",
    "        x_predict = decoder.predict(z_samples[i]).reshape(-1, 784)\n",
    "        x_predict = np.clip(x_predict, np.finfo(float).eps, 1. - np.finfo(float).eps)\n",
    "        p_vals = pz[i]\n",
    "        q_vals = qz[i]\n",
    "\n",
    "        # \\log p(x|z) = Binary cross entropy\n",
    "        logp_xz = np.sum(datum * np.log(x_predict) + (1. - datum) * np.log(1.0 - x_predict), axis=-1)\n",
    "        logpz = np.sum(np.log(p_vals), axis=-1)\n",
    "        logqz = np.sum(np.log(q_vals), axis=-1)\n",
    "        argsum = logp_xz + logpz - logqz\n",
    "        logpx = -np.log(num_samples) + logsumexp(argsum)\n",
    "        result.append(logpx)\n",
    "        \n",
    "        if debug:\n",
    "            print(x_predict.shape)\n",
    "            print(p_vals.shape)\n",
    "            print(q_vals.shape)\n",
    "            print(logp_xz.shape)\n",
    "            print(logpz.shape)\n",
    "            print(logqz.shape)\n",
    "            print(\"logp_xz\", logp_xz)\n",
    "            print(\"logpz\", logpz)\n",
    "            print(\"logqz\", logqz)\n",
    "            print(argsum.shape)\n",
    "            print(\"logpx\", logpx)\n",
    "            \n",
    "    return np.array(result)\n",
    "            \n",
    "#estimate_logpx_batch(X_test[:2], num_samples=128, debug=True)\n",
    "#pass"
   ]
  },
  {
   "cell_type": "code",
   "execution_count": 17,
   "metadata": {
    "ExecuteTime": {
     "end_time": "2018-10-07T14:19:48.218981Z",
     "start_time": "2018-10-07T14:17:13.290230Z"
    }
   },
   "outputs": [
    {
     "name": "stdout",
     "output_type": "stream",
     "text": [
      "Batch 0 [0, 100): -96.87\n",
      "Batch 10 [1000, 1100): -92.99\n",
      "Batch 20 [2000, 2100): -71.16\n",
      "Batch 30 [3000, 3100): -80.12\n",
      "Batch 40 [4000, 4100): -84.05\n",
      "Batch 50 [5000, 5100): -84.68\n",
      "Batch 60 [6000, 6100): -86.49\n",
      "Batch 70 [7000, 7100): -86.81\n",
      "Batch 80 [8000, 8100): -85.78\n",
      "Batch 90 [9000, 9100): -87.46\n",
      "log p(x) = -87.08\n"
     ]
    }
   ],
   "source": [
    "def estimate_logpx(data, num_samples, verbosity=0):\n",
    "    batches = []\n",
    "    iterations = int(np.ceil(1. * len(data) / batch_size))\n",
    "    for b in range(iterations):\n",
    "        batch_data = data[b * batch_size:(b+1) * batch_size]\n",
    "        batches.append(estimate_logpx_batch(batch_data, num_samples))\n",
    "        if verbosity and b % max(11 - verbosity, 1) == 0:\n",
    "            print(\"Batch %d [%d, %d): %.2f\" % (b, b*batch_size, (b+1) * batch_size, \n",
    "                                               np.mean(np.concatenate(batches))))\n",
    "            np.mean(np.concatenate(batches))        \n",
    "    return np.mean(np.concatenate(batches))\n",
    "    \n",
    "logpx = estimate_logpx(X_test, num_samples=128, verbosity=1)\n",
    "print(\"log p(x) = %.2f\" % logpx)"
   ]
  },
  {
   "cell_type": "code",
   "execution_count": 18,
   "metadata": {
    "ExecuteTime": {
     "end_time": "2018-10-07T14:19:48.457894Z",
     "start_time": "2018-10-07T14:19:48.221295Z"
    }
   },
   "outputs": [
    {
     "data": {
      "image/png": "[encoded data removed]",
      "text/plain": [
       "<Figure size 720x720 with 1 Axes>"
      ]
     },
     "metadata": {},
     "output_type": "display_data"
    }
   ],
   "source": [
    "import matplotlib.pyplot as plt\n",
    "n = 10\n",
    "digit_size = 28\n",
    "figure = np.zeros((digit_size * n, digit_size * n))\n",
    "\n",
    "for j in range(n):\n",
    "    z_sample = np.random.normal(size=latent_dim * batch_size).reshape(batch_size, latent_dim)\n",
    "    x_decoded = decoder.predict(z_sample, batch_size=batch_size)\n",
    "    digit = x_decoded.reshape(batch_size, digit_size, digit_size, img_chns)\n",
    "    for i in range(n):\n",
    "        d_x = i * digit_size\n",
    "        d_y = j * digit_size\n",
    "        figure[d_x:d_x + digit_size, d_y:d_y + digit_size] = digit[i, :, :, 0]\n",
    "        \n",
    "plt.figure(figsize=(10, 10))\n",
    "plt.imshow(figure, cmap='Greys_r')\n",
    "plt.show()"
   ]
  }
 ],
 "metadata": {
  "kernelspec": {
   "display_name": "Python 3",
   "language": "python",
   "name": "python3"
  },
  "language_info": {
   "codemirror_mode": {
    "name": "ipython",
    "version": 3
   },
   "file_extension": ".py",
   "mimetype": "text/x-python",
   "name": "python",
   "nbconvert_exporter": "python",
   "pygments_lexer": "ipython3",
   "version": "3.6.5"
  }
 },
 "nbformat": 4,
 "nbformat_minor": 2
}
