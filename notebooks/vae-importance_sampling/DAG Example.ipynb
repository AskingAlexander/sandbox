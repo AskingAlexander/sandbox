{
 "cells": [
  {
   "cell_type": "code",
   "execution_count": 11,
   "metadata": {
    "ExecuteTime": {
     "end_time": "2018-12-24T15:31:32.822871Z",
     "start_time": "2018-12-24T15:31:32.820643Z"
    }
   },
   "outputs": [],
   "source": [
    "import numpy as np\n",
    "import pandas as pd"
   ]
  },
  {
   "cell_type": "code",
   "execution_count": 12,
   "metadata": {
    "ExecuteTime": {
     "end_time": "2018-12-24T15:31:33.413436Z",
     "start_time": "2018-12-24T15:31:33.404531Z"
    }
   },
   "outputs": [
    {
     "name": "stdout",
     "output_type": "stream",
     "text": [
      "Task 1: duration: 4, depends on []\n",
      "Task 2: duration: 4, depends on [1]\n",
      "Task 3: duration: 2, depends on [1]\n",
      "Task 4: duration: 5, depends on [2]\n",
      "Task 5: duration: 2, depends on [2]\n",
      "Task 6: duration: 3, depends on [3]\n",
      "Task 7: duration: 2, depends on [3]\n",
      "Task 8: duration: 3, depends on [3]\n",
      "Task 9: duration: 2, depends on [5, 6, 7]\n",
      "Task 10: duration: 2, depends on [4, 8, 9]\n"
     ]
    }
   ],
   "source": [
    "# DAG\n",
    "dag = [\n",
    "     None, # dummy\n",
    "     {'depends': [], 'duration': 4},\n",
    "     {'depends': [1], 'duration': 4},\n",
    "     {'depends': [1], 'duration': 2},\n",
    "     {'depends': [2], 'duration': 5},\n",
    "     {'depends': [2], 'duration': 2},\n",
    "     {'depends': [3], 'duration': 3},\n",
    "     {'depends': [3], 'duration': 2},\n",
    "     {'depends': [3], 'duration': 3},\n",
    "     {'depends': [5, 6, 7], 'duration': 2},\n",
    "     {'depends': [4, 8, 9], 'duration': 2},\n",
    "]\n",
    "\n",
    "for i, task in enumerate(dag):\n",
    "    if task is not None:\n",
    "        print(\"Task {}: duration: {}, depends on {}\".format(i, task['duration'], task['depends']))"
   ]
  },
  {
   "cell_type": "code",
   "execution_count": 47,
   "metadata": {
    "ExecuteTime": {
     "end_time": "2018-12-24T15:41:26.443341Z",
     "start_time": "2018-12-24T15:41:25.936486Z"
    }
   },
   "outputs": [
    {
     "data": {
      "text/plain": [
       "array([ 0.        ,  4.00354502,  8.00482422,  6.002671  , 13.0075588 ,\n",
       "       10.00582025,  9.0035648 ,  8.002018  ,  9.00402842, 14.03045436,\n",
       "       18.22102487])"
      ]
     },
     "execution_count": 47,
     "metadata": {},
     "output_type": "execute_result"
    }
   ],
   "source": [
    "def simulate(n, dag):\n",
    "    samples = [None]\n",
    "    for task in dag:\n",
    "        if task is not None:\n",
    "            samples.append(numpy.random.exponential(task['duration'], n))\n",
    "   \n",
    "    times = np.zeros((len(dag), n))\n",
    "    for i, task in enumerate(dag):\n",
    "        if task is not None:\n",
    "            if task['depends']:\n",
    "                times[i, :] = np.max(times[task['depends'], :] + samples[i], axis=0)\n",
    "            else:\n",
    "                times[i, :] = samples[i]\n",
    "            \n",
    "    return np.mean(times, axis=1)\n",
    "        \n",
    "simulate(1000000, dag)"
   ]
  },
  {
   "cell_type": "code",
   "execution_count": null,
   "metadata": {},
   "outputs": [],
   "source": []
  },
  {
   "cell_type": "code",
   "execution_count": null,
   "metadata": {},
   "outputs": [],
   "source": []
  }
 ],
 "metadata": {
  "kernelspec": {
   "display_name": "Python 3",
   "language": "python",
   "name": "python3"
  },
  "language_info": {
   "codemirror_mode": {
    "name": "ipython",
    "version": 3
   },
   "file_extension": ".py",
   "mimetype": "text/x-python",
   "name": "python",
   "nbconvert_exporter": "python",
   "pygments_lexer": "ipython3",
   "version": "3.6.5"
  }
 },
 "nbformat": 4,
 "nbformat_minor": 2
}
